{
 "cells": [
  {
   "cell_type": "markdown",
   "metadata": {
    "application/vnd.databricks.v1+cell": {
     "cellMetadata": {
      "byteLimit": 2048000,
      "rowLimit": 10000
     },
     "inputWidgets": {},
     "nuid": "96816ed7-b08a-4ca3-abb9-f99880c3535d",
     "showTitle": false,
     "title": ""
    }
   },
   "source": [
    "\n",
    "## Overview\n",
    "\n",
    "This notebook will provide analyses and solutions to a set of questions related to the imported data.\n"
   ]
  },
  {
   "cell_type": "code",
   "execution_count": 0,
   "metadata": {
    "application/vnd.databricks.v1+cell": {
     "cellMetadata": {
      "byteLimit": 2048000,
      "rowLimit": 10000
     },
     "inputWidgets": {},
     "nuid": "a93dbf28-cea2-4df4-be1d-8641ecdbedda",
     "showTitle": false,
     "title": ""
    }
   },
   "outputs": [],
   "source": [
    "# +++++++++++++++++++++++++++++++++++++++++++\n",
    "#                 UTILS\n",
    "# +++++++++++++++++++++++++++++++++++++++++++\n",
    "def compare_dfs_on_one_column(df1, df2, col1_name, col2_name, derived_col_name): # Questions 1\n",
    "    col_df1 = df1.select(col1_name).distinct().sort(col1_name)\n",
    "    col_df2 = df2.select(col2_name).distinct().sort(col2_name).withColumnRenamed(col2_name, derived_col_name)\n",
    "    comparison_df = col_df1.join(col_df2, col_df1[col1_name] == col_df2[derived_col_name], \"outer\")\n",
    "    return(comparison_df)\n",
    "\n",
    "def get_column_values(df, colName):\n",
    "    return df.select(colName).distinct()\n",
    "\n",
    "def find_nulls(df, colName):\n",
    "    null_df = df.filter(col(colName).isNull()) \n",
    "    if null_df.count() == 0:\n",
    "        print(\"No Nulls Found for column: \" +  colName)\n",
    "        return null_df\n",
    "    return null_df\n",
    "    \n"
   ]
  },
  {
   "cell_type": "code",
   "execution_count": 0,
   "metadata": {
    "application/vnd.databricks.v1+cell": {
     "cellMetadata": {
      "byteLimit": 2048000,
      "rowLimit": 10000
     },
     "inputWidgets": {},
     "nuid": "6482be4c-f067-47c9-b0ac-35c938b94601",
     "showTitle": false,
     "title": ""
    }
   },
   "outputs": [
    {
     "output_type": "stream",
     "name": "stdout",
     "output_type": "stream",
     "text": [
      "Num dupes in world_rankings_df:  0\nNum dupes in world_rankings_df:  0\n---   CHECK FOR NULLS   ---\nUniversity Global Rankings\nNo Nulls Found for column: institution\n"
     ]
    },
    {
     "output_type": "display_data",
     "data": {
      "text/html": [
       "<style scoped>\n",
       "  .table-result-container {\n",
       "    max-height: 300px;\n",
       "    overflow: auto;\n",
       "  }\n",
       "  table, th, td {\n",
       "    border: 1px solid black;\n",
       "    border-collapse: collapse;\n",
       "  }\n",
       "  th, td {\n",
       "    padding: 5px;\n",
       "  }\n",
       "  th {\n",
       "    text-align: left;\n",
       "  }\n",
       "</style><div class='table-result-container'><table class='table-result'><thead style='background-color: white'><tr><th>world_rank</th><th>institution</th><th>country</th><th>national_rank</th><th>quality_of_education</th><th>alumni_employment</th><th>quality_of_faculty</th><th>publications</th><th>influence</th><th>citations</th><th>broad_impact</th><th>patents</th><th>score</th><th>year</th></tr></thead><tbody></tbody></table></div>"
      ]
     },
     "metadata": {
      "application/vnd.databricks.v1+output": {
       "addedWidgets": {},
       "aggData": [],
       "aggError": "",
       "aggOverflow": false,
       "aggSchema": [],
       "aggSeriesLimitReached": false,
       "aggType": "",
       "arguments": {},
       "columnCustomDisplayInfos": {},
       "data": [],
       "datasetInfos": [],
       "dbfsResultPath": null,
       "isJsonSchema": true,
       "metadata": {},
       "overflow": false,
       "plotOptions": {
        "customPlotOptions": {},
        "displayType": "table",
        "pivotAggregation": null,
        "pivotColumns": null,
        "xColumns": null,
        "yColumns": null
       },
       "removedWidgets": [],
       "schema": [
        {
         "metadata": "{}",
         "name": "world_rank",
         "type": "\"integer\""
        },
        {
         "metadata": "{}",
         "name": "institution",
         "type": "\"string\""
        },
        {
         "metadata": "{}",
         "name": "country",
         "type": "\"string\""
        },
        {
         "metadata": "{}",
         "name": "national_rank",
         "type": "\"integer\""
        },
        {
         "metadata": "{}",
         "name": "quality_of_education",
         "type": "\"integer\""
        },
        {
         "metadata": "{}",
         "name": "alumni_employment",
         "type": "\"integer\""
        },
        {
         "metadata": "{}",
         "name": "quality_of_faculty",
         "type": "\"integer\""
        },
        {
         "metadata": "{}",
         "name": "publications",
         "type": "\"integer\""
        },
        {
         "metadata": "{}",
         "name": "influence",
         "type": "\"integer\""
        },
        {
         "metadata": "{}",
         "name": "citations",
         "type": "\"integer\""
        },
        {
         "metadata": "{}",
         "name": "broad_impact",
         "type": "\"integer\""
        },
        {
         "metadata": "{}",
         "name": "patents",
         "type": "\"integer\""
        },
        {
         "metadata": "{}",
         "name": "score",
         "type": "\"double\""
        },
        {
         "metadata": "{}",
         "name": "year",
         "type": "\"integer\""
        }
       ],
       "type": "table"
      }
     },
     "output_type": "display_data"
    },
    {
     "output_type": "stream",
     "name": "stdout",
     "output_type": "stream",
     "text": [
      "No Nulls Found for column: world_rank\n"
     ]
    },
    {
     "output_type": "display_data",
     "data": {
      "text/html": [
       "<style scoped>\n",
       "  .table-result-container {\n",
       "    max-height: 300px;\n",
       "    overflow: auto;\n",
       "  }\n",
       "  table, th, td {\n",
       "    border: 1px solid black;\n",
       "    border-collapse: collapse;\n",
       "  }\n",
       "  th, td {\n",
       "    padding: 5px;\n",
       "  }\n",
       "  th {\n",
       "    text-align: left;\n",
       "  }\n",
       "</style><div class='table-result-container'><table class='table-result'><thead style='background-color: white'><tr><th>world_rank</th><th>institution</th><th>country</th><th>national_rank</th><th>quality_of_education</th><th>alumni_employment</th><th>quality_of_faculty</th><th>publications</th><th>influence</th><th>citations</th><th>broad_impact</th><th>patents</th><th>score</th><th>year</th></tr></thead><tbody></tbody></table></div>"
      ]
     },
     "metadata": {
      "application/vnd.databricks.v1+output": {
       "addedWidgets": {},
       "aggData": [],
       "aggError": "",
       "aggOverflow": false,
       "aggSchema": [],
       "aggSeriesLimitReached": false,
       "aggType": "",
       "arguments": {},
       "columnCustomDisplayInfos": {},
       "data": [],
       "datasetInfos": [],
       "dbfsResultPath": null,
       "isJsonSchema": true,
       "metadata": {},
       "overflow": false,
       "plotOptions": {
        "customPlotOptions": {},
        "displayType": "table",
        "pivotAggregation": null,
        "pivotColumns": null,
        "xColumns": null,
        "yColumns": null
       },
       "removedWidgets": [],
       "schema": [
        {
         "metadata": "{}",
         "name": "world_rank",
         "type": "\"integer\""
        },
        {
         "metadata": "{}",
         "name": "institution",
         "type": "\"string\""
        },
        {
         "metadata": "{}",
         "name": "country",
         "type": "\"string\""
        },
        {
         "metadata": "{}",
         "name": "national_rank",
         "type": "\"integer\""
        },
        {
         "metadata": "{}",
         "name": "quality_of_education",
         "type": "\"integer\""
        },
        {
         "metadata": "{}",
         "name": "alumni_employment",
         "type": "\"integer\""
        },
        {
         "metadata": "{}",
         "name": "quality_of_faculty",
         "type": "\"integer\""
        },
        {
         "metadata": "{}",
         "name": "publications",
         "type": "\"integer\""
        },
        {
         "metadata": "{}",
         "name": "influence",
         "type": "\"integer\""
        },
        {
         "metadata": "{}",
         "name": "citations",
         "type": "\"integer\""
        },
        {
         "metadata": "{}",
         "name": "broad_impact",
         "type": "\"integer\""
        },
        {
         "metadata": "{}",
         "name": "patents",
         "type": "\"integer\""
        },
        {
         "metadata": "{}",
         "name": "score",
         "type": "\"double\""
        },
        {
         "metadata": "{}",
         "name": "year",
         "type": "\"integer\""
        }
       ],
       "type": "table"
      }
     },
     "output_type": "display_data"
    },
    {
     "output_type": "stream",
     "name": "stdout",
     "output_type": "stream",
     "text": [
      "No Nulls Found for column: national_rank\n"
     ]
    },
    {
     "output_type": "display_data",
     "data": {
      "text/html": [
       "<style scoped>\n",
       "  .table-result-container {\n",
       "    max-height: 300px;\n",
       "    overflow: auto;\n",
       "  }\n",
       "  table, th, td {\n",
       "    border: 1px solid black;\n",
       "    border-collapse: collapse;\n",
       "  }\n",
       "  th, td {\n",
       "    padding: 5px;\n",
       "  }\n",
       "  th {\n",
       "    text-align: left;\n",
       "  }\n",
       "</style><div class='table-result-container'><table class='table-result'><thead style='background-color: white'><tr><th>world_rank</th><th>institution</th><th>country</th><th>national_rank</th><th>quality_of_education</th><th>alumni_employment</th><th>quality_of_faculty</th><th>publications</th><th>influence</th><th>citations</th><th>broad_impact</th><th>patents</th><th>score</th><th>year</th></tr></thead><tbody></tbody></table></div>"
      ]
     },
     "metadata": {
      "application/vnd.databricks.v1+output": {
       "addedWidgets": {},
       "aggData": [],
       "aggError": "",
       "aggOverflow": false,
       "aggSchema": [],
       "aggSeriesLimitReached": false,
       "aggType": "",
       "arguments": {},
       "columnCustomDisplayInfos": {},
       "data": [],
       "datasetInfos": [],
       "dbfsResultPath": null,
       "isJsonSchema": true,
       "metadata": {},
       "overflow": false,
       "plotOptions": {
        "customPlotOptions": {},
        "displayType": "table",
        "pivotAggregation": null,
        "pivotColumns": null,
        "xColumns": null,
        "yColumns": null
       },
       "removedWidgets": [],
       "schema": [
        {
         "metadata": "{}",
         "name": "world_rank",
         "type": "\"integer\""
        },
        {
         "metadata": "{}",
         "name": "institution",
         "type": "\"string\""
        },
        {
         "metadata": "{}",
         "name": "country",
         "type": "\"string\""
        },
        {
         "metadata": "{}",
         "name": "national_rank",
         "type": "\"integer\""
        },
        {
         "metadata": "{}",
         "name": "quality_of_education",
         "type": "\"integer\""
        },
        {
         "metadata": "{}",
         "name": "alumni_employment",
         "type": "\"integer\""
        },
        {
         "metadata": "{}",
         "name": "quality_of_faculty",
         "type": "\"integer\""
        },
        {
         "metadata": "{}",
         "name": "publications",
         "type": "\"integer\""
        },
        {
         "metadata": "{}",
         "name": "influence",
         "type": "\"integer\""
        },
        {
         "metadata": "{}",
         "name": "citations",
         "type": "\"integer\""
        },
        {
         "metadata": "{}",
         "name": "broad_impact",
         "type": "\"integer\""
        },
        {
         "metadata": "{}",
         "name": "patents",
         "type": "\"integer\""
        },
        {
         "metadata": "{}",
         "name": "score",
         "type": "\"double\""
        },
        {
         "metadata": "{}",
         "name": "year",
         "type": "\"integer\""
        }
       ],
       "type": "table"
      }
     },
     "output_type": "display_data"
    },
    {
     "output_type": "stream",
     "name": "stdout",
     "output_type": "stream",
     "text": [
      "No Nulls Found for column: year\n"
     ]
    },
    {
     "output_type": "display_data",
     "data": {
      "text/html": [
       "<style scoped>\n",
       "  .table-result-container {\n",
       "    max-height: 300px;\n",
       "    overflow: auto;\n",
       "  }\n",
       "  table, th, td {\n",
       "    border: 1px solid black;\n",
       "    border-collapse: collapse;\n",
       "  }\n",
       "  th, td {\n",
       "    padding: 5px;\n",
       "  }\n",
       "  th {\n",
       "    text-align: left;\n",
       "  }\n",
       "</style><div class='table-result-container'><table class='table-result'><thead style='background-color: white'><tr><th>world_rank</th><th>institution</th><th>country</th><th>national_rank</th><th>quality_of_education</th><th>alumni_employment</th><th>quality_of_faculty</th><th>publications</th><th>influence</th><th>citations</th><th>broad_impact</th><th>patents</th><th>score</th><th>year</th></tr></thead><tbody></tbody></table></div>"
      ]
     },
     "metadata": {
      "application/vnd.databricks.v1+output": {
       "addedWidgets": {},
       "aggData": [],
       "aggError": "",
       "aggOverflow": false,
       "aggSchema": [],
       "aggSeriesLimitReached": false,
       "aggType": "",
       "arguments": {},
       "columnCustomDisplayInfos": {},
       "data": [],
       "datasetInfos": [],
       "dbfsResultPath": null,
       "isJsonSchema": true,
       "metadata": {},
       "overflow": false,
       "plotOptions": {
        "customPlotOptions": {},
        "displayType": "table",
        "pivotAggregation": null,
        "pivotColumns": null,
        "xColumns": null,
        "yColumns": null
       },
       "removedWidgets": [],
       "schema": [
        {
         "metadata": "{}",
         "name": "world_rank",
         "type": "\"integer\""
        },
        {
         "metadata": "{}",
         "name": "institution",
         "type": "\"string\""
        },
        {
         "metadata": "{}",
         "name": "country",
         "type": "\"string\""
        },
        {
         "metadata": "{}",
         "name": "national_rank",
         "type": "\"integer\""
        },
        {
         "metadata": "{}",
         "name": "quality_of_education",
         "type": "\"integer\""
        },
        {
         "metadata": "{}",
         "name": "alumni_employment",
         "type": "\"integer\""
        },
        {
         "metadata": "{}",
         "name": "quality_of_faculty",
         "type": "\"integer\""
        },
        {
         "metadata": "{}",
         "name": "publications",
         "type": "\"integer\""
        },
        {
         "metadata": "{}",
         "name": "influence",
         "type": "\"integer\""
        },
        {
         "metadata": "{}",
         "name": "citations",
         "type": "\"integer\""
        },
        {
         "metadata": "{}",
         "name": "broad_impact",
         "type": "\"integer\""
        },
        {
         "metadata": "{}",
         "name": "patents",
         "type": "\"integer\""
        },
        {
         "metadata": "{}",
         "name": "score",
         "type": "\"double\""
        },
        {
         "metadata": "{}",
         "name": "year",
         "type": "\"integer\""
        }
       ],
       "type": "table"
      }
     },
     "output_type": "display_data"
    },
    {
     "output_type": "stream",
     "name": "stdout",
     "output_type": "stream",
     "text": [
      "University Data\nNo Nulls Found for column: world_rank\nNo Nulls Found for column: school\nNo Nulls Found for column: country\nNo Nulls Found for column: year\nCollege Admissions\nNo Nulls Found for column: Name\nNo Nulls Found for column: Applicants total\nNo Nulls Found for column: Admissions total\nNo Nulls Found for column: Enrolled total\nNo Nulls Found for column: State abbreviation\nCollege Data\nNo Nulls Found for column: Name\nNo Nulls Found for column: Applicants total\nNo Nulls Found for column: Admissions total\nNo Nulls Found for column: Enrolled total\nNo Nulls Found for column: State abbreviation\n---   CHECK FOR MISSING DATA WHEN COMBINING DFS   ---\n---   Here, we're combining all of the dataframes.  ---\nworld_rankings df college count BEFORE MERGE:  2200\ncollege_admissions_applicants df college count BEFORE MERGE:  1377\nworld_rankings df college count AFTER MERGE:  2394\ncollege_admissions_applicants df college count AFTER MERGE:  2154\n---   CHECK FOR DISCREPANCIES IN COMBNINED DATAFRAMES   ---\nOriginal Global Rank DF Distinct Colleges ('Universities_Global_Ranking.csv') | Merged DF Distinct Colleges ('Universities_Global_Ranking.csv' + 'Universities_Data.csv')\n"
     ]
    },
    {
     "output_type": "display_data",
     "data": {
      "text/html": [
       "<style scoped>\n",
       "  .table-result-container {\n",
       "    max-height: 300px;\n",
       "    overflow: auto;\n",
       "  }\n",
       "  table, th, td {\n",
       "    border: 1px solid black;\n",
       "    border-collapse: collapse;\n",
       "  }\n",
       "  th, td {\n",
       "    padding: 5px;\n",
       "  }\n",
       "  th {\n",
       "    text-align: left;\n",
       "  }\n",
       "</style><div class='table-result-container'><table class='table-result'><thead style='background-color: white'><tr><th>institution</th><th>world_rank</th><th>country</th><th>year</th><th>count</th></tr></thead><tbody><tr><td>AGH University of Science and Technology</td><td>653</td><td>Poland</td><td>2014</td><td>2</td></tr><tr><td>AGH University of Science and Technology</td><td>782</td><td>Poland</td><td>2015</td><td>2</td></tr><tr><td>Aalborg University</td><td>593</td><td>Denmark</td><td>2014</td><td>2</td></tr><tr><td>Aalborg University</td><td>565</td><td>Denmark</td><td>2015</td><td>2</td></tr><tr><td>Aalto University</td><td>392</td><td>Finland</td><td>2014</td><td>2</td></tr><tr><td>Aalto University</td><td>421</td><td>Finland</td><td>2015</td><td>2</td></tr><tr><td>Aarhus University</td><td>119</td><td>Denmark</td><td>2014</td><td>2</td></tr><tr><td>Aarhus University</td><td>122</td><td>Denmark</td><td>2015</td><td>2</td></tr><tr><td>Aberystwyth University</td><td>800</td><td>United Kingdom</td><td>2014</td><td>2</td></tr><tr><td>Aberystwyth University</td><td>814</td><td>United Kingdom</td><td>2015</td><td>2</td></tr><tr><td>Adam Mickiewicz University in Poznań</td><td>878</td><td>Poland</td><td>2014</td><td>2</td></tr><tr><td>Adam Mickiewicz University in Poznań</td><td>890</td><td>Poland</td><td>2015</td><td>2</td></tr><tr><td>Ain Shams University</td><td>965</td><td>Egypt</td><td>2014</td><td>2</td></tr><tr><td>Ain Shams University</td><td>965</td><td>Egypt</td><td>2015</td><td>2</td></tr><tr><td>Aix-Marseille University</td><td>224</td><td>France</td><td>2014</td><td>2</td></tr><tr><td>Aix-Marseille University</td><td>206</td><td>France</td><td>2015</td><td>2</td></tr><tr><td>Ajou University</td><td>447</td><td>South Korea</td><td>2014</td><td>2</td></tr><tr><td>Ajou University</td><td>433</td><td>South Korea</td><td>2015</td><td>2</td></tr><tr><td>Albany Medical College</td><td>623</td><td>USA</td><td>2014</td><td>2</td></tr><tr><td>Albany Medical College</td><td>650</td><td>USA</td><td>2015</td><td>2</td></tr><tr><td>Albert Ludwig University of Freiburg</td><td>135</td><td>Germany</td><td>2014</td><td>2</td></tr><tr><td>Albert Ludwig University of Freiburg</td><td>155</td><td>Germany</td><td>2015</td><td>2</td></tr><tr><td>Alexandria University</td><td>951</td><td>Egypt</td><td>2014</td><td>2</td></tr><tr><td>Alexandria University</td><td>997</td><td>Egypt</td><td>2015</td><td>2</td></tr><tr><td>All India Institute of Medical Sciences, New Delhi</td><td>868</td><td>India</td><td>2014</td><td>2</td></tr><tr><td>All India Institute of Medical Sciences, New Delhi</td><td>851</td><td>India</td><td>2015</td><td>2</td></tr><tr><td>American University of Beirut</td><td>561</td><td>Lebanon</td><td>2014</td><td>2</td></tr><tr><td>American University of Beirut</td><td>682</td><td>Lebanon</td><td>2015</td><td>2</td></tr><tr><td>Amirkabir University of Technology</td><td>959</td><td>Iran</td><td>2014</td><td>2</td></tr><tr><td>Amirkabir University of Technology</td><td>958</td><td>Iran</td><td>2015</td><td>2</td></tr><tr><td>Ankara University</td><td>788</td><td>Turkey</td><td>2014</td><td>2</td></tr><tr><td>Ankara University</td><td>725</td><td>Turkey</td><td>2015</td><td>2</td></tr><tr><td>Aristotle University of Thessaloniki</td><td>478</td><td>Greece</td><td>2014</td><td>2</td></tr><tr><td>Aristotle University of Thessaloniki</td><td>459</td><td>Greece</td><td>2015</td><td>2</td></tr><tr><td>Arizona State University</td><td>161</td><td>United States of America</td><td>2011</td><td>10</td></tr><tr><td>Arizona State University</td><td>80</td><td>USA</td><td>2012</td><td>10</td></tr><tr><td>Arizona State University</td><td>127</td><td>United States of America</td><td>2012</td><td>10</td></tr><tr><td>Arizona State University</td><td>73</td><td>USA</td><td>2013</td><td>10</td></tr><tr><td>Arizona State University</td><td>148</td><td>United States of America</td><td>2013</td><td>10</td></tr><tr><td>Arizona State University</td><td>106</td><td>USA</td><td>2014</td><td>10</td></tr><tr><td>Arizona State University</td><td>146</td><td>United States of America</td><td>2014</td><td>10</td></tr><tr><td>Arizona State University</td><td>97</td><td>USA</td><td>2015</td><td>10</td></tr><tr><td>Arizona State University</td><td>182</td><td>United States of America</td><td>2015</td><td>10</td></tr><tr><td>Arizona State University</td><td>189</td><td>United States of America</td><td>2016</td><td>10</td></tr><tr><td>Aston University</td><td>707</td><td>United Kingdom</td><td>2014</td><td>2</td></tr><tr><td>Aston University</td><td>720</td><td>United Kingdom</td><td>2015</td><td>2</td></tr><tr><td>Auburn University</td><td>548</td><td>USA</td><td>2014</td><td>2</td></tr><tr><td>Auburn University</td><td>549</td><td>USA</td><td>2015</td><td>2</td></tr><tr><td>Australian National University</td><td>96</td><td>Australia</td><td>2013</td><td>3</td></tr><tr><td>Australian National University</td><td>160</td><td>Australia</td><td>2014</td><td>3</td></tr><tr><td>Australian National University</td><td>179</td><td>Australia</td><td>2015</td><td>3</td></tr><tr><td>Autonomous University of Barcelona</td><td>254</td><td>Spain</td><td>2014</td><td>2</td></tr><tr><td>Autonomous University of Barcelona</td><td>241</td><td>Spain</td><td>2015</td><td>2</td></tr><tr><td>Autonomous University of Madrid</td><td>309</td><td>Spain</td><td>2014</td><td>2</td></tr><tr><td>Autonomous University of Madrid</td><td>304</td><td>Spain</td><td>2015</td><td>2</td></tr><tr><td>Babeș-Bolyai University</td><td>987</td><td>Romania</td><td>2015</td><td>1</td></tr><tr><td>Banaras Hindu University</td><td>667</td><td>India</td><td>2014</td><td>2</td></tr><tr><td>Banaras Hindu University</td><td>679</td><td>India</td><td>2015</td><td>2</td></tr><tr><td>Bangor University</td><td>552</td><td>United Kingdom</td><td>2014</td><td>2</td></tr><tr><td>Bangor University</td><td>568</td><td>United Kingdom</td><td>2015</td><td>2</td></tr><tr><td>Bar-Ilan University</td><td>503</td><td>Israel</td><td>2014</td><td>2</td></tr><tr><td>Bar-Ilan University</td><td>521</td><td>Israel</td><td>2015</td><td>2</td></tr><tr><td>Baylor College of Medicine</td><td>121</td><td>USA</td><td>2014</td><td>2</td></tr><tr><td>Baylor College of Medicine</td><td>121</td><td>USA</td><td>2015</td><td>2</td></tr><tr><td>Baylor University</td><td>473</td><td>USA</td><td>2014</td><td>2</td></tr><tr><td>Baylor University</td><td>567</td><td>USA</td><td>2015</td><td>2</td></tr><tr><td>Beihang University</td><td>560</td><td>China</td><td>2014</td><td>2</td></tr><tr><td>Beihang University</td><td>705</td><td>China</td><td>2015</td><td>2</td></tr><tr><td>Beijing Institute of Technology</td><td>816</td><td>China</td><td>2014</td><td>2</td></tr><tr><td>Beijing Institute of Technology</td><td>749</td><td>China</td><td>2015</td><td>2</td></tr><tr><td>Beijing Jiaotong University</td><td>960</td><td>China</td><td>2014</td><td>1</td></tr><tr><td>Beijing Normal University</td><td>385</td><td>China</td><td>2014</td><td>2</td></tr><tr><td>Beijing Normal University</td><td>396</td><td>China</td><td>2015</td><td>2</td></tr><tr><td>Beijing University of Chemical Technology</td><td>685</td><td>China</td><td>2014</td><td>2</td></tr><tr><td>Beijing University of Chemical Technology</td><td>642</td><td>China</td><td>2015</td><td>2</td></tr><tr><td>Beijing University of Technology</td><td>985</td><td>China</td><td>2014</td><td>2</td></tr><tr><td>Beijing University of Technology</td><td>977</td><td>China</td><td>2015</td><td>2</td></tr><tr><td>Ben-Gurion University of the Negev</td><td>362</td><td>Israel</td><td>2014</td><td>2</td></tr><tr><td>Ben-Gurion University of the Negev</td><td>349</td><td>Israel</td><td>2015</td><td>2</td></tr><tr><td>Bielefeld University</td><td>491</td><td>Germany</td><td>2014</td><td>2</td></tr><tr><td>Bielefeld University</td><td>464</td><td>Germany</td><td>2015</td><td>2</td></tr><tr><td>Bilkent University</td><td>856</td><td>Turkey</td><td>2014</td><td>2</td></tr><tr><td>Bilkent University</td><td>842</td><td>Turkey</td><td>2015</td><td>2</td></tr><tr><td>Binghamton University</td><td>606</td><td>USA</td><td>2014</td><td>2</td></tr><tr><td>Binghamton University</td><td>647</td><td>USA</td><td>2015</td><td>2</td></tr><tr><td>Birkbeck, University of London</td><td>624</td><td>United Kingdom</td><td>2014</td><td>2</td></tr><tr><td>Birkbeck, University of London</td><td>698</td><td>United Kingdom</td><td>2015</td><td>2</td></tr><tr><td>Blaise Pascal University</td><td>789</td><td>France</td><td>2014</td><td>2</td></tr><tr><td>Blaise Pascal University</td><td>769</td><td>France</td><td>2015</td><td>2</td></tr><tr><td>Boston College</td><td>332</td><td>USA</td><td>2014</td><td>2</td></tr><tr><td>Boston College</td><td>326</td><td>USA</td><td>2015</td><td>2</td></tr><tr><td>Boston University</td><td>59</td><td>United States of America</td><td>2011</td><td>10</td></tr><tr><td>Boston University</td><td>62</td><td>USA</td><td>2012</td><td>10</td></tr><tr><td>Boston University</td><td>54</td><td>United States of America</td><td>2012</td><td>10</td></tr><tr><td>Boston University</td><td>54</td><td>USA</td><td>2013</td><td>10</td></tr><tr><td>Boston University</td><td>54</td><td>United States of America</td><td>2013</td><td>10</td></tr><tr><td>Boston University</td><td>67</td><td>USA</td><td>2014</td><td>10</td></tr><tr><td>Boston University</td><td>50</td><td>United States of America</td><td>2014</td><td>10</td></tr><tr><td>Boston University</td><td>66</td><td>USA</td><td>2015</td><td>10</td></tr><tr><td>Boston University</td><td>57</td><td>United States of America</td><td>2015</td><td>10</td></tr><tr><td>Boston University</td><td>64</td><td>United States of America</td><td>2016</td><td>10</td></tr><tr><td>Bowling Green State University</td><td>793</td><td>USA</td><td>2014</td><td>2</td></tr><tr><td>Bowling Green State University</td><td>809</td><td>USA</td><td>2015</td><td>2</td></tr><tr><td>Boğaziçi University</td><td>903</td><td>Turkey</td><td>2014</td><td>2</td></tr><tr><td>Boğaziçi University</td><td>837</td><td>Turkey</td><td>2015</td><td>2</td></tr><tr><td>Brandeis University</td><td>150</td><td>United States of America</td><td>2012</td><td>6</td></tr><tr><td>Brandeis University</td><td>236</td><td>USA</td><td>2014</td><td>6</td></tr><tr><td>Brandeis University</td><td>164</td><td>United States of America</td><td>2014</td><td>6</td></tr><tr><td>Brandeis University</td><td>274</td><td>USA</td><td>2015</td><td>6</td></tr><tr><td>Brandeis University</td><td>147</td><td>United States of America</td><td>2015</td><td>6</td></tr><tr><td>Brandeis University</td><td>185</td><td>United States of America</td><td>2016</td><td>6</td></tr><tr><td>Braunschweig University of Technology</td><td>634</td><td>Germany</td><td>2014</td><td>2</td></tr><tr><td>Braunschweig University of Technology</td><td>636</td><td>Germany</td><td>2015</td><td>2</td></tr><tr><td>Brigham Young University</td><td>415</td><td>USA</td><td>2014</td><td>2</td></tr><tr><td>Brigham Young University</td><td>403</td><td>USA</td><td>2015</td><td>2</td></tr><tr><td>Brock University</td><td>884</td><td>Canada</td><td>2014</td><td>2</td></tr><tr><td>Brock University</td><td>861</td><td>Canada</td><td>2015</td><td>2</td></tr><tr><td>Brown University</td><td>66</td><td>USA</td><td>2012</td><td>4</td></tr><tr><td>Brown University</td><td>77</td><td>USA</td><td>2013</td><td>4</td></tr><tr><td>Brown University</td><td>81</td><td>USA</td><td>2014</td><td>4</td></tr><tr><td>Brown University</td><td>83</td><td>USA</td><td>2015</td><td>4</td></tr><tr><td>Brunel University</td><td>409</td><td>United Kingdom</td><td>2014</td><td>2</td></tr><tr><td>Brunel University</td><td>472</td><td>United Kingdom</td><td>2015</td><td>2</td></tr><tr><td>Budapest University of Technology and Economics</td><td>811</td><td>Hungary</td><td>2014</td><td>2</td></tr><tr><td>Budapest University of Technology and Economics</td><td>819</td><td>Hungary</td><td>2015</td><td>2</td></tr><tr><td>Cairo University</td><td>802</td><td>Egypt</td><td>2014</td><td>2</td></tr><tr><td>Cairo University</td><td>796</td><td>Egypt</td><td>2015</td><td>2</td></tr><tr><td>California Institute of Technology</td><td>5</td><td>USA</td><td>2012</td><td>4</td></tr><tr><td>California Institute of Technology</td><td>11</td><td>USA</td><td>2013</td><td>4</td></tr><tr><td>California Institute of Technology</td><td>12</td><td>USA</td><td>2014</td><td>4</td></tr><tr><td>California Institute of Technology</td><td>12</td><td>USA</td><td>2015</td><td>4</td></tr><tr><td>Capital Medical University</td><td>824</td><td>China</td><td>2014</td><td>2</td></tr><tr><td>Capital Medical University</td><td>788</td><td>China</td><td>2015</td><td>2</td></tr><tr><td>Cardiff University</td><td>209</td><td>United Kingdom</td><td>2014</td><td>2</td></tr><tr><td>Cardiff University</td><td>201</td><td>United Kingdom</td><td>2015</td><td>2</td></tr><tr><td>Carleton University</td><td>627</td><td>Canada</td><td>2014</td><td>2</td></tr><tr><td>Carleton University</td><td>593</td><td>Canada</td><td>2015</td><td>2</td></tr><tr><td>Carlos III University of Madrid</td><td>915</td><td>Spain</td><td>2014</td><td>2</td></tr><tr><td>Carlos III University of Madrid</td><td>927</td><td>Spain</td><td>2015</td><td>2</td></tr><tr><td>Carnegie Mellon University</td><td>20</td><td>United States of America</td><td>2011</td><td>10</td></tr><tr><td>Carnegie Mellon University</td><td>43</td><td>USA</td><td>2012</td><td>10</td></tr><tr><td>Carnegie Mellon University</td><td>21</td><td>United States of America</td><td>2012</td><td>10</td></tr><tr><td>Carnegie Mellon University</td><td>51</td><td>USA</td><td>2013</td><td>10</td></tr><tr><td>Carnegie Mellon University</td><td>22</td><td>United States of America</td><td>2013</td><td>10</td></tr><tr><td>Carnegie Mellon University</td><td>54</td><td>USA</td><td>2014</td><td>10</td></tr><tr><td>Carnegie Mellon University</td><td>24</td><td>United States of America</td><td>2014</td><td>10</td></tr><tr><td>Carnegie Mellon University</td><td>61</td><td>USA</td><td>2015</td><td>10</td></tr><tr><td>Carnegie Mellon University</td><td>24</td><td>United States of America</td><td>2015</td><td>10</td></tr><tr><td>Carnegie Mellon University</td><td>22</td><td>United States of America</td><td>2016</td><td>10</td></tr><tr><td>Case Western Reserve University</td><td>65</td><td>United States of America</td><td>2011</td><td>9</td></tr><tr><td>Case Western Reserve University</td><td>78</td><td>USA</td><td>2012</td><td>9</td></tr><tr><td>Case Western Reserve University</td><td>93</td><td>United States of America</td><td>2012</td><td>9</td></tr><tr><td>Case Western Reserve University</td><td>104</td><td>United States of America</td><td>2013</td><td>9</td></tr><tr><td>Case Western Reserve University</td><td>102</td><td>USA</td><td>2014</td><td>9</td></tr><tr><td>Case Western Reserve University</td><td>88</td><td>United States of America</td><td>2014</td><td>9</td></tr><tr><td>Case Western Reserve University</td><td>105</td><td>USA</td><td>2015</td><td>9</td></tr><tr><td>Case Western Reserve University</td><td>116</td><td>United States of America</td><td>2015</td><td>9</td></tr><tr><td>Case Western Reserve University</td><td>133</td><td>United States of America</td><td>2016</td><td>9</td></tr><tr><td>Catholic University of Korea</td><td>629</td><td>South Korea</td><td>2014</td><td>2</td></tr><tr><td>Catholic University of Korea</td><td>511</td><td>South Korea</td><td>2015</td><td>2</td></tr><tr><td>Catholic University of the Sacred Heart</td><td>414</td><td>Italy</td><td>2014</td><td>2</td></tr><tr><td>Catholic University of the Sacred Heart</td><td>387</td><td>Italy</td><td>2015</td><td>2</td></tr><tr><td>Central China Normal University</td><td>610</td><td>China</td><td>2014</td><td>2</td></tr><tr><td>Central China Normal University</td><td>572</td><td>China</td><td>2015</td><td>2</td></tr><tr><td>Central South University</td><td>465</td><td>China</td><td>2014</td><td>2</td></tr><tr><td>Central South University</td><td>438</td><td>China</td><td>2015</td><td>2</td></tr><tr><td>Chalmers University of Technology</td><td>395</td><td>Sweden</td><td>2014</td><td>2</td></tr><tr><td>Chalmers University of Technology</td><td>402</td><td>Sweden</td><td>2015</td><td>2</td></tr><tr><td>Chang Gung University</td><td>595</td><td>Taiwan</td><td>2014</td><td>2</td></tr><tr><td>Chang Gung University</td><td>563</td><td>Taiwan</td><td>2015</td><td>2</td></tr><tr><td>Charles Darwin University</td><td>910</td><td>Australia</td><td>2014</td><td>2</td></tr><tr><td>Charles Darwin University</td><td>942</td><td>Australia</td><td>2015</td><td>2</td></tr><tr><td>Charles University in Prague</td><td>313</td><td>Czech Republic</td><td>2014</td><td>2</td></tr><tr><td>Charles University in Prague</td><td>270</td><td>Czech Republic</td><td>2015</td><td>2</td></tr><tr><td>Chemnitz University of Technology</td><td>920</td><td>Germany</td><td>2014</td><td>1</td></tr><tr><td>Chiang Mai University</td><td>871</td><td>Thailand</td><td>2014</td><td>2</td></tr><tr><td>Chiang Mai University</td><td>818</td><td>Thailand</td><td>2015</td><td>2</td></tr><tr><td>Chiba University</td><td>386</td><td>Japan</td><td>2014</td><td>2</td></tr><tr><td>Chiba University</td><td>418</td><td>Japan</td><td>2015</td><td>2</td></tr><tr><td>China Agricultural University</td><td>700</td><td>China</td><td>2014</td><td>2</td></tr><tr><td>China Agricultural University</td><td>627</td><td>China</td><td>2015</td><td>2</td></tr><tr><td>China Medical University (PRC)</td><td>982</td><td>China</td><td>2014</td><td>2</td></tr><tr><td>China Medical University (PRC)</td><td>982</td><td>China</td><td>2015</td><td>2</td></tr><tr><td>China Medical University (Taiwan)</td><td>798</td><td>Taiwan</td><td>2014</td><td>2</td></tr><tr><td>China Medical University (Taiwan)</td><td>708</td><td>Taiwan</td><td>2015</td><td>2</td></tr><tr><td>China Pharmaceutical University</td><td>975</td><td>China</td><td>2014</td><td>2</td></tr><tr><td>China Pharmaceutical University</td><td>1000</td><td>China</td><td>2015</td><td>2</td></tr><tr><td>China University of Geosciences (Wuhan)</td><td>904</td><td>China</td><td>2015</td><td>1</td></tr><tr><td>Chinese University of Hong Kong</td><td>202</td><td>Hong Kong</td><td>2014</td><td>2</td></tr><tr><td>Chinese University of Hong Kong</td><td>220</td><td>Hong Kong</td><td>2015</td><td>2</td></tr><tr><td>Chonbuk National University</td><td>406</td><td>South Korea</td><td>2014</td><td>2</td></tr><tr><td>Chonbuk National University</td><td>422</td><td>South Korea</td><td>2015</td><td>2</td></tr><tr><td>Chongqing University</td><td>815</td><td>China</td><td>2014</td><td>2</td></tr><tr><td>Chongqing University</td><td>774</td><td>China</td><td>2015</td><td>2</td></tr><tr><td>Chonnam National University</td><td>400</td><td>South Korea</td><td>2014</td><td>2</td></tr><tr><td>Chonnam National University</td><td>384</td><td>South Korea</td><td>2015</td><td>2</td></tr><tr><td>Chosun University</td><td>837</td><td>South Korea</td><td>2014</td><td>2</td></tr><tr><td>Chosun University</td><td>878</td><td>South Korea</td><td>2015</td><td>2</td></tr><tr><td>Chulalongkorn University</td><td>283</td><td>Thailand</td><td>2014</td><td>2</td></tr><tr><td>Chulalongkorn University</td><td>311</td><td>Thailand</td><td>2015</td><td>2</td></tr><tr><td>Chung Shan Medical University</td><td>950</td><td>Taiwan</td><td>2014</td><td>2</td></tr><tr><td>Chung Shan Medical University</td><td>967</td><td>Taiwan</td><td>2015</td><td>2</td></tr><tr><td>Chung Yuan Christian University</td><td>696</td><td>Taiwan</td><td>2014</td><td>2</td></tr><tr><td>Chung Yuan Christian University</td><td>875</td><td>Taiwan</td><td>2015</td><td>2</td></tr><tr><td>Chung-Ang University</td><td>834</td><td>South Korea</td><td>2014</td><td>2</td></tr><tr><td>Chung-Ang University</td><td>756</td><td>South Korea</td><td>2015</td><td>2</td></tr><tr><td>Chungbuk National University</td><td>829</td><td>South Korea</td><td>2014</td><td>2</td></tr><tr><td>Chungbuk National University</td><td>806</td><td>South Korea</td><td>2015</td><td>2</td></tr><tr><td>Chungnam National University</td><td>619</td><td>South Korea</td><td>2014</td><td>2</td></tr><tr><td>Chungnam National University</td><td>628</td><td>South Korea</td><td>2015</td><td>2</td></tr><tr><td>City College of New York</td><td>294</td><td>USA</td><td>2014</td><td>2</td></tr><tr><td>City College of New York</td><td>289</td><td>USA</td><td>2015</td><td>2</td></tr><tr><td>City University London</td><td>494</td><td>United Kingdom</td><td>2014</td><td>2</td></tr><tr><td>City University London</td><td>545</td><td>United Kingdom</td><td>2015</td><td>2</td></tr><tr><td>City University of Hong Kong</td><td>375</td><td>Hong Kong</td><td>2014</td><td>2</td></tr><tr><td>City University of Hong Kong</td><td>373</td><td>Hong Kong</td><td>2015</td><td>2</td></tr><tr><td>Clarkson University</td><td>766</td><td>USA</td><td>2014</td><td>2</td></tr><tr><td>Clarkson University</td><td>835</td><td>USA</td><td>2015</td><td>2</td></tr><tr><td>Claude Bernard University Lyon 1</td><td>230</td><td>France</td><td>2014</td><td>2</td></tr><tr><td>Claude Bernard University Lyon 1</td><td>207</td><td>France</td><td>2015</td><td>2</td></tr><tr><td>Clemson University</td><td>510</td><td>USA</td><td>2014</td><td>2</td></tr><tr><td>Clemson University</td><td>483</td><td>USA</td><td>2015</td><td>2</td></tr><tr><td>College of William and Mary</td><td>361</td><td>USA</td><td>2014</td><td>2</td></tr><tr><td>College of William and Mary</td><td>360</td><td>USA</td><td>2015</td><td>2</td></tr><tr><td>Colorado School of Mines</td><td>364</td><td>USA</td><td>2014</td><td>2</td></tr><tr><td>Colorado School of Mines</td><td>365</td><td>USA</td><td>2015</td><td>2</td></tr><tr><td>Colorado State University - Fort Collins</td><td>262</td><td>USA</td><td>2014</td><td>2</td></tr><tr><td>Colorado State University - Fort Collins</td><td>271</td><td>USA</td><td>2015</td><td>2</td></tr><tr><td>Columbia University</td><td>9</td><td>USA</td><td>2012</td><td>4</td></tr><tr><td>Columbia University</td><td>6</td><td>USA</td><td>2013</td><td>4</td></tr><tr><td>Columbia University</td><td>6</td><td>USA</td><td>2014</td><td>4</td></tr><tr><td>Columbia University</td><td>6</td><td>USA</td><td>2015</td><td>4</td></tr><tr><td>Comenius University in Bratislava</td><td>732</td><td>Slovak Republic</td><td>2014</td><td>2</td></tr><tr><td>Comenius University in Bratislava</td><td>685</td><td>Slovak Republic</td><td>2015</td><td>2</td></tr><tr><td>Complutense University of Madrid</td><td>198</td><td>Spain</td><td>2014</td><td>2</td></tr><tr><td>Complutense University of Madrid</td><td>228</td><td>Spain</td><td>2015</td><td>2</td></tr><tr><td>Concordia University</td><td>422</td><td>Canada</td><td>2014</td><td>2</td></tr><tr><td>Concordia University</td><td>417</td><td>Canada</td><td>2015</td><td>2</td></tr><tr><td>Cornell University</td><td>14</td><td>United States of America</td><td>2011</td><td>10</td></tr><tr><td>Cornell University</td><td>12</td><td>USA</td><td>2012</td><td>10</td></tr><tr><td>Cornell University</td><td>20</td><td>United States of America</td><td>2012</td><td>10</td></tr><tr><td>Cornell University</td><td>13</td><td>USA</td><td>2013</td><td>10</td></tr><tr><td>Cornell University</td><td>18</td><td>United States of America</td><td>2013</td><td>10</td></tr><tr><td>Cornell University</td><td>11</td><td>USA</td><td>2014</td><td>10</td></tr><tr><td>Cornell University</td><td>19</td><td>United States of America</td><td>2014</td><td>10</td></tr><tr><td>Cornell University</td><td>10</td><td>USA</td><td>2015</td><td>10</td></tr><tr><td>Cornell University</td><td>19</td><td>United States of America</td><td>2015</td><td>10</td></tr><tr><td>Cornell University</td><td>18</td><td>United States of America</td><td>2016</td><td>10</td></tr><tr><td>Cranfield University</td><td>397</td><td>United Kingdom</td><td>2014</td><td>2</td></tr><tr><td>Cranfield University</td><td>594</td><td>United Kingdom</td><td>2015</td><td>2</td></tr><tr><td>Creighton University</td><td>490</td><td>USA</td><td>2014</td><td>2</td></tr><tr><td>Creighton University</td><td>508</td><td>USA</td><td>2015</td><td>2</td></tr><tr><td>Curtin University</td><td>612</td><td>Australia</td><td>2014</td><td>2</td></tr><tr><td>Curtin University</td><td>595</td><td>Australia</td><td>2015</td><td>2</td></tr><tr><td>Czech Technical University in Prague</td><td>771</td><td>Czech Republic</td><td>2014</td><td>2</td></tr><tr><td>Czech Technical University in Prague</td><td>716</td><td>Czech Republic</td><td>2015</td><td>2</td></tr><tr><td>Dalhousie University</td><td>284</td><td>Canada</td><td>2014</td><td>2</td></tr><tr><td>Dalhousie University</td><td>286</td><td>Canada</td><td>2015</td><td>2</td></tr><tr><td>Dalian University of Technology</td><td>242</td><td>China</td><td>2014</td><td>2</td></tr><tr><td>Dalian University of Technology</td><td>305</td><td>China</td><td>2015</td><td>2</td></tr><tr><td>Dankook University</td><td>601</td><td>South Korea</td><td>2014</td><td>2</td></tr><tr><td>Dankook University</td><td>834</td><td>South Korea</td><td>2015</td><td>2</td></tr><tr><td>Darmstadt University of Technology</td><td>327</td><td>Germany</td><td>2014</td><td>2</td></tr><tr><td>Darmstadt University of Technology</td><td>374</td><td>Germany</td><td>2015</td><td>2</td></tr><tr><td>Dartmouth College</td><td>58</td><td>USA</td><td>2012</td><td>4</td></tr><tr><td>Dartmouth College</td><td>82</td><td>USA</td><td>2013</td><td>4</td></tr><tr><td>Dartmouth College</td><td>44</td><td>USA</td><td>2014</td><td>4</td></tr><tr><td>Dartmouth College</td><td>44</td><td>USA</td><td>2015</td><td>4</td></tr><tr><td>Deakin University</td><td>613</td><td>Australia</td><td>2014</td><td>2</td></tr><tr><td>Deakin University</td><td>579</td><td>Australia</td><td>2015</td><td>2</td></tr><tr><td>Delft University of Technology</td><td>275</td><td>Netherlands</td><td>2014</td><td>2</td></tr><tr><td>Delft University of Technology</td><td>255</td><td>Netherlands</td><td>2015</td><td>2</td></tr><tr><td>Dokuz Eylül University</td><td>934</td><td>Turkey</td><td>2014</td><td>2</td></tr><tr><td>Dokuz Eylül University</td><td>954</td><td>Turkey</td><td>2015</td><td>2</td></tr><tr><td>Dongguk University</td><td>513</td><td>South Korea</td><td>2014</td><td>2</td></tr><tr><td>Dongguk University</td><td>560</td><td>South Korea</td><td>2015</td><td>2</td></tr><tr><td>Donghua University</td><td>731</td><td>China</td><td>2014</td><td>2</td></tr><tr><td>Donghua University</td><td>659</td><td>China</td><td>2015</td><td>2</td></tr><tr><td>Dresden University of Technology</td><td>237</td><td>Germany</td><td>2014</td><td>2</td></tr><tr><td>Dresden University of Technology</td><td>210</td><td>Germany</td><td>2015</td><td>2</td></tr><tr><td>Drexel University</td><td>190</td><td>United States of America</td><td>2011</td><td>3</td></tr><tr><td>Drexel University</td><td>261</td><td>USA</td><td>2014</td><td>3</td></tr><tr><td>Drexel University</td><td>258</td><td>USA</td><td>2015</td><td>3</td></tr><tr><td>Dublin City University</td><td>819</td><td>Ireland</td><td>2014</td><td>2</td></tr><tr><td>Dublin City University</td><td>843</td><td>Ireland</td><td>2015</td><td>2</td></tr><tr><td>Duke University</td><td>24</td><td>United States of America</td><td>2011</td><td>10</td></tr><tr><td>Duke University</td><td>27</td><td>USA</td><td>2012</td><td>10</td></tr><tr><td>Duke University</td><td>22</td><td>United States of America</td><td>2012</td><td>10</td></tr><tr><td>Duke University</td><td>25</td><td>USA</td><td>2013</td><td>10</td></tr><tr><td>Duke University</td><td>23</td><td>United States of America</td><td>2013</td><td>10</td></tr><tr><td>Duke University</td><td>26</td><td>USA</td><td>2014</td><td>10</td></tr><tr><td>Duke University</td><td>17</td><td>United States of America</td><td>2014</td><td>10</td></tr><tr><td>Duke University</td><td>28</td><td>USA</td><td>2015</td><td>10</td></tr><tr><td>Duke University</td><td>18</td><td>United States of America</td><td>2015</td><td>10</td></tr><tr><td>Duke University</td><td>20</td><td>United States of America</td><td>2016</td><td>10</td></tr><tr><td>Durham University</td><td>264</td><td>United Kingdom</td><td>2014</td><td>2</td></tr><tr><td>Durham University</td><td>261</td><td>United Kingdom</td><td>2015</td><td>2</td></tr><tr><td>East Carolina University</td><td>718</td><td>USA</td><td>2014</td><td>2</td></tr><tr><td>East Carolina University</td><td>762</td><td>USA</td><td>2015</td><td>2</td></tr><tr><td>East China Normal University</td><td>672</td><td>China</td><td>2014</td><td>2</td></tr><tr><td>East China Normal University</td><td>586</td><td>China</td><td>2015</td><td>2</td></tr><tr><td>East China University of Science and Technology</td><td>528</td><td>China</td><td>2014</td><td>2</td></tr><tr><td>East China University of Science and Technology</td><td>477</td><td>China</td><td>2015</td><td>2</td></tr><tr><td>Ege University</td><td>808</td><td>Turkey</td><td>2014</td><td>2</td></tr><tr><td>Ege University</td><td>779</td><td>Turkey</td><td>2015</td><td>2</td></tr><tr><td>Ehime University</td><td>581</td><td>Japan</td><td>2014</td><td>2</td></tr><tr><td>Ehime University</td><td>651</td><td>Japan</td><td>2015</td><td>2</td></tr><tr><td>Eindhoven University of Technology</td><td>353</td><td>Netherlands</td><td>2014</td><td>2</td></tr><tr><td>Eindhoven University of Technology</td><td>348</td><td>Netherlands</td><td>2015</td><td>2</td></tr><tr><td>Emory University</td><td>81</td><td>USA</td><td>2012</td><td>4</td></tr><tr><td>Emory University</td><td>93</td><td>USA</td><td>2013</td><td>4</td></tr><tr><td>Emory University</td><td>78</td><td>USA</td><td>2014</td><td>4</td></tr><tr><td>Emory University</td><td>84</td><td>USA</td><td>2015</td><td>4</td></tr><tr><td>Erasmus University Rotterdam</td><td>101</td><td>Netherlands</td><td>2014</td><td>2</td></tr><tr><td>Erasmus University Rotterdam</td><td>85</td><td>Netherlands</td><td>2015</td><td>2</td></tr><tr><td>Ewha Womans University</td><td>374</td><td>South Korea</td><td>2014</td><td>2</td></tr><tr><td>Ewha Womans University</td><td>390</td><td>South Korea</td><td>2015</td><td>2</td></tr><tr><td>Eötvös Loránd University</td><td>371</td><td>Hungary</td><td>2014</td><td>2</td></tr><tr><td>Eötvös Loránd University</td><td>458</td><td>Hungary</td><td>2015</td><td>2</td></tr><tr><td>Federal University of ABC</td><td>983</td><td>Brazil</td><td>2014</td><td>2</td></tr><tr><td>Federal University of ABC</td><td>961</td><td>Brazil</td><td>2015</td><td>2</td></tr><tr><td>Federal University of Bahia</td><td>967</td><td>Brazil</td><td>2014</td><td>2</td></tr><tr><td>Federal University of Bahia</td><td>992</td><td>Brazil</td><td>2015</td><td>2</td></tr><tr><td>Federal University of Ceará</td><td>964</td><td>Brazil</td><td>2014</td><td>2</td></tr><tr><td>Federal University of Ceará</td><td>998</td><td>Brazil</td><td>2015</td><td>2</td></tr><tr><td>Federal University of Minas Gerais</td><td>496</td><td>Brazil</td><td>2014</td><td>2</td></tr><tr><td>Federal University of Minas Gerais</td><td>526</td><td>Brazil</td><td>2015</td><td>2</td></tr><tr><td>Federal University of Paraná</td><td>929</td><td>Brazil</td><td>2014</td><td>2</td></tr><tr><td>Federal University of Paraná</td><td>934</td><td>Brazil</td><td>2015</td><td>2</td></tr><tr><td>Federal University of Pernambuco</td><td>940</td><td>Brazil</td><td>2014</td><td>2</td></tr><tr><td>Federal University of Pernambuco</td><td>939</td><td>Brazil</td><td>2015</td><td>2</td></tr><tr><td>Federal University of Rio Grande do Sul</td><td>585</td><td>Brazil</td><td>2014</td><td>2</td></tr><tr><td>Federal University of Rio Grande do Sul</td><td>583</td><td>Brazil</td><td>2015</td><td>2</td></tr><tr><td>Federal University of Rio de Janeiro</td><td>329</td><td>Brazil</td><td>2014</td><td>2</td></tr><tr><td>Federal University of Rio de Janeiro</td><td>322</td><td>Brazil</td><td>2015</td><td>2</td></tr><tr><td>Federal University of Santa Catarina</td><td>898</td><td>Brazil</td><td>2014</td><td>2</td></tr><tr><td>Federal University of Santa Catarina</td><td>918</td><td>Brazil</td><td>2015</td><td>2</td></tr><tr><td>Federal University of Santa Maria</td><td>919</td><td>Brazil</td><td>2014</td><td>2</td></tr><tr><td>Federal University of Santa Maria</td><td>974</td><td>Brazil</td><td>2015</td><td>2</td></tr><tr><td>Federal University of São Carlos</td><td>925</td><td>Brazil</td><td>2014</td><td>2</td></tr><tr><td>Federal University of São Carlos</td><td>941</td><td>Brazil</td><td>2015</td><td>2</td></tr><tr><td>Federal University of São Paulo</td><td>626</td><td>Brazil</td><td>2014</td><td>2</td></tr><tr><td>Federal University of São Paulo</td><td>589</td><td>Brazil</td><td>2015</td><td>2</td></tr><tr><td>Federico Santa María Technical University</td><td>971</td><td>Chile</td><td>2014</td><td>2</td></tr><tr><td>Federico Santa María Technical University</td><td>960</td><td>Chile</td><td>2015</td><td>2</td></tr><tr><td>Feng Chia University</td><td>928</td><td>Taiwan</td><td>2014</td><td>2</td></tr><tr><td>Feng Chia University</td><td>983</td><td>Taiwan</td><td>2015</td><td>2</td></tr><tr><td>Flinders University</td><td>507</td><td>Australia</td><td>2014</td><td>2</td></tr><tr><td>Flinders University</td><td>620</td><td>Australia</td><td>2015</td><td>2</td></tr><tr><td>Florida Atlantic University</td><td>882</td><td>USA</td><td>2014</td><td>2</td></tr><tr><td>Florida Atlantic University</td><td>856</td><td>USA</td><td>2015</td><td>2</td></tr><tr><td>Florida Institute of Technology</td><td>853</td><td>USA</td><td>2014</td><td>2</td></tr><tr><td>Florida Institute of Technology</td><td>823</td><td>USA</td><td>2015</td><td>2</td></tr><tr><td>Florida International University</td><td>642</td><td>USA</td><td>2014</td><td>2</td></tr><tr><td>Florida International University</td><td>605</td><td>USA</td><td>2015</td><td>2</td></tr><tr><td>Florida State University</td><td>255</td><td>USA</td><td>2014</td><td>2</td></tr><tr><td>Florida State University</td><td>252</td><td>USA</td><td>2015</td><td>2</td></tr><tr><td>Fluminense Federal University</td><td>852</td><td>Brazil</td><td>2014</td><td>2</td></tr><tr><td>Fluminense Federal University</td><td>915</td><td>Brazil</td><td>2015</td><td>2</td></tr><tr><td>Fourth Military Medical University</td><td>932</td><td>China</td><td>2014</td><td>2</td></tr><tr><td>Fourth Military Medical University</td><td>899</td><td>China</td><td>2015</td><td>2</td></tr><tr><td>Free University of Berlin</td><td>158</td><td>Germany</td><td>2014</td><td>2</td></tr><tr><td>Free University of Berlin</td><td>147</td><td>Germany</td><td>2015</td><td>2</td></tr><tr><td>Fu Jen Catholic University</td><td>974</td><td>Taiwan</td><td>2014</td><td>2</td></tr><tr><td>Fu Jen Catholic University</td><td>971</td><td>Taiwan</td><td>2015</td><td>2</td></tr><tr><td>Fudan University</td><td>189</td><td>China</td><td>2014</td><td>2</td></tr><tr><td>Fudan University</td><td>195</td><td>China</td><td>2015</td><td>2</td></tr><tr><td>Fukuoka University</td><td>786</td><td>Japan</td><td>2014</td><td>2</td></tr><tr><td>Fukuoka University</td><td>862</td><td>Japan</td><td>2015</td><td>2</td></tr><tr><td>Fuzhou University</td><td>715</td><td>China</td><td>2014</td><td>2</td></tr><tr><td>Fuzhou University</td><td>706</td><td>China</td><td>2015</td><td>2</td></tr><tr><td>G. d'Annunzio University, Chieti-Pescara</td><td>728</td><td>Italy</td><td>2014</td><td>2</td></tr><tr><td>G. d'Annunzio University, Chieti-Pescara</td><td>747</td><td>Italy</td><td>2015</td><td>2</td></tr><tr><td>Gachon University</td><td>951</td><td>South Korea</td><td>2015</td><td>1</td></tr><tr><td>Gazi University</td><td>900</td><td>Turkey</td><td>2014</td><td>2</td></tr><tr><td>Gazi University</td><td>852</td><td>Turkey</td><td>2015</td><td>2</td></tr><tr><td>George Mason University</td><td>434</td><td>USA</td><td>2014</td><td>2</td></tr><tr><td>George Mason University</td><td>414</td><td>USA</td><td>2015</td><td>2</td></tr><tr><td>George Washington University</td><td>95</td><td>United States of America</td><td>2011</td><td>7</td></tr><tr><td>George Washington University</td><td>135</td><td>United States of America</td><td>2012</td><td>7</td></tr><tr><td>George Washington University</td><td>168</td><td>United States of America</td><td>2013</td><td>7</td></tr><tr><td>George Washington University</td><td>180</td><td>USA</td><td>2014</td><td>7</td></tr><tr><td>George Washington University</td><td>194</td><td>United States of America</td><td>2014</td><td>7</td></tr><tr><td>George Washington University</td><td>202</td><td>USA</td><td>2015</td><td>7</td></tr><tr><td>George Washington University</td><td>200</td><td>United States of America</td><td>2015</td><td>7</td></tr><tr><td>Georgetown University</td><td>164</td><td>United States of America</td><td>2011</td><td>8</td></tr><tr><td>Georgetown University</td><td>138</td><td>United States of America</td><td>2012</td><td>8</td></tr><tr><td>Georgetown University</td><td>174</td><td>United States of America</td><td>2013</td><td>8</td></tr><tr><td>Georgetown University</td><td>118</td><td>USA</td><td>2014</td><td>8</td></tr><tr><td>Georgetown University</td><td>160</td><td>United States of America</td><td>2014</td><td>8</td></tr><tr><td>Georgetown University</td><td>113</td><td>USA</td><td>2015</td><td>8</td></tr><tr><td>Georgetown University</td><td>173</td><td>United States of America</td><td>2015</td><td>8</td></tr><tr><td>Georgetown University</td><td>94</td><td>United States of America</td><td>2016</td><td>8</td></tr><tr><td>Georgia Institute of Technology</td><td>87</td><td>USA</td><td>2012</td><td>4</td></tr><tr><td>Georgia Institute of Technology</td><td>100</td><td>USA</td><td>2013</td><td>4</td></tr><tr><td>Georgia Institute of Technology</td><td>83</td><td>USA</td><td>2014</td><td>4</td></tr><tr><td>Georgia Institute of Technology</td><td>80</td><td>USA</td><td>2015</td><td>4</td></tr><tr><td>Georgia Regents University</td><td>423</td><td>USA</td><td>2014</td><td>2</td></tr><tr><td>Georgia Regents University</td><td>424</td><td>USA</td><td>2015</td><td>2</td></tr><tr><td>Georgia State University</td><td>512</td><td>USA</td><td>2014</td><td>2</td></tr><tr><td>Georgia State University</td><td>509</td><td>USA</td><td>2015</td><td>2</td></tr><tr><td>Ghent University</td><td>136</td><td>Belgium</td><td>2014</td><td>2</td></tr><tr><td>Ghent University</td><td>119</td><td>Belgium</td><td>2015</td><td>2</td></tr><tr><td>Gifu University</td><td>654</td><td>Japan</td><td>2014</td><td>2</td></tr><tr><td>Gifu University</td><td>670</td><td>Japan</td><td>2015</td><td>2</td></tr><tr><td>Goethe University Frankfurt</td><td>161</td><td>Germany</td><td>2014</td><td>2</td></tr><tr><td>Goethe University Frankfurt</td><td>176</td><td>Germany</td><td>2015</td><td>2</td></tr><tr><td>Graduate University for Advanced Studies</td><td>509</td><td>Japan</td><td>2014</td><td>2</td></tr><tr><td>Graduate University for Advanced Studies</td><td>524</td><td>Japan</td><td>2015</td><td>2</td></tr><tr><td>Graz University of Technology</td><td>725</td><td>Austria</td><td>2014</td><td>2</td></tr><tr><td>Graz University of Technology</td><td>669</td><td>Austria</td><td>2015</td><td>2</td></tr><tr><td>Grenoble Institute of Technology</td><td>495</td><td>France</td><td>2014</td><td>2</td></tr><tr><td>Grenoble Institute of Technology</td><td>430</td><td>France</td><td>2015</td><td>2</td></tr><tr><td>Griffith University</td><td>625</td><td>Australia</td><td>2014</td><td>2</td></tr><tr><td>Griffith University</td><td>613</td><td>Australia</td><td>2015</td><td>2</td></tr><tr><td>Guangxi University</td><td>986</td><td>China</td><td>2014</td><td>1</td></tr><tr><td>Gunma University</td><td>652</td><td>Japan</td><td>2014</td><td>2</td></tr><tr><td>Gunma University</td><td>608</td><td>Japan</td><td>2015</td><td>2</td></tr><tr><td>Gwangju Institute of Science and Technology</td><td>334</td><td>South Korea</td><td>2014</td><td>2</td></tr><tr><td>Gwangju Institute of Science and Technology</td><td>310</td><td>South Korea</td><td>2015</td><td>2</td></tr><tr><td>Gyeongsang National University</td><td>429</td><td>South Korea</td><td>2014</td><td>2</td></tr><tr><td>Gyeongsang National University</td><td>434</td><td>South Korea</td><td>2015</td><td>2</td></tr><tr><td>Hacettepe University</td><td>655</td><td>Turkey</td><td>2014</td><td>2</td></tr><tr><td>Hacettepe University</td><td>634</td><td>Turkey</td><td>2015</td><td>2</td></tr><tr><td>Hallym University</td><td>931</td><td>South Korea</td><td>2014</td><td>2</td></tr><tr><td>Hallym University</td><td>952</td><td>South Korea</td><td>2015</td><td>2</td></tr><tr><td>Hamamatsu University School of Medicine</td><td>860</td><td>Japan</td><td>2014</td><td>2</td></tr><tr><td>Hamamatsu University School of Medicine</td><td>863</td><td>Japan</td><td>2015</td><td>2</td></tr><tr><td>Hannover Medical School</td><td>295</td><td>Germany</td><td>2014</td><td>2</td></tr><tr><td>Hannover Medical School</td><td>292</td><td>Germany</td><td>2015</td><td>2</td></tr><tr><td>Hanyang University</td><td>174</td><td>South Korea</td><td>2014</td><td>2</td></tr><tr><td>Hanyang University</td><td>192</td><td>South Korea</td><td>2015</td><td>2</td></tr><tr><td>Harbin Engineering University</td><td>953</td><td>China</td><td>2015</td><td>1</td></tr><tr><td>Harbin Institute of Technology</td><td>475</td><td>China</td><td>2014</td><td>2</td></tr><tr><td>Harbin Institute of Technology</td><td>410</td><td>China</td><td>2015</td><td>2</td></tr><tr><td>Harbin Medical University</td><td>990</td><td>China</td><td>2014</td><td>1</td></tr><tr><td>Harvard University</td><td>1</td><td>United States of America</td><td>2011</td><td>10</td></tr><tr><td>Harvard University</td><td>1</td><td>USA</td><td>2012</td><td>10</td></tr><tr><td>Harvard University</td><td>2</td><td>United States of America</td><td>2012</td><td>10</td></tr><tr><td>Harvard University</td><td>1</td><td>USA</td><td>2013</td><td>10</td></tr><tr><td>Harvard University</td><td>4</td><td>United States of America</td><td>2013</td><td>10</td></tr><tr><td>Harvard University</td><td>1</td><td>USA</td><td>2014</td><td>10</td></tr><tr><td>Harvard University</td><td>2</td><td>United States of America</td><td>2014</td><td>10</td></tr><tr><td>Harvard University</td><td>1</td><td>USA</td><td>2015</td><td>10</td></tr><tr><td>Harvard University</td><td>2</td><td>United States of America</td><td>2015</td><td>10</td></tr><tr><td>Harvard University</td><td>6</td><td>United States of America</td><td>2016</td><td>10</td></tr><tr><td>Hasselt University</td><td>709</td><td>Belgium</td><td>2014</td><td>2</td></tr><tr><td>Hasselt University</td><td>733</td><td>Belgium</td><td>2015</td><td>2</td></tr><tr><td>Hebrew University of Jerusalem</td><td>22</td><td>Israel</td><td>2012</td><td>4</td></tr><tr><td>Hebrew University of Jerusalem</td><td>21</td><td>Israel</td><td>2013</td><td>4</td></tr><tr><td>Hebrew University of Jerusalem</td><td>22</td><td>Israel</td><td>2014</td><td>4</td></tr><tr><td>Hebrew University of Jerusalem</td><td>23</td><td>Israel</td><td>2015</td><td>4</td></tr><tr><td>Hefei University of Technology</td><td>883</td><td>China</td><td>2015</td><td>1</td></tr><tr><td>Henan Normal University</td><td>990</td><td>China</td><td>2015</td><td>1</td></tr><tr><td>Heriot-Watt University</td><td>703</td><td>United Kingdom</td><td>2014</td><td>2</td></tr><tr><td>Heriot-Watt University</td><td>707</td><td>United Kingdom</td><td>2015</td><td>2</td></tr><tr><td>Hirosaki University</td><td>873</td><td>Japan</td><td>2014</td><td>2</td></tr><tr><td>Hirosaki University</td><td>945</td><td>Japan</td><td>2015</td><td>2</td></tr><tr><td>Hiroshima University</td><td>279</td><td>Japan</td><td>2014</td><td>2</td></tr><tr><td>Hiroshima University</td><td>290</td><td>Japan</td><td>2015</td><td>2</td></tr><tr><td>Hokkaido University</td><td>188</td><td>Japan</td><td>2014</td><td>2</td></tr><tr><td>Hokkaido University</td><td>178</td><td>Japan</td><td>2015</td><td>2</td></tr><tr><td>Hong Kong Baptist University</td><td>678</td><td>Hong Kong</td><td>2014</td><td>2</td></tr><tr><td>Hong Kong Baptist University</td><td>649</td><td>Hong Kong</td><td>2015</td><td>2</td></tr><tr><td>Hong Kong Polytechnic University</td><td>381</td><td>Hong Kong</td><td>2014</td><td>2</td></tr><tr><td>Hong Kong Polytechnic University</td><td>354</td><td>Hong Kong</td><td>2015</td><td>2</td></tr><tr><td>Hong Kong University of Science and Technology</td><td>291</td><td>Hong Kong</td><td>2014</td><td>2</td></tr><tr><td>Hong Kong University of Science and Technology</td><td>319</td><td>Hong Kong</td><td>2015</td><td>2</td></tr><tr><td>Howard University</td><td>644</td><td>USA</td><td>2014</td><td>2</td></tr><tr><td>Howard University</td><td>719</td><td>USA</td><td>2015</td><td>2</td></tr><tr><td>Huazhong Agricultural University</td><td>883</td><td>China</td><td>2014</td><td>2</td></tr><tr><td>Huazhong Agricultural University</td><td>858</td><td>China</td><td>2015</td><td>2</td></tr><tr><td>Huazhong University of Science and Technology</td><td>408</td><td>China</td><td>2014</td><td>2</td></tr><tr><td>Huazhong University of Science and Technology</td><td>400</td><td>China</td><td>2015</td><td>2</td></tr><tr><td>Humboldt University of Berlin</td><td>157</td><td>Germany</td><td>2014</td><td>2</td></tr><tr><td>Humboldt University of Berlin</td><td>153</td><td>Germany</td><td>2015</td><td>2</td></tr><tr><td>Hunan Normal University</td><td>968</td><td>China</td><td>2014</td><td>2</td></tr><tr><td>Hunan Normal University</td><td>972</td><td>China</td><td>2015</td><td>2</td></tr><tr><td>Hunan University</td><td>588</td><td>China</td><td>2014</td><td>2</td></tr><tr><td>Hunan University</td><td>553</td><td>China</td><td>2015</td><td>2</td></tr><tr><td>Hunter College</td><td>736</td><td>USA</td><td>2014</td><td>2</td></tr><tr><td>Hunter College</td><td>850</td><td>USA</td><td>2015</td><td>2</td></tr><tr><td>I-Shou University</td><td>994</td><td>Taiwan</td><td>2014</td><td>1</td></tr><tr><td>Ibaraki University</td><td>949</td><td>Japan</td><td>2014</td><td>2</td></tr><tr><td>Ibaraki University</td><td>970</td><td>Japan</td><td>2015</td><td>2</td></tr><tr><td>Icahn School of Medicine at Mount Sinai</td><td>165</td><td>USA</td><td>2014</td><td>2</td></tr><tr><td>Icahn School of Medicine at Mount Sinai</td><td>143</td><td>USA</td><td>2015</td><td>2</td></tr><tr><td>Illinois Institute of Technology</td><td>489</td><td>USA</td><td>2014</td><td>2</td></tr><tr><td>Illinois Institute of Technology</td><td>480</td><td>USA</td><td>2015</td><td>2</td></tr><tr><td>Imperial College London</td><td>28</td><td>United Kingdom</td><td>2012</td><td>4</td></tr><tr><td>Imperial College London</td><td>27</td><td>United Kingdom</td><td>2013</td><td>4</td></tr><tr><td>Imperial College London</td><td>39</td><td>United Kingdom</td><td>2014</td><td>4</td></tr><tr><td>Imperial College London</td><td>35</td><td>United Kingdom</td><td>2015</td><td>4</td></tr><tr><td>Indian Institute of Science</td><td>501</td><td>India</td><td>2014</td><td>2</td></tr><tr><td>Indian Institute of Science</td><td>448</td><td>India</td><td>2015</td><td>2</td></tr><tr><td>Indian Institute of Technology Bombay</td><td>535</td><td>India</td><td>2014</td><td>2</td></tr><tr><td>Indian Institute of Technology Bombay</td><td>596</td><td>India</td><td>2015</td><td>2</td></tr><tr><td>Indian Institute of Technology Delhi</td><td>328</td><td>India</td><td>2014</td><td>2</td></tr><tr><td>Indian Institute of Technology Delhi</td><td>341</td><td>India</td><td>2015</td><td>2</td></tr><tr><td>Indian Institute of Technology Kanpur</td><td>569</td><td>India</td><td>2014</td><td>2</td></tr><tr><td>Indian Institute of Technology Kanpur</td><td>714</td><td>India</td><td>2015</td><td>2</td></tr><tr><td>Indian Institute of Technology Kharagpur</td><td>574</td><td>India</td><td>2014</td><td>2</td></tr><tr><td>Indian Institute of Technology Kharagpur</td><td>614</td><td>India</td><td>2015</td><td>2</td></tr><tr><td>Indian Institute of Technology Madras</td><td>576</td><td>India</td><td>2014</td><td>2</td></tr><tr><td>Indian Institute of Technology Madras</td><td>534</td><td>India</td><td>2015</td><td>2</td></tr><tr><td>Indian Institute of Technology Roorkee</td><td>611</td><td>India</td><td>2014</td><td>2</td></tr><tr><td>Indian Institute of Technology Roorkee</td><td>638</td><td>India</td><td>2015</td><td>2</td></tr><tr><td>Indiana University - Bloomington</td><td>85</td><td>USA</td><td>2013</td><td>3</td></tr><tr><td>Indiana University - Bloomington</td><td>113</td><td>USA</td><td>2014</td><td>3</td></tr><tr><td>Indiana University - Bloomington</td><td>106</td><td>USA</td><td>2015</td><td>3</td></tr><tr><td>Indiana University-Purdue University Indianapolis</td><td>156</td><td>USA</td><td>2014</td><td>2</td></tr><tr><td>Indiana University-Purdue University Indianapolis</td><td>164</td><td>USA</td><td>2015</td><td>2</td></tr><tr><td>Inha University</td><td>615</td><td>South Korea</td><td>2014</td><td>2</td></tr><tr><td>Inha University</td><td>578</td><td>South Korea</td><td>2015</td><td>2</td></tr><tr><td>Inje University</td><td>768</td><td>South Korea</td><td>2014</td><td>2</td></tr><tr><td>Inje University</td><td>813</td><td>South Korea</td><td>2015</td><td>2</td></tr><tr><td>Innsbruck Medical University</td><td>452</td><td>Austria</td><td>2014</td><td>2</td></tr><tr><td>Innsbruck Medical University</td><td>395</td><td>Austria</td><td>2015</td><td>2</td></tr><tr><td>Institut national des sciences Appliquées de Lyon</td><td>779</td><td>France</td><td>2014</td><td>2</td></tr><tr><td>Institut national des sciences Appliquées de Lyon</td><td>772</td><td>France</td><td>2015</td><td>2</td></tr><tr><td>International School for Advanced Studies</td><td>578</td><td>Italy</td><td>2014</td><td>2</td></tr><tr><td>International School for Advanced Studies</td><td>576</td><td>Italy</td><td>2015</td><td>2</td></tr><tr><td>Iowa State University</td><td>182</td><td>USA</td><td>2014</td><td>2</td></tr><tr><td>Iowa State University</td><td>187</td><td>USA</td><td>2015</td><td>2</td></tr><tr><td>Iran University of Science and Technology</td><td>993</td><td>Iran</td><td>2014</td><td>1</td></tr><tr><td>Isfahan University of Technology</td><td>938</td><td>Iran</td><td>2014</td><td>2</td></tr><tr><td>Isfahan University of Technology</td><td>914</td><td>Iran</td><td>2015</td><td>2</td></tr><tr><td>Istanbul Technical University</td><td>773</td><td>Turkey</td><td>2014</td><td>2</td></tr><tr><td>Istanbul Technical University</td><td>742</td><td>Turkey</td><td>2015</td><td>2</td></tr><tr><td>Istanbul University</td><td>602</td><td>Turkey</td><td>2014</td><td>2</td></tr><tr><td>Istanbul University</td><td>623</td><td>Turkey</td><td>2015</td><td>2</td></tr><tr><td>Jacobs University Bremen</td><td>787</td><td>Germany</td><td>2015</td><td>1</td></tr><tr><td>Jadavpur University</td><td>904</td><td>India</td><td>2014</td><td>2</td></tr><tr><td>Jadavpur University</td><td>923</td><td>India</td><td>2015</td><td>2</td></tr><tr><td>Jagiellonian University</td><td>479</td><td>Poland</td><td>2014</td><td>2</td></tr><tr><td>Jagiellonian University</td><td>451</td><td>Poland</td><td>2015</td><td>2</td></tr><tr><td>James Cook University</td><td>572</td><td>Australia</td><td>2014</td><td>2</td></tr><tr><td>James Cook University</td><td>541</td><td>Australia</td><td>2015</td><td>2</td></tr><tr><td>Jaume I University</td><td>814</td><td>Spain</td><td>2014</td><td>2</td></tr><tr><td>Jaume I University</td><td>808</td><td>Spain</td><td>2015</td><td>2</td></tr><tr><td>Jawaharlal Nehru Centre for Advanced Scientific Research</td><td>777</td><td>India</td><td>2014</td><td>2</td></tr><tr><td>Jawaharlal Nehru Centre for Advanced Scientific Research</td><td>777</td><td>India</td><td>2015</td><td>2</td></tr><tr><td>Jean Monnet University</td><td>887</td><td>France</td><td>2014</td><td>2</td></tr><tr><td>Jean Monnet University</td><td>880</td><td>France</td><td>2015</td><td>2</td></tr><tr><td>Jiangnan University</td><td>877</td><td>China</td><td>2014</td><td>2</td></tr><tr><td>Jiangnan University</td><td>828</td><td>China</td><td>2015</td><td>2</td></tr><tr><td>Jiangsu University</td><td>941</td><td>China</td><td>2014</td><td>2</td></tr><tr><td>Jiangsu University</td><td>947</td><td>China</td><td>2015</td><td>2</td></tr><tr><td>Jichi Medical University</td><td>694</td><td>Japan</td><td>2014</td><td>2</td></tr><tr><td>Jichi Medical University</td><td>722</td><td>Japan</td><td>2015</td><td>2</td></tr><tr><td>Jikei University School of Medicine</td><td>756</td><td>Japan</td><td>2014</td><td>2</td></tr><tr><td>Jikei University School of Medicine</td><td>775</td><td>Japan</td><td>2015</td><td>2</td></tr><tr><td>Jilin University</td><td>435</td><td>China</td><td>2014</td><td>2</td></tr><tr><td>Jilin University</td><td>391</td><td>China</td><td>2015</td><td>2</td></tr><tr><td>Jinan University</td><td>846</td><td>China</td><td>2014</td><td>2</td></tr><tr><td>Jinan University</td><td>955</td><td>China</td><td>2015</td><td>2</td></tr><tr><td>Johannes Gutenberg University of Mainz</td><td>249</td><td>Germany</td><td>2014</td><td>2</td></tr><tr><td>Johannes Gutenberg University of Mainz</td><td>233</td><td>Germany</td><td>2015</td><td>2</td></tr><tr><td>Johannes Kepler University of Linz</td><td>687</td><td>Austria</td><td>2014</td><td>2</td></tr><tr><td>Johannes Kepler University of Linz</td><td>715</td><td>Austria</td><td>2015</td><td>2</td></tr><tr><td>Johns Hopkins University</td><td>13</td><td>United States of America</td><td>2011</td><td>10</td></tr><tr><td>Johns Hopkins University</td><td>15</td><td>USA</td><td>2012</td><td>10</td></tr><tr><td>Johns Hopkins University</td><td>14</td><td>United States of America</td><td>2012</td><td>10</td></tr><tr><td>Johns Hopkins University</td><td>17</td><td>USA</td><td>2013</td><td>10</td></tr><tr><td>Johns Hopkins University</td><td>16</td><td>United States of America</td><td>2013</td><td>10</td></tr><tr><td>Johns Hopkins University</td><td>19</td><td>USA</td><td>2014</td><td>10</td></tr><tr><td>Johns Hopkins University</td><td>15</td><td>United States of America</td><td>2014</td><td>10</td></tr><tr><td>Johns Hopkins University</td><td>16</td><td>USA</td><td>2015</td><td>10</td></tr><tr><td>Johns Hopkins University</td><td>15</td><td>United States of America</td><td>2015</td><td>10</td></tr><tr><td>Johns Hopkins University</td><td>11</td><td>United States of America</td><td>2016</td><td>10</td></tr><tr><td>Joseph Fourier University</td><td>221</td><td>France</td><td>2014</td><td>2</td></tr><tr><td>Joseph Fourier University</td><td>188</td><td>France</td><td>2015</td><td>2</td></tr><tr><td>Julius-Maximilian's University of Würzburg</td><td>223</td><td>Germany</td><td>2014</td><td>2</td></tr><tr><td>Julius-Maximilian's University of Würzburg</td><td>235</td><td>Germany</td><td>2015</td><td>2</td></tr><tr><td>Juntendo University</td><td>484</td><td>Japan</td><td>2014</td><td>2</td></tr><tr><td>Juntendo University</td><td>465</td><td>Japan</td><td>2015</td><td>2</td></tr><tr><td>Justus Liebig University Giessen</td><td>360</td><td>Germany</td><td>2014</td><td>2</td></tr><tr><td>Justus Liebig University Giessen</td><td>358</td><td>Germany</td><td>2015</td><td>2</td></tr><tr><td>Kagoshima University</td><td>570</td><td>Japan</td><td>2014</td><td>2</td></tr><tr><td>Kagoshima University</td><td>619</td><td>Japan</td><td>2015</td><td>2</td></tr><tr><td>Kaiserslautern University of Technology</td><td>706</td><td>Germany</td><td>2014</td><td>2</td></tr><tr><td>Kaiserslautern University of Technology</td><td>691</td><td>Germany</td><td>2015</td><td>2</td></tr><tr><td>Kanazawa University</td><td>454</td><td>Japan</td><td>2014</td><td>2</td></tr><tr><td>Kanazawa University</td><td>457</td><td>Japan</td><td>2015</td><td>2</td></tr><tr><td>Kangwon National University</td><td>821</td><td>South Korea</td><td>2014</td><td>2</td></tr><tr><td>Kangwon National University</td><td>812</td><td>South Korea</td><td>2015</td><td>2</td></tr><tr><td>Kansas State University</td><td>319</td><td>USA</td><td>2014</td><td>2</td></tr><tr><td>Kansas State University</td><td>353</td><td>USA</td><td>2015</td><td>2</td></tr><tr><td>Kaohsiung Medical University</td><td>774</td><td>Taiwan</td><td>2014</td><td>2</td></tr><tr><td>Kaohsiung Medical University</td><td>757</td><td>Taiwan</td><td>2015</td><td>2</td></tr><tr><td>Karlsruhe Institute of Technology</td><td>215</td><td>Germany</td><td>2014</td><td>2</td></tr><tr><td>Karlsruhe Institute of Technology</td><td>213</td><td>Germany</td><td>2015</td><td>2</td></tr><tr><td>Karolinska Institute</td><td>70</td><td>Sweden</td><td>2012</td><td>4</td></tr><tr><td>Karolinska Institute</td><td>60</td><td>Sweden</td><td>2013</td><td>4</td></tr><tr><td>Karolinska Institute</td><td>73</td><td>Sweden</td><td>2014</td><td>4</td></tr><tr><td>Karolinska Institute</td><td>71</td><td>Sweden</td><td>2015</td><td>4</td></tr><tr><td>Katholieke Universiteit Leuven</td><td>94</td><td>Belgium</td><td>2014</td><td>2</td></tr><tr><td>Katholieke Universiteit Leuven</td><td>82</td><td>Belgium</td><td>2015</td><td>2</td></tr><tr><td>Keele University</td><td>663</td><td>United Kingdom</td><td>2014</td><td>2</td></tr><tr><td>Keele University</td><td>674</td><td>United Kingdom</td><td>2015</td><td>2</td></tr><tr><td>Keio University</td><td>70</td><td>Japan</td><td>2013</td><td>3</td></tr><tr><td>Keio University</td><td>34</td><td>Japan</td><td>2014</td><td>3</td></tr><tr><td>Keio University</td><td>34</td><td>Japan</td><td>2015</td><td>3</td></tr><tr><td>Kent State University</td><td>586</td><td>USA</td><td>2014</td><td>2</td></tr><tr><td>Kent State University</td><td>571</td><td>USA</td><td>2015</td><td>2</td></tr><tr><td>Kindai University</td><td>658</td><td>Japan</td><td>2014</td><td>2</td></tr><tr><td>Kindai University</td><td>737</td><td>Japan</td><td>2015</td><td>2</td></tr><tr><td>King Abdulaziz University</td><td>992</td><td>Saudi Arabia</td><td>2014</td><td>2</td></tr><tr><td>King Abdulaziz University</td><td>995</td><td>Saudi Arabia</td><td>2015</td><td>2</td></tr><tr><td>King Abdullah University of Science and Technology</td><td>668</td><td>Saudi Arabia</td><td>2014</td><td>2</td></tr><tr><td>King Abdullah University of Science and Technology</td><td>704</td><td>Saudi Arabia</td><td>2015</td><td>2</td></tr><tr><td>King Fahd University of Petroleum and Minerals</td><td>807</td><td>Saudi Arabia</td><td>2014</td><td>2</td></tr><tr><td>King Fahd University of Petroleum and Minerals</td><td>847</td><td>Saudi Arabia</td><td>2015</td><td>2</td></tr><tr><td>King Juan Carlos University</td><td>984</td><td>Spain</td><td>2014</td><td>1</td></tr><tr><td>King Saud University</td><td>420</td><td>Saudi Arabia</td><td>2014</td><td>2</td></tr><tr><td>King Saud University</td><td>569</td><td>Saudi Arabia</td><td>2015</td><td>2</td></tr><tr><td>King's College London</td><td>75</td><td>United Kingdom</td><td>2013</td><td>3</td></tr><tr><td>King's College London</td><td>90</td><td>United Kingdom</td><td>2014</td><td>3</td></tr><tr><td>King's College London</td><td>94</td><td>United Kingdom</td><td>2015</td><td>3</td></tr><tr><td>Kitasato University</td><td>726</td><td>Japan</td><td>2014</td><td>2</td></tr><tr><td>Kitasato University</td><td>732</td><td>Japan</td><td>2015</td><td>2</td></tr><tr><td>Kobe University</td><td>153</td><td>Japan</td><td>2014</td><td>2</td></tr><tr><td>Kobe University</td><td>320</td><td>Japan</td><td>2015</td><td>2</td></tr><tr><td>Konkuk University</td><td>529</td><td>South Korea</td><td>2014</td><td>2</td></tr><tr><td>Konkuk University</td><td>602</td><td>South Korea</td><td>2015</td><td>2</td></tr><tr><td>Korea Advanced Institute of Science and Technology (KAIST)</td><td>128</td><td>South Korea</td><td>2014</td><td>2</td></tr><tr><td>Korea Advanced Institute of Science and Technology (KAIST)</td><td>144</td><td>South Korea</td><td>2015</td><td>2</td></tr><tr><td>Korea University</td><td>130</td><td>South Korea</td><td>2014</td><td>2</td></tr><tr><td>Korea University</td><td>115</td><td>South Korea</td><td>2015</td><td>2</td></tr><tr><td>Kumamoto University</td><td>407</td><td>Japan</td><td>2014</td><td>2</td></tr><tr><td>Kumamoto University</td><td>419</td><td>Japan</td><td>2015</td><td>2</td></tr><tr><td>Kurume University</td><td>760</td><td>Japan</td><td>2014</td><td>2</td></tr><tr><td>Kurume University</td><td>771</td><td>Japan</td><td>2015</td><td>2</td></tr><tr><td>Kyoto Institute of Technology</td><td>869</td><td>Japan</td><td>2014</td><td>2</td></tr><tr><td>Kyoto Institute of Technology</td><td>887</td><td>Japan</td><td>2015</td><td>2</td></tr><tr><td>Kyoto Prefectural University of Medicine</td><td>721</td><td>Japan</td><td>2014</td><td>2</td></tr><tr><td>Kyoto Prefectural University of Medicine</td><td>728</td><td>Japan</td><td>2015</td><td>2</td></tr><tr><td>Kyoto University</td><td>17</td><td>Japan</td><td>2012</td><td>4</td></tr><tr><td>Kyoto University</td><td>15</td><td>Japan</td><td>2013</td><td>4</td></tr><tr><td>Kyoto University</td><td>16</td><td>Japan</td><td>2014</td><td>4</td></tr><tr><td>Kyoto University</td><td>17</td><td>Japan</td><td>2015</td><td>4</td></tr><tr><td>Kyung Hee University</td><td>380</td><td>South Korea</td><td>2014</td><td>2</td></tr><tr><td>Kyung Hee University</td><td>401</td><td>South Korea</td><td>2015</td><td>2</td></tr><tr><td>Kyungpook National University</td><td>314</td><td>South Korea</td><td>2014</td><td>2</td></tr><tr><td>Kyungpook National University</td><td>307</td><td>South Korea</td><td>2015</td><td>2</td></tr><tr><td>Kyushu University</td><td>92</td><td>Japan</td><td>2014</td><td>2</td></tr><tr><td>Kyushu University</td><td>100</td><td>Japan</td><td>2015</td><td>2</td></tr><tr><td>Kōchi University</td><td>830</td><td>Japan</td><td>2014</td><td>2</td></tr><tr><td>Kōchi University</td><td>838</td><td>Japan</td><td>2015</td><td>2</td></tr><tr><td>LSU Health Sciences Center New Orleans</td><td>590</td><td>USA</td><td>2014</td><td>2</td></tr><tr><td>LSU Health Sciences Center New Orleans</td><td>600</td><td>USA</td><td>2015</td><td>2</td></tr><tr><td>La Trobe University</td><td>636</td><td>Australia</td><td>2014</td><td>2</td></tr><tr><td>La Trobe University</td><td>645</td><td>Australia</td><td>2015</td><td>2</td></tr><tr><td>Lancaster University</td><td>449</td><td>United Kingdom</td><td>2014</td><td>2</td></tr><tr><td>Lancaster University</td><td>426</td><td>United Kingdom</td><td>2015</td><td>2</td></tr><tr><td>Lanzhou University</td><td>571</td><td>China</td><td>2014</td><td>2</td></tr><tr><td>Lanzhou University</td><td>514</td><td>China</td><td>2015</td><td>2</td></tr><tr><td>Laval University</td><td>226</td><td>Canada</td><td>2014</td><td>2</td></tr><tr><td>Laval University</td><td>229</td><td>Canada</td><td>2015</td><td>2</td></tr><tr><td>Lehigh University</td><td>258</td><td>USA</td><td>2014</td><td>2</td></tr><tr><td>Lehigh University</td><td>264</td><td>USA</td><td>2015</td><td>2</td></tr><tr><td>Leiden University</td><td>85</td><td>Netherlands</td><td>2012</td><td>3</td></tr><tr><td>Leiden University</td><td>117</td><td>Netherlands</td><td>2014</td><td>3</td></tr><tr><td>Leiden University</td><td>108</td><td>Netherlands</td><td>2015</td><td>3</td></tr><tr><td>Leipzig University</td><td>299</td><td>Germany</td><td>2014</td><td>2</td></tr><tr><td>Leipzig University</td><td>302</td><td>Germany</td><td>2015</td><td>2</td></tr><tr><td>Lille 2 University of Health and Law</td><td>662</td><td>France</td><td>2014</td><td>2</td></tr><tr><td>Lille 2 University of Health and Law</td><td>618</td><td>France</td><td>2015</td><td>2</td></tr><tr><td>Linköping University</td><td>302</td><td>Sweden</td><td>2014</td><td>2</td></tr><tr><td>Linköping University</td><td>355</td><td>Sweden</td><td>2015</td><td>2</td></tr><tr><td>Liverpool John Moores University</td><td>724</td><td>United Kingdom</td><td>2014</td><td>2</td></tr><tr><td>Liverpool John Moores University</td><td>696</td><td>United Kingdom</td><td>2015</td><td>2</td></tr><tr><td>Loma Linda University</td><td>674</td><td>USA</td><td>2014</td><td>2</td></tr><tr><td>Loma Linda University</td><td>665</td><td>USA</td><td>2015</td><td>2</td></tr><tr><td>Lomonosov Moscow State University</td><td>90</td><td>Russia</td><td>2013</td><td>3</td></tr><tr><td>Lomonosov Moscow State University</td><td>48</td><td>Russia</td><td>2014</td><td>3</td></tr><tr><td>Lomonosov Moscow State University</td><td>59</td><td>Russia</td><td>2015</td><td>3</td></tr><tr><td>London School of Economics</td><td>306</td><td>United Kingdom</td><td>2014</td><td>2</td></tr><tr><td>London School of Economics</td><td>279</td><td>United Kingdom</td><td>2015</td><td>2</td></tr><tr><td>London School of Hygiene & Tropical Medicine</td><td>257</td><td>United Kingdom</td><td>2014</td><td>2</td></tr><tr><td>London School of Hygiene & Tropical Medicine</td><td>246</td><td>United Kingdom</td><td>2015</td><td>2</td></tr><tr><td>Loughborough University</td><td>705</td><td>United Kingdom</td><td>2014</td><td>2</td></tr><tr><td>Loughborough University</td><td>694</td><td>United Kingdom</td><td>2015</td><td>2</td></tr><tr><td>Louisiana State University - Baton Rouge</td><td>216</td><td>USA</td><td>2014</td><td>2</td></tr><tr><td>Louisiana State University - Baton Rouge</td><td>332</td><td>USA</td><td>2015</td><td>2</td></tr><tr><td>Louisiana Tech University</td><td>639</td><td>USA</td><td>2014</td><td>2</td></tr><tr><td>Louisiana Tech University</td><td>625</td><td>USA</td><td>2015</td><td>2</td></tr><tr><td>Loyola University Chicago</td><td>446</td><td>USA</td><td>2014</td><td>2</td></tr><tr><td>Loyola University Chicago</td><td>437</td><td>USA</td><td>2015</td><td>2</td></tr><tr><td>Ludwig Maximilian University of Munich</td><td>83</td><td>Germany</td><td>2012</td><td>4</td></tr><tr><td>Ludwig Maximilian University of Munich</td><td>67</td><td>Germany</td><td>2013</td><td>4</td></tr><tr><td>Ludwig Maximilian University of Munich</td><td>82</td><td>Germany</td><td>2014</td><td>4</td></tr><tr><td>Ludwig Maximilian University of Munich</td><td>79</td><td>Germany</td><td>2015</td><td>4</td></tr><tr><td>Lund University</td><td>116</td><td>Sweden</td><td>2014</td><td>2</td></tr><tr><td>Lund University</td><td>117</td><td>Sweden</td><td>2015</td><td>2</td></tr><tr><td>Maastricht University</td><td>250</td><td>Netherlands</td><td>2014</td><td>2</td></tr><tr><td>Maastricht University</td><td>225</td><td>Netherlands</td><td>2015</td><td>2</td></tr><tr><td>Macquarie University</td><td>486</td><td>Australia</td><td>2014</td><td>2</td></tr><tr><td>Macquarie University</td><td>449</td><td>Australia</td><td>2015</td><td>2</td></tr><tr><td>Magna Græcia University of Catanzaro</td><td>828</td><td>Italy</td><td>2014</td><td>2</td></tr><tr><td>Magna Græcia University of Catanzaro</td><td>802</td><td>Italy</td><td>2015</td><td>2</td></tr><tr><td>Mahidol University</td><td>550</td><td>Thailand</td><td>2014</td><td>2</td></tr><tr><td>Mahidol University</td><td>532</td><td>Thailand</td><td>2015</td><td>2</td></tr><tr><td>Makerere University</td><td>891</td><td>Uganda</td><td>2014</td><td>2</td></tr><tr><td>Makerere University</td><td>869</td><td>Uganda</td><td>2015</td><td>2</td></tr><tr><td>Manchester Metropolitan University</td><td>817</td><td>United Kingdom</td><td>2014</td><td>2</td></tr><tr><td>Manchester Metropolitan University</td><td>885</td><td>United Kingdom</td><td>2015</td><td>2</td></tr><tr><td>Mansoura University</td><td>958</td><td>Egypt</td><td>2014</td><td>2</td></tr><tr><td>Mansoura University</td><td>988</td><td>Egypt</td><td>2015</td><td>2</td></tr><tr><td>Marche Polytechnic University</td><td>701</td><td>Italy</td><td>2014</td><td>2</td></tr><tr><td>Marche Polytechnic University</td><td>662</td><td>Italy</td><td>2015</td><td>2</td></tr><tr><td>Marquette University</td><td>704</td><td>USA</td><td>2014</td><td>2</td></tr><tr><td>Marquette University</td><td>717</td><td>USA</td><td>2015</td><td>2</td></tr><tr><td>Martin Luther University of Halle-Wittenberg</td><td>508</td><td>Germany</td><td>2014</td><td>2</td></tr><tr><td>Martin Luther University of Halle-Wittenberg</td><td>497</td><td>Germany</td><td>2015</td><td>2</td></tr><tr><td>Masaryk University</td><td>742</td><td>Czech Republic</td><td>2014</td><td>2</td></tr><tr><td>Masaryk University</td><td>702</td><td>Czech Republic</td><td>2015</td><td>2</td></tr><tr><td>Massachusetts Institute of Technology</td><td>3</td><td>United States of America</td><td>2011</td><td>10</td></tr><tr><td>Massachusetts Institute of Technology</td><td>2</td><td>USA</td><td>2012</td><td>10</td></tr><tr><td>Massachusetts Institute of Technology</td><td>7</td><td>United States of America</td><td>2012</td><td>10</td></tr><tr><td>Massachusetts Institute of Technology</td><td>4</td><td>USA</td><td>2013</td><td>10</td></tr><tr><td>Massachusetts Institute of Technology</td><td>5</td><td>United States of America</td><td>2013</td><td>10</td></tr><tr><td>Massachusetts Institute of Technology</td><td>3</td><td>USA</td><td>2014</td><td>10</td></tr><tr><td>Massachusetts Institute of Technology</td><td>5</td><td>United States of America</td><td>2014</td><td>10</td></tr><tr><td>Massachusetts Institute of Technology</td><td>3</td><td>USA</td><td>2015</td><td>10</td></tr><tr><td>Massachusetts Institute of Technology</td><td>6</td><td>United States of America</td><td>2015</td><td>10</td></tr><tr><td>Massachusetts Institute of Technology</td><td>5</td><td>United States of America</td><td>2016</td><td>10</td></tr><tr><td>Massey University</td><td>628</td><td>New Zealand</td><td>2014</td><td>2</td></tr><tr><td>Massey University</td><td>658</td><td>New Zealand</td><td>2015</td><td>2</td></tr><tr><td>McGill University</td><td>41</td><td>Canada</td><td>2012</td><td>4</td></tr><tr><td>McGill University</td><td>47</td><td>Canada</td><td>2013</td><td>4</td></tr><tr><td>McGill University</td><td>42</td><td>Canada</td><td>2014</td><td>4</td></tr><tr><td>McGill University</td><td>42</td><td>Canada</td><td>2015</td><td>4</td></tr><tr><td>McMaster University</td><td>141</td><td>Canada</td><td>2014</td><td>2</td></tr><tr><td>McMaster University</td><td>150</td><td>Canada</td><td>2015</td><td>2</td></tr><tr><td>Medical College of Wisconsin</td><td>293</td><td>USA</td><td>2014</td><td>2</td></tr><tr><td>Medical College of Wisconsin</td><td>297</td><td>USA</td><td>2015</td><td>2</td></tr><tr><td>Medical University of Graz</td><td>643</td><td>Austria</td><td>2014</td><td>2</td></tr><tr><td>Medical University of Graz</td><td>574</td><td>Austria</td><td>2015</td><td>2</td></tr><tr><td>Medical University of South Carolina</td><td>312</td><td>USA</td><td>2014</td><td>2</td></tr><tr><td>Medical University of South Carolina</td><td>303</td><td>USA</td><td>2015</td><td>2</td></tr><tr><td>Medical University of Vienna</td><td>310</td><td>Austria</td><td>2014</td><td>2</td></tr><tr><td>Medical University of Vienna</td><td>265</td><td>Austria</td><td>2015</td><td>2</td></tr><tr><td>Memorial University of Newfoundland</td><td>657</td><td>Canada</td><td>2014</td><td>2</td></tr><tr><td>Memorial University of Newfoundland</td><td>611</td><td>Canada</td><td>2015</td><td>2</td></tr><tr><td>Miami University</td><td>443</td><td>USA</td><td>2014</td><td>2</td></tr><tr><td>Miami University</td><td>444</td><td>USA</td><td>2015</td><td>2</td></tr><tr><td>Michigan State University</td><td>122</td><td>United States of America</td><td>2011</td><td>8</td></tr><tr><td>Michigan State University</td><td>96</td><td>United States of America</td><td>2012</td><td>8</td></tr><tr><td>Michigan State University</td><td>94</td><td>United States of America</td><td>2013</td><td>8</td></tr><tr><td>Michigan State University</td><td>112</td><td>USA</td><td>2014</td><td>8</td></tr><tr><td>Michigan State University</td><td>83</td><td>United States of America</td><td>2014</td><td>8</td></tr><tr><td>Michigan State University</td><td>118</td><td>USA</td><td>2015</td><td>8</td></tr><tr><td>Michigan State University</td><td>82</td><td>United States of America</td><td>2015</td><td>8</td></tr><tr><td>Michigan State University</td><td>99</td><td>United States of America</td><td>2016</td><td>8</td></tr><tr><td>Michigan Technological University</td><td>796</td><td>USA</td><td>2014</td><td>2</td></tr><tr><td>Michigan Technological University</td><td>790</td><td>USA</td><td>2015</td><td>2</td></tr><tr><td>Middle East Technical University</td><td>396</td><td>Turkey</td><td>2014</td><td>2</td></tr><tr><td>Middle East Technical University</td><td>470</td><td>Turkey</td><td>2015</td><td>2</td></tr><tr><td>Mie University</td><td>734</td><td>Japan</td><td>2014</td><td>2</td></tr><tr><td>Mie University</td><td>780</td><td>Japan</td><td>2015</td><td>2</td></tr><tr><td>Miguel Hernández University of Elche</td><td>730</td><td>Spain</td><td>2014</td><td>2</td></tr><tr><td>Miguel Hernández University of Elche</td><td>767</td><td>Spain</td><td>2015</td><td>2</td></tr><tr><td>Mines ParisTech</td><td>100</td><td>France</td><td>2012</td><td>3</td></tr><tr><td>Mines ParisTech</td><td>167</td><td>France</td><td>2014</td><td>3</td></tr><tr><td>Mines ParisTech</td><td>104</td><td>France</td><td>2015</td><td>3</td></tr><tr><td>Mississippi State University</td><td>504</td><td>USA</td><td>2014</td><td>2</td></tr><tr><td>Mississippi State University</td><td>607</td><td>USA</td><td>2015</td><td>2</td></tr><tr><td>Missouri University of Science and Technology</td><td>637</td><td>USA</td><td>2014</td><td>2</td></tr><tr><td>Missouri University of Science and Technology</td><td>718</td><td>USA</td><td>2015</td><td>2</td></tr><tr><td>Monash University</td><td>170</td><td>Australia</td><td>2014</td><td>2</td></tr><tr><td>Monash University</td><td>145</td><td>Australia</td><td>2015</td><td>2</td></tr><tr><td>Montana State University - Bozeman</td><td>540</td><td>USA</td><td>2014</td><td>2</td></tr><tr><td>Montana State University - Bozeman</td><td>556</td><td>USA</td><td>2015</td><td>2</td></tr><tr><td>Moscow Institute of Physics and Technology</td><td>250</td><td>Russia</td><td>2015</td><td>1</td></tr><tr><td>Murdoch University</td><td>836</td><td>Australia</td><td>2014</td><td>2</td></tr><tr><td>Murdoch University</td><td>829</td><td>Australia</td><td>2015</td><td>2</td></tr><tr><td>Nagasaki University</td><td>417</td><td>Japan</td><td>2014</td><td>2</td></tr><tr><td>Nagasaki University</td><td>486</td><td>Japan</td><td>2015</td><td>2</td></tr><tr><td>Nagoya City University</td><td>555</td><td>Japan</td><td>2014</td><td>2</td></tr><tr><td>Nagoya City University</td><td>599</td><td>Japan</td><td>2015</td><td>2</td></tr><tr><td>Nagoya Institute of Technology</td><td>787</td><td>Japan</td><td>2014</td><td>2</td></tr><tr><td>Nagoya Institute of Technology</td><td>827</td><td>Japan</td><td>2015</td><td>2</td></tr><tr><td>Nagoya University</td><td>74</td><td>Japan</td><td>2012</td><td>4</td></tr><tr><td>Nagoya University</td><td>91</td><td>Japan</td><td>2013</td><td>4</td></tr><tr><td>Nagoya University</td><td>132</td><td>Japan</td><td>2014</td><td>4</td></tr><tr><td>Nagoya University</td><td>125</td><td>Japan</td><td>2015</td><td>4</td></tr><tr><td>Nanjing Agricultural University</td><td>896</td><td>China</td><td>2014</td><td>2</td></tr><tr><td>Nanjing Agricultural University</td><td>866</td><td>China</td><td>2015</td><td>2</td></tr><tr><td>Nanjing Medical University</td><td>917</td><td>China</td><td>2014</td><td>2</td></tr><tr><td>Nanjing Medical University</td><td>886</td><td>China</td><td>2015</td><td>2</td></tr><tr><td>Nanjing Normal University</td><td>842</td><td>China</td><td>2014</td><td>2</td></tr><tr><td>Nanjing Normal University</td><td>864</td><td>China</td><td>2015</td><td>2</td></tr><tr><td>Nanjing University</td><td>217</td><td>China</td><td>2014</td><td>2</td></tr><tr><td>Nanjing University</td><td>244</td><td>China</td><td>2015</td><td>2</td></tr><tr><td>Nanjing University of Aeronautics and Astronautics</td><td>935</td><td>China</td><td>2014</td><td>2</td></tr><tr><td>Nanjing University of Aeronautics and Astronautics</td><td>895</td><td>China</td><td>2015</td><td>2</td></tr><tr><td>Nanjing University of Science and Technology</td><td>710</td><td>China</td><td>2014</td><td>2</td></tr><tr><td>Nanjing University of Science and Technology</td><td>804</td><td>China</td><td>2015</td><td>2</td></tr><tr><td>Nanjing University of Technology</td><td>865</td><td>China</td><td>2014</td><td>2</td></tr><tr><td>Nanjing University of Technology</td><td>810</td><td>China</td><td>2015</td><td>2</td></tr><tr><td>Nankai University</td><td>349</td><td>China</td><td>2014</td><td>2</td></tr><tr><td>Nankai University</td><td>315</td><td>China</td><td>2015</td><td>2</td></tr><tr><td>Nanyang Technological University</td><td>148</td><td>Singapore</td><td>2014</td><td>2</td></tr><tr><td>Nanyang Technological University</td><td>135</td><td>Singapore</td><td>2015</td><td>2</td></tr><tr><td>Nara Institute of Science and Technology</td><td>547</td><td>Japan</td><td>2014</td><td>2</td></tr><tr><td>Nara Institute of Science and Technology</td><td>547</td><td>Japan</td><td>2015</td><td>2</td></tr><tr><td>National Autonomous University of Mexico</td><td>337</td><td>Mexico</td><td>2014</td><td>2</td></tr><tr><td>National Autonomous University of Mexico</td><td>334</td><td>Mexico</td><td>2015</td><td>2</td></tr><tr><td>National Central University</td><td>565</td><td>Taiwan</td><td>2014</td><td>2</td></tr><tr><td>National Central University</td><td>564</td><td>Taiwan</td><td>2015</td><td>2</td></tr><tr><td>National Cheng Kung University</td><td>246</td><td>Taiwan</td><td>2014</td><td>2</td></tr><tr><td>National Cheng Kung University</td><td>226</td><td>Taiwan</td><td>2015</td><td>2</td></tr><tr><td>National Chiao Tung University</td><td>411</td><td>Taiwan</td><td>2014</td><td>2</td></tr><tr><td>National Chiao Tung University</td><td>386</td><td>Taiwan</td><td>2015</td><td>2</td></tr><tr><td>National Chung Cheng University</td><td>855</td><td>Taiwan</td><td>2014</td><td>2</td></tr><tr><td>National Chung Cheng University</td><td>865</td><td>Taiwan</td><td>2015</td><td>2</td></tr><tr><td>National Chung Hsing University</td><td>635</td><td>Taiwan</td><td>2014</td><td>2</td></tr><tr><td>National Chung Hsing University</td><td>544</td><td>Taiwan</td><td>2015</td><td>2</td></tr><tr><td>National Dong Hwa University</td><td>996</td><td>Taiwan</td><td>2014</td><td>1</td></tr><tr><td>National Polytechnic Institute</td><td>755</td><td>Mexico</td><td>2014</td><td>2</td></tr><tr><td>National Polytechnic Institute</td><td>786</td><td>Mexico</td><td>2015</td><td>2</td></tr><tr><td>National Polytechnic Institute of Toulouse</td><td>568</td><td>France</td><td>2014</td><td>2</td></tr><tr><td>National Polytechnic Institute of Toulouse</td><td>580</td><td>France</td><td>2015</td><td>2</td></tr><tr><td>National Research Nuclear University MEPhI</td><td>755</td><td>Russia</td><td>2015</td><td>1</td></tr><tr><td>National Sun Yat-sen University</td><td>791</td><td>Taiwan</td><td>2014</td><td>2</td></tr><tr><td>National Sun Yat-sen University</td><td>803</td><td>Taiwan</td><td>2015</td><td>2</td></tr><tr><td>National Taipei University of Technology</td><td>997</td><td>Taiwan</td><td>2014</td><td>1</td></tr><tr><td>National Taiwan Normal University</td><td>857</td><td>Taiwan</td><td>2014</td><td>2</td></tr><tr><td>National Taiwan Normal University</td><td>932</td><td>Taiwan</td><td>2015</td><td>2</td></tr><tr><td>National Taiwan Ocean University</td><td>899</td><td>Taiwan</td><td>2014</td><td>2</td></tr><tr><td>National Taiwan Ocean University</td><td>946</td><td>Taiwan</td><td>2015</td><td>2</td></tr><tr><td>National Taiwan University</td><td>65</td><td>Taiwan</td><td>2014</td><td>2</td></tr><tr><td>National Taiwan University</td><td>57</td><td>Taiwan</td><td>2015</td><td>2</td></tr><tr><td>National Taiwan University of Science and Technology</td><td>893</td><td>Taiwan</td><td>2014</td><td>2</td></tr><tr><td>National Taiwan University of Science and Technology</td><td>916</td><td>Taiwan</td><td>2015</td><td>2</td></tr><tr><td>National Technical University of Athens</td><td>648</td><td>Greece</td><td>2014</td><td>2</td></tr><tr><td>National Technical University of Athens</td><td>695</td><td>Greece</td><td>2015</td><td>2</td></tr><tr><td>National Tsing Hua University</td><td>418</td><td>Taiwan</td><td>2014</td><td>2</td></tr><tr><td>National Tsing Hua University</td><td>407</td><td>Taiwan</td><td>2015</td><td>2</td></tr><tr><td>National University of Colombia</td><td>901</td><td>Colombia</td><td>2014</td><td>2</td></tr><tr><td>National University of Colombia</td><td>968</td><td>Colombia</td><td>2015</td><td>2</td></tr><tr><td>National University of Córdoba</td><td>897</td><td>Argentina</td><td>2014</td><td>2</td></tr><tr><td>National University of Córdoba</td><td>933</td><td>Argentina</td><td>2015</td><td>2</td></tr><tr><td>National University of Defense Technology</td><td>999</td><td>China</td><td>2014</td><td>1</td></tr><tr><td>National University of Ireland, Galway</td><td>600</td><td>Ireland</td><td>2014</td><td>2</td></tr><tr><td>National University of Ireland, Galway</td><td>558</td><td>Ireland</td><td>2015</td><td>2</td></tr><tr><td>National University of Ireland, Maynooth</td><td>820</td><td>Ireland</td><td>2014</td><td>2</td></tr><tr><td>National University of Ireland, Maynooth</td><td>853</td><td>Ireland</td><td>2015</td><td>2</td></tr><tr><td>National University of La Plata</td><td>741</td><td>Argentina</td><td>2014</td><td>2</td></tr><tr><td>National University of La Plata</td><td>744</td><td>Argentina</td><td>2015</td><td>2</td></tr><tr><td>National University of Rosario</td><td>978</td><td>Argentina</td><td>2014</td><td>1</td></tr><tr><td>National University of Singapore</td><td>87</td><td>Singapore</td><td>2013</td><td>3</td></tr><tr><td>National University of Singapore</td><td>74</td><td>Singapore</td><td>2014</td><td>3</td></tr><tr><td>National University of Singapore</td><td>65</td><td>Singapore</td><td>2015</td><td>3</td></tr><tr><td>National Yang-Ming University</td><td>534</td><td>Taiwan</td><td>2014</td><td>2</td></tr><tr><td>National Yang-Ming University</td><td>542</td><td>Taiwan</td><td>2015</td><td>2</td></tr><tr><td>National and Kapodistrian University of Athens</td><td>331</td><td>Greece</td><td>2014</td><td>2</td></tr><tr><td>National and Kapodistrian University of Athens</td><td>301</td><td>Greece</td><td>2015</td><td>2</td></tr><tr><td>New Jersey Institute of Technology</td><td>661</td><td>USA</td><td>2014</td><td>2</td></tr><tr><td>New Jersey Institute of Technology</td><td>761</td><td>USA</td><td>2015</td><td>2</td></tr><tr><td>New Mexico State University</td><td>467</td><td>USA</td><td>2014</td><td>2</td></tr><tr><td>New Mexico State University</td><td>519</td><td>USA</td><td>2015</td><td>2</td></tr><tr><td>New York Medical College</td><td>521</td><td>USA</td><td>2014</td><td>2</td></tr><tr><td>New York Medical College</td><td>546</td><td>USA</td><td>2015</td><td>2</td></tr><tr><td>New York University</td><td>60</td><td>United States of America</td><td>2011</td><td>10</td></tr><tr><td>New York University</td><td>23</td><td>USA</td><td>2012</td><td>10</td></tr><tr><td>New York University</td><td>44</td><td>United States of America</td><td>2012</td><td>10</td></tr><tr><td>New York University</td><td>19</td><td>USA</td><td>2013</td><td>10</td></tr><tr><td>New York University</td><td>41</td><td>United States of America</td><td>2013</td><td>10</td></tr><tr><td>New York University</td><td>17</td><td>USA</td><td>2014</td><td>10</td></tr><tr><td>New York University</td><td>40</td><td>United States of America</td><td>2014</td><td>10</td></tr><tr><td>New York University</td><td>18</td><td>USA</td><td>2015</td><td>10</td></tr><tr><td>New York University</td><td>38</td><td>United States of America</td><td>2015</td><td>10</td></tr><tr><td>New York University</td><td>30</td><td>United States of America</td><td>2016</td><td>10</td></tr><tr><td>Newcastle University</td><td>229</td><td>United Kingdom</td><td>2014</td><td>2</td></tr><tr><td>Newcastle University</td><td>212</td><td>United Kingdom</td><td>2015</td><td>2</td></tr><tr><td>Nicolaus Copernicus University in Toruń</td><td>918</td><td>Poland</td><td>2014</td><td>2</td></tr><tr><td>Nicolaus Copernicus University in Toruń</td><td>911</td><td>Poland</td><td>2015</td><td>2</td></tr><tr><td>Nihon University</td><td>539</td><td>Japan</td><td>2014</td><td>2</td></tr><tr><td>Nihon University</td><td>473</td><td>Japan</td><td>2015</td><td>2</td></tr><tr><td>Niigata University</td><td>424</td><td>Japan</td><td>2014</td><td>2</td></tr><tr><td>Niigata University</td><td>468</td><td>Japan</td><td>2015</td><td>2</td></tr><tr><td>North Carolina State University</td><td>228</td><td>USA</td><td>2014</td><td>2</td></tr><tr><td>North Carolina State University</td><td>232</td><td>USA</td><td>2015</td><td>2</td></tr><tr><td>North Dakota State University - Main Campus</td><td>746</td><td>USA</td><td>2014</td><td>2</td></tr><tr><td>North Dakota State University - Main Campus</td><td>792</td><td>USA</td><td>2015</td><td>2</td></tr><tr><td>Northeast Normal University</td><td>669</td><td>China</td><td>2014</td><td>2</td></tr><tr><td>Northeast Normal University</td><td>640</td><td>China</td><td>2015</td><td>2</td></tr><tr><td>Northeastern University</td><td>318</td><td>USA</td><td>2014</td><td>4</td></tr><tr><td>Northeastern University</td><td>184</td><td>United States of America</td><td>2014</td><td>4</td></tr><tr><td>Northeastern University</td><td>275</td><td>USA</td><td>2015</td><td>4</td></tr><tr><td>Northeastern University</td><td>185</td><td>United States of America</td><td>2015</td><td>4</td></tr><tr><td>Northeastern University (China)</td><td>907</td><td>China</td><td>2014</td><td>2</td></tr><tr><td>Northeastern University (China)</td><td>871</td><td>China</td><td>2015</td><td>2</td></tr><tr><td>Northern Arizona University</td><td>783</td><td>USA</td><td>2014</td><td>2</td></tr><tr><td>Northern Arizona University</td><td>766</td><td>USA</td><td>2015</td><td>2</td></tr><tr><td>Northern Illinois University</td><td>596</td><td>USA</td><td>2014</td><td>2</td></tr><tr><td>Northern Illinois University</td><td>643</td><td>USA</td><td>2015</td><td>2</td></tr><tr><td>Northwest A&F University</td><td>987</td><td>China</td><td>2014</td><td>1</td></tr><tr><td>Northwest University (China)</td><td>912</td><td>China</td><td>2014</td><td>2</td></tr><tr><td>Northwest University (China)</td><td>877</td><td>China</td><td>2015</td><td>2</td></tr><tr><td>Northwestern Polytechnical University</td><td>947</td><td>China</td><td>2014</td><td>2</td></tr><tr><td>Northwestern Polytechnical University</td><td>948</td><td>China</td><td>2015</td><td>2</td></tr><tr><td>Northwestern University</td><td>25</td><td>United States of America</td><td>2011</td><td>10</td></tr><tr><td>Northwestern University</td><td>33</td><td>USA</td><td>2012</td><td>10</td></tr><tr><td>Northwestern University</td><td>26</td><td>United States of America</td><td>2012</td><td>10</td></tr><tr><td>Northwestern University</td><td>28</td><td>USA</td><td>2013</td><td>10</td></tr><tr><td>Northwestern University</td><td>19</td><td>United States of America</td><td>2013</td><td>10</td></tr><tr><td>Northwestern University</td><td>23</td><td>USA</td><td>2014</td><td>10</td></tr><tr><td>Northwestern University</td><td>22</td><td>United States of America</td><td>2014</td><td>10</td></tr><tr><td>Northwestern University</td><td>22</td><td>USA</td><td>2015</td><td>10</td></tr><tr><td>Northwestern University</td><td>21</td><td>United States of America</td><td>2015</td><td>10</td></tr><tr><td>Northwestern University</td><td>25</td><td>United States of America</td><td>2016</td><td>10</td></tr><tr><td>Norwegian University of Life Sciences</td><td>794</td><td>Norway</td><td>2014</td><td>2</td></tr><tr><td>Norwegian University of Life Sciences</td><td>789</td><td>Norway</td><td>2015</td><td>2</td></tr><tr><td>Norwegian University of Science and Technology</td><td>286</td><td>Norway</td><td>2014</td><td>2</td></tr><tr><td>Norwegian University of Science and Technology</td><td>243</td><td>Norway</td><td>2015</td><td>2</td></tr><tr><td>Novosibirsk State University</td><td>916</td><td>Russia</td><td>2014</td><td>2</td></tr><tr><td>Novosibirsk State University</td><td>985</td><td>Russia</td><td>2015</td><td>2</td></tr><tr><td>Oakland University</td><td>864</td><td>USA</td><td>2014</td><td>2</td></tr><tr><td>Oakland University</td><td>906</td><td>USA</td><td>2015</td><td>2</td></tr><tr><td>Ocean University of China</td><td>870</td><td>China</td><td>2014</td><td>2</td></tr><tr><td>Ocean University of China</td><td>846</td><td>China</td><td>2015</td><td>2</td></tr><tr><td>Ohio State University, Columbus</td><td>52</td><td>USA</td><td>2012</td><td>4</td></tr><tr><td>Ohio State University, Columbus</td><td>52</td><td>USA</td><td>2013</td><td>4</td></tr><tr><td>Ohio State University, Columbus</td><td>47</td><td>USA</td><td>2014</td><td>4</td></tr><tr><td>Ohio State University, Columbus</td><td>49</td><td>USA</td><td>2015</td><td>4</td></tr><tr><td>Ohio University</td><td>464</td><td>USA</td><td>2014</td><td>2</td></tr><tr><td>Ohio University</td><td>460</td><td>USA</td><td>2015</td><td>2</td></tr><tr><td>Okayama University</td><td>281</td><td>Japan</td><td>2014</td><td>2</td></tr><tr><td>Okayama University</td><td>245</td><td>Japan</td><td>2015</td><td>2</td></tr><tr><td>Oklahoma State University–Stillwater</td><td>365</td><td>USA</td><td>2014</td><td>2</td></tr><tr><td>Oklahoma State University–Stillwater</td><td>412</td><td>USA</td><td>2015</td><td>2</td></tr><tr><td>Old Dominion University</td><td>675</td><td>USA</td><td>2014</td><td>2</td></tr><tr><td>Old Dominion University</td><td>656</td><td>USA</td><td>2015</td><td>2</td></tr><tr><td>Open University (UK)</td><td>630</td><td>United Kingdom</td><td>2014</td><td>2</td></tr><tr><td>Open University (UK)</td><td>631</td><td>United Kingdom</td><td>2015</td><td>2</td></tr><tr><td>Oregon Health & Science University</td><td>175</td><td>USA</td><td>2014</td><td>2</td></tr><tr><td>Oregon Health & Science University</td><td>166</td><td>USA</td><td>2015</td><td>2</td></tr><tr><td>Oregon State University</td><td>265</td><td>USA</td><td>2014</td><td>2</td></tr><tr><td>Oregon State University</td><td>260</td><td>USA</td><td>2015</td><td>2</td></tr><tr><td>Osaka City University</td><td>150</td><td>Japan</td><td>2014</td><td>2</td></tr><tr><td>Osaka City University</td><td>474</td><td>Japan</td><td>2015</td><td>2</td></tr><tr><td>Osaka Prefecture University</td><td>594</td><td>Japan</td><td>2014</td><td>2</td></tr><tr><td>Osaka Prefecture University</td><td>598</td><td>Japan</td><td>2015</td><td>2</td></tr><tr><td>Osaka University</td><td>32</td><td>Japan</td><td>2012</td><td>4</td></tr><tr><td>Osaka University</td><td>35</td><td>Japan</td><td>2013</td><td>4</td></tr><tr><td>Osaka University</td><td>43</td><td>Japan</td><td>2014</td><td>4</td></tr><tr><td>Osaka University</td><td>45</td><td>Japan</td><td>2015</td><td>4</td></tr><tr><td>Otto-von-Guericke University Magdeburg</td><td>500</td><td>Germany</td><td>2014</td><td>2</td></tr><tr><td>Otto-von-Guericke University Magdeburg</td><td>536</td><td>Germany</td><td>2015</td><td>2</td></tr><tr><td>Palacký University, Olomouc</td><td>804</td><td>Czech Republic</td><td>2014</td><td>2</td></tr><tr><td>Palacký University, Olomouc</td><td>724</td><td>Czech Republic</td><td>2015</td><td>2</td></tr><tr><td>Panjab University</td><td>543</td><td>India</td><td>2014</td><td>2</td></tr><tr><td>Panjab University</td><td>491</td><td>India</td><td>2015</td><td>2</td></tr><tr><td>Paris Descartes University</td><td>245</td><td>France</td><td>2014</td><td>2</td></tr><tr><td>Paris Descartes University</td><td>217</td><td>France</td><td>2015</td><td>2</td></tr><tr><td>Paris Diderot University - Paris 7</td><td>99</td><td>France</td><td>2013</td><td>3</td></tr><tr><td>Paris Diderot University - Paris 7</td><td>140</td><td>France</td><td>2014</td><td>3</td></tr><tr><td>Paris Diderot University - Paris 7</td><td>131</td><td>France</td><td>2015</td><td>3</td></tr><tr><td>Paris-Est Créteil Val-de-Marne University</td><td>617</td><td>France</td><td>2014</td><td>2</td></tr><tr><td>Paris-Est Créteil Val-de-Marne University</td><td>633</td><td>France</td><td>2015</td><td>2</td></tr><tr><td>Paul Sabatier University - Toulouse III</td><td>244</td><td>France</td><td>2014</td><td>2</td></tr><tr><td>Paul Sabatier University - Toulouse III</td><td>236</td><td>France</td><td>2015</td><td>2</td></tr><tr><td>Paul Valéry University, Montpellier III</td><td>750</td><td>France</td><td>2014</td><td>2</td></tr><tr><td>Paul Valéry University, Montpellier III</td><td>740</td><td>France</td><td>2015</td><td>2</td></tr><tr><td>Peking Union Medical College</td><td>761</td><td>China</td><td>2014</td><td>2</td></tr><tr><td>Peking Union Medical College</td><td>423</td><td>China</td><td>2015</td><td>2</td></tr><tr><td>Peking University</td><td>55</td><td>China</td><td>2014</td><td>2</td></tr><tr><td>Peking University</td><td>56</td><td>China</td><td>2015</td><td>2</td></tr><tr><td>Pennsylvania State University, University Park</td><td>64</td><td>USA</td><td>2012</td><td>4</td></tr><tr><td>Pennsylvania State University, University Park</td><td>50</td><td>USA</td><td>2013</td><td>4</td></tr><tr><td>Pennsylvania State University, University Park</td><td>46</td><td>USA</td><td>2014</td><td>4</td></tr><tr><td>Pennsylvania State University, University Park</td><td>47</td><td>USA</td><td>2015</td><td>4</td></tr><tr><td>Pierre-and-Marie-Curie University</td><td>63</td><td>France</td><td>2012</td><td>4</td></tr><tr><td>Pierre-and-Marie-Curie University</td><td>48</td><td>France</td><td>2013</td><td>4</td></tr><tr><td>Pierre-and-Marie-Curie University</td><td>68</td><td>France</td><td>2014</td><td>4</td></tr><tr><td>Pierre-and-Marie-Curie University</td><td>63</td><td>France</td><td>2015</td><td>4</td></tr><tr><td>Plymouth University</td><td>577</td><td>United Kingdom</td><td>2014</td><td>2</td></tr><tr><td>Plymouth University</td><td>587</td><td>United Kingdom</td><td>2015</td><td>2</td></tr><tr><td>Pohang University of Science and Technology</td><td>186</td><td>South Korea</td><td>2014</td><td>2</td></tr><tr><td>Pohang University of Science and Technology</td><td>165</td><td>South Korea</td><td>2015</td><td>2</td></tr><tr><td>Polytechnic University of Catalonia</td><td>410</td><td>Spain</td><td>2014</td><td>2</td></tr><tr><td>Polytechnic University of Catalonia</td><td>370</td><td>Spain</td><td>2015</td><td>2</td></tr><tr><td>Polytechnic University of Milan</td><td>389</td><td>Italy</td><td>2014</td><td>2</td></tr><tr><td>Polytechnic University of Milan</td><td>397</td><td>Italy</td><td>2015</td><td>2</td></tr><tr><td>Polytechnic University of Turin</td><td>579</td><td>Italy</td><td>2014</td><td>2</td></tr><tr><td>Polytechnic University of Turin</td><td>653</td><td>Italy</td><td>2015</td><td>2</td></tr><tr><td>Polytechnic University of Valencia</td><td>474</td><td>Spain</td><td>2014</td><td>2</td></tr><tr><td>Polytechnic University of Valencia</td><td>440</td><td>Spain</td><td>2015</td><td>2</td></tr><tr><td>Pompeu Fabra University</td><td>426</td><td>Spain</td><td>2014</td><td>2</td></tr><tr><td>Pompeu Fabra University</td><td>375</td><td>Spain</td><td>2015</td><td>2</td></tr><tr><td>Pontifical Catholic University of Chile</td><td>450</td><td>Chile</td><td>2014</td><td>2</td></tr><tr><td>Pontifical Catholic University of Chile</td><td>376</td><td>Chile</td><td>2015</td><td>2</td></tr><tr><td>Portland State University</td><td>670</td><td>USA</td><td>2014</td><td>2</td></tr><tr><td>Portland State University</td><td>661</td><td>USA</td><td>2015</td><td>2</td></tr><tr><td>Princeton University</td><td>6</td><td>USA</td><td>2012</td><td>4</td></tr><tr><td>Princeton University</td><td>8</td><td>USA</td><td>2013</td><td>4</td></tr><tr><td>Princeton University</td><td>9</td><td>USA</td><td>2014</td><td>4</td></tr><tr><td>Princeton University</td><td>9</td><td>USA</td><td>2015</td><td>4</td></tr><tr><td>Public University of Navarre</td><td>936</td><td>Spain</td><td>2014</td><td>2</td></tr><tr><td>Public University of Navarre</td><td>959</td><td>Spain</td><td>2015</td><td>2</td></tr><tr><td>Pukyong National University</td><td>905</td><td>South Korea</td><td>2014</td><td>2</td></tr><tr><td>Pukyong National University</td><td>898</td><td>South Korea</td><td>2015</td><td>2</td></tr><tr><td>Purdue University</td><td>106</td><td>United States of America</td><td>2011</td><td>6</td></tr><tr><td>Purdue University</td><td>98</td><td>United States of America</td><td>2012</td><td>6</td></tr><tr><td>Purdue University</td><td>69</td><td>United States of America</td><td>2013</td><td>6</td></tr><tr><td>Purdue University</td><td>62</td><td>United States of America</td><td>2014</td><td>6</td></tr><tr><td>Purdue University</td><td>102</td><td>United States of America</td><td>2015</td><td>6</td></tr><tr><td>Purdue University</td><td>113</td><td>United States of America</td><td>2016</td><td>6</td></tr><tr><td>Purdue University, West Lafayette</td><td>42</td><td>USA</td><td>2012</td><td>4</td></tr><tr><td>Purdue University, West Lafayette</td><td>38</td><td>USA</td><td>2013</td><td>4</td></tr><tr><td>Purdue University, West Lafayette</td><td>52</td><td>USA</td><td>2014</td><td>4</td></tr><tr><td>Purdue University, West Lafayette</td><td>43</td><td>USA</td><td>2015</td><td>4</td></tr><tr><td>Pusan National University</td><td>440</td><td>South Korea</td><td>2014</td><td>2</td></tr><tr><td>Pusan National University</td><td>452</td><td>South Korea</td><td>2015</td><td>2</td></tr><tr><td>Putra University, Malaysia</td><td>778</td><td>Malaysia</td><td>2014</td><td>2</td></tr><tr><td>Putra University, Malaysia</td><td>610</td><td>Malaysia</td><td>2015</td><td>2</td></tr><tr><td>Queen Mary University of London</td><td>214</td><td>United Kingdom</td><td>2014</td><td>2</td></tr><tr><td>Queen Mary University of London</td><td>209</td><td>United Kingdom</td><td>2015</td><td>2</td></tr><tr><td>Queen's University</td><td>277</td><td>Canada</td><td>2014</td><td>2</td></tr><tr><td>Queen's University</td><td>284</td><td>Canada</td><td>2015</td><td>2</td></tr><tr><td>Queen's University Belfast</td><td>342</td><td>United Kingdom</td><td>2014</td><td>2</td></tr><tr><td>Queen's University Belfast</td><td>343</td><td>United Kingdom</td><td>2015</td><td>2</td></tr><tr><td>Queens College, City University of New York</td><td>835</td><td>USA</td><td>2014</td><td>2</td></tr><tr><td>Queens College, City University of New York</td><td>893</td><td>USA</td><td>2015</td><td>2</td></tr><tr><td>Queensland University of Technology</td><td>605</td><td>Australia</td><td>2014</td><td>2</td></tr><tr><td>Queensland University of Technology</td><td>621</td><td>Australia</td><td>2015</td><td>2</td></tr><tr><td>RMIT University</td><td>859</td><td>Australia</td><td>2014</td><td>2</td></tr><tr><td>RMIT University</td><td>873</td><td>Australia</td><td>2015</td><td>2</td></tr><tr><td>RWTH Aachen University</td><td>238</td><td>Germany</td><td>2014</td><td>2</td></tr><tr><td>RWTH Aachen University</td><td>230</td><td>Germany</td><td>2015</td><td>2</td></tr><tr><td>Radboud University Nijmegen</td><td>129</td><td>Netherlands</td><td>2014</td><td>2</td></tr><tr><td>Radboud University Nijmegen</td><td>134</td><td>Netherlands</td><td>2015</td><td>2</td></tr><tr><td>Renmin University of China</td><td>496</td><td>China</td><td>2015</td><td>1</td></tr><tr><td>Rensselaer Polytechnic Institute</td><td>104</td><td>United States of America</td><td>2011</td><td>6</td></tr><tr><td>Rensselaer Polytechnic Institute</td><td>144</td><td>United States of America</td><td>2012</td><td>6</td></tr><tr><td>Rensselaer Polytechnic Institute</td><td>174</td><td>United States of America</td><td>2013</td><td>6</td></tr><tr><td>Rensselaer Polytechnic Institute</td><td>243</td><td>USA</td><td>2014</td><td>6</td></tr><tr><td>Rensselaer Polytechnic Institute</td><td>181</td><td>United States of America</td><td>2014</td><td>6</td></tr><tr><td>Rensselaer Polytechnic Institute</td><td>282</td><td>USA</td><td>2015</td><td>6</td></tr><tr><td>Rice University</td><td>57</td><td>USA</td><td>2012</td><td>4</td></tr><tr><td>Rice University</td><td>94</td><td>USA</td><td>2013</td><td>4</td></tr><tr><td>Rice University</td><td>108</td><td>USA</td><td>2014</td><td>4</td></tr><tr><td>Rice University</td><td>120</td><td>USA</td><td>2015</td><td>4</td></tr><tr><td>Rio de Janeiro State University</td><td>845</td><td>Brazil</td><td>2014</td><td>2</td></tr><tr><td>Rio de Janeiro State University</td><td>826</td><td>Brazil</td><td>2015</td><td>2</td></tr><tr><td>Ritsumeikan University</td><td>840</td><td>Japan</td><td>2014</td><td>2</td></tr><tr><td>Ritsumeikan University</td><td>926</td><td>Japan</td><td>2015</td><td>2</td></tr><tr><td>Rochester Institute of Technology</td><td>665</td><td>USA</td><td>2014</td><td>2</td></tr><tr><td>Rochester Institute of Technology</td><td>710</td><td>USA</td><td>2015</td><td>2</td></tr><tr><td>Rockefeller University</td><td>21</td><td>USA</td><td>2012</td><td>4</td></tr><tr><td>Rockefeller University</td><td>49</td><td>USA</td><td>2013</td><td>4</td></tr><tr><td>Rockefeller University</td><td>37</td><td>USA</td><td>2014</td><td>4</td></tr><tr><td>Rockefeller University</td><td>29</td><td>USA</td><td>2015</td><td>4</td></tr><tr><td>Roma Tre University</td><td>695</td><td>Italy</td><td>2014</td><td>2</td></tr><tr><td>Roma Tre University</td><td>701</td><td>Italy</td><td>2015</td><td>2</td></tr><tr><td>Rovira i Virgili University</td><td>650</td><td>Spain</td><td>2014</td><td>2</td></tr><tr><td>Rovira i Virgili University</td><td>644</td><td>Spain</td><td>2015</td><td>2</td></tr><tr><td>Royal College of Surgeons in Ireland</td><td>647</td><td>Ireland</td><td>2014</td><td>2</td></tr><tr><td>Royal College of Surgeons in Ireland</td><td>711</td><td>Ireland</td><td>2015</td><td>2</td></tr><tr><td>Royal Holloway, University of London</td><td>541</td><td>United Kingdom</td><td>2014</td><td>2</td></tr><tr><td>Royal Holloway, University of London</td><td>540</td><td>United Kingdom</td><td>2015</td><td>2</td></tr><tr><td>Royal Institute of Technology</td><td>100</td><td>Sweden</td><td>2014</td><td>2</td></tr><tr><td>Royal Institute of Technology</td><td>126</td><td>Sweden</td><td>2015</td><td>2</td></tr><tr><td>Royal Veterinary College, University of London</td><td>822</td><td>United Kingdom</td><td>2014</td><td>2</td></tr><tr><td>Royal Veterinary College, University of London</td><td>874</td><td>United Kingdom</td><td>2015</td><td>2</td></tr><tr><td>Ruhr University Bochum</td><td>304</td><td>Germany</td><td>2014</td><td>2</td></tr><tr><td>Ruhr University Bochum</td><td>296</td><td>Germany</td><td>2015</td><td>2</td></tr><tr><td>Ruprecht Karl University of Heidelberg</td><td>82</td><td>Germany</td><td>2012</td><td>4</td></tr><tr><td>Ruprecht Karl University of Heidelberg</td><td>79</td><td>Germany</td><td>2013</td><td>4</td></tr><tr><td>Ruprecht Karl University of Heidelberg</td><td>89</td><td>Germany</td><td>2014</td><td>4</td></tr><tr><td>Ruprecht Karl University of Heidelberg</td><td>76</td><td>Germany</td><td>2015</td><td>4</td></tr><tr><td>Rush University</td><td>321</td><td>USA</td><td>2014</td><td>2</td></tr><tr><td>Rush University</td><td>323</td><td>USA</td><td>2015</td><td>2</td></tr><tr><td>Rutgers University-New Brunswick</td><td>72</td><td>USA</td><td>2012</td><td>4</td></tr><tr><td>Rutgers University-New Brunswick</td><td>43</td><td>USA</td><td>2013</td><td>4</td></tr><tr><td>Rutgers University-New Brunswick</td><td>33</td><td>USA</td><td>2014</td><td>4</td></tr><tr><td>Rutgers University-New Brunswick</td><td>50</td><td>USA</td><td>2015</td><td>4</td></tr><tr><td>Rutgers, The State University of New Jersey - Newark</td><td>686</td><td>USA</td><td>2014</td><td>2</td></tr><tr><td>Rutgers, The State University of New Jersey - Newark</td><td>723</td><td>USA</td><td>2015</td><td>2</td></tr><tr><td>Ryerson University</td><td>972</td><td>Canada</td><td>2014</td><td>2</td></tr><tr><td>Ryerson University</td><td>994</td><td>Canada</td><td>2015</td><td>2</td></tr><tr><td>SUNY Downstate Medical Center</td><td>522</td><td>USA</td><td>2014</td><td>2</td></tr><tr><td>SUNY Downstate Medical Center</td><td>516</td><td>USA</td><td>2015</td><td>2</td></tr><tr><td>Saarland University</td><td>382</td><td>Germany</td><td>2014</td><td>2</td></tr><tr><td>Saarland University</td><td>372</td><td>Germany</td><td>2015</td><td>2</td></tr><tr><td>Saga University</td><td>765</td><td>Japan</td><td>2014</td><td>2</td></tr><tr><td>Saga University</td><td>773</td><td>Japan</td><td>2015</td><td>2</td></tr><tr><td>Saint Louis University</td><td>363</td><td>USA</td><td>2014</td><td>2</td></tr><tr><td>Saint Louis University</td><td>364</td><td>USA</td><td>2015</td><td>2</td></tr><tr><td>Saint Petersburg State University</td><td>285</td><td>Russia</td><td>2014</td><td>2</td></tr><tr><td>Saint Petersburg State University</td><td>406</td><td>Russia</td><td>2015</td><td>2</td></tr><tr><td>Saitama Medical University</td><td>772</td><td>Japan</td><td>2014</td><td>2</td></tr><tr><td>Saitama Medical University</td><td>798</td><td>Japan</td><td>2015</td><td>2</td></tr><tr><td>Saitama University</td><td>858</td><td>Japan</td><td>2014</td><td>2</td></tr><tr><td>Saitama University</td><td>909</td><td>Japan</td><td>2015</td><td>2</td></tr><tr><td>San Diego State University</td><td>348</td><td>USA</td><td>2014</td><td>2</td></tr><tr><td>San Diego State University</td><td>361</td><td>USA</td><td>2015</td><td>2</td></tr><tr><td>San Francisco State University</td><td>717</td><td>USA</td><td>2014</td><td>2</td></tr><tr><td>San Francisco State University</td><td>712</td><td>USA</td><td>2015</td><td>2</td></tr><tr><td>Sapienza University of Rome</td><td>77</td><td>Italy</td><td>2012</td><td>4</td></tr><tr><td>Sapienza University of Rome</td><td>62</td><td>Italy</td><td>2013</td><td>4</td></tr><tr><td>Sapienza University of Rome</td><td>91</td><td>Italy</td><td>2014</td><td>4</td></tr><tr><td>Sapienza University of Rome</td><td>112</td><td>Italy</td><td>2015</td><td>4</td></tr><tr><td>Sapporo Medical University</td><td>666</td><td>Japan</td><td>2014</td><td>2</td></tr><tr><td>Sapporo Medical University</td><td>713</td><td>Japan</td><td>2015</td><td>2</td></tr><tr><td>Scuola Normale Superiore di Pisa</td><td>383</td><td>Italy</td><td>2014</td><td>2</td></tr><tr><td>Scuola Normale Superiore di Pisa</td><td>393</td><td>Italy</td><td>2015</td><td>2</td></tr><tr><td>Second Military Medical University</td><td>782</td><td>China</td><td>2014</td><td>2</td></tr><tr><td>Second Military Medical University</td><td>776</td><td>China</td><td>2015</td><td>2</td></tr><tr><td>Second University of Naples</td><td>575</td><td>Italy</td><td>2014</td><td>2</td></tr><tr><td>Second University of Naples</td><td>575</td><td>Italy</td><td>2015</td><td>2</td></tr><tr><td>Sejong University</td><td>832</td><td>South Korea</td><td>2014</td><td>2</td></tr><tr><td>Sejong University</td><td>868</td><td>South Korea</td><td>2015</td><td>2</td></tr><tr><td>Semmelweis University</td><td>598</td><td>Hungary</td><td>2014</td><td>2</td></tr><tr><td>Semmelweis University</td><td>617</td><td>Hungary</td><td>2015</td><td>2</td></tr><tr><td>Seoul National University</td><td>75</td><td>South Korea</td><td>2012</td><td>4</td></tr><tr><td>Seoul National University</td><td>40</td><td>South Korea</td><td>2013</td><td>4</td></tr><tr><td>Seoul National University</td><td>24</td><td>South Korea</td><td>2014</td><td>4</td></tr><tr><td>Seoul National University</td><td>24</td><td>South Korea</td><td>2015</td><td>4</td></tr><tr><td>Shaanxi Normal University</td><td>998</td><td>China</td><td>2014</td><td>1</td></tr><tr><td>Shahid Beheshti University of Medical Sciences</td><td>931</td><td>Iran</td><td>2015</td><td>1</td></tr><tr><td>Shandong University</td><td>457</td><td>China</td><td>2014</td><td>2</td></tr><tr><td>Shandong University</td><td>413</td><td>China</td><td>2015</td><td>2</td></tr><tr><td>Shanghai Jiao Tong University</td><td>195</td><td>China</td><td>2014</td><td>2</td></tr><tr><td>Shanghai Jiao Tong University</td><td>180</td><td>China</td><td>2015</td><td>2</td></tr><tr><td>Shanghai Normal University</td><td>886</td><td>China</td><td>2014</td><td>2</td></tr><tr><td>Shanghai Normal University</td><td>888</td><td>China</td><td>2015</td><td>2</td></tr><tr><td>Shanghai University</td><td>722</td><td>China</td><td>2014</td><td>2</td></tr><tr><td>Shanghai University</td><td>684</td><td>China</td><td>2015</td><td>2</td></tr><tr><td>Shanxi University</td><td>988</td><td>China</td><td>2014</td><td>1</td></tr><tr><td>Sharif University of Technology</td><td>833</td><td>Iran</td><td>2014</td><td>2</td></tr><tr><td>Sharif University of Technology</td><td>697</td><td>Iran</td><td>2015</td><td>2</td></tr><tr><td>Shenzhen University</td><td>975</td><td>China</td><td>2015</td><td>1</td></tr><tr><td>Shimane University</td><td>888</td><td>Japan</td><td>2014</td><td>2</td></tr><tr><td>Shimane University</td><td>903</td><td>Japan</td><td>2015</td><td>2</td></tr><tr><td>Shinshu University</td><td>471</td><td>Japan</td><td>2014</td><td>2</td></tr><tr><td>Shinshu University</td><td>529</td><td>Japan</td><td>2015</td><td>2</td></tr><tr><td>Shiraz University</td><td>956</td><td>Iran</td><td>2014</td><td>2</td></tr><tr><td>Shiraz University</td><td>956</td><td>Iran</td><td>2015</td><td>2</td></tr><tr><td>Shizuoka University</td><td>573</td><td>Japan</td><td>2014</td><td>2</td></tr><tr><td>Shizuoka University</td><td>648</td><td>Japan</td><td>2015</td><td>2</td></tr><tr><td>Showa University</td><td>745</td><td>Japan</td><td>2014</td><td>2</td></tr><tr><td>Showa University</td><td>800</td><td>Japan</td><td>2015</td><td>2</td></tr><tr><td>Sichuan University</td><td>515</td><td>China</td><td>2014</td><td>2</td></tr><tr><td>Sichuan University</td><td>479</td><td>China</td><td>2015</td><td>2</td></tr><tr><td>Simon Fraser University</td><td>393</td><td>Canada</td><td>2014</td><td>2</td></tr><tr><td>Simon Fraser University</td><td>362</td><td>Canada</td><td>2015</td><td>2</td></tr><tr><td>Sofia University</td><td>826</td><td>Bulgaria</td><td>2014</td><td>2</td></tr><tr><td>Sofia University</td><td>845</td><td>Bulgaria</td><td>2015</td><td>2</td></tr><tr><td>Sogang University</td><td>428</td><td>South Korea</td><td>2014</td><td>2</td></tr><tr><td>Sogang University</td><td>581</td><td>South Korea</td><td>2015</td><td>2</td></tr><tr><td>Soochow University (Suzhou)</td><td>713</td><td>China</td><td>2014</td><td>2</td></tr><tr><td>Soochow University (Suzhou)</td><td>615</td><td>China</td><td>2015</td><td>2</td></tr><tr><td>South China Agricultural University</td><td>973</td><td>China</td><td>2014</td><td>2</td></tr><tr><td>South China Agricultural University</td><td>969</td><td>China</td><td>2015</td><td>2</td></tr><tr><td>South China Normal University</td><td>943</td><td>China</td><td>2014</td><td>2</td></tr><tr><td>South China Normal University</td><td>924</td><td>China</td><td>2015</td><td>2</td></tr><tr><td>South China University of Technology</td><td>498</td><td>China</td><td>2014</td><td>2</td></tr><tr><td>South China University of Technology</td><td>439</td><td>China</td><td>2015</td><td>2</td></tr><tr><td>Southeast University</td><td>412</td><td>China</td><td>2014</td><td>2</td></tr><tr><td>Southeast University</td><td>443</td><td>China</td><td>2015</td><td>2</td></tr><tr><td>Southern Illinois University Carbondale</td><td>591</td><td>USA</td><td>2014</td><td>2</td></tr><tr><td>Southern Illinois University Carbondale</td><td>590</td><td>USA</td><td>2015</td><td>2</td></tr><tr><td>Southern Medical University</td><td>955</td><td>China</td><td>2014</td><td>2</td></tr><tr><td>Southern Medical University</td><td>963</td><td>China</td><td>2015</td><td>2</td></tr><tr><td>Southern Methodist University</td><td>171</td><td>USA</td><td>2014</td><td>2</td></tr><tr><td>Southern Methodist University</td><td>142</td><td>USA</td><td>2015</td><td>2</td></tr><tr><td>Southwest Jiaotong University</td><td>993</td><td>China</td><td>2015</td><td>1</td></tr><tr><td>Southwest University</td><td>921</td><td>China</td><td>2014</td><td>2</td></tr><tr><td>Southwest University</td><td>889</td><td>China</td><td>2015</td><td>2</td></tr><tr><td>St George's, University of London</td><td>345</td><td>United Kingdom</td><td>2014</td><td>2</td></tr><tr><td>St George's, University of London</td><td>340</td><td>United Kingdom</td><td>2015</td><td>2</td></tr><tr><td>Stanford University</td><td>4</td><td>United States of America</td><td>2011</td><td>10</td></tr><tr><td>Stanford University</td><td>3</td><td>USA</td><td>2012</td><td>10</td></tr><tr><td>Stanford University</td><td>2</td><td>United States of America</td><td>2012</td><td>10</td></tr><tr><td>Stanford University</td><td>2</td><td>USA</td><td>2013</td><td>10</td></tr><tr><td>Stanford University</td><td>2</td><td>United States of America</td><td>2013</td><td>10</td></tr><tr><td>Stanford University</td><td>2</td><td>USA</td><td>2014</td><td>10</td></tr><tr><td>Stanford University</td><td>4</td><td>United States of America</td><td>2014</td><td>10</td></tr><tr><td>Stanford University</td><td>2</td><td>USA</td><td>2015</td><td>10</td></tr><tr><td>Stanford University</td><td>4</td><td>United States of America</td><td>2015</td><td>10</td></tr><tr><td>Stanford University</td><td>3</td><td>United States of America</td><td>2016</td><td>10</td></tr><tr><td>State University of New York Upstate Medical University</td><td>646</td><td>USA</td><td>2014</td><td>2</td></tr><tr><td>State University of New York Upstate Medical University</td><td>635</td><td>USA</td><td>2015</td><td>2</td></tr><tr><td>Stellenbosch University</td><td>311</td><td>South Africa</td><td>2014</td><td>2</td></tr><tr><td>Stellenbosch University</td><td>306</td><td>South Africa</td><td>2015</td><td>2</td></tr><tr><td>Stockholm University</td><td>187</td><td>Sweden</td><td>2014</td><td>2</td></tr><tr><td>Stockholm University</td><td>168</td><td>Sweden</td><td>2015</td><td>2</td></tr><tr><td>Stony Brook University</td><td>89</td><td>USA</td><td>2013</td><td>3</td></tr><tr><td>Stony Brook University</td><td>126</td><td>USA</td><td>2014</td><td>3</td></tr><tr><td>Stony Brook University</td><td>138</td><td>USA</td><td>2015</td><td>3</td></tr><tr><td>Sun Yat-sen University</td><td>292</td><td>China</td><td>2014</td><td>2</td></tr><tr><td>Sun Yat-sen University</td><td>277</td><td>China</td><td>2015</td><td>2</td></tr><tr><td>Sungkyunkwan University</td><td>204</td><td>South Korea</td><td>2014</td><td>2</td></tr><tr><td>Sungkyunkwan University</td><td>211</td><td>South Korea</td><td>2015</td><td>2</td></tr><tr><td>Swansea University</td><td>699</td><td>United Kingdom</td><td>2014</td><td>2</td></tr><tr><td>Swansea University</td><td>729</td><td>United Kingdom</td><td>2015</td><td>2</td></tr><tr><td>Swedish University of Agricultural Sciences</td><td>433</td><td>Sweden</td><td>2014</td><td>2</td></tr><tr><td>Swedish University of Agricultural Sciences</td><td>416</td><td>Sweden</td><td>2015</td><td>2</td></tr><tr><td>Swinburne University of Technology</td><td>737</td><td>Australia</td><td>2014</td><td>2</td></tr><tr><td>Swinburne University of Technology</td><td>688</td><td>Australia</td><td>2015</td><td>2</td></tr><tr><td>Swiss Federal Institute of Technology in Lausanne</td><td>69</td><td>Switzerland</td><td>2012</td><td>4</td></tr><tr><td>Swiss Federal Institute of Technology in Lausanne</td><td>83</td><td>Switzerland</td><td>2013</td><td>4</td></tr><tr><td>Swiss Federal Institute of Technology in Lausanne</td><td>93</td><td>Switzerland</td><td>2014</td><td>4</td></tr><tr><td>Swiss Federal Institute of Technology in Lausanne</td><td>91</td><td>Switzerland</td><td>2015</td><td>4</td></tr><tr><td>Swiss Federal Institute of Technology in Zurich</td><td>16</td><td>Switzerland</td><td>2012</td><td>4</td></tr><tr><td>Swiss Federal Institute of Technology in Zurich</td><td>18</td><td>Switzerland</td><td>2013</td><td>4</td></tr><tr><td>Swiss Federal Institute of Technology in Zurich</td><td>18</td><td>Switzerland</td><td>2014</td><td>4</td></tr><tr><td>Swiss Federal Institute of Technology in Zurich</td><td>20</td><td>Switzerland</td><td>2015</td><td>4</td></tr><tr><td>Syracuse University</td><td>448</td><td>USA</td><td>2014</td><td>3</td></tr><tr><td>Syracuse University</td><td>463</td><td>USA</td><td>2015</td><td>3</td></tr><tr><td>Syracuse University</td><td>177</td><td>United States of America</td><td>2015</td><td>3</td></tr><tr><td>Taipei Medical University</td><td>805</td><td>Taiwan</td><td>2014</td><td>2</td></tr><tr><td>Taipei Medical University</td><td>807</td><td>Taiwan</td><td>2015</td><td>2</td></tr><tr><td>Tamkang University</td><td>989</td><td>Taiwan</td><td>2014</td><td>1</td></tr><tr><td>Tampere University of Technology</td><td>544</td><td>Finland</td><td>2014</td><td>2</td></tr><tr><td>Tampere University of Technology</td><td>577</td><td>Finland</td><td>2015</td><td>2</td></tr><tr><td>Tarbiat Modares University</td><td>976</td><td>Iran</td><td>2014</td><td>2</td></tr><tr><td>Tarbiat Modares University</td><td>912</td><td>Iran</td><td>2015</td><td>2</td></tr><tr><td>Tata Institute of Fundamental Research</td><td>592</td><td>India</td><td>2014</td><td>2</td></tr><tr><td>Tata Institute of Fundamental Research</td><td>601</td><td>India</td><td>2015</td><td>2</td></tr><tr><td>Technical University of Berlin</td><td>297</td><td>Germany</td><td>2014</td><td>2</td></tr><tr><td>Technical University of Berlin</td><td>345</td><td>Germany</td><td>2015</td><td>2</td></tr><tr><td>Technical University of Denmark</td><td>197</td><td>Denmark</td><td>2014</td><td>2</td></tr><tr><td>Technical University of Denmark</td><td>174</td><td>Denmark</td><td>2015</td><td>2</td></tr><tr><td>Technical University of Dortmund</td><td>458</td><td>Germany</td><td>2014</td><td>2</td></tr><tr><td>Technical University of Dortmund</td><td>487</td><td>Germany</td><td>2015</td><td>2</td></tr><tr><td>Technical University of Madrid</td><td>416</td><td>Spain</td><td>2014</td><td>2</td></tr><tr><td>Technical University of Madrid</td><td>435</td><td>Spain</td><td>2015</td><td>2</td></tr><tr><td>Technical University of Munich</td><td>90</td><td>Germany</td><td>2012</td><td>3</td></tr><tr><td>Technical University of Munich</td><td>99</td><td>Germany</td><td>2014</td><td>3</td></tr><tr><td>Technical University of Munich</td><td>101</td><td>Germany</td><td>2015</td><td>3</td></tr><tr><td>Technion – Israel Institute of Technology</td><td>51</td><td>Israel</td><td>2012</td><td>4</td></tr><tr><td>Technion – Israel Institute of Technology</td><td>66</td><td>Israel</td><td>2013</td><td>4</td></tr><tr><td>Technion – Israel Institute of Technology</td><td>109</td><td>Israel</td><td>2014</td><td>4</td></tr><tr><td>Technion – Israel Institute of Technology</td><td>136</td><td>Israel</td><td>2015</td><td>4</td></tr><tr><td>Tehran University of Medical Sciences</td><td>849</td><td>Iran</td><td>2014</td><td>2</td></tr><tr><td>Tehran University of Medical Sciences</td><td>854</td><td>Iran</td><td>2015</td><td>2</td></tr><tr><td>Teikyo University</td><td>876</td><td>Japan</td><td>2014</td><td>2</td></tr><tr><td>Teikyo University</td><td>908</td><td>Japan</td><td>2015</td><td>2</td></tr><tr><td>Tel Aviv University</td><td>56</td><td>Israel</td><td>2012</td><td>4</td></tr><tr><td>Tel Aviv University</td><td>57</td><td>Israel</td><td>2013</td><td>4</td></tr><tr><td>Tel Aviv University</td><td>86</td><td>Israel</td><td>2014</td><td>4</td></tr><tr><td>Tel Aviv University</td><td>86</td><td>Israel</td><td>2015</td><td>4</td></tr><tr><td>Temple University</td><td>390</td><td>USA</td><td>2014</td><td>2</td></tr><tr><td>Temple University</td><td>381</td><td>USA</td><td>2015</td><td>2</td></tr><tr><td>Texas A&M Health Science Center</td><td>633</td><td>USA</td><td>2014</td><td>2</td></tr><tr><td>Texas A&M Health Science Center</td><td>616</td><td>USA</td><td>2015</td><td>2</td></tr><tr><td>Texas A&M University, College Station</td><td>73</td><td>USA</td><td>2012</td><td>4</td></tr><tr><td>Texas A&M University, College Station</td><td>80</td><td>USA</td><td>2013</td><td>4</td></tr><tr><td>Texas A&M University, College Station</td><td>105</td><td>USA</td><td>2014</td><td>4</td></tr><tr><td>Texas A&M University, College Station</td><td>102</td><td>USA</td><td>2015</td><td>4</td></tr><tr><td>Texas Tech University (TTU)</td><td>480</td><td>USA</td><td>2014</td><td>2</td></tr><tr><td>Texas Tech University (TTU)</td><td>469</td><td>USA</td><td>2015</td><td>2</td></tr><tr><td>The Catholic University of America</td><td>753</td><td>USA</td><td>2014</td><td>2</td></tr><tr><td>The Catholic University of America</td><td>832</td><td>USA</td><td>2015</td><td>2</td></tr><tr><td>Third Military Medical University</td><td>942</td><td>China</td><td>2014</td><td>2</td></tr><tr><td>Third Military Medical University</td><td>957</td><td>China</td><td>2015</td><td>2</td></tr><tr><td>Thomas Jefferson University</td><td>260</td><td>USA</td><td>2014</td><td>2</td></tr><tr><td>Thomas Jefferson University</td><td>254</td><td>USA</td><td>2015</td><td>2</td></tr><tr><td>Tianjin Medical University</td><td>976</td><td>China</td><td>2015</td><td>1</td></tr><tr><td>Tianjin University</td><td>394</td><td>China</td><td>2014</td><td>2</td></tr><tr><td>Tianjin University</td><td>331</td><td>China</td><td>2015</td><td>2</td></tr><tr><td>Tilburg University</td><td>614</td><td>Netherlands</td><td>2014</td><td>2</td></tr><tr><td>Tilburg University</td><td>689</td><td>Netherlands</td><td>2015</td><td>2</td></tr><tr><td>Toho University</td><td>684</td><td>Japan</td><td>2014</td><td>2</td></tr><tr><td>Toho University</td><td>727</td><td>Japan</td><td>2015</td><td>2</td></tr><tr><td>Tohoku University</td><td>79</td><td>Japan</td><td>2012</td><td>4</td></tr><tr><td>Tohoku University</td><td>95</td><td>Japan</td><td>2013</td><td>4</td></tr><tr><td>Tohoku University</td><td>72</td><td>Japan</td><td>2014</td><td>4</td></tr><tr><td>Tohoku University</td><td>73</td><td>Japan</td><td>2015</td><td>4</td></tr><tr><td>Tokai University</td><td>589</td><td>Japan</td><td>2014</td><td>2</td></tr><tr><td>Tokai University</td><td>622</td><td>Japan</td><td>2015</td><td>2</td></tr><tr><td>Tokyo Institute of Technology</td><td>96</td><td>Japan</td><td>2014</td><td>2</td></tr><tr><td>Tokyo Institute of Technology</td><td>109</td><td>Japan</td><td>2015</td><td>2</td></tr><tr><td>Tokyo Medical and Dental University</td><td>376</td><td>Japan</td><td>2014</td><td>2</td></tr><tr><td>Tokyo Medical and Dental University</td><td>392</td><td>Japan</td><td>2015</td><td>2</td></tr><tr><td>Tokyo Metropolitan University</td><td>502</td><td>Japan</td><td>2014</td><td>2</td></tr><tr><td>Tokyo Metropolitan University</td><td>501</td><td>Japan</td><td>2015</td><td>2</td></tr><tr><td>Tokyo University of Agriculture and Technology</td><td>603</td><td>Japan</td><td>2014</td><td>2</td></tr><tr><td>Tokyo University of Agriculture and Technology</td><td>624</td><td>Japan</td><td>2015</td><td>2</td></tr><tr><td>Tokyo University of Science</td><td>413</td><td>Japan</td><td>2014</td><td>2</td></tr><tr><td>Tokyo University of Science</td><td>481</td><td>Japan</td><td>2015</td><td>2</td></tr><tr><td>Tokyo Women's Medical University</td><td>542</td><td>Japan</td><td>2014</td><td>2</td></tr><tr><td>Tokyo Women's Medical University</td><td>555</td><td>Japan</td><td>2015</td><td>2</td></tr><tr><td>Tongji University</td><td>370</td><td>China</td><td>2014</td><td>2</td></tr><tr><td>Tongji University</td><td>420</td><td>China</td><td>2015</td><td>2</td></tr><tr><td>Tottori University</td><td>584</td><td>Japan</td><td>2014</td><td>2</td></tr><tr><td>Tottori University</td><td>736</td><td>Japan</td><td>2015</td><td>2</td></tr><tr><td>Trent University</td><td>854</td><td>Canada</td><td>2014</td><td>2</td></tr><tr><td>Trent University</td><td>910</td><td>Canada</td><td>2015</td><td>2</td></tr><tr><td>Trinity College, Dublin</td><td>200</td><td>Ireland</td><td>2014</td><td>2</td></tr><tr><td>Trinity College, Dublin</td><td>185</td><td>Ireland</td><td>2015</td><td>2</td></tr><tr><td>Tsinghua University</td><td>87</td><td>China</td><td>2014</td><td>2</td></tr><tr><td>Tsinghua University</td><td>78</td><td>China</td><td>2015</td><td>2</td></tr><tr><td>Tufts University</td><td>86</td><td>USA</td><td>2012</td><td>3</td></tr><tr><td>Tufts University</td><td>84</td><td>USA</td><td>2014</td><td>3</td></tr><tr><td>Tufts University</td><td>95</td><td>USA</td><td>2015</td><td>3</td></tr><tr><td>Tulane University</td><td>234</td><td>USA</td><td>2014</td><td>2</td></tr><tr><td>Tulane University</td><td>272</td><td>USA</td><td>2015</td><td>2</td></tr><tr><td>UNESP, São Paulo State University</td><td>683</td><td>Brazil</td><td>2014</td><td>2</td></tr><tr><td>UNESP, São Paulo State University</td><td>664</td><td>Brazil</td><td>2015</td><td>2</td></tr><tr><td>Ulsan National Institute of Science and Technology</td><td>973</td><td>South Korea</td><td>2015</td><td>1</td></tr><tr><td>Umeå University</td><td>289</td><td>Sweden</td><td>2014</td><td>2</td></tr><tr><td>Umeå University</td><td>287</td><td>Sweden</td><td>2015</td><td>2</td></tr><tr><td>United Arab Emirates University</td><td>924</td><td>United Arab Emirates</td><td>2014</td><td>2</td></tr><tr><td>United Arab Emirates University</td><td>950</td><td>United Arab Emirates</td><td>2015</td><td>2</td></tr><tr><td>Universidade Nova de Lisboa</td><td>632</td><td>Portugal</td><td>2014</td><td>2</td></tr><tr><td>Universidade Nova de Lisboa</td><td>612</td><td>Portugal</td><td>2015</td><td>2</td></tr><tr><td>University College Cork</td><td>463</td><td>Ireland</td><td>2014</td><td>2</td></tr><tr><td>University College Cork</td><td>436</td><td>Ireland</td><td>2015</td><td>2</td></tr><tr><td>University College Dublin</td><td>269</td><td>Ireland</td><td>2014</td><td>2</td></tr><tr><td>University College Dublin</td><td>238</td><td>Ireland</td><td>2015</td><td>2</td></tr><tr><td>University College London</td><td>31</td><td>United Kingdom</td><td>2012</td><td>4</td></tr><tr><td>University College London</td><td>30</td><td>United Kingdom</td><td>2013</td><td>4</td></tr><tr><td>University College London</td><td>30</td><td>United Kingdom</td><td>2014</td><td>4</td></tr><tr><td>University College London</td><td>27</td><td>United Kingdom</td><td>2015</td><td>4</td></tr><tr><td>University François Rabelais, Tours</td><td>682</td><td>France</td><td>2014</td><td>2</td></tr><tr><td>University François Rabelais, Tours</td><td>699</td><td>France</td><td>2015</td><td>2</td></tr><tr><td>University Lille 1: Sciences and Technologies</td><td>566</td><td>France</td><td>2014</td><td>2</td></tr><tr><td>University Lille 1: Sciences and Technologies</td><td>562</td><td>France</td><td>2015</td><td>2</td></tr><tr><td>University at Albany, SUNY</td><td>369</td><td>USA</td><td>2014</td><td>2</td></tr><tr><td>University at Albany, SUNY</td><td>388</td><td>USA</td><td>2015</td><td>2</td></tr><tr><td>University at Buffalo</td><td>198</td><td>United States of America</td><td>2013</td><td>3</td></tr><tr><td>University at Buffalo</td><td>176</td><td>United States of America</td><td>2014</td><td>3</td></tr><tr><td>University at Buffalo</td><td>191</td><td>United States of America</td><td>2015</td><td>3</td></tr><tr><td>University at Buffalo, The State University of New York</td><td>268</td><td>USA</td><td>2014</td><td>2</td></tr><tr><td>University at Buffalo, The State University of New York</td><td>273</td><td>USA</td><td>2015</td><td>2</td></tr><tr><td>University of A Coruña</td><td>937</td><td>Spain</td><td>2014</td><td>2</td></tr><tr><td>University of A Coruña</td><td>999</td><td>Spain</td><td>2015</td><td>2</td></tr><tr><td>University of Aberdeen</td><td>276</td><td>United Kingdom</td><td>2014</td><td>2</td></tr><tr><td>University of Aberdeen</td><td>285</td><td>United Kingdom</td><td>2015</td><td>2</td></tr><tr><td>University of Adelaide</td><td>340</td><td>Australia</td><td>2014</td><td>2</td></tr><tr><td>University of Adelaide</td><td>335</td><td>Australia</td><td>2015</td><td>2</td></tr><tr><td>University of Akron</td><td>482</td><td>USA</td><td>2014</td><td>2</td></tr><tr><td>University of Akron</td><td>543</td><td>USA</td><td>2015</td><td>2</td></tr><tr><td>University of Alabama - Tuscaloosa</td><td>372</td><td>USA</td><td>2014</td><td>2</td></tr><tr><td>University of Alabama - Tuscaloosa</td><td>409</td><td>USA</td><td>2015</td><td>2</td></tr><tr><td>University of Alabama at Birmingham</td><td>164</td><td>USA</td><td>2014</td><td>2</td></tr><tr><td>University of Alabama at Birmingham</td><td>146</td><td>USA</td><td>2015</td><td>2</td></tr><tr><td>University of Alabama in Huntsville</td><td>733</td><td>USA</td><td>2014</td><td>2</td></tr><tr><td>University of Alabama in Huntsville</td><td>752</td><td>USA</td><td>2015</td><td>2</td></tr><tr><td>University of Alaska Fairbanks</td><td>621</td><td>USA</td><td>2014</td><td>2</td></tr><tr><td>University of Alaska Fairbanks</td><td>591</td><td>USA</td><td>2015</td><td>2</td></tr><tr><td>University of Alberta</td><td>97</td><td>Canada</td><td>2013</td><td>3</td></tr><tr><td>University of Alberta</td><td>103</td><td>Canada</td><td>2014</td><td>3</td></tr><tr><td>University of Alberta</td><td>107</td><td>Canada</td><td>2015</td><td>3</td></tr><tr><td>University of Alcalá</td><td>848</td><td>Spain</td><td>2014</td><td>2</td></tr><tr><td>University of Alcalá</td><td>849</td><td>Spain</td><td>2015</td><td>2</td></tr><tr><td>University of Alicante</td><td>660</td><td>Spain</td><td>2014</td><td>2</td></tr><tr><td>University of Alicante</td><td>681</td><td>Spain</td><td>2015</td><td>2</td></tr><tr><td>University of Almería</td><td>930</td><td>Spain</td><td>2014</td><td>2</td></tr><tr><td>University of Almería</td><td>940</td><td>Spain</td><td>2015</td><td>2</td></tr><tr><td>University of Amsterdam</td><td>122</td><td>Netherlands</td><td>2014</td><td>2</td></tr><tr><td>University of Amsterdam</td><td>114</td><td>Netherlands</td><td>2015</td><td>2</td></tr><tr><td>University of Angers</td><td>851</td><td>France</td><td>2014</td><td>2</td></tr><tr><td>University of Angers</td><td>859</td><td>France</td><td>2015</td><td>2</td></tr><tr><td>University of Antwerp</td><td>330</td><td>Belgium</td><td>2014</td><td>2</td></tr><tr><td>University of Antwerp</td><td>312</td><td>Belgium</td><td>2015</td><td>2</td></tr><tr><td>University of Arizona</td><td>95</td><td>United States of America</td><td>2011</td><td>10</td></tr><tr><td>University of Arizona</td><td>50</td><td>USA</td><td>2012</td><td>10</td></tr><tr><td>University of Arizona</td><td>97</td><td>United States of America</td><td>2012</td><td>10</td></tr><tr><td>University of Arizona</td><td>78</td><td>USA</td><td>2013</td><td>10</td></tr><tr><td>University of Arizona</td><td>98</td><td>United States of America</td><td>2013</td><td>10</td></tr><tr><td>University of Arizona</td><td>70</td><td>USA</td><td>2014</td><td>10</td></tr><tr><td>University of Arizona</td><td>103</td><td>United States of America</td><td>2014</td><td>10</td></tr><tr><td>University of Arizona</td><td>68</td><td>USA</td><td>2015</td><td>10</td></tr><tr><td>University of Arizona</td><td>86</td><td>United States of America</td><td>2015</td><td>10</td></tr><tr><td>University of Arizona</td><td>163</td><td>United States of America</td><td>2016</td><td>10</td></tr><tr><td>University of Arkansas - Fayetteville</td><td>477</td><td>USA</td><td>2014</td><td>2</td></tr><tr><td>University of Arkansas - Fayetteville</td><td>550</td><td>USA</td><td>2015</td><td>2</td></tr><tr><td>University of Arkansas for Medical Sciences</td><td>442</td><td>USA</td><td>2014</td><td>2</td></tr><tr><td>University of Arkansas for Medical Sciences</td><td>429</td><td>USA</td><td>2015</td><td>2</td></tr><tr><td>University of Auckland</td><td>273</td><td>New Zealand</td><td>2014</td><td>2</td></tr><tr><td>University of Auckland</td><td>266</td><td>New Zealand</td><td>2015</td><td>2</td></tr><tr><td>University of Augsburg</td><td>719</td><td>Germany</td><td>2014</td><td>2</td></tr><tr><td>University of Augsburg</td><td>739</td><td>Germany</td><td>2015</td><td>2</td></tr><tr><td>University of Aveiro</td><td>553</td><td>Portugal</td><td>2014</td><td>2</td></tr><tr><td>University of Aveiro</td><td>557</td><td>Portugal</td><td>2015</td><td>2</td></tr><tr><td>University of Barcelona</td><td>120</td><td>Spain</td><td>2014</td><td>2</td></tr><tr><td>University of Barcelona</td><td>116</td><td>Spain</td><td>2015</td><td>2</td></tr><tr><td>University of Bari Aldo Moro</td><td>388</td><td>Italy</td><td>2014</td><td>2</td></tr><tr><td>University of Bari Aldo Moro</td><td>377</td><td>Italy</td><td>2015</td><td>2</td></tr><tr><td>University of Basel</td><td>154</td><td>Switzerland</td><td>2014</td><td>2</td></tr><tr><td>University of Basel</td><td>160</td><td>Switzerland</td><td>2015</td><td>2</td></tr><tr><td>University of Basilicata</td><td>927</td><td>Italy</td><td>2014</td><td>2</td></tr><tr><td>University of Basilicata</td><td>922</td><td>Italy</td><td>2015</td><td>2</td></tr><tr><td>University of Bath</td><td>421</td><td>United Kingdom</td><td>2014</td><td>2</td></tr><tr><td>University of Bath</td><td>405</td><td>United Kingdom</td><td>2015</td><td>2</td></tr><tr><td>University of Bayreuth</td><td>536</td><td>Germany</td><td>2014</td><td>2</td></tr><tr><td>University of Bayreuth</td><td>520</td><td>Germany</td><td>2015</td><td>2</td></tr><tr><td>University of Belgrade</td><td>809</td><td>Serbia</td><td>2014</td><td>2</td></tr><tr><td>University of Belgrade</td><td>726</td><td>Serbia</td><td>2015</td><td>2</td></tr><tr><td>University of Bergen</td><td>305</td><td>Norway</td><td>2014</td><td>2</td></tr><tr><td>University of Bergen</td><td>283</td><td>Norway</td><td>2015</td><td>2</td></tr><tr><td>University of Bern</td><td>201</td><td>Switzerland</td><td>2014</td><td>2</td></tr><tr><td>University of Bern</td><td>200</td><td>Switzerland</td><td>2015</td><td>2</td></tr><tr><td>University of Birmingham</td><td>142</td><td>United Kingdom</td><td>2014</td><td>2</td></tr><tr><td>University of Birmingham</td><td>152</td><td>United Kingdom</td><td>2015</td><td>2</td></tr><tr><td>University of Bologna</td><td>219</td><td>Italy</td><td>2014</td><td>2</td></tr><tr><td>University of Bologna</td><td>208</td><td>Italy</td><td>2015</td><td>2</td></tr><tr><td>University of Bonn</td><td>98</td><td>Germany</td><td>2014</td><td>2</td></tr><tr><td>University of Bonn</td><td>158</td><td>Germany</td><td>2015</td><td>2</td></tr><tr><td>University of Bordeaux</td><td>299</td><td>France</td><td>2015</td><td>1</td></tr><tr><td>University of Bordeaux I</td><td>432</td><td>France</td><td>2014</td><td>1</td></tr><tr><td>University of Bordeaux II</td><td>403</td><td>France</td><td>2014</td><td>1</td></tr><tr><td>University of Bradford</td><td>806</td><td>United Kingdom</td><td>2014</td><td>2</td></tr><tr><td>University of Bradford</td><td>821</td><td>United Kingdom</td><td>2015</td><td>2</td></tr><tr><td>University of Brasília</td><td>894</td><td>Brazil</td><td>2014</td><td>2</td></tr><tr><td>University of Brasília</td><td>920</td><td>Brazil</td><td>2015</td><td>2</td></tr><tr><td>University of Bremen</td><td>549</td><td>Germany</td><td>2014</td><td>2</td></tr><tr><td>University of Bremen</td><td>535</td><td>Germany</td><td>2015</td><td>2</td></tr><tr><td>University of Brescia</td><td>511</td><td>Italy</td><td>2014</td><td>2</td></tr><tr><td>University of Brescia</td><td>503</td><td>Italy</td><td>2015</td><td>2</td></tr><tr><td>University of Brighton</td><td>825</td><td>United Kingdom</td><td>2014</td><td>2</td></tr><tr><td>University of Brighton</td><td>824</td><td>United Kingdom</td><td>2015</td><td>2</td></tr><tr><td>University of Bristol</td><td>98</td><td>United Kingdom</td><td>2012</td><td>3</td></tr><tr><td>University of Bristol</td><td>123</td><td>United Kingdom</td><td>2014</td><td>3</td></tr><tr><td>University of Bristol</td><td>123</td><td>United Kingdom</td><td>2015</td><td>3</td></tr><tr><td>University of British Columbia</td><td>67</td><td>Canada</td><td>2012</td><td>4</td></tr><tr><td>University of British Columbia</td><td>58</td><td>Canada</td><td>2013</td><td>4</td></tr><tr><td>University of British Columbia</td><td>61</td><td>Canada</td><td>2014</td><td>4</td></tr><tr><td>University of British Columbia</td><td>62</td><td>Canada</td><td>2015</td><td>4</td></tr><tr><td>University of Bucharest</td><td>957</td><td>Romania</td><td>2014</td><td>2</td></tr><tr><td>University of Bucharest</td><td>986</td><td>Romania</td><td>2015</td><td>2</td></tr><tr><td>University of Buenos Aires</td><td>378</td><td>Argentina</td><td>2014</td><td>2</td></tr><tr><td>University of Buenos Aires</td><td>367</td><td>Argentina</td><td>2015</td><td>2</td></tr><tr><td>University of Burgundy</td><td>651</td><td>France</td><td>2014</td><td>2</td></tr><tr><td>University of Burgundy</td><td>654</td><td>France</td><td>2015</td><td>2</td></tr><tr><td>University of Caen Lower Normandy</td><td>769</td><td>France</td><td>2014</td><td>2</td></tr><tr><td>University of Caen Lower Normandy</td><td>797</td><td>France</td><td>2015</td><td>2</td></tr><tr><td>University of Cagliari</td><td>583</td><td>Italy</td><td>2014</td><td>2</td></tr><tr><td>University of Cagliari</td><td>570</td><td>Italy</td><td>2015</td><td>2</td></tr><tr><td>University of Calabria</td><td>758</td><td>Italy</td><td>2014</td><td>2</td></tr><tr><td>University of Calabria</td><td>745</td><td>Italy</td><td>2015</td><td>2</td></tr><tr><td>University of Calcutta</td><td>891</td><td>India</td><td>2015</td><td>1</td></tr><tr><td>University of Calgary</td><td>166</td><td>Canada</td><td>2014</td><td>2</td></tr><tr><td>University of Calgary</td><td>167</td><td>Canada</td><td>2015</td><td>2</td></tr><tr><td>University of California, Berkeley</td><td>10</td><td>USA</td><td>2012</td><td>4</td></tr><tr><td>University of California, Berkeley</td><td>7</td><td>USA</td><td>2013</td><td>4</td></tr><tr><td>University of California, Berkeley</td><td>7</td><td>USA</td><td>2014</td><td>4</td></tr><tr><td>University of California, Berkeley</td><td>7</td><td>USA</td><td>2015</td><td>4</td></tr><tr><td>University of California, Davis</td><td>45</td><td>USA</td><td>2012</td><td>4</td></tr><tr><td>University of California, Davis</td><td>53</td><td>USA</td><td>2013</td><td>4</td></tr><tr><td>University of California, Davis</td><td>57</td><td>USA</td><td>2014</td><td>4</td></tr><tr><td>University of California, Davis</td><td>53</td><td>USA</td><td>2015</td><td>4</td></tr><tr><td>University of California, Irvine</td><td>47</td><td>USA</td><td>2012</td><td>4</td></tr><tr><td>University of California, Irvine</td><td>65</td><td>USA</td><td>2013</td><td>4</td></tr><tr><td>University of California, Irvine</td><td>80</td><td>USA</td><td>2014</td><td>4</td></tr><tr><td>University of California, Irvine</td><td>89</td><td>USA</td><td>2015</td><td>4</td></tr><tr><td>University of California, Los Angeles</td><td>19</td><td>USA</td><td>2012</td><td>4</td></tr><tr><td>University of California, Los Angeles</td><td>16</td><td>USA</td><td>2013</td><td>4</td></tr><tr><td>University of California, Los Angeles</td><td>15</td><td>USA</td><td>2014</td><td>4</td></tr><tr><td>University of California, Los Angeles</td><td>15</td><td>USA</td><td>2015</td><td>4</td></tr><tr><td>University of California, Merced</td><td>923</td><td>USA</td><td>2014</td><td>2</td></tr><tr><td>University of California, Merced</td><td>936</td><td>USA</td><td>2015</td><td>2</td></tr><tr><td>University of California, Riverside</td><td>222</td><td>USA</td><td>2014</td><td>2</td></tr><tr><td>University of California, Riverside</td><td>214</td><td>USA</td><td>2015</td><td>2</td></tr><tr><td>University of California, San Diego</td><td>20</td><td>USA</td><td>2012</td><td>4</td></tr><tr><td>University of California, San Diego</td><td>20</td><td>USA</td><td>2013</td><td>4</td></tr><tr><td>University of California, San Diego</td><td>20</td><td>USA</td><td>2014</td><td>4</td></tr><tr><td>University of California, San Diego</td><td>21</td><td>USA</td><td>2015</td><td>4</td></tr><tr><td>University of California, San Francisco</td><td>24</td><td>USA</td><td>2012</td><td>4</td></tr><tr><td>University of California, San Francisco</td><td>22</td><td>USA</td><td>2013</td><td>4</td></tr><tr><td>University of California, San Francisco</td><td>27</td><td>USA</td><td>2014</td><td>4</td></tr><tr><td>University of California, San Francisco</td><td>26</td><td>USA</td><td>2015</td><td>4</td></tr><tr><td>University of California, Santa Barbara</td><td>40</td><td>USA</td><td>2012</td><td>4</td></tr><tr><td>University of California, Santa Barbara</td><td>37</td><td>USA</td><td>2013</td><td>4</td></tr><tr><td>University of California, Santa Barbara</td><td>60</td><td>USA</td><td>2014</td><td>4</td></tr><tr><td>University of California, Santa Barbara</td><td>64</td><td>USA</td><td>2015</td><td>4</td></tr><tr><td>University of California, Santa Cruz</td><td>163</td><td>USA</td><td>2014</td><td>2</td></tr><tr><td>University of California, Santa Cruz</td><td>154</td><td>USA</td><td>2015</td><td>2</td></tr><tr><td>University of Cambridge</td><td>4</td><td>United Kingdom</td><td>2012</td><td>4</td></tr><tr><td>University of Cambridge</td><td>5</td><td>United Kingdom</td><td>2013</td><td>4</td></tr><tr><td>University of Cambridge</td><td>4</td><td>United Kingdom</td><td>2014</td><td>4</td></tr><tr><td>University of Cambridge</td><td>4</td><td>United Kingdom</td><td>2015</td><td>4</td></tr><tr><td>University of Camerino</td><td>872</td><td>Italy</td><td>2014</td><td>2</td></tr><tr><td>University of Camerino</td><td>919</td><td>Italy</td><td>2015</td><td>2</td></tr><tr><td>University of Campinas</td><td>437</td><td>Brazil</td><td>2014</td><td>2</td></tr><tr><td>University of Campinas</td><td>404</td><td>Brazil</td><td>2015</td><td>2</td></tr><tr><td>University of Cantabria</td><td>729</td><td>Spain</td><td>2014</td><td>2</td></tr><tr><td>University of Cantabria</td><td>709</td><td>Spain</td><td>2015</td><td>2</td></tr><tr><td>University of Canterbury</td><td>487</td><td>New Zealand</td><td>2014</td><td>2</td></tr><tr><td>University of Canterbury</td><td>533</td><td>New Zealand</td><td>2015</td><td>2</td></tr><tr><td>University of Cape Town</td><td>267</td><td>South Africa</td><td>2014</td><td>2</td></tr><tr><td>University of Cape Town</td><td>248</td><td>South Africa</td><td>2015</td><td>2</td></tr><tr><td>University of Castilla–La Mancha</td><td>770</td><td>Spain</td><td>2014</td><td>2</td></tr><tr><td>University of Castilla–La Mancha</td><td>738</td><td>Spain</td><td>2015</td><td>2</td></tr><tr><td>University of Catania</td><td>567</td><td>Italy</td><td>2014</td><td>2</td></tr><tr><td>University of Catania</td><td>531</td><td>Italy</td><td>2015</td><td>2</td></tr><tr><td>University of Central Florida</td><td>401</td><td>USA</td><td>2014</td><td>2</td></tr><tr><td>University of Central Florida</td><td>394</td><td>USA</td><td>2015</td><td>2</td></tr><tr><td>University of Central Lancashire</td><td>938</td><td>United Kingdom</td><td>2015</td><td>1</td></tr><tr><td>University of Chemistry and Technology, Prague</td><td>963</td><td>Czech Republic</td><td>2014</td><td>2</td></tr><tr><td>University of Chemistry and Technology, Prague</td><td>980</td><td>Czech Republic</td><td>2015</td><td>2</td></tr><tr><td>University of Chicago</td><td>12</td><td>United States of America</td><td>2011</td><td>10</td></tr><tr><td>University of Chicago</td><td>11</td><td>USA</td><td>2012</td><td>10</td></tr><tr><td>University of Chicago</td><td>9</td><td>United States of America</td><td>2012</td><td>10</td></tr><tr><td>University of Chicago</td><td>9</td><td>USA</td><td>2013</td><td>10</td></tr><tr><td>University of Chicago</td><td>10</td><td>United States of America</td><td>2013</td><td>10</td></tr><tr><td>University of Chicago</td><td>8</td><td>USA</td><td>2014</td><td>10</td></tr><tr><td>University of Chicago</td><td>9</td><td>United States of America</td><td>2014</td><td>10</td></tr><tr><td>University of Chicago</td><td>8</td><td>USA</td><td>2015</td><td>10</td></tr><tr><td>University of Chicago</td><td>11</td><td>United States of America</td><td>2015</td><td>10</td></tr><tr><td>University of Chicago</td><td>10</td><td>United States of America</td><td>2016</td><td>10</td></tr><tr><td>University of Chile</td><td>451</td><td>Chile</td><td>2014</td><td>2</td></tr><tr><td>University of Chile</td><td>425</td><td>Chile</td><td>2015</td><td>2</td></tr><tr><td>University of Cincinnati</td><td>190</td><td>United States of America</td><td>2011</td><td>3</td></tr><tr><td>University of Cincinnati</td><td>177</td><td>USA</td><td>2014</td><td>3</td></tr><tr><td>University of Cincinnati</td><td>157</td><td>USA</td><td>2015</td><td>3</td></tr><tr><td>University of Coimbra</td><td>545</td><td>Portugal</td><td>2014</td><td>2</td></tr><tr><td>University of Coimbra</td><td>507</td><td>Portugal</td><td>2015</td><td>2</td></tr><tr><td>University of Cologne</td><td>199</td><td>Germany</td><td>2014</td><td>2</td></tr><tr><td>University of Cologne</td><td>197</td><td>Germany</td><td>2015</td><td>2</td></tr><tr><td>University of Colorado Boulder</td><td>67</td><td>United States of America</td><td>2011</td><td>10</td></tr><tr><td>University of Colorado Boulder</td><td>46</td><td>USA</td><td>2012</td><td>10</td></tr><tr><td>University of Colorado Boulder</td><td>77</td><td>United States of America</td><td>2012</td><td>10</td></tr><tr><td>University of Colorado Boulder</td><td>41</td><td>USA</td><td>2013</td><td>10</td></tr><tr><td>University of Colorado Boulder</td><td>91</td><td>United States of America</td><td>2013</td><td>10</td></tr><tr><td>University of Colorado Boulder</td><td>63</td><td>USA</td><td>2014</td><td>10</td></tr><tr><td>University of Colorado Boulder</td><td>97</td><td>United States of America</td><td>2014</td><td>10</td></tr><tr><td>University of Colorado Boulder</td><td>54</td><td>USA</td><td>2015</td><td>10</td></tr><tr><td>University of Colorado Boulder</td><td>97</td><td>United States of America</td><td>2015</td><td>10</td></tr><tr><td>University of Colorado Boulder</td><td>127</td><td>United States of America</td><td>2016</td><td>10</td></tr><tr><td>University of Colorado Denver</td><td>133</td><td>USA</td><td>2014</td><td>2</td></tr><tr><td>University of Colorado Denver</td><td>127</td><td>USA</td><td>2015</td><td>2</td></tr><tr><td>University of Concepción</td><td>797</td><td>Chile</td><td>2014</td><td>2</td></tr><tr><td>University of Concepción</td><td>805</td><td>Chile</td><td>2015</td><td>2</td></tr><tr><td>University of Connecticut</td><td>233</td><td>USA</td><td>2014</td><td>2</td></tr><tr><td>University of Connecticut</td><td>218</td><td>USA</td><td>2015</td><td>2</td></tr><tr><td>University of Copenhagen</td><td>93</td><td>Denmark</td><td>2012</td><td>4</td></tr><tr><td>University of Copenhagen</td><td>68</td><td>Denmark</td><td>2013</td><td>4</td></tr><tr><td>University of Copenhagen</td><td>79</td><td>Denmark</td><td>2014</td><td>4</td></tr><tr><td>University of Copenhagen</td><td>74</td><td>Denmark</td><td>2015</td><td>4</td></tr><tr><td>University of Crete</td><td>551</td><td>Greece</td><td>2014</td><td>2</td></tr><tr><td>University of Crete</td><td>515</td><td>Greece</td><td>2015</td><td>2</td></tr><tr><td>University of Cyprus</td><td>953</td><td>Cyprus</td><td>2014</td><td>2</td></tr><tr><td>University of Cyprus</td><td>928</td><td>Cyprus</td><td>2015</td><td>2</td></tr><tr><td>University of Cádiz</td><td>881</td><td>Spain</td><td>2014</td><td>2</td></tr><tr><td>University of Cádiz</td><td>930</td><td>Spain</td><td>2015</td><td>2</td></tr><tr><td>University of Córdoba (Spain)</td><td>763</td><td>Spain</td><td>2014</td><td>2</td></tr><tr><td>University of Córdoba (Spain)</td><td>734</td><td>Spain</td><td>2015</td><td>2</td></tr><tr><td>University of Dayton</td><td>538</td><td>USA</td><td>2014</td><td>2</td></tr><tr><td>University of Dayton</td><td>445</td><td>USA</td><td>2015</td><td>2</td></tr><tr><td>University of Debrecen</td><td>673</td><td>Hungary</td><td>2014</td><td>2</td></tr><tr><td>University of Debrecen</td><td>667</td><td>Hungary</td><td>2015</td><td>2</td></tr><tr><td>University of Delaware</td><td>247</td><td>USA</td><td>2014</td><td>2</td></tr><tr><td>University of Delaware</td><td>281</td><td>USA</td><td>2015</td><td>2</td></tr><tr><td>University of Delhi</td><td>436</td><td>India</td><td>2014</td><td>2</td></tr><tr><td>University of Delhi</td><td>379</td><td>India</td><td>2015</td><td>2</td></tr><tr><td>University of Denver</td><td>488</td><td>USA</td><td>2014</td><td>2</td></tr><tr><td>University of Denver</td><td>428</td><td>USA</td><td>2015</td><td>2</td></tr><tr><td>University of Duisburg-Essen</td><td>303</td><td>Germany</td><td>2014</td><td>2</td></tr><tr><td>University of Duisburg-Essen</td><td>288</td><td>Germany</td><td>2015</td><td>2</td></tr><tr><td>University of Dundee</td><td>252</td><td>United Kingdom</td><td>2014</td><td>2</td></tr><tr><td>University of Dundee</td><td>242</td><td>United Kingdom</td><td>2015</td><td>2</td></tr><tr><td>University of Düsseldorf</td><td>251</td><td>Germany</td><td>2014</td><td>2</td></tr><tr><td>University of Düsseldorf</td><td>251</td><td>Germany</td><td>2015</td><td>2</td></tr><tr><td>University of East Anglia</td><td>350</td><td>United Kingdom</td><td>2014</td><td>2</td></tr><tr><td>University of East Anglia</td><td>336</td><td>United Kingdom</td><td>2015</td><td>2</td></tr><tr><td>University of Eastern Finland</td><td>373</td><td>Finland</td><td>2014</td><td>2</td></tr><tr><td>University of Eastern Finland</td><td>366</td><td>Finland</td><td>2015</td><td>2</td></tr><tr><td>University of Eastern Piedmont Amedeo Avogadro</td><td>810</td><td>Italy</td><td>2014</td><td>2</td></tr><tr><td>University of Eastern Piedmont Amedeo Avogadro</td><td>630</td><td>Italy</td><td>2015</td><td>2</td></tr><tr><td>University of Edinburgh</td><td>60</td><td>United Kingdom</td><td>2012</td><td>4</td></tr><tr><td>University of Edinburgh</td><td>45</td><td>United Kingdom</td><td>2013</td><td>4</td></tr><tr><td>University of Edinburgh</td><td>56</td><td>United Kingdom</td><td>2014</td><td>4</td></tr><tr><td>University of Edinburgh</td><td>55</td><td>United Kingdom</td><td>2015</td><td>4</td></tr><tr><td>University of Electro-Communications</td><td>775</td><td>Japan</td><td>2014</td><td>2</td></tr><tr><td>University of Electro-Communications</td><td>840</td><td>Japan</td><td>2015</td><td>2</td></tr><tr><td>University of Electronic Science and Technology of China</td><td>790</td><td>China</td><td>2014</td><td>2</td></tr><tr><td>University of Electronic Science and Technology of China</td><td>783</td><td>China</td><td>2015</td><td>2</td></tr><tr><td>University of Erlangen-Nuremberg</td><td>213</td><td>Germany</td><td>2014</td><td>2</td></tr><tr><td>University of Erlangen-Nuremberg</td><td>204</td><td>Germany</td><td>2015</td><td>2</td></tr><tr><td>University of Essex</td><td>563</td><td>United Kingdom</td><td>2014</td><td>2</td></tr><tr><td>University of Essex</td><td>632</td><td>United Kingdom</td><td>2015</td><td>2</td></tr><tr><td>University of Exeter</td><td>357</td><td>United Kingdom</td><td>2014</td><td>2</td></tr><tr><td>University of Exeter</td><td>333</td><td>United Kingdom</td><td>2015</td><td>2</td></tr><tr><td>University of Extremadura</td><td>875</td><td>Spain</td><td>2014</td><td>2</td></tr><tr><td>University of Extremadura</td><td>872</td><td>Spain</td><td>2015</td><td>2</td></tr><tr><td>University of Ferrara</td><td>387</td><td>Italy</td><td>2014</td><td>2</td></tr><tr><td>University of Ferrara</td><td>369</td><td>Italy</td><td>2015</td><td>2</td></tr><tr><td>University of Florence</td><td>266</td><td>Italy</td><td>2014</td><td>2</td></tr><tr><td>University of Florence</td><td>247</td><td>Italy</td><td>2015</td><td>2</td></tr><tr><td>University of Florida</td><td>55</td><td>USA</td><td>2012</td><td>9</td></tr><tr><td>University of Florida</td><td>125</td><td>United States of America</td><td>2012</td><td>9</td></tr><tr><td>University of Florida</td><td>55</td><td>USA</td><td>2013</td><td>9</td></tr><tr><td>University of Florida</td><td>122</td><td>United States of America</td><td>2013</td><td>9</td></tr><tr><td>University of Florida</td><td>59</td><td>USA</td><td>2014</td><td>9</td></tr><tr><td>University of Florida</td><td>128</td><td>United States of America</td><td>2014</td><td>9</td></tr><tr><td>University of Florida</td><td>60</td><td>USA</td><td>2015</td><td>9</td></tr><tr><td>University of Florida</td><td>126</td><td>United States of America</td><td>2015</td><td>9</td></tr><tr><td>University of Florida</td><td>120</td><td>United States of America</td><td>2016</td><td>9</td></tr><tr><td>University of Franche-Comté</td><td>843</td><td>France</td><td>2014</td><td>2</td></tr><tr><td>University of Franche-Comté</td><td>816</td><td>France</td><td>2015</td><td>2</td></tr><tr><td>University of Fribourg</td><td>514</td><td>Switzerland</td><td>2014</td><td>2</td></tr><tr><td>University of Fribourg</td><td>573</td><td>Switzerland</td><td>2015</td><td>2</td></tr><tr><td>University of Fukui</td><td>863</td><td>Japan</td><td>2014</td><td>2</td></tr><tr><td>University of Fukui</td><td>900</td><td>Japan</td><td>2015</td><td>2</td></tr><tr><td>University of Geneva</td><td>65</td><td>Switzerland</td><td>2012</td><td>4</td></tr><tr><td>University of Geneva</td><td>56</td><td>Switzerland</td><td>2013</td><td>4</td></tr><tr><td>University of Geneva</td><td>75</td><td>Switzerland</td><td>2014</td><td>4</td></tr><tr><td>University of Geneva</td><td>92</td><td>Switzerland</td><td>2015</td><td>4</td></tr><tr><td>University of Genoa</td><td>341</td><td>Italy</td><td>2014</td><td>2</td></tr><tr><td>University of Genoa</td><td>330</td><td>Italy</td><td>2015</td><td>2</td></tr><tr><td>University of Georgia</td><td>207</td><td>USA</td><td>2014</td><td>2</td></tr><tr><td>University of Georgia</td><td>198</td><td>USA</td><td>2015</td><td>2</td></tr><tr><td>University of Girona</td><td>708</td><td>Spain</td><td>2014</td><td>2</td></tr><tr><td>University of Girona</td><td>673</td><td>Spain</td><td>2015</td><td>2</td></tr><tr><td>University of Glasgow</td><td>137</td><td>United Kingdom</td><td>2014</td><td>2</td></tr><tr><td>University of Glasgow</td><td>128</td><td>United Kingdom</td><td>2015</td><td>2</td></tr><tr><td>University of Gothenburg</td><td>168</td><td>Sweden</td><td>2014</td><td>2</td></tr><tr><td>University of Gothenburg</td><td>237</td><td>Sweden</td><td>2015</td><td>2</td></tr><tr><td>University of Granada</td><td>453</td><td>Spain</td><td>2014</td><td>2</td></tr><tr><td>University of Granada</td><td>431</td><td>Spain</td><td>2015</td><td>2</td></tr><tr><td>University of Graz</td><td>518</td><td>Austria</td><td>2014</td><td>2</td></tr><tr><td>University of Graz</td><td>584</td><td>Austria</td><td>2015</td><td>2</td></tr><tr><td>University of Greifswald</td><td>861</td><td>Germany</td><td>2014</td><td>2</td></tr><tr><td>University of Greifswald</td><td>785</td><td>Germany</td><td>2015</td><td>2</td></tr><tr><td>University of Groningen</td><td>127</td><td>Netherlands</td><td>2014</td><td>2</td></tr><tr><td>University of Groningen</td><td>110</td><td>Netherlands</td><td>2015</td><td>2</td></tr><tr><td>University of Guelph</td><td>366</td><td>Canada</td><td>2014</td><td>2</td></tr><tr><td>University of Guelph</td><td>368</td><td>Canada</td><td>2015</td><td>2</td></tr><tr><td>University of Göttingen</td><td>169</td><td>Germany</td><td>2014</td><td>2</td></tr><tr><td>University of Göttingen</td><td>177</td><td>Germany</td><td>2015</td><td>2</td></tr><tr><td>University of Haifa</td><td>697</td><td>Israel</td><td>2014</td><td>2</td></tr><tr><td>University of Haifa</td><td>700</td><td>Israel</td><td>2015</td><td>2</td></tr><tr><td>University of Hamburg</td><td>179</td><td>Germany</td><td>2014</td><td>2</td></tr><tr><td>University of Hamburg</td><td>162</td><td>Germany</td><td>2015</td><td>2</td></tr><tr><td>University of Hanover</td><td>497</td><td>Germany</td><td>2014</td><td>2</td></tr><tr><td>University of Hanover</td><td>492</td><td>Germany</td><td>2015</td><td>2</td></tr><tr><td>University of Hawaii at Manoa</td><td>469</td><td>USA</td><td>2014</td><td>2</td></tr><tr><td>University of Hawaii at Manoa</td><td>488</td><td>USA</td><td>2015</td><td>2</td></tr><tr><td>University of Helsinki</td><td>89</td><td>Finland</td><td>2012</td><td>4</td></tr><tr><td>University of Helsinki</td><td>98</td><td>Finland</td><td>2013</td><td>4</td></tr><tr><td>University of Helsinki</td><td>110</td><td>Finland</td><td>2014</td><td>4</td></tr><tr><td>University of Helsinki</td><td>111</td><td>Finland</td><td>2015</td><td>4</td></tr><tr><td>University of Hertfordshire</td><td>645</td><td>United Kingdom</td><td>2014</td><td>2</td></tr><tr><td>University of Hertfordshire</td><td>604</td><td>United Kingdom</td><td>2015</td><td>2</td></tr><tr><td>University of Hohenheim</td><td>799</td><td>Germany</td><td>2014</td><td>2</td></tr><tr><td>University of Hohenheim</td><td>793</td><td>Germany</td><td>2015</td><td>2</td></tr><tr><td>University of Hong Kong</td><td>155</td><td>Hong Kong</td><td>2014</td><td>2</td></tr><tr><td>University of Hong Kong</td><td>170</td><td>Hong Kong</td><td>2015</td><td>2</td></tr><tr><td>University of Houston</td><td>162</td><td>USA</td><td>2014</td><td>2</td></tr><tr><td>University of Houston</td><td>184</td><td>USA</td><td>2015</td><td>2</td></tr><tr><td>University of Hull</td><td>317</td><td>United Kingdom</td><td>2014</td><td>2</td></tr><tr><td>University of Hull</td><td>506</td><td>United Kingdom</td><td>2015</td><td>2</td></tr><tr><td>University of Hyderabad</td><td>911</td><td>India</td><td>2014</td><td>2</td></tr><tr><td>University of Hyderabad</td><td>925</td><td>India</td><td>2015</td><td>2</td></tr><tr><td>University of Hyogo</td><td>752</td><td>Japan</td><td>2014</td><td>2</td></tr><tr><td>University of Hyogo</td><td>763</td><td>Japan</td><td>2015</td><td>2</td></tr><tr><td>University of Iceland</td><td>516</td><td>Iceland</td><td>2014</td><td>2</td></tr><tr><td>University of Iceland</td><td>461</td><td>Iceland</td><td>2015</td><td>2</td></tr><tr><td>University of Idaho</td><td>638</td><td>USA</td><td>2014</td><td>2</td></tr><tr><td>University of Idaho</td><td>655</td><td>USA</td><td>2015</td><td>2</td></tr><tr><td>University of Illinois at Chicago</td><td>197</td><td>United States of America</td><td>2011</td><td>6</td></tr><tr><td>University of Illinois at Chicago</td><td>167</td><td>United States of America</td><td>2012</td><td>6</td></tr><tr><td>University of Illinois at Chicago</td><td>184</td><td>United States of America</td><td>2013</td><td>6</td></tr><tr><td>University of Illinois at Chicago</td><td>218</td><td>USA</td><td>2014</td><td>6</td></tr><tr><td>University of Illinois at Chicago</td><td>191</td><td>United States of America</td><td>2014</td><td>6</td></tr><tr><td>University of Illinois at Chicago</td><td>203</td><td>USA</td><td>2015</td><td>6</td></tr><tr><td>University of Illinois at Urbana-Champaign</td><td>33</td><td>United States of America</td><td>2011</td><td>6</td></tr><tr><td>University of Illinois at Urbana-Champaign</td><td>31</td><td>United States of America</td><td>2012</td><td>6</td></tr><tr><td>University of Illinois at Urbana-Champaign</td><td>33</td><td>United States of America</td><td>2013</td><td>6</td></tr><tr><td>University of Illinois at Urbana-Champaign</td><td>29</td><td>United States of America</td><td>2014</td><td>6</td></tr><tr><td>University of Illinois at Urbana-Champaign</td><td>29</td><td>United States of America</td><td>2015</td><td>6</td></tr><tr><td>University of Illinois at Urbana-Champaign</td><td>36</td><td>United States of America</td><td>2016</td><td>6</td></tr><tr><td>University of Illinois at Urbana–Champaign</td><td>26</td><td>USA</td><td>2012</td><td>4</td></tr><tr><td>University of Illinois at Urbana–Champaign</td><td>24</td><td>USA</td><td>2013</td><td>4</td></tr><tr><td>University of Illinois at Urbana–Champaign</td><td>28</td><td>USA</td><td>2014</td><td>4</td></tr><tr><td>University of Illinois at Urbana–Champaign</td><td>33</td><td>USA</td><td>2015</td><td>4</td></tr><tr><td>University of Innsbruck</td><td>326</td><td>Austria</td><td>2014</td><td>2</td></tr><tr><td>University of Innsbruck</td><td>347</td><td>Austria</td><td>2015</td><td>2</td></tr><tr><td>University of Insubria</td><td>676</td><td>Italy</td><td>2014</td><td>2</td></tr><tr><td>University of Insubria</td><td>676</td><td>Italy</td><td>2015</td><td>2</td></tr><tr><td>University of Ioannina</td><td>582</td><td>Greece</td><td>2014</td><td>2</td></tr><tr><td>University of Ioannina</td><td>582</td><td>Greece</td><td>2015</td><td>2</td></tr><tr><td>University of Iowa</td><td>132</td><td>United States of America</td><td>2011</td><td>7</td></tr><tr><td>University of Iowa</td><td>141</td><td>United States of America</td><td>2012</td><td>7</td></tr><tr><td>University of Iowa</td><td>169</td><td>United States of America</td><td>2013</td><td>7</td></tr><tr><td>University of Iowa</td><td>125</td><td>USA</td><td>2014</td><td>7</td></tr><tr><td>University of Iowa</td><td>161</td><td>United States of America</td><td>2014</td><td>7</td></tr><tr><td>University of Iowa</td><td>141</td><td>USA</td><td>2015</td><td>7</td></tr><tr><td>University of Iowa</td><td>175</td><td>United States of America</td><td>2015</td><td>7</td></tr><tr><td>University of Jaén</td><td>902</td><td>Spain</td><td>2014</td><td>2</td></tr><tr><td>University of Jaén</td><td>935</td><td>Spain</td><td>2015</td><td>2</td></tr><tr><td>University of Jena</td><td>358</td><td>Germany</td><td>2014</td><td>2</td></tr><tr><td>University of Jena</td><td>328</td><td>Germany</td><td>2015</td><td>2</td></tr><tr><td>University of Jyväskylä</td><td>664</td><td>Finland</td><td>2014</td><td>2</td></tr><tr><td>University of Jyväskylä</td><td>671</td><td>Finland</td><td>2015</td><td>2</td></tr><tr><td>University of Kansas</td><td>203</td><td>USA</td><td>2014</td><td>2</td></tr><tr><td>University of Kansas</td><td>196</td><td>USA</td><td>2015</td><td>2</td></tr><tr><td>University of Kent</td><td>693</td><td>United Kingdom</td><td>2014</td><td>2</td></tr><tr><td>University of Kent</td><td>692</td><td>United Kingdom</td><td>2015</td><td>2</td></tr><tr><td>University of Kentucky</td><td>259</td><td>USA</td><td>2014</td><td>2</td></tr><tr><td>University of Kentucky</td><td>267</td><td>USA</td><td>2015</td><td>2</td></tr><tr><td>University of Kiel</td><td>232</td><td>Germany</td><td>2014</td><td>2</td></tr><tr><td>University of Kiel</td><td>215</td><td>Germany</td><td>2015</td><td>2</td></tr><tr><td>University of Konstanz</td><td>468</td><td>Germany</td><td>2014</td><td>2</td></tr><tr><td>University of Konstanz</td><td>490</td><td>Germany</td><td>2015</td><td>2</td></tr><tr><td>University of KwaZulu-Natal</td><td>459</td><td>South Africa</td><td>2014</td><td>2</td></tr><tr><td>University of KwaZulu-Natal</td><td>478</td><td>South Africa</td><td>2015</td><td>2</td></tr><tr><td>University of L'Aquila</td><td>618</td><td>Italy</td><td>2014</td><td>2</td></tr><tr><td>University of L'Aquila</td><td>680</td><td>Italy</td><td>2015</td><td>2</td></tr><tr><td>University of La Laguna</td><td>641</td><td>Spain</td><td>2014</td><td>2</td></tr><tr><td>University of La Laguna</td><td>603</td><td>Spain</td><td>2015</td><td>2</td></tr><tr><td>University of Lausanne</td><td>194</td><td>Switzerland</td><td>2014</td><td>2</td></tr><tr><td>University of Lausanne</td><td>186</td><td>Switzerland</td><td>2015</td><td>2</td></tr><tr><td>University of Leeds</td><td>151</td><td>United Kingdom</td><td>2014</td><td>2</td></tr><tr><td>University of Leeds</td><td>161</td><td>United Kingdom</td><td>2015</td><td>2</td></tr><tr><td>University of Leicester</td><td>263</td><td>United Kingdom</td><td>2014</td><td>2</td></tr><tr><td>University of Leicester</td><td>240</td><td>United Kingdom</td><td>2015</td><td>2</td></tr><tr><td>University of Lethbridge</td><td>917</td><td>Canada</td><td>2015</td><td>1</td></tr><tr><td>University of Limerick</td><td>944</td><td>Ireland</td><td>2014</td><td>2</td></tr><tr><td>University of Limerick</td><td>981</td><td>Ireland</td><td>2015</td><td>2</td></tr><tr><td>University of Lisbon</td><td>278</td><td>Portugal</td><td>2014</td><td>2</td></tr><tr><td>University of Lisbon</td><td>257</td><td>Portugal</td><td>2015</td><td>2</td></tr><tr><td>University of Liverpool</td><td>211</td><td>United Kingdom</td><td>2014</td><td>2</td></tr><tr><td>University of Liverpool</td><td>199</td><td>United Kingdom</td><td>2015</td><td>2</td></tr><tr><td>University of Liège</td><td>316</td><td>Belgium</td><td>2014</td><td>2</td></tr><tr><td>University of Liège</td><td>321</td><td>Belgium</td><td>2015</td><td>2</td></tr><tr><td>University of Ljubljana</td><td>525</td><td>Slovenia</td><td>2014</td><td>2</td></tr><tr><td>University of Ljubljana</td><td>504</td><td>Slovenia</td><td>2015</td><td>2</td></tr><tr><td>University of Lleida</td><td>885</td><td>Spain</td><td>2014</td><td>2</td></tr><tr><td>University of Lleida</td><td>894</td><td>Spain</td><td>2015</td><td>2</td></tr><tr><td>University of Lorraine</td><td>402</td><td>France</td><td>2014</td><td>2</td></tr><tr><td>University of Lorraine</td><td>385</td><td>France</td><td>2015</td><td>2</td></tr><tr><td>University of Los Andes (Colombia)</td><td>587</td><td>Colombia</td><td>2014</td><td>2</td></tr><tr><td>University of Los Andes (Colombia)</td><td>652</td><td>Colombia</td><td>2015</td><td>2</td></tr><tr><td>University of Louisville</td><td>322</td><td>USA</td><td>2014</td><td>2</td></tr><tr><td>University of Louisville</td><td>298</td><td>USA</td><td>2015</td><td>2</td></tr><tr><td>University of Lübeck</td><td>759</td><td>Germany</td><td>2014</td><td>2</td></tr><tr><td>University of Lübeck</td><td>552</td><td>Germany</td><td>2015</td><td>2</td></tr><tr><td>University of Maine (Le Mans)</td><td>995</td><td>France</td><td>2014</td><td>1</td></tr><tr><td>University of Maine, Orono</td><td>702</td><td>USA</td><td>2014</td><td>2</td></tr><tr><td>University of Maine, Orono</td><td>668</td><td>USA</td><td>2015</td><td>2</td></tr><tr><td>University of Malaya</td><td>492</td><td>Malaysia</td><td>2014</td><td>2</td></tr><tr><td>University of Malaya</td><td>498</td><td>Malaysia</td><td>2015</td><td>2</td></tr><tr><td>University of Manchester</td><td>76</td><td>United Kingdom</td><td>2012</td><td>4</td></tr><tr><td>University of Manchester</td><td>72</td><td>United Kingdom</td><td>2013</td><td>4</td></tr><tr><td>University of Manchester</td><td>69</td><td>United Kingdom</td><td>2014</td><td>4</td></tr><tr><td>University of Manchester</td><td>67</td><td>United Kingdom</td><td>2015</td><td>4</td></tr><tr><td>University of Manitoba</td><td>220</td><td>Canada</td><td>2014</td><td>2</td></tr><tr><td>University of Manitoba</td><td>222</td><td>Canada</td><td>2015</td><td>2</td></tr><tr><td>University of Mannheim</td><td>908</td><td>Germany</td><td>2014</td><td>2</td></tr><tr><td>University of Mannheim</td><td>902</td><td>Germany</td><td>2015</td><td>2</td></tr><tr><td>University of Marburg</td><td>343</td><td>Germany</td><td>2014</td><td>2</td></tr><tr><td>University of Marburg</td><td>346</td><td>Germany</td><td>2015</td><td>2</td></tr><tr><td>University of Maribor</td><td>839</td><td>Slovenia</td><td>2014</td><td>2</td></tr><tr><td>University of Maribor</td><td>820</td><td>Slovenia</td><td>2015</td><td>2</td></tr><tr><td>University of Maryland, Baltimore</td><td>183</td><td>USA</td><td>2014</td><td>2</td></tr><tr><td>University of Maryland, Baltimore</td><td>175</td><td>USA</td><td>2015</td><td>2</td></tr><tr><td>University of Maryland, Baltimore County</td><td>505</td><td>USA</td><td>2014</td><td>2</td></tr><tr><td>University of Maryland, Baltimore County</td><td>493</td><td>USA</td><td>2015</td><td>2</td></tr><tr><td>University of Maryland, College Park</td><td>68</td><td>USA</td><td>2012</td><td>4</td></tr><tr><td>University of Maryland, College Park</td><td>59</td><td>USA</td><td>2013</td><td>4</td></tr><tr><td>University of Maryland, College Park</td><td>76</td><td>USA</td><td>2014</td><td>4</td></tr><tr><td>University of Maryland, College Park</td><td>72</td><td>USA</td><td>2015</td><td>4</td></tr><tr><td>University of Massachusetts Amherst</td><td>208</td><td>USA</td><td>2014</td><td>2</td></tr><tr><td>University of Massachusetts Amherst</td><td>219</td><td>USA</td><td>2015</td><td>2</td></tr><tr><td>University of Massachusetts Boston</td><td>847</td><td>USA</td><td>2014</td><td>2</td></tr><tr><td>University of Massachusetts Boston</td><td>825</td><td>USA</td><td>2015</td><td>2</td></tr><tr><td>University of Massachusetts Lowell</td><td>813</td><td>USA</td><td>2014</td><td>2</td></tr><tr><td>University of Massachusetts Lowell</td><td>884</td><td>USA</td><td>2015</td><td>2</td></tr><tr><td>University of Massachusetts Medical School</td><td>193</td><td>USA</td><td>2014</td><td>2</td></tr><tr><td>University of Massachusetts Medical School</td><td>183</td><td>USA</td><td>2015</td><td>2</td></tr><tr><td>University of Melbourne</td><td>97</td><td>Australia</td><td>2014</td><td>2</td></tr><tr><td>University of Melbourne</td><td>93</td><td>Australia</td><td>2015</td><td>2</td></tr><tr><td>University of Memphis</td><td>716</td><td>USA</td><td>2014</td><td>2</td></tr><tr><td>University of Memphis</td><td>746</td><td>USA</td><td>2015</td><td>2</td></tr><tr><td>University of Messina</td><td>680</td><td>Italy</td><td>2014</td><td>2</td></tr><tr><td>University of Messina</td><td>690</td><td>Italy</td><td>2015</td><td>2</td></tr><tr><td>University of Miami</td><td>172</td><td>United States of America</td><td>2012</td><td>7</td></tr><tr><td>University of Miami</td><td>193</td><td>United States of America</td><td>2013</td><td>7</td></tr><tr><td>University of Miami</td><td>138</td><td>USA</td><td>2014</td><td>7</td></tr><tr><td>University of Miami</td><td>185</td><td>United States of America</td><td>2014</td><td>7</td></tr><tr><td>University of Miami</td><td>137</td><td>USA</td><td>2015</td><td>7</td></tr><tr><td>University of Miami</td><td>169</td><td>United States of America</td><td>2015</td><td>7</td></tr><tr><td>University of Miami</td><td>161</td><td>United States of America</td><td>2016</td><td>7</td></tr><tr><td>University of Michigan, Ann Arbor</td><td>34</td><td>USA</td><td>2012</td><td>4</td></tr><tr><td>University of Michigan, Ann Arbor</td><td>32</td><td>USA</td><td>2013</td><td>4</td></tr><tr><td>University of Michigan, Ann Arbor</td><td>21</td><td>USA</td><td>2014</td><td>4</td></tr><tr><td>University of Michigan, Ann Arbor</td><td>19</td><td>USA</td><td>2015</td><td>4</td></tr><tr><td>University of Milan</td><td>181</td><td>Italy</td><td>2014</td><td>2</td></tr><tr><td>University of Milan</td><td>172</td><td>Italy</td><td>2015</td><td>2</td></tr><tr><td>University of Milan - Bicocca</td><td>431</td><td>Italy</td><td>2014</td><td>2</td></tr><tr><td>University of Milan - Bicocca</td><td>382</td><td>Italy</td><td>2015</td><td>2</td></tr><tr><td>University of Minho</td><td>679</td><td>Portugal</td><td>2014</td><td>2</td></tr><tr><td>University of Minho</td><td>629</td><td>Portugal</td><td>2015</td><td>2</td></tr><tr><td>University of Minnesota, Twin Cities</td><td>49</td><td>USA</td><td>2012</td><td>4</td></tr><tr><td>University of Minnesota, Twin Cities</td><td>44</td><td>USA</td><td>2013</td><td>4</td></tr><tr><td>University of Minnesota, Twin Cities</td><td>49</td><td>USA</td><td>2014</td><td>4</td></tr><tr><td>University of Minnesota, Twin Cities</td><td>48</td><td>USA</td><td>2015</td><td>4</td></tr><tr><td>University of Mississippi - Oxford Campus</td><td>441</td><td>USA</td><td>2014</td><td>2</td></tr><tr><td>University of Mississippi - Oxford Campus</td><td>522</td><td>USA</td><td>2015</td><td>2</td></tr><tr><td>University of Mississippi Medical Center</td><td>748</td><td>USA</td><td>2014</td><td>2</td></tr><tr><td>University of Mississippi Medical Center</td><td>754</td><td>USA</td><td>2015</td><td>2</td></tr><tr><td>University of Missouri–Columbia</td><td>196</td><td>USA</td><td>2014</td><td>2</td></tr><tr><td>University of Missouri–Columbia</td><td>194</td><td>USA</td><td>2015</td><td>2</td></tr><tr><td>University of Missouri–Kansas City</td><td>559</td><td>USA</td><td>2014</td><td>2</td></tr><tr><td>University of Missouri–Kansas City</td><td>554</td><td>USA</td><td>2015</td><td>2</td></tr><tr><td>University of Missouri–St. Louis</td><td>720</td><td>USA</td><td>2014</td><td>2</td></tr><tr><td>University of Missouri–St. Louis</td><td>748</td><td>USA</td><td>2015</td><td>2</td></tr><tr><td>University of Miyazaki</td><td>781</td><td>Japan</td><td>2014</td><td>2</td></tr><tr><td>University of Miyazaki</td><td>839</td><td>Japan</td><td>2015</td><td>2</td></tr><tr><td>University of Modena and Reggio Emilia</td><td>466</td><td>Italy</td><td>2014</td><td>2</td></tr><tr><td>University of Modena and Reggio Emilia</td><td>432</td><td>Italy</td><td>2015</td><td>2</td></tr><tr><td>University of Mons</td><td>764</td><td>Belgium</td><td>2014</td><td>2</td></tr><tr><td>University of Mons</td><td>741</td><td>Belgium</td><td>2015</td><td>2</td></tr><tr><td>University of Montana - Missoula</td><td>604</td><td>USA</td><td>2014</td><td>2</td></tr><tr><td>University of Montana - Missoula</td><td>585</td><td>USA</td><td>2015</td><td>2</td></tr><tr><td>University of Montpellier</td><td>224</td><td>France</td><td>2015</td><td>1</td></tr><tr><td>University of Montpellier 1</td><td>526</td><td>France</td><td>2014</td><td>1</td></tr><tr><td>University of Montpellier 2</td><td>241</td><td>France</td><td>2014</td><td>1</td></tr><tr><td>University of Montreal</td><td>134</td><td>Canada</td><td>2014</td><td>2</td></tr><tr><td>University of Montreal</td><td>151</td><td>Canada</td><td>2015</td><td>2</td></tr><tr><td>University of Murcia</td><td>803</td><td>Spain</td><td>2014</td><td>2</td></tr><tr><td>University of Murcia</td><td>799</td><td>Spain</td><td>2015</td><td>2</td></tr><tr><td>University of Málaga</td><td>519</td><td>Spain</td><td>2014</td><td>2</td></tr><tr><td>University of Málaga</td><td>693</td><td>Spain</td><td>2015</td><td>2</td></tr><tr><td>University of Münster</td><td>210</td><td>Germany</td><td>2014</td><td>2</td></tr><tr><td>University of Münster</td><td>205</td><td>Germany</td><td>2015</td><td>2</td></tr><tr><td>University of Nantes</td><td>562</td><td>France</td><td>2014</td><td>2</td></tr><tr><td>University of Nantes</td><td>539</td><td>France</td><td>2015</td><td>2</td></tr><tr><td>University of Naples Federico II</td><td>272</td><td>Italy</td><td>2014</td><td>2</td></tr><tr><td>University of Naples Federico II</td><td>268</td><td>Italy</td><td>2015</td><td>2</td></tr><tr><td>University of Natural Resources and Life Sciences, Vienna</td><td>711</td><td>Austria</td><td>2014</td><td>2</td></tr><tr><td>University of Natural Resources and Life Sciences, Vienna</td><td>743</td><td>Austria</td><td>2015</td><td>2</td></tr><tr><td>University of Navarra</td><td>347</td><td>Spain</td><td>2014</td><td>2</td></tr><tr><td>University of Navarra</td><td>338</td><td>Spain</td><td>2015</td><td>2</td></tr><tr><td>University of Nebraska Medical Center</td><td>351</td><td>USA</td><td>2014</td><td>2</td></tr><tr><td>University of Nebraska Medical Center</td><td>399</td><td>USA</td><td>2015</td><td>2</td></tr><tr><td>University of Nebraska Omaha</td><td>470</td><td>USA</td><td>2014</td><td>2</td></tr><tr><td>University of Nebraska Omaha</td><td>489</td><td>USA</td><td>2015</td><td>2</td></tr><tr><td>University of Nebraska–Lincoln</td><td>335</td><td>USA</td><td>2014</td><td>2</td></tr><tr><td>University of Nebraska–Lincoln</td><td>314</td><td>USA</td><td>2015</td><td>2</td></tr><tr><td>University of Neuchâtel</td><td>754</td><td>Switzerland</td><td>2014</td><td>2</td></tr><tr><td>University of Neuchâtel</td><td>758</td><td>Switzerland</td><td>2015</td><td>2</td></tr><tr><td>University of Nevada, Las Vegas</td><td>677</td><td>USA</td><td>2014</td><td>2</td></tr><tr><td>University of Nevada, Las Vegas</td><td>687</td><td>USA</td><td>2015</td><td>2</td></tr><tr><td>University of Nevada, Reno</td><td>460</td><td>USA</td><td>2014</td><td>2</td></tr><tr><td>University of Nevada, Reno</td><td>454</td><td>USA</td><td>2015</td><td>2</td></tr><tr><td>University of New Brunswick</td><td>831</td><td>Canada</td><td>2014</td><td>2</td></tr><tr><td>University of New Brunswick</td><td>870</td><td>Canada</td><td>2015</td><td>2</td></tr><tr><td>University of New England (Australia)</td><td>939</td><td>Australia</td><td>2014</td><td>2</td></tr><tr><td>University of New England (Australia)</td><td>811</td><td>Australia</td><td>2015</td><td>2</td></tr><tr><td>University of New Hampshire</td><td>404</td><td>USA</td><td>2014</td><td>2</td></tr><tr><td>University of New Hampshire</td><td>359</td><td>USA</td><td>2015</td><td>2</td></tr><tr><td>University of New Mexico</td><td>185</td><td>USA</td><td>2014</td><td>2</td></tr><tr><td>University of New Mexico</td><td>181</td><td>USA</td><td>2015</td><td>2</td></tr><tr><td>University of New Orleans</td><td>616</td><td>USA</td><td>2014</td><td>2</td></tr><tr><td>University of New Orleans</td><td>609</td><td>USA</td><td>2015</td><td>2</td></tr><tr><td>University of New South Wales</td><td>149</td><td>Australia</td><td>2014</td><td>2</td></tr><tr><td>University of New South Wales</td><td>130</td><td>Australia</td><td>2015</td><td>2</td></tr><tr><td>University of Newcastle</td><td>546</td><td>Australia</td><td>2014</td><td>2</td></tr><tr><td>University of Newcastle</td><td>494</td><td>Australia</td><td>2015</td><td>2</td></tr><tr><td>University of Nice Sophia Antipolis</td><td>532</td><td>France</td><td>2014</td><td>2</td></tr><tr><td>University of Nice Sophia Antipolis</td><td>505</td><td>France</td><td>2015</td><td>2</td></tr><tr><td>University of North Carolina at Chapel Hill</td><td>30</td><td>United States of America</td><td>2011</td><td>10</td></tr><tr><td>University of North Carolina at Chapel Hill</td><td>36</td><td>USA</td><td>2012</td><td>10</td></tr><tr><td>University of North Carolina at Chapel Hill</td><td>43</td><td>United States of America</td><td>2012</td><td>10</td></tr><tr><td>University of North Carolina at Chapel Hill</td><td>34</td><td>USA</td><td>2013</td><td>10</td></tr><tr><td>University of North Carolina at Chapel Hill</td><td>42</td><td>United States of America</td><td>2013</td><td>10</td></tr><tr><td>University of North Carolina at Chapel Hill</td><td>45</td><td>USA</td><td>2014</td><td>10</td></tr><tr><td>University of North Carolina at Chapel Hill</td><td>47</td><td>United States of America</td><td>2014</td><td>10</td></tr><tr><td>University of North Carolina at Chapel Hill</td><td>40</td><td>USA</td><td>2015</td><td>10</td></tr><tr><td>University of North Carolina at Chapel Hill</td><td>46</td><td>United States of America</td><td>2015</td><td>10</td></tr><tr><td>University of North Carolina at Chapel Hill</td><td>63</td><td>United States of America</td><td>2016</td><td>10</td></tr><tr><td>University of North Carolina at Charlotte</td><td>727</td><td>USA</td><td>2014</td><td>2</td></tr><tr><td>University of North Carolina at Charlotte</td><td>794</td><td>USA</td><td>2015</td><td>2</td></tr><tr><td>University of North Carolina at Greensboro</td><td>867</td><td>USA</td><td>2014</td><td>2</td></tr><tr><td>University of North Carolina at Greensboro</td><td>897</td><td>USA</td><td>2015</td><td>2</td></tr><tr><td>University of North Dakota</td><td>874</td><td>USA</td><td>2014</td><td>2</td></tr><tr><td>University of North Dakota</td><td>913</td><td>USA</td><td>2015</td><td>2</td></tr><tr><td>University of North Texas, Denton</td><td>747</td><td>USA</td><td>2014</td><td>2</td></tr><tr><td>University of North Texas, Denton</td><td>778</td><td>USA</td><td>2015</td><td>2</td></tr><tr><td>University of Notre Dame</td><td>63</td><td>United States of America</td><td>2011</td><td>8</td></tr><tr><td>University of Notre Dame</td><td>89</td><td>United States of America</td><td>2012</td><td>8</td></tr><tr><td>University of Notre Dame</td><td>94</td><td>United States of America</td><td>2013</td><td>8</td></tr><tr><td>University of Notre Dame</td><td>64</td><td>USA</td><td>2014</td><td>8</td></tr><tr><td>University of Notre Dame</td><td>90</td><td>United States of America</td><td>2014</td><td>8</td></tr><tr><td>University of Notre Dame</td><td>77</td><td>USA</td><td>2015</td><td>8</td></tr><tr><td>University of Notre Dame</td><td>86</td><td>United States of America</td><td>2015</td><td>8</td></tr><tr><td>University of Notre Dame</td><td>108</td><td>United States of America</td><td>2016</td><td>8</td></tr><tr><td>University of Nottingham</td><td>97</td><td>United Kingdom</td><td>2012</td><td>3</td></tr><tr><td>University of Nottingham</td><td>147</td><td>United Kingdom</td><td>2014</td><td>3</td></tr><tr><td>University of Nottingham</td><td>140</td><td>United Kingdom</td><td>2015</td><td>3</td></tr><tr><td>University of Oklahoma - Norman Campus</td><td>235</td><td>USA</td><td>2014</td><td>2</td></tr><tr><td>University of Oklahoma - Norman Campus</td><td>350</td><td>USA</td><td>2015</td><td>2</td></tr><tr><td>University of Oklahoma Health Sciences Center</td><td>476</td><td>USA</td><td>2015</td><td>1</td></tr><tr><td>University of Oldenburg</td><td>966</td><td>Germany</td><td>2014</td><td>2</td></tr><tr><td>University of Oldenburg</td><td>801</td><td>Germany</td><td>2015</td><td>2</td></tr><tr><td>University of Oregon</td><td>346</td><td>USA</td><td>2014</td><td>2</td></tr><tr><td>University of Oregon</td><td>339</td><td>USA</td><td>2015</td><td>2</td></tr><tr><td>University of Orléans</td><td>889</td><td>France</td><td>2014</td><td>2</td></tr><tr><td>University of Orléans</td><td>879</td><td>France</td><td>2015</td><td>2</td></tr><tr><td>University of Oslo</td><td>91</td><td>Norway</td><td>2012</td><td>4</td></tr><tr><td>University of Oslo</td><td>81</td><td>Norway</td><td>2013</td><td>4</td></tr><tr><td>University of Oslo</td><td>111</td><td>Norway</td><td>2014</td><td>4</td></tr><tr><td>University of Oslo</td><td>99</td><td>Norway</td><td>2015</td><td>4</td></tr><tr><td>University of Osnabrück</td><td>909</td><td>Germany</td><td>2014</td><td>2</td></tr><tr><td>University of Osnabrück</td><td>876</td><td>Germany</td><td>2015</td><td>2</td></tr><tr><td>University of Otago</td><td>355</td><td>New Zealand</td><td>2014</td><td>2</td></tr><tr><td>University of Otago</td><td>357</td><td>New Zealand</td><td>2015</td><td>2</td></tr><tr><td>University of Ottawa</td><td>212</td><td>Canada</td><td>2014</td><td>2</td></tr><tr><td>University of Ottawa</td><td>193</td><td>Canada</td><td>2015</td><td>2</td></tr><tr><td>University of Oulu</td><td>425</td><td>Finland</td><td>2014</td><td>2</td></tr><tr><td>University of Oulu</td><td>447</td><td>Finland</td><td>2015</td><td>2</td></tr><tr><td>University of Oviedo</td><td>580</td><td>Spain</td><td>2014</td><td>2</td></tr><tr><td>University of Oviedo</td><td>559</td><td>Spain</td><td>2015</td><td>2</td></tr><tr><td>University of Oxford</td><td>7</td><td>United Kingdom</td><td>2012</td><td>4</td></tr><tr><td>University of Oxford</td><td>3</td><td>United Kingdom</td><td>2013</td><td>4</td></tr><tr><td>University of Oxford</td><td>5</td><td>United Kingdom</td><td>2014</td><td>4</td></tr><tr><td>University of Oxford</td><td>5</td><td>United Kingdom</td><td>2015</td><td>4</td></tr><tr><td>University of Padua</td><td>184</td><td>Italy</td><td>2014</td><td>2</td></tr><tr><td>University of Padua</td><td>169</td><td>Italy</td><td>2015</td><td>2</td></tr><tr><td>University of Palermo</td><td>554</td><td>Italy</td><td>2014</td><td>2</td></tr><tr><td>University of Palermo</td><td>528</td><td>Italy</td><td>2015</td><td>2</td></tr><tr><td>University of Paris 13</td><td>689</td><td>France</td><td>2014</td><td>2</td></tr><tr><td>University of Paris 13</td><td>672</td><td>France</td><td>2015</td><td>2</td></tr><tr><td>University of Paris-Sud</td><td>48</td><td>France</td><td>2012</td><td>4</td></tr><tr><td>University of Paris-Sud</td><td>36</td><td>France</td><td>2013</td><td>4</td></tr><tr><td>University of Paris-Sud</td><td>50</td><td>France</td><td>2014</td><td>4</td></tr><tr><td>University of Paris-Sud</td><td>58</td><td>France</td><td>2015</td><td>4</td></tr><tr><td>University of Parma</td><td>455</td><td>Italy</td><td>2014</td><td>2</td></tr><tr><td>University of Parma</td><td>456</td><td>Italy</td><td>2015</td><td>2</td></tr><tr><td>University of Patras</td><td>631</td><td>Greece</td><td>2014</td><td>2</td></tr><tr><td>University of Patras</td><td>641</td><td>Greece</td><td>2015</td><td>2</td></tr><tr><td>University of Pau and Pays de l'Adour</td><td>979</td><td>France</td><td>2014</td><td>2</td></tr><tr><td>University of Pau and Pays de l'Adour</td><td>989</td><td>France</td><td>2015</td><td>2</td></tr><tr><td>University of Pavia</td><td>344</td><td>Italy</td><td>2014</td><td>2</td></tr><tr><td>University of Pavia</td><td>327</td><td>Italy</td><td>2015</td><td>2</td></tr><tr><td>University of Pennsylvania</td><td>13</td><td>USA</td><td>2012</td><td>4</td></tr><tr><td>University of Pennsylvania</td><td>12</td><td>USA</td><td>2013</td><td>4</td></tr><tr><td>University of Pennsylvania</td><td>14</td><td>USA</td><td>2014</td><td>4</td></tr><tr><td>University of Pennsylvania</td><td>14</td><td>USA</td><td>2015</td><td>4</td></tr><tr><td>University of Perpignan Via Domitia</td><td>780</td><td>France</td><td>2014</td><td>2</td></tr><tr><td>University of Perpignan Via Domitia</td><td>822</td><td>France</td><td>2015</td><td>2</td></tr><tr><td>University of Perugia</td><td>359</td><td>Italy</td><td>2014</td><td>2</td></tr><tr><td>University of Perugia</td><td>344</td><td>Italy</td><td>2015</td><td>2</td></tr><tr><td>University of Picardie Jules Verne</td><td>795</td><td>France</td><td>2014</td><td>2</td></tr><tr><td>University of Picardie Jules Verne</td><td>764</td><td>France</td><td>2015</td><td>2</td></tr><tr><td>University of Pisa</td><td>308</td><td>Italy</td><td>2014</td><td>2</td></tr><tr><td>University of Pisa</td><td>295</td><td>Italy</td><td>2015</td><td>2</td></tr><tr><td>University of Pittsburgh - Pittsburgh Campus</td><td>71</td><td>USA</td><td>2012</td><td>4</td></tr><tr><td>University of Pittsburgh - Pittsburgh Campus</td><td>69</td><td>USA</td><td>2013</td><td>4</td></tr><tr><td>University of Pittsburgh - Pittsburgh Campus</td><td>53</td><td>USA</td><td>2014</td><td>4</td></tr><tr><td>University of Pittsburgh - Pittsburgh Campus</td><td>46</td><td>USA</td><td>2015</td><td>4</td></tr><tr><td>University of Poitiers</td><td>622</td><td>France</td><td>2014</td><td>2</td></tr><tr><td>University of Poitiers</td><td>675</td><td>France</td><td>2015</td><td>2</td></tr><tr><td>University of Porto</td><td>290</td><td>Portugal</td><td>2014</td><td>2</td></tr><tr><td>University of Porto</td><td>308</td><td>Portugal</td><td>2015</td><td>2</td></tr><tr><td>University of Portsmouth</td><td>640</td><td>United Kingdom</td><td>2014</td><td>2</td></tr><tr><td>University of Portsmouth</td><td>597</td><td>United Kingdom</td><td>2015</td><td>2</td></tr><tr><td>University of Potsdam</td><td>530</td><td>Germany</td><td>2014</td><td>2</td></tr><tr><td>University of Potsdam</td><td>517</td><td>Germany</td><td>2015</td><td>2</td></tr><tr><td>University of Pretoria</td><td>609</td><td>South Africa</td><td>2014</td><td>2</td></tr><tr><td>University of Pretoria</td><td>678</td><td>South Africa</td><td>2015</td><td>2</td></tr><tr><td>University of Puerto Rico at Mayagüez</td><td>977</td><td>Puerto Rico</td><td>2014</td><td>2</td></tr><tr><td>University of Puerto Rico at Mayagüez</td><td>962</td><td>Puerto Rico</td><td>2015</td><td>2</td></tr><tr><td>University of Pécs</td><td>862</td><td>Hungary</td><td>2014</td><td>2</td></tr><tr><td>University of Pécs</td><td>892</td><td>Hungary</td><td>2015</td><td>2</td></tr><tr><td>University of Queensland</td><td>92</td><td>Australia</td><td>2012</td><td>3</td></tr><tr><td>University of Queensland</td><td>115</td><td>Australia</td><td>2014</td><td>3</td></tr><tr><td>University of Queensland</td><td>103</td><td>Australia</td><td>2015</td><td>3</td></tr><tr><td>University of Québec at Montreal</td><td>671</td><td>Canada</td><td>2014</td><td>2</td></tr><tr><td>University of Québec at Montreal</td><td>663</td><td>Canada</td><td>2015</td><td>2</td></tr><tr><td>University of Reading</td><td>287</td><td>United Kingdom</td><td>2014</td><td>2</td></tr><tr><td>University of Reading</td><td>263</td><td>United Kingdom</td><td>2015</td><td>2</td></tr><tr><td>University of Regensburg</td><td>338</td><td>Germany</td><td>2014</td><td>2</td></tr><tr><td>University of Regensburg</td><td>318</td><td>Germany</td><td>2015</td><td>2</td></tr><tr><td>University of Regina</td><td>827</td><td>Canada</td><td>2014</td><td>2</td></tr><tr><td>University of Regina</td><td>836</td><td>Canada</td><td>2015</td><td>2</td></tr><tr><td>University of Reims Champagne-Ardenne</td><td>948</td><td>France</td><td>2014</td><td>2</td></tr><tr><td>University of Reims Champagne-Ardenne</td><td>978</td><td>France</td><td>2015</td><td>2</td></tr><tr><td>University of Rennes 1</td><td>476</td><td>France</td><td>2014</td><td>2</td></tr><tr><td>University of Rennes 1</td><td>475</td><td>France</td><td>2015</td><td>2</td></tr><tr><td>University of Rhode Island</td><td>659</td><td>USA</td><td>2014</td><td>2</td></tr><tr><td>University of Rhode Island</td><td>606</td><td>USA</td><td>2015</td><td>2</td></tr><tr><td>University of Rochester</td><td>53</td><td>USA</td><td>2012</td><td>9</td></tr><tr><td>University of Rochester</td><td>81</td><td>United States of America</td><td>2012</td><td>9</td></tr><tr><td>University of Rochester</td><td>76</td><td>USA</td><td>2013</td><td>9</td></tr><tr><td>University of Rochester</td><td>102</td><td>United States of America</td><td>2013</td><td>9</td></tr><tr><td>University of Rochester</td><td>77</td><td>USA</td><td>2014</td><td>9</td></tr><tr><td>University of Rochester</td><td>95</td><td>United States of America</td><td>2014</td><td>9</td></tr><tr><td>University of Rochester</td><td>81</td><td>USA</td><td>2015</td><td>9</td></tr><tr><td>University of Rochester</td><td>121</td><td>United States of America</td><td>2015</td><td>9</td></tr><tr><td>University of Rochester</td><td>158</td><td>United States of America</td><td>2016</td><td>9</td></tr><tr><td>University of Rome Tor Vergata</td><td>325</td><td>Italy</td><td>2014</td><td>2</td></tr><tr><td>University of Rome Tor Vergata</td><td>317</td><td>Italy</td><td>2015</td><td>2</td></tr><tr><td>University of Rostock</td><td>481</td><td>Germany</td><td>2014</td><td>2</td></tr><tr><td>University of Rostock</td><td>450</td><td>Germany</td><td>2015</td><td>2</td></tr><tr><td>University of Rouen</td><td>792</td><td>France</td><td>2014</td><td>2</td></tr><tr><td>University of Rouen</td><td>831</td><td>France</td><td>2015</td><td>2</td></tr><tr><td>University of Salamanca</td><td>620</td><td>Spain</td><td>2014</td><td>2</td></tr><tr><td>University of Salamanca</td><td>637</td><td>Spain</td><td>2015</td><td>2</td></tr><tr><td>University of Salento</td><td>785</td><td>Italy</td><td>2014</td><td>2</td></tr><tr><td>University of Salento</td><td>765</td><td>Italy</td><td>2015</td><td>2</td></tr><tr><td>University of Salerno</td><td>740</td><td>Italy</td><td>2014</td><td>2</td></tr><tr><td>University of Salerno</td><td>703</td><td>Italy</td><td>2015</td><td>2</td></tr><tr><td>University of Salzburg</td><td>812</td><td>Austria</td><td>2014</td><td>2</td></tr><tr><td>University of Salzburg</td><td>753</td><td>Austria</td><td>2015</td><td>2</td></tr><tr><td>University of Santiago de Compostela</td><td>356</td><td>Spain</td><td>2014</td><td>2</td></tr><tr><td>University of Santiago de Compostela</td><td>363</td><td>Spain</td><td>2015</td><td>2</td></tr><tr><td>University of Saskatchewan</td><td>483</td><td>Canada</td><td>2014</td><td>2</td></tr><tr><td>University of Saskatchewan</td><td>455</td><td>Canada</td><td>2015</td><td>2</td></tr><tr><td>University of Sassari</td><td>841</td><td>Italy</td><td>2014</td><td>2</td></tr><tr><td>University of Sassari</td><td>817</td><td>Italy</td><td>2015</td><td>2</td></tr><tr><td>University of Savoy</td><td>557</td><td>France</td><td>2014</td><td>2</td></tr><tr><td>University of Savoy</td><td>499</td><td>France</td><td>2015</td><td>2</td></tr><tr><td>University of Science and Technology Beijing</td><td>599</td><td>China</td><td>2014</td><td>2</td></tr><tr><td>University of Science and Technology Beijing</td><td>530</td><td>China</td><td>2015</td><td>2</td></tr><tr><td>University of Science and Technology of China</td><td>270</td><td>China</td><td>2014</td><td>2</td></tr><tr><td>University of Science and Technology of China</td><td>239</td><td>China</td><td>2015</td><td>2</td></tr><tr><td>University of Science, Malaysia</td><td>315</td><td>Malaysia</td><td>2014</td><td>2</td></tr><tr><td>University of Science, Malaysia</td><td>482</td><td>Malaysia</td><td>2015</td><td>2</td></tr><tr><td>University of Seoul</td><td>970</td><td>South Korea</td><td>2014</td><td>2</td></tr><tr><td>University of Seoul</td><td>860</td><td>South Korea</td><td>2015</td><td>2</td></tr><tr><td>University of Seville</td><td>384</td><td>Spain</td><td>2014</td><td>2</td></tr><tr><td>University of Seville</td><td>398</td><td>Spain</td><td>2015</td><td>2</td></tr><tr><td>University of Sheffield</td><td>178</td><td>United Kingdom</td><td>2014</td><td>2</td></tr><tr><td>University of Sheffield</td><td>173</td><td>United Kingdom</td><td>2015</td><td>2</td></tr><tr><td>University of Sherbrooke</td><td>517</td><td>Canada</td><td>2014</td><td>2</td></tr><tr><td>University of Sherbrooke</td><td>502</td><td>Canada</td><td>2015</td><td>2</td></tr><tr><td>University of Siegen</td><td>890</td><td>Germany</td><td>2014</td><td>2</td></tr><tr><td>University of Siegen</td><td>857</td><td>Germany</td><td>2015</td><td>2</td></tr><tr><td>University of Siena</td><td>456</td><td>Italy</td><td>2014</td><td>2</td></tr><tr><td>University of Siena</td><td>446</td><td>Italy</td><td>2015</td><td>2</td></tr><tr><td>University of Silesia</td><td>954</td><td>Poland</td><td>2014</td><td>2</td></tr><tr><td>University of Silesia</td><td>964</td><td>Poland</td><td>2015</td><td>2</td></tr><tr><td>University of South Alabama</td><td>767</td><td>USA</td><td>2014</td><td>2</td></tr><tr><td>University of South Alabama</td><td>844</td><td>USA</td><td>2015</td><td>2</td></tr><tr><td>University of South Australia</td><td>723</td><td>Australia</td><td>2014</td><td>2</td></tr><tr><td>University of South Australia</td><td>751</td><td>Australia</td><td>2015</td><td>2</td></tr><tr><td>University of South Carolina - Columbia</td><td>298</td><td>USA</td><td>2014</td><td>2</td></tr><tr><td>University of South Carolina - Columbia</td><td>300</td><td>USA</td><td>2015</td><td>2</td></tr><tr><td>University of South Florida - Tampa</td><td>173</td><td>USA</td><td>2014</td><td>2</td></tr><tr><td>University of South Florida - Tampa</td><td>190</td><td>USA</td><td>2015</td><td>2</td></tr><tr><td>University of Southampton</td><td>146</td><td>United Kingdom</td><td>2014</td><td>2</td></tr><tr><td>University of Southampton</td><td>148</td><td>United Kingdom</td><td>2015</td><td>2</td></tr><tr><td>University of Southern California</td><td>73</td><td>United States of America</td><td>2011</td><td>10</td></tr><tr><td>University of Southern California</td><td>44</td><td>USA</td><td>2012</td><td>10</td></tr><tr><td>University of Southern California</td><td>55</td><td>United States of America</td><td>2012</td><td>10</td></tr><tr><td>University of Southern California</td><td>39</td><td>USA</td><td>2013</td><td>10</td></tr><tr><td>University of Southern California</td><td>56</td><td>United States of America</td><td>2013</td><td>10</td></tr><tr><td>University of Southern California</td><td>51</td><td>USA</td><td>2014</td><td>10</td></tr><tr><td>University of Southern California</td><td>70</td><td>United States of America</td><td>2014</td><td>10</td></tr><tr><td>University of Southern California</td><td>51</td><td>USA</td><td>2015</td><td>10</td></tr><tr><td>University of Southern California</td><td>75</td><td>United States of America</td><td>2015</td><td>10</td></tr><tr><td>University of Southern California</td><td>68</td><td>United States of America</td><td>2016</td><td>10</td></tr><tr><td>University of Southern Denmark</td><td>352</td><td>Denmark</td><td>2014</td><td>2</td></tr><tr><td>University of Southern Denmark</td><td>356</td><td>Denmark</td><td>2015</td><td>2</td></tr><tr><td>University of Southern Mississippi</td><td>913</td><td>USA</td><td>2014</td><td>2</td></tr><tr><td>University of Southern Mississippi</td><td>901</td><td>USA</td><td>2015</td><td>2</td></tr><tr><td>University of St Andrews</td><td>323</td><td>United Kingdom</td><td>2014</td><td>2</td></tr><tr><td>University of St Andrews</td><td>309</td><td>United Kingdom</td><td>2015</td><td>2</td></tr><tr><td>University of Stirling</td><td>735</td><td>United Kingdom</td><td>2014</td><td>2</td></tr><tr><td>University of Stirling</td><td>784</td><td>United Kingdom</td><td>2015</td><td>2</td></tr><tr><td>University of Strasbourg</td><td>176</td><td>France</td><td>2014</td><td>2</td></tr><tr><td>University of Strasbourg</td><td>182</td><td>France</td><td>2015</td><td>2</td></tr><tr><td>University of Strathclyde</td><td>472</td><td>United Kingdom</td><td>2014</td><td>2</td></tr><tr><td>University of Strathclyde</td><td>453</td><td>United Kingdom</td><td>2015</td><td>2</td></tr><tr><td>University of Stuttgart</td><td>300</td><td>Germany</td><td>2014</td><td>2</td></tr><tr><td>University of Stuttgart</td><td>316</td><td>Germany</td><td>2015</td><td>2</td></tr><tr><td>University of Surrey</td><td>499</td><td>United Kingdom</td><td>2014</td><td>2</td></tr><tr><td>University of Surrey</td><td>525</td><td>United Kingdom</td><td>2015</td><td>2</td></tr><tr><td>University of Sussex</td><td>190</td><td>United Kingdom</td><td>2014</td><td>2</td></tr><tr><td>University of Sussex</td><td>253</td><td>United Kingdom</td><td>2015</td><td>2</td></tr><tr><td>University of Sydney</td><td>94</td><td>Australia</td><td>2012</td><td>4</td></tr><tr><td>University of Sydney</td><td>92</td><td>Australia</td><td>2013</td><td>4</td></tr><tr><td>University of Sydney</td><td>95</td><td>Australia</td><td>2014</td><td>4</td></tr><tr><td>University of Sydney</td><td>88</td><td>Australia</td><td>2015</td><td>4</td></tr><tr><td>University of Szeged</td><td>712</td><td>Hungary</td><td>2014</td><td>2</td></tr><tr><td>University of Szeged</td><td>731</td><td>Hungary</td><td>2015</td><td>2</td></tr><tr><td>University of São Paulo</td><td>131</td><td>Brazil</td><td>2014</td><td>2</td></tr><tr><td>University of São Paulo</td><td>132</td><td>Brazil</td><td>2015</td><td>2</td></tr><tr><td>University of Tampere</td><td>430</td><td>Finland</td><td>2014</td><td>2</td></tr><tr><td>University of Tampere</td><td>442</td><td>Finland</td><td>2015</td><td>2</td></tr><tr><td>University of Tartu</td><td>556</td><td>Estonia</td><td>2014</td><td>2</td></tr><tr><td>University of Tartu</td><td>537</td><td>Estonia</td><td>2015</td><td>2</td></tr><tr><td>University of Tasmania</td><td>608</td><td>Australia</td><td>2014</td><td>2</td></tr><tr><td>University of Tasmania</td><td>523</td><td>Australia</td><td>2015</td><td>2</td></tr><tr><td>University of Technology, Sydney</td><td>866</td><td>Australia</td><td>2014</td><td>2</td></tr><tr><td>University of Technology, Sydney</td><td>815</td><td>Australia</td><td>2015</td><td>2</td></tr><tr><td>University of Tehran</td><td>749</td><td>Iran</td><td>2014</td><td>2</td></tr><tr><td>University of Tehran</td><td>768</td><td>Iran</td><td>2015</td><td>2</td></tr><tr><td>University of Tennessee, Knoxville</td><td>227</td><td>USA</td><td>2014</td><td>2</td></tr><tr><td>University of Tennessee, Knoxville</td><td>227</td><td>USA</td><td>2015</td><td>2</td></tr><tr><td>University of Texas Health Science Center at Houston</td><td>274</td><td>USA</td><td>2014</td><td>2</td></tr><tr><td>University of Texas Health Science Center at Houston</td><td>249</td><td>USA</td><td>2015</td><td>2</td></tr><tr><td>University of Texas Health Science Center at San Antonio</td><td>239</td><td>USA</td><td>2014</td><td>2</td></tr><tr><td>University of Texas Health Science Center at San Antonio</td><td>234</td><td>USA</td><td>2015</td><td>2</td></tr><tr><td>University of Texas MD Anderson Cancer Center</td><td>96</td><td>USA</td><td>2012</td><td>4</td></tr><tr><td>University of Texas MD Anderson Cancer Center</td><td>88</td><td>USA</td><td>2013</td><td>4</td></tr><tr><td>University of Texas MD Anderson Cancer Center</td><td>104</td><td>USA</td><td>2014</td><td>4</td></tr><tr><td>University of Texas MD Anderson Cancer Center</td><td>90</td><td>USA</td><td>2015</td><td>4</td></tr><tr><td>University of Texas Medical Branch at Galveston</td><td>379</td><td>USA</td><td>2014</td><td>2</td></tr><tr><td>University of Texas Medical Branch at Galveston</td><td>378</td><td>USA</td><td>2015</td><td>2</td></tr><tr><td>University of Texas Southwestern Medical Center</td><td>29</td><td>USA</td><td>2012</td><td>4</td></tr><tr><td>University of Texas Southwestern Medical Center</td><td>46</td><td>USA</td><td>2013</td><td>4</td></tr><tr><td>University of Texas Southwestern Medical Center</td><td>66</td><td>USA</td><td>2014</td><td>4</td></tr><tr><td>University of Texas Southwestern Medical Center</td><td>75</td><td>USA</td><td>2015</td><td>4</td></tr><tr><td>University of Texas at Arlington</td><td>681</td><td>USA</td><td>2014</td><td>2</td></tr><tr><td>University of Texas at Arlington</td><td>626</td><td>USA</td><td>2015</td><td>2</td></tr><tr><td>University of Texas at Austin</td><td>30</td><td>USA</td><td>2012</td><td>4</td></tr><tr><td>University of Texas at Austin</td><td>26</td><td>USA</td><td>2013</td><td>4</td></tr><tr><td>University of Texas at Austin</td><td>29</td><td>USA</td><td>2014</td><td>4</td></tr><tr><td>University of Texas at Austin</td><td>30</td><td>USA</td><td>2015</td><td>4</td></tr><tr><td>University of Texas at Dallas</td><td>143</td><td>USA</td><td>2014</td><td>2</td></tr><tr><td>University of Texas at Dallas</td><td>139</td><td>USA</td><td>2015</td><td>2</td></tr><tr><td>University of Texas at El Paso</td><td>844</td><td>USA</td><td>2014</td><td>2</td></tr><tr><td>University of Texas at El Paso</td><td>929</td><td>USA</td><td>2015</td><td>2</td></tr><tr><td>University of Texas at San Antonio</td><td>256</td><td>USA</td><td>2014</td><td>2</td></tr><tr><td>University of Texas at San Antonio</td><td>291</td><td>USA</td><td>2015</td><td>2</td></tr><tr><td>University of Thessaly</td><td>926</td><td>Greece</td><td>2014</td><td>2</td></tr><tr><td>University of Thessaly</td><td>905</td><td>Greece</td><td>2015</td><td>2</td></tr><tr><td>University of Tokushima</td><td>444</td><td>Japan</td><td>2014</td><td>2</td></tr><tr><td>University of Tokushima</td><td>512</td><td>Japan</td><td>2015</td><td>2</td></tr><tr><td>University of Tokyo</td><td>14</td><td>Japan</td><td>2012</td><td>4</td></tr><tr><td>University of Tokyo</td><td>14</td><td>Japan</td><td>2013</td><td>4</td></tr><tr><td>University of Tokyo</td><td>13</td><td>Japan</td><td>2014</td><td>4</td></tr><tr><td>University of Tokyo</td><td>13</td><td>Japan</td><td>2015</td><td>4</td></tr><tr><td>University of Toledo</td><td>691</td><td>USA</td><td>2014</td><td>2</td></tr><tr><td>University of Toledo</td><td>592</td><td>USA</td><td>2015</td><td>2</td></tr><tr><td>University of Toronto</td><td>35</td><td>Canada</td><td>2012</td><td>4</td></tr><tr><td>University of Toronto</td><td>29</td><td>Canada</td><td>2013</td><td>4</td></tr><tr><td>University of Toronto</td><td>31</td><td>Canada</td><td>2014</td><td>4</td></tr><tr><td>University of Toronto</td><td>32</td><td>Canada</td><td>2015</td><td>4</td></tr><tr><td>University of Toyama</td><td>690</td><td>Japan</td><td>2014</td><td>2</td></tr><tr><td>University of Toyama</td><td>666</td><td>Japan</td><td>2015</td><td>2</td></tr><tr><td>University of Trento</td><td>597</td><td>Italy</td><td>2014</td><td>2</td></tr><tr><td>University of Trento</td><td>561</td><td>Italy</td><td>2015</td><td>2</td></tr><tr><td>University of Trieste</td><td>367</td><td>Italy</td><td>2014</td><td>2</td></tr><tr><td>University of Trieste</td><td>342</td><td>Italy</td><td>2015</td><td>2</td></tr><tr><td>University of Tromsø - The Arctic University of Norway</td><td>558</td><td>Norway</td><td>2014</td><td>2</td></tr><tr><td>University of Tromsø - The Arctic University of Norway</td><td>527</td><td>Norway</td><td>2015</td><td>2</td></tr><tr><td>University of Tsukuba</td><td>253</td><td>Japan</td><td>2014</td><td>2</td></tr><tr><td>University of Tsukuba</td><td>262</td><td>Japan</td><td>2015</td><td>2</td></tr><tr><td>University of Turin</td><td>231</td><td>Italy</td><td>2014</td><td>2</td></tr><tr><td>University of Turin</td><td>221</td><td>Italy</td><td>2015</td><td>2</td></tr><tr><td>University of Turku</td><td>391</td><td>Finland</td><td>2014</td><td>2</td></tr><tr><td>University of Turku</td><td>383</td><td>Finland</td><td>2015</td><td>2</td></tr><tr><td>University of Twente</td><td>445</td><td>Netherlands</td><td>2014</td><td>2</td></tr><tr><td>University of Twente</td><td>408</td><td>Netherlands</td><td>2015</td><td>2</td></tr><tr><td>University of Tübingen</td><td>159</td><td>Germany</td><td>2014</td><td>2</td></tr><tr><td>University of Tübingen</td><td>156</td><td>Germany</td><td>2015</td><td>2</td></tr><tr><td>University of Udine</td><td>533</td><td>Italy</td><td>2014</td><td>2</td></tr><tr><td>University of Udine</td><td>500</td><td>Italy</td><td>2015</td><td>2</td></tr><tr><td>University of Ulm</td><td>282</td><td>Germany</td><td>2014</td><td>2</td></tr><tr><td>University of Ulm</td><td>278</td><td>Germany</td><td>2015</td><td>2</td></tr><tr><td>University of Ulsan</td><td>493</td><td>South Korea</td><td>2014</td><td>2</td></tr><tr><td>University of Ulsan</td><td>495</td><td>South Korea</td><td>2015</td><td>2</td></tr><tr><td>University of Ulster</td><td>738</td><td>United Kingdom</td><td>2014</td><td>2</td></tr><tr><td>University of Ulster</td><td>683</td><td>United Kingdom</td><td>2015</td><td>2</td></tr><tr><td>University of Utah</td><td>38</td><td>USA</td><td>2012</td><td>4</td></tr><tr><td>University of Utah</td><td>42</td><td>USA</td><td>2013</td><td>4</td></tr><tr><td>University of Utah</td><td>62</td><td>USA</td><td>2014</td><td>4</td></tr><tr><td>University of Utah</td><td>70</td><td>USA</td><td>2015</td><td>4</td></tr><tr><td>University of Valencia</td><td>301</td><td>Spain</td><td>2014</td><td>2</td></tr><tr><td>University of Valencia</td><td>294</td><td>Spain</td><td>2015</td><td>2</td></tr><tr><td>University of Valenciennes and Hainaut-Cambresis</td><td>961</td><td>France</td><td>2014</td><td>2</td></tr><tr><td>University of Valenciennes and Hainaut-Cambresis</td><td>966</td><td>France</td><td>2015</td><td>2</td></tr><tr><td>University of Valladolid</td><td>757</td><td>Spain</td><td>2014</td><td>2</td></tr><tr><td>University of Valladolid</td><td>841</td><td>Spain</td><td>2015</td><td>2</td></tr><tr><td>University of Vermont</td><td>320</td><td>USA</td><td>2014</td><td>2</td></tr><tr><td>University of Vermont</td><td>324</td><td>USA</td><td>2015</td><td>2</td></tr><tr><td>University of Verona</td><td>368</td><td>Italy</td><td>2014</td><td>2</td></tr><tr><td>University of Verona</td><td>411</td><td>Italy</td><td>2015</td><td>2</td></tr><tr><td>University of Veterinary Medicine Vienna</td><td>880</td><td>Austria</td><td>2014</td><td>2</td></tr><tr><td>University of Veterinary Medicine Vienna</td><td>848</td><td>Austria</td><td>2015</td><td>2</td></tr><tr><td>University of Victoria</td><td>377</td><td>Canada</td><td>2014</td><td>2</td></tr><tr><td>University of Victoria</td><td>352</td><td>Canada</td><td>2015</td><td>2</td></tr><tr><td>University of Vienna</td><td>205</td><td>Austria</td><td>2014</td><td>2</td></tr><tr><td>University of Vienna</td><td>223</td><td>Austria</td><td>2015</td><td>2</td></tr><tr><td>University of Vigo</td><td>692</td><td>Spain</td><td>2014</td><td>2</td></tr><tr><td>University of Vigo</td><td>686</td><td>Spain</td><td>2015</td><td>2</td></tr><tr><td>University of Virginia</td><td>72</td><td>United States of America</td><td>2011</td><td>10</td></tr><tr><td>University of Virginia</td><td>84</td><td>USA</td><td>2012</td><td>10</td></tr><tr><td>University of Virginia</td><td>135</td><td>United States of America</td><td>2012</td><td>10</td></tr><tr><td>University of Virginia</td><td>71</td><td>USA</td><td>2013</td><td>10</td></tr><tr><td>University of Virginia</td><td>118</td><td>United States of America</td><td>2013</td><td>10</td></tr><tr><td>University of Virginia</td><td>41</td><td>USA</td><td>2014</td><td>10</td></tr><tr><td>University of Virginia</td><td>112</td><td>United States of America</td><td>2014</td><td>10</td></tr><tr><td>University of Virginia</td><td>41</td><td>USA</td><td>2015</td><td>10</td></tr><tr><td>University of Virginia</td><td>130</td><td>United States of America</td><td>2015</td><td>10</td></tr><tr><td>University of Virginia</td><td>147</td><td>United States of America</td><td>2016</td><td>10</td></tr><tr><td>University of Waikato</td><td>879</td><td>New Zealand</td><td>2014</td><td>2</td></tr><tr><td>University of Waikato</td><td>937</td><td>New Zealand</td><td>2015</td><td>2</td></tr><tr><td>University of Wales, Trinity Saint David</td><td>892</td><td>United Kingdom</td><td>2014</td><td>2</td></tr><tr><td>University of Wales, Trinity Saint David</td><td>830</td><td>United Kingdom</td><td>2015</td><td>2</td></tr><tr><td>University of Warsaw</td><td>419</td><td>Poland</td><td>2014</td><td>2</td></tr><tr><td>University of Warsaw</td><td>462</td><td>Poland</td><td>2015</td><td>2</td></tr><tr><td>University of Warwick</td><td>324</td><td>United Kingdom</td><td>2014</td><td>2</td></tr><tr><td>University of Warwick</td><td>293</td><td>United Kingdom</td><td>2015</td><td>2</td></tr><tr><td>University of Washington - Seattle</td><td>39</td><td>USA</td><td>2012</td><td>4</td></tr><tr><td>University of Washington - Seattle</td><td>31</td><td>USA</td><td>2013</td><td>4</td></tr><tr><td>University of Washington - Seattle</td><td>32</td><td>USA</td><td>2014</td><td>4</td></tr><tr><td>University of Washington - Seattle</td><td>31</td><td>USA</td><td>2015</td><td>4</td></tr><tr><td>University of Waterloo</td><td>280</td><td>Canada</td><td>2014</td><td>2</td></tr><tr><td>University of Waterloo</td><td>269</td><td>Canada</td><td>2015</td><td>2</td></tr><tr><td>University of Western Australia</td><td>225</td><td>Australia</td><td>2014</td><td>2</td></tr><tr><td>University of Western Australia</td><td>216</td><td>Australia</td><td>2015</td><td>2</td></tr><tr><td>University of Western Brittany</td><td>895</td><td>France</td><td>2014</td><td>2</td></tr><tr><td>University of Western Brittany</td><td>896</td><td>France</td><td>2015</td><td>2</td></tr><tr><td>University of Western Sydney</td><td>906</td><td>Australia</td><td>2014</td><td>2</td></tr><tr><td>University of Western Sydney</td><td>882</td><td>Australia</td><td>2015</td><td>2</td></tr><tr><td>University of Windsor</td><td>649</td><td>Canada</td><td>2014</td><td>2</td></tr><tr><td>University of Windsor</td><td>538</td><td>Canada</td><td>2015</td><td>2</td></tr><tr><td>University of Wisconsin-Madison</td><td>27</td><td>United States of America</td><td>2012</td><td>5</td></tr><tr><td>University of Wisconsin-Madison</td><td>31</td><td>United States of America</td><td>2013</td><td>5</td></tr><tr><td>University of Wisconsin-Madison</td><td>30</td><td>United States of America</td><td>2014</td><td>5</td></tr><tr><td>University of Wisconsin-Madison</td><td>29</td><td>United States of America</td><td>2015</td><td>5</td></tr><tr><td>University of Wisconsin-Madison</td><td>50</td><td>United States of America</td><td>2016</td><td>5</td></tr><tr><td>University of Wisconsin–Madison</td><td>25</td><td>USA</td><td>2012</td><td>4</td></tr><tr><td>University of Wisconsin–Madison</td><td>23</td><td>USA</td><td>2013</td><td>4</td></tr><tr><td>University of Wisconsin–Madison</td><td>25</td><td>USA</td><td>2014</td><td>4</td></tr><tr><td>University of Wisconsin–Madison</td><td>25</td><td>USA</td><td>2015</td><td>4</td></tr><tr><td>University of Wisconsin–Milwaukee</td><td>537</td><td>USA</td><td>2014</td><td>2</td></tr><tr><td>University of Wisconsin–Milwaukee</td><td>510</td><td>USA</td><td>2015</td><td>2</td></tr><tr><td>University of Wollongong</td><td>506</td><td>Australia</td><td>2014</td><td>2</td></tr><tr><td>University of Wollongong</td><td>467</td><td>Australia</td><td>2015</td><td>2</td></tr><tr><td>University of Wrocław</td><td>914</td><td>Poland</td><td>2014</td><td>2</td></tr><tr><td>University of Wrocław</td><td>921</td><td>Poland</td><td>2015</td><td>2</td></tr><tr><td>University of Wyoming</td><td>485</td><td>USA</td><td>2014</td><td>2</td></tr><tr><td>University of Wyoming</td><td>466</td><td>USA</td><td>2015</td><td>2</td></tr><tr><td>University of Yamanashi</td><td>744</td><td>Japan</td><td>2014</td><td>2</td></tr><tr><td>University of Yamanashi</td><td>759</td><td>Japan</td><td>2015</td><td>2</td></tr><tr><td>University of York</td><td>336</td><td>United Kingdom</td><td>2014</td><td>2</td></tr><tr><td>University of York</td><td>325</td><td>United Kingdom</td><td>2015</td><td>2</td></tr><tr><td>University of Zagreb</td><td>564</td><td>Croatia</td><td>2014</td><td>2</td></tr><tr><td>University of Zagreb</td><td>551</td><td>Croatia</td><td>2015</td><td>2</td></tr><tr><td>University of Zaragoza</td><td>520</td><td>Spain</td><td>2014</td><td>2</td></tr><tr><td>University of Zaragoza</td><td>484</td><td>Spain</td><td>2015</td><td>2</td></tr><tr><td>University of Zurich</td><td>88</td><td>Switzerland</td><td>2012</td><td>4</td></tr><tr><td>University of Zurich</td><td>74</td><td>Switzerland</td><td>2013</td><td>4</td></tr><tr><td>University of Zurich</td><td>85</td><td>Switzerland</td><td>2014</td><td>4</td></tr><tr><td>University of Zurich</td><td>96</td><td>Switzerland</td><td>2015</td><td>4</td></tr><tr><td>University of the Algarve</td><td>962</td><td>Portugal</td><td>2014</td><td>2</td></tr><tr><td>University of the Algarve</td><td>996</td><td>Portugal</td><td>2015</td><td>2</td></tr><tr><td>University of the Balearic Islands</td><td>714</td><td>Spain</td><td>2014</td><td>2</td></tr><tr><td>University of the Balearic Islands</td><td>660</td><td>Spain</td><td>2015</td><td>2</td></tr><tr><td>University of the Basque Country</td><td>531</td><td>Spain</td><td>2014</td><td>2</td></tr><tr><td>University of the Basque Country</td><td>485</td><td>Spain</td><td>2015</td><td>2</td></tr><tr><td>University of the Republic (Uruguay)</td><td>933</td><td>Uruguay</td><td>2014</td><td>2</td></tr><tr><td>University of the Republic (Uruguay)</td><td>867</td><td>Uruguay</td><td>2015</td><td>2</td></tr><tr><td>University of the Ryukyus</td><td>850</td><td>Japan</td><td>2014</td><td>2</td></tr><tr><td>University of the Ryukyus</td><td>855</td><td>Japan</td><td>2015</td><td>2</td></tr><tr><td>University of the Witwatersrand</td><td>114</td><td>South Africa</td><td>2014</td><td>2</td></tr><tr><td>University of the Witwatersrand</td><td>149</td><td>South Africa</td><td>2015</td><td>2</td></tr><tr><td>University of Évry Val d'Essonne</td><td>739</td><td>France</td><td>2014</td><td>2</td></tr><tr><td>University of Évry Val d'Essonne</td><td>750</td><td>France</td><td>2015</td><td>2</td></tr><tr><td>Université catholique de Louvain</td><td>191</td><td>Belgium</td><td>2014</td><td>2</td></tr><tr><td>Université catholique de Louvain</td><td>231</td><td>Belgium</td><td>2015</td><td>2</td></tr><tr><td>Université de Namur</td><td>607</td><td>Belgium</td><td>2014</td><td>2</td></tr><tr><td>Université de Namur</td><td>730</td><td>Belgium</td><td>2015</td><td>2</td></tr><tr><td>Université libre de Bruxelles</td><td>139</td><td>Belgium</td><td>2014</td><td>2</td></tr><tr><td>Université libre de Bruxelles</td><td>163</td><td>Belgium</td><td>2015</td><td>2</td></tr><tr><td>Uppsala University</td><td>124</td><td>Sweden</td><td>2014</td><td>2</td></tr><tr><td>Uppsala University</td><td>124</td><td>Sweden</td><td>2015</td><td>2</td></tr><tr><td>Utah State University</td><td>524</td><td>USA</td><td>2014</td><td>2</td></tr><tr><td>Utah State University</td><td>566</td><td>USA</td><td>2015</td><td>2</td></tr><tr><td>Utrecht University</td><td>99</td><td>Netherlands</td><td>2012</td><td>4</td></tr><tr><td>Utrecht University</td><td>84</td><td>Netherlands</td><td>2013</td><td>4</td></tr><tr><td>Utrecht University</td><td>88</td><td>Netherlands</td><td>2014</td><td>4</td></tr><tr><td>Utrecht University</td><td>87</td><td>Netherlands</td><td>2015</td><td>4</td></tr><tr><td>VU University Amsterdam</td><td>144</td><td>Netherlands</td><td>2014</td><td>2</td></tr><tr><td>VU University Amsterdam</td><td>129</td><td>Netherlands</td><td>2015</td><td>2</td></tr><tr><td>Vanderbilt University</td><td>59</td><td>USA</td><td>2012</td><td>4</td></tr><tr><td>Vanderbilt University</td><td>61</td><td>USA</td><td>2013</td><td>4</td></tr><tr><td>Vanderbilt University</td><td>71</td><td>USA</td><td>2014</td><td>4</td></tr><tr><td>Vanderbilt University</td><td>69</td><td>USA</td><td>2015</td><td>4</td></tr><tr><td>Versailles Saint-Quentin-en-Yvelines University</td><td>405</td><td>France</td><td>2014</td><td>2</td></tr><tr><td>Versailles Saint-Quentin-en-Yvelines University</td><td>371</td><td>France</td><td>2015</td><td>2</td></tr><tr><td>Victoria University of Wellington</td><td>527</td><td>New Zealand</td><td>2014</td><td>2</td></tr><tr><td>Victoria University of Wellington</td><td>588</td><td>New Zealand</td><td>2015</td><td>2</td></tr><tr><td>Vienna University of Technology</td><td>427</td><td>Austria</td><td>2014</td><td>2</td></tr><tr><td>Vienna University of Technology</td><td>427</td><td>Austria</td><td>2015</td><td>2</td></tr><tr><td>Vilnius University</td><td>838</td><td>Lithuania</td><td>2014</td><td>2</td></tr><tr><td>Vilnius University</td><td>791</td><td>Lithuania</td><td>2015</td><td>2</td></tr><tr><td>Virginia Commonwealth University</td><td>240</td><td>USA</td><td>2014</td><td>2</td></tr><tr><td>Virginia Commonwealth University</td><td>259</td><td>USA</td><td>2015</td><td>2</td></tr><tr><td>Virginia Polytechnic Institute and State University</td><td>271</td><td>USA</td><td>2014</td><td>2</td></tr><tr><td>Virginia Polytechnic Institute and State University</td><td>256</td><td>USA</td><td>2015</td><td>2</td></tr><tr><td>Vita-Salute San Raffaele University</td><td>333</td><td>Italy</td><td>2014</td><td>2</td></tr><tr><td>Vita-Salute San Raffaele University</td><td>329</td><td>Italy</td><td>2015</td><td>2</td></tr><tr><td>Vrije Universiteit Brussel</td><td>248</td><td>Belgium</td><td>2014</td><td>2</td></tr><tr><td>Vrije Universiteit Brussel</td><td>280</td><td>Belgium</td><td>2015</td><td>2</td></tr><tr><td>Wageningen University and Research Centre</td><td>288</td><td>Netherlands</td><td>2014</td><td>2</td></tr><tr><td>Wageningen University and Research Centre</td><td>276</td><td>Netherlands</td><td>2015</td><td>2</td></tr><tr><td>Wake Forest University</td><td>145</td><td>USA</td><td>2014</td><td>2</td></tr><tr><td>Wake Forest University</td><td>159</td><td>USA</td><td>2015</td><td>2</td></tr><tr><td>Warsaw University of Technology</td><td>688</td><td>Poland</td><td>2014</td><td>2</td></tr><tr><td>Warsaw University of Technology</td><td>646</td><td>Poland</td><td>2015</td><td>2</td></tr><tr><td>Waseda University</td><td>40</td><td>Japan</td><td>2014</td><td>2</td></tr><tr><td>Waseda University</td><td>38</td><td>Japan</td><td>2015</td><td>2</td></tr><tr><td>Washington State University, Pullman</td><td>296</td><td>USA</td><td>2014</td><td>2</td></tr><tr><td>Washington State University, Pullman</td><td>380</td><td>USA</td><td>2015</td><td>2</td></tr><tr><td>Washington University in St Louis</td><td>38</td><td>United States of America</td><td>2011</td><td>6</td></tr><tr><td>Washington University in St Louis</td><td>41</td><td>United States of America</td><td>2012</td><td>6</td></tr><tr><td>Washington University in St Louis</td><td>44</td><td>United States of America</td><td>2013</td><td>6</td></tr><tr><td>Washington University in St Louis</td><td>42</td><td>United States of America</td><td>2014</td><td>6</td></tr><tr><td>Washington University in St Louis</td><td>42</td><td>United States of America</td><td>2015</td><td>6</td></tr><tr><td>Washington University in St Louis</td><td>60</td><td>United States of America</td><td>2016</td><td>6</td></tr><tr><td>Washington University in St. Louis</td><td>37</td><td>USA</td><td>2012</td><td>4</td></tr><tr><td>Washington University in St. Louis</td><td>63</td><td>USA</td><td>2013</td><td>4</td></tr><tr><td>Washington University in St. Louis</td><td>58</td><td>USA</td><td>2014</td><td>4</td></tr><tr><td>Washington University in St. Louis</td><td>52</td><td>USA</td><td>2015</td><td>4</td></tr><tr><td>Wayne State University</td><td>192</td><td>USA</td><td>2014</td><td>2</td></tr><tr><td>Wayne State University</td><td>189</td><td>USA</td><td>2015</td><td>2</td></tr><tr><td>Weizmann Institute of Science</td><td>18</td><td>Israel</td><td>2012</td><td>4</td></tr><tr><td>Weizmann Institute of Science</td><td>33</td><td>Israel</td><td>2013</td><td>4</td></tr><tr><td>Weizmann Institute of Science</td><td>38</td><td>Israel</td><td>2014</td><td>4</td></tr><tr><td>Weizmann Institute of Science</td><td>39</td><td>Israel</td><td>2015</td><td>4</td></tr><tr><td>Wesleyan University</td><td>307</td><td>USA</td><td>2014</td><td>2</td></tr><tr><td>Wesleyan University</td><td>351</td><td>USA</td><td>2015</td><td>2</td></tr><tr><td>West Virginia University</td><td>439</td><td>USA</td><td>2014</td><td>2</td></tr><tr><td>West Virginia University</td><td>441</td><td>USA</td><td>2015</td><td>2</td></tr><tr><td>Western Michigan University</td><td>969</td><td>USA</td><td>2014</td><td>1</td></tr><tr><td>Western University (The University of Western Ontario)</td><td>152</td><td>Canada</td><td>2014</td><td>2</td></tr><tr><td>Western University (The University of Western Ontario)</td><td>133</td><td>Canada</td><td>2015</td><td>2</td></tr><tr><td>Wilfrid Laurier University</td><td>801</td><td>Canada</td><td>2014</td><td>2</td></tr><tr><td>Wilfrid Laurier University</td><td>907</td><td>Canada</td><td>2015</td><td>2</td></tr><tr><td>Williams College</td><td>95</td><td>USA</td><td>2012</td><td>1</td></tr><tr><td>Wright State University - Dayton</td><td>823</td><td>USA</td><td>2014</td><td>2</td></tr><tr><td>Wright State University - Dayton</td><td>833</td><td>USA</td><td>2015</td><td>2</td></tr><tr><td>Wrocław University of Technology</td><td>922</td><td>Poland</td><td>2014</td><td>2</td></tr><tr><td>Wrocław University of Technology</td><td>944</td><td>Poland</td><td>2015</td><td>2</td></tr><tr><td>Wuhan University</td><td>438</td><td>China</td><td>2014</td><td>2</td></tr><tr><td>Wuhan University</td><td>415</td><td>China</td><td>2015</td><td>2</td></tr><tr><td>Wuhan University of Technology</td><td>751</td><td>China</td><td>2014</td><td>2</td></tr><tr><td>Wuhan University of Technology</td><td>677</td><td>China</td><td>2015</td><td>2</td></tr><tr><td>Xi'an Jiaotong University</td><td>399</td><td>China</td><td>2014</td><td>2</td></tr><tr><td>Xi'an Jiaotong University</td><td>389</td><td>China</td><td>2015</td><td>2</td></tr><tr><td>Xiamen University</td><td>354</td><td>China</td><td>2014</td><td>2</td></tr><tr><td>Xiamen University</td><td>313</td><td>China</td><td>2015</td><td>2</td></tr><tr><td>Xiangtan University</td><td>945</td><td>China</td><td>2014</td><td>2</td></tr><tr><td>Xiangtan University</td><td>949</td><td>China</td><td>2015</td><td>2</td></tr><tr><td>Xidian University</td><td>980</td><td>China</td><td>2014</td><td>2</td></tr><tr><td>Xidian University</td><td>991</td><td>China</td><td>2015</td><td>2</td></tr><tr><td>Yale University</td><td>8</td><td>USA</td><td>2012</td><td>4</td></tr><tr><td>Yale University</td><td>10</td><td>USA</td><td>2013</td><td>4</td></tr><tr><td>Yale University</td><td>10</td><td>USA</td><td>2014</td><td>4</td></tr><tr><td>Yale University</td><td>11</td><td>USA</td><td>2015</td><td>4</td></tr><tr><td>Yamagata University</td><td>762</td><td>Japan</td><td>2014</td><td>2</td></tr><tr><td>Yamagata University</td><td>760</td><td>Japan</td><td>2015</td><td>2</td></tr><tr><td>Yamaguchi University</td><td>743</td><td>Japan</td><td>2014</td><td>2</td></tr><tr><td>Yamaguchi University</td><td>657</td><td>Japan</td><td>2015</td><td>2</td></tr><tr><td>Yanbian University</td><td>1000</td><td>China</td><td>2014</td><td>1</td></tr><tr><td>Yangzhou University</td><td>946</td><td>China</td><td>2014</td><td>2</td></tr><tr><td>Yangzhou University</td><td>943</td><td>China</td><td>2015</td><td>2</td></tr><tr><td>Yeshiva University</td><td>172</td><td>USA</td><td>2014</td><td>2</td></tr><tr><td>Yeshiva University</td><td>171</td><td>USA</td><td>2015</td><td>2</td></tr><tr><td>Yeungnam University</td><td>776</td><td>South Korea</td><td>2014</td><td>2</td></tr><tr><td>Yeungnam University</td><td>770</td><td>South Korea</td><td>2015</td><td>2</td></tr><tr><td>Yokohama City University</td><td>461</td><td>Japan</td><td>2014</td><td>2</td></tr><tr><td>Yokohama City University</td><td>513</td><td>Japan</td><td>2015</td><td>2</td></tr><tr><td>Yokohama National University</td><td>339</td><td>Japan</td><td>2014</td><td>2</td></tr><tr><td>Yokohama National University</td><td>518</td><td>Japan</td><td>2015</td><td>2</td></tr><tr><td>Yonsei University</td><td>107</td><td>South Korea</td><td>2014</td><td>2</td></tr><tr><td>Yonsei University</td><td>98</td><td>South Korea</td><td>2015</td><td>2</td></tr><tr><td>York University</td><td>398</td><td>Canada</td><td>2014</td><td>2</td></tr><tr><td>York University</td><td>337</td><td>Canada</td><td>2015</td><td>2</td></tr><tr><td>Yuan Ze University</td><td>952</td><td>Taiwan</td><td>2014</td><td>2</td></tr><tr><td>Yuan Ze University</td><td>979</td><td>Taiwan</td><td>2015</td><td>2</td></tr><tr><td>Zhejiang Normal University</td><td>991</td><td>China</td><td>2014</td><td>1</td></tr><tr><td>Zhejiang University</td><td>206</td><td>China</td><td>2014</td><td>2</td></tr><tr><td>Zhejiang University</td><td>191</td><td>China</td><td>2015</td><td>2</td></tr><tr><td>Zhejiang University of Technology</td><td>981</td><td>China</td><td>2014</td><td>2</td></tr><tr><td>Zhejiang University of Technology</td><td>984</td><td>China</td><td>2015</td><td>2</td></tr><tr><td>Zhengzhou University</td><td>818</td><td>China</td><td>2014</td><td>2</td></tr><tr><td>Zhengzhou University</td><td>795</td><td>China</td><td>2015</td><td>2</td></tr><tr><td>Åbo Akademi University</td><td>698</td><td>Finland</td><td>2014</td><td>2</td></tr><tr><td>Åbo Akademi University</td><td>735</td><td>Finland</td><td>2015</td><td>2</td></tr><tr><td>École Centrale Paris</td><td>523</td><td>France</td><td>2014</td><td>2</td></tr><tr><td>École Centrale Paris</td><td>548</td><td>France</td><td>2015</td><td>2</td></tr><tr><td>École Polytechnique</td><td>61</td><td>France</td><td>2012</td><td>4</td></tr><tr><td>École Polytechnique</td><td>86</td><td>France</td><td>2013</td><td>4</td></tr><tr><td>École Polytechnique</td><td>36</td><td>France</td><td>2014</td><td>4</td></tr><tr><td>École Polytechnique</td><td>36</td><td>France</td><td>2015</td><td>4</td></tr><tr><td>École Polytechnique de Montréal</td><td>784</td><td>Canada</td><td>2014</td><td>2</td></tr><tr><td>École Polytechnique de Montréal</td><td>781</td><td>Canada</td><td>2015</td><td>2</td></tr><tr><td>École centrale de Lyon</td><td>881</td><td>France</td><td>2015</td><td>1</td></tr><tr><td>École normale supérieure - Paris</td><td>54</td><td>France</td><td>2012</td><td>4</td></tr><tr><td>École normale supérieure - Paris</td><td>64</td><td>France</td><td>2013</td><td>4</td></tr><tr><td>École normale supérieure - Paris</td><td>35</td><td>France</td><td>2014</td><td>4</td></tr><tr><td>École normale supérieure - Paris</td><td>37</td><td>France</td><td>2015</td><td>4</td></tr><tr><td>École normale supérieure de Cachan</td><td>721</td><td>France</td><td>2015</td><td>1</td></tr><tr><td>École normale supérieure de Lyon</td><td>462</td><td>France</td><td>2014</td><td>2</td></tr><tr><td>École normale supérieure de Lyon</td><td>471</td><td>France</td><td>2015</td><td>2</td></tr><tr><td>Örebro University</td><td>656</td><td>Sweden</td><td>2014</td><td>2</td></tr><tr><td>Örebro University</td><td>639</td><td>Sweden</td><td>2015</td><td>2</td></tr></tbody></table></div>"
      ]
     },
     "metadata": {
      "application/vnd.databricks.v1+output": {
       "addedWidgets": {},
       "aggData": [],
       "aggError": "",
       "aggOverflow": false,
       "aggSchema": [],
       "aggSeriesLimitReached": false,
       "aggType": "",
       "arguments": {},
       "columnCustomDisplayInfos": {},
       "data": [
        [
         "AGH University of Science and Technology",
         653,
         "Poland",
         "2014",
         2
        ],
        [
         "AGH University of Science and Technology",
         782,
         "Poland",
         "2015",
         2
        ],
        [
         "Aalborg University",
         593,
         "Denmark",
         "2014",
         2
        ],
        [
         "Aalborg University",
         565,
         "Denmark",
         "2015",
         2
        ],
        [
         "Aalto University",
         392,
         "Finland",
         "2014",
         2
        ],
        [
         "Aalto University",
         421,
         "Finland",
         "2015",
         2
        ],
        [
         "Aarhus University",
         119,
         "Denmark",
         "2014",
         2
        ],
        [
         "Aarhus University",
         122,
         "Denmark",
         "2015",
         2
        ],
        [
         "Aberystwyth University",
         800,
         "United Kingdom",
         "2014",
         2
        ],
        [
         "Aberystwyth University",
         814,
         "United Kingdom",
         "2015",
         2
        ],
        [
         "Adam Mickiewicz University in Poznań",
         878,
         "Poland",
         "2014",
         2
        ],
        [
         "Adam Mickiewicz University in Poznań",
         890,
         "Poland",
         "2015",
         2
        ],
        [
         "Ain Shams University",
         965,
         "Egypt",
         "2014",
         2
        ],
        [
         "Ain Shams University",
         965,
         "Egypt",
         "2015",
         2
        ],
        [
         "Aix-Marseille University",
         224,
         "France",
         "2014",
         2
        ],
        [
         "Aix-Marseille University",
         206,
         "France",
         "2015",
         2
        ],
        [
         "Ajou University",
         447,
         "South Korea",
         "2014",
         2
        ],
        [
         "Ajou University",
         433,
         "South Korea",
         "2015",
         2
        ],
        [
         "Albany Medical College",
         623,
         "USA",
         "2014",
         2
        ],
        [
         "Albany Medical College",
         650,
         "USA",
         "2015",
         2
        ],
        [
         "Albert Ludwig University of Freiburg",
         135,
         "Germany",
         "2014",
         2
        ],
        [
         "Albert Ludwig University of Freiburg",
         155,
         "Germany",
         "2015",
         2
        ],
        [
         "Alexandria University",
         951,
         "Egypt",
         "2014",
         2
        ],
        [
         "Alexandria University",
         997,
         "Egypt",
         "2015",
         2
        ],
        [
         "All India Institute of Medical Sciences, New Delhi",
         868,
         "India",
         "2014",
         2
        ],
        [
         "All India Institute of Medical Sciences, New Delhi",
         851,
         "India",
         "2015",
         2
        ],
        [
         "American University of Beirut",
         561,
         "Lebanon",
         "2014",
         2
        ],
        [
         "American University of Beirut",
         682,
         "Lebanon",
         "2015",
         2
        ],
        [
         "Amirkabir University of Technology",
         959,
         "Iran",
         "2014",
         2
        ],
        [
         "Amirkabir University of Technology",
         958,
         "Iran",
         "2015",
         2
        ],
        [
         "Ankara University",
         788,
         "Turkey",
         "2014",
         2
        ],
        [
         "Ankara University",
         725,
         "Turkey",
         "2015",
         2
        ],
        [
         "Aristotle University of Thessaloniki",
         478,
         "Greece",
         "2014",
         2
        ],
        [
         "Aristotle University of Thessaloniki",
         459,
         "Greece",
         "2015",
         2
        ],
        [
         "Arizona State University",
         161,
         "United States of America",
         "2011",
         10
        ],
        [
         "Arizona State University",
         80,
         "USA",
         "2012",
         10
        ],
        [
         "Arizona State University",
         127,
         "United States of America",
         "2012",
         10
        ],
        [
         "Arizona State University",
         73,
         "USA",
         "2013",
         10
        ],
        [
         "Arizona State University",
         148,
         "United States of America",
         "2013",
         10
        ],
        [
         "Arizona State University",
         106,
         "USA",
         "2014",
         10
        ],
        [
         "Arizona State University",
         146,
         "United States of America",
         "2014",
         10
        ],
        [
         "Arizona State University",
         97,
         "USA",
         "2015",
         10
        ],
        [
         "Arizona State University",
         182,
         "United States of America",
         "2015",
         10
        ],
        [
         "Arizona State University",
         189,
         "United States of America",
         "2016",
         10
        ],
        [
         "Aston University",
         707,
         "United Kingdom",
         "2014",
         2
        ],
        [
         "Aston University",
         720,
         "United Kingdom",
         "2015",
         2
        ],
        [
         "Auburn University",
         548,
         "USA",
         "2014",
         2
        ],
        [
         "Auburn University",
         549,
         "USA",
         "2015",
         2
        ],
        [
         "Australian National University",
         96,
         "Australia",
         "2013",
         3
        ],
        [
         "Australian National University",
         160,
         "Australia",
         "2014",
         3
        ],
        [
         "Australian National University",
         179,
         "Australia",
         "2015",
         3
        ],
        [
         "Autonomous University of Barcelona",
         254,
         "Spain",
         "2014",
         2
        ],
        [
         "Autonomous University of Barcelona",
         241,
         "Spain",
         "2015",
         2
        ],
        [
         "Autonomous University of Madrid",
         309,
         "Spain",
         "2014",
         2
        ],
        [
         "Autonomous University of Madrid",
         304,
         "Spain",
         "2015",
         2
        ],
        [
         "Babeș-Bolyai University",
         987,
         "Romania",
         "2015",
         1
        ],
        [
         "Banaras Hindu University",
         667,
         "India",
         "2014",
         2
        ],
        [
         "Banaras Hindu University",
         679,
         "India",
         "2015",
         2
        ],
        [
         "Bangor University",
         552,
         "United Kingdom",
         "2014",
         2
        ],
        [
         "Bangor University",
         568,
         "United Kingdom",
         "2015",
         2
        ],
        [
         "Bar-Ilan University",
         503,
         "Israel",
         "2014",
         2
        ],
        [
         "Bar-Ilan University",
         521,
         "Israel",
         "2015",
         2
        ],
        [
         "Baylor College of Medicine",
         121,
         "USA",
         "2014",
         2
        ],
        [
         "Baylor College of Medicine",
         121,
         "USA",
         "2015",
         2
        ],
        [
         "Baylor University",
         473,
         "USA",
         "2014",
         2
        ],
        [
         "Baylor University",
         567,
         "USA",
         "2015",
         2
        ],
        [
         "Beihang University",
         560,
         "China",
         "2014",
         2
        ],
        [
         "Beihang University",
         705,
         "China",
         "2015",
         2
        ],
        [
         "Beijing Institute of Technology",
         816,
         "China",
         "2014",
         2
        ],
        [
         "Beijing Institute of Technology",
         749,
         "China",
         "2015",
         2
        ],
        [
         "Beijing Jiaotong University",
         960,
         "China",
         "2014",
         1
        ],
        [
         "Beijing Normal University",
         385,
         "China",
         "2014",
         2
        ],
        [
         "Beijing Normal University",
         396,
         "China",
         "2015",
         2
        ],
        [
         "Beijing University of Chemical Technology",
         685,
         "China",
         "2014",
         2
        ],
        [
         "Beijing University of Chemical Technology",
         642,
         "China",
         "2015",
         2
        ],
        [
         "Beijing University of Technology",
         985,
         "China",
         "2014",
         2
        ],
        [
         "Beijing University of Technology",
         977,
         "China",
         "2015",
         2
        ],
        [
         "Ben-Gurion University of the Negev",
         362,
         "Israel",
         "2014",
         2
        ],
        [
         "Ben-Gurion University of the Negev",
         349,
         "Israel",
         "2015",
         2
        ],
        [
         "Bielefeld University",
         491,
         "Germany",
         "2014",
         2
        ],
        [
         "Bielefeld University",
         464,
         "Germany",
         "2015",
         2
        ],
        [
         "Bilkent University",
         856,
         "Turkey",
         "2014",
         2
        ],
        [
         "Bilkent University",
         842,
         "Turkey",
         "2015",
         2
        ],
        [
         "Binghamton University",
         606,
         "USA",
         "2014",
         2
        ],
        [
         "Binghamton University",
         647,
         "USA",
         "2015",
         2
        ],
        [
         "Birkbeck, University of London",
         624,
         "United Kingdom",
         "2014",
         2
        ],
        [
         "Birkbeck, University of London",
         698,
         "United Kingdom",
         "2015",
         2
        ],
        [
         "Blaise Pascal University",
         789,
         "France",
         "2014",
         2
        ],
        [
         "Blaise Pascal University",
         769,
         "France",
         "2015",
         2
        ],
        [
         "Boston College",
         332,
         "USA",
         "2014",
         2
        ],
        [
         "Boston College",
         326,
         "USA",
         "2015",
         2
        ],
        [
         "Boston University",
         59,
         "United States of America",
         "2011",
         10
        ],
        [
         "Boston University",
         62,
         "USA",
         "2012",
         10
        ],
        [
         "Boston University",
         54,
         "United States of America",
         "2012",
         10
        ],
        [
         "Boston University",
         54,
         "USA",
         "2013",
         10
        ],
        [
         "Boston University",
         54,
         "United States of America",
         "2013",
         10
        ],
        [
         "Boston University",
         67,
         "USA",
         "2014",
         10
        ],
        [
         "Boston University",
         50,
         "United States of America",
         "2014",
         10
        ],
        [
         "Boston University",
         66,
         "USA",
         "2015",
         10
        ],
        [
         "Boston University",
         57,
         "United States of America",
         "2015",
         10
        ],
        [
         "Boston University",
         64,
         "United States of America",
         "2016",
         10
        ],
        [
         "Bowling Green State University",
         793,
         "USA",
         "2014",
         2
        ],
        [
         "Bowling Green State University",
         809,
         "USA",
         "2015",
         2
        ],
        [
         "Boğaziçi University",
         903,
         "Turkey",
         "2014",
         2
        ],
        [
         "Boğaziçi University",
         837,
         "Turkey",
         "2015",
         2
        ],
        [
         "Brandeis University",
         150,
         "United States of America",
         "2012",
         6
        ],
        [
         "Brandeis University",
         236,
         "USA",
         "2014",
         6
        ],
        [
         "Brandeis University",
         164,
         "United States of America",
         "2014",
         6
        ],
        [
         "Brandeis University",
         274,
         "USA",
         "2015",
         6
        ],
        [
         "Brandeis University",
         147,
         "United States of America",
         "2015",
         6
        ],
        [
         "Brandeis University",
         185,
         "United States of America",
         "2016",
         6
        ],
        [
         "Braunschweig University of Technology",
         634,
         "Germany",
         "2014",
         2
        ],
        [
         "Braunschweig University of Technology",
         636,
         "Germany",
         "2015",
         2
        ],
        [
         "Brigham Young University",
         415,
         "USA",
         "2014",
         2
        ],
        [
         "Brigham Young University",
         403,
         "USA",
         "2015",
         2
        ],
        [
         "Brock University",
         884,
         "Canada",
         "2014",
         2
        ],
        [
         "Brock University",
         861,
         "Canada",
         "2015",
         2
        ],
        [
         "Brown University",
         66,
         "USA",
         "2012",
         4
        ],
        [
         "Brown University",
         77,
         "USA",
         "2013",
         4
        ],
        [
         "Brown University",
         81,
         "USA",
         "2014",
         4
        ],
        [
         "Brown University",
         83,
         "USA",
         "2015",
         4
        ],
        [
         "Brunel University",
         409,
         "United Kingdom",
         "2014",
         2
        ],
        [
         "Brunel University",
         472,
         "United Kingdom",
         "2015",
         2
        ],
        [
         "Budapest University of Technology and Economics",
         811,
         "Hungary",
         "2014",
         2
        ],
        [
         "Budapest University of Technology and Economics",
         819,
         "Hungary",
         "2015",
         2
        ],
        [
         "Cairo University",
         802,
         "Egypt",
         "2014",
         2
        ],
        [
         "Cairo University",
         796,
         "Egypt",
         "2015",
         2
        ],
        [
         "California Institute of Technology",
         5,
         "USA",
         "2012",
         4
        ],
        [
         "California Institute of Technology",
         11,
         "USA",
         "2013",
         4
        ],
        [
         "California Institute of Technology",
         12,
         "USA",
         "2014",
         4
        ],
        [
         "California Institute of Technology",
         12,
         "USA",
         "2015",
         4
        ],
        [
         "Capital Medical University",
         824,
         "China",
         "2014",
         2
        ],
        [
         "Capital Medical University",
         788,
         "China",
         "2015",
         2
        ],
        [
         "Cardiff University",
         209,
         "United Kingdom",
         "2014",
         2
        ],
        [
         "Cardiff University",
         201,
         "United Kingdom",
         "2015",
         2
        ],
        [
         "Carleton University",
         627,
         "Canada",
         "2014",
         2
        ],
        [
         "Carleton University",
         593,
         "Canada",
         "2015",
         2
        ],
        [
         "Carlos III University of Madrid",
         915,
         "Spain",
         "2014",
         2
        ],
        [
         "Carlos III University of Madrid",
         927,
         "Spain",
         "2015",
         2
        ],
        [
         "Carnegie Mellon University",
         20,
         "United States of America",
         "2011",
         10
        ],
        [
         "Carnegie Mellon University",
         43,
         "USA",
         "2012",
         10
        ],
        [
         "Carnegie Mellon University",
         21,
         "United States of America",
         "2012",
         10
        ],
        [
         "Carnegie Mellon University",
         51,
         "USA",
         "2013",
         10
        ],
        [
         "Carnegie Mellon University",
         22,
         "United States of America",
         "2013",
         10
        ],
        [
         "Carnegie Mellon University",
         54,
         "USA",
         "2014",
         10
        ],
        [
         "Carnegie Mellon University",
         24,
         "United States of America",
         "2014",
         10
        ],
        [
         "Carnegie Mellon University",
         61,
         "USA",
         "2015",
         10
        ],
        [
         "Carnegie Mellon University",
         24,
         "United States of America",
         "2015",
         10
        ],
        [
         "Carnegie Mellon University",
         22,
         "United States of America",
         "2016",
         10
        ],
        [
         "Case Western Reserve University",
         65,
         "United States of America",
         "2011",
         9
        ],
        [
         "Case Western Reserve University",
         78,
         "USA",
         "2012",
         9
        ],
        [
         "Case Western Reserve University",
         93,
         "United States of America",
         "2012",
         9
        ],
        [
         "Case Western Reserve University",
         104,
         "United States of America",
         "2013",
         9
        ],
        [
         "Case Western Reserve University",
         102,
         "USA",
         "2014",
         9
        ],
        [
         "Case Western Reserve University",
         88,
         "United States of America",
         "2014",
         9
        ],
        [
         "Case Western Reserve University",
         105,
         "USA",
         "2015",
         9
        ],
        [
         "Case Western Reserve University",
         116,
         "United States of America",
         "2015",
         9
        ],
        [
         "Case Western Reserve University",
         133,
         "United States of America",
         "2016",
         9
        ],
        [
         "Catholic University of Korea",
         629,
         "South Korea",
         "2014",
         2
        ],
        [
         "Catholic University of Korea",
         511,
         "South Korea",
         "2015",
         2
        ],
        [
         "Catholic University of the Sacred Heart",
         414,
         "Italy",
         "2014",
         2
        ],
        [
         "Catholic University of the Sacred Heart",
         387,
         "Italy",
         "2015",
         2
        ],
        [
         "Central China Normal University",
         610,
         "China",
         "2014",
         2
        ],
        [
         "Central China Normal University",
         572,
         "China",
         "2015",
         2
        ],
        [
         "Central South University",
         465,
         "China",
         "2014",
         2
        ],
        [
         "Central South University",
         438,
         "China",
         "2015",
         2
        ],
        [
         "Chalmers University of Technology",
         395,
         "Sweden",
         "2014",
         2
        ],
        [
         "Chalmers University of Technology",
         402,
         "Sweden",
         "2015",
         2
        ],
        [
         "Chang Gung University",
         595,
         "Taiwan",
         "2014",
         2
        ],
        [
         "Chang Gung University",
         563,
         "Taiwan",
         "2015",
         2
        ],
        [
         "Charles Darwin University",
         910,
         "Australia",
         "2014",
         2
        ],
        [
         "Charles Darwin University",
         942,
         "Australia",
         "2015",
         2
        ],
        [
         "Charles University in Prague",
         313,
         "Czech Republic",
         "2014",
         2
        ],
        [
         "Charles University in Prague",
         270,
         "Czech Republic",
         "2015",
         2
        ],
        [
         "Chemnitz University of Technology",
         920,
         "Germany",
         "2014",
         1
        ],
        [
         "Chiang Mai University",
         871,
         "Thailand",
         "2014",
         2
        ],
        [
         "Chiang Mai University",
         818,
         "Thailand",
         "2015",
         2
        ],
        [
         "Chiba University",
         386,
         "Japan",
         "2014",
         2
        ],
        [
         "Chiba University",
         418,
         "Japan",
         "2015",
         2
        ],
        [
         "China Agricultural University",
         700,
         "China",
         "2014",
         2
        ],
        [
         "China Agricultural University",
         627,
         "China",
         "2015",
         2
        ],
        [
         "China Medical University (PRC)",
         982,
         "China",
         "2014",
         2
        ],
        [
         "China Medical University (PRC)",
         982,
         "China",
         "2015",
         2
        ],
        [
         "China Medical University (Taiwan)",
         798,
         "Taiwan",
         "2014",
         2
        ],
        [
         "China Medical University (Taiwan)",
         708,
         "Taiwan",
         "2015",
         2
        ],
        [
         "China Pharmaceutical University",
         975,
         "China",
         "2014",
         2
        ],
        [
         "China Pharmaceutical University",
         1000,
         "China",
         "2015",
         2
        ],
        [
         "China University of Geosciences (Wuhan)",
         904,
         "China",
         "2015",
         1
        ],
        [
         "Chinese University of Hong Kong",
         202,
         "Hong Kong",
         "2014",
         2
        ],
        [
         "Chinese University of Hong Kong",
         220,
         "Hong Kong",
         "2015",
         2
        ],
        [
         "Chonbuk National University",
         406,
         "South Korea",
         "2014",
         2
        ],
        [
         "Chonbuk National University",
         422,
         "South Korea",
         "2015",
         2
        ],
        [
         "Chongqing University",
         815,
         "China",
         "2014",
         2
        ],
        [
         "Chongqing University",
         774,
         "China",
         "2015",
         2
        ],
        [
         "Chonnam National University",
         400,
         "South Korea",
         "2014",
         2
        ],
        [
         "Chonnam National University",
         384,
         "South Korea",
         "2015",
         2
        ],
        [
         "Chosun University",
         837,
         "South Korea",
         "2014",
         2
        ],
        [
         "Chosun University",
         878,
         "South Korea",
         "2015",
         2
        ],
        [
         "Chulalongkorn University",
         283,
         "Thailand",
         "2014",
         2
        ],
        [
         "Chulalongkorn University",
         311,
         "Thailand",
         "2015",
         2
        ],
        [
         "Chung Shan Medical University",
         950,
         "Taiwan",
         "2014",
         2
        ],
        [
         "Chung Shan Medical University",
         967,
         "Taiwan",
         "2015",
         2
        ],
        [
         "Chung Yuan Christian University",
         696,
         "Taiwan",
         "2014",
         2
        ],
        [
         "Chung Yuan Christian University",
         875,
         "Taiwan",
         "2015",
         2
        ],
        [
         "Chung-Ang University",
         834,
         "South Korea",
         "2014",
         2
        ],
        [
         "Chung-Ang University",
         756,
         "South Korea",
         "2015",
         2
        ],
        [
         "Chungbuk National University",
         829,
         "South Korea",
         "2014",
         2
        ],
        [
         "Chungbuk National University",
         806,
         "South Korea",
         "2015",
         2
        ],
        [
         "Chungnam National University",
         619,
         "South Korea",
         "2014",
         2
        ],
        [
         "Chungnam National University",
         628,
         "South Korea",
         "2015",
         2
        ],
        [
         "City College of New York",
         294,
         "USA",
         "2014",
         2
        ],
        [
         "City College of New York",
         289,
         "USA",
         "2015",
         2
        ],
        [
         "City University London",
         494,
         "United Kingdom",
         "2014",
         2
        ],
        [
         "City University London",
         545,
         "United Kingdom",
         "2015",
         2
        ],
        [
         "City University of Hong Kong",
         375,
         "Hong Kong",
         "2014",
         2
        ],
        [
         "City University of Hong Kong",
         373,
         "Hong Kong",
         "2015",
         2
        ],
        [
         "Clarkson University",
         766,
         "USA",
         "2014",
         2
        ],
        [
         "Clarkson University",
         835,
         "USA",
         "2015",
         2
        ],
        [
         "Claude Bernard University Lyon 1",
         230,
         "France",
         "2014",
         2
        ],
        [
         "Claude Bernard University Lyon 1",
         207,
         "France",
         "2015",
         2
        ],
        [
         "Clemson University",
         510,
         "USA",
         "2014",
         2
        ],
        [
         "Clemson University",
         483,
         "USA",
         "2015",
         2
        ],
        [
         "College of William and Mary",
         361,
         "USA",
         "2014",
         2
        ],
        [
         "College of William and Mary",
         360,
         "USA",
         "2015",
         2
        ],
        [
         "Colorado School of Mines",
         364,
         "USA",
         "2014",
         2
        ],
        [
         "Colorado School of Mines",
         365,
         "USA",
         "2015",
         2
        ],
        [
         "Colorado State University - Fort Collins",
         262,
         "USA",
         "2014",
         2
        ],
        [
         "Colorado State University - Fort Collins",
         271,
         "USA",
         "2015",
         2
        ],
        [
         "Columbia University",
         9,
         "USA",
         "2012",
         4
        ],
        [
         "Columbia University",
         6,
         "USA",
         "2013",
         4
        ],
        [
         "Columbia University",
         6,
         "USA",
         "2014",
         4
        ],
        [
         "Columbia University",
         6,
         "USA",
         "2015",
         4
        ],
        [
         "Comenius University in Bratislava",
         732,
         "Slovak Republic",
         "2014",
         2
        ],
        [
         "Comenius University in Bratislava",
         685,
         "Slovak Republic",
         "2015",
         2
        ],
        [
         "Complutense University of Madrid",
         198,
         "Spain",
         "2014",
         2
        ],
        [
         "Complutense University of Madrid",
         228,
         "Spain",
         "2015",
         2
        ],
        [
         "Concordia University",
         422,
         "Canada",
         "2014",
         2
        ],
        [
         "Concordia University",
         417,
         "Canada",
         "2015",
         2
        ],
        [
         "Cornell University",
         14,
         "United States of America",
         "2011",
         10
        ],
        [
         "Cornell University",
         12,
         "USA",
         "2012",
         10
        ],
        [
         "Cornell University",
         20,
         "United States of America",
         "2012",
         10
        ],
        [
         "Cornell University",
         13,
         "USA",
         "2013",
         10
        ],
        [
         "Cornell University",
         18,
         "United States of America",
         "2013",
         10
        ],
        [
         "Cornell University",
         11,
         "USA",
         "2014",
         10
        ],
        [
         "Cornell University",
         19,
         "United States of America",
         "2014",
         10
        ],
        [
         "Cornell University",
         10,
         "USA",
         "2015",
         10
        ],
        [
         "Cornell University",
         19,
         "United States of America",
         "2015",
         10
        ],
        [
         "Cornell University",
         18,
         "United States of America",
         "2016",
         10
        ],
        [
         "Cranfield University",
         397,
         "United Kingdom",
         "2014",
         2
        ],
        [
         "Cranfield University",
         594,
         "United Kingdom",
         "2015",
         2
        ],
        [
         "Creighton University",
         490,
         "USA",
         "2014",
         2
        ],
        [
         "Creighton University",
         508,
         "USA",
         "2015",
         2
        ],
        [
         "Curtin University",
         612,
         "Australia",
         "2014",
         2
        ],
        [
         "Curtin University",
         595,
         "Australia",
         "2015",
         2
        ],
        [
         "Czech Technical University in Prague",
         771,
         "Czech Republic",
         "2014",
         2
        ],
        [
         "Czech Technical University in Prague",
         716,
         "Czech Republic",
         "2015",
         2
        ],
        [
         "Dalhousie University",
         284,
         "Canada",
         "2014",
         2
        ],
        [
         "Dalhousie University",
         286,
         "Canada",
         "2015",
         2
        ],
        [
         "Dalian University of Technology",
         242,
         "China",
         "2014",
         2
        ],
        [
         "Dalian University of Technology",
         305,
         "China",
         "2015",
         2
        ],
        [
         "Dankook University",
         601,
         "South Korea",
         "2014",
         2
        ],
        [
         "Dankook University",
         834,
         "South Korea",
         "2015",
         2
        ],
        [
         "Darmstadt University of Technology",
         327,
         "Germany",
         "2014",
         2
        ],
        [
         "Darmstadt University of Technology",
         374,
         "Germany",
         "2015",
         2
        ],
        [
         "Dartmouth College",
         58,
         "USA",
         "2012",
         4
        ],
        [
         "Dartmouth College",
         82,
         "USA",
         "2013",
         4
        ],
        [
         "Dartmouth College",
         44,
         "USA",
         "2014",
         4
        ],
        [
         "Dartmouth College",
         44,
         "USA",
         "2015",
         4
        ],
        [
         "Deakin University",
         613,
         "Australia",
         "2014",
         2
        ],
        [
         "Deakin University",
         579,
         "Australia",
         "2015",
         2
        ],
        [
         "Delft University of Technology",
         275,
         "Netherlands",
         "2014",
         2
        ],
        [
         "Delft University of Technology",
         255,
         "Netherlands",
         "2015",
         2
        ],
        [
         "Dokuz Eylül University",
         934,
         "Turkey",
         "2014",
         2
        ],
        [
         "Dokuz Eylül University",
         954,
         "Turkey",
         "2015",
         2
        ],
        [
         "Dongguk University",
         513,
         "South Korea",
         "2014",
         2
        ],
        [
         "Dongguk University",
         560,
         "South Korea",
         "2015",
         2
        ],
        [
         "Donghua University",
         731,
         "China",
         "2014",
         2
        ],
        [
         "Donghua University",
         659,
         "China",
         "2015",
         2
        ],
        [
         "Dresden University of Technology",
         237,
         "Germany",
         "2014",
         2
        ],
        [
         "Dresden University of Technology",
         210,
         "Germany",
         "2015",
         2
        ],
        [
         "Drexel University",
         190,
         "United States of America",
         "2011",
         3
        ],
        [
         "Drexel University",
         261,
         "USA",
         "2014",
         3
        ],
        [
         "Drexel University",
         258,
         "USA",
         "2015",
         3
        ],
        [
         "Dublin City University",
         819,
         "Ireland",
         "2014",
         2
        ],
        [
         "Dublin City University",
         843,
         "Ireland",
         "2015",
         2
        ],
        [
         "Duke University",
         24,
         "United States of America",
         "2011",
         10
        ],
        [
         "Duke University",
         27,
         "USA",
         "2012",
         10
        ],
        [
         "Duke University",
         22,
         "United States of America",
         "2012",
         10
        ],
        [
         "Duke University",
         25,
         "USA",
         "2013",
         10
        ],
        [
         "Duke University",
         23,
         "United States of America",
         "2013",
         10
        ],
        [
         "Duke University",
         26,
         "USA",
         "2014",
         10
        ],
        [
         "Duke University",
         17,
         "United States of America",
         "2014",
         10
        ],
        [
         "Duke University",
         28,
         "USA",
         "2015",
         10
        ],
        [
         "Duke University",
         18,
         "United States of America",
         "2015",
         10
        ],
        [
         "Duke University",
         20,
         "United States of America",
         "2016",
         10
        ],
        [
         "Durham University",
         264,
         "United Kingdom",
         "2014",
         2
        ],
        [
         "Durham University",
         261,
         "United Kingdom",
         "2015",
         2
        ],
        [
         "East Carolina University",
         718,
         "USA",
         "2014",
         2
        ],
        [
         "East Carolina University",
         762,
         "USA",
         "2015",
         2
        ],
        [
         "East China Normal University",
         672,
         "China",
         "2014",
         2
        ],
        [
         "East China Normal University",
         586,
         "China",
         "2015",
         2
        ],
        [
         "East China University of Science and Technology",
         528,
         "China",
         "2014",
         2
        ],
        [
         "East China University of Science and Technology",
         477,
         "China",
         "2015",
         2
        ],
        [
         "Ege University",
         808,
         "Turkey",
         "2014",
         2
        ],
        [
         "Ege University",
         779,
         "Turkey",
         "2015",
         2
        ],
        [
         "Ehime University",
         581,
         "Japan",
         "2014",
         2
        ],
        [
         "Ehime University",
         651,
         "Japan",
         "2015",
         2
        ],
        [
         "Eindhoven University of Technology",
         353,
         "Netherlands",
         "2014",
         2
        ],
        [
         "Eindhoven University of Technology",
         348,
         "Netherlands",
         "2015",
         2
        ],
        [
         "Emory University",
         81,
         "USA",
         "2012",
         4
        ],
        [
         "Emory University",
         93,
         "USA",
         "2013",
         4
        ],
        [
         "Emory University",
         78,
         "USA",
         "2014",
         4
        ],
        [
         "Emory University",
         84,
         "USA",
         "2015",
         4
        ],
        [
         "Erasmus University Rotterdam",
         101,
         "Netherlands",
         "2014",
         2
        ],
        [
         "Erasmus University Rotterdam",
         85,
         "Netherlands",
         "2015",
         2
        ],
        [
         "Ewha Womans University",
         374,
         "South Korea",
         "2014",
         2
        ],
        [
         "Ewha Womans University",
         390,
         "South Korea",
         "2015",
         2
        ],
        [
         "Eötvös Loránd University",
         371,
         "Hungary",
         "2014",
         2
        ],
        [
         "Eötvös Loránd University",
         458,
         "Hungary",
         "2015",
         2
        ],
        [
         "Federal University of ABC",
         983,
         "Brazil",
         "2014",
         2
        ],
        [
         "Federal University of ABC",
         961,
         "Brazil",
         "2015",
         2
        ],
        [
         "Federal University of Bahia",
         967,
         "Brazil",
         "2014",
         2
        ],
        [
         "Federal University of Bahia",
         992,
         "Brazil",
         "2015",
         2
        ],
        [
         "Federal University of Ceará",
         964,
         "Brazil",
         "2014",
         2
        ],
        [
         "Federal University of Ceará",
         998,
         "Brazil",
         "2015",
         2
        ],
        [
         "Federal University of Minas Gerais",
         496,
         "Brazil",
         "2014",
         2
        ],
        [
         "Federal University of Minas Gerais",
         526,
         "Brazil",
         "2015",
         2
        ],
        [
         "Federal University of Paraná",
         929,
         "Brazil",
         "2014",
         2
        ],
        [
         "Federal University of Paraná",
         934,
         "Brazil",
         "2015",
         2
        ],
        [
         "Federal University of Pernambuco",
         940,
         "Brazil",
         "2014",
         2
        ],
        [
         "Federal University of Pernambuco",
         939,
         "Brazil",
         "2015",
         2
        ],
        [
         "Federal University of Rio Grande do Sul",
         585,
         "Brazil",
         "2014",
         2
        ],
        [
         "Federal University of Rio Grande do Sul",
         583,
         "Brazil",
         "2015",
         2
        ],
        [
         "Federal University of Rio de Janeiro",
         329,
         "Brazil",
         "2014",
         2
        ],
        [
         "Federal University of Rio de Janeiro",
         322,
         "Brazil",
         "2015",
         2
        ],
        [
         "Federal University of Santa Catarina",
         898,
         "Brazil",
         "2014",
         2
        ],
        [
         "Federal University of Santa Catarina",
         918,
         "Brazil",
         "2015",
         2
        ],
        [
         "Federal University of Santa Maria",
         919,
         "Brazil",
         "2014",
         2
        ],
        [
         "Federal University of Santa Maria",
         974,
         "Brazil",
         "2015",
         2
        ],
        [
         "Federal University of São Carlos",
         925,
         "Brazil",
         "2014",
         2
        ],
        [
         "Federal University of São Carlos",
         941,
         "Brazil",
         "2015",
         2
        ],
        [
         "Federal University of São Paulo",
         626,
         "Brazil",
         "2014",
         2
        ],
        [
         "Federal University of São Paulo",
         589,
         "Brazil",
         "2015",
         2
        ],
        [
         "Federico Santa María Technical University",
         971,
         "Chile",
         "2014",
         2
        ],
        [
         "Federico Santa María Technical University",
         960,
         "Chile",
         "2015",
         2
        ],
        [
         "Feng Chia University",
         928,
         "Taiwan",
         "2014",
         2
        ],
        [
         "Feng Chia University",
         983,
         "Taiwan",
         "2015",
         2
        ],
        [
         "Flinders University",
         507,
         "Australia",
         "2014",
         2
        ],
        [
         "Flinders University",
         620,
         "Australia",
         "2015",
         2
        ],
        [
         "Florida Atlantic University",
         882,
         "USA",
         "2014",
         2
        ],
        [
         "Florida Atlantic University",
         856,
         "USA",
         "2015",
         2
        ],
        [
         "Florida Institute of Technology",
         853,
         "USA",
         "2014",
         2
        ],
        [
         "Florida Institute of Technology",
         823,
         "USA",
         "2015",
         2
        ],
        [
         "Florida International University",
         642,
         "USA",
         "2014",
         2
        ],
        [
         "Florida International University",
         605,
         "USA",
         "2015",
         2
        ],
        [
         "Florida State University",
         255,
         "USA",
         "2014",
         2
        ],
        [
         "Florida State University",
         252,
         "USA",
         "2015",
         2
        ],
        [
         "Fluminense Federal University",
         852,
         "Brazil",
         "2014",
         2
        ],
        [
         "Fluminense Federal University",
         915,
         "Brazil",
         "2015",
         2
        ],
        [
         "Fourth Military Medical University",
         932,
         "China",
         "2014",
         2
        ],
        [
         "Fourth Military Medical University",
         899,
         "China",
         "2015",
         2
        ],
        [
         "Free University of Berlin",
         158,
         "Germany",
         "2014",
         2
        ],
        [
         "Free University of Berlin",
         147,
         "Germany",
         "2015",
         2
        ],
        [
         "Fu Jen Catholic University",
         974,
         "Taiwan",
         "2014",
         2
        ],
        [
         "Fu Jen Catholic University",
         971,
         "Taiwan",
         "2015",
         2
        ],
        [
         "Fudan University",
         189,
         "China",
         "2014",
         2
        ],
        [
         "Fudan University",
         195,
         "China",
         "2015",
         2
        ],
        [
         "Fukuoka University",
         786,
         "Japan",
         "2014",
         2
        ],
        [
         "Fukuoka University",
         862,
         "Japan",
         "2015",
         2
        ],
        [
         "Fuzhou University",
         715,
         "China",
         "2014",
         2
        ],
        [
         "Fuzhou University",
         706,
         "China",
         "2015",
         2
        ],
        [
         "G. d'Annunzio University, Chieti-Pescara",
         728,
         "Italy",
         "2014",
         2
        ],
        [
         "G. d'Annunzio University, Chieti-Pescara",
         747,
         "Italy",
         "2015",
         2
        ],
        [
         "Gachon University",
         951,
         "South Korea",
         "2015",
         1
        ],
        [
         "Gazi University",
         900,
         "Turkey",
         "2014",
         2
        ],
        [
         "Gazi University",
         852,
         "Turkey",
         "2015",
         2
        ],
        [
         "George Mason University",
         434,
         "USA",
         "2014",
         2
        ],
        [
         "George Mason University",
         414,
         "USA",
         "2015",
         2
        ],
        [
         "George Washington University",
         95,
         "United States of America",
         "2011",
         7
        ],
        [
         "George Washington University",
         135,
         "United States of America",
         "2012",
         7
        ],
        [
         "George Washington University",
         168,
         "United States of America",
         "2013",
         7
        ],
        [
         "George Washington University",
         180,
         "USA",
         "2014",
         7
        ],
        [
         "George Washington University",
         194,
         "United States of America",
         "2014",
         7
        ],
        [
         "George Washington University",
         202,
         "USA",
         "2015",
         7
        ],
        [
         "George Washington University",
         200,
         "United States of America",
         "2015",
         7
        ],
        [
         "Georgetown University",
         164,
         "United States of America",
         "2011",
         8
        ],
        [
         "Georgetown University",
         138,
         "United States of America",
         "2012",
         8
        ],
        [
         "Georgetown University",
         174,
         "United States of America",
         "2013",
         8
        ],
        [
         "Georgetown University",
         118,
         "USA",
         "2014",
         8
        ],
        [
         "Georgetown University",
         160,
         "United States of America",
         "2014",
         8
        ],
        [
         "Georgetown University",
         113,
         "USA",
         "2015",
         8
        ],
        [
         "Georgetown University",
         173,
         "United States of America",
         "2015",
         8
        ],
        [
         "Georgetown University",
         94,
         "United States of America",
         "2016",
         8
        ],
        [
         "Georgia Institute of Technology",
         87,
         "USA",
         "2012",
         4
        ],
        [
         "Georgia Institute of Technology",
         100,
         "USA",
         "2013",
         4
        ],
        [
         "Georgia Institute of Technology",
         83,
         "USA",
         "2014",
         4
        ],
        [
         "Georgia Institute of Technology",
         80,
         "USA",
         "2015",
         4
        ],
        [
         "Georgia Regents University",
         423,
         "USA",
         "2014",
         2
        ],
        [
         "Georgia Regents University",
         424,
         "USA",
         "2015",
         2
        ],
        [
         "Georgia State University",
         512,
         "USA",
         "2014",
         2
        ],
        [
         "Georgia State University",
         509,
         "USA",
         "2015",
         2
        ],
        [
         "Ghent University",
         136,
         "Belgium",
         "2014",
         2
        ],
        [
         "Ghent University",
         119,
         "Belgium",
         "2015",
         2
        ],
        [
         "Gifu University",
         654,
         "Japan",
         "2014",
         2
        ],
        [
         "Gifu University",
         670,
         "Japan",
         "2015",
         2
        ],
        [
         "Goethe University Frankfurt",
         161,
         "Germany",
         "2014",
         2
        ],
        [
         "Goethe University Frankfurt",
         176,
         "Germany",
         "2015",
         2
        ],
        [
         "Graduate University for Advanced Studies",
         509,
         "Japan",
         "2014",
         2
        ],
        [
         "Graduate University for Advanced Studies",
         524,
         "Japan",
         "2015",
         2
        ],
        [
         "Graz University of Technology",
         725,
         "Austria",
         "2014",
         2
        ],
        [
         "Graz University of Technology",
         669,
         "Austria",
         "2015",
         2
        ],
        [
         "Grenoble Institute of Technology",
         495,
         "France",
         "2014",
         2
        ],
        [
         "Grenoble Institute of Technology",
         430,
         "France",
         "2015",
         2
        ],
        [
         "Griffith University",
         625,
         "Australia",
         "2014",
         2
        ],
        [
         "Griffith University",
         613,
         "Australia",
         "2015",
         2
        ],
        [
         "Guangxi University",
         986,
         "China",
         "2014",
         1
        ],
        [
         "Gunma University",
         652,
         "Japan",
         "2014",
         2
        ],
        [
         "Gunma University",
         608,
         "Japan",
         "2015",
         2
        ],
        [
         "Gwangju Institute of Science and Technology",
         334,
         "South Korea",
         "2014",
         2
        ],
        [
         "Gwangju Institute of Science and Technology",
         310,
         "South Korea",
         "2015",
         2
        ],
        [
         "Gyeongsang National University",
         429,
         "South Korea",
         "2014",
         2
        ],
        [
         "Gyeongsang National University",
         434,
         "South Korea",
         "2015",
         2
        ],
        [
         "Hacettepe University",
         655,
         "Turkey",
         "2014",
         2
        ],
        [
         "Hacettepe University",
         634,
         "Turkey",
         "2015",
         2
        ],
        [
         "Hallym University",
         931,
         "South Korea",
         "2014",
         2
        ],
        [
         "Hallym University",
         952,
         "South Korea",
         "2015",
         2
        ],
        [
         "Hamamatsu University School of Medicine",
         860,
         "Japan",
         "2014",
         2
        ],
        [
         "Hamamatsu University School of Medicine",
         863,
         "Japan",
         "2015",
         2
        ],
        [
         "Hannover Medical School",
         295,
         "Germany",
         "2014",
         2
        ],
        [
         "Hannover Medical School",
         292,
         "Germany",
         "2015",
         2
        ],
        [
         "Hanyang University",
         174,
         "South Korea",
         "2014",
         2
        ],
        [
         "Hanyang University",
         192,
         "South Korea",
         "2015",
         2
        ],
        [
         "Harbin Engineering University",
         953,
         "China",
         "2015",
         1
        ],
        [
         "Harbin Institute of Technology",
         475,
         "China",
         "2014",
         2
        ],
        [
         "Harbin Institute of Technology",
         410,
         "China",
         "2015",
         2
        ],
        [
         "Harbin Medical University",
         990,
         "China",
         "2014",
         1
        ],
        [
         "Harvard University",
         1,
         "United States of America",
         "2011",
         10
        ],
        [
         "Harvard University",
         1,
         "USA",
         "2012",
         10
        ],
        [
         "Harvard University",
         2,
         "United States of America",
         "2012",
         10
        ],
        [
         "Harvard University",
         1,
         "USA",
         "2013",
         10
        ],
        [
         "Harvard University",
         4,
         "United States of America",
         "2013",
         10
        ],
        [
         "Harvard University",
         1,
         "USA",
         "2014",
         10
        ],
        [
         "Harvard University",
         2,
         "United States of America",
         "2014",
         10
        ],
        [
         "Harvard University",
         1,
         "USA",
         "2015",
         10
        ],
        [
         "Harvard University",
         2,
         "United States of America",
         "2015",
         10
        ],
        [
         "Harvard University",
         6,
         "United States of America",
         "2016",
         10
        ],
        [
         "Hasselt University",
         709,
         "Belgium",
         "2014",
         2
        ],
        [
         "Hasselt University",
         733,
         "Belgium",
         "2015",
         2
        ],
        [
         "Hebrew University of Jerusalem",
         22,
         "Israel",
         "2012",
         4
        ],
        [
         "Hebrew University of Jerusalem",
         21,
         "Israel",
         "2013",
         4
        ],
        [
         "Hebrew University of Jerusalem",
         22,
         "Israel",
         "2014",
         4
        ],
        [
         "Hebrew University of Jerusalem",
         23,
         "Israel",
         "2015",
         4
        ],
        [
         "Hefei University of Technology",
         883,
         "China",
         "2015",
         1
        ],
        [
         "Henan Normal University",
         990,
         "China",
         "2015",
         1
        ],
        [
         "Heriot-Watt University",
         703,
         "United Kingdom",
         "2014",
         2
        ],
        [
         "Heriot-Watt University",
         707,
         "United Kingdom",
         "2015",
         2
        ],
        [
         "Hirosaki University",
         873,
         "Japan",
         "2014",
         2
        ],
        [
         "Hirosaki University",
         945,
         "Japan",
         "2015",
         2
        ],
        [
         "Hiroshima University",
         279,
         "Japan",
         "2014",
         2
        ],
        [
         "Hiroshima University",
         290,
         "Japan",
         "2015",
         2
        ],
        [
         "Hokkaido University",
         188,
         "Japan",
         "2014",
         2
        ],
        [
         "Hokkaido University",
         178,
         "Japan",
         "2015",
         2
        ],
        [
         "Hong Kong Baptist University",
         678,
         "Hong Kong",
         "2014",
         2
        ],
        [
         "Hong Kong Baptist University",
         649,
         "Hong Kong",
         "2015",
         2
        ],
        [
         "Hong Kong Polytechnic University",
         381,
         "Hong Kong",
         "2014",
         2
        ],
        [
         "Hong Kong Polytechnic University",
         354,
         "Hong Kong",
         "2015",
         2
        ],
        [
         "Hong Kong University of Science and Technology",
         291,
         "Hong Kong",
         "2014",
         2
        ],
        [
         "Hong Kong University of Science and Technology",
         319,
         "Hong Kong",
         "2015",
         2
        ],
        [
         "Howard University",
         644,
         "USA",
         "2014",
         2
        ],
        [
         "Howard University",
         719,
         "USA",
         "2015",
         2
        ],
        [
         "Huazhong Agricultural University",
         883,
         "China",
         "2014",
         2
        ],
        [
         "Huazhong Agricultural University",
         858,
         "China",
         "2015",
         2
        ],
        [
         "Huazhong University of Science and Technology",
         408,
         "China",
         "2014",
         2
        ],
        [
         "Huazhong University of Science and Technology",
         400,
         "China",
         "2015",
         2
        ],
        [
         "Humboldt University of Berlin",
         157,
         "Germany",
         "2014",
         2
        ],
        [
         "Humboldt University of Berlin",
         153,
         "Germany",
         "2015",
         2
        ],
        [
         "Hunan Normal University",
         968,
         "China",
         "2014",
         2
        ],
        [
         "Hunan Normal University",
         972,
         "China",
         "2015",
         2
        ],
        [
         "Hunan University",
         588,
         "China",
         "2014",
         2
        ],
        [
         "Hunan University",
         553,
         "China",
         "2015",
         2
        ],
        [
         "Hunter College",
         736,
         "USA",
         "2014",
         2
        ],
        [
         "Hunter College",
         850,
         "USA",
         "2015",
         2
        ],
        [
         "I-Shou University",
         994,
         "Taiwan",
         "2014",
         1
        ],
        [
         "Ibaraki University",
         949,
         "Japan",
         "2014",
         2
        ],
        [
         "Ibaraki University",
         970,
         "Japan",
         "2015",
         2
        ],
        [
         "Icahn School of Medicine at Mount Sinai",
         165,
         "USA",
         "2014",
         2
        ],
        [
         "Icahn School of Medicine at Mount Sinai",
         143,
         "USA",
         "2015",
         2
        ],
        [
         "Illinois Institute of Technology",
         489,
         "USA",
         "2014",
         2
        ],
        [
         "Illinois Institute of Technology",
         480,
         "USA",
         "2015",
         2
        ],
        [
         "Imperial College London",
         28,
         "United Kingdom",
         "2012",
         4
        ],
        [
         "Imperial College London",
         27,
         "United Kingdom",
         "2013",
         4
        ],
        [
         "Imperial College London",
         39,
         "United Kingdom",
         "2014",
         4
        ],
        [
         "Imperial College London",
         35,
         "United Kingdom",
         "2015",
         4
        ],
        [
         "Indian Institute of Science",
         501,
         "India",
         "2014",
         2
        ],
        [
         "Indian Institute of Science",
         448,
         "India",
         "2015",
         2
        ],
        [
         "Indian Institute of Technology Bombay",
         535,
         "India",
         "2014",
         2
        ],
        [
         "Indian Institute of Technology Bombay",
         596,
         "India",
         "2015",
         2
        ],
        [
         "Indian Institute of Technology Delhi",
         328,
         "India",
         "2014",
         2
        ],
        [
         "Indian Institute of Technology Delhi",
         341,
         "India",
         "2015",
         2
        ],
        [
         "Indian Institute of Technology Kanpur",
         569,
         "India",
         "2014",
         2
        ],
        [
         "Indian Institute of Technology Kanpur",
         714,
         "India",
         "2015",
         2
        ],
        [
         "Indian Institute of Technology Kharagpur",
         574,
         "India",
         "2014",
         2
        ],
        [
         "Indian Institute of Technology Kharagpur",
         614,
         "India",
         "2015",
         2
        ],
        [
         "Indian Institute of Technology Madras",
         576,
         "India",
         "2014",
         2
        ],
        [
         "Indian Institute of Technology Madras",
         534,
         "India",
         "2015",
         2
        ],
        [
         "Indian Institute of Technology Roorkee",
         611,
         "India",
         "2014",
         2
        ],
        [
         "Indian Institute of Technology Roorkee",
         638,
         "India",
         "2015",
         2
        ],
        [
         "Indiana University - Bloomington",
         85,
         "USA",
         "2013",
         3
        ],
        [
         "Indiana University - Bloomington",
         113,
         "USA",
         "2014",
         3
        ],
        [
         "Indiana University - Bloomington",
         106,
         "USA",
         "2015",
         3
        ],
        [
         "Indiana University-Purdue University Indianapolis",
         156,
         "USA",
         "2014",
         2
        ],
        [
         "Indiana University-Purdue University Indianapolis",
         164,
         "USA",
         "2015",
         2
        ],
        [
         "Inha University",
         615,
         "South Korea",
         "2014",
         2
        ],
        [
         "Inha University",
         578,
         "South Korea",
         "2015",
         2
        ],
        [
         "Inje University",
         768,
         "South Korea",
         "2014",
         2
        ],
        [
         "Inje University",
         813,
         "South Korea",
         "2015",
         2
        ],
        [
         "Innsbruck Medical University",
         452,
         "Austria",
         "2014",
         2
        ],
        [
         "Innsbruck Medical University",
         395,
         "Austria",
         "2015",
         2
        ],
        [
         "Institut national des sciences Appliquées de Lyon",
         779,
         "France",
         "2014",
         2
        ],
        [
         "Institut national des sciences Appliquées de Lyon",
         772,
         "France",
         "2015",
         2
        ],
        [
         "International School for Advanced Studies",
         578,
         "Italy",
         "2014",
         2
        ],
        [
         "International School for Advanced Studies",
         576,
         "Italy",
         "2015",
         2
        ],
        [
         "Iowa State University",
         182,
         "USA",
         "2014",
         2
        ],
        [
         "Iowa State University",
         187,
         "USA",
         "2015",
         2
        ],
        [
         "Iran University of Science and Technology",
         993,
         "Iran",
         "2014",
         1
        ],
        [
         "Isfahan University of Technology",
         938,
         "Iran",
         "2014",
         2
        ],
        [
         "Isfahan University of Technology",
         914,
         "Iran",
         "2015",
         2
        ],
        [
         "Istanbul Technical University",
         773,
         "Turkey",
         "2014",
         2
        ],
        [
         "Istanbul Technical University",
         742,
         "Turkey",
         "2015",
         2
        ],
        [
         "Istanbul University",
         602,
         "Turkey",
         "2014",
         2
        ],
        [
         "Istanbul University",
         623,
         "Turkey",
         "2015",
         2
        ],
        [
         "Jacobs University Bremen",
         787,
         "Germany",
         "2015",
         1
        ],
        [
         "Jadavpur University",
         904,
         "India",
         "2014",
         2
        ],
        [
         "Jadavpur University",
         923,
         "India",
         "2015",
         2
        ],
        [
         "Jagiellonian University",
         479,
         "Poland",
         "2014",
         2
        ],
        [
         "Jagiellonian University",
         451,
         "Poland",
         "2015",
         2
        ],
        [
         "James Cook University",
         572,
         "Australia",
         "2014",
         2
        ],
        [
         "James Cook University",
         541,
         "Australia",
         "2015",
         2
        ],
        [
         "Jaume I University",
         814,
         "Spain",
         "2014",
         2
        ],
        [
         "Jaume I University",
         808,
         "Spain",
         "2015",
         2
        ],
        [
         "Jawaharlal Nehru Centre for Advanced Scientific Research",
         777,
         "India",
         "2014",
         2
        ],
        [
         "Jawaharlal Nehru Centre for Advanced Scientific Research",
         777,
         "India",
         "2015",
         2
        ],
        [
         "Jean Monnet University",
         887,
         "France",
         "2014",
         2
        ],
        [
         "Jean Monnet University",
         880,
         "France",
         "2015",
         2
        ],
        [
         "Jiangnan University",
         877,
         "China",
         "2014",
         2
        ],
        [
         "Jiangnan University",
         828,
         "China",
         "2015",
         2
        ],
        [
         "Jiangsu University",
         941,
         "China",
         "2014",
         2
        ],
        [
         "Jiangsu University",
         947,
         "China",
         "2015",
         2
        ],
        [
         "Jichi Medical University",
         694,
         "Japan",
         "2014",
         2
        ],
        [
         "Jichi Medical University",
         722,
         "Japan",
         "2015",
         2
        ],
        [
         "Jikei University School of Medicine",
         756,
         "Japan",
         "2014",
         2
        ],
        [
         "Jikei University School of Medicine",
         775,
         "Japan",
         "2015",
         2
        ],
        [
         "Jilin University",
         435,
         "China",
         "2014",
         2
        ],
        [
         "Jilin University",
         391,
         "China",
         "2015",
         2
        ],
        [
         "Jinan University",
         846,
         "China",
         "2014",
         2
        ],
        [
         "Jinan University",
         955,
         "China",
         "2015",
         2
        ],
        [
         "Johannes Gutenberg University of Mainz",
         249,
         "Germany",
         "2014",
         2
        ],
        [
         "Johannes Gutenberg University of Mainz",
         233,
         "Germany",
         "2015",
         2
        ],
        [
         "Johannes Kepler University of Linz",
         687,
         "Austria",
         "2014",
         2
        ],
        [
         "Johannes Kepler University of Linz",
         715,
         "Austria",
         "2015",
         2
        ],
        [
         "Johns Hopkins University",
         13,
         "United States of America",
         "2011",
         10
        ],
        [
         "Johns Hopkins University",
         15,
         "USA",
         "2012",
         10
        ],
        [
         "Johns Hopkins University",
         14,
         "United States of America",
         "2012",
         10
        ],
        [
         "Johns Hopkins University",
         17,
         "USA",
         "2013",
         10
        ],
        [
         "Johns Hopkins University",
         16,
         "United States of America",
         "2013",
         10
        ],
        [
         "Johns Hopkins University",
         19,
         "USA",
         "2014",
         10
        ],
        [
         "Johns Hopkins University",
         15,
         "United States of America",
         "2014",
         10
        ],
        [
         "Johns Hopkins University",
         16,
         "USA",
         "2015",
         10
        ],
        [
         "Johns Hopkins University",
         15,
         "United States of America",
         "2015",
         10
        ],
        [
         "Johns Hopkins University",
         11,
         "United States of America",
         "2016",
         10
        ],
        [
         "Joseph Fourier University",
         221,
         "France",
         "2014",
         2
        ],
        [
         "Joseph Fourier University",
         188,
         "France",
         "2015",
         2
        ],
        [
         "Julius-Maximilian's University of Würzburg",
         223,
         "Germany",
         "2014",
         2
        ],
        [
         "Julius-Maximilian's University of Würzburg",
         235,
         "Germany",
         "2015",
         2
        ],
        [
         "Juntendo University",
         484,
         "Japan",
         "2014",
         2
        ],
        [
         "Juntendo University",
         465,
         "Japan",
         "2015",
         2
        ],
        [
         "Justus Liebig University Giessen",
         360,
         "Germany",
         "2014",
         2
        ],
        [
         "Justus Liebig University Giessen",
         358,
         "Germany",
         "2015",
         2
        ],
        [
         "Kagoshima University",
         570,
         "Japan",
         "2014",
         2
        ],
        [
         "Kagoshima University",
         619,
         "Japan",
         "2015",
         2
        ],
        [
         "Kaiserslautern University of Technology",
         706,
         "Germany",
         "2014",
         2
        ],
        [
         "Kaiserslautern University of Technology",
         691,
         "Germany",
         "2015",
         2
        ],
        [
         "Kanazawa University",
         454,
         "Japan",
         "2014",
         2
        ],
        [
         "Kanazawa University",
         457,
         "Japan",
         "2015",
         2
        ],
        [
         "Kangwon National University",
         821,
         "South Korea",
         "2014",
         2
        ],
        [
         "Kangwon National University",
         812,
         "South Korea",
         "2015",
         2
        ],
        [
         "Kansas State University",
         319,
         "USA",
         "2014",
         2
        ],
        [
         "Kansas State University",
         353,
         "USA",
         "2015",
         2
        ],
        [
         "Kaohsiung Medical University",
         774,
         "Taiwan",
         "2014",
         2
        ],
        [
         "Kaohsiung Medical University",
         757,
         "Taiwan",
         "2015",
         2
        ],
        [
         "Karlsruhe Institute of Technology",
         215,
         "Germany",
         "2014",
         2
        ],
        [
         "Karlsruhe Institute of Technology",
         213,
         "Germany",
         "2015",
         2
        ],
        [
         "Karolinska Institute",
         70,
         "Sweden",
         "2012",
         4
        ],
        [
         "Karolinska Institute",
         60,
         "Sweden",
         "2013",
         4
        ],
        [
         "Karolinska Institute",
         73,
         "Sweden",
         "2014",
         4
        ],
        [
         "Karolinska Institute",
         71,
         "Sweden",
         "2015",
         4
        ],
        [
         "Katholieke Universiteit Leuven",
         94,
         "Belgium",
         "2014",
         2
        ],
        [
         "Katholieke Universiteit Leuven",
         82,
         "Belgium",
         "2015",
         2
        ],
        [
         "Keele University",
         663,
         "United Kingdom",
         "2014",
         2
        ],
        [
         "Keele University",
         674,
         "United Kingdom",
         "2015",
         2
        ],
        [
         "Keio University",
         70,
         "Japan",
         "2013",
         3
        ],
        [
         "Keio University",
         34,
         "Japan",
         "2014",
         3
        ],
        [
         "Keio University",
         34,
         "Japan",
         "2015",
         3
        ],
        [
         "Kent State University",
         586,
         "USA",
         "2014",
         2
        ],
        [
         "Kent State University",
         571,
         "USA",
         "2015",
         2
        ],
        [
         "Kindai University",
         658,
         "Japan",
         "2014",
         2
        ],
        [
         "Kindai University",
         737,
         "Japan",
         "2015",
         2
        ],
        [
         "King Abdulaziz University",
         992,
         "Saudi Arabia",
         "2014",
         2
        ],
        [
         "King Abdulaziz University",
         995,
         "Saudi Arabia",
         "2015",
         2
        ],
        [
         "King Abdullah University of Science and Technology",
         668,
         "Saudi Arabia",
         "2014",
         2
        ],
        [
         "King Abdullah University of Science and Technology",
         704,
         "Saudi Arabia",
         "2015",
         2
        ],
        [
         "King Fahd University of Petroleum and Minerals",
         807,
         "Saudi Arabia",
         "2014",
         2
        ],
        [
         "King Fahd University of Petroleum and Minerals",
         847,
         "Saudi Arabia",
         "2015",
         2
        ],
        [
         "King Juan Carlos University",
         984,
         "Spain",
         "2014",
         1
        ],
        [
         "King Saud University",
         420,
         "Saudi Arabia",
         "2014",
         2
        ],
        [
         "King Saud University",
         569,
         "Saudi Arabia",
         "2015",
         2
        ],
        [
         "King's College London",
         75,
         "United Kingdom",
         "2013",
         3
        ],
        [
         "King's College London",
         90,
         "United Kingdom",
         "2014",
         3
        ],
        [
         "King's College London",
         94,
         "United Kingdom",
         "2015",
         3
        ],
        [
         "Kitasato University",
         726,
         "Japan",
         "2014",
         2
        ],
        [
         "Kitasato University",
         732,
         "Japan",
         "2015",
         2
        ],
        [
         "Kobe University",
         153,
         "Japan",
         "2014",
         2
        ],
        [
         "Kobe University",
         320,
         "Japan",
         "2015",
         2
        ],
        [
         "Konkuk University",
         529,
         "South Korea",
         "2014",
         2
        ],
        [
         "Konkuk University",
         602,
         "South Korea",
         "2015",
         2
        ],
        [
         "Korea Advanced Institute of Science and Technology (KAIST)",
         128,
         "South Korea",
         "2014",
         2
        ],
        [
         "Korea Advanced Institute of Science and Technology (KAIST)",
         144,
         "South Korea",
         "2015",
         2
        ],
        [
         "Korea University",
         130,
         "South Korea",
         "2014",
         2
        ],
        [
         "Korea University",
         115,
         "South Korea",
         "2015",
         2
        ],
        [
         "Kumamoto University",
         407,
         "Japan",
         "2014",
         2
        ],
        [
         "Kumamoto University",
         419,
         "Japan",
         "2015",
         2
        ],
        [
         "Kurume University",
         760,
         "Japan",
         "2014",
         2
        ],
        [
         "Kurume University",
         771,
         "Japan",
         "2015",
         2
        ],
        [
         "Kyoto Institute of Technology",
         869,
         "Japan",
         "2014",
         2
        ],
        [
         "Kyoto Institute of Technology",
         887,
         "Japan",
         "2015",
         2
        ],
        [
         "Kyoto Prefectural University of Medicine",
         721,
         "Japan",
         "2014",
         2
        ],
        [
         "Kyoto Prefectural University of Medicine",
         728,
         "Japan",
         "2015",
         2
        ],
        [
         "Kyoto University",
         17,
         "Japan",
         "2012",
         4
        ],
        [
         "Kyoto University",
         15,
         "Japan",
         "2013",
         4
        ],
        [
         "Kyoto University",
         16,
         "Japan",
         "2014",
         4
        ],
        [
         "Kyoto University",
         17,
         "Japan",
         "2015",
         4
        ],
        [
         "Kyung Hee University",
         380,
         "South Korea",
         "2014",
         2
        ],
        [
         "Kyung Hee University",
         401,
         "South Korea",
         "2015",
         2
        ],
        [
         "Kyungpook National University",
         314,
         "South Korea",
         "2014",
         2
        ],
        [
         "Kyungpook National University",
         307,
         "South Korea",
         "2015",
         2
        ],
        [
         "Kyushu University",
         92,
         "Japan",
         "2014",
         2
        ],
        [
         "Kyushu University",
         100,
         "Japan",
         "2015",
         2
        ],
        [
         "Kōchi University",
         830,
         "Japan",
         "2014",
         2
        ],
        [
         "Kōchi University",
         838,
         "Japan",
         "2015",
         2
        ],
        [
         "LSU Health Sciences Center New Orleans",
         590,
         "USA",
         "2014",
         2
        ],
        [
         "LSU Health Sciences Center New Orleans",
         600,
         "USA",
         "2015",
         2
        ],
        [
         "La Trobe University",
         636,
         "Australia",
         "2014",
         2
        ],
        [
         "La Trobe University",
         645,
         "Australia",
         "2015",
         2
        ],
        [
         "Lancaster University",
         449,
         "United Kingdom",
         "2014",
         2
        ],
        [
         "Lancaster University",
         426,
         "United Kingdom",
         "2015",
         2
        ],
        [
         "Lanzhou University",
         571,
         "China",
         "2014",
         2
        ],
        [
         "Lanzhou University",
         514,
         "China",
         "2015",
         2
        ],
        [
         "Laval University",
         226,
         "Canada",
         "2014",
         2
        ],
        [
         "Laval University",
         229,
         "Canada",
         "2015",
         2
        ],
        [
         "Lehigh University",
         258,
         "USA",
         "2014",
         2
        ],
        [
         "Lehigh University",
         264,
         "USA",
         "2015",
         2
        ],
        [
         "Leiden University",
         85,
         "Netherlands",
         "2012",
         3
        ],
        [
         "Leiden University",
         117,
         "Netherlands",
         "2014",
         3
        ],
        [
         "Leiden University",
         108,
         "Netherlands",
         "2015",
         3
        ],
        [
         "Leipzig University",
         299,
         "Germany",
         "2014",
         2
        ],
        [
         "Leipzig University",
         302,
         "Germany",
         "2015",
         2
        ],
        [
         "Lille 2 University of Health and Law",
         662,
         "France",
         "2014",
         2
        ],
        [
         "Lille 2 University of Health and Law",
         618,
         "France",
         "2015",
         2
        ],
        [
         "Linköping University",
         302,
         "Sweden",
         "2014",
         2
        ],
        [
         "Linköping University",
         355,
         "Sweden",
         "2015",
         2
        ],
        [
         "Liverpool John Moores University",
         724,
         "United Kingdom",
         "2014",
         2
        ],
        [
         "Liverpool John Moores University",
         696,
         "United Kingdom",
         "2015",
         2
        ],
        [
         "Loma Linda University",
         674,
         "USA",
         "2014",
         2
        ],
        [
         "Loma Linda University",
         665,
         "USA",
         "2015",
         2
        ],
        [
         "Lomonosov Moscow State University",
         90,
         "Russia",
         "2013",
         3
        ],
        [
         "Lomonosov Moscow State University",
         48,
         "Russia",
         "2014",
         3
        ],
        [
         "Lomonosov Moscow State University",
         59,
         "Russia",
         "2015",
         3
        ],
        [
         "London School of Economics",
         306,
         "United Kingdom",
         "2014",
         2
        ],
        [
         "London School of Economics",
         279,
         "United Kingdom",
         "2015",
         2
        ],
        [
         "London School of Hygiene & Tropical Medicine",
         257,
         "United Kingdom",
         "2014",
         2
        ],
        [
         "London School of Hygiene & Tropical Medicine",
         246,
         "United Kingdom",
         "2015",
         2
        ],
        [
         "Loughborough University",
         705,
         "United Kingdom",
         "2014",
         2
        ],
        [
         "Loughborough University",
         694,
         "United Kingdom",
         "2015",
         2
        ],
        [
         "Louisiana State University - Baton Rouge",
         216,
         "USA",
         "2014",
         2
        ],
        [
         "Louisiana State University - Baton Rouge",
         332,
         "USA",
         "2015",
         2
        ],
        [
         "Louisiana Tech University",
         639,
         "USA",
         "2014",
         2
        ],
        [
         "Louisiana Tech University",
         625,
         "USA",
         "2015",
         2
        ],
        [
         "Loyola University Chicago",
         446,
         "USA",
         "2014",
         2
        ],
        [
         "Loyola University Chicago",
         437,
         "USA",
         "2015",
         2
        ],
        [
         "Ludwig Maximilian University of Munich",
         83,
         "Germany",
         "2012",
         4
        ],
        [
         "Ludwig Maximilian University of Munich",
         67,
         "Germany",
         "2013",
         4
        ],
        [
         "Ludwig Maximilian University of Munich",
         82,
         "Germany",
         "2014",
         4
        ],
        [
         "Ludwig Maximilian University of Munich",
         79,
         "Germany",
         "2015",
         4
        ],
        [
         "Lund University",
         116,
         "Sweden",
         "2014",
         2
        ],
        [
         "Lund University",
         117,
         "Sweden",
         "2015",
         2
        ],
        [
         "Maastricht University",
         250,
         "Netherlands",
         "2014",
         2
        ],
        [
         "Maastricht University",
         225,
         "Netherlands",
         "2015",
         2
        ],
        [
         "Macquarie University",
         486,
         "Australia",
         "2014",
         2
        ],
        [
         "Macquarie University",
         449,
         "Australia",
         "2015",
         2
        ],
        [
         "Magna Græcia University of Catanzaro",
         828,
         "Italy",
         "2014",
         2
        ],
        [
         "Magna Græcia University of Catanzaro",
         802,
         "Italy",
         "2015",
         2
        ],
        [
         "Mahidol University",
         550,
         "Thailand",
         "2014",
         2
        ],
        [
         "Mahidol University",
         532,
         "Thailand",
         "2015",
         2
        ],
        [
         "Makerere University",
         891,
         "Uganda",
         "2014",
         2
        ],
        [
         "Makerere University",
         869,
         "Uganda",
         "2015",
         2
        ],
        [
         "Manchester Metropolitan University",
         817,
         "United Kingdom",
         "2014",
         2
        ],
        [
         "Manchester Metropolitan University",
         885,
         "United Kingdom",
         "2015",
         2
        ],
        [
         "Mansoura University",
         958,
         "Egypt",
         "2014",
         2
        ],
        [
         "Mansoura University",
         988,
         "Egypt",
         "2015",
         2
        ],
        [
         "Marche Polytechnic University",
         701,
         "Italy",
         "2014",
         2
        ],
        [
         "Marche Polytechnic University",
         662,
         "Italy",
         "2015",
         2
        ],
        [
         "Marquette University",
         704,
         "USA",
         "2014",
         2
        ],
        [
         "Marquette University",
         717,
         "USA",
         "2015",
         2
        ],
        [
         "Martin Luther University of Halle-Wittenberg",
         508,
         "Germany",
         "2014",
         2
        ],
        [
         "Martin Luther University of Halle-Wittenberg",
         497,
         "Germany",
         "2015",
         2
        ],
        [
         "Masaryk University",
         742,
         "Czech Republic",
         "2014",
         2
        ],
        [
         "Masaryk University",
         702,
         "Czech Republic",
         "2015",
         2
        ],
        [
         "Massachusetts Institute of Technology",
         3,
         "United States of America",
         "2011",
         10
        ],
        [
         "Massachusetts Institute of Technology",
         2,
         "USA",
         "2012",
         10
        ],
        [
         "Massachusetts Institute of Technology",
         7,
         "United States of America",
         "2012",
         10
        ],
        [
         "Massachusetts Institute of Technology",
         4,
         "USA",
         "2013",
         10
        ],
        [
         "Massachusetts Institute of Technology",
         5,
         "United States of America",
         "2013",
         10
        ],
        [
         "Massachusetts Institute of Technology",
         3,
         "USA",
         "2014",
         10
        ],
        [
         "Massachusetts Institute of Technology",
         5,
         "United States of America",
         "2014",
         10
        ],
        [
         "Massachusetts Institute of Technology",
         3,
         "USA",
         "2015",
         10
        ],
        [
         "Massachusetts Institute of Technology",
         6,
         "United States of America",
         "2015",
         10
        ],
        [
         "Massachusetts Institute of Technology",
         5,
         "United States of America",
         "2016",
         10
        ],
        [
         "Massey University",
         628,
         "New Zealand",
         "2014",
         2
        ],
        [
         "Massey University",
         658,
         "New Zealand",
         "2015",
         2
        ],
        [
         "McGill University",
         41,
         "Canada",
         "2012",
         4
        ],
        [
         "McGill University",
         47,
         "Canada",
         "2013",
         4
        ],
        [
         "McGill University",
         42,
         "Canada",
         "2014",
         4
        ],
        [
         "McGill University",
         42,
         "Canada",
         "2015",
         4
        ],
        [
         "McMaster University",
         141,
         "Canada",
         "2014",
         2
        ],
        [
         "McMaster University",
         150,
         "Canada",
         "2015",
         2
        ],
        [
         "Medical College of Wisconsin",
         293,
         "USA",
         "2014",
         2
        ],
        [
         "Medical College of Wisconsin",
         297,
         "USA",
         "2015",
         2
        ],
        [
         "Medical University of Graz",
         643,
         "Austria",
         "2014",
         2
        ],
        [
         "Medical University of Graz",
         574,
         "Austria",
         "2015",
         2
        ],
        [
         "Medical University of South Carolina",
         312,
         "USA",
         "2014",
         2
        ],
        [
         "Medical University of South Carolina",
         303,
         "USA",
         "2015",
         2
        ],
        [
         "Medical University of Vienna",
         310,
         "Austria",
         "2014",
         2
        ],
        [
         "Medical University of Vienna",
         265,
         "Austria",
         "2015",
         2
        ],
        [
         "Memorial University of Newfoundland",
         657,
         "Canada",
         "2014",
         2
        ],
        [
         "Memorial University of Newfoundland",
         611,
         "Canada",
         "2015",
         2
        ],
        [
         "Miami University",
         443,
         "USA",
         "2014",
         2
        ],
        [
         "Miami University",
         444,
         "USA",
         "2015",
         2
        ],
        [
         "Michigan State University",
         122,
         "United States of America",
         "2011",
         8
        ],
        [
         "Michigan State University",
         96,
         "United States of America",
         "2012",
         8
        ],
        [
         "Michigan State University",
         94,
         "United States of America",
         "2013",
         8
        ],
        [
         "Michigan State University",
         112,
         "USA",
         "2014",
         8
        ],
        [
         "Michigan State University",
         83,
         "United States of America",
         "2014",
         8
        ],
        [
         "Michigan State University",
         118,
         "USA",
         "2015",
         8
        ],
        [
         "Michigan State University",
         82,
         "United States of America",
         "2015",
         8
        ],
        [
         "Michigan State University",
         99,
         "United States of America",
         "2016",
         8
        ],
        [
         "Michigan Technological University",
         796,
         "USA",
         "2014",
         2
        ],
        [
         "Michigan Technological University",
         790,
         "USA",
         "2015",
         2
        ],
        [
         "Middle East Technical University",
         396,
         "Turkey",
         "2014",
         2
        ],
        [
         "Middle East Technical University",
         470,
         "Turkey",
         "2015",
         2
        ],
        [
         "Mie University",
         734,
         "Japan",
         "2014",
         2
        ],
        [
         "Mie University",
         780,
         "Japan",
         "2015",
         2
        ],
        [
         "Miguel Hernández University of Elche",
         730,
         "Spain",
         "2014",
         2
        ],
        [
         "Miguel Hernández University of Elche",
         767,
         "Spain",
         "2015",
         2
        ],
        [
         "Mines ParisTech",
         100,
         "France",
         "2012",
         3
        ],
        [
         "Mines ParisTech",
         167,
         "France",
         "2014",
         3
        ],
        [
         "Mines ParisTech",
         104,
         "France",
         "2015",
         3
        ],
        [
         "Mississippi State University",
         504,
         "USA",
         "2014",
         2
        ],
        [
         "Mississippi State University",
         607,
         "USA",
         "2015",
         2
        ],
        [
         "Missouri University of Science and Technology",
         637,
         "USA",
         "2014",
         2
        ],
        [
         "Missouri University of Science and Technology",
         718,
         "USA",
         "2015",
         2
        ],
        [
         "Monash University",
         170,
         "Australia",
         "2014",
         2
        ],
        [
         "Monash University",
         145,
         "Australia",
         "2015",
         2
        ],
        [
         "Montana State University - Bozeman",
         540,
         "USA",
         "2014",
         2
        ],
        [
         "Montana State University - Bozeman",
         556,
         "USA",
         "2015",
         2
        ],
        [
         "Moscow Institute of Physics and Technology",
         250,
         "Russia",
         "2015",
         1
        ],
        [
         "Murdoch University",
         836,
         "Australia",
         "2014",
         2
        ],
        [
         "Murdoch University",
         829,
         "Australia",
         "2015",
         2
        ],
        [
         "Nagasaki University",
         417,
         "Japan",
         "2014",
         2
        ],
        [
         "Nagasaki University",
         486,
         "Japan",
         "2015",
         2
        ],
        [
         "Nagoya City University",
         555,
         "Japan",
         "2014",
         2
        ],
        [
         "Nagoya City University",
         599,
         "Japan",
         "2015",
         2
        ],
        [
         "Nagoya Institute of Technology",
         787,
         "Japan",
         "2014",
         2
        ],
        [
         "Nagoya Institute of Technology",
         827,
         "Japan",
         "2015",
         2
        ],
        [
         "Nagoya University",
         74,
         "Japan",
         "2012",
         4
        ],
        [
         "Nagoya University",
         91,
         "Japan",
         "2013",
         4
        ],
        [
         "Nagoya University",
         132,
         "Japan",
         "2014",
         4
        ],
        [
         "Nagoya University",
         125,
         "Japan",
         "2015",
         4
        ],
        [
         "Nanjing Agricultural University",
         896,
         "China",
         "2014",
         2
        ],
        [
         "Nanjing Agricultural University",
         866,
         "China",
         "2015",
         2
        ],
        [
         "Nanjing Medical University",
         917,
         "China",
         "2014",
         2
        ],
        [
         "Nanjing Medical University",
         886,
         "China",
         "2015",
         2
        ],
        [
         "Nanjing Normal University",
         842,
         "China",
         "2014",
         2
        ],
        [
         "Nanjing Normal University",
         864,
         "China",
         "2015",
         2
        ],
        [
         "Nanjing University",
         217,
         "China",
         "2014",
         2
        ],
        [
         "Nanjing University",
         244,
         "China",
         "2015",
         2
        ],
        [
         "Nanjing University of Aeronautics and Astronautics",
         935,
         "China",
         "2014",
         2
        ],
        [
         "Nanjing University of Aeronautics and Astronautics",
         895,
         "China",
         "2015",
         2
        ],
        [
         "Nanjing University of Science and Technology",
         710,
         "China",
         "2014",
         2
        ],
        [
         "Nanjing University of Science and Technology",
         804,
         "China",
         "2015",
         2
        ],
        [
         "Nanjing University of Technology",
         865,
         "China",
         "2014",
         2
        ],
        [
         "Nanjing University of Technology",
         810,
         "China",
         "2015",
         2
        ],
        [
         "Nankai University",
         349,
         "China",
         "2014",
         2
        ],
        [
         "Nankai University",
         315,
         "China",
         "2015",
         2
        ],
        [
         "Nanyang Technological University",
         148,
         "Singapore",
         "2014",
         2
        ],
        [
         "Nanyang Technological University",
         135,
         "Singapore",
         "2015",
         2
        ],
        [
         "Nara Institute of Science and Technology",
         547,
         "Japan",
         "2014",
         2
        ],
        [
         "Nara Institute of Science and Technology",
         547,
         "Japan",
         "2015",
         2
        ],
        [
         "National Autonomous University of Mexico",
         337,
         "Mexico",
         "2014",
         2
        ],
        [
         "National Autonomous University of Mexico",
         334,
         "Mexico",
         "2015",
         2
        ],
        [
         "National Central University",
         565,
         "Taiwan",
         "2014",
         2
        ],
        [
         "National Central University",
         564,
         "Taiwan",
         "2015",
         2
        ],
        [
         "National Cheng Kung University",
         246,
         "Taiwan",
         "2014",
         2
        ],
        [
         "National Cheng Kung University",
         226,
         "Taiwan",
         "2015",
         2
        ],
        [
         "National Chiao Tung University",
         411,
         "Taiwan",
         "2014",
         2
        ],
        [
         "National Chiao Tung University",
         386,
         "Taiwan",
         "2015",
         2
        ],
        [
         "National Chung Cheng University",
         855,
         "Taiwan",
         "2014",
         2
        ],
        [
         "National Chung Cheng University",
         865,
         "Taiwan",
         "2015",
         2
        ],
        [
         "National Chung Hsing University",
         635,
         "Taiwan",
         "2014",
         2
        ],
        [
         "National Chung Hsing University",
         544,
         "Taiwan",
         "2015",
         2
        ],
        [
         "National Dong Hwa University",
         996,
         "Taiwan",
         "2014",
         1
        ],
        [
         "National Polytechnic Institute",
         755,
         "Mexico",
         "2014",
         2
        ],
        [
         "National Polytechnic Institute",
         786,
         "Mexico",
         "2015",
         2
        ],
        [
         "National Polytechnic Institute of Toulouse",
         568,
         "France",
         "2014",
         2
        ],
        [
         "National Polytechnic Institute of Toulouse",
         580,
         "France",
         "2015",
         2
        ],
        [
         "National Research Nuclear University MEPhI",
         755,
         "Russia",
         "2015",
         1
        ],
        [
         "National Sun Yat-sen University",
         791,
         "Taiwan",
         "2014",
         2
        ],
        [
         "National Sun Yat-sen University",
         803,
         "Taiwan",
         "2015",
         2
        ],
        [
         "National Taipei University of Technology",
         997,
         "Taiwan",
         "2014",
         1
        ],
        [
         "National Taiwan Normal University",
         857,
         "Taiwan",
         "2014",
         2
        ],
        [
         "National Taiwan Normal University",
         932,
         "Taiwan",
         "2015",
         2
        ],
        [
         "National Taiwan Ocean University",
         899,
         "Taiwan",
         "2014",
         2
        ],
        [
         "National Taiwan Ocean University",
         946,
         "Taiwan",
         "2015",
         2
        ],
        [
         "National Taiwan University",
         65,
         "Taiwan",
         "2014",
         2
        ],
        [
         "National Taiwan University",
         57,
         "Taiwan",
         "2015",
         2
        ],
        [
         "National Taiwan University of Science and Technology",
         893,
         "Taiwan",
         "2014",
         2
        ],
        [
         "National Taiwan University of Science and Technology",
         916,
         "Taiwan",
         "2015",
         2
        ],
        [
         "National Technical University of Athens",
         648,
         "Greece",
         "2014",
         2
        ],
        [
         "National Technical University of Athens",
         695,
         "Greece",
         "2015",
         2
        ],
        [
         "National Tsing Hua University",
         418,
         "Taiwan",
         "2014",
         2
        ],
        [
         "National Tsing Hua University",
         407,
         "Taiwan",
         "2015",
         2
        ],
        [
         "National University of Colombia",
         901,
         "Colombia",
         "2014",
         2
        ],
        [
         "National University of Colombia",
         968,
         "Colombia",
         "2015",
         2
        ],
        [
         "National University of Córdoba",
         897,
         "Argentina",
         "2014",
         2
        ],
        [
         "National University of Córdoba",
         933,
         "Argentina",
         "2015",
         2
        ],
        [
         "National University of Defense Technology",
         999,
         "China",
         "2014",
         1
        ],
        [
         "National University of Ireland, Galway",
         600,
         "Ireland",
         "2014",
         2
        ],
        [
         "National University of Ireland, Galway",
         558,
         "Ireland",
         "2015",
         2
        ],
        [
         "National University of Ireland, Maynooth",
         820,
         "Ireland",
         "2014",
         2
        ],
        [
         "National University of Ireland, Maynooth",
         853,
         "Ireland",
         "2015",
         2
        ],
        [
         "National University of La Plata",
         741,
         "Argentina",
         "2014",
         2
        ],
        [
         "National University of La Plata",
         744,
         "Argentina",
         "2015",
         2
        ],
        [
         "National University of Rosario",
         978,
         "Argentina",
         "2014",
         1
        ],
        [
         "National University of Singapore",
         87,
         "Singapore",
         "2013",
         3
        ],
        [
         "National University of Singapore",
         74,
         "Singapore",
         "2014",
         3
        ],
        [
         "National University of Singapore",
         65,
         "Singapore",
         "2015",
         3
        ],
        [
         "National Yang-Ming University",
         534,
         "Taiwan",
         "2014",
         2
        ],
        [
         "National Yang-Ming University",
         542,
         "Taiwan",
         "2015",
         2
        ],
        [
         "National and Kapodistrian University of Athens",
         331,
         "Greece",
         "2014",
         2
        ],
        [
         "National and Kapodistrian University of Athens",
         301,
         "Greece",
         "2015",
         2
        ],
        [
         "New Jersey Institute of Technology",
         661,
         "USA",
         "2014",
         2
        ],
        [
         "New Jersey Institute of Technology",
         761,
         "USA",
         "2015",
         2
        ],
        [
         "New Mexico State University",
         467,
         "USA",
         "2014",
         2
        ],
        [
         "New Mexico State University",
         519,
         "USA",
         "2015",
         2
        ],
        [
         "New York Medical College",
         521,
         "USA",
         "2014",
         2
        ],
        [
         "New York Medical College",
         546,
         "USA",
         "2015",
         2
        ],
        [
         "New York University",
         60,
         "United States of America",
         "2011",
         10
        ],
        [
         "New York University",
         23,
         "USA",
         "2012",
         10
        ],
        [
         "New York University",
         44,
         "United States of America",
         "2012",
         10
        ],
        [
         "New York University",
         19,
         "USA",
         "2013",
         10
        ],
        [
         "New York University",
         41,
         "United States of America",
         "2013",
         10
        ],
        [
         "New York University",
         17,
         "USA",
         "2014",
         10
        ],
        [
         "New York University",
         40,
         "United States of America",
         "2014",
         10
        ],
        [
         "New York University",
         18,
         "USA",
         "2015",
         10
        ],
        [
         "New York University",
         38,
         "United States of America",
         "2015",
         10
        ],
        [
         "New York University",
         30,
         "United States of America",
         "2016",
         10
        ],
        [
         "Newcastle University",
         229,
         "United Kingdom",
         "2014",
         2
        ],
        [
         "Newcastle University",
         212,
         "United Kingdom",
         "2015",
         2
        ],
        [
         "Nicolaus Copernicus University in Toruń",
         918,
         "Poland",
         "2014",
         2
        ],
        [
         "Nicolaus Copernicus University in Toruń",
         911,
         "Poland",
         "2015",
         2
        ],
        [
         "Nihon University",
         539,
         "Japan",
         "2014",
         2
        ],
        [
         "Nihon University",
         473,
         "Japan",
         "2015",
         2
        ],
        [
         "Niigata University",
         424,
         "Japan",
         "2014",
         2
        ],
        [
         "Niigata University",
         468,
         "Japan",
         "2015",
         2
        ],
        [
         "North Carolina State University",
         228,
         "USA",
         "2014",
         2
        ],
        [
         "North Carolina State University",
         232,
         "USA",
         "2015",
         2
        ],
        [
         "North Dakota State University - Main Campus",
         746,
         "USA",
         "2014",
         2
        ],
        [
         "North Dakota State University - Main Campus",
         792,
         "USA",
         "2015",
         2
        ],
        [
         "Northeast Normal University",
         669,
         "China",
         "2014",
         2
        ],
        [
         "Northeast Normal University",
         640,
         "China",
         "2015",
         2
        ],
        [
         "Northeastern University",
         318,
         "USA",
         "2014",
         4
        ],
        [
         "Northeastern University",
         184,
         "United States of America",
         "2014",
         4
        ],
        [
         "Northeastern University",
         275,
         "USA",
         "2015",
         4
        ],
        [
         "Northeastern University",
         185,
         "United States of America",
         "2015",
         4
        ],
        [
         "Northeastern University (China)",
         907,
         "China",
         "2014",
         2
        ],
        [
         "Northeastern University (China)",
         871,
         "China",
         "2015",
         2
        ],
        [
         "Northern Arizona University",
         783,
         "USA",
         "2014",
         2
        ],
        [
         "Northern Arizona University",
         766,
         "USA",
         "2015",
         2
        ],
        [
         "Northern Illinois University",
         596,
         "USA",
         "2014",
         2
        ],
        [
         "Northern Illinois University",
         643,
         "USA",
         "2015",
         2
        ],
        [
         "Northwest A&F University",
         987,
         "China",
         "2014",
         1
        ],
        [
         "Northwest University (China)",
         912,
         "China",
         "2014",
         2
        ],
        [
         "Northwest University (China)",
         877,
         "China",
         "2015",
         2
        ],
        [
         "Northwestern Polytechnical University",
         947,
         "China",
         "2014",
         2
        ],
        [
         "Northwestern Polytechnical University",
         948,
         "China",
         "2015",
         2
        ],
        [
         "Northwestern University",
         25,
         "United States of America",
         "2011",
         10
        ],
        [
         "Northwestern University",
         33,
         "USA",
         "2012",
         10
        ],
        [
         "Northwestern University",
         26,
         "United States of America",
         "2012",
         10
        ],
        [
         "Northwestern University",
         28,
         "USA",
         "2013",
         10
        ],
        [
         "Northwestern University",
         19,
         "United States of America",
         "2013",
         10
        ],
        [
         "Northwestern University",
         23,
         "USA",
         "2014",
         10
        ],
        [
         "Northwestern University",
         22,
         "United States of America",
         "2014",
         10
        ],
        [
         "Northwestern University",
         22,
         "USA",
         "2015",
         10
        ],
        [
         "Northwestern University",
         21,
         "United States of America",
         "2015",
         10
        ],
        [
         "Northwestern University",
         25,
         "United States of America",
         "2016",
         10
        ],
        [
         "Norwegian University of Life Sciences",
         794,
         "Norway",
         "2014",
         2
        ],
        [
         "Norwegian University of Life Sciences",
         789,
         "Norway",
         "2015",
         2
        ],
        [
         "Norwegian University of Science and Technology",
         286,
         "Norway",
         "2014",
         2
        ],
        [
         "Norwegian University of Science and Technology",
         243,
         "Norway",
         "2015",
         2
        ],
        [
         "Novosibirsk State University",
         916,
         "Russia",
         "2014",
         2
        ],
        [
         "Novosibirsk State University",
         985,
         "Russia",
         "2015",
         2
        ],
        [
         "Oakland University",
         864,
         "USA",
         "2014",
         2
        ],
        [
         "Oakland University",
         906,
         "USA",
         "2015",
         2
        ],
        [
         "Ocean University of China",
         870,
         "China",
         "2014",
         2
        ],
        [
         "Ocean University of China",
         846,
         "China",
         "2015",
         2
        ],
        [
         "Ohio State University, Columbus",
         52,
         "USA",
         "2012",
         4
        ],
        [
         "Ohio State University, Columbus",
         52,
         "USA",
         "2013",
         4
        ],
        [
         "Ohio State University, Columbus",
         47,
         "USA",
         "2014",
         4
        ],
        [
         "Ohio State University, Columbus",
         49,
         "USA",
         "2015",
         4
        ],
        [
         "Ohio University",
         464,
         "USA",
         "2014",
         2
        ],
        [
         "Ohio University",
         460,
         "USA",
         "2015",
         2
        ],
        [
         "Okayama University",
         281,
         "Japan",
         "2014",
         2
        ],
        [
         "Okayama University",
         245,
         "Japan",
         "2015",
         2
        ],
        [
         "Oklahoma State University–Stillwater",
         365,
         "USA",
         "2014",
         2
        ],
        [
         "Oklahoma State University–Stillwater",
         412,
         "USA",
         "2015",
         2
        ],
        [
         "Old Dominion University",
         675,
         "USA",
         "2014",
         2
        ],
        [
         "Old Dominion University",
         656,
         "USA",
         "2015",
         2
        ],
        [
         "Open University (UK)",
         630,
         "United Kingdom",
         "2014",
         2
        ],
        [
         "Open University (UK)",
         631,
         "United Kingdom",
         "2015",
         2
        ],
        [
         "Oregon Health & Science University",
         175,
         "USA",
         "2014",
         2
        ],
        [
         "Oregon Health & Science University",
         166,
         "USA",
         "2015",
         2
        ],
        [
         "Oregon State University",
         265,
         "USA",
         "2014",
         2
        ],
        [
         "Oregon State University",
         260,
         "USA",
         "2015",
         2
        ],
        [
         "Osaka City University",
         150,
         "Japan",
         "2014",
         2
        ],
        [
         "Osaka City University",
         474,
         "Japan",
         "2015",
         2
        ],
        [
         "Osaka Prefecture University",
         594,
         "Japan",
         "2014",
         2
        ],
        [
         "Osaka Prefecture University",
         598,
         "Japan",
         "2015",
         2
        ],
        [
         "Osaka University",
         32,
         "Japan",
         "2012",
         4
        ],
        [
         "Osaka University",
         35,
         "Japan",
         "2013",
         4
        ],
        [
         "Osaka University",
         43,
         "Japan",
         "2014",
         4
        ],
        [
         "Osaka University",
         45,
         "Japan",
         "2015",
         4
        ],
        [
         "Otto-von-Guericke University Magdeburg",
         500,
         "Germany",
         "2014",
         2
        ],
        [
         "Otto-von-Guericke University Magdeburg",
         536,
         "Germany",
         "2015",
         2
        ],
        [
         "Palacký University, Olomouc",
         804,
         "Czech Republic",
         "2014",
         2
        ],
        [
         "Palacký University, Olomouc",
         724,
         "Czech Republic",
         "2015",
         2
        ],
        [
         "Panjab University",
         543,
         "India",
         "2014",
         2
        ],
        [
         "Panjab University",
         491,
         "India",
         "2015",
         2
        ],
        [
         "Paris Descartes University",
         245,
         "France",
         "2014",
         2
        ],
        [
         "Paris Descartes University",
         217,
         "France",
         "2015",
         2
        ],
        [
         "Paris Diderot University - Paris 7",
         99,
         "France",
         "2013",
         3
        ],
        [
         "Paris Diderot University - Paris 7",
         140,
         "France",
         "2014",
         3
        ],
        [
         "Paris Diderot University - Paris 7",
         131,
         "France",
         "2015",
         3
        ],
        [
         "Paris-Est Créteil Val-de-Marne University",
         617,
         "France",
         "2014",
         2
        ],
        [
         "Paris-Est Créteil Val-de-Marne University",
         633,
         "France",
         "2015",
         2
        ],
        [
         "Paul Sabatier University - Toulouse III",
         244,
         "France",
         "2014",
         2
        ],
        [
         "Paul Sabatier University - Toulouse III",
         236,
         "France",
         "2015",
         2
        ],
        [
         "Paul Valéry University, Montpellier III",
         750,
         "France",
         "2014",
         2
        ],
        [
         "Paul Valéry University, Montpellier III",
         740,
         "France",
         "2015",
         2
        ],
        [
         "Peking Union Medical College",
         761,
         "China",
         "2014",
         2
        ],
        [
         "Peking Union Medical College",
         423,
         "China",
         "2015",
         2
        ],
        [
         "Peking University",
         55,
         "China",
         "2014",
         2
        ],
        [
         "Peking University",
         56,
         "China",
         "2015",
         2
        ],
        [
         "Pennsylvania State University, University Park",
         64,
         "USA",
         "2012",
         4
        ],
        [
         "Pennsylvania State University, University Park",
         50,
         "USA",
         "2013",
         4
        ],
        [
         "Pennsylvania State University, University Park",
         46,
         "USA",
         "2014",
         4
        ],
        [
         "Pennsylvania State University, University Park",
         47,
         "USA",
         "2015",
         4
        ],
        [
         "Pierre-and-Marie-Curie University",
         63,
         "France",
         "2012",
         4
        ],
        [
         "Pierre-and-Marie-Curie University",
         48,
         "France",
         "2013",
         4
        ],
        [
         "Pierre-and-Marie-Curie University",
         68,
         "France",
         "2014",
         4
        ],
        [
         "Pierre-and-Marie-Curie University",
         63,
         "France",
         "2015",
         4
        ],
        [
         "Plymouth University",
         577,
         "United Kingdom",
         "2014",
         2
        ],
        [
         "Plymouth University",
         587,
         "United Kingdom",
         "2015",
         2
        ],
        [
         "Pohang University of Science and Technology",
         186,
         "South Korea",
         "2014",
         2
        ],
        [
         "Pohang University of Science and Technology",
         165,
         "South Korea",
         "2015",
         2
        ],
        [
         "Polytechnic University of Catalonia",
         410,
         "Spain",
         "2014",
         2
        ],
        [
         "Polytechnic University of Catalonia",
         370,
         "Spain",
         "2015",
         2
        ],
        [
         "Polytechnic University of Milan",
         389,
         "Italy",
         "2014",
         2
        ],
        [
         "Polytechnic University of Milan",
         397,
         "Italy",
         "2015",
         2
        ],
        [
         "Polytechnic University of Turin",
         579,
         "Italy",
         "2014",
         2
        ],
        [
         "Polytechnic University of Turin",
         653,
         "Italy",
         "2015",
         2
        ],
        [
         "Polytechnic University of Valencia",
         474,
         "Spain",
         "2014",
         2
        ],
        [
         "Polytechnic University of Valencia",
         440,
         "Spain",
         "2015",
         2
        ],
        [
         "Pompeu Fabra University",
         426,
         "Spain",
         "2014",
         2
        ],
        [
         "Pompeu Fabra University",
         375,
         "Spain",
         "2015",
         2
        ],
        [
         "Pontifical Catholic University of Chile",
         450,
         "Chile",
         "2014",
         2
        ],
        [
         "Pontifical Catholic University of Chile",
         376,
         "Chile",
         "2015",
         2
        ],
        [
         "Portland State University",
         670,
         "USA",
         "2014",
         2
        ],
        [
         "Portland State University",
         661,
         "USA",
         "2015",
         2
        ],
        [
         "Princeton University",
         6,
         "USA",
         "2012",
         4
        ],
        [
         "Princeton University",
         8,
         "USA",
         "2013",
         4
        ],
        [
         "Princeton University",
         9,
         "USA",
         "2014",
         4
        ],
        [
         "Princeton University",
         9,
         "USA",
         "2015",
         4
        ],
        [
         "Public University of Navarre",
         936,
         "Spain",
         "2014",
         2
        ],
        [
         "Public University of Navarre",
         959,
         "Spain",
         "2015",
         2
        ],
        [
         "Pukyong National University",
         905,
         "South Korea",
         "2014",
         2
        ],
        [
         "Pukyong National University",
         898,
         "South Korea",
         "2015",
         2
        ],
        [
         "Purdue University",
         106,
         "United States of America",
         "2011",
         6
        ],
        [
         "Purdue University",
         98,
         "United States of America",
         "2012",
         6
        ],
        [
         "Purdue University",
         69,
         "United States of America",
         "2013",
         6
        ],
        [
         "Purdue University",
         62,
         "United States of America",
         "2014",
         6
        ],
        [
         "Purdue University",
         102,
         "United States of America",
         "2015",
         6
        ],
        [
         "Purdue University",
         113,
         "United States of America",
         "2016",
         6
        ],
        [
         "Purdue University, West Lafayette",
         42,
         "USA",
         "2012",
         4
        ],
        [
         "Purdue University, West Lafayette",
         38,
         "USA",
         "2013",
         4
        ],
        [
         "Purdue University, West Lafayette",
         52,
         "USA",
         "2014",
         4
        ],
        [
         "Purdue University, West Lafayette",
         43,
         "USA",
         "2015",
         4
        ],
        [
         "Pusan National University",
         440,
         "South Korea",
         "2014",
         2
        ],
        [
         "Pusan National University",
         452,
         "South Korea",
         "2015",
         2
        ],
        [
         "Putra University, Malaysia",
         778,
         "Malaysia",
         "2014",
         2
        ],
        [
         "Putra University, Malaysia",
         610,
         "Malaysia",
         "2015",
         2
        ],
        [
         "Queen Mary University of London",
         214,
         "United Kingdom",
         "2014",
         2
        ],
        [
         "Queen Mary University of London",
         209,
         "United Kingdom",
         "2015",
         2
        ],
        [
         "Queen's University",
         277,
         "Canada",
         "2014",
         2
        ],
        [
         "Queen's University",
         284,
         "Canada",
         "2015",
         2
        ],
        [
         "Queen's University Belfast",
         342,
         "United Kingdom",
         "2014",
         2
        ],
        [
         "Queen's University Belfast",
         343,
         "United Kingdom",
         "2015",
         2
        ],
        [
         "Queens College, City University of New York",
         835,
         "USA",
         "2014",
         2
        ],
        [
         "Queens College, City University of New York",
         893,
         "USA",
         "2015",
         2
        ],
        [
         "Queensland University of Technology",
         605,
         "Australia",
         "2014",
         2
        ],
        [
         "Queensland University of Technology",
         621,
         "Australia",
         "2015",
         2
        ],
        [
         "RMIT University",
         859,
         "Australia",
         "2014",
         2
        ],
        [
         "RMIT University",
         873,
         "Australia",
         "2015",
         2
        ],
        [
         "RWTH Aachen University",
         238,
         "Germany",
         "2014",
         2
        ],
        [
         "RWTH Aachen University",
         230,
         "Germany",
         "2015",
         2
        ],
        [
         "Radboud University Nijmegen",
         129,
         "Netherlands",
         "2014",
         2
        ],
        [
         "Radboud University Nijmegen",
         134,
         "Netherlands",
         "2015",
         2
        ],
        [
         "Renmin University of China",
         496,
         "China",
         "2015",
         1
        ],
        [
         "Rensselaer Polytechnic Institute",
         104,
         "United States of America",
         "2011",
         6
        ],
        [
         "Rensselaer Polytechnic Institute",
         144,
         "United States of America",
         "2012",
         6
        ],
        [
         "Rensselaer Polytechnic Institute",
         174,
         "United States of America",
         "2013",
         6
        ],
        [
         "Rensselaer Polytechnic Institute",
         243,
         "USA",
         "2014",
         6
        ],
        [
         "Rensselaer Polytechnic Institute",
         181,
         "United States of America",
         "2014",
         6
        ],
        [
         "Rensselaer Polytechnic Institute",
         282,
         "USA",
         "2015",
         6
        ],
        [
         "Rice University",
         57,
         "USA",
         "2012",
         4
        ],
        [
         "Rice University",
         94,
         "USA",
         "2013",
         4
        ],
        [
         "Rice University",
         108,
         "USA",
         "2014",
         4
        ],
        [
         "Rice University",
         120,
         "USA",
         "2015",
         4
        ],
        [
         "Rio de Janeiro State University",
         845,
         "Brazil",
         "2014",
         2
        ],
        [
         "Rio de Janeiro State University",
         826,
         "Brazil",
         "2015",
         2
        ],
        [
         "Ritsumeikan University",
         840,
         "Japan",
         "2014",
         2
        ],
        [
         "Ritsumeikan University",
         926,
         "Japan",
         "2015",
         2
        ],
        [
         "Rochester Institute of Technology",
         665,
         "USA",
         "2014",
         2
        ],
        [
         "Rochester Institute of Technology",
         710,
         "USA",
         "2015",
         2
        ],
        [
         "Rockefeller University",
         21,
         "USA",
         "2012",
         4
        ],
        [
         "Rockefeller University",
         49,
         "USA",
         "2013",
         4
        ],
        [
         "Rockefeller University",
         37,
         "USA",
         "2014",
         4
        ],
        [
         "Rockefeller University",
         29,
         "USA",
         "2015",
         4
        ],
        [
         "Roma Tre University",
         695,
         "Italy",
         "2014",
         2
        ],
        [
         "Roma Tre University",
         701,
         "Italy",
         "2015",
         2
        ],
        [
         "Rovira i Virgili University",
         650,
         "Spain",
         "2014",
         2
        ],
        [
         "Rovira i Virgili University",
         644,
         "Spain",
         "2015",
         2
        ],
        [
         "Royal College of Surgeons in Ireland",
         647,
         "Ireland",
         "2014",
         2
        ],
        [
         "Royal College of Surgeons in Ireland",
         711,
         "Ireland",
         "2015",
         2
        ],
        [
         "Royal Holloway, University of London",
         541,
         "United Kingdom",
         "2014",
         2
        ],
        [
         "Royal Holloway, University of London",
         540,
         "United Kingdom",
         "2015",
         2
        ],
        [
         "Royal Institute of Technology",
         100,
         "Sweden",
         "2014",
         2
        ],
        [
         "Royal Institute of Technology",
         126,
         "Sweden",
         "2015",
         2
        ],
        [
         "Royal Veterinary College, University of London",
         822,
         "United Kingdom",
         "2014",
         2
        ],
        [
         "Royal Veterinary College, University of London",
         874,
         "United Kingdom",
         "2015",
         2
        ],
        [
         "Ruhr University Bochum",
         304,
         "Germany",
         "2014",
         2
        ],
        [
         "Ruhr University Bochum",
         296,
         "Germany",
         "2015",
         2
        ],
        [
         "Ruprecht Karl University of Heidelberg",
         82,
         "Germany",
         "2012",
         4
        ],
        [
         "Ruprecht Karl University of Heidelberg",
         79,
         "Germany",
         "2013",
         4
        ],
        [
         "Ruprecht Karl University of Heidelberg",
         89,
         "Germany",
         "2014",
         4
        ],
        [
         "Ruprecht Karl University of Heidelberg",
         76,
         "Germany",
         "2015",
         4
        ],
        [
         "Rush University",
         321,
         "USA",
         "2014",
         2
        ],
        [
         "Rush University",
         323,
         "USA",
         "2015",
         2
        ],
        [
         "Rutgers University-New Brunswick",
         72,
         "USA",
         "2012",
         4
        ],
        [
         "Rutgers University-New Brunswick",
         43,
         "USA",
         "2013",
         4
        ],
        [
         "Rutgers University-New Brunswick",
         33,
         "USA",
         "2014",
         4
        ],
        [
         "Rutgers University-New Brunswick",
         50,
         "USA",
         "2015",
         4
        ],
        [
         "Rutgers, The State University of New Jersey - Newark",
         686,
         "USA",
         "2014",
         2
        ],
        [
         "Rutgers, The State University of New Jersey - Newark",
         723,
         "USA",
         "2015",
         2
        ],
        [
         "Ryerson University",
         972,
         "Canada",
         "2014",
         2
        ],
        [
         "Ryerson University",
         994,
         "Canada",
         "2015",
         2
        ],
        [
         "SUNY Downstate Medical Center",
         522,
         "USA",
         "2014",
         2
        ],
        [
         "SUNY Downstate Medical Center",
         516,
         "USA",
         "2015",
         2
        ],
        [
         "Saarland University",
         382,
         "Germany",
         "2014",
         2
        ],
        [
         "Saarland University",
         372,
         "Germany",
         "2015",
         2
        ],
        [
         "Saga University",
         765,
         "Japan",
         "2014",
         2
        ],
        [
         "Saga University",
         773,
         "Japan",
         "2015",
         2
        ],
        [
         "Saint Louis University",
         363,
         "USA",
         "2014",
         2
        ],
        [
         "Saint Louis University",
         364,
         "USA",
         "2015",
         2
        ],
        [
         "Saint Petersburg State University",
         285,
         "Russia",
         "2014",
         2
        ],
        [
         "Saint Petersburg State University",
         406,
         "Russia",
         "2015",
         2
        ],
        [
         "Saitama Medical University",
         772,
         "Japan",
         "2014",
         2
        ],
        [
         "Saitama Medical University",
         798,
         "Japan",
         "2015",
         2
        ],
        [
         "Saitama University",
         858,
         "Japan",
         "2014",
         2
        ],
        [
         "Saitama University",
         909,
         "Japan",
         "2015",
         2
        ],
        [
         "San Diego State University",
         348,
         "USA",
         "2014",
         2
        ],
        [
         "San Diego State University",
         361,
         "USA",
         "2015",
         2
        ],
        [
         "San Francisco State University",
         717,
         "USA",
         "2014",
         2
        ],
        [
         "San Francisco State University",
         712,
         "USA",
         "2015",
         2
        ],
        [
         "Sapienza University of Rome",
         77,
         "Italy",
         "2012",
         4
        ],
        [
         "Sapienza University of Rome",
         62,
         "Italy",
         "2013",
         4
        ],
        [
         "Sapienza University of Rome",
         91,
         "Italy",
         "2014",
         4
        ],
        [
         "Sapienza University of Rome",
         112,
         "Italy",
         "2015",
         4
        ],
        [
         "Sapporo Medical University",
         666,
         "Japan",
         "2014",
         2
        ],
        [
         "Sapporo Medical University",
         713,
         "Japan",
         "2015",
         2
        ],
        [
         "Scuola Normale Superiore di Pisa",
         383,
         "Italy",
         "2014",
         2
        ],
        [
         "Scuola Normale Superiore di Pisa",
         393,
         "Italy",
         "2015",
         2
        ],
        [
         "Second Military Medical University",
         782,
         "China",
         "2014",
         2
        ],
        [
         "Second Military Medical University",
         776,
         "China",
         "2015",
         2
        ],
        [
         "Second University of Naples",
         575,
         "Italy",
         "2014",
         2
        ],
        [
         "Second University of Naples",
         575,
         "Italy",
         "2015",
         2
        ],
        [
         "Sejong University",
         832,
         "South Korea",
         "2014",
         2
        ],
        [
         "Sejong University",
         868,
         "South Korea",
         "2015",
         2
        ],
        [
         "Semmelweis University",
         598,
         "Hungary",
         "2014",
         2
        ],
        [
         "Semmelweis University",
         617,
         "Hungary",
         "2015",
         2
        ],
        [
         "Seoul National University",
         75,
         "South Korea",
         "2012",
         4
        ],
        [
         "Seoul National University",
         40,
         "South Korea",
         "2013",
         4
        ],
        [
         "Seoul National University",
         24,
         "South Korea",
         "2014",
         4
        ],
        [
         "Seoul National University",
         24,
         "South Korea",
         "2015",
         4
        ],
        [
         "Shaanxi Normal University",
         998,
         "China",
         "2014",
         1
        ],
        [
         "Shahid Beheshti University of Medical Sciences",
         931,
         "Iran",
         "2015",
         1
        ],
        [
         "Shandong University",
         457,
         "China",
         "2014",
         2
        ],
        [
         "Shandong University",
         413,
         "China",
         "2015",
         2
        ],
        [
         "Shanghai Jiao Tong University",
         195,
         "China",
         "2014",
         2
        ],
        [
         "Shanghai Jiao Tong University",
         180,
         "China",
         "2015",
         2
        ],
        [
         "Shanghai Normal University",
         886,
         "China",
         "2014",
         2
        ],
        [
         "Shanghai Normal University",
         888,
         "China",
         "2015",
         2
        ],
        [
         "Shanghai University",
         722,
         "China",
         "2014",
         2
        ],
        [
         "Shanghai University",
         684,
         "China",
         "2015",
         2
        ],
        [
         "Shanxi University",
         988,
         "China",
         "2014",
         1
        ],
        [
         "Sharif University of Technology",
         833,
         "Iran",
         "2014",
         2
        ],
        [
         "Sharif University of Technology",
         697,
         "Iran",
         "2015",
         2
        ],
        [
         "Shenzhen University",
         975,
         "China",
         "2015",
         1
        ],
        [
         "Shimane University",
         888,
         "Japan",
         "2014",
         2
        ],
        [
         "Shimane University",
         903,
         "Japan",
         "2015",
         2
        ],
        [
         "Shinshu University",
         471,
         "Japan",
         "2014",
         2
        ],
        [
         "Shinshu University",
         529,
         "Japan",
         "2015",
         2
        ],
        [
         "Shiraz University",
         956,
         "Iran",
         "2014",
         2
        ],
        [
         "Shiraz University",
         956,
         "Iran",
         "2015",
         2
        ],
        [
         "Shizuoka University",
         573,
         "Japan",
         "2014",
         2
        ],
        [
         "Shizuoka University",
         648,
         "Japan",
         "2015",
         2
        ],
        [
         "Showa University",
         745,
         "Japan",
         "2014",
         2
        ],
        [
         "Showa University",
         800,
         "Japan",
         "2015",
         2
        ],
        [
         "Sichuan University",
         515,
         "China",
         "2014",
         2
        ],
        [
         "Sichuan University",
         479,
         "China",
         "2015",
         2
        ],
        [
         "Simon Fraser University",
         393,
         "Canada",
         "2014",
         2
        ],
        [
         "Simon Fraser University",
         362,
         "Canada",
         "2015",
         2
        ],
        [
         "Sofia University",
         826,
         "Bulgaria",
         "2014",
         2
        ],
        [
         "Sofia University",
         845,
         "Bulgaria",
         "2015",
         2
        ],
        [
         "Sogang University",
         428,
         "South Korea",
         "2014",
         2
        ],
        [
         "Sogang University",
         581,
         "South Korea",
         "2015",
         2
        ],
        [
         "Soochow University (Suzhou)",
         713,
         "China",
         "2014",
         2
        ],
        [
         "Soochow University (Suzhou)",
         615,
         "China",
         "2015",
         2
        ],
        [
         "South China Agricultural University",
         973,
         "China",
         "2014",
         2
        ],
        [
         "South China Agricultural University",
         969,
         "China",
         "2015",
         2
        ],
        [
         "South China Normal University",
         943,
         "China",
         "2014",
         2
        ],
        [
         "South China Normal University",
         924,
         "China",
         "2015",
         2
        ],
        [
         "South China University of Technology",
         498,
         "China",
         "2014",
         2
        ],
        [
         "South China University of Technology",
         439,
         "China",
         "2015",
         2
        ],
        [
         "Southeast University",
         412,
         "China",
         "2014",
         2
        ],
        [
         "Southeast University",
         443,
         "China",
         "2015",
         2
        ],
        [
         "Southern Illinois University Carbondale",
         591,
         "USA",
         "2014",
         2
        ],
        [
         "Southern Illinois University Carbondale",
         590,
         "USA",
         "2015",
         2
        ],
        [
         "Southern Medical University",
         955,
         "China",
         "2014",
         2
        ],
        [
         "Southern Medical University",
         963,
         "China",
         "2015",
         2
        ],
        [
         "Southern Methodist University",
         171,
         "USA",
         "2014",
         2
        ],
        [
         "Southern Methodist University",
         142,
         "USA",
         "2015",
         2
        ],
        [
         "Southwest Jiaotong University",
         993,
         "China",
         "2015",
         1
        ],
        [
         "Southwest University",
         921,
         "China",
         "2014",
         2
        ],
        [
         "Southwest University",
         889,
         "China",
         "2015",
         2
        ],
        [
         "St George's, University of London",
         345,
         "United Kingdom",
         "2014",
         2
        ],
        [
         "St George's, University of London",
         340,
         "United Kingdom",
         "2015",
         2
        ],
        [
         "Stanford University",
         4,
         "United States of America",
         "2011",
         10
        ],
        [
         "Stanford University",
         3,
         "USA",
         "2012",
         10
        ],
        [
         "Stanford University",
         2,
         "United States of America",
         "2012",
         10
        ],
        [
         "Stanford University",
         2,
         "USA",
         "2013",
         10
        ],
        [
         "Stanford University",
         2,
         "United States of America",
         "2013",
         10
        ],
        [
         "Stanford University",
         2,
         "USA",
         "2014",
         10
        ],
        [
         "Stanford University",
         4,
         "United States of America",
         "2014",
         10
        ],
        [
         "Stanford University",
         2,
         "USA",
         "2015",
         10
        ],
        [
         "Stanford University",
         4,
         "United States of America",
         "2015",
         10
        ],
        [
         "Stanford University",
         3,
         "United States of America",
         "2016",
         10
        ],
        [
         "State University of New York Upstate Medical University",
         646,
         "USA",
         "2014",
         2
        ],
        [
         "State University of New York Upstate Medical University",
         635,
         "USA",
         "2015",
         2
        ],
        [
         "Stellenbosch University",
         311,
         "South Africa",
         "2014",
         2
        ],
        [
         "Stellenbosch University",
         306,
         "South Africa",
         "2015",
         2
        ],
        [
         "Stockholm University",
         187,
         "Sweden",
         "2014",
         2
        ],
        [
         "Stockholm University",
         168,
         "Sweden",
         "2015",
         2
        ],
        [
         "Stony Brook University",
         89,
         "USA",
         "2013",
         3
        ],
        [
         "Stony Brook University",
         126,
         "USA",
         "2014",
         3
        ],
        [
         "Stony Brook University",
         138,
         "USA",
         "2015",
         3
        ],
        [
         "Sun Yat-sen University",
         292,
         "China",
         "2014",
         2
        ],
        [
         "Sun Yat-sen University",
         277,
         "China",
         "2015",
         2
        ],
        [
         "Sungkyunkwan University",
         204,
         "South Korea",
         "2014",
         2
        ],
        [
         "Sungkyunkwan University",
         211,
         "South Korea",
         "2015",
         2
        ],
        [
         "Swansea University",
         699,
         "United Kingdom",
         "2014",
         2
        ],
        [
         "Swansea University",
         729,
         "United Kingdom",
         "2015",
         2
        ],
        [
         "Swedish University of Agricultural Sciences",
         433,
         "Sweden",
         "2014",
         2
        ],
        [
         "Swedish University of Agricultural Sciences",
         416,
         "Sweden",
         "2015",
         2
        ],
        [
         "Swinburne University of Technology",
         737,
         "Australia",
         "2014",
         2
        ],
        [
         "Swinburne University of Technology",
         688,
         "Australia",
         "2015",
         2
        ],
        [
         "Swiss Federal Institute of Technology in Lausanne",
         69,
         "Switzerland",
         "2012",
         4
        ],
        [
         "Swiss Federal Institute of Technology in Lausanne",
         83,
         "Switzerland",
         "2013",
         4
        ],
        [
         "Swiss Federal Institute of Technology in Lausanne",
         93,
         "Switzerland",
         "2014",
         4
        ],
        [
         "Swiss Federal Institute of Technology in Lausanne",
         91,
         "Switzerland",
         "2015",
         4
        ],
        [
         "Swiss Federal Institute of Technology in Zurich",
         16,
         "Switzerland",
         "2012",
         4
        ],
        [
         "Swiss Federal Institute of Technology in Zurich",
         18,
         "Switzerland",
         "2013",
         4
        ],
        [
         "Swiss Federal Institute of Technology in Zurich",
         18,
         "Switzerland",
         "2014",
         4
        ],
        [
         "Swiss Federal Institute of Technology in Zurich",
         20,
         "Switzerland",
         "2015",
         4
        ],
        [
         "Syracuse University",
         448,
         "USA",
         "2014",
         3
        ],
        [
         "Syracuse University",
         463,
         "USA",
         "2015",
         3
        ],
        [
         "Syracuse University",
         177,
         "United States of America",
         "2015",
         3
        ],
        [
         "Taipei Medical University",
         805,
         "Taiwan",
         "2014",
         2
        ],
        [
         "Taipei Medical University",
         807,
         "Taiwan",
         "2015",
         2
        ],
        [
         "Tamkang University",
         989,
         "Taiwan",
         "2014",
         1
        ],
        [
         "Tampere University of Technology",
         544,
         "Finland",
         "2014",
         2
        ],
        [
         "Tampere University of Technology",
         577,
         "Finland",
         "2015",
         2
        ],
        [
         "Tarbiat Modares University",
         976,
         "Iran",
         "2014",
         2
        ],
        [
         "Tarbiat Modares University",
         912,
         "Iran",
         "2015",
         2
        ],
        [
         "Tata Institute of Fundamental Research",
         592,
         "India",
         "2014",
         2
        ],
        [
         "Tata Institute of Fundamental Research",
         601,
         "India",
         "2015",
         2
        ],
        [
         "Technical University of Berlin",
         297,
         "Germany",
         "2014",
         2
        ],
        [
         "Technical University of Berlin",
         345,
         "Germany",
         "2015",
         2
        ],
        [
         "Technical University of Denmark",
         197,
         "Denmark",
         "2014",
         2
        ],
        [
         "Technical University of Denmark",
         174,
         "Denmark",
         "2015",
         2
        ],
        [
         "Technical University of Dortmund",
         458,
         "Germany",
         "2014",
         2
        ],
        [
         "Technical University of Dortmund",
         487,
         "Germany",
         "2015",
         2
        ],
        [
         "Technical University of Madrid",
         416,
         "Spain",
         "2014",
         2
        ],
        [
         "Technical University of Madrid",
         435,
         "Spain",
         "2015",
         2
        ],
        [
         "Technical University of Munich",
         90,
         "Germany",
         "2012",
         3
        ],
        [
         "Technical University of Munich",
         99,
         "Germany",
         "2014",
         3
        ],
        [
         "Technical University of Munich",
         101,
         "Germany",
         "2015",
         3
        ],
        [
         "Technion – Israel Institute of Technology",
         51,
         "Israel",
         "2012",
         4
        ],
        [
         "Technion – Israel Institute of Technology",
         66,
         "Israel",
         "2013",
         4
        ],
        [
         "Technion – Israel Institute of Technology",
         109,
         "Israel",
         "2014",
         4
        ],
        [
         "Technion – Israel Institute of Technology",
         136,
         "Israel",
         "2015",
         4
        ],
        [
         "Tehran University of Medical Sciences",
         849,
         "Iran",
         "2014",
         2
        ],
        [
         "Tehran University of Medical Sciences",
         854,
         "Iran",
         "2015",
         2
        ],
        [
         "Teikyo University",
         876,
         "Japan",
         "2014",
         2
        ],
        [
         "Teikyo University",
         908,
         "Japan",
         "2015",
         2
        ],
        [
         "Tel Aviv University",
         56,
         "Israel",
         "2012",
         4
        ],
        [
         "Tel Aviv University",
         57,
         "Israel",
         "2013",
         4
        ],
        [
         "Tel Aviv University",
         86,
         "Israel",
         "2014",
         4
        ],
        [
         "Tel Aviv University",
         86,
         "Israel",
         "2015",
         4
        ],
        [
         "Temple University",
         390,
         "USA",
         "2014",
         2
        ],
        [
         "Temple University",
         381,
         "USA",
         "2015",
         2
        ],
        [
         "Texas A&M Health Science Center",
         633,
         "USA",
         "2014",
         2
        ],
        [
         "Texas A&M Health Science Center",
         616,
         "USA",
         "2015",
         2
        ],
        [
         "Texas A&M University, College Station",
         73,
         "USA",
         "2012",
         4
        ],
        [
         "Texas A&M University, College Station",
         80,
         "USA",
         "2013",
         4
        ],
        [
         "Texas A&M University, College Station",
         105,
         "USA",
         "2014",
         4
        ],
        [
         "Texas A&M University, College Station",
         102,
         "USA",
         "2015",
         4
        ],
        [
         "Texas Tech University (TTU)",
         480,
         "USA",
         "2014",
         2
        ],
        [
         "Texas Tech University (TTU)",
         469,
         "USA",
         "2015",
         2
        ],
        [
         "The Catholic University of America",
         753,
         "USA",
         "2014",
         2
        ],
        [
         "The Catholic University of America",
         832,
         "USA",
         "2015",
         2
        ],
        [
         "Third Military Medical University",
         942,
         "China",
         "2014",
         2
        ],
        [
         "Third Military Medical University",
         957,
         "China",
         "2015",
         2
        ],
        [
         "Thomas Jefferson University",
         260,
         "USA",
         "2014",
         2
        ],
        [
         "Thomas Jefferson University",
         254,
         "USA",
         "2015",
         2
        ],
        [
         "Tianjin Medical University",
         976,
         "China",
         "2015",
         1
        ],
        [
         "Tianjin University",
         394,
         "China",
         "2014",
         2
        ],
        [
         "Tianjin University",
         331,
         "China",
         "2015",
         2
        ],
        [
         "Tilburg University",
         614,
         "Netherlands",
         "2014",
         2
        ],
        [
         "Tilburg University",
         689,
         "Netherlands",
         "2015",
         2
        ],
        [
         "Toho University",
         684,
         "Japan",
         "2014",
         2
        ],
        [
         "Toho University",
         727,
         "Japan",
         "2015",
         2
        ],
        [
         "Tohoku University",
         79,
         "Japan",
         "2012",
         4
        ],
        [
         "Tohoku University",
         95,
         "Japan",
         "2013",
         4
        ],
        [
         "Tohoku University",
         72,
         "Japan",
         "2014",
         4
        ],
        [
         "Tohoku University",
         73,
         "Japan",
         "2015",
         4
        ],
        [
         "Tokai University",
         589,
         "Japan",
         "2014",
         2
        ],
        [
         "Tokai University",
         622,
         "Japan",
         "2015",
         2
        ],
        [
         "Tokyo Institute of Technology",
         96,
         "Japan",
         "2014",
         2
        ],
        [
         "Tokyo Institute of Technology",
         109,
         "Japan",
         "2015",
         2
        ],
        [
         "Tokyo Medical and Dental University",
         376,
         "Japan",
         "2014",
         2
        ],
        [
         "Tokyo Medical and Dental University",
         392,
         "Japan",
         "2015",
         2
        ],
        [
         "Tokyo Metropolitan University",
         502,
         "Japan",
         "2014",
         2
        ],
        [
         "Tokyo Metropolitan University",
         501,
         "Japan",
         "2015",
         2
        ],
        [
         "Tokyo University of Agriculture and Technology",
         603,
         "Japan",
         "2014",
         2
        ],
        [
         "Tokyo University of Agriculture and Technology",
         624,
         "Japan",
         "2015",
         2
        ],
        [
         "Tokyo University of Science",
         413,
         "Japan",
         "2014",
         2
        ],
        [
         "Tokyo University of Science",
         481,
         "Japan",
         "2015",
         2
        ],
        [
         "Tokyo Women's Medical University",
         542,
         "Japan",
         "2014",
         2
        ],
        [
         "Tokyo Women's Medical University",
         555,
         "Japan",
         "2015",
         2
        ],
        [
         "Tongji University",
         370,
         "China",
         "2014",
         2
        ],
        [
         "Tongji University",
         420,
         "China",
         "2015",
         2
        ],
        [
         "Tottori University",
         584,
         "Japan",
         "2014",
         2
        ],
        [
         "Tottori University",
         736,
         "Japan",
         "2015",
         2
        ],
        [
         "Trent University",
         854,
         "Canada",
         "2014",
         2
        ],
        [
         "Trent University",
         910,
         "Canada",
         "2015",
         2
        ],
        [
         "Trinity College, Dublin",
         200,
         "Ireland",
         "2014",
         2
        ],
        [
         "Trinity College, Dublin",
         185,
         "Ireland",
         "2015",
         2
        ],
        [
         "Tsinghua University",
         87,
         "China",
         "2014",
         2
        ],
        [
         "Tsinghua University",
         78,
         "China",
         "2015",
         2
        ],
        [
         "Tufts University",
         86,
         "USA",
         "2012",
         3
        ],
        [
         "Tufts University",
         84,
         "USA",
         "2014",
         3
        ],
        [
         "Tufts University",
         95,
         "USA",
         "2015",
         3
        ],
        [
         "Tulane University",
         234,
         "USA",
         "2014",
         2
        ],
        [
         "Tulane University",
         272,
         "USA",
         "2015",
         2
        ],
        [
         "UNESP, São Paulo State University",
         683,
         "Brazil",
         "2014",
         2
        ],
        [
         "UNESP, São Paulo State University",
         664,
         "Brazil",
         "2015",
         2
        ],
        [
         "Ulsan National Institute of Science and Technology",
         973,
         "South Korea",
         "2015",
         1
        ],
        [
         "Umeå University",
         289,
         "Sweden",
         "2014",
         2
        ],
        [
         "Umeå University",
         287,
         "Sweden",
         "2015",
         2
        ],
        [
         "United Arab Emirates University",
         924,
         "United Arab Emirates",
         "2014",
         2
        ],
        [
         "United Arab Emirates University",
         950,
         "United Arab Emirates",
         "2015",
         2
        ],
        [
         "Universidade Nova de Lisboa",
         632,
         "Portugal",
         "2014",
         2
        ],
        [
         "Universidade Nova de Lisboa",
         612,
         "Portugal",
         "2015",
         2
        ],
        [
         "University College Cork",
         463,
         "Ireland",
         "2014",
         2
        ],
        [
         "University College Cork",
         436,
         "Ireland",
         "2015",
         2
        ],
        [
         "University College Dublin",
         269,
         "Ireland",
         "2014",
         2
        ],
        [
         "University College Dublin",
         238,
         "Ireland",
         "2015",
         2
        ],
        [
         "University College London",
         31,
         "United Kingdom",
         "2012",
         4
        ],
        [
         "University College London",
         30,
         "United Kingdom",
         "2013",
         4
        ],
        [
         "University College London",
         30,
         "United Kingdom",
         "2014",
         4
        ],
        [
         "University College London",
         27,
         "United Kingdom",
         "2015",
         4
        ],
        [
         "University François Rabelais, Tours",
         682,
         "France",
         "2014",
         2
        ],
        [
         "University François Rabelais, Tours",
         699,
         "France",
         "2015",
         2
        ],
        [
         "University Lille 1: Sciences and Technologies",
         566,
         "France",
         "2014",
         2
        ],
        [
         "University Lille 1: Sciences and Technologies",
         562,
         "France",
         "2015",
         2
        ],
        [
         "University at Albany, SUNY",
         369,
         "USA",
         "2014",
         2
        ],
        [
         "University at Albany, SUNY",
         388,
         "USA",
         "2015",
         2
        ],
        [
         "University at Buffalo",
         198,
         "United States of America",
         "2013",
         3
        ],
        [
         "University at Buffalo",
         176,
         "United States of America",
         "2014",
         3
        ],
        [
         "University at Buffalo",
         191,
         "United States of America",
         "2015",
         3
        ],
        [
         "University at Buffalo, The State University of New York",
         268,
         "USA",
         "2014",
         2
        ],
        [
         "University at Buffalo, The State University of New York",
         273,
         "USA",
         "2015",
         2
        ],
        [
         "University of A Coruña",
         937,
         "Spain",
         "2014",
         2
        ],
        [
         "University of A Coruña",
         999,
         "Spain",
         "2015",
         2
        ],
        [
         "University of Aberdeen",
         276,
         "United Kingdom",
         "2014",
         2
        ],
        [
         "University of Aberdeen",
         285,
         "United Kingdom",
         "2015",
         2
        ],
        [
         "University of Adelaide",
         340,
         "Australia",
         "2014",
         2
        ],
        [
         "University of Adelaide",
         335,
         "Australia",
         "2015",
         2
        ],
        [
         "University of Akron",
         482,
         "USA",
         "2014",
         2
        ],
        [
         "University of Akron",
         543,
         "USA",
         "2015",
         2
        ],
        [
         "University of Alabama - Tuscaloosa",
         372,
         "USA",
         "2014",
         2
        ],
        [
         "University of Alabama - Tuscaloosa",
         409,
         "USA",
         "2015",
         2
        ],
        [
         "University of Alabama at Birmingham",
         164,
         "USA",
         "2014",
         2
        ],
        [
         "University of Alabama at Birmingham",
         146,
         "USA",
         "2015",
         2
        ],
        [
         "University of Alabama in Huntsville",
         733,
         "USA",
         "2014",
         2
        ],
        [
         "University of Alabama in Huntsville",
         752,
         "USA",
         "2015",
         2
        ],
        [
         "University of Alaska Fairbanks",
         621,
         "USA",
         "2014",
         2
        ],
        [
         "University of Alaska Fairbanks",
         591,
         "USA",
         "2015",
         2
        ],
        [
         "University of Alberta",
         97,
         "Canada",
         "2013",
         3
        ],
        [
         "University of Alberta",
         103,
         "Canada",
         "2014",
         3
        ],
        [
         "University of Alberta",
         107,
         "Canada",
         "2015",
         3
        ],
        [
         "University of Alcalá",
         848,
         "Spain",
         "2014",
         2
        ],
        [
         "University of Alcalá",
         849,
         "Spain",
         "2015",
         2
        ],
        [
         "University of Alicante",
         660,
         "Spain",
         "2014",
         2
        ],
        [
         "University of Alicante",
         681,
         "Spain",
         "2015",
         2
        ],
        [
         "University of Almería",
         930,
         "Spain",
         "2014",
         2
        ],
        [
         "University of Almería",
         940,
         "Spain",
         "2015",
         2
        ],
        [
         "University of Amsterdam",
         122,
         "Netherlands",
         "2014",
         2
        ],
        [
         "University of Amsterdam",
         114,
         "Netherlands",
         "2015",
         2
        ],
        [
         "University of Angers",
         851,
         "France",
         "2014",
         2
        ],
        [
         "University of Angers",
         859,
         "France",
         "2015",
         2
        ],
        [
         "University of Antwerp",
         330,
         "Belgium",
         "2014",
         2
        ],
        [
         "University of Antwerp",
         312,
         "Belgium",
         "2015",
         2
        ],
        [
         "University of Arizona",
         95,
         "United States of America",
         "2011",
         10
        ],
        [
         "University of Arizona",
         50,
         "USA",
         "2012",
         10
        ],
        [
         "University of Arizona",
         97,
         "United States of America",
         "2012",
         10
        ],
        [
         "University of Arizona",
         78,
         "USA",
         "2013",
         10
        ],
        [
         "University of Arizona",
         98,
         "United States of America",
         "2013",
         10
        ],
        [
         "University of Arizona",
         70,
         "USA",
         "2014",
         10
        ],
        [
         "University of Arizona",
         103,
         "United States of America",
         "2014",
         10
        ],
        [
         "University of Arizona",
         68,
         "USA",
         "2015",
         10
        ],
        [
         "University of Arizona",
         86,
         "United States of America",
         "2015",
         10
        ],
        [
         "University of Arizona",
         163,
         "United States of America",
         "2016",
         10
        ],
        [
         "University of Arkansas - Fayetteville",
         477,
         "USA",
         "2014",
         2
        ],
        [
         "University of Arkansas - Fayetteville",
         550,
         "USA",
         "2015",
         2
        ],
        [
         "University of Arkansas for Medical Sciences",
         442,
         "USA",
         "2014",
         2
        ],
        [
         "University of Arkansas for Medical Sciences",
         429,
         "USA",
         "2015",
         2
        ],
        [
         "University of Auckland",
         273,
         "New Zealand",
         "2014",
         2
        ],
        [
         "University of Auckland",
         266,
         "New Zealand",
         "2015",
         2
        ],
        [
         "University of Augsburg",
         719,
         "Germany",
         "2014",
         2
        ],
        [
         "University of Augsburg",
         739,
         "Germany",
         "2015",
         2
        ],
        [
         "University of Aveiro",
         553,
         "Portugal",
         "2014",
         2
        ],
        [
         "University of Aveiro",
         557,
         "Portugal",
         "2015",
         2
        ],
        [
         "University of Barcelona",
         120,
         "Spain",
         "2014",
         2
        ],
        [
         "University of Barcelona",
         116,
         "Spain",
         "2015",
         2
        ],
        [
         "University of Bari Aldo Moro",
         388,
         "Italy",
         "2014",
         2
        ],
        [
         "University of Bari Aldo Moro",
         377,
         "Italy",
         "2015",
         2
        ],
        [
         "University of Basel",
         154,
         "Switzerland",
         "2014",
         2
        ],
        [
         "University of Basel",
         160,
         "Switzerland",
         "2015",
         2
        ],
        [
         "University of Basilicata",
         927,
         "Italy",
         "2014",
         2
        ],
        [
         "University of Basilicata",
         922,
         "Italy",
         "2015",
         2
        ],
        [
         "University of Bath",
         421,
         "United Kingdom",
         "2014",
         2
        ],
        [
         "University of Bath",
         405,
         "United Kingdom",
         "2015",
         2
        ],
        [
         "University of Bayreuth",
         536,
         "Germany",
         "2014",
         2
        ],
        [
         "University of Bayreuth",
         520,
         "Germany",
         "2015",
         2
        ],
        [
         "University of Belgrade",
         809,
         "Serbia",
         "2014",
         2
        ],
        [
         "University of Belgrade",
         726,
         "Serbia",
         "2015",
         2
        ],
        [
         "University of Bergen",
         305,
         "Norway",
         "2014",
         2
        ],
        [
         "University of Bergen",
         283,
         "Norway",
         "2015",
         2
        ],
        [
         "University of Bern",
         201,
         "Switzerland",
         "2014",
         2
        ],
        [
         "University of Bern",
         200,
         "Switzerland",
         "2015",
         2
        ],
        [
         "University of Birmingham",
         142,
         "United Kingdom",
         "2014",
         2
        ],
        [
         "University of Birmingham",
         152,
         "United Kingdom",
         "2015",
         2
        ],
        [
         "University of Bologna",
         219,
         "Italy",
         "2014",
         2
        ],
        [
         "University of Bologna",
         208,
         "Italy",
         "2015",
         2
        ],
        [
         "University of Bonn",
         98,
         "Germany",
         "2014",
         2
        ],
        [
         "University of Bonn",
         158,
         "Germany",
         "2015",
         2
        ],
        [
         "University of Bordeaux",
         299,
         "France",
         "2015",
         1
        ],
        [
         "University of Bordeaux I",
         432,
         "France",
         "2014",
         1
        ],
        [
         "University of Bordeaux II",
         403,
         "France",
         "2014",
         1
        ],
        [
         "University of Bradford",
         806,
         "United Kingdom",
         "2014",
         2
        ],
        [
         "University of Bradford",
         821,
         "United Kingdom",
         "2015",
         2
        ],
        [
         "University of Brasília",
         894,
         "Brazil",
         "2014",
         2
        ],
        [
         "University of Brasília",
         920,
         "Brazil",
         "2015",
         2
        ],
        [
         "University of Bremen",
         549,
         "Germany",
         "2014",
         2
        ],
        [
         "University of Bremen",
         535,
         "Germany",
         "2015",
         2
        ],
        [
         "University of Brescia",
         511,
         "Italy",
         "2014",
         2
        ],
        [
         "University of Brescia",
         503,
         "Italy",
         "2015",
         2
        ],
        [
         "University of Brighton",
         825,
         "United Kingdom",
         "2014",
         2
        ],
        [
         "University of Brighton",
         824,
         "United Kingdom",
         "2015",
         2
        ],
        [
         "University of Bristol",
         98,
         "United Kingdom",
         "2012",
         3
        ],
        [
         "University of Bristol",
         123,
         "United Kingdom",
         "2014",
         3
        ],
        [
         "University of Bristol",
         123,
         "United Kingdom",
         "2015",
         3
        ],
        [
         "University of British Columbia",
         67,
         "Canada",
         "2012",
         4
        ],
        [
         "University of British Columbia",
         58,
         "Canada",
         "2013",
         4
        ],
        [
         "University of British Columbia",
         61,
         "Canada",
         "2014",
         4
        ],
        [
         "University of British Columbia",
         62,
         "Canada",
         "2015",
         4
        ],
        [
         "University of Bucharest",
         957,
         "Romania",
         "2014",
         2
        ],
        [
         "University of Bucharest",
         986,
         "Romania",
         "2015",
         2
        ],
        [
         "University of Buenos Aires",
         378,
         "Argentina",
         "2014",
         2
        ],
        [
         "University of Buenos Aires",
         367,
         "Argentina",
         "2015",
         2
        ],
        [
         "University of Burgundy",
         651,
         "France",
         "2014",
         2
        ],
        [
         "University of Burgundy",
         654,
         "France",
         "2015",
         2
        ],
        [
         "University of Caen Lower Normandy",
         769,
         "France",
         "2014",
         2
        ],
        [
         "University of Caen Lower Normandy",
         797,
         "France",
         "2015",
         2
        ],
        [
         "University of Cagliari",
         583,
         "Italy",
         "2014",
         2
        ],
        [
         "University of Cagliari",
         570,
         "Italy",
         "2015",
         2
        ],
        [
         "University of Calabria",
         758,
         "Italy",
         "2014",
         2
        ],
        [
         "University of Calabria",
         745,
         "Italy",
         "2015",
         2
        ],
        [
         "University of Calcutta",
         891,
         "India",
         "2015",
         1
        ],
        [
         "University of Calgary",
         166,
         "Canada",
         "2014",
         2
        ],
        [
         "University of Calgary",
         167,
         "Canada",
         "2015",
         2
        ],
        [
         "University of California, Berkeley",
         10,
         "USA",
         "2012",
         4
        ],
        [
         "University of California, Berkeley",
         7,
         "USA",
         "2013",
         4
        ],
        [
         "University of California, Berkeley",
         7,
         "USA",
         "2014",
         4
        ],
        [
         "University of California, Berkeley",
         7,
         "USA",
         "2015",
         4
        ],
        [
         "University of California, Davis",
         45,
         "USA",
         "2012",
         4
        ],
        [
         "University of California, Davis",
         53,
         "USA",
         "2013",
         4
        ],
        [
         "University of California, Davis",
         57,
         "USA",
         "2014",
         4
        ],
        [
         "University of California, Davis",
         53,
         "USA",
         "2015",
         4
        ],
        [
         "University of California, Irvine",
         47,
         "USA",
         "2012",
         4
        ],
        [
         "University of California, Irvine",
         65,
         "USA",
         "2013",
         4
        ],
        [
         "University of California, Irvine",
         80,
         "USA",
         "2014",
         4
        ],
        [
         "University of California, Irvine",
         89,
         "USA",
         "2015",
         4
        ],
        [
         "University of California, Los Angeles",
         19,
         "USA",
         "2012",
         4
        ],
        [
         "University of California, Los Angeles",
         16,
         "USA",
         "2013",
         4
        ],
        [
         "University of California, Los Angeles",
         15,
         "USA",
         "2014",
         4
        ],
        [
         "University of California, Los Angeles",
         15,
         "USA",
         "2015",
         4
        ],
        [
         "University of California, Merced",
         923,
         "USA",
         "2014",
         2
        ],
        [
         "University of California, Merced",
         936,
         "USA",
         "2015",
         2
        ],
        [
         "University of California, Riverside",
         222,
         "USA",
         "2014",
         2
        ],
        [
         "University of California, Riverside",
         214,
         "USA",
         "2015",
         2
        ],
        [
         "University of California, San Diego",
         20,
         "USA",
         "2012",
         4
        ],
        [
         "University of California, San Diego",
         20,
         "USA",
         "2013",
         4
        ],
        [
         "University of California, San Diego",
         20,
         "USA",
         "2014",
         4
        ],
        [
         "University of California, San Diego",
         21,
         "USA",
         "2015",
         4
        ],
        [
         "University of California, San Francisco",
         24,
         "USA",
         "2012",
         4
        ],
        [
         "University of California, San Francisco",
         22,
         "USA",
         "2013",
         4
        ],
        [
         "University of California, San Francisco",
         27,
         "USA",
         "2014",
         4
        ],
        [
         "University of California, San Francisco",
         26,
         "USA",
         "2015",
         4
        ],
        [
         "University of California, Santa Barbara",
         40,
         "USA",
         "2012",
         4
        ],
        [
         "University of California, Santa Barbara",
         37,
         "USA",
         "2013",
         4
        ],
        [
         "University of California, Santa Barbara",
         60,
         "USA",
         "2014",
         4
        ],
        [
         "University of California, Santa Barbara",
         64,
         "USA",
         "2015",
         4
        ],
        [
         "University of California, Santa Cruz",
         163,
         "USA",
         "2014",
         2
        ],
        [
         "University of California, Santa Cruz",
         154,
         "USA",
         "2015",
         2
        ],
        [
         "University of Cambridge",
         4,
         "United Kingdom",
         "2012",
         4
        ],
        [
         "University of Cambridge",
         5,
         "United Kingdom",
         "2013",
         4
        ],
        [
         "University of Cambridge",
         4,
         "United Kingdom",
         "2014",
         4
        ],
        [
         "University of Cambridge",
         4,
         "United Kingdom",
         "2015",
         4
        ],
        [
         "University of Camerino",
         872,
         "Italy",
         "2014",
         2
        ],
        [
         "University of Camerino",
         919,
         "Italy",
         "2015",
         2
        ],
        [
         "University of Campinas",
         437,
         "Brazil",
         "2014",
         2
        ],
        [
         "University of Campinas",
         404,
         "Brazil",
         "2015",
         2
        ],
        [
         "University of Cantabria",
         729,
         "Spain",
         "2014",
         2
        ],
        [
         "University of Cantabria",
         709,
         "Spain",
         "2015",
         2
        ],
        [
         "University of Canterbury",
         487,
         "New Zealand",
         "2014",
         2
        ],
        [
         "University of Canterbury",
         533,
         "New Zealand",
         "2015",
         2
        ],
        [
         "University of Cape Town",
         267,
         "South Africa",
         "2014",
         2
        ],
        [
         "University of Cape Town",
         248,
         "South Africa",
         "2015",
         2
        ],
        [
         "University of Castilla–La Mancha",
         770,
         "Spain",
         "2014",
         2
        ],
        [
         "University of Castilla–La Mancha",
         738,
         "Spain",
         "2015",
         2
        ],
        [
         "University of Catania",
         567,
         "Italy",
         "2014",
         2
        ],
        [
         "University of Catania",
         531,
         "Italy",
         "2015",
         2
        ],
        [
         "University of Central Florida",
         401,
         "USA",
         "2014",
         2
        ],
        [
         "University of Central Florida",
         394,
         "USA",
         "2015",
         2
        ],
        [
         "University of Central Lancashire",
         938,
         "United Kingdom",
         "2015",
         1
        ],
        [
         "University of Chemistry and Technology, Prague",
         963,
         "Czech Republic",
         "2014",
         2
        ],
        [
         "University of Chemistry and Technology, Prague",
         980,
         "Czech Republic",
         "2015",
         2
        ],
        [
         "University of Chicago",
         12,
         "United States of America",
         "2011",
         10
        ],
        [
         "University of Chicago",
         11,
         "USA",
         "2012",
         10
        ],
        [
         "University of Chicago",
         9,
         "United States of America",
         "2012",
         10
        ],
        [
         "University of Chicago",
         9,
         "USA",
         "2013",
         10
        ],
        [
         "University of Chicago",
         10,
         "United States of America",
         "2013",
         10
        ],
        [
         "University of Chicago",
         8,
         "USA",
         "2014",
         10
        ],
        [
         "University of Chicago",
         9,
         "United States of America",
         "2014",
         10
        ],
        [
         "University of Chicago",
         8,
         "USA",
         "2015",
         10
        ],
        [
         "University of Chicago",
         11,
         "United States of America",
         "2015",
         10
        ],
        [
         "University of Chicago",
         10,
         "United States of America",
         "2016",
         10
        ],
        [
         "University of Chile",
         451,
         "Chile",
         "2014",
         2
        ],
        [
         "University of Chile",
         425,
         "Chile",
         "2015",
         2
        ],
        [
         "University of Cincinnati",
         190,
         "United States of America",
         "2011",
         3
        ],
        [
         "University of Cincinnati",
         177,
         "USA",
         "2014",
         3
        ],
        [
         "University of Cincinnati",
         157,
         "USA",
         "2015",
         3
        ],
        [
         "University of Coimbra",
         545,
         "Portugal",
         "2014",
         2
        ],
        [
         "University of Coimbra",
         507,
         "Portugal",
         "2015",
         2
        ],
        [
         "University of Cologne",
         199,
         "Germany",
         "2014",
         2
        ],
        [
         "University of Cologne",
         197,
         "Germany",
         "2015",
         2
        ],
        [
         "University of Colorado Boulder",
         67,
         "United States of America",
         "2011",
         10
        ],
        [
         "University of Colorado Boulder",
         46,
         "USA",
         "2012",
         10
        ],
        [
         "University of Colorado Boulder",
         77,
         "United States of America",
         "2012",
         10
        ],
        [
         "University of Colorado Boulder",
         41,
         "USA",
         "2013",
         10
        ],
        [
         "University of Colorado Boulder",
         91,
         "United States of America",
         "2013",
         10
        ],
        [
         "University of Colorado Boulder",
         63,
         "USA",
         "2014",
         10
        ],
        [
         "University of Colorado Boulder",
         97,
         "United States of America",
         "2014",
         10
        ],
        [
         "University of Colorado Boulder",
         54,
         "USA",
         "2015",
         10
        ],
        [
         "University of Colorado Boulder",
         97,
         "United States of America",
         "2015",
         10
        ],
        [
         "University of Colorado Boulder",
         127,
         "United States of America",
         "2016",
         10
        ],
        [
         "University of Colorado Denver",
         133,
         "USA",
         "2014",
         2
        ],
        [
         "University of Colorado Denver",
         127,
         "USA",
         "2015",
         2
        ],
        [
         "University of Concepción",
         797,
         "Chile",
         "2014",
         2
        ],
        [
         "University of Concepción",
         805,
         "Chile",
         "2015",
         2
        ],
        [
         "University of Connecticut",
         233,
         "USA",
         "2014",
         2
        ],
        [
         "University of Connecticut",
         218,
         "USA",
         "2015",
         2
        ],
        [
         "University of Copenhagen",
         93,
         "Denmark",
         "2012",
         4
        ],
        [
         "University of Copenhagen",
         68,
         "Denmark",
         "2013",
         4
        ],
        [
         "University of Copenhagen",
         79,
         "Denmark",
         "2014",
         4
        ],
        [
         "University of Copenhagen",
         74,
         "Denmark",
         "2015",
         4
        ],
        [
         "University of Crete",
         551,
         "Greece",
         "2014",
         2
        ],
        [
         "University of Crete",
         515,
         "Greece",
         "2015",
         2
        ],
        [
         "University of Cyprus",
         953,
         "Cyprus",
         "2014",
         2
        ],
        [
         "University of Cyprus",
         928,
         "Cyprus",
         "2015",
         2
        ],
        [
         "University of Cádiz",
         881,
         "Spain",
         "2014",
         2
        ],
        [
         "University of Cádiz",
         930,
         "Spain",
         "2015",
         2
        ],
        [
         "University of Córdoba (Spain)",
         763,
         "Spain",
         "2014",
         2
        ],
        [
         "University of Córdoba (Spain)",
         734,
         "Spain",
         "2015",
         2
        ],
        [
         "University of Dayton",
         538,
         "USA",
         "2014",
         2
        ],
        [
         "University of Dayton",
         445,
         "USA",
         "2015",
         2
        ],
        [
         "University of Debrecen",
         673,
         "Hungary",
         "2014",
         2
        ],
        [
         "University of Debrecen",
         667,
         "Hungary",
         "2015",
         2
        ],
        [
         "University of Delaware",
         247,
         "USA",
         "2014",
         2
        ],
        [
         "University of Delaware",
         281,
         "USA",
         "2015",
         2
        ],
        [
         "University of Delhi",
         436,
         "India",
         "2014",
         2
        ],
        [
         "University of Delhi",
         379,
         "India",
         "2015",
         2
        ],
        [
         "University of Denver",
         488,
         "USA",
         "2014",
         2
        ],
        [
         "University of Denver",
         428,
         "USA",
         "2015",
         2
        ],
        [
         "University of Duisburg-Essen",
         303,
         "Germany",
         "2014",
         2
        ],
        [
         "University of Duisburg-Essen",
         288,
         "Germany",
         "2015",
         2
        ],
        [
         "University of Dundee",
         252,
         "United Kingdom",
         "2014",
         2
        ],
        [
         "University of Dundee",
         242,
         "United Kingdom",
         "2015",
         2
        ],
        [
         "University of Düsseldorf",
         251,
         "Germany",
         "2014",
         2
        ],
        [
         "University of Düsseldorf",
         251,
         "Germany",
         "2015",
         2
        ],
        [
         "University of East Anglia",
         350,
         "United Kingdom",
         "2014",
         2
        ],
        [
         "University of East Anglia",
         336,
         "United Kingdom",
         "2015",
         2
        ],
        [
         "University of Eastern Finland",
         373,
         "Finland",
         "2014",
         2
        ],
        [
         "University of Eastern Finland",
         366,
         "Finland",
         "2015",
         2
        ],
        [
         "University of Eastern Piedmont Amedeo Avogadro",
         810,
         "Italy",
         "2014",
         2
        ],
        [
         "University of Eastern Piedmont Amedeo Avogadro",
         630,
         "Italy",
         "2015",
         2
        ],
        [
         "University of Edinburgh",
         60,
         "United Kingdom",
         "2012",
         4
        ],
        [
         "University of Edinburgh",
         45,
         "United Kingdom",
         "2013",
         4
        ],
        [
         "University of Edinburgh",
         56,
         "United Kingdom",
         "2014",
         4
        ],
        [
         "University of Edinburgh",
         55,
         "United Kingdom",
         "2015",
         4
        ],
        [
         "University of Electro-Communications",
         775,
         "Japan",
         "2014",
         2
        ],
        [
         "University of Electro-Communications",
         840,
         "Japan",
         "2015",
         2
        ],
        [
         "University of Electronic Science and Technology of China",
         790,
         "China",
         "2014",
         2
        ],
        [
         "University of Electronic Science and Technology of China",
         783,
         "China",
         "2015",
         2
        ],
        [
         "University of Erlangen-Nuremberg",
         213,
         "Germany",
         "2014",
         2
        ],
        [
         "University of Erlangen-Nuremberg",
         204,
         "Germany",
         "2015",
         2
        ],
        [
         "University of Essex",
         563,
         "United Kingdom",
         "2014",
         2
        ],
        [
         "University of Essex",
         632,
         "United Kingdom",
         "2015",
         2
        ],
        [
         "University of Exeter",
         357,
         "United Kingdom",
         "2014",
         2
        ],
        [
         "University of Exeter",
         333,
         "United Kingdom",
         "2015",
         2
        ],
        [
         "University of Extremadura",
         875,
         "Spain",
         "2014",
         2
        ],
        [
         "University of Extremadura",
         872,
         "Spain",
         "2015",
         2
        ],
        [
         "University of Ferrara",
         387,
         "Italy",
         "2014",
         2
        ],
        [
         "University of Ferrara",
         369,
         "Italy",
         "2015",
         2
        ],
        [
         "University of Florence",
         266,
         "Italy",
         "2014",
         2
        ],
        [
         "University of Florence",
         247,
         "Italy",
         "2015",
         2
        ],
        [
         "University of Florida",
         55,
         "USA",
         "2012",
         9
        ],
        [
         "University of Florida",
         125,
         "United States of America",
         "2012",
         9
        ],
        [
         "University of Florida",
         55,
         "USA",
         "2013",
         9
        ],
        [
         "University of Florida",
         122,
         "United States of America",
         "2013",
         9
        ],
        [
         "University of Florida",
         59,
         "USA",
         "2014",
         9
        ],
        [
         "University of Florida",
         128,
         "United States of America",
         "2014",
         9
        ],
        [
         "University of Florida",
         60,
         "USA",
         "2015",
         9
        ],
        [
         "University of Florida",
         126,
         "United States of America",
         "2015",
         9
        ],
        [
         "University of Florida",
         120,
         "United States of America",
         "2016",
         9
        ],
        [
         "University of Franche-Comté",
         843,
         "France",
         "2014",
         2
        ],
        [
         "University of Franche-Comté",
         816,
         "France",
         "2015",
         2
        ],
        [
         "University of Fribourg",
         514,
         "Switzerland",
         "2014",
         2
        ],
        [
         "University of Fribourg",
         573,
         "Switzerland",
         "2015",
         2
        ],
        [
         "University of Fukui",
         863,
         "Japan",
         "2014",
         2
        ],
        [
         "University of Fukui",
         900,
         "Japan",
         "2015",
         2
        ],
        [
         "University of Geneva",
         65,
         "Switzerland",
         "2012",
         4
        ],
        [
         "University of Geneva",
         56,
         "Switzerland",
         "2013",
         4
        ],
        [
         "University of Geneva",
         75,
         "Switzerland",
         "2014",
         4
        ],
        [
         "University of Geneva",
         92,
         "Switzerland",
         "2015",
         4
        ],
        [
         "University of Genoa",
         341,
         "Italy",
         "2014",
         2
        ],
        [
         "University of Genoa",
         330,
         "Italy",
         "2015",
         2
        ],
        [
         "University of Georgia",
         207,
         "USA",
         "2014",
         2
        ],
        [
         "University of Georgia",
         198,
         "USA",
         "2015",
         2
        ],
        [
         "University of Girona",
         708,
         "Spain",
         "2014",
         2
        ],
        [
         "University of Girona",
         673,
         "Spain",
         "2015",
         2
        ],
        [
         "University of Glasgow",
         137,
         "United Kingdom",
         "2014",
         2
        ],
        [
         "University of Glasgow",
         128,
         "United Kingdom",
         "2015",
         2
        ],
        [
         "University of Gothenburg",
         168,
         "Sweden",
         "2014",
         2
        ],
        [
         "University of Gothenburg",
         237,
         "Sweden",
         "2015",
         2
        ],
        [
         "University of Granada",
         453,
         "Spain",
         "2014",
         2
        ],
        [
         "University of Granada",
         431,
         "Spain",
         "2015",
         2
        ],
        [
         "University of Graz",
         518,
         "Austria",
         "2014",
         2
        ],
        [
         "University of Graz",
         584,
         "Austria",
         "2015",
         2
        ],
        [
         "University of Greifswald",
         861,
         "Germany",
         "2014",
         2
        ],
        [
         "University of Greifswald",
         785,
         "Germany",
         "2015",
         2
        ],
        [
         "University of Groningen",
         127,
         "Netherlands",
         "2014",
         2
        ],
        [
         "University of Groningen",
         110,
         "Netherlands",
         "2015",
         2
        ],
        [
         "University of Guelph",
         366,
         "Canada",
         "2014",
         2
        ],
        [
         "University of Guelph",
         368,
         "Canada",
         "2015",
         2
        ],
        [
         "University of Göttingen",
         169,
         "Germany",
         "2014",
         2
        ],
        [
         "University of Göttingen",
         177,
         "Germany",
         "2015",
         2
        ],
        [
         "University of Haifa",
         697,
         "Israel",
         "2014",
         2
        ],
        [
         "University of Haifa",
         700,
         "Israel",
         "2015",
         2
        ],
        [
         "University of Hamburg",
         179,
         "Germany",
         "2014",
         2
        ],
        [
         "University of Hamburg",
         162,
         "Germany",
         "2015",
         2
        ],
        [
         "University of Hanover",
         497,
         "Germany",
         "2014",
         2
        ],
        [
         "University of Hanover",
         492,
         "Germany",
         "2015",
         2
        ],
        [
         "University of Hawaii at Manoa",
         469,
         "USA",
         "2014",
         2
        ],
        [
         "University of Hawaii at Manoa",
         488,
         "USA",
         "2015",
         2
        ],
        [
         "University of Helsinki",
         89,
         "Finland",
         "2012",
         4
        ],
        [
         "University of Helsinki",
         98,
         "Finland",
         "2013",
         4
        ],
        [
         "University of Helsinki",
         110,
         "Finland",
         "2014",
         4
        ],
        [
         "University of Helsinki",
         111,
         "Finland",
         "2015",
         4
        ],
        [
         "University of Hertfordshire",
         645,
         "United Kingdom",
         "2014",
         2
        ],
        [
         "University of Hertfordshire",
         604,
         "United Kingdom",
         "2015",
         2
        ],
        [
         "University of Hohenheim",
         799,
         "Germany",
         "2014",
         2
        ],
        [
         "University of Hohenheim",
         793,
         "Germany",
         "2015",
         2
        ],
        [
         "University of Hong Kong",
         155,
         "Hong Kong",
         "2014",
         2
        ],
        [
         "University of Hong Kong",
         170,
         "Hong Kong",
         "2015",
         2
        ],
        [
         "University of Houston",
         162,
         "USA",
         "2014",
         2
        ],
        [
         "University of Houston",
         184,
         "USA",
         "2015",
         2
        ],
        [
         "University of Hull",
         317,
         "United Kingdom",
         "2014",
         2
        ],
        [
         "University of Hull",
         506,
         "United Kingdom",
         "2015",
         2
        ],
        [
         "University of Hyderabad",
         911,
         "India",
         "2014",
         2
        ],
        [
         "University of Hyderabad",
         925,
         "India",
         "2015",
         2
        ],
        [
         "University of Hyogo",
         752,
         "Japan",
         "2014",
         2
        ],
        [
         "University of Hyogo",
         763,
         "Japan",
         "2015",
         2
        ],
        [
         "University of Iceland",
         516,
         "Iceland",
         "2014",
         2
        ],
        [
         "University of Iceland",
         461,
         "Iceland",
         "2015",
         2
        ],
        [
         "University of Idaho",
         638,
         "USA",
         "2014",
         2
        ],
        [
         "University of Idaho",
         655,
         "USA",
         "2015",
         2
        ],
        [
         "University of Illinois at Chicago",
         197,
         "United States of America",
         "2011",
         6
        ],
        [
         "University of Illinois at Chicago",
         167,
         "United States of America",
         "2012",
         6
        ],
        [
         "University of Illinois at Chicago",
         184,
         "United States of America",
         "2013",
         6
        ],
        [
         "University of Illinois at Chicago",
         218,
         "USA",
         "2014",
         6
        ],
        [
         "University of Illinois at Chicago",
         191,
         "United States of America",
         "2014",
         6
        ],
        [
         "University of Illinois at Chicago",
         203,
         "USA",
         "2015",
         6
        ],
        [
         "University of Illinois at Urbana-Champaign",
         33,
         "United States of America",
         "2011",
         6
        ],
        [
         "University of Illinois at Urbana-Champaign",
         31,
         "United States of America",
         "2012",
         6
        ],
        [
         "University of Illinois at Urbana-Champaign",
         33,
         "United States of America",
         "2013",
         6
        ],
        [
         "University of Illinois at Urbana-Champaign",
         29,
         "United States of America",
         "2014",
         6
        ],
        [
         "University of Illinois at Urbana-Champaign",
         29,
         "United States of America",
         "2015",
         6
        ],
        [
         "University of Illinois at Urbana-Champaign",
         36,
         "United States of America",
         "2016",
         6
        ],
        [
         "University of Illinois at Urbana–Champaign",
         26,
         "USA",
         "2012",
         4
        ],
        [
         "University of Illinois at Urbana–Champaign",
         24,
         "USA",
         "2013",
         4
        ],
        [
         "University of Illinois at Urbana–Champaign",
         28,
         "USA",
         "2014",
         4
        ],
        [
         "University of Illinois at Urbana–Champaign",
         33,
         "USA",
         "2015",
         4
        ],
        [
         "University of Innsbruck",
         326,
         "Austria",
         "2014",
         2
        ],
        [
         "University of Innsbruck",
         347,
         "Austria",
         "2015",
         2
        ],
        [
         "University of Insubria",
         676,
         "Italy",
         "2014",
         2
        ],
        [
         "University of Insubria",
         676,
         "Italy",
         "2015",
         2
        ],
        [
         "University of Ioannina",
         582,
         "Greece",
         "2014",
         2
        ],
        [
         "University of Ioannina",
         582,
         "Greece",
         "2015",
         2
        ],
        [
         "University of Iowa",
         132,
         "United States of America",
         "2011",
         7
        ],
        [
         "University of Iowa",
         141,
         "United States of America",
         "2012",
         7
        ],
        [
         "University of Iowa",
         169,
         "United States of America",
         "2013",
         7
        ],
        [
         "University of Iowa",
         125,
         "USA",
         "2014",
         7
        ],
        [
         "University of Iowa",
         161,
         "United States of America",
         "2014",
         7
        ],
        [
         "University of Iowa",
         141,
         "USA",
         "2015",
         7
        ],
        [
         "University of Iowa",
         175,
         "United States of America",
         "2015",
         7
        ],
        [
         "University of Jaén",
         902,
         "Spain",
         "2014",
         2
        ],
        [
         "University of Jaén",
         935,
         "Spain",
         "2015",
         2
        ],
        [
         "University of Jena",
         358,
         "Germany",
         "2014",
         2
        ],
        [
         "University of Jena",
         328,
         "Germany",
         "2015",
         2
        ],
        [
         "University of Jyväskylä",
         664,
         "Finland",
         "2014",
         2
        ],
        [
         "University of Jyväskylä",
         671,
         "Finland",
         "2015",
         2
        ],
        [
         "University of Kansas",
         203,
         "USA",
         "2014",
         2
        ],
        [
         "University of Kansas",
         196,
         "USA",
         "2015",
         2
        ],
        [
         "University of Kent",
         693,
         "United Kingdom",
         "2014",
         2
        ],
        [
         "University of Kent",
         692,
         "United Kingdom",
         "2015",
         2
        ],
        [
         "University of Kentucky",
         259,
         "USA",
         "2014",
         2
        ],
        [
         "University of Kentucky",
         267,
         "USA",
         "2015",
         2
        ],
        [
         "University of Kiel",
         232,
         "Germany",
         "2014",
         2
        ],
        [
         "University of Kiel",
         215,
         "Germany",
         "2015",
         2
        ],
        [
         "University of Konstanz",
         468,
         "Germany",
         "2014",
         2
        ],
        [
         "University of Konstanz",
         490,
         "Germany",
         "2015",
         2
        ],
        [
         "University of KwaZulu-Natal",
         459,
         "South Africa",
         "2014",
         2
        ],
        [
         "University of KwaZulu-Natal",
         478,
         "South Africa",
         "2015",
         2
        ],
        [
         "University of L'Aquila",
         618,
         "Italy",
         "2014",
         2
        ],
        [
         "University of L'Aquila",
         680,
         "Italy",
         "2015",
         2
        ],
        [
         "University of La Laguna",
         641,
         "Spain",
         "2014",
         2
        ],
        [
         "University of La Laguna",
         603,
         "Spain",
         "2015",
         2
        ],
        [
         "University of Lausanne",
         194,
         "Switzerland",
         "2014",
         2
        ],
        [
         "University of Lausanne",
         186,
         "Switzerland",
         "2015",
         2
        ],
        [
         "University of Leeds",
         151,
         "United Kingdom",
         "2014",
         2
        ],
        [
         "University of Leeds",
         161,
         "United Kingdom",
         "2015",
         2
        ],
        [
         "University of Leicester",
         263,
         "United Kingdom",
         "2014",
         2
        ],
        [
         "University of Leicester",
         240,
         "United Kingdom",
         "2015",
         2
        ],
        [
         "University of Lethbridge",
         917,
         "Canada",
         "2015",
         1
        ],
        [
         "University of Limerick",
         944,
         "Ireland",
         "2014",
         2
        ],
        [
         "University of Limerick",
         981,
         "Ireland",
         "2015",
         2
        ],
        [
         "University of Lisbon",
         278,
         "Portugal",
         "2014",
         2
        ],
        [
         "University of Lisbon",
         257,
         "Portugal",
         "2015",
         2
        ],
        [
         "University of Liverpool",
         211,
         "United Kingdom",
         "2014",
         2
        ],
        [
         "University of Liverpool",
         199,
         "United Kingdom",
         "2015",
         2
        ],
        [
         "University of Liège",
         316,
         "Belgium",
         "2014",
         2
        ],
        [
         "University of Liège",
         321,
         "Belgium",
         "2015",
         2
        ],
        [
         "University of Ljubljana",
         525,
         "Slovenia",
         "2014",
         2
        ],
        [
         "University of Ljubljana",
         504,
         "Slovenia",
         "2015",
         2
        ],
        [
         "University of Lleida",
         885,
         "Spain",
         "2014",
         2
        ],
        [
         "University of Lleida",
         894,
         "Spain",
         "2015",
         2
        ],
        [
         "University of Lorraine",
         402,
         "France",
         "2014",
         2
        ],
        [
         "University of Lorraine",
         385,
         "France",
         "2015",
         2
        ],
        [
         "University of Los Andes (Colombia)",
         587,
         "Colombia",
         "2014",
         2
        ],
        [
         "University of Los Andes (Colombia)",
         652,
         "Colombia",
         "2015",
         2
        ],
        [
         "University of Louisville",
         322,
         "USA",
         "2014",
         2
        ],
        [
         "University of Louisville",
         298,
         "USA",
         "2015",
         2
        ],
        [
         "University of Lübeck",
         759,
         "Germany",
         "2014",
         2
        ],
        [
         "University of Lübeck",
         552,
         "Germany",
         "2015",
         2
        ],
        [
         "University of Maine (Le Mans)",
         995,
         "France",
         "2014",
         1
        ],
        [
         "University of Maine, Orono",
         702,
         "USA",
         "2014",
         2
        ],
        [
         "University of Maine, Orono",
         668,
         "USA",
         "2015",
         2
        ],
        [
         "University of Malaya",
         492,
         "Malaysia",
         "2014",
         2
        ],
        [
         "University of Malaya",
         498,
         "Malaysia",
         "2015",
         2
        ],
        [
         "University of Manchester",
         76,
         "United Kingdom",
         "2012",
         4
        ],
        [
         "University of Manchester",
         72,
         "United Kingdom",
         "2013",
         4
        ],
        [
         "University of Manchester",
         69,
         "United Kingdom",
         "2014",
         4
        ],
        [
         "University of Manchester",
         67,
         "United Kingdom",
         "2015",
         4
        ],
        [
         "University of Manitoba",
         220,
         "Canada",
         "2014",
         2
        ],
        [
         "University of Manitoba",
         222,
         "Canada",
         "2015",
         2
        ],
        [
         "University of Mannheim",
         908,
         "Germany",
         "2014",
         2
        ],
        [
         "University of Mannheim",
         902,
         "Germany",
         "2015",
         2
        ],
        [
         "University of Marburg",
         343,
         "Germany",
         "2014",
         2
        ],
        [
         "University of Marburg",
         346,
         "Germany",
         "2015",
         2
        ],
        [
         "University of Maribor",
         839,
         "Slovenia",
         "2014",
         2
        ],
        [
         "University of Maribor",
         820,
         "Slovenia",
         "2015",
         2
        ],
        [
         "University of Maryland, Baltimore",
         183,
         "USA",
         "2014",
         2
        ],
        [
         "University of Maryland, Baltimore",
         175,
         "USA",
         "2015",
         2
        ],
        [
         "University of Maryland, Baltimore County",
         505,
         "USA",
         "2014",
         2
        ],
        [
         "University of Maryland, Baltimore County",
         493,
         "USA",
         "2015",
         2
        ],
        [
         "University of Maryland, College Park",
         68,
         "USA",
         "2012",
         4
        ],
        [
         "University of Maryland, College Park",
         59,
         "USA",
         "2013",
         4
        ],
        [
         "University of Maryland, College Park",
         76,
         "USA",
         "2014",
         4
        ],
        [
         "University of Maryland, College Park",
         72,
         "USA",
         "2015",
         4
        ],
        [
         "University of Massachusetts Amherst",
         208,
         "USA",
         "2014",
         2
        ],
        [
         "University of Massachusetts Amherst",
         219,
         "USA",
         "2015",
         2
        ],
        [
         "University of Massachusetts Boston",
         847,
         "USA",
         "2014",
         2
        ],
        [
         "University of Massachusetts Boston",
         825,
         "USA",
         "2015",
         2
        ],
        [
         "University of Massachusetts Lowell",
         813,
         "USA",
         "2014",
         2
        ],
        [
         "University of Massachusetts Lowell",
         884,
         "USA",
         "2015",
         2
        ],
        [
         "University of Massachusetts Medical School",
         193,
         "USA",
         "2014",
         2
        ],
        [
         "University of Massachusetts Medical School",
         183,
         "USA",
         "2015",
         2
        ],
        [
         "University of Melbourne",
         97,
         "Australia",
         "2014",
         2
        ],
        [
         "University of Melbourne",
         93,
         "Australia",
         "2015",
         2
        ],
        [
         "University of Memphis",
         716,
         "USA",
         "2014",
         2
        ],
        [
         "University of Memphis",
         746,
         "USA",
         "2015",
         2
        ],
        [
         "University of Messina",
         680,
         "Italy",
         "2014",
         2
        ],
        [
         "University of Messina",
         690,
         "Italy",
         "2015",
         2
        ],
        [
         "University of Miami",
         172,
         "United States of America",
         "2012",
         7
        ],
        [
         "University of Miami",
         193,
         "United States of America",
         "2013",
         7
        ],
        [
         "University of Miami",
         138,
         "USA",
         "2014",
         7
        ],
        [
         "University of Miami",
         185,
         "United States of America",
         "2014",
         7
        ],
        [
         "University of Miami",
         137,
         "USA",
         "2015",
         7
        ],
        [
         "University of Miami",
         169,
         "United States of America",
         "2015",
         7
        ],
        [
         "University of Miami",
         161,
         "United States of America",
         "2016",
         7
        ],
        [
         "University of Michigan, Ann Arbor",
         34,
         "USA",
         "2012",
         4
        ],
        [
         "University of Michigan, Ann Arbor",
         32,
         "USA",
         "2013",
         4
        ],
        [
         "University of Michigan, Ann Arbor",
         21,
         "USA",
         "2014",
         4
        ],
        [
         "University of Michigan, Ann Arbor",
         19,
         "USA",
         "2015",
         4
        ],
        [
         "University of Milan",
         181,
         "Italy",
         "2014",
         2
        ],
        [
         "University of Milan",
         172,
         "Italy",
         "2015",
         2
        ],
        [
         "University of Milan - Bicocca",
         431,
         "Italy",
         "2014",
         2
        ],
        [
         "University of Milan - Bicocca",
         382,
         "Italy",
         "2015",
         2
        ],
        [
         "University of Minho",
         679,
         "Portugal",
         "2014",
         2
        ],
        [
         "University of Minho",
         629,
         "Portugal",
         "2015",
         2
        ],
        [
         "University of Minnesota, Twin Cities",
         49,
         "USA",
         "2012",
         4
        ],
        [
         "University of Minnesota, Twin Cities",
         44,
         "USA",
         "2013",
         4
        ],
        [
         "University of Minnesota, Twin Cities",
         49,
         "USA",
         "2014",
         4
        ],
        [
         "University of Minnesota, Twin Cities",
         48,
         "USA",
         "2015",
         4
        ],
        [
         "University of Mississippi - Oxford Campus",
         441,
         "USA",
         "2014",
         2
        ],
        [
         "University of Mississippi - Oxford Campus",
         522,
         "USA",
         "2015",
         2
        ],
        [
         "University of Mississippi Medical Center",
         748,
         "USA",
         "2014",
         2
        ],
        [
         "University of Mississippi Medical Center",
         754,
         "USA",
         "2015",
         2
        ],
        [
         "University of Missouri–Columbia",
         196,
         "USA",
         "2014",
         2
        ],
        [
         "University of Missouri–Columbia",
         194,
         "USA",
         "2015",
         2
        ],
        [
         "University of Missouri–Kansas City",
         559,
         "USA",
         "2014",
         2
        ],
        [
         "University of Missouri–Kansas City",
         554,
         "USA",
         "2015",
         2
        ],
        [
         "University of Missouri–St. Louis",
         720,
         "USA",
         "2014",
         2
        ],
        [
         "University of Missouri–St. Louis",
         748,
         "USA",
         "2015",
         2
        ],
        [
         "University of Miyazaki",
         781,
         "Japan",
         "2014",
         2
        ],
        [
         "University of Miyazaki",
         839,
         "Japan",
         "2015",
         2
        ],
        [
         "University of Modena and Reggio Emilia",
         466,
         "Italy",
         "2014",
         2
        ],
        [
         "University of Modena and Reggio Emilia",
         432,
         "Italy",
         "2015",
         2
        ],
        [
         "University of Mons",
         764,
         "Belgium",
         "2014",
         2
        ],
        [
         "University of Mons",
         741,
         "Belgium",
         "2015",
         2
        ],
        [
         "University of Montana - Missoula",
         604,
         "USA",
         "2014",
         2
        ],
        [
         "University of Montana - Missoula",
         585,
         "USA",
         "2015",
         2
        ],
        [
         "University of Montpellier",
         224,
         "France",
         "2015",
         1
        ],
        [
         "University of Montpellier 1",
         526,
         "France",
         "2014",
         1
        ],
        [
         "University of Montpellier 2",
         241,
         "France",
         "2014",
         1
        ],
        [
         "University of Montreal",
         134,
         "Canada",
         "2014",
         2
        ],
        [
         "University of Montreal",
         151,
         "Canada",
         "2015",
         2
        ],
        [
         "University of Murcia",
         803,
         "Spain",
         "2014",
         2
        ],
        [
         "University of Murcia",
         799,
         "Spain",
         "2015",
         2
        ],
        [
         "University of Málaga",
         519,
         "Spain",
         "2014",
         2
        ],
        [
         "University of Málaga",
         693,
         "Spain",
         "2015",
         2
        ],
        [
         "University of Münster",
         210,
         "Germany",
         "2014",
         2
        ],
        [
         "University of Münster",
         205,
         "Germany",
         "2015",
         2
        ],
        [
         "University of Nantes",
         562,
         "France",
         "2014",
         2
        ],
        [
         "University of Nantes",
         539,
         "France",
         "2015",
         2
        ],
        [
         "University of Naples Federico II",
         272,
         "Italy",
         "2014",
         2
        ],
        [
         "University of Naples Federico II",
         268,
         "Italy",
         "2015",
         2
        ],
        [
         "University of Natural Resources and Life Sciences, Vienna",
         711,
         "Austria",
         "2014",
         2
        ],
        [
         "University of Natural Resources and Life Sciences, Vienna",
         743,
         "Austria",
         "2015",
         2
        ],
        [
         "University of Navarra",
         347,
         "Spain",
         "2014",
         2
        ],
        [
         "University of Navarra",
         338,
         "Spain",
         "2015",
         2
        ],
        [
         "University of Nebraska Medical Center",
         351,
         "USA",
         "2014",
         2
        ],
        [
         "University of Nebraska Medical Center",
         399,
         "USA",
         "2015",
         2
        ],
        [
         "University of Nebraska Omaha",
         470,
         "USA",
         "2014",
         2
        ],
        [
         "University of Nebraska Omaha",
         489,
         "USA",
         "2015",
         2
        ],
        [
         "University of Nebraska–Lincoln",
         335,
         "USA",
         "2014",
         2
        ],
        [
         "University of Nebraska–Lincoln",
         314,
         "USA",
         "2015",
         2
        ],
        [
         "University of Neuchâtel",
         754,
         "Switzerland",
         "2014",
         2
        ],
        [
         "University of Neuchâtel",
         758,
         "Switzerland",
         "2015",
         2
        ],
        [
         "University of Nevada, Las Vegas",
         677,
         "USA",
         "2014",
         2
        ],
        [
         "University of Nevada, Las Vegas",
         687,
         "USA",
         "2015",
         2
        ],
        [
         "University of Nevada, Reno",
         460,
         "USA",
         "2014",
         2
        ],
        [
         "University of Nevada, Reno",
         454,
         "USA",
         "2015",
         2
        ],
        [
         "University of New Brunswick",
         831,
         "Canada",
         "2014",
         2
        ],
        [
         "University of New Brunswick",
         870,
         "Canada",
         "2015",
         2
        ],
        [
         "University of New England (Australia)",
         939,
         "Australia",
         "2014",
         2
        ],
        [
         "University of New England (Australia)",
         811,
         "Australia",
         "2015",
         2
        ],
        [
         "University of New Hampshire",
         404,
         "USA",
         "2014",
         2
        ],
        [
         "University of New Hampshire",
         359,
         "USA",
         "2015",
         2
        ],
        [
         "University of New Mexico",
         185,
         "USA",
         "2014",
         2
        ],
        [
         "University of New Mexico",
         181,
         "USA",
         "2015",
         2
        ],
        [
         "University of New Orleans",
         616,
         "USA",
         "2014",
         2
        ],
        [
         "University of New Orleans",
         609,
         "USA",
         "2015",
         2
        ],
        [
         "University of New South Wales",
         149,
         "Australia",
         "2014",
         2
        ],
        [
         "University of New South Wales",
         130,
         "Australia",
         "2015",
         2
        ],
        [
         "University of Newcastle",
         546,
         "Australia",
         "2014",
         2
        ],
        [
         "University of Newcastle",
         494,
         "Australia",
         "2015",
         2
        ],
        [
         "University of Nice Sophia Antipolis",
         532,
         "France",
         "2014",
         2
        ],
        [
         "University of Nice Sophia Antipolis",
         505,
         "France",
         "2015",
         2
        ],
        [
         "University of North Carolina at Chapel Hill",
         30,
         "United States of America",
         "2011",
         10
        ],
        [
         "University of North Carolina at Chapel Hill",
         36,
         "USA",
         "2012",
         10
        ],
        [
         "University of North Carolina at Chapel Hill",
         43,
         "United States of America",
         "2012",
         10
        ],
        [
         "University of North Carolina at Chapel Hill",
         34,
         "USA",
         "2013",
         10
        ],
        [
         "University of North Carolina at Chapel Hill",
         42,
         "United States of America",
         "2013",
         10
        ],
        [
         "University of North Carolina at Chapel Hill",
         45,
         "USA",
         "2014",
         10
        ],
        [
         "University of North Carolina at Chapel Hill",
         47,
         "United States of America",
         "2014",
         10
        ],
        [
         "University of North Carolina at Chapel Hill",
         40,
         "USA",
         "2015",
         10
        ],
        [
         "University of North Carolina at Chapel Hill",
         46,
         "United States of America",
         "2015",
         10
        ],
        [
         "University of North Carolina at Chapel Hill",
         63,
         "United States of America",
         "2016",
         10
        ],
        [
         "University of North Carolina at Charlotte",
         727,
         "USA",
         "2014",
         2
        ],
        [
         "University of North Carolina at Charlotte",
         794,
         "USA",
         "2015",
         2
        ],
        [
         "University of North Carolina at Greensboro",
         867,
         "USA",
         "2014",
         2
        ],
        [
         "University of North Carolina at Greensboro",
         897,
         "USA",
         "2015",
         2
        ],
        [
         "University of North Dakota",
         874,
         "USA",
         "2014",
         2
        ],
        [
         "University of North Dakota",
         913,
         "USA",
         "2015",
         2
        ],
        [
         "University of North Texas, Denton",
         747,
         "USA",
         "2014",
         2
        ],
        [
         "University of North Texas, Denton",
         778,
         "USA",
         "2015",
         2
        ],
        [
         "University of Notre Dame",
         63,
         "United States of America",
         "2011",
         8
        ],
        [
         "University of Notre Dame",
         89,
         "United States of America",
         "2012",
         8
        ],
        [
         "University of Notre Dame",
         94,
         "United States of America",
         "2013",
         8
        ],
        [
         "University of Notre Dame",
         64,
         "USA",
         "2014",
         8
        ],
        [
         "University of Notre Dame",
         90,
         "United States of America",
         "2014",
         8
        ],
        [
         "University of Notre Dame",
         77,
         "USA",
         "2015",
         8
        ],
        [
         "University of Notre Dame",
         86,
         "United States of America",
         "2015",
         8
        ],
        [
         "University of Notre Dame",
         108,
         "United States of America",
         "2016",
         8
        ],
        [
         "University of Nottingham",
         97,
         "United Kingdom",
         "2012",
         3
        ],
        [
         "University of Nottingham",
         147,
         "United Kingdom",
         "2014",
         3
        ],
        [
         "University of Nottingham",
         140,
         "United Kingdom",
         "2015",
         3
        ],
        [
         "University of Oklahoma - Norman Campus",
         235,
         "USA",
         "2014",
         2
        ],
        [
         "University of Oklahoma - Norman Campus",
         350,
         "USA",
         "2015",
         2
        ],
        [
         "University of Oklahoma Health Sciences Center",
         476,
         "USA",
         "2015",
         1
        ],
        [
         "University of Oldenburg",
         966,
         "Germany",
         "2014",
         2
        ],
        [
         "University of Oldenburg",
         801,
         "Germany",
         "2015",
         2
        ],
        [
         "University of Oregon",
         346,
         "USA",
         "2014",
         2
        ],
        [
         "University of Oregon",
         339,
         "USA",
         "2015",
         2
        ],
        [
         "University of Orléans",
         889,
         "France",
         "2014",
         2
        ],
        [
         "University of Orléans",
         879,
         "France",
         "2015",
         2
        ],
        [
         "University of Oslo",
         91,
         "Norway",
         "2012",
         4
        ],
        [
         "University of Oslo",
         81,
         "Norway",
         "2013",
         4
        ],
        [
         "University of Oslo",
         111,
         "Norway",
         "2014",
         4
        ],
        [
         "University of Oslo",
         99,
         "Norway",
         "2015",
         4
        ],
        [
         "University of Osnabrück",
         909,
         "Germany",
         "2014",
         2
        ],
        [
         "University of Osnabrück",
         876,
         "Germany",
         "2015",
         2
        ],
        [
         "University of Otago",
         355,
         "New Zealand",
         "2014",
         2
        ],
        [
         "University of Otago",
         357,
         "New Zealand",
         "2015",
         2
        ],
        [
         "University of Ottawa",
         212,
         "Canada",
         "2014",
         2
        ],
        [
         "University of Ottawa",
         193,
         "Canada",
         "2015",
         2
        ],
        [
         "University of Oulu",
         425,
         "Finland",
         "2014",
         2
        ],
        [
         "University of Oulu",
         447,
         "Finland",
         "2015",
         2
        ],
        [
         "University of Oviedo",
         580,
         "Spain",
         "2014",
         2
        ],
        [
         "University of Oviedo",
         559,
         "Spain",
         "2015",
         2
        ],
        [
         "University of Oxford",
         7,
         "United Kingdom",
         "2012",
         4
        ],
        [
         "University of Oxford",
         3,
         "United Kingdom",
         "2013",
         4
        ],
        [
         "University of Oxford",
         5,
         "United Kingdom",
         "2014",
         4
        ],
        [
         "University of Oxford",
         5,
         "United Kingdom",
         "2015",
         4
        ],
        [
         "University of Padua",
         184,
         "Italy",
         "2014",
         2
        ],
        [
         "University of Padua",
         169,
         "Italy",
         "2015",
         2
        ],
        [
         "University of Palermo",
         554,
         "Italy",
         "2014",
         2
        ],
        [
         "University of Palermo",
         528,
         "Italy",
         "2015",
         2
        ],
        [
         "University of Paris 13",
         689,
         "France",
         "2014",
         2
        ],
        [
         "University of Paris 13",
         672,
         "France",
         "2015",
         2
        ],
        [
         "University of Paris-Sud",
         48,
         "France",
         "2012",
         4
        ],
        [
         "University of Paris-Sud",
         36,
         "France",
         "2013",
         4
        ],
        [
         "University of Paris-Sud",
         50,
         "France",
         "2014",
         4
        ],
        [
         "University of Paris-Sud",
         58,
         "France",
         "2015",
         4
        ],
        [
         "University of Parma",
         455,
         "Italy",
         "2014",
         2
        ],
        [
         "University of Parma",
         456,
         "Italy",
         "2015",
         2
        ],
        [
         "University of Patras",
         631,
         "Greece",
         "2014",
         2
        ],
        [
         "University of Patras",
         641,
         "Greece",
         "2015",
         2
        ],
        [
         "University of Pau and Pays de l'Adour",
         979,
         "France",
         "2014",
         2
        ],
        [
         "University of Pau and Pays de l'Adour",
         989,
         "France",
         "2015",
         2
        ],
        [
         "University of Pavia",
         344,
         "Italy",
         "2014",
         2
        ],
        [
         "University of Pavia",
         327,
         "Italy",
         "2015",
         2
        ],
        [
         "University of Pennsylvania",
         13,
         "USA",
         "2012",
         4
        ],
        [
         "University of Pennsylvania",
         12,
         "USA",
         "2013",
         4
        ],
        [
         "University of Pennsylvania",
         14,
         "USA",
         "2014",
         4
        ],
        [
         "University of Pennsylvania",
         14,
         "USA",
         "2015",
         4
        ],
        [
         "University of Perpignan Via Domitia",
         780,
         "France",
         "2014",
         2
        ],
        [
         "University of Perpignan Via Domitia",
         822,
         "France",
         "2015",
         2
        ],
        [
         "University of Perugia",
         359,
         "Italy",
         "2014",
         2
        ],
        [
         "University of Perugia",
         344,
         "Italy",
         "2015",
         2
        ],
        [
         "University of Picardie Jules Verne",
         795,
         "France",
         "2014",
         2
        ],
        [
         "University of Picardie Jules Verne",
         764,
         "France",
         "2015",
         2
        ],
        [
         "University of Pisa",
         308,
         "Italy",
         "2014",
         2
        ],
        [
         "University of Pisa",
         295,
         "Italy",
         "2015",
         2
        ],
        [
         "University of Pittsburgh - Pittsburgh Campus",
         71,
         "USA",
         "2012",
         4
        ],
        [
         "University of Pittsburgh - Pittsburgh Campus",
         69,
         "USA",
         "2013",
         4
        ],
        [
         "University of Pittsburgh - Pittsburgh Campus",
         53,
         "USA",
         "2014",
         4
        ],
        [
         "University of Pittsburgh - Pittsburgh Campus",
         46,
         "USA",
         "2015",
         4
        ],
        [
         "University of Poitiers",
         622,
         "France",
         "2014",
         2
        ],
        [
         "University of Poitiers",
         675,
         "France",
         "2015",
         2
        ],
        [
         "University of Porto",
         290,
         "Portugal",
         "2014",
         2
        ],
        [
         "University of Porto",
         308,
         "Portugal",
         "2015",
         2
        ],
        [
         "University of Portsmouth",
         640,
         "United Kingdom",
         "2014",
         2
        ],
        [
         "University of Portsmouth",
         597,
         "United Kingdom",
         "2015",
         2
        ],
        [
         "University of Potsdam",
         530,
         "Germany",
         "2014",
         2
        ],
        [
         "University of Potsdam",
         517,
         "Germany",
         "2015",
         2
        ],
        [
         "University of Pretoria",
         609,
         "South Africa",
         "2014",
         2
        ],
        [
         "University of Pretoria",
         678,
         "South Africa",
         "2015",
         2
        ],
        [
         "University of Puerto Rico at Mayagüez",
         977,
         "Puerto Rico",
         "2014",
         2
        ],
        [
         "University of Puerto Rico at Mayagüez",
         962,
         "Puerto Rico",
         "2015",
         2
        ],
        [
         "University of Pécs",
         862,
         "Hungary",
         "2014",
         2
        ],
        [
         "University of Pécs",
         892,
         "Hungary",
         "2015",
         2
        ],
        [
         "University of Queensland",
         92,
         "Australia",
         "2012",
         3
        ],
        [
         "University of Queensland",
         115,
         "Australia",
         "2014",
         3
        ],
        [
         "University of Queensland",
         103,
         "Australia",
         "2015",
         3
        ],
        [
         "University of Québec at Montreal",
         671,
         "Canada",
         "2014",
         2
        ],
        [
         "University of Québec at Montreal",
         663,
         "Canada",
         "2015",
         2
        ],
        [
         "University of Reading",
         287,
         "United Kingdom",
         "2014",
         2
        ],
        [
         "University of Reading",
         263,
         "United Kingdom",
         "2015",
         2
        ],
        [
         "University of Regensburg",
         338,
         "Germany",
         "2014",
         2
        ],
        [
         "University of Regensburg",
         318,
         "Germany",
         "2015",
         2
        ],
        [
         "University of Regina",
         827,
         "Canada",
         "2014",
         2
        ],
        [
         "University of Regina",
         836,
         "Canada",
         "2015",
         2
        ],
        [
         "University of Reims Champagne-Ardenne",
         948,
         "France",
         "2014",
         2
        ],
        [
         "University of Reims Champagne-Ardenne",
         978,
         "France",
         "2015",
         2
        ],
        [
         "University of Rennes 1",
         476,
         "France",
         "2014",
         2
        ],
        [
         "University of Rennes 1",
         475,
         "France",
         "2015",
         2
        ],
        [
         "University of Rhode Island",
         659,
         "USA",
         "2014",
         2
        ],
        [
         "University of Rhode Island",
         606,
         "USA",
         "2015",
         2
        ],
        [
         "University of Rochester",
         53,
         "USA",
         "2012",
         9
        ],
        [
         "University of Rochester",
         81,
         "United States of America",
         "2012",
         9
        ],
        [
         "University of Rochester",
         76,
         "USA",
         "2013",
         9
        ],
        [
         "University of Rochester",
         102,
         "United States of America",
         "2013",
         9
        ],
        [
         "University of Rochester",
         77,
         "USA",
         "2014",
         9
        ],
        [
         "University of Rochester",
         95,
         "United States of America",
         "2014",
         9
        ],
        [
         "University of Rochester",
         81,
         "USA",
         "2015",
         9
        ],
        [
         "University of Rochester",
         121,
         "United States of America",
         "2015",
         9
        ],
        [
         "University of Rochester",
         158,
         "United States of America",
         "2016",
         9
        ],
        [
         "University of Rome Tor Vergata",
         325,
         "Italy",
         "2014",
         2
        ],
        [
         "University of Rome Tor Vergata",
         317,
         "Italy",
         "2015",
         2
        ],
        [
         "University of Rostock",
         481,
         "Germany",
         "2014",
         2
        ],
        [
         "University of Rostock",
         450,
         "Germany",
         "2015",
         2
        ],
        [
         "University of Rouen",
         792,
         "France",
         "2014",
         2
        ],
        [
         "University of Rouen",
         831,
         "France",
         "2015",
         2
        ],
        [
         "University of Salamanca",
         620,
         "Spain",
         "2014",
         2
        ],
        [
         "University of Salamanca",
         637,
         "Spain",
         "2015",
         2
        ],
        [
         "University of Salento",
         785,
         "Italy",
         "2014",
         2
        ],
        [
         "University of Salento",
         765,
         "Italy",
         "2015",
         2
        ],
        [
         "University of Salerno",
         740,
         "Italy",
         "2014",
         2
        ],
        [
         "University of Salerno",
         703,
         "Italy",
         "2015",
         2
        ],
        [
         "University of Salzburg",
         812,
         "Austria",
         "2014",
         2
        ],
        [
         "University of Salzburg",
         753,
         "Austria",
         "2015",
         2
        ],
        [
         "University of Santiago de Compostela",
         356,
         "Spain",
         "2014",
         2
        ],
        [
         "University of Santiago de Compostela",
         363,
         "Spain",
         "2015",
         2
        ],
        [
         "University of Saskatchewan",
         483,
         "Canada",
         "2014",
         2
        ],
        [
         "University of Saskatchewan",
         455,
         "Canada",
         "2015",
         2
        ],
        [
         "University of Sassari",
         841,
         "Italy",
         "2014",
         2
        ],
        [
         "University of Sassari",
         817,
         "Italy",
         "2015",
         2
        ],
        [
         "University of Savoy",
         557,
         "France",
         "2014",
         2
        ],
        [
         "University of Savoy",
         499,
         "France",
         "2015",
         2
        ],
        [
         "University of Science and Technology Beijing",
         599,
         "China",
         "2014",
         2
        ],
        [
         "University of Science and Technology Beijing",
         530,
         "China",
         "2015",
         2
        ],
        [
         "University of Science and Technology of China",
         270,
         "China",
         "2014",
         2
        ],
        [
         "University of Science and Technology of China",
         239,
         "China",
         "2015",
         2
        ],
        [
         "University of Science, Malaysia",
         315,
         "Malaysia",
         "2014",
         2
        ],
        [
         "University of Science, Malaysia",
         482,
         "Malaysia",
         "2015",
         2
        ],
        [
         "University of Seoul",
         970,
         "South Korea",
         "2014",
         2
        ],
        [
         "University of Seoul",
         860,
         "South Korea",
         "2015",
         2
        ],
        [
         "University of Seville",
         384,
         "Spain",
         "2014",
         2
        ],
        [
         "University of Seville",
         398,
         "Spain",
         "2015",
         2
        ],
        [
         "University of Sheffield",
         178,
         "United Kingdom",
         "2014",
         2
        ],
        [
         "University of Sheffield",
         173,
         "United Kingdom",
         "2015",
         2
        ],
        [
         "University of Sherbrooke",
         517,
         "Canada",
         "2014",
         2
        ],
        [
         "University of Sherbrooke",
         502,
         "Canada",
         "2015",
         2
        ],
        [
         "University of Siegen",
         890,
         "Germany",
         "2014",
         2
        ],
        [
         "University of Siegen",
         857,
         "Germany",
         "2015",
         2
        ],
        [
         "University of Siena",
         456,
         "Italy",
         "2014",
         2
        ],
        [
         "University of Siena",
         446,
         "Italy",
         "2015",
         2
        ],
        [
         "University of Silesia",
         954,
         "Poland",
         "2014",
         2
        ],
        [
         "University of Silesia",
         964,
         "Poland",
         "2015",
         2
        ],
        [
         "University of South Alabama",
         767,
         "USA",
         "2014",
         2
        ],
        [
         "University of South Alabama",
         844,
         "USA",
         "2015",
         2
        ],
        [
         "University of South Australia",
         723,
         "Australia",
         "2014",
         2
        ],
        [
         "University of South Australia",
         751,
         "Australia",
         "2015",
         2
        ],
        [
         "University of South Carolina - Columbia",
         298,
         "USA",
         "2014",
         2
        ],
        [
         "University of South Carolina - Columbia",
         300,
         "USA",
         "2015",
         2
        ],
        [
         "University of South Florida - Tampa",
         173,
         "USA",
         "2014",
         2
        ],
        [
         "University of South Florida - Tampa",
         190,
         "USA",
         "2015",
         2
        ],
        [
         "University of Southampton",
         146,
         "United Kingdom",
         "2014",
         2
        ],
        [
         "University of Southampton",
         148,
         "United Kingdom",
         "2015",
         2
        ],
        [
         "University of Southern California",
         73,
         "United States of America",
         "2011",
         10
        ],
        [
         "University of Southern California",
         44,
         "USA",
         "2012",
         10
        ],
        [
         "University of Southern California",
         55,
         "United States of America",
         "2012",
         10
        ],
        [
         "University of Southern California",
         39,
         "USA",
         "2013",
         10
        ],
        [
         "University of Southern California",
         56,
         "United States of America",
         "2013",
         10
        ],
        [
         "University of Southern California",
         51,
         "USA",
         "2014",
         10
        ],
        [
         "University of Southern California",
         70,
         "United States of America",
         "2014",
         10
        ],
        [
         "University of Southern California",
         51,
         "USA",
         "2015",
         10
        ],
        [
         "University of Southern California",
         75,
         "United States of America",
         "2015",
         10
        ],
        [
         "University of Southern California",
         68,
         "United States of America",
         "2016",
         10
        ],
        [
         "University of Southern Denmark",
         352,
         "Denmark",
         "2014",
         2
        ],
        [
         "University of Southern Denmark",
         356,
         "Denmark",
         "2015",
         2
        ],
        [
         "University of Southern Mississippi",
         913,
         "USA",
         "2014",
         2
        ],
        [
         "University of Southern Mississippi",
         901,
         "USA",
         "2015",
         2
        ],
        [
         "University of St Andrews",
         323,
         "United Kingdom",
         "2014",
         2
        ],
        [
         "University of St Andrews",
         309,
         "United Kingdom",
         "2015",
         2
        ],
        [
         "University of Stirling",
         735,
         "United Kingdom",
         "2014",
         2
        ],
        [
         "University of Stirling",
         784,
         "United Kingdom",
         "2015",
         2
        ],
        [
         "University of Strasbourg",
         176,
         "France",
         "2014",
         2
        ],
        [
         "University of Strasbourg",
         182,
         "France",
         "2015",
         2
        ],
        [
         "University of Strathclyde",
         472,
         "United Kingdom",
         "2014",
         2
        ],
        [
         "University of Strathclyde",
         453,
         "United Kingdom",
         "2015",
         2
        ],
        [
         "University of Stuttgart",
         300,
         "Germany",
         "2014",
         2
        ],
        [
         "University of Stuttgart",
         316,
         "Germany",
         "2015",
         2
        ],
        [
         "University of Surrey",
         499,
         "United Kingdom",
         "2014",
         2
        ],
        [
         "University of Surrey",
         525,
         "United Kingdom",
         "2015",
         2
        ],
        [
         "University of Sussex",
         190,
         "United Kingdom",
         "2014",
         2
        ],
        [
         "University of Sussex",
         253,
         "United Kingdom",
         "2015",
         2
        ],
        [
         "University of Sydney",
         94,
         "Australia",
         "2012",
         4
        ],
        [
         "University of Sydney",
         92,
         "Australia",
         "2013",
         4
        ],
        [
         "University of Sydney",
         95,
         "Australia",
         "2014",
         4
        ],
        [
         "University of Sydney",
         88,
         "Australia",
         "2015",
         4
        ],
        [
         "University of Szeged",
         712,
         "Hungary",
         "2014",
         2
        ],
        [
         "University of Szeged",
         731,
         "Hungary",
         "2015",
         2
        ],
        [
         "University of São Paulo",
         131,
         "Brazil",
         "2014",
         2
        ],
        [
         "University of São Paulo",
         132,
         "Brazil",
         "2015",
         2
        ],
        [
         "University of Tampere",
         430,
         "Finland",
         "2014",
         2
        ],
        [
         "University of Tampere",
         442,
         "Finland",
         "2015",
         2
        ],
        [
         "University of Tartu",
         556,
         "Estonia",
         "2014",
         2
        ],
        [
         "University of Tartu",
         537,
         "Estonia",
         "2015",
         2
        ],
        [
         "University of Tasmania",
         608,
         "Australia",
         "2014",
         2
        ],
        [
         "University of Tasmania",
         523,
         "Australia",
         "2015",
         2
        ],
        [
         "University of Technology, Sydney",
         866,
         "Australia",
         "2014",
         2
        ],
        [
         "University of Technology, Sydney",
         815,
         "Australia",
         "2015",
         2
        ],
        [
         "University of Tehran",
         749,
         "Iran",
         "2014",
         2
        ],
        [
         "University of Tehran",
         768,
         "Iran",
         "2015",
         2
        ],
        [
         "University of Tennessee, Knoxville",
         227,
         "USA",
         "2014",
         2
        ],
        [
         "University of Tennessee, Knoxville",
         227,
         "USA",
         "2015",
         2
        ],
        [
         "University of Texas Health Science Center at Houston",
         274,
         "USA",
         "2014",
         2
        ],
        [
         "University of Texas Health Science Center at Houston",
         249,
         "USA",
         "2015",
         2
        ],
        [
         "University of Texas Health Science Center at San Antonio",
         239,
         "USA",
         "2014",
         2
        ],
        [
         "University of Texas Health Science Center at San Antonio",
         234,
         "USA",
         "2015",
         2
        ],
        [
         "University of Texas MD Anderson Cancer Center",
         96,
         "USA",
         "2012",
         4
        ],
        [
         "University of Texas MD Anderson Cancer Center",
         88,
         "USA",
         "2013",
         4
        ],
        [
         "University of Texas MD Anderson Cancer Center",
         104,
         "USA",
         "2014",
         4
        ],
        [
         "University of Texas MD Anderson Cancer Center",
         90,
         "USA",
         "2015",
         4
        ],
        [
         "University of Texas Medical Branch at Galveston",
         379,
         "USA",
         "2014",
         2
        ],
        [
         "University of Texas Medical Branch at Galveston",
         378,
         "USA",
         "2015",
         2
        ],
        [
         "University of Texas Southwestern Medical Center",
         29,
         "USA",
         "2012",
         4
        ],
        [
         "University of Texas Southwestern Medical Center",
         46,
         "USA",
         "2013",
         4
        ],
        [
         "University of Texas Southwestern Medical Center",
         66,
         "USA",
         "2014",
         4
        ],
        [
         "University of Texas Southwestern Medical Center",
         75,
         "USA",
         "2015",
         4
        ],
        [
         "University of Texas at Arlington",
         681,
         "USA",
         "2014",
         2
        ],
        [
         "University of Texas at Arlington",
         626,
         "USA",
         "2015",
         2
        ],
        [
         "University of Texas at Austin",
         30,
         "USA",
         "2012",
         4
        ],
        [
         "University of Texas at Austin",
         26,
         "USA",
         "2013",
         4
        ],
        [
         "University of Texas at Austin",
         29,
         "USA",
         "2014",
         4
        ],
        [
         "University of Texas at Austin",
         30,
         "USA",
         "2015",
         4
        ],
        [
         "University of Texas at Dallas",
         143,
         "USA",
         "2014",
         2
        ],
        [
         "University of Texas at Dallas",
         139,
         "USA",
         "2015",
         2
        ],
        [
         "University of Texas at El Paso",
         844,
         "USA",
         "2014",
         2
        ],
        [
         "University of Texas at El Paso",
         929,
         "USA",
         "2015",
         2
        ],
        [
         "University of Texas at San Antonio",
         256,
         "USA",
         "2014",
         2
        ],
        [
         "University of Texas at San Antonio",
         291,
         "USA",
         "2015",
         2
        ],
        [
         "University of Thessaly",
         926,
         "Greece",
         "2014",
         2
        ],
        [
         "University of Thessaly",
         905,
         "Greece",
         "2015",
         2
        ],
        [
         "University of Tokushima",
         444,
         "Japan",
         "2014",
         2
        ],
        [
         "University of Tokushima",
         512,
         "Japan",
         "2015",
         2
        ],
        [
         "University of Tokyo",
         14,
         "Japan",
         "2012",
         4
        ],
        [
         "University of Tokyo",
         14,
         "Japan",
         "2013",
         4
        ],
        [
         "University of Tokyo",
         13,
         "Japan",
         "2014",
         4
        ],
        [
         "University of Tokyo",
         13,
         "Japan",
         "2015",
         4
        ],
        [
         "University of Toledo",
         691,
         "USA",
         "2014",
         2
        ],
        [
         "University of Toledo",
         592,
         "USA",
         "2015",
         2
        ],
        [
         "University of Toronto",
         35,
         "Canada",
         "2012",
         4
        ],
        [
         "University of Toronto",
         29,
         "Canada",
         "2013",
         4
        ],
        [
         "University of Toronto",
         31,
         "Canada",
         "2014",
         4
        ],
        [
         "University of Toronto",
         32,
         "Canada",
         "2015",
         4
        ],
        [
         "University of Toyama",
         690,
         "Japan",
         "2014",
         2
        ],
        [
         "University of Toyama",
         666,
         "Japan",
         "2015",
         2
        ],
        [
         "University of Trento",
         597,
         "Italy",
         "2014",
         2
        ],
        [
         "University of Trento",
         561,
         "Italy",
         "2015",
         2
        ],
        [
         "University of Trieste",
         367,
         "Italy",
         "2014",
         2
        ],
        [
         "University of Trieste",
         342,
         "Italy",
         "2015",
         2
        ],
        [
         "University of Tromsø - The Arctic University of Norway",
         558,
         "Norway",
         "2014",
         2
        ],
        [
         "University of Tromsø - The Arctic University of Norway",
         527,
         "Norway",
         "2015",
         2
        ],
        [
         "University of Tsukuba",
         253,
         "Japan",
         "2014",
         2
        ],
        [
         "University of Tsukuba",
         262,
         "Japan",
         "2015",
         2
        ],
        [
         "University of Turin",
         231,
         "Italy",
         "2014",
         2
        ],
        [
         "University of Turin",
         221,
         "Italy",
         "2015",
         2
        ],
        [
         "University of Turku",
         391,
         "Finland",
         "2014",
         2
        ],
        [
         "University of Turku",
         383,
         "Finland",
         "2015",
         2
        ],
        [
         "University of Twente",
         445,
         "Netherlands",
         "2014",
         2
        ],
        [
         "University of Twente",
         408,
         "Netherlands",
         "2015",
         2
        ],
        [
         "University of Tübingen",
         159,
         "Germany",
         "2014",
         2
        ],
        [
         "University of Tübingen",
         156,
         "Germany",
         "2015",
         2
        ],
        [
         "University of Udine",
         533,
         "Italy",
         "2014",
         2
        ],
        [
         "University of Udine",
         500,
         "Italy",
         "2015",
         2
        ],
        [
         "University of Ulm",
         282,
         "Germany",
         "2014",
         2
        ],
        [
         "University of Ulm",
         278,
         "Germany",
         "2015",
         2
        ],
        [
         "University of Ulsan",
         493,
         "South Korea",
         "2014",
         2
        ],
        [
         "University of Ulsan",
         495,
         "South Korea",
         "2015",
         2
        ],
        [
         "University of Ulster",
         738,
         "United Kingdom",
         "2014",
         2
        ],
        [
         "University of Ulster",
         683,
         "United Kingdom",
         "2015",
         2
        ],
        [
         "University of Utah",
         38,
         "USA",
         "2012",
         4
        ],
        [
         "University of Utah",
         42,
         "USA",
         "2013",
         4
        ],
        [
         "University of Utah",
         62,
         "USA",
         "2014",
         4
        ],
        [
         "University of Utah",
         70,
         "USA",
         "2015",
         4
        ],
        [
         "University of Valencia",
         301,
         "Spain",
         "2014",
         2
        ],
        [
         "University of Valencia",
         294,
         "Spain",
         "2015",
         2
        ],
        [
         "University of Valenciennes and Hainaut-Cambresis",
         961,
         "France",
         "2014",
         2
        ],
        [
         "University of Valenciennes and Hainaut-Cambresis",
         966,
         "France",
         "2015",
         2
        ],
        [
         "University of Valladolid",
         757,
         "Spain",
         "2014",
         2
        ],
        [
         "University of Valladolid",
         841,
         "Spain",
         "2015",
         2
        ],
        [
         "University of Vermont",
         320,
         "USA",
         "2014",
         2
        ],
        [
         "University of Vermont",
         324,
         "USA",
         "2015",
         2
        ],
        [
         "University of Verona",
         368,
         "Italy",
         "2014",
         2
        ],
        [
         "University of Verona",
         411,
         "Italy",
         "2015",
         2
        ],
        [
         "University of Veterinary Medicine Vienna",
         880,
         "Austria",
         "2014",
         2
        ],
        [
         "University of Veterinary Medicine Vienna",
         848,
         "Austria",
         "2015",
         2
        ],
        [
         "University of Victoria",
         377,
         "Canada",
         "2014",
         2
        ],
        [
         "University of Victoria",
         352,
         "Canada",
         "2015",
         2
        ],
        [
         "University of Vienna",
         205,
         "Austria",
         "2014",
         2
        ],
        [
         "University of Vienna",
         223,
         "Austria",
         "2015",
         2
        ],
        [
         "University of Vigo",
         692,
         "Spain",
         "2014",
         2
        ],
        [
         "University of Vigo",
         686,
         "Spain",
         "2015",
         2
        ],
        [
         "University of Virginia",
         72,
         "United States of America",
         "2011",
         10
        ],
        [
         "University of Virginia",
         84,
         "USA",
         "2012",
         10
        ],
        [
         "University of Virginia",
         135,
         "United States of America",
         "2012",
         10
        ],
        [
         "University of Virginia",
         71,
         "USA",
         "2013",
         10
        ],
        [
         "University of Virginia",
         118,
         "United States of America",
         "2013",
         10
        ],
        [
         "University of Virginia",
         41,
         "USA",
         "2014",
         10
        ],
        [
         "University of Virginia",
         112,
         "United States of America",
         "2014",
         10
        ],
        [
         "University of Virginia",
         41,
         "USA",
         "2015",
         10
        ],
        [
         "University of Virginia",
         130,
         "United States of America",
         "2015",
         10
        ],
        [
         "University of Virginia",
         147,
         "United States of America",
         "2016",
         10
        ],
        [
         "University of Waikato",
         879,
         "New Zealand",
         "2014",
         2
        ],
        [
         "University of Waikato",
         937,
         "New Zealand",
         "2015",
         2
        ],
        [
         "University of Wales, Trinity Saint David",
         892,
         "United Kingdom",
         "2014",
         2
        ],
        [
         "University of Wales, Trinity Saint David",
         830,
         "United Kingdom",
         "2015",
         2
        ],
        [
         "University of Warsaw",
         419,
         "Poland",
         "2014",
         2
        ],
        [
         "University of Warsaw",
         462,
         "Poland",
         "2015",
         2
        ],
        [
         "University of Warwick",
         324,
         "United Kingdom",
         "2014",
         2
        ],
        [
         "University of Warwick",
         293,
         "United Kingdom",
         "2015",
         2
        ],
        [
         "University of Washington - Seattle",
         39,
         "USA",
         "2012",
         4
        ],
        [
         "University of Washington - Seattle",
         31,
         "USA",
         "2013",
         4
        ],
        [
         "University of Washington - Seattle",
         32,
         "USA",
         "2014",
         4
        ],
        [
         "University of Washington - Seattle",
         31,
         "USA",
         "2015",
         4
        ],
        [
         "University of Waterloo",
         280,
         "Canada",
         "2014",
         2
        ],
        [
         "University of Waterloo",
         269,
         "Canada",
         "2015",
         2
        ],
        [
         "University of Western Australia",
         225,
         "Australia",
         "2014",
         2
        ],
        [
         "University of Western Australia",
         216,
         "Australia",
         "2015",
         2
        ],
        [
         "University of Western Brittany",
         895,
         "France",
         "2014",
         2
        ],
        [
         "University of Western Brittany",
         896,
         "France",
         "2015",
         2
        ],
        [
         "University of Western Sydney",
         906,
         "Australia",
         "2014",
         2
        ],
        [
         "University of Western Sydney",
         882,
         "Australia",
         "2015",
         2
        ],
        [
         "University of Windsor",
         649,
         "Canada",
         "2014",
         2
        ],
        [
         "University of Windsor",
         538,
         "Canada",
         "2015",
         2
        ],
        [
         "University of Wisconsin-Madison",
         27,
         "United States of America",
         "2012",
         5
        ],
        [
         "University of Wisconsin-Madison",
         31,
         "United States of America",
         "2013",
         5
        ],
        [
         "University of Wisconsin-Madison",
         30,
         "United States of America",
         "2014",
         5
        ],
        [
         "University of Wisconsin-Madison",
         29,
         "United States of America",
         "2015",
         5
        ],
        [
         "University of Wisconsin-Madison",
         50,
         "United States of America",
         "2016",
         5
        ],
        [
         "University of Wisconsin–Madison",
         25,
         "USA",
         "2012",
         4
        ],
        [
         "University of Wisconsin–Madison",
         23,
         "USA",
         "2013",
         4
        ],
        [
         "University of Wisconsin–Madison",
         25,
         "USA",
         "2014",
         4
        ],
        [
         "University of Wisconsin–Madison",
         25,
         "USA",
         "2015",
         4
        ],
        [
         "University of Wisconsin–Milwaukee",
         537,
         "USA",
         "2014",
         2
        ],
        [
         "University of Wisconsin–Milwaukee",
         510,
         "USA",
         "2015",
         2
        ],
        [
         "University of Wollongong",
         506,
         "Australia",
         "2014",
         2
        ],
        [
         "University of Wollongong",
         467,
         "Australia",
         "2015",
         2
        ],
        [
         "University of Wrocław",
         914,
         "Poland",
         "2014",
         2
        ],
        [
         "University of Wrocław",
         921,
         "Poland",
         "2015",
         2
        ],
        [
         "University of Wyoming",
         485,
         "USA",
         "2014",
         2
        ],
        [
         "University of Wyoming",
         466,
         "USA",
         "2015",
         2
        ],
        [
         "University of Yamanashi",
         744,
         "Japan",
         "2014",
         2
        ],
        [
         "University of Yamanashi",
         759,
         "Japan",
         "2015",
         2
        ],
        [
         "University of York",
         336,
         "United Kingdom",
         "2014",
         2
        ],
        [
         "University of York",
         325,
         "United Kingdom",
         "2015",
         2
        ],
        [
         "University of Zagreb",
         564,
         "Croatia",
         "2014",
         2
        ],
        [
         "University of Zagreb",
         551,
         "Croatia",
         "2015",
         2
        ],
        [
         "University of Zaragoza",
         520,
         "Spain",
         "2014",
         2
        ],
        [
         "University of Zaragoza",
         484,
         "Spain",
         "2015",
         2
        ],
        [
         "University of Zurich",
         88,
         "Switzerland",
         "2012",
         4
        ],
        [
         "University of Zurich",
         74,
         "Switzerland",
         "2013",
         4
        ],
        [
         "University of Zurich",
         85,
         "Switzerland",
         "2014",
         4
        ],
        [
         "University of Zurich",
         96,
         "Switzerland",
         "2015",
         4
        ],
        [
         "University of the Algarve",
         962,
         "Portugal",
         "2014",
         2
        ],
        [
         "University of the Algarve",
         996,
         "Portugal",
         "2015",
         2
        ],
        [
         "University of the Balearic Islands",
         714,
         "Spain",
         "2014",
         2
        ],
        [
         "University of the Balearic Islands",
         660,
         "Spain",
         "2015",
         2
        ],
        [
         "University of the Basque Country",
         531,
         "Spain",
         "2014",
         2
        ],
        [
         "University of the Basque Country",
         485,
         "Spain",
         "2015",
         2
        ],
        [
         "University of the Republic (Uruguay)",
         933,
         "Uruguay",
         "2014",
         2
        ],
        [
         "University of the Republic (Uruguay)",
         867,
         "Uruguay",
         "2015",
         2
        ],
        [
         "University of the Ryukyus",
         850,
         "Japan",
         "2014",
         2
        ],
        [
         "University of the Ryukyus",
         855,
         "Japan",
         "2015",
         2
        ],
        [
         "University of the Witwatersrand",
         114,
         "South Africa",
         "2014",
         2
        ],
        [
         "University of the Witwatersrand",
         149,
         "South Africa",
         "2015",
         2
        ],
        [
         "University of Évry Val d'Essonne",
         739,
         "France",
         "2014",
         2
        ],
        [
         "University of Évry Val d'Essonne",
         750,
         "France",
         "2015",
         2
        ],
        [
         "Université catholique de Louvain",
         191,
         "Belgium",
         "2014",
         2
        ],
        [
         "Université catholique de Louvain",
         231,
         "Belgium",
         "2015",
         2
        ],
        [
         "Université de Namur",
         607,
         "Belgium",
         "2014",
         2
        ],
        [
         "Université de Namur",
         730,
         "Belgium",
         "2015",
         2
        ],
        [
         "Université libre de Bruxelles",
         139,
         "Belgium",
         "2014",
         2
        ],
        [
         "Université libre de Bruxelles",
         163,
         "Belgium",
         "2015",
         2
        ],
        [
         "Uppsala University",
         124,
         "Sweden",
         "2014",
         2
        ],
        [
         "Uppsala University",
         124,
         "Sweden",
         "2015",
         2
        ],
        [
         "Utah State University",
         524,
         "USA",
         "2014",
         2
        ],
        [
         "Utah State University",
         566,
         "USA",
         "2015",
         2
        ],
        [
         "Utrecht University",
         99,
         "Netherlands",
         "2012",
         4
        ],
        [
         "Utrecht University",
         84,
         "Netherlands",
         "2013",
         4
        ],
        [
         "Utrecht University",
         88,
         "Netherlands",
         "2014",
         4
        ],
        [
         "Utrecht University",
         87,
         "Netherlands",
         "2015",
         4
        ],
        [
         "VU University Amsterdam",
         144,
         "Netherlands",
         "2014",
         2
        ],
        [
         "VU University Amsterdam",
         129,
         "Netherlands",
         "2015",
         2
        ],
        [
         "Vanderbilt University",
         59,
         "USA",
         "2012",
         4
        ],
        [
         "Vanderbilt University",
         61,
         "USA",
         "2013",
         4
        ],
        [
         "Vanderbilt University",
         71,
         "USA",
         "2014",
         4
        ],
        [
         "Vanderbilt University",
         69,
         "USA",
         "2015",
         4
        ],
        [
         "Versailles Saint-Quentin-en-Yvelines University",
         405,
         "France",
         "2014",
         2
        ],
        [
         "Versailles Saint-Quentin-en-Yvelines University",
         371,
         "France",
         "2015",
         2
        ],
        [
         "Victoria University of Wellington",
         527,
         "New Zealand",
         "2014",
         2
        ],
        [
         "Victoria University of Wellington",
         588,
         "New Zealand",
         "2015",
         2
        ],
        [
         "Vienna University of Technology",
         427,
         "Austria",
         "2014",
         2
        ],
        [
         "Vienna University of Technology",
         427,
         "Austria",
         "2015",
         2
        ],
        [
         "Vilnius University",
         838,
         "Lithuania",
         "2014",
         2
        ],
        [
         "Vilnius University",
         791,
         "Lithuania",
         "2015",
         2
        ],
        [
         "Virginia Commonwealth University",
         240,
         "USA",
         "2014",
         2
        ],
        [
         "Virginia Commonwealth University",
         259,
         "USA",
         "2015",
         2
        ],
        [
         "Virginia Polytechnic Institute and State University",
         271,
         "USA",
         "2014",
         2
        ],
        [
         "Virginia Polytechnic Institute and State University",
         256,
         "USA",
         "2015",
         2
        ],
        [
         "Vita-Salute San Raffaele University",
         333,
         "Italy",
         "2014",
         2
        ],
        [
         "Vita-Salute San Raffaele University",
         329,
         "Italy",
         "2015",
         2
        ],
        [
         "Vrije Universiteit Brussel",
         248,
         "Belgium",
         "2014",
         2
        ],
        [
         "Vrije Universiteit Brussel",
         280,
         "Belgium",
         "2015",
         2
        ],
        [
         "Wageningen University and Research Centre",
         288,
         "Netherlands",
         "2014",
         2
        ],
        [
         "Wageningen University and Research Centre",
         276,
         "Netherlands",
         "2015",
         2
        ],
        [
         "Wake Forest University",
         145,
         "USA",
         "2014",
         2
        ],
        [
         "Wake Forest University",
         159,
         "USA",
         "2015",
         2
        ],
        [
         "Warsaw University of Technology",
         688,
         "Poland",
         "2014",
         2
        ],
        [
         "Warsaw University of Technology",
         646,
         "Poland",
         "2015",
         2
        ],
        [
         "Waseda University",
         40,
         "Japan",
         "2014",
         2
        ],
        [
         "Waseda University",
         38,
         "Japan",
         "2015",
         2
        ],
        [
         "Washington State University, Pullman",
         296,
         "USA",
         "2014",
         2
        ],
        [
         "Washington State University, Pullman",
         380,
         "USA",
         "2015",
         2
        ],
        [
         "Washington University in St Louis",
         38,
         "United States of America",
         "2011",
         6
        ],
        [
         "Washington University in St Louis",
         41,
         "United States of America",
         "2012",
         6
        ],
        [
         "Washington University in St Louis",
         44,
         "United States of America",
         "2013",
         6
        ],
        [
         "Washington University in St Louis",
         42,
         "United States of America",
         "2014",
         6
        ],
        [
         "Washington University in St Louis",
         42,
         "United States of America",
         "2015",
         6
        ],
        [
         "Washington University in St Louis",
         60,
         "United States of America",
         "2016",
         6
        ],
        [
         "Washington University in St. Louis",
         37,
         "USA",
         "2012",
         4
        ],
        [
         "Washington University in St. Louis",
         63,
         "USA",
         "2013",
         4
        ],
        [
         "Washington University in St. Louis",
         58,
         "USA",
         "2014",
         4
        ],
        [
         "Washington University in St. Louis",
         52,
         "USA",
         "2015",
         4
        ],
        [
         "Wayne State University",
         192,
         "USA",
         "2014",
         2
        ],
        [
         "Wayne State University",
         189,
         "USA",
         "2015",
         2
        ],
        [
         "Weizmann Institute of Science",
         18,
         "Israel",
         "2012",
         4
        ],
        [
         "Weizmann Institute of Science",
         33,
         "Israel",
         "2013",
         4
        ],
        [
         "Weizmann Institute of Science",
         38,
         "Israel",
         "2014",
         4
        ],
        [
         "Weizmann Institute of Science",
         39,
         "Israel",
         "2015",
         4
        ],
        [
         "Wesleyan University",
         307,
         "USA",
         "2014",
         2
        ],
        [
         "Wesleyan University",
         351,
         "USA",
         "2015",
         2
        ],
        [
         "West Virginia University",
         439,
         "USA",
         "2014",
         2
        ],
        [
         "West Virginia University",
         441,
         "USA",
         "2015",
         2
        ],
        [
         "Western Michigan University",
         969,
         "USA",
         "2014",
         1
        ],
        [
         "Western University (The University of Western Ontario)",
         152,
         "Canada",
         "2014",
         2
        ],
        [
         "Western University (The University of Western Ontario)",
         133,
         "Canada",
         "2015",
         2
        ],
        [
         "Wilfrid Laurier University",
         801,
         "Canada",
         "2014",
         2
        ],
        [
         "Wilfrid Laurier University",
         907,
         "Canada",
         "2015",
         2
        ],
        [
         "Williams College",
         95,
         "USA",
         "2012",
         1
        ],
        [
         "Wright State University - Dayton",
         823,
         "USA",
         "2014",
         2
        ],
        [
         "Wright State University - Dayton",
         833,
         "USA",
         "2015",
         2
        ],
        [
         "Wrocław University of Technology",
         922,
         "Poland",
         "2014",
         2
        ],
        [
         "Wrocław University of Technology",
         944,
         "Poland",
         "2015",
         2
        ],
        [
         "Wuhan University",
         438,
         "China",
         "2014",
         2
        ],
        [
         "Wuhan University",
         415,
         "China",
         "2015",
         2
        ],
        [
         "Wuhan University of Technology",
         751,
         "China",
         "2014",
         2
        ],
        [
         "Wuhan University of Technology",
         677,
         "China",
         "2015",
         2
        ],
        [
         "Xi'an Jiaotong University",
         399,
         "China",
         "2014",
         2
        ],
        [
         "Xi'an Jiaotong University",
         389,
         "China",
         "2015",
         2
        ],
        [
         "Xiamen University",
         354,
         "China",
         "2014",
         2
        ],
        [
         "Xiamen University",
         313,
         "China",
         "2015",
         2
        ],
        [
         "Xiangtan University",
         945,
         "China",
         "2014",
         2
        ],
        [
         "Xiangtan University",
         949,
         "China",
         "2015",
         2
        ],
        [
         "Xidian University",
         980,
         "China",
         "2014",
         2
        ],
        [
         "Xidian University",
         991,
         "China",
         "2015",
         2
        ],
        [
         "Yale University",
         8,
         "USA",
         "2012",
         4
        ],
        [
         "Yale University",
         10,
         "USA",
         "2013",
         4
        ],
        [
         "Yale University",
         10,
         "USA",
         "2014",
         4
        ],
        [
         "Yale University",
         11,
         "USA",
         "2015",
         4
        ],
        [
         "Yamagata University",
         762,
         "Japan",
         "2014",
         2
        ],
        [
         "Yamagata University",
         760,
         "Japan",
         "2015",
         2
        ],
        [
         "Yamaguchi University",
         743,
         "Japan",
         "2014",
         2
        ],
        [
         "Yamaguchi University",
         657,
         "Japan",
         "2015",
         2
        ],
        [
         "Yanbian University",
         1000,
         "China",
         "2014",
         1
        ],
        [
         "Yangzhou University",
         946,
         "China",
         "2014",
         2
        ],
        [
         "Yangzhou University",
         943,
         "China",
         "2015",
         2
        ],
        [
         "Yeshiva University",
         172,
         "USA",
         "2014",
         2
        ],
        [
         "Yeshiva University",
         171,
         "USA",
         "2015",
         2
        ],
        [
         "Yeungnam University",
         776,
         "South Korea",
         "2014",
         2
        ],
        [
         "Yeungnam University",
         770,
         "South Korea",
         "2015",
         2
        ],
        [
         "Yokohama City University",
         461,
         "Japan",
         "2014",
         2
        ],
        [
         "Yokohama City University",
         513,
         "Japan",
         "2015",
         2
        ],
        [
         "Yokohama National University",
         339,
         "Japan",
         "2014",
         2
        ],
        [
         "Yokohama National University",
         518,
         "Japan",
         "2015",
         2
        ],
        [
         "Yonsei University",
         107,
         "South Korea",
         "2014",
         2
        ],
        [
         "Yonsei University",
         98,
         "South Korea",
         "2015",
         2
        ],
        [
         "York University",
         398,
         "Canada",
         "2014",
         2
        ],
        [
         "York University",
         337,
         "Canada",
         "2015",
         2
        ],
        [
         "Yuan Ze University",
         952,
         "Taiwan",
         "2014",
         2
        ],
        [
         "Yuan Ze University",
         979,
         "Taiwan",
         "2015",
         2
        ],
        [
         "Zhejiang Normal University",
         991,
         "China",
         "2014",
         1
        ],
        [
         "Zhejiang University",
         206,
         "China",
         "2014",
         2
        ],
        [
         "Zhejiang University",
         191,
         "China",
         "2015",
         2
        ],
        [
         "Zhejiang University of Technology",
         981,
         "China",
         "2014",
         2
        ],
        [
         "Zhejiang University of Technology",
         984,
         "China",
         "2015",
         2
        ],
        [
         "Zhengzhou University",
         818,
         "China",
         "2014",
         2
        ],
        [
         "Zhengzhou University",
         795,
         "China",
         "2015",
         2
        ],
        [
         "Åbo Akademi University",
         698,
         "Finland",
         "2014",
         2
        ],
        [
         "Åbo Akademi University",
         735,
         "Finland",
         "2015",
         2
        ],
        [
         "École Centrale Paris",
         523,
         "France",
         "2014",
         2
        ],
        [
         "École Centrale Paris",
         548,
         "France",
         "2015",
         2
        ],
        [
         "École Polytechnique",
         61,
         "France",
         "2012",
         4
        ],
        [
         "École Polytechnique",
         86,
         "France",
         "2013",
         4
        ],
        [
         "École Polytechnique",
         36,
         "France",
         "2014",
         4
        ],
        [
         "École Polytechnique",
         36,
         "France",
         "2015",
         4
        ],
        [
         "École Polytechnique de Montréal",
         784,
         "Canada",
         "2014",
         2
        ],
        [
         "École Polytechnique de Montréal",
         781,
         "Canada",
         "2015",
         2
        ],
        [
         "École centrale de Lyon",
         881,
         "France",
         "2015",
         1
        ],
        [
         "École normale supérieure - Paris",
         54,
         "France",
         "2012",
         4
        ],
        [
         "École normale supérieure - Paris",
         64,
         "France",
         "2013",
         4
        ],
        [
         "École normale supérieure - Paris",
         35,
         "France",
         "2014",
         4
        ],
        [
         "École normale supérieure - Paris",
         37,
         "France",
         "2015",
         4
        ],
        [
         "École normale supérieure de Cachan",
         721,
         "France",
         "2015",
         1
        ],
        [
         "École normale supérieure de Lyon",
         462,
         "France",
         "2014",
         2
        ],
        [
         "École normale supérieure de Lyon",
         471,
         "France",
         "2015",
         2
        ],
        [
         "Örebro University",
         656,
         "Sweden",
         "2014",
         2
        ],
        [
         "Örebro University",
         639,
         "Sweden",
         "2015",
         2
        ]
       ],
       "datasetInfos": [],
       "dbfsResultPath": null,
       "isJsonSchema": true,
       "metadata": {},
       "overflow": false,
       "plotOptions": {
        "customPlotOptions": {},
        "displayType": "table",
        "pivotAggregation": null,
        "pivotColumns": null,
        "xColumns": null,
        "yColumns": null
       },
       "removedWidgets": [],
       "schema": [
        {
         "metadata": "{}",
         "name": "institution",
         "type": "\"string\""
        },
        {
         "metadata": "{}",
         "name": "world_rank",
         "type": "\"integer\""
        },
        {
         "metadata": "{}",
         "name": "country",
         "type": "\"string\""
        },
        {
         "metadata": "{}",
         "name": "year",
         "type": "\"string\""
        },
        {
         "metadata": "{}",
         "name": "count",
         "type": "\"long\""
        }
       ],
       "type": "table"
      }
     },
     "output_type": "display_data"
    },
    {
     "output_type": "stream",
     "name": "stdout",
     "output_type": "stream",
     "text": [
      "snapshot of the discrepancy in the data\n"
     ]
    },
    {
     "output_type": "display_data",
     "data": {
      "text/html": [
       "<style scoped>\n",
       "  .table-result-container {\n",
       "    max-height: 300px;\n",
       "    overflow: auto;\n",
       "  }\n",
       "  table, th, td {\n",
       "    border: 1px solid black;\n",
       "    border-collapse: collapse;\n",
       "  }\n",
       "  th, td {\n",
       "    padding: 5px;\n",
       "  }\n",
       "  th {\n",
       "    text-align: left;\n",
       "  }\n",
       "</style><div class='table-result-container'><table class='table-result'><thead style='background-color: white'><tr><th>world_rank</th><th>school</th><th>country</th><th>year</th></tr></thead><tbody><tr><td>161</td><td>Arizona State University</td><td>United States of America</td><td>2011</td></tr><tr><td>127</td><td>Arizona State University</td><td>United States of America</td><td>2012</td></tr><tr><td>148</td><td>Arizona State University</td><td>United States of America</td><td>2013</td></tr><tr><td>146</td><td>Arizona State University</td><td>United States of America</td><td>2014</td></tr><tr><td>182</td><td>Arizona State University</td><td>United States of America</td><td>2015</td></tr><tr><td>189</td><td>Arizona State University</td><td>United States of America</td><td>2016</td></tr></tbody></table></div>"
      ]
     },
     "metadata": {
      "application/vnd.databricks.v1+output": {
       "addedWidgets": {},
       "aggData": [],
       "aggError": "",
       "aggOverflow": false,
       "aggSchema": [],
       "aggSeriesLimitReached": false,
       "aggType": "",
       "arguments": {},
       "columnCustomDisplayInfos": {},
       "data": [
        [
         "161",
         "Arizona State University",
         "United States of America",
         "2011"
        ],
        [
         "127",
         "Arizona State University",
         "United States of America",
         "2012"
        ],
        [
         "148",
         "Arizona State University",
         "United States of America",
         "2013"
        ],
        [
         "146",
         "Arizona State University",
         "United States of America",
         "2014"
        ],
        [
         "182",
         "Arizona State University",
         "United States of America",
         "2015"
        ],
        [
         "189",
         "Arizona State University",
         "United States of America",
         "2016"
        ]
       ],
       "datasetInfos": [],
       "dbfsResultPath": null,
       "isJsonSchema": true,
       "metadata": {},
       "overflow": false,
       "plotOptions": {
        "customPlotOptions": {},
        "displayType": "table",
        "pivotAggregation": null,
        "pivotColumns": null,
        "xColumns": null,
        "yColumns": null
       },
       "removedWidgets": [],
       "schema": [
        {
         "metadata": "{}",
         "name": "world_rank",
         "type": "\"string\""
        },
        {
         "metadata": "{}",
         "name": "school",
         "type": "\"string\""
        },
        {
         "metadata": "{}",
         "name": "country",
         "type": "\"string\""
        },
        {
         "metadata": "{}",
         "name": "year",
         "type": "\"string\""
        }
       ],
       "type": "table"
      }
     },
     "output_type": "display_data"
    },
    {
     "output_type": "display_data",
     "data": {
      "text/html": [
       "<style scoped>\n",
       "  .table-result-container {\n",
       "    max-height: 300px;\n",
       "    overflow: auto;\n",
       "  }\n",
       "  table, th, td {\n",
       "    border: 1px solid black;\n",
       "    border-collapse: collapse;\n",
       "  }\n",
       "  th, td {\n",
       "    padding: 5px;\n",
       "  }\n",
       "  th {\n",
       "    text-align: left;\n",
       "  }\n",
       "</style><div class='table-result-container'><table class='table-result'><thead style='background-color: white'><tr><th>world_rank</th><th>institution</th><th>country</th><th>year</th></tr></thead><tbody><tr><td>80</td><td>Arizona State University</td><td>USA</td><td>2012</td></tr><tr><td>73</td><td>Arizona State University</td><td>USA</td><td>2013</td></tr><tr><td>106</td><td>Arizona State University</td><td>USA</td><td>2014</td></tr><tr><td>97</td><td>Arizona State University</td><td>USA</td><td>2015</td></tr></tbody></table></div>"
      ]
     },
     "metadata": {
      "application/vnd.databricks.v1+output": {
       "addedWidgets": {},
       "aggData": [],
       "aggError": "",
       "aggOverflow": false,
       "aggSchema": [],
       "aggSeriesLimitReached": false,
       "aggType": "",
       "arguments": {},
       "columnCustomDisplayInfos": {},
       "data": [
        [
         80,
         "Arizona State University",
         "USA",
         2012
        ],
        [
         73,
         "Arizona State University",
         "USA",
         2013
        ],
        [
         106,
         "Arizona State University",
         "USA",
         2014
        ],
        [
         97,
         "Arizona State University",
         "USA",
         2015
        ]
       ],
       "datasetInfos": [],
       "dbfsResultPath": null,
       "isJsonSchema": true,
       "metadata": {},
       "overflow": false,
       "plotOptions": {
        "customPlotOptions": {},
        "displayType": "table",
        "pivotAggregation": null,
        "pivotColumns": null,
        "xColumns": null,
        "yColumns": null
       },
       "removedWidgets": [],
       "schema": [
        {
         "metadata": "{}",
         "name": "world_rank",
         "type": "\"integer\""
        },
        {
         "metadata": "{}",
         "name": "institution",
         "type": "\"string\""
        },
        {
         "metadata": "{}",
         "name": "country",
         "type": "\"string\""
        },
        {
         "metadata": "{}",
         "name": "year",
         "type": "\"integer\""
        }
       ],
       "type": "table"
      }
     },
     "output_type": "display_data"
    },
    {
     "output_type": "stream",
     "name": "stdout",
     "output_type": "stream",
     "text": [
      "-----------------------------------------------------\nCALCULATING STANDARD DEVIATION IN RANKS OVER THE YEARS THEY'RE DOCUMENTED\n"
     ]
    },
    {
     "output_type": "display_data",
     "data": {
      "text/html": [
       "<style scoped>\n",
       "  .table-result-container {\n",
       "    max-height: 300px;\n",
       "    overflow: auto;\n",
       "  }\n",
       "  table, th, td {\n",
       "    border: 1px solid black;\n",
       "    border-collapse: collapse;\n",
       "  }\n",
       "  th, td {\n",
       "    padding: 5px;\n",
       "  }\n",
       "  th {\n",
       "    text-align: left;\n",
       "  }\n",
       "</style><div class='table-result-container'><table class='table-result'><thead style='background-color: white'><tr><th>institution</th><th>stddev_samp(world_rank)</th><th>stddev_samp(national_rank)</th></tr></thead><tbody><tr><td>Peking Union Medical College</td><td>239.00209204105306</td><td>14.142135623730951</td></tr><tr><td>Osaka City University</td><td>229.1025971044414</td><td>8.48528137423857</td></tr><tr><td>Dankook University</td><td>164.75588001646557</td><td>5.656854249492381</td></tr><tr><td>University of Lübeck</td><td>146.37110370561533</td><td>2.1213203435596424</td></tr><tr><td>Cranfield University</td><td>139.30003589374985</td><td>6.363961030678928</td></tr><tr><td>University of Hull</td><td>133.64318164425748</td><td>7.7781745930520225</td></tr><tr><td>University of Eastern Piedmont Amedeo Avogadro</td><td>127.27922061357856</td><td>7.0710678118654755</td></tr><tr><td>Chung Yuan Christian University</td><td>126.572113832392</td><td>3.5355339059327378</td></tr><tr><td>Yokohama National University</td><td>126.572113832392</td><td>8.48528137423857</td></tr><tr><td>University of Málaga</td><td>123.03657992645927</td><td>7.0710678118654755</td></tr><tr><td>Putra University, Malaysia</td><td>118.79393923933998</td><td>0.0</td></tr><tr><td>University of Science, Malaysia</td><td>118.08683245815344</td><td>0.0</td></tr><tr><td>Kobe University</td><td>118.08683245815344</td><td>2.1213203435596424</td></tr><tr><td>University of Oldenburg</td><td>116.67261889578035</td><td>2.1213203435596424</td></tr><tr><td>Sogang University</td><td>108.18733752154178</td><td>4.949747468305833</td></tr><tr><td>Tottori University</td><td>107.48023074035522</td><td>8.48528137423857</td></tr><tr><td>King Saud University</td><td>105.35891039679558</td><td>0.0</td></tr><tr><td>Indian Institute of Technology Kanpur</td><td>102.5304832720494</td><td>3.5355339059327378</td></tr><tr><td>Beihang University</td><td>102.5304832720494</td><td>9.899494936611665</td></tr><tr><td>Sharif University of Technology</td><td>96.16652224137046</td><td>0.7071067811865476</td></tr><tr><td>AGH University of Science and Technology</td><td>91.21677477306463</td><td>0.7071067811865476</td></tr><tr><td>University of New England (Australia)</td><td>90.50966799187809</td><td>3.5355339059327378</td></tr><tr><td>Université de Namur</td><td>86.97413408594535</td><td>0.0</td></tr><tr><td>American University of Beirut</td><td>85.55992052357225</td><td>0.0</td></tr><tr><td>Saint Petersburg State University</td><td>85.55992052357225</td><td>0.7071067811865476</td></tr><tr><td>Catholic University of Korea</td><td>83.43860018001261</td><td>4.242640687119285</td></tr><tr><td>Louisiana State University - Baton Rouge</td><td>82.02438661763951</td><td>22.627416997969522</td></tr><tr><td>University of Oklahoma - Norman Campus</td><td>81.31727983645297</td><td>19.091883092036785</td></tr><tr><td>Hunter College</td><td>80.61017305526642</td><td>9.192388155425117</td></tr><tr><td>Flinders University</td><td>79.90306627407988</td><td>4.242640687119285</td></tr><tr><td>University of Windsor</td><td>78.48885271170677</td><td>0.7071067811865476</td></tr><tr><td>University of Seoul</td><td>77.78174593052023</td><td>2.8284271247461903</td></tr><tr><td>Jinan University</td><td>77.07463914933368</td><td>14.849242404917497</td></tr><tr><td>Wilfrid Laurier University</td><td>74.95331880577403</td><td>2.1213203435596424</td></tr><tr><td>Mississippi State University</td><td>72.8319984622144</td><td>14.142135623730951</td></tr><tr><td>New Jersey Institute of Technology</td><td>70.71067811865476</td><td>11.313708498984761</td></tr><tr><td>University of Toledo</td><td>70.0035713374682</td><td>14.849242404917497</td></tr><tr><td>Soochow University (Suzhou)</td><td>69.29646455628166</td><td>2.1213203435596424</td></tr><tr><td>Nanjing University of Science and Technology</td><td>66.46803743153546</td><td>9.192388155425117</td></tr><tr><td>Baylor University</td><td>66.46803743153546</td><td>13.435028842544403</td></tr><tr><td>University of Dayton</td><td>65.76093065034893</td><td>15.556349186104045</td></tr><tr><td>National Chung Hsing University</td><td>64.34671708797582</td><td>1.4142135623730951</td></tr><tr><td>China Medical University (Taiwan)</td><td>63.63961030678928</td><td>2.1213203435596424</td></tr><tr><td>Eötvös Loránd University</td><td>61.518289963229634</td><td>0.0</td></tr><tr><td>Yamaguchi University</td><td>60.81118318204309</td><td>7.0710678118654755</td></tr><tr><td>Ritsumeikan University</td><td>60.81118318204309</td><td>4.949747468305833</td></tr><tr><td>East China Normal University</td><td>60.81118318204309</td><td>0.0</td></tr><tr><td>University of Tasmania</td><td>60.10407640085654</td><td>2.1213203435596424</td></tr><tr><td>University of Texas at El Paso</td><td>60.10407640085654</td><td>5.656854249492381</td></tr><tr><td>University of Valladolid</td><td>59.39696961966999</td><td>2.8284271247461903</td></tr><tr><td>Washington State University, Pullman</td><td>59.39696961966999</td><td>12.020815280171307</td></tr><tr><td>University of Belgrade</td><td>58.68986283848344</td><td>0.0</td></tr><tr><td>Missouri University of Science and Technology</td><td>57.27564927611035</td><td>11.313708498984761</td></tr><tr><td>University of Mississippi - Oxford Campus</td><td>57.27564927611035</td><td>14.849242404917497</td></tr><tr><td>Palacký University, Olomouc</td><td>56.568542494923804</td><td>0.0</td></tr><tr><td>Kindai University</td><td>55.86143571373726</td><td>4.949747468305833</td></tr><tr><td>The Catholic University of America</td><td>55.86143571373726</td><td>3.5355339059327378</td></tr><tr><td>Chung-Ang University</td><td>55.154328932550705</td><td>4.242640687119285</td></tr><tr><td>University of South Alabama</td><td>54.44722215136416</td><td>4.242640687119285</td></tr><tr><td>Fukuoka University</td><td>53.74011537017761</td><td>2.1213203435596424</td></tr><tr><td>University of Greifswald</td><td>53.74011537017761</td><td>0.7071067811865476</td></tr><tr><td>Tilburg University</td><td>53.033008588991066</td><td>0.0</td></tr><tr><td>Howard University</td><td>53.033008588991066</td><td>9.192388155425117</td></tr><tr><td>Shizuoka University</td><td>53.033008588991066</td><td>2.8284271247461903</td></tr><tr><td>National Taiwan Normal University</td><td>53.033008588991066</td><td>0.7071067811865476</td></tr><tr><td>Polytechnic University of Turin</td><td>52.32590180780452</td><td>2.1213203435596424</td></tr><tr><td>Pontifical Catholic University of Chile</td><td>52.32590180780452</td><td>0.0</td></tr><tr><td>Birkbeck, University of London</td><td>52.32590180780452</td><td>5.656854249492381</td></tr><tr><td>Wuhan University of Technology</td><td>52.32590180780452</td><td>1.4142135623730951</td></tr><tr><td>Middle East Technical University</td><td>52.32590180780452</td><td>0.0</td></tr><tr><td>China Agricultural University</td><td>51.61879502661797</td><td>0.0</td></tr><tr><td>Konkuk University</td><td>51.61879502661797</td><td>1.4142135623730951</td></tr><tr><td>University of Arkansas - Fayetteville</td><td>51.61879502661797</td><td>9.899494936611665</td></tr><tr><td>Donghua University</td><td>50.91168824543142</td><td>1.4142135623730951</td></tr><tr><td>Hirosaki University</td><td>50.91168824543142</td><td>1.4142135623730951</td></tr><tr><td>University of Massachusetts Lowell</td><td>50.204581464244875</td><td>3.5355339059327378</td></tr><tr><td>Ehime University</td><td>49.49747468305833</td><td>2.8284271247461903</td></tr><tr><td>Medical University of Graz</td><td>48.79036790187178</td><td>0.7071067811865476</td></tr><tr><td>University of Science and Technology Beijing</td><td>48.79036790187178</td><td>0.0</td></tr><tr><td>Novosibirsk State University</td><td>48.79036790187178</td><td>1.4142135623730951</td></tr><tr><td>University of Gothenburg</td><td>48.79036790187178</td><td>0.7071067811865476</td></tr><tr><td>Nagasaki University</td><td>48.79036790187178</td><td>2.1213203435596424</td></tr><tr><td>University of Pretoria</td><td>48.79036790187178</td><td>0.0</td></tr><tr><td>University of Essex</td><td>48.79036790187178</td><td>2.8284271247461903</td></tr><tr><td>Clarkson University</td><td>48.79036790187178</td><td>4.242640687119285</td></tr><tr><td>Manchester Metropolitan University</td><td>48.08326112068523</td><td>2.1213203435596424</td></tr><tr><td>University of Tokushima</td><td>48.08326112068523</td><td>2.1213203435596424</td></tr><tr><td>Tokyo University of Science</td><td>48.08326112068523</td><td>2.1213203435596424</td></tr><tr><td>National University of Colombia</td><td>47.37615433949868</td><td>0.0</td></tr><tr><td>University of North Carolina at Charlotte</td><td>47.37615433949868</td><td>4.949747468305833</td></tr><tr><td>Beijing Institute of Technology</td><td>47.37615433949868</td><td>2.1213203435596424</td></tr><tr><td>University of the Republic (Uruguay)</td><td>46.66904755831214</td><td>45.96194077712559</td></tr><tr><td>University of Graz</td><td>46.66904755831214</td><td>0.7071067811865476</td></tr><tr><td>Boğaziçi University</td><td>46.66904755831214</td><td>1.4142135623730951</td></tr><tr><td>Nihon University</td><td>46.66904755831214</td><td>6.363961030678928</td></tr><tr><td>Harbin Institute of Technology</td><td>45.96194077712559</td><td>3.5355339059327378</td></tr><tr><td>University of Electro-Communications</td><td>45.96194077712559</td><td>2.1213203435596424</td></tr><tr><td>University of Los Andes (Colombia)</td><td>45.96194077712559</td><td>0.0</td></tr><tr><td>Grenoble Institute of Technology</td><td>45.96194077712559</td><td>2.1213203435596424</td></tr><tr><td>Royal College of Surgeons in Ireland</td><td>45.254833995939045</td><td>0.0</td></tr><tr><td>Tarbiat Modares University</td><td>45.254833995939045</td><td>2.1213203435596424</td></tr><tr><td>Brunel University</td><td>44.54772721475249</td><td>0.7071067811865476</td></tr><tr><td>University of Sussex</td><td>44.54772721475249</td><td>4.949747468305833</td></tr><tr><td>Tianjin University</td><td>44.54772721475249</td><td>1.4142135623730951</td></tr><tr><td>Dalian University of Technology</td><td>44.54772721475249</td><td>1.4142135623730951</td></tr><tr><td>Ankara University</td><td>44.54772721475249</td><td>0.7071067811865476</td></tr><tr><td>Fluminense Federal University</td><td>44.54772721475249</td><td>0.0</td></tr><tr><td>University of A Coruña</td><td>43.840620433565945</td><td>0.0</td></tr><tr><td>University of Wales, Trinity Saint David</td><td>43.840620433565945</td><td>1.4142135623730951</td></tr><tr><td>University of L'Aquila</td><td>43.840620433565945</td><td>2.1213203435596424</td></tr><tr><td>Australian National University</td><td>43.485629810317796</td><td>2.0816659994661326</td></tr><tr><td>Victoria University of Wellington</td><td>43.1335136523794</td><td>0.0</td></tr><tr><td>University of Akron</td><td>43.1335136523794</td><td>6.363961030678928</td></tr><tr><td>York University</td><td>43.1335136523794</td><td>2.1213203435596424</td></tr><tr><td>Indian Institute of Technology Bombay</td><td>43.1335136523794</td><td>1.4142135623730951</td></tr><tr><td>University of Denver</td><td>42.42640687119285</td><td>11.313708498984761</td></tr><tr><td>University of Bonn</td><td>42.42640687119285</td><td>3.5355339059327378</td></tr><tr><td>South China University of Technology</td><td>41.71930009000631</td><td>0.0</td></tr><tr><td>University of Salzburg</td><td>41.71930009000631</td><td>0.0</td></tr><tr><td>University of Fribourg</td><td>41.71930009000631</td><td>0.0</td></tr><tr><td>University of Savoy</td><td>41.012193308819754</td><td>2.8284271247461903</td></tr><tr><td>University of Waikato</td><td>41.012193308819754</td><td>0.0</td></tr><tr><td>Shinshu University</td><td>41.012193308819754</td><td>2.8284271247461903</td></tr><tr><td>University of Miyazaki</td><td>41.012193308819754</td><td>0.7071067811865476</td></tr><tr><td>Queens College, City University of New York</td><td>41.012193308819754</td><td>2.8284271247461903</td></tr><tr><td>Innsbruck Medical University</td><td>40.30508652763321</td><td>0.7071067811865476</td></tr><tr><td>University of Delhi</td><td>40.30508652763321</td><td>0.0</td></tr><tr><td>Lanzhou University</td><td>40.30508652763321</td><td>0.7071067811865476</td></tr><tr><td>Trent University</td><td>39.59797974644666</td><td>0.7071067811865476</td></tr><tr><td>Graz University of Technology</td><td>39.59797974644666</td><td>1.4142135623730951</td></tr><tr><td>Technion – Israel Institute of Technology</td><td>39.04271165446034</td><td>0.5</td></tr><tr><td>University of Ulster</td><td>38.890872965260115</td><td>5.656854249492381</td></tr><tr><td>Nanjing University of Technology</td><td>38.890872965260115</td><td>0.7071067811865476</td></tr><tr><td>Showa University</td><td>38.890872965260115</td><td>4.242640687119285</td></tr><tr><td>Czech Technical University in Prague</td><td>38.890872965260115</td><td>0.0</td></tr><tr><td>Feng Chia University</td><td>38.890872965260115</td><td>2.1213203435596424</td></tr><tr><td>Federal University of Santa Maria</td><td>38.890872965260115</td><td>2.8284271247461903</td></tr><tr><td>University of Iceland</td><td>38.890872965260115</td><td>0.0</td></tr><tr><td>University of Texas at Arlington</td><td>38.890872965260115</td><td>7.7781745930520225</td></tr><tr><td>University of the Balearic Islands</td><td>38.18376618407357</td><td>2.8284271247461903</td></tr><tr><td>Mines ParisTech</td><td>37.58102358017053</td><td>0.5773502691896258</td></tr><tr><td>Indian Institute of Science</td><td>37.476659402887016</td><td>0.0</td></tr><tr><td>University of Poitiers</td><td>37.476659402887016</td><td>0.7071067811865476</td></tr><tr><td>Linköping University</td><td>37.476659402887016</td><td>0.0</td></tr><tr><td>Chiang Mai University</td><td>37.476659402887016</td><td>0.0</td></tr><tr><td>University of Rhode Island</td><td>37.476659402887016</td><td>6.363961030678928</td></tr><tr><td>Royal Veterinary College, University of London</td><td>36.76955262170047</td><td>0.7071067811865476</td></tr><tr><td>Panjab University</td><td>36.76955262170047</td><td>0.7071067811865476</td></tr><tr><td>Yokohama City University</td><td>36.76955262170047</td><td>1.4142135623730951</td></tr><tr><td>University of Newcastle</td><td>36.76955262170047</td><td>0.7071067811865476</td></tr><tr><td>New Mexico State University</td><td>36.76955262170047</td><td>9.192388155425117</td></tr><tr><td>City University London</td><td>36.062445840513924</td><td>0.7071067811865476</td></tr><tr><td>Saitama University</td><td>36.062445840513924</td><td>2.8284271247461903</td></tr><tr><td>Pompeu Fabra University</td><td>36.062445840513924</td><td>1.4142135623730951</td></tr><tr><td>University of Technology, Sydney</td><td>36.062445840513924</td><td>0.7071067811865476</td></tr><tr><td>East China University of Science and Technology</td><td>36.062445840513924</td><td>0.0</td></tr><tr><td>Tongji University</td><td>35.35533905932738</td><td>5.656854249492381</td></tr><tr><td>University of Minho</td><td>35.35533905932738</td><td>0.0</td></tr><tr><td>Kagoshima University</td><td>34.64823227814083</td><td>1.4142135623730951</td></tr><tr><td>Swinburne University of Technology</td><td>34.64823227814083</td><td>0.7071067811865476</td></tr><tr><td>University of Stirling</td><td>34.64823227814083</td><td>0.7071067811865476</td></tr><tr><td>University of Cádiz</td><td>34.64823227814083</td><td>1.4142135623730951</td></tr><tr><td>Jiangnan University</td><td>34.64823227814083</td><td>1.4142135623730951</td></tr><tr><td>University of Milan - Bicocca</td><td>34.64823227814083</td><td>2.8284271247461903</td></tr><tr><td>Technical University of Berlin</td><td>33.94112549695428</td><td>4.242640687119285</td></tr><tr><td>Gazi University</td><td>33.94112549695428</td><td>0.7071067811865476</td></tr><tr><td>University of Nebraska Medical Center</td><td>33.94112549695428</td><td>5.656854249492381</td></tr><tr><td>National Taiwan Ocean University</td><td>33.23401871576773</td><td>0.0</td></tr><tr><td>Oklahoma State University–Stillwater</td><td>33.23401871576773</td><td>4.949747468305833</td></tr><tr><td>Northern Illinois University</td><td>33.23401871576773</td><td>7.7781745930520225</td></tr><tr><td>Comenius University in Bratislava</td><td>33.23401871576773</td><td>0.0</td></tr><tr><td>University of Camerino</td><td>33.23401871576773</td><td>0.0</td></tr><tr><td>National Technical University of Athens</td><td>33.23401871576773</td><td>0.0</td></tr><tr><td>Dongguk University</td><td>33.23401871576773</td><td>0.0</td></tr><tr><td>Vilnius University</td><td>33.23401871576773</td><td>0.0</td></tr><tr><td>Sapporo Medical University</td><td>33.23401871576773</td><td>0.0</td></tr><tr><td>Darmstadt University of Technology</td><td>33.23401871576773</td><td>3.5355339059327378</td></tr><tr><td>Mie University</td><td>32.526911934581186</td><td>4.949747468305833</td></tr><tr><td>Memorial University of Newfoundland</td><td>32.526911934581186</td><td>0.0</td></tr><tr><td>University of the Basque Country</td><td>32.526911934581186</td><td>0.7071067811865476</td></tr><tr><td>Alexandria University</td><td>32.526911934581186</td><td>1.4142135623730951</td></tr><tr><td>University of Canterbury</td><td>32.526911934581186</td><td>0.0</td></tr><tr><td>North Dakota State University - Main Campus</td><td>32.526911934581186</td><td>2.1213203435596424</td></tr><tr><td>Inje University</td><td>31.81980515339464</td><td>2.1213203435596424</td></tr><tr><td>Rochester Institute of Technology</td><td>31.81980515339464</td><td>3.5355339059327378</td></tr><tr><td>University of New Hampshire</td><td>31.81980515339464</td><td>8.48528137423857</td></tr><tr><td>Medical University of Vienna</td><td>31.81980515339464</td><td>0.0</td></tr><tr><td>Shandong University</td><td>31.11269837220809</td><td>1.4142135623730951</td></tr><tr><td>Gunma University</td><td>31.11269837220809</td><td>4.242640687119285</td></tr><tr><td>East Carolina University</td><td>31.11269837220809</td><td>2.8284271247461903</td></tr><tr><td>Nagoya City University</td><td>31.11269837220809</td><td>0.7071067811865476</td></tr><tr><td>Jilin University</td><td>31.11269837220809</td><td>2.8284271247461903</td></tr><tr><td>Wesleyan University</td><td>31.11269837220809</td><td>4.949747468305833</td></tr><tr><td>Niigata University</td><td>31.11269837220809</td><td>1.4142135623730951</td></tr><tr><td>Lille 2 University of Health and Law</td><td>31.11269837220809</td><td>3.5355339059327378</td></tr><tr><td>Northeastern University</td><td>30.405591591021544</td><td>7.7781745930520225</td></tr><tr><td>University of Portsmouth</td><td>30.405591591021544</td><td>2.1213203435596424</td></tr><tr><td>University of Warsaw</td><td>30.405591591021544</td><td>0.7071067811865476</td></tr><tr><td>Charles University in Prague</td><td>30.405591591021544</td><td>0.0</td></tr><tr><td>Toho University</td><td>30.405591591021544</td><td>0.7071067811865476</td></tr><tr><td>University of Verona</td><td>30.405591591021544</td><td>4.242640687119285</td></tr><tr><td>Norwegian University of Science and Technology</td><td>30.405591591021544</td><td>0.0</td></tr><tr><td>Beijing University of Chemical Technology</td><td>30.405591591021544</td><td>2.1213203435596424</td></tr><tr><td>Oakland University</td><td>29.698484809834994</td><td>2.1213203435596424</td></tr><tr><td>Utah State University</td><td>29.698484809834994</td><td>2.8284271247461903</td></tr><tr><td>Warsaw University of Technology</td><td>29.698484809834994</td><td>0.7071067811865476</td></tr><tr><td>National University of Ireland, Galway</td><td>29.698484809834994</td><td>0.0</td></tr><tr><td>University of Perpignan Via Domitia</td><td>29.698484809834994</td><td>1.4142135623730951</td></tr><tr><td>Indian Institute of Technology Madras</td><td>29.698484809834994</td><td>2.1213203435596424</td></tr><tr><td>Chosun University</td><td>28.991378028648448</td><td>0.7071067811865476</td></tr><tr><td>University of Hertfordshire</td><td>28.991378028648448</td><td>2.1213203435596424</td></tr><tr><td>Binghamton University</td><td>28.991378028648448</td><td>7.0710678118654755</td></tr><tr><td>Chongqing University</td><td>28.991378028648448</td><td>0.7071067811865476</td></tr><tr><td>Xiamen University</td><td>28.991378028648448</td><td>0.7071067811865476</td></tr><tr><td>Université catholique de Louvain</td><td>28.284271247461902</td><td>0.0</td></tr><tr><td>Polytechnic University of Catalonia</td><td>28.284271247461902</td><td>0.7071067811865476</td></tr><tr><td>King Fahd University of Petroleum and Minerals</td><td>28.284271247461902</td><td>0.0</td></tr><tr><td>Indian Institute of Technology Kharagpur</td><td>28.284271247461902</td><td>0.7071067811865476</td></tr><tr><td>Nanjing University of Aeronautics and Astronautics</td><td>28.284271247461902</td><td>0.0</td></tr><tr><td>Masaryk University</td><td>28.284271247461902</td><td>0.0</td></tr><tr><td>Nagoya Institute of Technology</td><td>28.284271247461902</td><td>2.1213203435596424</td></tr><tr><td>Nagoya University</td><td>27.598309126949545</td><td>2.6299556396765835</td></tr><tr><td>University of Wollongong</td><td>27.577164466275352</td><td>0.0</td></tr><tr><td>Rensselaer Polytechnic Institute</td><td>27.577164466275352</td><td>7.0710678118654755</td></tr><tr><td>Marche Polytechnic University</td><td>27.577164466275352</td><td>2.1213203435596424</td></tr><tr><td>University of Rouen</td><td>27.577164466275352</td><td>0.7071067811865476</td></tr><tr><td>University of North Dakota</td><td>27.577164466275352</td><td>1.4142135623730951</td></tr><tr><td>University of New Brunswick</td><td>27.577164466275352</td><td>0.0</td></tr><tr><td>Rice University</td><td>27.31757675929547</td><td>8.906926143924924</td></tr><tr><td>University of Nottingham</td><td>27.073972741361768</td><td>3.0550504633038935</td></tr><tr><td>University of Coimbra</td><td>26.870057685088806</td><td>0.0</td></tr><tr><td>Shanghai University</td><td>26.870057685088806</td><td>0.7071067811865476</td></tr><tr><td>Tulane University</td><td>26.870057685088806</td><td>7.0710678118654755</td></tr><tr><td>Brandeis University</td><td>26.870057685088806</td><td>7.0710678118654755</td></tr><tr><td>Central China Normal University</td><td>26.870057685088806</td><td>0.7071067811865476</td></tr><tr><td>University of La Laguna</td><td>26.870057685088806</td><td>1.4142135623730951</td></tr><tr><td>University of Twente</td><td>26.16295090390226</td><td>0.0</td></tr><tr><td>Åbo Akademi University</td><td>26.16295090390226</td><td>0.0</td></tr><tr><td>Florida International University</td><td>26.16295090390226</td><td>4.949747468305833</td></tr><tr><td>Federal University of São Paulo</td><td>26.16295090390226</td><td>0.0</td></tr><tr><td>University of Alabama - Tuscaloosa</td><td>26.16295090390226</td><td>2.8284271247461903</td></tr><tr><td>Rutgers, The State University of New Jersey - Newark</td><td>26.16295090390226</td><td>2.8284271247461903</td></tr><tr><td>University of Limerick</td><td>26.16295090390226</td><td>0.0</td></tr><tr><td>Miguel Hernández University of Elche</td><td>26.16295090390226</td><td>1.4142135623730951</td></tr><tr><td>Inha University</td><td>26.16295090390226</td><td>1.4142135623730951</td></tr><tr><td>Macquarie University</td><td>26.16295090390226</td><td>0.0</td></tr><tr><td>University of Salerno</td><td>26.16295090390226</td><td>0.0</td></tr><tr><td>University of Fukui</td><td>26.16295090390226</td><td>0.7071067811865476</td></tr><tr><td>Stony Brook University</td><td>25.540817005987364</td><td>6.082762530298219</td></tr><tr><td>King Abdullah University of Science and Technology</td><td>25.45584412271571</td><td>0.0</td></tr><tr><td>Northeastern University (China)</td><td>25.45584412271571</td><td>0.7071067811865476</td></tr><tr><td>Okayama University</td><td>25.45584412271571</td><td>2.8284271247461903</td></tr><tr><td>Otto-von-Guericke University Magdeburg</td><td>25.45584412271571</td><td>2.8284271247461903</td></tr><tr><td>University of Zaragoza</td><td>25.45584412271571</td><td>0.7071067811865476</td></tr><tr><td>Sichuan University</td><td>25.45584412271571</td><td>1.4142135623730951</td></tr><tr><td>University of Trento</td><td>25.45584412271571</td><td>2.8284271247461903</td></tr><tr><td>National University of Córdoba</td><td>25.45584412271571</td><td>0.0</td></tr><tr><td>Sejong University</td><td>25.45584412271571</td><td>1.4142135623730951</td></tr><tr><td>University of Crete</td><td>25.45584412271571</td><td>0.0</td></tr><tr><td>Capital Medical University</td><td>25.45584412271571</td><td>0.7071067811865476</td></tr><tr><td>University of Catania</td><td>25.45584412271571</td><td>0.0</td></tr><tr><td>Hunan University</td><td>24.748737341529164</td><td>1.4142135623730951</td></tr><tr><td>Northwest University (China)</td><td>24.748737341529164</td><td>0.7071067811865476</td></tr><tr><td>University of Girona</td><td>24.748737341529164</td><td>1.4142135623730951</td></tr><tr><td>University of the Witwatersrand</td><td>24.748737341529164</td><td>0.0</td></tr><tr><td>University of Texas at San Antonio</td><td>24.748737341529164</td><td>6.363961030678928</td></tr><tr><td>Seoul National University</td><td>24.046829312822098</td><td>0.0</td></tr><tr><td>Federal University of Ceará</td><td>24.041630560342615</td><td>1.4142135623730951</td></tr><tr><td>Carleton University</td><td>24.041630560342615</td><td>0.7071067811865476</td></tr><tr><td>Versailles Saint-Quentin-en-Yvelines University</td><td>24.041630560342615</td><td>0.7071067811865476</td></tr><tr><td>University of Delaware</td><td>24.041630560342615</td><td>5.656854249492381</td></tr><tr><td>Polytechnic University of Valencia</td><td>24.041630560342615</td><td>0.0</td></tr><tr><td>University of Modena and Reggio Emilia</td><td>24.041630560342615</td><td>1.4142135623730951</td></tr><tr><td>University of Maine, Orono</td><td>24.041630560342615</td><td>3.5355339059327378</td></tr><tr><td>University of the Algarve</td><td>24.041630560342615</td><td>0.0</td></tr><tr><td>Deakin University</td><td>24.041630560342615</td><td>2.1213203435596424</td></tr><tr><td>Nankai University</td><td>24.041630560342615</td><td>0.7071067811865476</td></tr><tr><td>Kansas State University</td><td>24.041630560342615</td><td>3.5355339059327378</td></tr><tr><td>École Polytechnique</td><td>23.935677693908453</td><td>1.2909944487358056</td></tr><tr><td>University of Campinas</td><td>23.33452377915607</td><td>0.0</td></tr><tr><td>Tampere University of Technology</td><td>23.33452377915607</td><td>0.0</td></tr><tr><td>Fourth Military Medical University</td><td>23.33452377915607</td><td>1.4142135623730951</td></tr><tr><td>National University of Ireland, Maynooth</td><td>23.33452377915607</td><td>0.0</td></tr><tr><td>Tokai University</td><td>23.33452377915607</td><td>0.7071067811865476</td></tr><tr><td>University of Jaén</td><td>23.33452377915607</td><td>0.7071067811865476</td></tr><tr><td>University of Siegen</td><td>23.33452377915607</td><td>1.4142135623730951</td></tr><tr><td>Joseph Fourier University</td><td>23.33452377915607</td><td>0.0</td></tr><tr><td>University of Osnabrück</td><td>23.33452377915607</td><td>0.7071067811865476</td></tr><tr><td>University of Udine</td><td>23.33452377915607</td><td>0.7071067811865476</td></tr><tr><td>University of Veterinary Medicine Vienna</td><td>22.627416997969522</td><td>0.0</td></tr><tr><td>University of Castilla–La Mancha</td><td>22.627416997969522</td><td>1.4142135623730951</td></tr><tr><td>Vrije Universiteit Brussel</td><td>22.627416997969522</td><td>0.0</td></tr><tr><td>Chiba University</td><td>22.627416997969522</td><td>1.4142135623730951</td></tr><tr><td>Teikyo University</td><td>22.627416997969522</td><td>1.4142135623730951</td></tr><tr><td>Chang Gung University</td><td>22.627416997969522</td><td>0.0</td></tr><tr><td>University of Natural Resources and Life Sciences, Vienna</td><td>22.627416997969522</td><td>0.7071067811865476</td></tr><tr><td>Charles Darwin University</td><td>22.627416997969522</td><td>0.7071067811865476</td></tr><tr><td>Southwest University</td><td>22.627416997969522</td><td>0.7071067811865476</td></tr><tr><td>University of North Texas, Denton</td><td>21.920310216782973</td><td>0.0</td></tr><tr><td>University of Picardie Jules Verne</td><td>21.920310216782973</td><td>4.242640687119285</td></tr><tr><td>University College Dublin</td><td>21.920310216782973</td><td>0.0</td></tr><tr><td>University of Warwick</td><td>21.920310216782973</td><td>1.4142135623730951</td></tr><tr><td>National Polytechnic Institute</td><td>21.920310216782973</td><td>0.0</td></tr><tr><td>University of Rostock</td><td>21.920310216782973</td><td>1.4142135623730951</td></tr><tr><td>University of Tromsø - The Arctic University of Norway</td><td>21.920310216782973</td><td>0.0</td></tr><tr><td>James Cook University</td><td>21.920310216782973</td><td>0.0</td></tr><tr><td>Istanbul Technical University</td><td>21.920310216782973</td><td>0.7071067811865476</td></tr><tr><td>Southeast University</td><td>21.920310216782973</td><td>4.949747468305833</td></tr><tr><td>Simon Fraser University</td><td>21.920310216782973</td><td>0.0</td></tr><tr><td>University of Science and Technology of China</td><td>21.920310216782973</td><td>1.4142135623730951</td></tr><tr><td>Nanjing Medical University</td><td>21.920310216782973</td><td>0.0</td></tr><tr><td>Lomonosov Moscow State University</td><td>21.77919496522618</td><td>0.0</td></tr><tr><td>University of Virginia</td><td>21.73131381210073</td><td>14.056433876817167</td></tr><tr><td>Paris Diderot University - Paris 7</td><td>21.548395145191982</td><td>0.5773502691896258</td></tr><tr><td>Sapienza University of Rome</td><td>21.268129521265696</td><td>0.0</td></tr><tr><td>Nanjing Agricultural University</td><td>21.213203435596427</td><td>0.7071067811865476</td></tr><tr><td>University of North Carolina at Greensboro</td><td>21.213203435596427</td><td>0.0</td></tr><tr><td>University of Alaska Fairbanks</td><td>21.213203435596427</td><td>2.8284271247461903</td></tr><tr><td>University of Memphis</td><td>21.213203435596427</td><td>0.7071067811865476</td></tr><tr><td>Florida Institute of Technology</td><td>21.213203435596427</td><td>5.656854249492381</td></tr><tr><td>University of Jena</td><td>21.213203435596427</td><td>2.1213203435596424</td></tr><tr><td>Federal University of Minas Gerais</td><td>21.213203435596427</td><td>0.0</td></tr><tr><td>Mansoura University</td><td>21.213203435596427</td><td>0.0</td></tr><tr><td>University of Pécs</td><td>21.213203435596427</td><td>0.0</td></tr><tr><td>University of Reims Champagne-Ardenne</td><td>21.213203435596427</td><td>0.7071067811865476</td></tr><tr><td>Complutense University of Madrid</td><td>21.213203435596427</td><td>0.0</td></tr><tr><td>Swansea University</td><td>21.213203435596427</td><td>3.5355339059327378</td></tr><tr><td>National and Kapodistrian University of Athens</td><td>21.213203435596427</td><td>0.0</td></tr><tr><td>Massey University</td><td>21.213203435596427</td><td>0.0</td></tr><tr><td>Keio University</td><td>20.784609690826528</td><td>0.5773502691896258</td></tr><tr><td>University of Texas Southwestern Medical Center</td><td>20.607442021431645</td><td>11.387127235025817</td></tr><tr><td>Ege University</td><td>20.506096654409877</td><td>0.0</td></tr><tr><td>Southern Methodist University</td><td>20.506096654409877</td><td>4.242640687119285</td></tr><tr><td>University of Córdoba (Spain)</td><td>20.506096654409877</td><td>1.4142135623730951</td></tr><tr><td>Technical University of Dortmund</td><td>20.506096654409877</td><td>1.4142135623730951</td></tr><tr><td>University of Bucharest</td><td>20.506096654409877</td><td>0.0</td></tr><tr><td>Northeast Normal University</td><td>20.506096654409877</td><td>2.8284271247461903</td></tr><tr><td>Hong Kong Baptist University</td><td>20.506096654409877</td><td>0.0</td></tr><tr><td>Aalto University</td><td>20.506096654409877</td><td>0.0</td></tr><tr><td>University of Missouri–St. Louis</td><td>19.79898987322333</td><td>0.7071067811865476</td></tr><tr><td>Jagiellonian University</td><td>19.79898987322333</td><td>0.7071067811865476</td></tr><tr><td>Aalborg University</td><td>19.79898987322333</td><td>0.0</td></tr><tr><td>Liverpool John Moores University</td><td>19.79898987322333</td><td>2.1213203435596424</td></tr><tr><td>University of South Australia</td><td>19.79898987322333</td><td>0.7071067811865476</td></tr><tr><td>Hong Kong University of Science and Technology</td><td>19.79898987322333</td><td>0.0</td></tr><tr><td>Johannes Kepler University of Linz</td><td>19.79898987322333</td><td>0.7071067811865476</td></tr><tr><td>Jichi Medical University</td><td>19.79898987322333</td><td>1.4142135623730951</td></tr><tr><td>University of Caen Lower Normandy</td><td>19.79898987322333</td><td>1.4142135623730951</td></tr><tr><td>Paris Descartes University</td><td>19.79898987322333</td><td>1.4142135623730951</td></tr><tr><td>Chulalongkorn University</td><td>19.79898987322333</td><td>0.0</td></tr><tr><td>University of Saskatchewan</td><td>19.79898987322333</td><td>0.0</td></tr><tr><td>University of Nice Sophia Antipolis</td><td>19.091883092036785</td><td>1.4142135623730951</td></tr><tr><td>University of Franche-Comté</td><td>19.091883092036785</td><td>2.1213203435596424</td></tr><tr><td>University of Wisconsin–Milwaukee</td><td>19.091883092036785</td><td>4.949747468305833</td></tr><tr><td>University College Cork</td><td>19.091883092036785</td><td>0.0</td></tr><tr><td>Nanjing University</td><td>19.091883092036785</td><td>0.7071067811865476</td></tr><tr><td>Dresden University of Technology</td><td>19.091883092036785</td><td>2.1213203435596424</td></tr><tr><td>Albany Medical College</td><td>19.091883092036785</td><td>5.656854249492381</td></tr><tr><td>Central South University</td><td>19.091883092036785</td><td>0.7071067811865476</td></tr><tr><td>London School of Economics</td><td>19.091883092036785</td><td>0.7071067811865476</td></tr><tr><td>Catholic University of the Sacred Heart</td><td>19.091883092036785</td><td>1.4142135623730951</td></tr><tr><td>Clemson University</td><td>19.091883092036785</td><td>5.656854249492381</td></tr><tr><td>Indian Institute of Technology Roorkee</td><td>19.091883092036785</td><td>0.7071067811865476</td></tr><tr><td>Hong Kong Polytechnic University</td><td>19.091883092036785</td><td>0.7071067811865476</td></tr><tr><td>Yuan Ze University</td><td>19.091883092036785</td><td>0.0</td></tr><tr><td>Bielefeld University</td><td>19.091883092036785</td><td>1.4142135623730951</td></tr><tr><td>University of California, Irvine</td><td>18.39157415774952</td><td>7.702813338860896</td></tr><tr><td>Royal Institute of Technology</td><td>18.384776310850235</td><td>1.4142135623730951</td></tr><tr><td>Magna Græcia University of Catanzaro</td><td>18.384776310850235</td><td>0.0</td></tr><tr><td>Florida Atlantic University</td><td>18.384776310850235</td><td>3.5355339059327378</td></tr><tr><td>United Arab Emirates University</td><td>18.384776310850235</td><td>0.0</td></tr><tr><td>University of Brasília</td><td>18.384776310850235</td><td>0.7071067811865476</td></tr><tr><td>University of Palermo</td><td>18.384776310850235</td><td>0.0</td></tr><tr><td>Saitama Medical University</td><td>18.384776310850235</td><td>0.7071067811865476</td></tr><tr><td>University of Chile</td><td>18.384776310850235</td><td>0.0</td></tr><tr><td>University of Surrey</td><td>18.384776310850235</td><td>1.4142135623730951</td></tr><tr><td>Dartmouth College</td><td>17.925772879665004</td><td>11.575836902790225</td></tr><tr><td>École Centrale Paris</td><td>17.67766952966369</td><td>1.4142135623730951</td></tr><tr><td>University of Cyprus</td><td>17.67766952966369</td><td>0.0</td></tr><tr><td>University of Texas Health Science Center at Houston</td><td>17.67766952966369</td><td>12.020815280171307</td></tr><tr><td>National Chiao Tung University</td><td>17.67766952966369</td><td>0.0</td></tr><tr><td>Maastricht University</td><td>17.67766952966369</td><td>0.0</td></tr><tr><td>Federal University of Bahia</td><td>17.67766952966369</td><td>0.0</td></tr><tr><td>New York Medical College</td><td>17.67766952966369</td><td>0.7071067811865476</td></tr><tr><td>Huazhong Agricultural University</td><td>17.67766952966369</td><td>0.7071067811865476</td></tr><tr><td>University of Trieste</td><td>17.67766952966369</td><td>0.7071067811865476</td></tr><tr><td>University of Victoria</td><td>17.67766952966369</td><td>0.0</td></tr><tr><td>China Pharmaceutical University</td><td>17.67766952966369</td><td>7.7781745930520225</td></tr><tr><td>Monash University</td><td>17.67766952966369</td><td>0.7071067811865476</td></tr><tr><td>Tel Aviv University</td><td>17.03672503740082</td><td>0.5</td></tr><tr><td>University of Reading</td><td>16.97056274847714</td><td>0.7071067811865476</td></tr><tr><td>Université libre de Bruxelles</td><td>16.97056274847714</td><td>0.0</td></tr><tr><td>Gwangju Institute of Science and Technology</td><td>16.97056274847714</td><td>0.0</td></tr><tr><td>Isfahan University of Technology</td><td>16.97056274847714</td><td>0.7071067811865476</td></tr><tr><td>University of Toyama</td><td>16.97056274847714</td><td>2.8284271247461903</td></tr><tr><td>Hasselt University</td><td>16.97056274847714</td><td>0.0</td></tr><tr><td>Ocean University of China</td><td>16.97056274847714</td><td>0.0</td></tr><tr><td>Dublin City University</td><td>16.97056274847714</td><td>0.0</td></tr><tr><td>University of Western Sydney</td><td>16.97056274847714</td><td>0.7071067811865476</td></tr><tr><td>University of Exeter</td><td>16.97056274847714</td><td>2.8284271247461903</td></tr><tr><td>University of Louisville</td><td>16.97056274847714</td><td>6.363961030678928</td></tr><tr><td>University of Sassari</td><td>16.97056274847714</td><td>0.0</td></tr><tr><td>Rutgers University-New Brunswick</td><td>16.54287359157008</td><td>10.677078252031311</td></tr><tr><td>Leiden University</td><td>16.502525059315417</td><td>1.1547005383792517</td></tr><tr><td>Lancaster University</td><td>16.263455967290593</td><td>2.1213203435596424</td></tr><tr><td>Claude Bernard University Lyon 1</td><td>16.263455967290593</td><td>0.0</td></tr><tr><td>University of Mons</td><td>16.263455967290593</td><td>0.0</td></tr><tr><td>Wuhan University</td><td>16.263455967290593</td><td>0.0</td></tr><tr><td>University of Leicester</td><td>16.263455967290593</td><td>2.1213203435596424</td></tr><tr><td>Technical University of Denmark</td><td>16.263455967290593</td><td>0.0</td></tr><tr><td>Public University of Navarre</td><td>16.263455967290593</td><td>0.0</td></tr><tr><td>Brock University</td><td>16.263455967290593</td><td>2.1213203435596424</td></tr><tr><td>National Taiwan University of Science and Technology</td><td>16.263455967290593</td><td>0.7071067811865476</td></tr><tr><td>Chungbuk National University</td><td>16.263455967290593</td><td>1.4142135623730951</td></tr><tr><td>Zhengzhou University</td><td>16.263455967290593</td><td>0.7071067811865476</td></tr><tr><td>University of Nantes</td><td>16.263455967290593</td><td>2.1213203435596424</td></tr><tr><td>Texas A&M University, College Station</td><td>15.895492023421818</td><td>3.4641016151377544</td></tr><tr><td>Ryerson University</td><td>15.556349186104045</td><td>0.7071067811865476</td></tr><tr><td>University of Konstanz</td><td>15.556349186104045</td><td>1.4142135623730951</td></tr><tr><td>Wrocław University of Technology</td><td>15.556349186104045</td><td>0.0</td></tr><tr><td>University of Granada</td><td>15.556349186104045</td><td>0.7071067811865476</td></tr><tr><td>Makerere University</td><td>15.556349186104045</td><td>0.0</td></tr><tr><td>University of Oulu</td><td>15.556349186104045</td><td>0.7071067811865476</td></tr><tr><td>Nanjing Normal University</td><td>15.556349186104045</td><td>3.5355339059327378</td></tr><tr><td>University of Houston</td><td>15.556349186104045</td><td>7.0710678118654755</td></tr><tr><td>George Washington University</td><td>15.556349186104045</td><td>5.656854249492381</td></tr><tr><td>University of Massachusetts Boston</td><td>15.556349186104045</td><td>4.242640687119285</td></tr><tr><td>Icahn School of Medicine at Mount Sinai</td><td>15.556349186104045</td><td>2.8284271247461903</td></tr><tr><td>Federal University of ABC</td><td>15.556349186104045</td><td>2.1213203435596424</td></tr><tr><td>University of Bergen</td><td>15.556349186104045</td><td>0.0</td></tr><tr><td>University of Utah</td><td>15.44884030167529</td><td>8.286535263104035</td></tr><tr><td>University of Geneva</td><td>15.427248620541512</td><td>0.5</td></tr><tr><td>Arizona State University</td><td>15.165750888103098</td><td>4.795831523312718</td></tr><tr><td>University of Alicante</td><td>14.849242404917497</td><td>0.7071067811865476</td></tr><tr><td>University of Innsbruck</td><td>14.849242404917497</td><td>0.0</td></tr><tr><td>University of Lisbon</td><td>14.849242404917497</td><td>0.0</td></tr><tr><td>Hallym University</td><td>14.849242404917497</td><td>1.4142135623730951</td></tr><tr><td>Ibaraki University</td><td>14.849242404917497</td><td>0.0</td></tr><tr><td>Kyung Hee University</td><td>14.849242404917497</td><td>0.7071067811865476</td></tr><tr><td>University of Thessaly</td><td>14.849242404917497</td><td>0.0</td></tr><tr><td>Hacettepe University</td><td>14.849242404917497</td><td>0.0</td></tr><tr><td>University of Nebraska–Lincoln</td><td>14.849242404917497</td><td>5.656854249492381</td></tr><tr><td>University of Ljubljana</td><td>14.849242404917497</td><td>0.0</td></tr><tr><td>Istanbul University</td><td>14.849242404917497</td><td>0.0</td></tr><tr><td>University of Oviedo</td><td>14.849242404917497</td><td>0.7071067811865476</td></tr><tr><td>Pohang University of Science and Technology</td><td>14.849242404917497</td><td>0.7071067811865476</td></tr><tr><td>Tokyo University of Agriculture and Technology</td><td>14.849242404917497</td><td>1.4142135623730951</td></tr><tr><td>Case Western Reserve University</td><td>14.798648586948742</td><td>3.0</td></tr><tr><td>Indiana University - Bloomington</td><td>14.571661996262929</td><td>4.163331998932265</td></tr><tr><td>University of Bristol</td><td>14.433756729740644</td><td>0.5773502691896258</td></tr><tr><td>University of Augsburg</td><td>14.142135623730951</td><td>0.7071067811865476</td></tr><tr><td>University of Salento</td><td>14.142135623730951</td><td>0.7071067811865476</td></tr><tr><td>University of Cantabria</td><td>14.142135623730951</td><td>0.0</td></tr><tr><td>University of Cincinnati</td><td>14.142135623730951</td><td>4.242640687119285</td></tr><tr><td>Dokuz Eylül University</td><td>14.142135623730951</td><td>0.0</td></tr><tr><td>University of Regensburg</td><td>14.142135623730951</td><td>1.4142135623730951</td></tr><tr><td>Delft University of Technology</td><td>14.142135623730951</td><td>0.0</td></tr><tr><td>George Mason University</td><td>14.142135623730951</td><td>0.7071067811865476</td></tr><tr><td>Universidade Nova de Lisboa</td><td>14.142135623730951</td><td>0.0</td></tr><tr><td>Blaise Pascal University</td><td>14.142135623730951</td><td>2.1213203435596424</td></tr><tr><td>Federal University of Santa Catarina</td><td>14.142135623730951</td><td>0.7071067811865476</td></tr><tr><td>Albert Ludwig University of Freiburg</td><td>14.142135623730951</td><td>0.7071067811865476</td></tr><tr><td>National Cheng Kung University</td><td>14.142135623730951</td><td>0.0</td></tr><tr><td>École normale supérieure - Paris</td><td>13.916417163432069</td><td>0.816496580927726</td></tr><tr><td>University of California, Santa Barbara</td><td>13.720422734012244</td><td>7.41057802513857</td></tr><tr><td>G. d'Annunzio University, Chieti-Pescara</td><td>13.435028842544403</td><td>2.1213203435596424</td></tr><tr><td>University of Strathclyde</td><td>13.435028842544403</td><td>2.1213203435596424</td></tr><tr><td>Stockholm University</td><td>13.435028842544403</td><td>0.7071067811865476</td></tr><tr><td>University of Montana - Missoula</td><td>13.435028842544403</td><td>2.1213203435596424</td></tr><tr><td>Jikei University School of Medicine</td><td>13.435028842544403</td><td>0.7071067811865476</td></tr><tr><td>Semmelweis University</td><td>13.435028842544403</td><td>0.0</td></tr><tr><td>University at Albany, SUNY</td><td>13.435028842544403</td><td>0.7071067811865476</td></tr><tr><td>University of Tartu</td><td>13.435028842544403</td><td>0.0</td></tr><tr><td>University of New South Wales</td><td>13.435028842544403</td><td>0.0</td></tr><tr><td>Sofia University</td><td>13.435028842544403</td><td>0.0</td></tr><tr><td>Jadavpur University</td><td>13.435028842544403</td><td>0.7071067811865476</td></tr><tr><td>University of Ottawa</td><td>13.435028842544403</td><td>0.0</td></tr><tr><td>University of Alabama in Huntsville</td><td>13.435028842544403</td><td>1.4142135623730951</td></tr><tr><td>South China Normal University</td><td>13.435028842544403</td><td>0.0</td></tr><tr><td>Rio de Janeiro State University</td><td>13.435028842544403</td><td>0.0</td></tr><tr><td>University of Florence</td><td>13.435028842544403</td><td>0.0</td></tr><tr><td>Aristotle University of Thessaloniki</td><td>13.435028842544403</td><td>0.0</td></tr><tr><td>University of KwaZulu-Natal</td><td>13.435028842544403</td><td>0.0</td></tr><tr><td>University of Tehran</td><td>13.435028842544403</td><td>0.7071067811865476</td></tr><tr><td>University of Wyoming</td><td>13.435028842544403</td><td>4.242640687119285</td></tr><tr><td>Old Dominion University</td><td>13.435028842544403</td><td>2.1213203435596424</td></tr><tr><td>Juntendo University</td><td>13.435028842544403</td><td>5.656854249492381</td></tr><tr><td>University of Cape Town</td><td>13.435028842544403</td><td>0.0</td></tr><tr><td>Virginia Commonwealth University</td><td>13.435028842544403</td><td>0.7071067811865476</td></tr><tr><td>University of Nebraska Omaha</td><td>13.435028842544403</td><td>3.5355339059327378</td></tr><tr><td>University of Hawaii at Manoa</td><td>13.435028842544403</td><td>3.5355339059327378</td></tr><tr><td>Technical University of Madrid</td><td>13.435028842544403</td><td>1.4142135623730951</td></tr><tr><td>University of Szeged</td><td>13.435028842544403</td><td>0.0</td></tr><tr><td>UNESP, São Paulo State University</td><td>13.435028842544403</td><td>0.0</td></tr><tr><td>Western University (The University of Western Ontario)</td><td>13.435028842544403</td><td>1.4142135623730951</td></tr><tr><td>University of Maribor</td><td>13.435028842544403</td><td>0.0</td></tr><tr><td>Bar-Ilan University</td><td>12.727922061357855</td><td>0.0</td></tr><tr><td>Hanyang University</td><td>12.727922061357855</td><td>0.7071067811865476</td></tr><tr><td>University of Vienna</td><td>12.727922061357855</td><td>0.0</td></tr><tr><td>University of Ferrara</td><td>12.727922061357855</td><td>1.4142135623730951</td></tr><tr><td>Kyoto Institute of Technology</td><td>12.727922061357855</td><td>2.1213203435596424</td></tr><tr><td>Aix-Marseille University</td><td>12.727922061357855</td><td>0.0</td></tr><tr><td>University of Alabama at Birmingham</td><td>12.727922061357855</td><td>1.4142135623730951</td></tr><tr><td>Chinese University of Hong Kong</td><td>12.727922061357855</td><td>0.0</td></tr><tr><td>University of Porto</td><td>12.727922061357855</td><td>0.0</td></tr><tr><td>University of Antwerp</td><td>12.727922061357855</td><td>0.7071067811865476</td></tr><tr><td>Mahidol University</td><td>12.727922061357855</td><td>0.0</td></tr><tr><td>Creighton University</td><td>12.727922061357855</td><td>0.7071067811865476</td></tr><tr><td>University of Oslo</td><td>12.68857754044952</td><td>0.0</td></tr><tr><td>University of Rochester</td><td>12.685293322058685</td><td>4.573474244670748</td></tr><tr><td>University of Pittsburgh - Pittsburgh Campus</td><td>12.203141671990318</td><td>8.770214744615247</td></tr><tr><td>Ghent University</td><td>12.020815280171307</td><td>0.0</td></tr><tr><td>Newcastle University</td><td>12.020815280171307</td><td>0.7071067811865476</td></tr><tr><td>Curtin University</td><td>12.020815280171307</td><td>0.7071067811865476</td></tr><tr><td>Northern Arizona University</td><td>12.020815280171307</td><td>4.242640687119285</td></tr><tr><td>University of Salamanca</td><td>12.020815280171307</td><td>0.0</td></tr><tr><td>University of Lorraine</td><td>12.020815280171307</td><td>1.4142135623730951</td></tr><tr><td>University of Paris 13</td><td>12.020815280171307</td><td>2.8284271247461903</td></tr><tr><td>University of South Florida - Tampa</td><td>12.020815280171307</td><td>4.949747468305833</td></tr><tr><td>Texas A&M Health Science Center</td><td>12.020815280171307</td><td>0.7071067811865476</td></tr><tr><td>Örebro University</td><td>12.020815280171307</td><td>0.0</td></tr><tr><td>University of Pavia</td><td>12.020815280171307</td><td>1.4142135623730951</td></tr><tr><td>University of Idaho</td><td>12.020815280171307</td><td>4.242640687119285</td></tr><tr><td>Swedish University of Agricultural Sciences</td><td>12.020815280171307</td><td>0.0</td></tr><tr><td>All India Institute of Medical Sciences, New Delhi</td><td>12.020815280171307</td><td>0.0</td></tr><tr><td>University of Chemistry and Technology, Prague</td><td>12.020815280171307</td><td>0.0</td></tr><tr><td>Chung Shan Medical University</td><td>12.020815280171307</td><td>0.7071067811865476</td></tr><tr><td>University of Groningen</td><td>12.020815280171307</td><td>0.7071067811865476</td></tr><tr><td>University of Kiel</td><td>12.020815280171307</td><td>0.0</td></tr><tr><td>University François Rabelais, Tours</td><td>12.020815280171307</td><td>0.7071067811865476</td></tr><tr><td>Kaohsiung Medical University</td><td>12.020815280171307</td><td>0.0</td></tr><tr><td>University of Montreal</td><td>12.020815280171307</td><td>1.4142135623730951</td></tr><tr><td>University of Hamburg</td><td>12.020815280171307</td><td>1.4142135623730951</td></tr><tr><td>Rockefeller University</td><td>11.944315244779277</td><td>7.54983443527075</td></tr><tr><td>University of Arizona</td><td>11.818065267490557</td><td>5.057996968497839</td></tr><tr><td>University of Queensland</td><td>11.503622617824933</td><td>1.1547005383792517</td></tr><tr><td>Bangor University</td><td>11.313708498984761</td><td>0.7071067811865476</td></tr><tr><td>Erasmus University Rotterdam</td><td>11.313708498984761</td><td>0.7071067811865476</td></tr><tr><td>Chonbuk National University</td><td>11.313708498984761</td><td>0.0</td></tr><tr><td>University of Stuttgart</td><td>11.313708498984761</td><td>0.7071067811865476</td></tr><tr><td>University of Iowa</td><td>11.313708498984761</td><td>2.8284271247461903</td></tr><tr><td>Paris-Est Créteil Val-de-Marne University</td><td>11.313708498984761</td><td>0.7071067811865476</td></tr><tr><td>Federal University of São Carlos</td><td>11.313708498984761</td><td>0.7071067811865476</td></tr><tr><td>University of Bayreuth</td><td>11.313708498984761</td><td>0.7071067811865476</td></tr><tr><td>Chonnam National University</td><td>11.313708498984761</td><td>1.4142135623730951</td></tr><tr><td>Queensland University of Technology</td><td>11.313708498984761</td><td>2.8284271247461903</td></tr><tr><td>Montana State University - Bozeman</td><td>11.313708498984761</td><td>0.0</td></tr><tr><td>Tokyo Medical and Dental University</td><td>11.313708498984761</td><td>1.4142135623730951</td></tr><tr><td>Korea Advanced Institute of Science and Technology (KAIST)</td><td>11.313708498984761</td><td>0.7071067811865476</td></tr><tr><td>Ewha Womans University</td><td>11.313708498984761</td><td>0.7071067811865476</td></tr><tr><td>Bowling Green State University</td><td>11.313708498984761</td><td>1.4142135623730951</td></tr><tr><td>Gifu University</td><td>11.313708498984761</td><td>0.7071067811865476</td></tr><tr><td>University of Bath</td><td>11.313708498984761</td><td>2.1213203435596424</td></tr><tr><td>Johannes Gutenberg University of Mainz</td><td>11.313708498984761</td><td>0.7071067811865476</td></tr><tr><td>Washington University in St. Louis</td><td>11.269427669584644</td><td>6.683312551921141</td></tr><tr><td>National University of Singapore</td><td>11.060440015358038</td><td>0.0</td></tr><tr><td>Swiss Federal Institute of Technology in Lausanne</td><td>10.893423092245461</td><td>0.9574271077563382</td></tr><tr><td>University of Copenhagen</td><td>10.661457061146317</td><td>0.0</td></tr><tr><td>Tohoku University</td><td>10.626225419530053</td><td>0.49999999999999994</td></tr><tr><td>University of Puerto Rico at Mayagüez</td><td>10.606601717798213</td><td>0.0</td></tr><tr><td>University of Yamanashi</td><td>10.606601717798213</td><td>0.7071067811865476</td></tr><tr><td>University of Perugia</td><td>10.606601717798213</td><td>0.7071067811865476</td></tr><tr><td>Kaiserslautern University of Technology</td><td>10.606601717798213</td><td>0.7071067811865476</td></tr><tr><td>Korea University</td><td>10.606601717798213</td><td>0.7071067811865476</td></tr><tr><td>University of Sherbrooke</td><td>10.606601717798213</td><td>0.0</td></tr><tr><td>University of Connecticut</td><td>10.606601717798213</td><td>2.8284271247461903</td></tr><tr><td>University of Duisburg-Essen</td><td>10.606601717798213</td><td>2.8284271247461903</td></tr><tr><td>Third Military Medical University</td><td>10.606601717798213</td><td>5.656854249492381</td></tr><tr><td>Graduate University for Advanced Studies</td><td>10.606601717798213</td><td>0.0</td></tr><tr><td>University of Bradford</td><td>10.606601717798213</td><td>0.0</td></tr><tr><td>Sun Yat-sen University</td><td>10.606601717798213</td><td>0.7071067811865476</td></tr><tr><td>Zhejiang University</td><td>10.606601717798213</td><td>0.7071067811865476</td></tr><tr><td>Trinity College, Dublin</td><td>10.606601717798213</td><td>0.0</td></tr><tr><td>Shanghai Jiao Tong University</td><td>10.606601717798213</td><td>0.7071067811865476</td></tr><tr><td>Kent State University</td><td>10.606601717798213</td><td>0.0</td></tr><tr><td>University of Hong Kong</td><td>10.606601717798213</td><td>0.0</td></tr><tr><td>University of Padua</td><td>10.606601717798213</td><td>0.7071067811865476</td></tr><tr><td>Syracuse University</td><td>10.606601717798213</td><td>2.1213203435596424</td></tr><tr><td>Shimane University</td><td>10.606601717798213</td><td>2.8284271247461903</td></tr><tr><td>University of Illinois at Chicago</td><td>10.606601717798213</td><td>1.4142135623730951</td></tr><tr><td>Virginia Polytechnic Institute and State University</td><td>10.606601717798213</td><td>9.192388155425117</td></tr><tr><td>VU University Amsterdam</td><td>10.606601717798213</td><td>0.7071067811865476</td></tr><tr><td>Goethe University Frankfurt</td><td>10.606601717798213</td><td>0.7071067811865476</td></tr><tr><td>University of Helsinki</td><td>10.488088481701514</td><td>0.0</td></tr><tr><td>King's College London</td><td>10.016652800877813</td><td>0.0</td></tr><tr><td>University of St Andrews</td><td>9.899494936611665</td><td>0.0</td></tr><tr><td>Louisiana Tech University</td><td>9.899494936611665</td><td>0.7071067811865476</td></tr><tr><td>Aberystwyth University</td><td>9.899494936611665</td><td>0.0</td></tr><tr><td>University of East Anglia</td><td>9.899494936611665</td><td>1.4142135623730951</td></tr><tr><td>University of Bremen</td><td>9.899494936611665</td><td>0.7071067811865476</td></tr><tr><td>Bilkent University</td><td>9.899494936611665</td><td>0.7071067811865476</td></tr><tr><td>Ajou University</td><td>9.899494936611665</td><td>2.1213203435596424</td></tr><tr><td>University of Seville</td><td>9.899494936611665</td><td>1.4142135623730951</td></tr><tr><td>RMIT University</td><td>9.899494936611665</td><td>1.4142135623730951</td></tr><tr><td>Wake Forest University</td><td>9.899494936611665</td><td>3.5355339059327378</td></tr><tr><td>University of Hyderabad</td><td>9.899494936611665</td><td>0.7071067811865476</td></tr><tr><td>Weizmann Institute of Science</td><td>9.695359714832659</td><td>0.5</td></tr><tr><td>University of Colorado Boulder</td><td>9.626352718795768</td><td>5.477225575051661</td></tr><tr><td>Marquette University</td><td>9.192388155425117</td><td>1.4142135623730951</td></tr><tr><td>University of Pisa</td><td>9.192388155425117</td><td>0.0</td></tr><tr><td>Tokyo Institute of Technology</td><td>9.192388155425117</td><td>0.0</td></tr><tr><td>University of Calabria</td><td>9.192388155425117</td><td>0.0</td></tr><tr><td>Tokyo Women's Medical University</td><td>9.192388155425117</td><td>0.7071067811865476</td></tr><tr><td>Ben-Gurion University of the Negev</td><td>9.192388155425117</td><td>0.0</td></tr><tr><td>San Diego State University</td><td>9.192388155425117</td><td>0.7071067811865476</td></tr><tr><td>Autonomous University of Barcelona</td><td>9.192388155425117</td><td>0.0</td></tr><tr><td>University of California, Merced</td><td>9.192388155425117</td><td>0.7071067811865476</td></tr><tr><td>University of Zagreb</td><td>9.192388155425117</td><td>0.0</td></tr><tr><td>University of Notre Dame</td><td>9.192388155425117</td><td>3.5355339059327378</td></tr><tr><td>Indian Institute of Technology Delhi</td><td>9.192388155425117</td><td>0.0</td></tr><tr><td>Nanyang Technological University</td><td>9.192388155425117</td><td>0.0</td></tr><tr><td>University of Cagliari</td><td>9.192388155425117</td><td>1.4142135623730951</td></tr><tr><td>Aston University</td><td>9.192388155425117</td><td>0.7071067811865476</td></tr><tr><td>University of Potsdam</td><td>9.192388155425117</td><td>0.7071067811865476</td></tr><tr><td>University of Arkansas for Medical Sciences</td><td>9.192388155425117</td><td>0.7071067811865476</td></tr><tr><td>University of Zurich</td><td>9.105858919765158</td><td>0.5773502691896257</td></tr><tr><td>University of Paris-Sud</td><td>9.092121131323905</td><td>1.1547005383792515</td></tr><tr><td>Georgia Institute of Technology</td><td>8.812869377601524</td><td>4.112987559751022</td></tr><tr><td>Pierre-and-Marie-Curie University</td><td>8.660254037844389</td><td>1.0</td></tr><tr><td>Adam Mickiewicz University in Poznań</td><td>8.48528137423857</td><td>0.0</td></tr><tr><td>Julius-Maximilian's University of Würzburg</td><td>8.48528137423857</td><td>2.8284271247461903</td></tr><tr><td>Griffith University</td><td>8.48528137423857</td><td>1.4142135623730951</td></tr><tr><td>National Sun Yat-sen University</td><td>8.48528137423857</td><td>0.0</td></tr><tr><td>Carlos III University of Madrid</td><td>8.48528137423857</td><td>1.4142135623730951</td></tr><tr><td>University of Liverpool</td><td>8.48528137423857</td><td>1.4142135623730951</td></tr><tr><td>Katholieke Universiteit Leuven</td><td>8.48528137423857</td><td>0.0</td></tr><tr><td>University of Maryland, Baltimore County</td><td>8.48528137423857</td><td>2.8284271247461903</td></tr><tr><td>Wageningen University and Research Centre</td><td>8.48528137423857</td><td>0.0</td></tr><tr><td>Brigham Young University</td><td>8.48528137423857</td><td>1.4142135623730951</td></tr><tr><td>National Polytechnic Institute of Toulouse</td><td>8.48528137423857</td><td>1.4142135623730951</td></tr><tr><td>Pusan National University</td><td>8.48528137423857</td><td>0.0</td></tr><tr><td>Kumamoto University</td><td>8.48528137423857</td><td>1.4142135623730951</td></tr><tr><td>University of Southern Mississippi</td><td>8.48528137423857</td><td>1.4142135623730951</td></tr><tr><td>Banaras Hindu University</td><td>8.48528137423857</td><td>0.7071067811865476</td></tr><tr><td>University of Tampere</td><td>8.48528137423857</td><td>0.7071067811865476</td></tr><tr><td>Pennsylvania State University, University Park</td><td>8.341662504161466</td><td>7.32575365861197</td></tr><tr><td>Kurume University</td><td>7.7781745930520225</td><td>1.4142135623730951</td></tr><tr><td>State University of New York Upstate Medical University</td><td>7.7781745930520225</td><td>1.4142135623730951</td></tr><tr><td>University of Genoa</td><td>7.7781745930520225</td><td>0.7071067811865476</td></tr><tr><td>Xidian University</td><td>7.7781745930520225</td><td>5.656854249492381</td></tr><tr><td>University of Buenos Aires</td><td>7.7781745930520225</td><td>0.0</td></tr><tr><td>University of Évry Val d'Essonne</td><td>7.7781745930520225</td><td>0.0</td></tr><tr><td>Martin Luther University of Halle-Wittenberg</td><td>7.7781745930520225</td><td>0.7071067811865476</td></tr><tr><td>National Tsing Hua University</td><td>7.7781745930520225</td><td>0.0</td></tr><tr><td>Federico Santa María Technical University</td><td>7.7781745930520225</td><td>0.0</td></tr><tr><td>University of Bari Aldo Moro</td><td>7.7781745930520225</td><td>1.4142135623730951</td></tr><tr><td>Loughborough University</td><td>7.7781745930520225</td><td>1.4142135623730951</td></tr><tr><td>Free University of Berlin</td><td>7.7781745930520225</td><td>2.1213203435596424</td></tr><tr><td>London School of Hygiene & Tropical Medicine</td><td>7.7781745930520225</td><td>0.0</td></tr><tr><td>Hiroshima University</td><td>7.7781745930520225</td><td>0.7071067811865476</td></tr><tr><td>University of Massachusetts Amherst</td><td>7.7781745930520225</td><td>2.1213203435596424</td></tr><tr><td>University of York</td><td>7.7781745930520225</td><td>0.7071067811865476</td></tr><tr><td>University of Bologna</td><td>7.7781745930520225</td><td>0.0</td></tr><tr><td>Keele University</td><td>7.7781745930520225</td><td>0.7071067811865476</td></tr><tr><td>University of Hyogo</td><td>7.7781745930520225</td><td>0.7071067811865476</td></tr><tr><td>University of Waterloo</td><td>7.7781745930520225</td><td>0.7071067811865476</td></tr><tr><td>Texas Tech University (TTU)</td><td>7.7781745930520225</td><td>2.1213203435596424</td></tr><tr><td>Beijing Normal University</td><td>7.7781745930520225</td><td>1.4142135623730951</td></tr><tr><td>University of Michigan, Ann Arbor</td><td>7.593857166596345</td><td>4.654746681256314</td></tr><tr><td>Brown University</td><td>7.588368291888138</td><td>2.217355782608344</td></tr><tr><td>Carnegie Mellon University</td><td>7.455423082115014</td><td>3.265986323710904</td></tr><tr><td>Ludwig Maximilian University of Munich</td><td>7.365459931328117</td><td>0.5773502691896257</td></tr><tr><td>University of Maryland, College Park</td><td>7.274384280931732</td><td>3.304037933599835</td></tr><tr><td>University of Texas MD Anderson Cancer Center</td><td>7.18795288428261</td><td>2.362907813126304</td></tr><tr><td>University of Turin</td><td>7.0710678118654755</td><td>0.0</td></tr><tr><td>University of Messina</td><td>7.0710678118654755</td><td>1.4142135623730951</td></tr><tr><td>University of Orléans</td><td>7.0710678118654755</td><td>1.4142135623730951</td></tr><tr><td>Paul Valéry University, Montpellier III</td><td>7.0710678118654755</td><td>1.4142135623730951</td></tr><tr><td>Xi'an Jiaotong University</td><td>7.0710678118654755</td><td>1.4142135623730951</td></tr><tr><td>University of Nevada, Las Vegas</td><td>7.0710678118654755</td><td>0.0</td></tr><tr><td>University of Massachusetts Medical School</td><td>7.0710678118654755</td><td>3.5355339059327378</td></tr><tr><td>University of Silesia</td><td>7.0710678118654755</td><td>0.0</td></tr><tr><td>University of Leeds</td><td>7.0710678118654755</td><td>0.0</td></tr><tr><td>University of Dundee</td><td>7.0710678118654755</td><td>0.0</td></tr><tr><td>Hokkaido University</td><td>7.0710678118654755</td><td>1.4142135623730951</td></tr><tr><td>Plymouth University</td><td>7.0710678118654755</td><td>1.4142135623730951</td></tr><tr><td>University of Birmingham</td><td>7.0710678118654755</td><td>1.4142135623730951</td></tr><tr><td>Scuola Normale Superiore di Pisa</td><td>7.0710678118654755</td><td>2.1213203435596424</td></tr><tr><td>LSU Health Sciences Center New Orleans</td><td>7.0710678118654755</td><td>2.8284271247461903</td></tr><tr><td>University of Pau and Pays de l'Adour</td><td>7.0710678118654755</td><td>0.0</td></tr><tr><td>University of Siena</td><td>7.0710678118654755</td><td>0.0</td></tr><tr><td>University of Patras</td><td>7.0710678118654755</td><td>0.0</td></tr><tr><td>National Chung Cheng University</td><td>7.0710678118654755</td><td>0.7071067811865476</td></tr><tr><td>Wright State University - Dayton</td><td>7.0710678118654755</td><td>0.7071067811865476</td></tr><tr><td>University of Almería</td><td>7.0710678118654755</td><td>0.0</td></tr><tr><td>Saarland University</td><td>7.0710678118654755</td><td>0.7071067811865476</td></tr><tr><td>Utrecht University</td><td>6.557438524301999</td><td>0.5773502691896257</td></tr><tr><td>Emory University</td><td>6.48074069840786</td><td>2.581988897471611</td></tr><tr><td>University of Edinburgh</td><td>6.377042156569663</td><td>2.0</td></tr><tr><td>Yonsei University</td><td>6.363961030678928</td><td>0.0</td></tr><tr><td>Colorado State University - Fort Collins</td><td>6.363961030678928</td><td>2.8284271247461903</td></tr><tr><td>Chungnam National University</td><td>6.363961030678928</td><td>0.0</td></tr><tr><td>University of Western Australia</td><td>6.363961030678928</td><td>0.0</td></tr><tr><td>Loyola University Chicago</td><td>6.363961030678928</td><td>1.4142135623730951</td></tr><tr><td>Illinois Institute of Technology</td><td>6.363961030678928</td><td>3.5355339059327378</td></tr><tr><td>University of Regina</td><td>6.363961030678928</td><td>0.7071067811865476</td></tr><tr><td>University of Erlangen-Nuremberg</td><td>6.363961030678928</td><td>0.7071067811865476</td></tr><tr><td>La Trobe University</td><td>6.363961030678928</td><td>0.0</td></tr><tr><td>École normale supérieure de Lyon</td><td>6.363961030678928</td><td>0.0</td></tr><tr><td>Tsinghua University</td><td>6.363961030678928</td><td>0.0</td></tr><tr><td>Temple University</td><td>6.363961030678928</td><td>2.1213203435596424</td></tr><tr><td>Portland State University</td><td>6.363961030678928</td><td>0.0</td></tr><tr><td>Kangwon National University</td><td>6.363961030678928</td><td>0.0</td></tr><tr><td>Fuzhou University</td><td>6.363961030678928</td><td>2.8284271247461903</td></tr><tr><td>Tata Institute of Fundamental Research</td><td>6.363961030678928</td><td>1.4142135623730951</td></tr><tr><td>Medical University of South Carolina</td><td>6.363961030678928</td><td>1.4142135623730951</td></tr><tr><td>Oregon Health & Science University</td><td>6.363961030678928</td><td>1.4142135623730951</td></tr><tr><td>University of Milan</td><td>6.363961030678928</td><td>0.7071067811865476</td></tr><tr><td>University of Navarra</td><td>6.363961030678928</td><td>0.0</td></tr><tr><td>University of Georgia</td><td>6.363961030678928</td><td>0.7071067811865476</td></tr><tr><td>University of Aberdeen</td><td>6.363961030678928</td><td>1.4142135623730951</td></tr><tr><td>University of Tsukuba</td><td>6.363961030678928</td><td>0.7071067811865476</td></tr><tr><td>Loma Linda University</td><td>6.363961030678928</td><td>0.0</td></tr><tr><td>University of Lleida</td><td>6.363961030678928</td><td>0.7071067811865476</td></tr><tr><td>McMaster University</td><td>6.363961030678928</td><td>0.0</td></tr><tr><td>University of California, Santa Cruz</td><td>6.363961030678928</td><td>0.0</td></tr><tr><td>University of Glasgow</td><td>6.363961030678928</td><td>0.0</td></tr><tr><td>Osaka University</td><td>6.238322424070968</td><td>1.1547005383792515</td></tr><tr><td>Boston University</td><td>5.90903263374528</td><td>2.8722813232690143</td></tr><tr><td>Purdue University, West Lafayette</td><td>5.909032633745278</td><td>3.162277660168379</td></tr><tr><td>Vanderbilt University</td><td>5.887840577551898</td><td>2.0615528128088294</td></tr><tr><td>Technical University of Munich</td><td>5.8594652770823155</td><td>0.5773502691896258</td></tr><tr><td>Tufts University</td><td>5.859465277082315</td><td>1.0</td></tr><tr><td>University of Southern California</td><td>5.852349955359813</td><td>2.9860788111948198</td></tr><tr><td>Karolinska Institute</td><td>5.802298395176402</td><td>0.0</td></tr><tr><td>Imperial College London</td><td>5.737304826019502</td><td>0.5773502691896257</td></tr><tr><td>National Yang-Ming University</td><td>5.656854249492381</td><td>0.0</td></tr><tr><td>University of Maryland, Baltimore</td><td>5.656854249492381</td><td>2.8284271247461903</td></tr><tr><td>University of Kentucky</td><td>5.656854249492381</td><td>1.4142135623730951</td></tr><tr><td>Indiana University-Purdue University Indianapolis</td><td>5.656854249492381</td><td>3.5355339059327378</td></tr><tr><td>Beijing University of Technology</td><td>5.656854249492381</td><td>0.7071067811865476</td></tr><tr><td>Ruhr University Bochum</td><td>5.656854249492381</td><td>2.1213203435596424</td></tr><tr><td>Paul Sabatier University - Toulouse III</td><td>5.656854249492381</td><td>0.7071067811865476</td></tr><tr><td>University of Angers</td><td>5.656854249492381</td><td>0.7071067811865476</td></tr><tr><td>University of Amsterdam</td><td>5.656854249492381</td><td>0.7071067811865476</td></tr><tr><td>Polytechnic University of Milan</td><td>5.656854249492381</td><td>0.7071067811865476</td></tr><tr><td>University of Turku</td><td>5.656854249492381</td><td>0.0</td></tr><tr><td>Cardiff University</td><td>5.656854249492381</td><td>0.0</td></tr><tr><td>Saga University</td><td>5.656854249492381</td><td>2.1213203435596424</td></tr><tr><td>National Taiwan University</td><td>5.656854249492381</td><td>0.0</td></tr><tr><td>Southern Medical University</td><td>5.656854249492381</td><td>2.8284271247461903</td></tr><tr><td>Kōchi University</td><td>5.656854249492381</td><td>2.1213203435596424</td></tr><tr><td>University of Lausanne</td><td>5.656854249492381</td><td>0.0</td></tr><tr><td>University of Québec at Montreal</td><td>5.656854249492381</td><td>0.0</td></tr><tr><td>Kyushu University</td><td>5.656854249492381</td><td>0.0</td></tr><tr><td>RWTH Aachen University</td><td>5.656854249492381</td><td>0.7071067811865476</td></tr><tr><td>University of Rome Tor Vergata</td><td>5.656854249492381</td><td>0.0</td></tr><tr><td>University of Concepción</td><td>5.656854249492381</td><td>0.0</td></tr><tr><td>University of Brescia</td><td>5.656854249492381</td><td>0.7071067811865476</td></tr><tr><td>University of California, Riverside</td><td>5.656854249492381</td><td>1.4142135623730951</td></tr><tr><td>University of Göttingen</td><td>5.656854249492381</td><td>0.7071067811865476</td></tr><tr><td>Huazhong University of Science and Technology</td><td>5.656854249492381</td><td>0.0</td></tr><tr><td>Budapest University of Technology and Economics</td><td>5.656854249492381</td><td>0.0</td></tr><tr><td>Ruprecht Karl University of Heidelberg</td><td>5.5677643628300215</td><td>0.5773502691896257</td></tr><tr><td>Northwestern University</td><td>5.066228051190222</td><td>3.0</td></tr><tr><td>University of Alberta</td><td>5.033222956847167</td><td>0.0</td></tr><tr><td>University of California, Davis</td><td>5.033222956847167</td><td>1.7320508075688772</td></tr><tr><td>Nicolaus Copernicus University in Toruń</td><td>4.949747468305833</td><td>0.7071067811865476</td></tr><tr><td>University of Auckland</td><td>4.949747468305833</td><td>0.0</td></tr><tr><td>University of Wrocław</td><td>4.949747468305833</td><td>0.7071067811865476</td></tr><tr><td>University of Eastern Finland</td><td>4.949747468305833</td><td>0.0</td></tr><tr><td>University of New Orleans</td><td>4.949747468305833</td><td>2.1213203435596424</td></tr><tr><td>Murdoch University</td><td>4.949747468305833</td><td>1.4142135623730951</td></tr><tr><td>University of Santiago de Compostela</td><td>4.949747468305833</td><td>0.0</td></tr><tr><td>University of Central Florida</td><td>4.949747468305833</td><td>1.4142135623730951</td></tr><tr><td>University of Jyväskylä</td><td>4.949747468305833</td><td>0.0</td></tr><tr><td>Jean Monnet University</td><td>4.949747468305833</td><td>0.0</td></tr><tr><td>Pukyong National University</td><td>4.949747468305833</td><td>0.7071067811865476</td></tr><tr><td>Institut national des sciences Appliquées de Lyon</td><td>4.949747468305833</td><td>0.0</td></tr><tr><td>Federal University of Rio de Janeiro</td><td>4.949747468305833</td><td>0.0</td></tr><tr><td>Kyoto Prefectural University of Medicine</td><td>4.949747468305833</td><td>0.7071067811865476</td></tr><tr><td>Kyungpook National University</td><td>4.949747468305833</td><td>0.0</td></tr><tr><td>University of Valencia</td><td>4.949747468305833</td><td>0.0</td></tr><tr><td>Queen's University</td><td>4.949747468305833</td><td>0.7071067811865476</td></tr><tr><td>Chalmers University of Technology</td><td>4.949747468305833</td><td>0.0</td></tr><tr><td>University of Oregon</td><td>4.949747468305833</td><td>2.8284271247461903</td></tr><tr><td>University of Kansas</td><td>4.949747468305833</td><td>0.7071067811865476</td></tr><tr><td>Sungkyunkwan University</td><td>4.949747468305833</td><td>0.0</td></tr><tr><td>University of Electronic Science and Technology of China</td><td>4.949747468305833</td><td>1.4142135623730951</td></tr><tr><td>University of North Carolina at Chapel Hill</td><td>4.856267428111154</td><td>1.7320508075688772</td></tr><tr><td>Jiangsu University</td><td>4.242640687119285</td><td>2.8284271247461903</td></tr><tr><td>University of Vigo</td><td>4.242640687119285</td><td>0.7071067811865476</td></tr><tr><td>Roma Tre University</td><td>4.242640687119285</td><td>1.4142135623730951</td></tr><tr><td>Yeungnam University</td><td>4.242640687119285</td><td>0.7071067811865476</td></tr><tr><td>Kitasato University</td><td>4.242640687119285</td><td>0.7071067811865476</td></tr><tr><td>University of Mississippi Medical Center</td><td>4.242640687119285</td><td>3.5355339059327378</td></tr><tr><td>Cairo University</td><td>4.242640687119285</td><td>0.0</td></tr><tr><td>University of Mannheim</td><td>4.242640687119285</td><td>2.1213203435596424</td></tr><tr><td>Boston College</td><td>4.242640687119285</td><td>2.8284271247461903</td></tr><tr><td>Michigan Technological University</td><td>4.242640687119285</td><td>4.242640687119285</td></tr><tr><td>University of Colorado Denver</td><td>4.242640687119285</td><td>1.4142135623730951</td></tr><tr><td>Jaume I University</td><td>4.242640687119285</td><td>0.7071067811865476</td></tr><tr><td>Lehigh University</td><td>4.242640687119285</td><td>1.4142135623730951</td></tr><tr><td>University of Basel</td><td>4.242640687119285</td><td>0.0</td></tr><tr><td>Fudan University</td><td>4.242640687119285</td><td>1.4142135623730951</td></tr><tr><td>SUNY Downstate Medical Center</td><td>4.242640687119285</td><td>2.8284271247461903</td></tr><tr><td>University of Hohenheim</td><td>4.242640687119285</td><td>1.4142135623730951</td></tr><tr><td>University of Debrecen</td><td>4.242640687119285</td><td>0.0</td></tr><tr><td>University of Nevada, Reno</td><td>4.242640687119285</td><td>0.0</td></tr><tr><td>University of Strasbourg</td><td>4.242640687119285</td><td>0.0</td></tr><tr><td>Rovira i Virgili University</td><td>4.242640687119285</td><td>0.7071067811865476</td></tr><tr><td>Michigan State University</td><td>4.242640687119285</td><td>0.7071067811865476</td></tr><tr><td>University of Malaya</td><td>4.242640687119285</td><td>0.0</td></tr><tr><td>Second Military Medical University</td><td>4.242640687119285</td><td>1.4142135623730951</td></tr><tr><td>Thomas Jefferson University</td><td>4.242640687119285</td><td>6.363961030678928</td></tr><tr><td>University of Manchester</td><td>3.915780041490243</td><td>0.49999999999999994</td></tr><tr><td>University of Illinois at Urbana–Champaign</td><td>3.862210075418823</td><td>2.6457513110645907</td></tr><tr><td>University of Washington - Seattle</td><td>3.8622100754188224</td><td>2.70801280154532</td></tr><tr><td>University of British Columbia</td><td>3.74165738677394</td><td>0.0</td></tr><tr><td>City College of New York</td><td>3.5355339059327378</td><td>2.1213203435596424</td></tr><tr><td>Concordia University</td><td>3.5355339059327378</td><td>0.0</td></tr><tr><td>University of Hanover</td><td>3.5355339059327378</td><td>0.0</td></tr><tr><td>Oregon State University</td><td>3.5355339059327378</td><td>5.656854249492381</td></tr><tr><td>Autonomous University of Madrid</td><td>3.5355339059327378</td><td>0.0</td></tr><tr><td>Queen Mary University of London</td><td>3.5355339059327378</td><td>0.7071067811865476</td></tr><tr><td>University of Liège</td><td>3.5355339059327378</td><td>0.7071067811865476</td></tr><tr><td>University of Valenciennes and Hainaut-Cambresis</td><td>3.5355339059327378</td><td>0.7071067811865476</td></tr><tr><td>University of Sheffield</td><td>3.5355339059327378</td><td>0.0</td></tr><tr><td>University of Missouri–Kansas City</td><td>3.5355339059327378</td><td>2.1213203435596424</td></tr><tr><td>Federal University of Paraná</td><td>3.5355339059327378</td><td>1.4142135623730951</td></tr><tr><td>Gyeongsang National University</td><td>3.5355339059327378</td><td>0.0</td></tr><tr><td>St George's, University of London</td><td>3.5355339059327378</td><td>0.0</td></tr><tr><td>Eindhoven University of Technology</td><td>3.5355339059327378</td><td>0.0</td></tr><tr><td>University of Basilicata</td><td>3.5355339059327378</td><td>0.0</td></tr><tr><td>Stellenbosch University</td><td>3.5355339059327378</td><td>0.0</td></tr><tr><td>University of Münster</td><td>3.5355339059327378</td><td>0.7071067811865476</td></tr><tr><td>University of the Ryukyus</td><td>3.5355339059327378</td><td>1.4142135623730951</td></tr><tr><td>Iowa State University</td><td>3.5355339059327378</td><td>0.7071067811865476</td></tr><tr><td>Norwegian University of Life Sciences</td><td>3.5355339059327378</td><td>0.0</td></tr><tr><td>Tehran University of Medical Sciences</td><td>3.5355339059327378</td><td>0.0</td></tr><tr><td>Georgetown University</td><td>3.5355339059327378</td><td>1.4142135623730951</td></tr><tr><td>University at Buffalo, The State University of New York</td><td>3.5355339059327378</td><td>2.8284271247461903</td></tr><tr><td>University of Adelaide</td><td>3.5355339059327378</td><td>0.0</td></tr><tr><td>Radboud University Nijmegen</td><td>3.5355339059327378</td><td>0.7071067811865476</td></tr><tr><td>San Francisco State University</td><td>3.5355339059327378</td><td>3.5355339059327378</td></tr><tr><td>University of Texas Health Science Center at San Antonio</td><td>3.5355339059327378</td><td>2.8284271247461903</td></tr><tr><td>California Institute of Technology</td><td>3.366501646120693</td><td>2.8722813232690143</td></tr><tr><td>University of Sydney</td><td>3.095695936834454</td><td>0.5</td></tr><tr><td>Heriot-Watt University</td><td>2.8284271247461903</td><td>1.4142135623730951</td></tr><tr><td>University of Texas at Dallas</td><td>2.8284271247461903</td><td>0.7071067811865476</td></tr><tr><td>University Lille 1: Sciences and Technologies</td><td>2.8284271247461903</td><td>1.4142135623730951</td></tr><tr><td>University of Barcelona</td><td>2.8284271247461903</td><td>0.0</td></tr><tr><td>Vita-Salute San Raffaele University</td><td>2.8284271247461903</td><td>0.7071067811865476</td></tr><tr><td>University of Vermont</td><td>2.8284271247461903</td><td>1.4142135623730951</td></tr><tr><td>Xiangtan University</td><td>2.8284271247461903</td><td>2.1213203435596424</td></tr><tr><td>University of Ulm</td><td>2.8284271247461903</td><td>0.0</td></tr><tr><td>North Carolina State University</td><td>2.8284271247461903</td><td>0.0</td></tr><tr><td>Osaka Prefecture University</td><td>2.8284271247461903</td><td>4.242640687119285</td></tr><tr><td>University of Southern Denmark</td><td>2.8284271247461903</td><td>0.0</td></tr><tr><td>Ohio University</td><td>2.8284271247461903</td><td>0.0</td></tr><tr><td>South China Agricultural University</td><td>2.8284271247461903</td><td>1.4142135623730951</td></tr><tr><td>University of New Mexico</td><td>2.8284271247461903</td><td>2.8284271247461903</td></tr><tr><td>University of Aveiro</td><td>2.8284271247461903</td><td>0.0</td></tr><tr><td>Hunan Normal University</td><td>2.8284271247461903</td><td>2.8284271247461903</td></tr><tr><td>University of Murcia</td><td>2.8284271247461903</td><td>0.7071067811865476</td></tr><tr><td>University of Neuchâtel</td><td>2.8284271247461903</td><td>0.0</td></tr><tr><td>University of Naples Federico II</td><td>2.8284271247461903</td><td>0.0</td></tr><tr><td>Medical College of Wisconsin</td><td>2.8284271247461903</td><td>0.0</td></tr><tr><td>University of Melbourne</td><td>2.8284271247461903</td><td>0.0</td></tr><tr><td>Humboldt University of Berlin</td><td>2.8284271247461903</td><td>0.7071067811865476</td></tr><tr><td>McGill University</td><td>2.7080128015453213</td><td>0.0</td></tr><tr><td>New York University</td><td>2.629955639676583</td><td>1.2583057392117918</td></tr><tr><td>University of Florida</td><td>2.629955639676582</td><td>0.9574271077563381</td></tr><tr><td>University of Toronto</td><td>2.5</td><td>0.0</td></tr><tr><td>Ohio State University, Columbus</td><td>2.4494897427831783</td><td>3.6514837167011067</td></tr><tr><td>University of Minnesota, Twin Cities</td><td>2.3804761428476167</td><td>2.4999999999999996</td></tr><tr><td>University of California, San Francisco</td><td>2.2173557826083456</td><td>1.825741858350554</td></tr><tr><td>King Abdulaziz University</td><td>2.1213203435596424</td><td>0.0</td></tr><tr><td>Fu Jen Catholic University</td><td>2.1213203435596424</td><td>1.4142135623730951</td></tr><tr><td>Zhejiang University of Technology</td><td>2.1213203435596424</td><td>3.5355339059327378</td></tr><tr><td>University of Tübingen</td><td>2.1213203435596424</td><td>0.7071067811865476</td></tr><tr><td>Hannover Medical School</td><td>2.1213203435596424</td><td>0.7071067811865476</td></tr><tr><td>Kanazawa University</td><td>2.1213203435596424</td><td>4.242640687119285</td></tr><tr><td>Aarhus University</td><td>2.1213203435596424</td><td>0.0</td></tr><tr><td>Florida State University</td><td>2.1213203435596424</td><td>4.242640687119285</td></tr><tr><td>Leipzig University</td><td>2.1213203435596424</td><td>0.7071067811865476</td></tr><tr><td>National Autonomous University of Mexico</td><td>2.1213203435596424</td><td>0.0</td></tr><tr><td>Laval University</td><td>2.1213203435596424</td><td>0.0</td></tr><tr><td>National University of La Plata</td><td>2.1213203435596424</td><td>0.0</td></tr><tr><td>Wayne State University</td><td>2.1213203435596424</td><td>0.7071067811865476</td></tr><tr><td>Durham University</td><td>2.1213203435596424</td><td>0.0</td></tr><tr><td>Yangzhou University</td><td>2.1213203435596424</td><td>0.7071067811865476</td></tr><tr><td>University of Burgundy</td><td>2.1213203435596424</td><td>1.4142135623730951</td></tr><tr><td>École Polytechnique de Montréal</td><td>2.1213203435596424</td><td>0.0</td></tr><tr><td>Hamamatsu University School of Medicine</td><td>2.1213203435596424</td><td>1.4142135623730951</td></tr><tr><td>Drexel University</td><td>2.1213203435596424</td><td>5.656854249492381</td></tr><tr><td>University of Extremadura</td><td>2.1213203435596424</td><td>0.0</td></tr><tr><td>Georgia State University</td><td>2.1213203435596424</td><td>2.8284271247461903</td></tr><tr><td>University of Marburg</td><td>2.1213203435596424</td><td>0.0</td></tr><tr><td>University of Haifa</td><td>2.1213203435596424</td><td>0.0</td></tr><tr><td>University of Texas at Austin</td><td>1.8929694486000916</td><td>1.0</td></tr><tr><td>University of California, Los Angeles</td><td>1.8929694486000912</td><td>0.5000000000000001</td></tr><tr><td>University College London</td><td>1.7320508075688767</td><td>0.5773502691896257</td></tr><tr><td>Johns Hopkins University</td><td>1.707825127659933</td><td>0.816496580927726</td></tr><tr><td>Swiss Federal Institute of Technology in Zurich</td><td>1.6329931618554525</td><td>0.0</td></tr><tr><td>University of Oxford</td><td>1.632993161855452</td><td>0.5</td></tr><tr><td>Columbia University</td><td>1.5</td><td>1.5</td></tr><tr><td>University of California, Berkeley</td><td>1.5</td><td>1.5</td></tr><tr><td>Federal University of Rio Grande do Sul</td><td>1.4142135623730951</td><td>0.0</td></tr><tr><td>University of Guelph</td><td>1.4142135623730951</td><td>2.1213203435596424</td></tr><tr><td>University of Cologne</td><td>1.4142135623730951</td><td>0.0</td></tr><tr><td>West Virginia University</td><td>1.4142135623730951</td><td>2.1213203435596424</td></tr><tr><td>Umeå University</td><td>1.4142135623730951</td><td>0.0</td></tr><tr><td>Yamagata University</td><td>1.4142135623730951</td><td>3.5355339059327378</td></tr><tr><td>Karlsruhe Institute of Technology</td><td>1.4142135623730951</td><td>0.7071067811865476</td></tr><tr><td>Waseda University</td><td>1.4142135623730951</td><td>0.0</td></tr><tr><td>University of Missouri–Columbia</td><td>1.4142135623730951</td><td>0.7071067811865476</td></tr><tr><td>Princeton University</td><td>1.4142135623730951</td><td>0.9574271077563381</td></tr><tr><td>Shanghai Normal University</td><td>1.4142135623730951</td><td>3.5355339059327378</td></tr><tr><td>International School for Advanced Studies</td><td>1.4142135623730951</td><td>1.4142135623730951</td></tr><tr><td>City University of Hong Kong</td><td>1.4142135623730951</td><td>0.7071067811865476</td></tr><tr><td>University of Manitoba</td><td>1.4142135623730951</td><td>0.0</td></tr><tr><td>University of Otago</td><td>1.4142135623730951</td><td>0.0</td></tr><tr><td>Dalhousie University</td><td>1.4142135623730951</td><td>0.0</td></tr><tr><td>University of South Carolina - Columbia</td><td>1.4142135623730951</td><td>0.7071067811865476</td></tr><tr><td>University of Southampton</td><td>1.4142135623730951</td><td>0.0</td></tr><tr><td>University of Ulsan</td><td>1.4142135623730951</td><td>0.7071067811865476</td></tr><tr><td>University of Chicago</td><td>1.4142135623730951</td><td>1.414213562373095</td></tr><tr><td>Rush University</td><td>1.4142135623730951</td><td>2.8284271247461903</td></tr><tr><td>Taipei Medical University</td><td>1.4142135623730951</td><td>0.7071067811865476</td></tr><tr><td>Braunschweig University of Technology</td><td>1.4142135623730951</td><td>0.7071067811865476</td></tr><tr><td>Justus Liebig University Giessen</td><td>1.4142135623730951</td><td>0.7071067811865476</td></tr><tr><td>Cornell University</td><td>1.2909944487358056</td><td>1.2909944487358056</td></tr><tr><td>Duke University</td><td>1.2909944487358056</td><td>0.5773502691896262</td></tr><tr><td>Yale University</td><td>1.2583057392117913</td><td>1.2583057392117918</td></tr><tr><td>University of Wisconsin–Madison</td><td>1.0</td><td>0.5</td></tr><tr><td>Kyoto University</td><td>0.9574271077563381</td><td>0.0</td></tr><tr><td>University of Pennsylvania</td><td>0.9574271077563381</td><td>0.5000000000000001</td></tr><tr><td>Hebrew University of Jerusalem</td><td>0.816496580927726</td><td>0.5</td></tr><tr><td>Massachusetts Institute of Technology</td><td>0.816496580927726</td><td>0.5</td></tr><tr><td>Yeshiva University</td><td>0.7071067811865476</td><td>0.7071067811865476</td></tr><tr><td>Colorado School of Mines</td><td>0.7071067811865476</td><td>0.7071067811865476</td></tr><tr><td>Federal University of Pernambuco</td><td>0.7071067811865476</td><td>1.4142135623730951</td></tr><tr><td>Georgia Regents University</td><td>0.7071067811865476</td><td>0.7071067811865476</td></tr><tr><td>Open University (UK)</td><td>0.7071067811865476</td><td>0.0</td></tr><tr><td>College of William and Mary</td><td>0.7071067811865476</td><td>1.4142135623730951</td></tr><tr><td>Northwestern Polytechnical University</td><td>0.7071067811865476</td><td>0.0</td></tr><tr><td>University of São Paulo</td><td>0.7071067811865476</td><td>0.0</td></tr><tr><td>University of Calgary</td><td>0.7071067811865476</td><td>0.0</td></tr><tr><td>Lund University</td><td>0.7071067811865476</td><td>0.7071067811865476</td></tr><tr><td>Southern Illinois University Carbondale</td><td>0.7071067811865476</td><td>0.0</td></tr><tr><td>University of Kent</td><td>0.7071067811865476</td><td>0.0</td></tr><tr><td>Auburn University</td><td>0.7071067811865476</td><td>2.8284271247461903</td></tr><tr><td>University of Parma</td><td>0.7071067811865476</td><td>1.4142135623730951</td></tr><tr><td>University of Brighton</td><td>0.7071067811865476</td><td>1.4142135623730951</td></tr><tr><td>Royal Holloway, University of London</td><td>0.7071067811865476</td><td>1.4142135623730951</td></tr><tr><td>Tokyo Metropolitan University</td><td>0.7071067811865476</td><td>2.1213203435596424</td></tr><tr><td>University of Miami</td><td>0.7071067811865476</td><td>1.4142135623730951</td></tr><tr><td>Peking University</td><td>0.7071067811865476</td><td>0.0</td></tr><tr><td>University of Texas Medical Branch at Galveston</td><td>0.7071067811865476</td><td>2.8284271247461903</td></tr><tr><td>University of Bern</td><td>0.7071067811865476</td><td>0.0</td></tr><tr><td>University of Western Brittany</td><td>0.7071067811865476</td><td>0.0</td></tr><tr><td>Amirkabir University of Technology</td><td>0.7071067811865476</td><td>1.4142135623730951</td></tr><tr><td>Saint Louis University</td><td>0.7071067811865476</td><td>0.7071067811865476</td></tr><tr><td>University of Alcalá</td><td>0.7071067811865476</td><td>0.0</td></tr><tr><td>Queen's University Belfast</td><td>0.7071067811865476</td><td>1.4142135623730951</td></tr><tr><td>Miami University</td><td>0.7071067811865476</td><td>0.7071067811865476</td></tr><tr><td>University of Rennes 1</td><td>0.7071067811865476</td><td>0.0</td></tr><tr><td>National Central University</td><td>0.7071067811865476</td><td>1.4142135623730951</td></tr><tr><td>University of Tokyo</td><td>0.5773502691896256</td><td>0.0</td></tr><tr><td>Stanford University</td><td>0.5</td><td>0.5</td></tr><tr><td>University of Cambridge</td><td>0.49999999999999994</td><td>0.5</td></tr><tr><td>University of California, San Diego</td><td>0.4999999999999998</td><td>0.8164965809277263</td></tr><tr><td>University of Ioannina</td><td>0.0</td><td>0.0</td></tr><tr><td>Uppsala University</td><td>0.0</td><td>0.7071067811865476</td></tr><tr><td>Baylor College of Medicine</td><td>0.0</td><td>0.0</td></tr><tr><td>Shiraz University</td><td>0.0</td><td>1.4142135623730951</td></tr><tr><td>University of Insubria</td><td>0.0</td><td>0.7071067811865476</td></tr><tr><td>University of Tennessee, Knoxville</td><td>0.0</td><td>0.0</td></tr><tr><td>Vienna University of Technology</td><td>0.0</td><td>0.7071067811865476</td></tr><tr><td>China Medical University (PRC)</td><td>0.0</td><td>2.1213203435596424</td></tr><tr><td>Ain Shams University</td><td>0.0</td><td>1.4142135623730951</td></tr><tr><td>University of Düsseldorf</td><td>0.0</td><td>0.0</td></tr><tr><td>Harvard University</td><td>0.0</td><td>0.0</td></tr><tr><td>Nara Institute of Science and Technology</td><td>0.0</td><td>0.7071067811865476</td></tr><tr><td>Second University of Naples</td><td>0.0</td><td>1.4142135623730951</td></tr><tr><td>Jawaharlal Nehru Centre for Advanced Scientific Research</td><td>0.0</td><td>0.0</td></tr><tr><td>National University of Rosario</td><td>null</td><td>null</td></tr><tr><td>Northwest A&F University</td><td>null</td><td>null</td></tr><tr><td>École normale supérieure de Cachan</td><td>null</td><td>null</td></tr><tr><td>Gachon University</td><td>null</td><td>null</td></tr><tr><td>University of Lethbridge</td><td>null</td><td>null</td></tr><tr><td>National Dong Hwa University</td><td>null</td><td>null</td></tr><tr><td>Iran University of Science and Technology</td><td>null</td><td>null</td></tr><tr><td>National Research Nuclear University MEPhI</td><td>null</td><td>null</td></tr><tr><td>Western Michigan University</td><td>null</td><td>null</td></tr><tr><td>Southwest Jiaotong University</td><td>null</td><td>null</td></tr><tr><td>Guangxi University</td><td>null</td><td>null</td></tr><tr><td>Tianjin Medical University</td><td>null</td><td>null</td></tr><tr><td>University of Bordeaux</td><td>null</td><td>null</td></tr><tr><td>University of Montpellier 1</td><td>null</td><td>null</td></tr><tr><td>Moscow Institute of Physics and Technology</td><td>null</td><td>null</td></tr><tr><td>Babeș-Bolyai University</td><td>null</td><td>null</td></tr><tr><td>University of Bordeaux I</td><td>null</td><td>null</td></tr><tr><td>Henan Normal University</td><td>null</td><td>null</td></tr><tr><td>Shahid Beheshti University of Medical Sciences</td><td>null</td><td>null</td></tr><tr><td>I-Shou University</td><td>null</td><td>null</td></tr><tr><td>National University of Defense Technology</td><td>null</td><td>null</td></tr><tr><td>University of Bordeaux II</td><td>null</td><td>null</td></tr><tr><td>Yanbian University</td><td>null</td><td>null</td></tr><tr><td>Renmin University of China</td><td>null</td><td>null</td></tr><tr><td>University of Oklahoma Health Sciences Center</td><td>null</td><td>null</td></tr><tr><td>Harbin Medical University</td><td>null</td><td>null</td></tr><tr><td>University of Central Lancashire</td><td>null</td><td>null</td></tr><tr><td>University of Montpellier</td><td>null</td><td>null</td></tr><tr><td>Jacobs University Bremen</td><td>null</td><td>null</td></tr><tr><td>King Juan Carlos University</td><td>null</td><td>null</td></tr><tr><td>Shanxi University</td><td>null</td><td>null</td></tr><tr><td>Shaanxi Normal University</td><td>null</td><td>null</td></tr><tr><td>Shenzhen University</td><td>null</td><td>null</td></tr><tr><td>University of Maine (Le Mans)</td><td>null</td><td>null</td></tr><tr><td>Williams College</td><td>null</td><td>null</td></tr><tr><td>National Taipei University of Technology</td><td>null</td><td>null</td></tr><tr><td>Hefei University of Technology</td><td>null</td><td>null</td></tr><tr><td>Zhejiang Normal University</td><td>null</td><td>null</td></tr><tr><td>China University of Geosciences (Wuhan)</td><td>null</td><td>null</td></tr><tr><td>University of Montpellier 2</td><td>null</td><td>null</td></tr><tr><td>Tamkang University</td><td>null</td><td>null</td></tr><tr><td>University of Calcutta</td><td>null</td><td>null</td></tr><tr><td>Beijing Jiaotong University</td><td>null</td><td>null</td></tr><tr><td>Ulsan National Institute of Science and Technology</td><td>null</td><td>null</td></tr><tr><td>Harbin Engineering University</td><td>null</td><td>null</td></tr><tr><td>École centrale de Lyon</td><td>null</td><td>null</td></tr><tr><td>Chemnitz University of Technology</td><td>null</td><td>null</td></tr></tbody></table></div>"
      ]
     },
     "metadata": {
      "application/vnd.databricks.v1+output": {
       "addedWidgets": {},
       "aggData": [],
       "aggError": "",
       "aggOverflow": false,
       "aggSchema": [],
       "aggSeriesLimitReached": false,
       "aggType": "",
       "arguments": {},
       "columnCustomDisplayInfos": {},
       "data": [
        [
         "Peking Union Medical College",
         239.00209204105306,
         14.142135623730951
        ],
        [
         "Osaka City University",
         229.1025971044414,
         8.48528137423857
        ],
        [
         "Dankook University",
         164.75588001646557,
         5.656854249492381
        ],
        [
         "University of Lübeck",
         146.37110370561533,
         2.1213203435596424
        ],
        [
         "Cranfield University",
         139.30003589374985,
         6.363961030678928
        ],
        [
         "University of Hull",
         133.64318164425748,
         7.7781745930520225
        ],
        [
         "University of Eastern Piedmont Amedeo Avogadro",
         127.27922061357856,
         7.0710678118654755
        ],
        [
         "Chung Yuan Christian University",
         126.572113832392,
         3.5355339059327378
        ],
        [
         "Yokohama National University",
         126.572113832392,
         8.48528137423857
        ],
        [
         "University of Málaga",
         123.03657992645927,
         7.0710678118654755
        ],
        [
         "Putra University, Malaysia",
         118.79393923933998,
         0.0
        ],
        [
         "University of Science, Malaysia",
         118.08683245815344,
         0.0
        ],
        [
         "Kobe University",
         118.08683245815344,
         2.1213203435596424
        ],
        [
         "University of Oldenburg",
         116.67261889578035,
         2.1213203435596424
        ],
        [
         "Sogang University",
         108.18733752154178,
         4.949747468305833
        ],
        [
         "Tottori University",
         107.48023074035522,
         8.48528137423857
        ],
        [
         "King Saud University",
         105.35891039679558,
         0.0
        ],
        [
         "Indian Institute of Technology Kanpur",
         102.5304832720494,
         3.5355339059327378
        ],
        [
         "Beihang University",
         102.5304832720494,
         9.899494936611665
        ],
        [
         "Sharif University of Technology",
         96.16652224137046,
         0.7071067811865476
        ],
        [
         "AGH University of Science and Technology",
         91.21677477306463,
         0.7071067811865476
        ],
        [
         "University of New England (Australia)",
         90.50966799187809,
         3.5355339059327378
        ],
        [
         "Université de Namur",
         86.97413408594535,
         0.0
        ],
        [
         "American University of Beirut",
         85.55992052357225,
         0.0
        ],
        [
         "Saint Petersburg State University",
         85.55992052357225,
         0.7071067811865476
        ],
        [
         "Catholic University of Korea",
         83.43860018001261,
         4.242640687119285
        ],
        [
         "Louisiana State University - Baton Rouge",
         82.02438661763951,
         22.627416997969522
        ],
        [
         "University of Oklahoma - Norman Campus",
         81.31727983645297,
         19.091883092036785
        ],
        [
         "Hunter College",
         80.61017305526642,
         9.192388155425117
        ],
        [
         "Flinders University",
         79.90306627407988,
         4.242640687119285
        ],
        [
         "University of Windsor",
         78.48885271170677,
         0.7071067811865476
        ],
        [
         "University of Seoul",
         77.78174593052023,
         2.8284271247461903
        ],
        [
         "Jinan University",
         77.07463914933368,
         14.849242404917497
        ],
        [
         "Wilfrid Laurier University",
         74.95331880577403,
         2.1213203435596424
        ],
        [
         "Mississippi State University",
         72.8319984622144,
         14.142135623730951
        ],
        [
         "New Jersey Institute of Technology",
         70.71067811865476,
         11.313708498984761
        ],
        [
         "University of Toledo",
         70.0035713374682,
         14.849242404917497
        ],
        [
         "Soochow University (Suzhou)",
         69.29646455628166,
         2.1213203435596424
        ],
        [
         "Nanjing University of Science and Technology",
         66.46803743153546,
         9.192388155425117
        ],
        [
         "Baylor University",
         66.46803743153546,
         13.435028842544403
        ],
        [
         "University of Dayton",
         65.76093065034893,
         15.556349186104045
        ],
        [
         "National Chung Hsing University",
         64.34671708797582,
         1.4142135623730951
        ],
        [
         "China Medical University (Taiwan)",
         63.63961030678928,
         2.1213203435596424
        ],
        [
         "Eötvös Loránd University",
         61.518289963229634,
         0.0
        ],
        [
         "Yamaguchi University",
         60.81118318204309,
         7.0710678118654755
        ],
        [
         "Ritsumeikan University",
         60.81118318204309,
         4.949747468305833
        ],
        [
         "East China Normal University",
         60.81118318204309,
         0.0
        ],
        [
         "University of Tasmania",
         60.10407640085654,
         2.1213203435596424
        ],
        [
         "University of Texas at El Paso",
         60.10407640085654,
         5.656854249492381
        ],
        [
         "University of Valladolid",
         59.39696961966999,
         2.8284271247461903
        ],
        [
         "Washington State University, Pullman",
         59.39696961966999,
         12.020815280171307
        ],
        [
         "University of Belgrade",
         58.68986283848344,
         0.0
        ],
        [
         "Missouri University of Science and Technology",
         57.27564927611035,
         11.313708498984761
        ],
        [
         "University of Mississippi - Oxford Campus",
         57.27564927611035,
         14.849242404917497
        ],
        [
         "Palacký University, Olomouc",
         56.568542494923804,
         0.0
        ],
        [
         "Kindai University",
         55.86143571373726,
         4.949747468305833
        ],
        [
         "The Catholic University of America",
         55.86143571373726,
         3.5355339059327378
        ],
        [
         "Chung-Ang University",
         55.154328932550705,
         4.242640687119285
        ],
        [
         "University of South Alabama",
         54.44722215136416,
         4.242640687119285
        ],
        [
         "Fukuoka University",
         53.74011537017761,
         2.1213203435596424
        ],
        [
         "University of Greifswald",
         53.74011537017761,
         0.7071067811865476
        ],
        [
         "Tilburg University",
         53.033008588991066,
         0.0
        ],
        [
         "Howard University",
         53.033008588991066,
         9.192388155425117
        ],
        [
         "Shizuoka University",
         53.033008588991066,
         2.8284271247461903
        ],
        [
         "National Taiwan Normal University",
         53.033008588991066,
         0.7071067811865476
        ],
        [
         "Polytechnic University of Turin",
         52.32590180780452,
         2.1213203435596424
        ],
        [
         "Pontifical Catholic University of Chile",
         52.32590180780452,
         0.0
        ],
        [
         "Birkbeck, University of London",
         52.32590180780452,
         5.656854249492381
        ],
        [
         "Wuhan University of Technology",
         52.32590180780452,
         1.4142135623730951
        ],
        [
         "Middle East Technical University",
         52.32590180780452,
         0.0
        ],
        [
         "China Agricultural University",
         51.61879502661797,
         0.0
        ],
        [
         "Konkuk University",
         51.61879502661797,
         1.4142135623730951
        ],
        [
         "University of Arkansas - Fayetteville",
         51.61879502661797,
         9.899494936611665
        ],
        [
         "Donghua University",
         50.91168824543142,
         1.4142135623730951
        ],
        [
         "Hirosaki University",
         50.91168824543142,
         1.4142135623730951
        ],
        [
         "University of Massachusetts Lowell",
         50.204581464244875,
         3.5355339059327378
        ],
        [
         "Ehime University",
         49.49747468305833,
         2.8284271247461903
        ],
        [
         "Medical University of Graz",
         48.79036790187178,
         0.7071067811865476
        ],
        [
         "University of Science and Technology Beijing",
         48.79036790187178,
         0.0
        ],
        [
         "Novosibirsk State University",
         48.79036790187178,
         1.4142135623730951
        ],
        [
         "University of Gothenburg",
         48.79036790187178,
         0.7071067811865476
        ],
        [
         "Nagasaki University",
         48.79036790187178,
         2.1213203435596424
        ],
        [
         "University of Pretoria",
         48.79036790187178,
         0.0
        ],
        [
         "University of Essex",
         48.79036790187178,
         2.8284271247461903
        ],
        [
         "Clarkson University",
         48.79036790187178,
         4.242640687119285
        ],
        [
         "Manchester Metropolitan University",
         48.08326112068523,
         2.1213203435596424
        ],
        [
         "University of Tokushima",
         48.08326112068523,
         2.1213203435596424
        ],
        [
         "Tokyo University of Science",
         48.08326112068523,
         2.1213203435596424
        ],
        [
         "National University of Colombia",
         47.37615433949868,
         0.0
        ],
        [
         "University of North Carolina at Charlotte",
         47.37615433949868,
         4.949747468305833
        ],
        [
         "Beijing Institute of Technology",
         47.37615433949868,
         2.1213203435596424
        ],
        [
         "University of the Republic (Uruguay)",
         46.66904755831214,
         45.96194077712559
        ],
        [
         "University of Graz",
         46.66904755831214,
         0.7071067811865476
        ],
        [
         "Boğaziçi University",
         46.66904755831214,
         1.4142135623730951
        ],
        [
         "Nihon University",
         46.66904755831214,
         6.363961030678928
        ],
        [
         "Harbin Institute of Technology",
         45.96194077712559,
         3.5355339059327378
        ],
        [
         "University of Electro-Communications",
         45.96194077712559,
         2.1213203435596424
        ],
        [
         "University of Los Andes (Colombia)",
         45.96194077712559,
         0.0
        ],
        [
         "Grenoble Institute of Technology",
         45.96194077712559,
         2.1213203435596424
        ],
        [
         "Royal College of Surgeons in Ireland",
         45.254833995939045,
         0.0
        ],
        [
         "Tarbiat Modares University",
         45.254833995939045,
         2.1213203435596424
        ],
        [
         "Brunel University",
         44.54772721475249,
         0.7071067811865476
        ],
        [
         "University of Sussex",
         44.54772721475249,
         4.949747468305833
        ],
        [
         "Tianjin University",
         44.54772721475249,
         1.4142135623730951
        ],
        [
         "Dalian University of Technology",
         44.54772721475249,
         1.4142135623730951
        ],
        [
         "Ankara University",
         44.54772721475249,
         0.7071067811865476
        ],
        [
         "Fluminense Federal University",
         44.54772721475249,
         0.0
        ],
        [
         "University of A Coruña",
         43.840620433565945,
         0.0
        ],
        [
         "University of Wales, Trinity Saint David",
         43.840620433565945,
         1.4142135623730951
        ],
        [
         "University of L'Aquila",
         43.840620433565945,
         2.1213203435596424
        ],
        [
         "Australian National University",
         43.485629810317796,
         2.0816659994661326
        ],
        [
         "Victoria University of Wellington",
         43.1335136523794,
         0.0
        ],
        [
         "University of Akron",
         43.1335136523794,
         6.363961030678928
        ],
        [
         "York University",
         43.1335136523794,
         2.1213203435596424
        ],
        [
         "Indian Institute of Technology Bombay",
         43.1335136523794,
         1.4142135623730951
        ],
        [
         "University of Denver",
         42.42640687119285,
         11.313708498984761
        ],
        [
         "University of Bonn",
         42.42640687119285,
         3.5355339059327378
        ],
        [
         "South China University of Technology",
         41.71930009000631,
         0.0
        ],
        [
         "University of Salzburg",
         41.71930009000631,
         0.0
        ],
        [
         "University of Fribourg",
         41.71930009000631,
         0.0
        ],
        [
         "University of Savoy",
         41.012193308819754,
         2.8284271247461903
        ],
        [
         "University of Waikato",
         41.012193308819754,
         0.0
        ],
        [
         "Shinshu University",
         41.012193308819754,
         2.8284271247461903
        ],
        [
         "University of Miyazaki",
         41.012193308819754,
         0.7071067811865476
        ],
        [
         "Queens College, City University of New York",
         41.012193308819754,
         2.8284271247461903
        ],
        [
         "Innsbruck Medical University",
         40.30508652763321,
         0.7071067811865476
        ],
        [
         "University of Delhi",
         40.30508652763321,
         0.0
        ],
        [
         "Lanzhou University",
         40.30508652763321,
         0.7071067811865476
        ],
        [
         "Trent University",
         39.59797974644666,
         0.7071067811865476
        ],
        [
         "Graz University of Technology",
         39.59797974644666,
         1.4142135623730951
        ],
        [
         "Technion – Israel Institute of Technology",
         39.04271165446034,
         0.5
        ],
        [
         "University of Ulster",
         38.890872965260115,
         5.656854249492381
        ],
        [
         "Nanjing University of Technology",
         38.890872965260115,
         0.7071067811865476
        ],
        [
         "Showa University",
         38.890872965260115,
         4.242640687119285
        ],
        [
         "Czech Technical University in Prague",
         38.890872965260115,
         0.0
        ],
        [
         "Feng Chia University",
         38.890872965260115,
         2.1213203435596424
        ],
        [
         "Federal University of Santa Maria",
         38.890872965260115,
         2.8284271247461903
        ],
        [
         "University of Iceland",
         38.890872965260115,
         0.0
        ],
        [
         "University of Texas at Arlington",
         38.890872965260115,
         7.7781745930520225
        ],
        [
         "University of the Balearic Islands",
         38.18376618407357,
         2.8284271247461903
        ],
        [
         "Mines ParisTech",
         37.58102358017053,
         0.5773502691896258
        ],
        [
         "Indian Institute of Science",
         37.476659402887016,
         0.0
        ],
        [
         "University of Poitiers",
         37.476659402887016,
         0.7071067811865476
        ],
        [
         "Linköping University",
         37.476659402887016,
         0.0
        ],
        [
         "Chiang Mai University",
         37.476659402887016,
         0.0
        ],
        [
         "University of Rhode Island",
         37.476659402887016,
         6.363961030678928
        ],
        [
         "Royal Veterinary College, University of London",
         36.76955262170047,
         0.7071067811865476
        ],
        [
         "Panjab University",
         36.76955262170047,
         0.7071067811865476
        ],
        [
         "Yokohama City University",
         36.76955262170047,
         1.4142135623730951
        ],
        [
         "University of Newcastle",
         36.76955262170047,
         0.7071067811865476
        ],
        [
         "New Mexico State University",
         36.76955262170047,
         9.192388155425117
        ],
        [
         "City University London",
         36.062445840513924,
         0.7071067811865476
        ],
        [
         "Saitama University",
         36.062445840513924,
         2.8284271247461903
        ],
        [
         "Pompeu Fabra University",
         36.062445840513924,
         1.4142135623730951
        ],
        [
         "University of Technology, Sydney",
         36.062445840513924,
         0.7071067811865476
        ],
        [
         "East China University of Science and Technology",
         36.062445840513924,
         0.0
        ],
        [
         "Tongji University",
         35.35533905932738,
         5.656854249492381
        ],
        [
         "University of Minho",
         35.35533905932738,
         0.0
        ],
        [
         "Kagoshima University",
         34.64823227814083,
         1.4142135623730951
        ],
        [
         "Swinburne University of Technology",
         34.64823227814083,
         0.7071067811865476
        ],
        [
         "University of Stirling",
         34.64823227814083,
         0.7071067811865476
        ],
        [
         "University of Cádiz",
         34.64823227814083,
         1.4142135623730951
        ],
        [
         "Jiangnan University",
         34.64823227814083,
         1.4142135623730951
        ],
        [
         "University of Milan - Bicocca",
         34.64823227814083,
         2.8284271247461903
        ],
        [
         "Technical University of Berlin",
         33.94112549695428,
         4.242640687119285
        ],
        [
         "Gazi University",
         33.94112549695428,
         0.7071067811865476
        ],
        [
         "University of Nebraska Medical Center",
         33.94112549695428,
         5.656854249492381
        ],
        [
         "National Taiwan Ocean University",
         33.23401871576773,
         0.0
        ],
        [
         "Oklahoma State University–Stillwater",
         33.23401871576773,
         4.949747468305833
        ],
        [
         "Northern Illinois University",
         33.23401871576773,
         7.7781745930520225
        ],
        [
         "Comenius University in Bratislava",
         33.23401871576773,
         0.0
        ],
        [
         "University of Camerino",
         33.23401871576773,
         0.0
        ],
        [
         "National Technical University of Athens",
         33.23401871576773,
         0.0
        ],
        [
         "Dongguk University",
         33.23401871576773,
         0.0
        ],
        [
         "Vilnius University",
         33.23401871576773,
         0.0
        ],
        [
         "Sapporo Medical University",
         33.23401871576773,
         0.0
        ],
        [
         "Darmstadt University of Technology",
         33.23401871576773,
         3.5355339059327378
        ],
        [
         "Mie University",
         32.526911934581186,
         4.949747468305833
        ],
        [
         "Memorial University of Newfoundland",
         32.526911934581186,
         0.0
        ],
        [
         "University of the Basque Country",
         32.526911934581186,
         0.7071067811865476
        ],
        [
         "Alexandria University",
         32.526911934581186,
         1.4142135623730951
        ],
        [
         "University of Canterbury",
         32.526911934581186,
         0.0
        ],
        [
         "North Dakota State University - Main Campus",
         32.526911934581186,
         2.1213203435596424
        ],
        [
         "Inje University",
         31.81980515339464,
         2.1213203435596424
        ],
        [
         "Rochester Institute of Technology",
         31.81980515339464,
         3.5355339059327378
        ],
        [
         "University of New Hampshire",
         31.81980515339464,
         8.48528137423857
        ],
        [
         "Medical University of Vienna",
         31.81980515339464,
         0.0
        ],
        [
         "Shandong University",
         31.11269837220809,
         1.4142135623730951
        ],
        [
         "Gunma University",
         31.11269837220809,
         4.242640687119285
        ],
        [
         "East Carolina University",
         31.11269837220809,
         2.8284271247461903
        ],
        [
         "Nagoya City University",
         31.11269837220809,
         0.7071067811865476
        ],
        [
         "Jilin University",
         31.11269837220809,
         2.8284271247461903
        ],
        [
         "Wesleyan University",
         31.11269837220809,
         4.949747468305833
        ],
        [
         "Niigata University",
         31.11269837220809,
         1.4142135623730951
        ],
        [
         "Lille 2 University of Health and Law",
         31.11269837220809,
         3.5355339059327378
        ],
        [
         "Northeastern University",
         30.405591591021544,
         7.7781745930520225
        ],
        [
         "University of Portsmouth",
         30.405591591021544,
         2.1213203435596424
        ],
        [
         "University of Warsaw",
         30.405591591021544,
         0.7071067811865476
        ],
        [
         "Charles University in Prague",
         30.405591591021544,
         0.0
        ],
        [
         "Toho University",
         30.405591591021544,
         0.7071067811865476
        ],
        [
         "University of Verona",
         30.405591591021544,
         4.242640687119285
        ],
        [
         "Norwegian University of Science and Technology",
         30.405591591021544,
         0.0
        ],
        [
         "Beijing University of Chemical Technology",
         30.405591591021544,
         2.1213203435596424
        ],
        [
         "Oakland University",
         29.698484809834994,
         2.1213203435596424
        ],
        [
         "Utah State University",
         29.698484809834994,
         2.8284271247461903
        ],
        [
         "Warsaw University of Technology",
         29.698484809834994,
         0.7071067811865476
        ],
        [
         "National University of Ireland, Galway",
         29.698484809834994,
         0.0
        ],
        [
         "University of Perpignan Via Domitia",
         29.698484809834994,
         1.4142135623730951
        ],
        [
         "Indian Institute of Technology Madras",
         29.698484809834994,
         2.1213203435596424
        ],
        [
         "Chosun University",
         28.991378028648448,
         0.7071067811865476
        ],
        [
         "University of Hertfordshire",
         28.991378028648448,
         2.1213203435596424
        ],
        [
         "Binghamton University",
         28.991378028648448,
         7.0710678118654755
        ],
        [
         "Chongqing University",
         28.991378028648448,
         0.7071067811865476
        ],
        [
         "Xiamen University",
         28.991378028648448,
         0.7071067811865476
        ],
        [
         "Université catholique de Louvain",
         28.284271247461902,
         0.0
        ],
        [
         "Polytechnic University of Catalonia",
         28.284271247461902,
         0.7071067811865476
        ],
        [
         "King Fahd University of Petroleum and Minerals",
         28.284271247461902,
         0.0
        ],
        [
         "Indian Institute of Technology Kharagpur",
         28.284271247461902,
         0.7071067811865476
        ],
        [
         "Nanjing University of Aeronautics and Astronautics",
         28.284271247461902,
         0.0
        ],
        [
         "Masaryk University",
         28.284271247461902,
         0.0
        ],
        [
         "Nagoya Institute of Technology",
         28.284271247461902,
         2.1213203435596424
        ],
        [
         "Nagoya University",
         27.598309126949545,
         2.6299556396765835
        ],
        [
         "University of Wollongong",
         27.577164466275352,
         0.0
        ],
        [
         "Rensselaer Polytechnic Institute",
         27.577164466275352,
         7.0710678118654755
        ],
        [
         "Marche Polytechnic University",
         27.577164466275352,
         2.1213203435596424
        ],
        [
         "University of Rouen",
         27.577164466275352,
         0.7071067811865476
        ],
        [
         "University of North Dakota",
         27.577164466275352,
         1.4142135623730951
        ],
        [
         "University of New Brunswick",
         27.577164466275352,
         0.0
        ],
        [
         "Rice University",
         27.31757675929547,
         8.906926143924924
        ],
        [
         "University of Nottingham",
         27.073972741361768,
         3.0550504633038935
        ],
        [
         "University of Coimbra",
         26.870057685088806,
         0.0
        ],
        [
         "Shanghai University",
         26.870057685088806,
         0.7071067811865476
        ],
        [
         "Tulane University",
         26.870057685088806,
         7.0710678118654755
        ],
        [
         "Brandeis University",
         26.870057685088806,
         7.0710678118654755
        ],
        [
         "Central China Normal University",
         26.870057685088806,
         0.7071067811865476
        ],
        [
         "University of La Laguna",
         26.870057685088806,
         1.4142135623730951
        ],
        [
         "University of Twente",
         26.16295090390226,
         0.0
        ],
        [
         "Åbo Akademi University",
         26.16295090390226,
         0.0
        ],
        [
         "Florida International University",
         26.16295090390226,
         4.949747468305833
        ],
        [
         "Federal University of São Paulo",
         26.16295090390226,
         0.0
        ],
        [
         "University of Alabama - Tuscaloosa",
         26.16295090390226,
         2.8284271247461903
        ],
        [
         "Rutgers, The State University of New Jersey - Newark",
         26.16295090390226,
         2.8284271247461903
        ],
        [
         "University of Limerick",
         26.16295090390226,
         0.0
        ],
        [
         "Miguel Hernández University of Elche",
         26.16295090390226,
         1.4142135623730951
        ],
        [
         "Inha University",
         26.16295090390226,
         1.4142135623730951
        ],
        [
         "Macquarie University",
         26.16295090390226,
         0.0
        ],
        [
         "University of Salerno",
         26.16295090390226,
         0.0
        ],
        [
         "University of Fukui",
         26.16295090390226,
         0.7071067811865476
        ],
        [
         "Stony Brook University",
         25.540817005987364,
         6.082762530298219
        ],
        [
         "King Abdullah University of Science and Technology",
         25.45584412271571,
         0.0
        ],
        [
         "Northeastern University (China)",
         25.45584412271571,
         0.7071067811865476
        ],
        [
         "Okayama University",
         25.45584412271571,
         2.8284271247461903
        ],
        [
         "Otto-von-Guericke University Magdeburg",
         25.45584412271571,
         2.8284271247461903
        ],
        [
         "University of Zaragoza",
         25.45584412271571,
         0.7071067811865476
        ],
        [
         "Sichuan University",
         25.45584412271571,
         1.4142135623730951
        ],
        [
         "University of Trento",
         25.45584412271571,
         2.8284271247461903
        ],
        [
         "National University of Córdoba",
         25.45584412271571,
         0.0
        ],
        [
         "Sejong University",
         25.45584412271571,
         1.4142135623730951
        ],
        [
         "University of Crete",
         25.45584412271571,
         0.0
        ],
        [
         "Capital Medical University",
         25.45584412271571,
         0.7071067811865476
        ],
        [
         "University of Catania",
         25.45584412271571,
         0.0
        ],
        [
         "Hunan University",
         24.748737341529164,
         1.4142135623730951
        ],
        [
         "Northwest University (China)",
         24.748737341529164,
         0.7071067811865476
        ],
        [
         "University of Girona",
         24.748737341529164,
         1.4142135623730951
        ],
        [
         "University of the Witwatersrand",
         24.748737341529164,
         0.0
        ],
        [
         "University of Texas at San Antonio",
         24.748737341529164,
         6.363961030678928
        ],
        [
         "Seoul National University",
         24.046829312822098,
         0.0
        ],
        [
         "Federal University of Ceará",
         24.041630560342615,
         1.4142135623730951
        ],
        [
         "Carleton University",
         24.041630560342615,
         0.7071067811865476
        ],
        [
         "Versailles Saint-Quentin-en-Yvelines University",
         24.041630560342615,
         0.7071067811865476
        ],
        [
         "University of Delaware",
         24.041630560342615,
         5.656854249492381
        ],
        [
         "Polytechnic University of Valencia",
         24.041630560342615,
         0.0
        ],
        [
         "University of Modena and Reggio Emilia",
         24.041630560342615,
         1.4142135623730951
        ],
        [
         "University of Maine, Orono",
         24.041630560342615,
         3.5355339059327378
        ],
        [
         "University of the Algarve",
         24.041630560342615,
         0.0
        ],
        [
         "Deakin University",
         24.041630560342615,
         2.1213203435596424
        ],
        [
         "Nankai University",
         24.041630560342615,
         0.7071067811865476
        ],
        [
         "Kansas State University",
         24.041630560342615,
         3.5355339059327378
        ],
        [
         "École Polytechnique",
         23.935677693908453,
         1.2909944487358056
        ],
        [
         "University of Campinas",
         23.33452377915607,
         0.0
        ],
        [
         "Tampere University of Technology",
         23.33452377915607,
         0.0
        ],
        [
         "Fourth Military Medical University",
         23.33452377915607,
         1.4142135623730951
        ],
        [
         "National University of Ireland, Maynooth",
         23.33452377915607,
         0.0
        ],
        [
         "Tokai University",
         23.33452377915607,
         0.7071067811865476
        ],
        [
         "University of Jaén",
         23.33452377915607,
         0.7071067811865476
        ],
        [
         "University of Siegen",
         23.33452377915607,
         1.4142135623730951
        ],
        [
         "Joseph Fourier University",
         23.33452377915607,
         0.0
        ],
        [
         "University of Osnabrück",
         23.33452377915607,
         0.7071067811865476
        ],
        [
         "University of Udine",
         23.33452377915607,
         0.7071067811865476
        ],
        [
         "University of Veterinary Medicine Vienna",
         22.627416997969522,
         0.0
        ],
        [
         "University of Castilla–La Mancha",
         22.627416997969522,
         1.4142135623730951
        ],
        [
         "Vrije Universiteit Brussel",
         22.627416997969522,
         0.0
        ],
        [
         "Chiba University",
         22.627416997969522,
         1.4142135623730951
        ],
        [
         "Teikyo University",
         22.627416997969522,
         1.4142135623730951
        ],
        [
         "Chang Gung University",
         22.627416997969522,
         0.0
        ],
        [
         "University of Natural Resources and Life Sciences, Vienna",
         22.627416997969522,
         0.7071067811865476
        ],
        [
         "Charles Darwin University",
         22.627416997969522,
         0.7071067811865476
        ],
        [
         "Southwest University",
         22.627416997969522,
         0.7071067811865476
        ],
        [
         "University of North Texas, Denton",
         21.920310216782973,
         0.0
        ],
        [
         "University of Picardie Jules Verne",
         21.920310216782973,
         4.242640687119285
        ],
        [
         "University College Dublin",
         21.920310216782973,
         0.0
        ],
        [
         "University of Warwick",
         21.920310216782973,
         1.4142135623730951
        ],
        [
         "National Polytechnic Institute",
         21.920310216782973,
         0.0
        ],
        [
         "University of Rostock",
         21.920310216782973,
         1.4142135623730951
        ],
        [
         "University of Tromsø - The Arctic University of Norway",
         21.920310216782973,
         0.0
        ],
        [
         "James Cook University",
         21.920310216782973,
         0.0
        ],
        [
         "Istanbul Technical University",
         21.920310216782973,
         0.7071067811865476
        ],
        [
         "Southeast University",
         21.920310216782973,
         4.949747468305833
        ],
        [
         "Simon Fraser University",
         21.920310216782973,
         0.0
        ],
        [
         "University of Science and Technology of China",
         21.920310216782973,
         1.4142135623730951
        ],
        [
         "Nanjing Medical University",
         21.920310216782973,
         0.0
        ],
        [
         "Lomonosov Moscow State University",
         21.77919496522618,
         0.0
        ],
        [
         "University of Virginia",
         21.73131381210073,
         14.056433876817167
        ],
        [
         "Paris Diderot University - Paris 7",
         21.548395145191982,
         0.5773502691896258
        ],
        [
         "Sapienza University of Rome",
         21.268129521265696,
         0.0
        ],
        [
         "Nanjing Agricultural University",
         21.213203435596427,
         0.7071067811865476
        ],
        [
         "University of North Carolina at Greensboro",
         21.213203435596427,
         0.0
        ],
        [
         "University of Alaska Fairbanks",
         21.213203435596427,
         2.8284271247461903
        ],
        [
         "University of Memphis",
         21.213203435596427,
         0.7071067811865476
        ],
        [
         "Florida Institute of Technology",
         21.213203435596427,
         5.656854249492381
        ],
        [
         "University of Jena",
         21.213203435596427,
         2.1213203435596424
        ],
        [
         "Federal University of Minas Gerais",
         21.213203435596427,
         0.0
        ],
        [
         "Mansoura University",
         21.213203435596427,
         0.0
        ],
        [
         "University of Pécs",
         21.213203435596427,
         0.0
        ],
        [
         "University of Reims Champagne-Ardenne",
         21.213203435596427,
         0.7071067811865476
        ],
        [
         "Complutense University of Madrid",
         21.213203435596427,
         0.0
        ],
        [
         "Swansea University",
         21.213203435596427,
         3.5355339059327378
        ],
        [
         "National and Kapodistrian University of Athens",
         21.213203435596427,
         0.0
        ],
        [
         "Massey University",
         21.213203435596427,
         0.0
        ],
        [
         "Keio University",
         20.784609690826528,
         0.5773502691896258
        ],
        [
         "University of Texas Southwestern Medical Center",
         20.607442021431645,
         11.387127235025817
        ],
        [
         "Ege University",
         20.506096654409877,
         0.0
        ],
        [
         "Southern Methodist University",
         20.506096654409877,
         4.242640687119285
        ],
        [
         "University of Córdoba (Spain)",
         20.506096654409877,
         1.4142135623730951
        ],
        [
         "Technical University of Dortmund",
         20.506096654409877,
         1.4142135623730951
        ],
        [
         "University of Bucharest",
         20.506096654409877,
         0.0
        ],
        [
         "Northeast Normal University",
         20.506096654409877,
         2.8284271247461903
        ],
        [
         "Hong Kong Baptist University",
         20.506096654409877,
         0.0
        ],
        [
         "Aalto University",
         20.506096654409877,
         0.0
        ],
        [
         "University of Missouri–St. Louis",
         19.79898987322333,
         0.7071067811865476
        ],
        [
         "Jagiellonian University",
         19.79898987322333,
         0.7071067811865476
        ],
        [
         "Aalborg University",
         19.79898987322333,
         0.0
        ],
        [
         "Liverpool John Moores University",
         19.79898987322333,
         2.1213203435596424
        ],
        [
         "University of South Australia",
         19.79898987322333,
         0.7071067811865476
        ],
        [
         "Hong Kong University of Science and Technology",
         19.79898987322333,
         0.0
        ],
        [
         "Johannes Kepler University of Linz",
         19.79898987322333,
         0.7071067811865476
        ],
        [
         "Jichi Medical University",
         19.79898987322333,
         1.4142135623730951
        ],
        [
         "University of Caen Lower Normandy",
         19.79898987322333,
         1.4142135623730951
        ],
        [
         "Paris Descartes University",
         19.79898987322333,
         1.4142135623730951
        ],
        [
         "Chulalongkorn University",
         19.79898987322333,
         0.0
        ],
        [
         "University of Saskatchewan",
         19.79898987322333,
         0.0
        ],
        [
         "University of Nice Sophia Antipolis",
         19.091883092036785,
         1.4142135623730951
        ],
        [
         "University of Franche-Comté",
         19.091883092036785,
         2.1213203435596424
        ],
        [
         "University of Wisconsin–Milwaukee",
         19.091883092036785,
         4.949747468305833
        ],
        [
         "University College Cork",
         19.091883092036785,
         0.0
        ],
        [
         "Nanjing University",
         19.091883092036785,
         0.7071067811865476
        ],
        [
         "Dresden University of Technology",
         19.091883092036785,
         2.1213203435596424
        ],
        [
         "Albany Medical College",
         19.091883092036785,
         5.656854249492381
        ],
        [
         "Central South University",
         19.091883092036785,
         0.7071067811865476
        ],
        [
         "London School of Economics",
         19.091883092036785,
         0.7071067811865476
        ],
        [
         "Catholic University of the Sacred Heart",
         19.091883092036785,
         1.4142135623730951
        ],
        [
         "Clemson University",
         19.091883092036785,
         5.656854249492381
        ],
        [
         "Indian Institute of Technology Roorkee",
         19.091883092036785,
         0.7071067811865476
        ],
        [
         "Hong Kong Polytechnic University",
         19.091883092036785,
         0.7071067811865476
        ],
        [
         "Yuan Ze University",
         19.091883092036785,
         0.0
        ],
        [
         "Bielefeld University",
         19.091883092036785,
         1.4142135623730951
        ],
        [
         "University of California, Irvine",
         18.39157415774952,
         7.702813338860896
        ],
        [
         "Royal Institute of Technology",
         18.384776310850235,
         1.4142135623730951
        ],
        [
         "Magna Græcia University of Catanzaro",
         18.384776310850235,
         0.0
        ],
        [
         "Florida Atlantic University",
         18.384776310850235,
         3.5355339059327378
        ],
        [
         "United Arab Emirates University",
         18.384776310850235,
         0.0
        ],
        [
         "University of Brasília",
         18.384776310850235,
         0.7071067811865476
        ],
        [
         "University of Palermo",
         18.384776310850235,
         0.0
        ],
        [
         "Saitama Medical University",
         18.384776310850235,
         0.7071067811865476
        ],
        [
         "University of Chile",
         18.384776310850235,
         0.0
        ],
        [
         "University of Surrey",
         18.384776310850235,
         1.4142135623730951
        ],
        [
         "Dartmouth College",
         17.925772879665004,
         11.575836902790225
        ],
        [
         "École Centrale Paris",
         17.67766952966369,
         1.4142135623730951
        ],
        [
         "University of Cyprus",
         17.67766952966369,
         0.0
        ],
        [
         "University of Texas Health Science Center at Houston",
         17.67766952966369,
         12.020815280171307
        ],
        [
         "National Chiao Tung University",
         17.67766952966369,
         0.0
        ],
        [
         "Maastricht University",
         17.67766952966369,
         0.0
        ],
        [
         "Federal University of Bahia",
         17.67766952966369,
         0.0
        ],
        [
         "New York Medical College",
         17.67766952966369,
         0.7071067811865476
        ],
        [
         "Huazhong Agricultural University",
         17.67766952966369,
         0.7071067811865476
        ],
        [
         "University of Trieste",
         17.67766952966369,
         0.7071067811865476
        ],
        [
         "University of Victoria",
         17.67766952966369,
         0.0
        ],
        [
         "China Pharmaceutical University",
         17.67766952966369,
         7.7781745930520225
        ],
        [
         "Monash University",
         17.67766952966369,
         0.7071067811865476
        ],
        [
         "Tel Aviv University",
         17.03672503740082,
         0.5
        ],
        [
         "University of Reading",
         16.97056274847714,
         0.7071067811865476
        ],
        [
         "Université libre de Bruxelles",
         16.97056274847714,
         0.0
        ],
        [
         "Gwangju Institute of Science and Technology",
         16.97056274847714,
         0.0
        ],
        [
         "Isfahan University of Technology",
         16.97056274847714,
         0.7071067811865476
        ],
        [
         "University of Toyama",
         16.97056274847714,
         2.8284271247461903
        ],
        [
         "Hasselt University",
         16.97056274847714,
         0.0
        ],
        [
         "Ocean University of China",
         16.97056274847714,
         0.0
        ],
        [
         "Dublin City University",
         16.97056274847714,
         0.0
        ],
        [
         "University of Western Sydney",
         16.97056274847714,
         0.7071067811865476
        ],
        [
         "University of Exeter",
         16.97056274847714,
         2.8284271247461903
        ],
        [
         "University of Louisville",
         16.97056274847714,
         6.363961030678928
        ],
        [
         "University of Sassari",
         16.97056274847714,
         0.0
        ],
        [
         "Rutgers University-New Brunswick",
         16.54287359157008,
         10.677078252031311
        ],
        [
         "Leiden University",
         16.502525059315417,
         1.1547005383792517
        ],
        [
         "Lancaster University",
         16.263455967290593,
         2.1213203435596424
        ],
        [
         "Claude Bernard University Lyon 1",
         16.263455967290593,
         0.0
        ],
        [
         "University of Mons",
         16.263455967290593,
         0.0
        ],
        [
         "Wuhan University",
         16.263455967290593,
         0.0
        ],
        [
         "University of Leicester",
         16.263455967290593,
         2.1213203435596424
        ],
        [
         "Technical University of Denmark",
         16.263455967290593,
         0.0
        ],
        [
         "Public University of Navarre",
         16.263455967290593,
         0.0
        ],
        [
         "Brock University",
         16.263455967290593,
         2.1213203435596424
        ],
        [
         "National Taiwan University of Science and Technology",
         16.263455967290593,
         0.7071067811865476
        ],
        [
         "Chungbuk National University",
         16.263455967290593,
         1.4142135623730951
        ],
        [
         "Zhengzhou University",
         16.263455967290593,
         0.7071067811865476
        ],
        [
         "University of Nantes",
         16.263455967290593,
         2.1213203435596424
        ],
        [
         "Texas A&M University, College Station",
         15.895492023421818,
         3.4641016151377544
        ],
        [
         "Ryerson University",
         15.556349186104045,
         0.7071067811865476
        ],
        [
         "University of Konstanz",
         15.556349186104045,
         1.4142135623730951
        ],
        [
         "Wrocław University of Technology",
         15.556349186104045,
         0.0
        ],
        [
         "University of Granada",
         15.556349186104045,
         0.7071067811865476
        ],
        [
         "Makerere University",
         15.556349186104045,
         0.0
        ],
        [
         "University of Oulu",
         15.556349186104045,
         0.7071067811865476
        ],
        [
         "Nanjing Normal University",
         15.556349186104045,
         3.5355339059327378
        ],
        [
         "University of Houston",
         15.556349186104045,
         7.0710678118654755
        ],
        [
         "George Washington University",
         15.556349186104045,
         5.656854249492381
        ],
        [
         "University of Massachusetts Boston",
         15.556349186104045,
         4.242640687119285
        ],
        [
         "Icahn School of Medicine at Mount Sinai",
         15.556349186104045,
         2.8284271247461903
        ],
        [
         "Federal University of ABC",
         15.556349186104045,
         2.1213203435596424
        ],
        [
         "University of Bergen",
         15.556349186104045,
         0.0
        ],
        [
         "University of Utah",
         15.44884030167529,
         8.286535263104035
        ],
        [
         "University of Geneva",
         15.427248620541512,
         0.5
        ],
        [
         "Arizona State University",
         15.165750888103098,
         4.795831523312718
        ],
        [
         "University of Alicante",
         14.849242404917497,
         0.7071067811865476
        ],
        [
         "University of Innsbruck",
         14.849242404917497,
         0.0
        ],
        [
         "University of Lisbon",
         14.849242404917497,
         0.0
        ],
        [
         "Hallym University",
         14.849242404917497,
         1.4142135623730951
        ],
        [
         "Ibaraki University",
         14.849242404917497,
         0.0
        ],
        [
         "Kyung Hee University",
         14.849242404917497,
         0.7071067811865476
        ],
        [
         "University of Thessaly",
         14.849242404917497,
         0.0
        ],
        [
         "Hacettepe University",
         14.849242404917497,
         0.0
        ],
        [
         "University of Nebraska–Lincoln",
         14.849242404917497,
         5.656854249492381
        ],
        [
         "University of Ljubljana",
         14.849242404917497,
         0.0
        ],
        [
         "Istanbul University",
         14.849242404917497,
         0.0
        ],
        [
         "University of Oviedo",
         14.849242404917497,
         0.7071067811865476
        ],
        [
         "Pohang University of Science and Technology",
         14.849242404917497,
         0.7071067811865476
        ],
        [
         "Tokyo University of Agriculture and Technology",
         14.849242404917497,
         1.4142135623730951
        ],
        [
         "Case Western Reserve University",
         14.798648586948742,
         3.0
        ],
        [
         "Indiana University - Bloomington",
         14.571661996262929,
         4.163331998932265
        ],
        [
         "University of Bristol",
         14.433756729740644,
         0.5773502691896258
        ],
        [
         "University of Augsburg",
         14.142135623730951,
         0.7071067811865476
        ],
        [
         "University of Salento",
         14.142135623730951,
         0.7071067811865476
        ],
        [
         "University of Cantabria",
         14.142135623730951,
         0.0
        ],
        [
         "University of Cincinnati",
         14.142135623730951,
         4.242640687119285
        ],
        [
         "Dokuz Eylül University",
         14.142135623730951,
         0.0
        ],
        [
         "University of Regensburg",
         14.142135623730951,
         1.4142135623730951
        ],
        [
         "Delft University of Technology",
         14.142135623730951,
         0.0
        ],
        [
         "George Mason University",
         14.142135623730951,
         0.7071067811865476
        ],
        [
         "Universidade Nova de Lisboa",
         14.142135623730951,
         0.0
        ],
        [
         "Blaise Pascal University",
         14.142135623730951,
         2.1213203435596424
        ],
        [
         "Federal University of Santa Catarina",
         14.142135623730951,
         0.7071067811865476
        ],
        [
         "Albert Ludwig University of Freiburg",
         14.142135623730951,
         0.7071067811865476
        ],
        [
         "National Cheng Kung University",
         14.142135623730951,
         0.0
        ],
        [
         "École normale supérieure - Paris",
         13.916417163432069,
         0.816496580927726
        ],
        [
         "University of California, Santa Barbara",
         13.720422734012244,
         7.41057802513857
        ],
        [
         "G. d'Annunzio University, Chieti-Pescara",
         13.435028842544403,
         2.1213203435596424
        ],
        [
         "University of Strathclyde",
         13.435028842544403,
         2.1213203435596424
        ],
        [
         "Stockholm University",
         13.435028842544403,
         0.7071067811865476
        ],
        [
         "University of Montana - Missoula",
         13.435028842544403,
         2.1213203435596424
        ],
        [
         "Jikei University School of Medicine",
         13.435028842544403,
         0.7071067811865476
        ],
        [
         "Semmelweis University",
         13.435028842544403,
         0.0
        ],
        [
         "University at Albany, SUNY",
         13.435028842544403,
         0.7071067811865476
        ],
        [
         "University of Tartu",
         13.435028842544403,
         0.0
        ],
        [
         "University of New South Wales",
         13.435028842544403,
         0.0
        ],
        [
         "Sofia University",
         13.435028842544403,
         0.0
        ],
        [
         "Jadavpur University",
         13.435028842544403,
         0.7071067811865476
        ],
        [
         "University of Ottawa",
         13.435028842544403,
         0.0
        ],
        [
         "University of Alabama in Huntsville",
         13.435028842544403,
         1.4142135623730951
        ],
        [
         "South China Normal University",
         13.435028842544403,
         0.0
        ],
        [
         "Rio de Janeiro State University",
         13.435028842544403,
         0.0
        ],
        [
         "University of Florence",
         13.435028842544403,
         0.0
        ],
        [
         "Aristotle University of Thessaloniki",
         13.435028842544403,
         0.0
        ],
        [
         "University of KwaZulu-Natal",
         13.435028842544403,
         0.0
        ],
        [
         "University of Tehran",
         13.435028842544403,
         0.7071067811865476
        ],
        [
         "University of Wyoming",
         13.435028842544403,
         4.242640687119285
        ],
        [
         "Old Dominion University",
         13.435028842544403,
         2.1213203435596424
        ],
        [
         "Juntendo University",
         13.435028842544403,
         5.656854249492381
        ],
        [
         "University of Cape Town",
         13.435028842544403,
         0.0
        ],
        [
         "Virginia Commonwealth University",
         13.435028842544403,
         0.7071067811865476
        ],
        [
         "University of Nebraska Omaha",
         13.435028842544403,
         3.5355339059327378
        ],
        [
         "University of Hawaii at Manoa",
         13.435028842544403,
         3.5355339059327378
        ],
        [
         "Technical University of Madrid",
         13.435028842544403,
         1.4142135623730951
        ],
        [
         "University of Szeged",
         13.435028842544403,
         0.0
        ],
        [
         "UNESP, São Paulo State University",
         13.435028842544403,
         0.0
        ],
        [
         "Western University (The University of Western Ontario)",
         13.435028842544403,
         1.4142135623730951
        ],
        [
         "University of Maribor",
         13.435028842544403,
         0.0
        ],
        [
         "Bar-Ilan University",
         12.727922061357855,
         0.0
        ],
        [
         "Hanyang University",
         12.727922061357855,
         0.7071067811865476
        ],
        [
         "University of Vienna",
         12.727922061357855,
         0.0
        ],
        [
         "University of Ferrara",
         12.727922061357855,
         1.4142135623730951
        ],
        [
         "Kyoto Institute of Technology",
         12.727922061357855,
         2.1213203435596424
        ],
        [
         "Aix-Marseille University",
         12.727922061357855,
         0.0
        ],
        [
         "University of Alabama at Birmingham",
         12.727922061357855,
         1.4142135623730951
        ],
        [
         "Chinese University of Hong Kong",
         12.727922061357855,
         0.0
        ],
        [
         "University of Porto",
         12.727922061357855,
         0.0
        ],
        [
         "University of Antwerp",
         12.727922061357855,
         0.7071067811865476
        ],
        [
         "Mahidol University",
         12.727922061357855,
         0.0
        ],
        [
         "Creighton University",
         12.727922061357855,
         0.7071067811865476
        ],
        [
         "University of Oslo",
         12.68857754044952,
         0.0
        ],
        [
         "University of Rochester",
         12.685293322058685,
         4.573474244670748
        ],
        [
         "University of Pittsburgh - Pittsburgh Campus",
         12.203141671990318,
         8.770214744615247
        ],
        [
         "Ghent University",
         12.020815280171307,
         0.0
        ],
        [
         "Newcastle University",
         12.020815280171307,
         0.7071067811865476
        ],
        [
         "Curtin University",
         12.020815280171307,
         0.7071067811865476
        ],
        [
         "Northern Arizona University",
         12.020815280171307,
         4.242640687119285
        ],
        [
         "University of Salamanca",
         12.020815280171307,
         0.0
        ],
        [
         "University of Lorraine",
         12.020815280171307,
         1.4142135623730951
        ],
        [
         "University of Paris 13",
         12.020815280171307,
         2.8284271247461903
        ],
        [
         "University of South Florida - Tampa",
         12.020815280171307,
         4.949747468305833
        ],
        [
         "Texas A&M Health Science Center",
         12.020815280171307,
         0.7071067811865476
        ],
        [
         "Örebro University",
         12.020815280171307,
         0.0
        ],
        [
         "University of Pavia",
         12.020815280171307,
         1.4142135623730951
        ],
        [
         "University of Idaho",
         12.020815280171307,
         4.242640687119285
        ],
        [
         "Swedish University of Agricultural Sciences",
         12.020815280171307,
         0.0
        ],
        [
         "All India Institute of Medical Sciences, New Delhi",
         12.020815280171307,
         0.0
        ],
        [
         "University of Chemistry and Technology, Prague",
         12.020815280171307,
         0.0
        ],
        [
         "Chung Shan Medical University",
         12.020815280171307,
         0.7071067811865476
        ],
        [
         "University of Groningen",
         12.020815280171307,
         0.7071067811865476
        ],
        [
         "University of Kiel",
         12.020815280171307,
         0.0
        ],
        [
         "University François Rabelais, Tours",
         12.020815280171307,
         0.7071067811865476
        ],
        [
         "Kaohsiung Medical University",
         12.020815280171307,
         0.0
        ],
        [
         "University of Montreal",
         12.020815280171307,
         1.4142135623730951
        ],
        [
         "University of Hamburg",
         12.020815280171307,
         1.4142135623730951
        ],
        [
         "Rockefeller University",
         11.944315244779277,
         7.54983443527075
        ],
        [
         "University of Arizona",
         11.818065267490557,
         5.057996968497839
        ],
        [
         "University of Queensland",
         11.503622617824933,
         1.1547005383792517
        ],
        [
         "Bangor University",
         11.313708498984761,
         0.7071067811865476
        ],
        [
         "Erasmus University Rotterdam",
         11.313708498984761,
         0.7071067811865476
        ],
        [
         "Chonbuk National University",
         11.313708498984761,
         0.0
        ],
        [
         "University of Stuttgart",
         11.313708498984761,
         0.7071067811865476
        ],
        [
         "University of Iowa",
         11.313708498984761,
         2.8284271247461903
        ],
        [
         "Paris-Est Créteil Val-de-Marne University",
         11.313708498984761,
         0.7071067811865476
        ],
        [
         "Federal University of São Carlos",
         11.313708498984761,
         0.7071067811865476
        ],
        [
         "University of Bayreuth",
         11.313708498984761,
         0.7071067811865476
        ],
        [
         "Chonnam National University",
         11.313708498984761,
         1.4142135623730951
        ],
        [
         "Queensland University of Technology",
         11.313708498984761,
         2.8284271247461903
        ],
        [
         "Montana State University - Bozeman",
         11.313708498984761,
         0.0
        ],
        [
         "Tokyo Medical and Dental University",
         11.313708498984761,
         1.4142135623730951
        ],
        [
         "Korea Advanced Institute of Science and Technology (KAIST)",
         11.313708498984761,
         0.7071067811865476
        ],
        [
         "Ewha Womans University",
         11.313708498984761,
         0.7071067811865476
        ],
        [
         "Bowling Green State University",
         11.313708498984761,
         1.4142135623730951
        ],
        [
         "Gifu University",
         11.313708498984761,
         0.7071067811865476
        ],
        [
         "University of Bath",
         11.313708498984761,
         2.1213203435596424
        ],
        [
         "Johannes Gutenberg University of Mainz",
         11.313708498984761,
         0.7071067811865476
        ],
        [
         "Washington University in St. Louis",
         11.269427669584644,
         6.683312551921141
        ],
        [
         "National University of Singapore",
         11.060440015358038,
         0.0
        ],
        [
         "Swiss Federal Institute of Technology in Lausanne",
         10.893423092245461,
         0.9574271077563382
        ],
        [
         "University of Copenhagen",
         10.661457061146317,
         0.0
        ],
        [
         "Tohoku University",
         10.626225419530053,
         0.49999999999999994
        ],
        [
         "University of Puerto Rico at Mayagüez",
         10.606601717798213,
         0.0
        ],
        [
         "University of Yamanashi",
         10.606601717798213,
         0.7071067811865476
        ],
        [
         "University of Perugia",
         10.606601717798213,
         0.7071067811865476
        ],
        [
         "Kaiserslautern University of Technology",
         10.606601717798213,
         0.7071067811865476
        ],
        [
         "Korea University",
         10.606601717798213,
         0.7071067811865476
        ],
        [
         "University of Sherbrooke",
         10.606601717798213,
         0.0
        ],
        [
         "University of Connecticut",
         10.606601717798213,
         2.8284271247461903
        ],
        [
         "University of Duisburg-Essen",
         10.606601717798213,
         2.8284271247461903
        ],
        [
         "Third Military Medical University",
         10.606601717798213,
         5.656854249492381
        ],
        [
         "Graduate University for Advanced Studies",
         10.606601717798213,
         0.0
        ],
        [
         "University of Bradford",
         10.606601717798213,
         0.0
        ],
        [
         "Sun Yat-sen University",
         10.606601717798213,
         0.7071067811865476
        ],
        [
         "Zhejiang University",
         10.606601717798213,
         0.7071067811865476
        ],
        [
         "Trinity College, Dublin",
         10.606601717798213,
         0.0
        ],
        [
         "Shanghai Jiao Tong University",
         10.606601717798213,
         0.7071067811865476
        ],
        [
         "Kent State University",
         10.606601717798213,
         0.0
        ],
        [
         "University of Hong Kong",
         10.606601717798213,
         0.0
        ],
        [
         "University of Padua",
         10.606601717798213,
         0.7071067811865476
        ],
        [
         "Syracuse University",
         10.606601717798213,
         2.1213203435596424
        ],
        [
         "Shimane University",
         10.606601717798213,
         2.8284271247461903
        ],
        [
         "University of Illinois at Chicago",
         10.606601717798213,
         1.4142135623730951
        ],
        [
         "Virginia Polytechnic Institute and State University",
         10.606601717798213,
         9.192388155425117
        ],
        [
         "VU University Amsterdam",
         10.606601717798213,
         0.7071067811865476
        ],
        [
         "Goethe University Frankfurt",
         10.606601717798213,
         0.7071067811865476
        ],
        [
         "University of Helsinki",
         10.488088481701514,
         0.0
        ],
        [
         "King's College London",
         10.016652800877813,
         0.0
        ],
        [
         "University of St Andrews",
         9.899494936611665,
         0.0
        ],
        [
         "Louisiana Tech University",
         9.899494936611665,
         0.7071067811865476
        ],
        [
         "Aberystwyth University",
         9.899494936611665,
         0.0
        ],
        [
         "University of East Anglia",
         9.899494936611665,
         1.4142135623730951
        ],
        [
         "University of Bremen",
         9.899494936611665,
         0.7071067811865476
        ],
        [
         "Bilkent University",
         9.899494936611665,
         0.7071067811865476
        ],
        [
         "Ajou University",
         9.899494936611665,
         2.1213203435596424
        ],
        [
         "University of Seville",
         9.899494936611665,
         1.4142135623730951
        ],
        [
         "RMIT University",
         9.899494936611665,
         1.4142135623730951
        ],
        [
         "Wake Forest University",
         9.899494936611665,
         3.5355339059327378
        ],
        [
         "University of Hyderabad",
         9.899494936611665,
         0.7071067811865476
        ],
        [
         "Weizmann Institute of Science",
         9.695359714832659,
         0.5
        ],
        [
         "University of Colorado Boulder",
         9.626352718795768,
         5.477225575051661
        ],
        [
         "Marquette University",
         9.192388155425117,
         1.4142135623730951
        ],
        [
         "University of Pisa",
         9.192388155425117,
         0.0
        ],
        [
         "Tokyo Institute of Technology",
         9.192388155425117,
         0.0
        ],
        [
         "University of Calabria",
         9.192388155425117,
         0.0
        ],
        [
         "Tokyo Women's Medical University",
         9.192388155425117,
         0.7071067811865476
        ],
        [
         "Ben-Gurion University of the Negev",
         9.192388155425117,
         0.0
        ],
        [
         "San Diego State University",
         9.192388155425117,
         0.7071067811865476
        ],
        [
         "Autonomous University of Barcelona",
         9.192388155425117,
         0.0
        ],
        [
         "University of California, Merced",
         9.192388155425117,
         0.7071067811865476
        ],
        [
         "University of Zagreb",
         9.192388155425117,
         0.0
        ],
        [
         "University of Notre Dame",
         9.192388155425117,
         3.5355339059327378
        ],
        [
         "Indian Institute of Technology Delhi",
         9.192388155425117,
         0.0
        ],
        [
         "Nanyang Technological University",
         9.192388155425117,
         0.0
        ],
        [
         "University of Cagliari",
         9.192388155425117,
         1.4142135623730951
        ],
        [
         "Aston University",
         9.192388155425117,
         0.7071067811865476
        ],
        [
         "University of Potsdam",
         9.192388155425117,
         0.7071067811865476
        ],
        [
         "University of Arkansas for Medical Sciences",
         9.192388155425117,
         0.7071067811865476
        ],
        [
         "University of Zurich",
         9.105858919765158,
         0.5773502691896257
        ],
        [
         "University of Paris-Sud",
         9.092121131323905,
         1.1547005383792515
        ],
        [
         "Georgia Institute of Technology",
         8.812869377601524,
         4.112987559751022
        ],
        [
         "Pierre-and-Marie-Curie University",
         8.660254037844389,
         1.0
        ],
        [
         "Adam Mickiewicz University in Poznań",
         8.48528137423857,
         0.0
        ],
        [
         "Julius-Maximilian's University of Würzburg",
         8.48528137423857,
         2.8284271247461903
        ],
        [
         "Griffith University",
         8.48528137423857,
         1.4142135623730951
        ],
        [
         "National Sun Yat-sen University",
         8.48528137423857,
         0.0
        ],
        [
         "Carlos III University of Madrid",
         8.48528137423857,
         1.4142135623730951
        ],
        [
         "University of Liverpool",
         8.48528137423857,
         1.4142135623730951
        ],
        [
         "Katholieke Universiteit Leuven",
         8.48528137423857,
         0.0
        ],
        [
         "University of Maryland, Baltimore County",
         8.48528137423857,
         2.8284271247461903
        ],
        [
         "Wageningen University and Research Centre",
         8.48528137423857,
         0.0
        ],
        [
         "Brigham Young University",
         8.48528137423857,
         1.4142135623730951
        ],
        [
         "National Polytechnic Institute of Toulouse",
         8.48528137423857,
         1.4142135623730951
        ],
        [
         "Pusan National University",
         8.48528137423857,
         0.0
        ],
        [
         "Kumamoto University",
         8.48528137423857,
         1.4142135623730951
        ],
        [
         "University of Southern Mississippi",
         8.48528137423857,
         1.4142135623730951
        ],
        [
         "Banaras Hindu University",
         8.48528137423857,
         0.7071067811865476
        ],
        [
         "University of Tampere",
         8.48528137423857,
         0.7071067811865476
        ],
        [
         "Pennsylvania State University, University Park",
         8.341662504161466,
         7.32575365861197
        ],
        [
         "Kurume University",
         7.7781745930520225,
         1.4142135623730951
        ],
        [
         "State University of New York Upstate Medical University",
         7.7781745930520225,
         1.4142135623730951
        ],
        [
         "University of Genoa",
         7.7781745930520225,
         0.7071067811865476
        ],
        [
         "Xidian University",
         7.7781745930520225,
         5.656854249492381
        ],
        [
         "University of Buenos Aires",
         7.7781745930520225,
         0.0
        ],
        [
         "University of Évry Val d'Essonne",
         7.7781745930520225,
         0.0
        ],
        [
         "Martin Luther University of Halle-Wittenberg",
         7.7781745930520225,
         0.7071067811865476
        ],
        [
         "National Tsing Hua University",
         7.7781745930520225,
         0.0
        ],
        [
         "Federico Santa María Technical University",
         7.7781745930520225,
         0.0
        ],
        [
         "University of Bari Aldo Moro",
         7.7781745930520225,
         1.4142135623730951
        ],
        [
         "Loughborough University",
         7.7781745930520225,
         1.4142135623730951
        ],
        [
         "Free University of Berlin",
         7.7781745930520225,
         2.1213203435596424
        ],
        [
         "London School of Hygiene & Tropical Medicine",
         7.7781745930520225,
         0.0
        ],
        [
         "Hiroshima University",
         7.7781745930520225,
         0.7071067811865476
        ],
        [
         "University of Massachusetts Amherst",
         7.7781745930520225,
         2.1213203435596424
        ],
        [
         "University of York",
         7.7781745930520225,
         0.7071067811865476
        ],
        [
         "University of Bologna",
         7.7781745930520225,
         0.0
        ],
        [
         "Keele University",
         7.7781745930520225,
         0.7071067811865476
        ],
        [
         "University of Hyogo",
         7.7781745930520225,
         0.7071067811865476
        ],
        [
         "University of Waterloo",
         7.7781745930520225,
         0.7071067811865476
        ],
        [
         "Texas Tech University (TTU)",
         7.7781745930520225,
         2.1213203435596424
        ],
        [
         "Beijing Normal University",
         7.7781745930520225,
         1.4142135623730951
        ],
        [
         "University of Michigan, Ann Arbor",
         7.593857166596345,
         4.654746681256314
        ],
        [
         "Brown University",
         7.588368291888138,
         2.217355782608344
        ],
        [
         "Carnegie Mellon University",
         7.455423082115014,
         3.265986323710904
        ],
        [
         "Ludwig Maximilian University of Munich",
         7.365459931328117,
         0.5773502691896257
        ],
        [
         "University of Maryland, College Park",
         7.274384280931732,
         3.304037933599835
        ],
        [
         "University of Texas MD Anderson Cancer Center",
         7.18795288428261,
         2.362907813126304
        ],
        [
         "University of Turin",
         7.0710678118654755,
         0.0
        ],
        [
         "University of Messina",
         7.0710678118654755,
         1.4142135623730951
        ],
        [
         "University of Orléans",
         7.0710678118654755,
         1.4142135623730951
        ],
        [
         "Paul Valéry University, Montpellier III",
         7.0710678118654755,
         1.4142135623730951
        ],
        [
         "Xi'an Jiaotong University",
         7.0710678118654755,
         1.4142135623730951
        ],
        [
         "University of Nevada, Las Vegas",
         7.0710678118654755,
         0.0
        ],
        [
         "University of Massachusetts Medical School",
         7.0710678118654755,
         3.5355339059327378
        ],
        [
         "University of Silesia",
         7.0710678118654755,
         0.0
        ],
        [
         "University of Leeds",
         7.0710678118654755,
         0.0
        ],
        [
         "University of Dundee",
         7.0710678118654755,
         0.0
        ],
        [
         "Hokkaido University",
         7.0710678118654755,
         1.4142135623730951
        ],
        [
         "Plymouth University",
         7.0710678118654755,
         1.4142135623730951
        ],
        [
         "University of Birmingham",
         7.0710678118654755,
         1.4142135623730951
        ],
        [
         "Scuola Normale Superiore di Pisa",
         7.0710678118654755,
         2.1213203435596424
        ],
        [
         "LSU Health Sciences Center New Orleans",
         7.0710678118654755,
         2.8284271247461903
        ],
        [
         "University of Pau and Pays de l'Adour",
         7.0710678118654755,
         0.0
        ],
        [
         "University of Siena",
         7.0710678118654755,
         0.0
        ],
        [
         "University of Patras",
         7.0710678118654755,
         0.0
        ],
        [
         "National Chung Cheng University",
         7.0710678118654755,
         0.7071067811865476
        ],
        [
         "Wright State University - Dayton",
         7.0710678118654755,
         0.7071067811865476
        ],
        [
         "University of Almería",
         7.0710678118654755,
         0.0
        ],
        [
         "Saarland University",
         7.0710678118654755,
         0.7071067811865476
        ],
        [
         "Utrecht University",
         6.557438524301999,
         0.5773502691896257
        ],
        [
         "Emory University",
         6.48074069840786,
         2.581988897471611
        ],
        [
         "University of Edinburgh",
         6.377042156569663,
         2.0
        ],
        [
         "Yonsei University",
         6.363961030678928,
         0.0
        ],
        [
         "Colorado State University - Fort Collins",
         6.363961030678928,
         2.8284271247461903
        ],
        [
         "Chungnam National University",
         6.363961030678928,
         0.0
        ],
        [
         "University of Western Australia",
         6.363961030678928,
         0.0
        ],
        [
         "Loyola University Chicago",
         6.363961030678928,
         1.4142135623730951
        ],
        [
         "Illinois Institute of Technology",
         6.363961030678928,
         3.5355339059327378
        ],
        [
         "University of Regina",
         6.363961030678928,
         0.7071067811865476
        ],
        [
         "University of Erlangen-Nuremberg",
         6.363961030678928,
         0.7071067811865476
        ],
        [
         "La Trobe University",
         6.363961030678928,
         0.0
        ],
        [
         "École normale supérieure de Lyon",
         6.363961030678928,
         0.0
        ],
        [
         "Tsinghua University",
         6.363961030678928,
         0.0
        ],
        [
         "Temple University",
         6.363961030678928,
         2.1213203435596424
        ],
        [
         "Portland State University",
         6.363961030678928,
         0.0
        ],
        [
         "Kangwon National University",
         6.363961030678928,
         0.0
        ],
        [
         "Fuzhou University",
         6.363961030678928,
         2.8284271247461903
        ],
        [
         "Tata Institute of Fundamental Research",
         6.363961030678928,
         1.4142135623730951
        ],
        [
         "Medical University of South Carolina",
         6.363961030678928,
         1.4142135623730951
        ],
        [
         "Oregon Health & Science University",
         6.363961030678928,
         1.4142135623730951
        ],
        [
         "University of Milan",
         6.363961030678928,
         0.7071067811865476
        ],
        [
         "University of Navarra",
         6.363961030678928,
         0.0
        ],
        [
         "University of Georgia",
         6.363961030678928,
         0.7071067811865476
        ],
        [
         "University of Aberdeen",
         6.363961030678928,
         1.4142135623730951
        ],
        [
         "University of Tsukuba",
         6.363961030678928,
         0.7071067811865476
        ],
        [
         "Loma Linda University",
         6.363961030678928,
         0.0
        ],
        [
         "University of Lleida",
         6.363961030678928,
         0.7071067811865476
        ],
        [
         "McMaster University",
         6.363961030678928,
         0.0
        ],
        [
         "University of California, Santa Cruz",
         6.363961030678928,
         0.0
        ],
        [
         "University of Glasgow",
         6.363961030678928,
         0.0
        ],
        [
         "Osaka University",
         6.238322424070968,
         1.1547005383792515
        ],
        [
         "Boston University",
         5.90903263374528,
         2.8722813232690143
        ],
        [
         "Purdue University, West Lafayette",
         5.909032633745278,
         3.162277660168379
        ],
        [
         "Vanderbilt University",
         5.887840577551898,
         2.0615528128088294
        ],
        [
         "Technical University of Munich",
         5.8594652770823155,
         0.5773502691896258
        ],
        [
         "Tufts University",
         5.859465277082315,
         1.0
        ],
        [
         "University of Southern California",
         5.852349955359813,
         2.9860788111948198
        ],
        [
         "Karolinska Institute",
         5.802298395176402,
         0.0
        ],
        [
         "Imperial College London",
         5.737304826019502,
         0.5773502691896257
        ],
        [
         "National Yang-Ming University",
         5.656854249492381,
         0.0
        ],
        [
         "University of Maryland, Baltimore",
         5.656854249492381,
         2.8284271247461903
        ],
        [
         "University of Kentucky",
         5.656854249492381,
         1.4142135623730951
        ],
        [
         "Indiana University-Purdue University Indianapolis",
         5.656854249492381,
         3.5355339059327378
        ],
        [
         "Beijing University of Technology",
         5.656854249492381,
         0.7071067811865476
        ],
        [
         "Ruhr University Bochum",
         5.656854249492381,
         2.1213203435596424
        ],
        [
         "Paul Sabatier University - Toulouse III",
         5.656854249492381,
         0.7071067811865476
        ],
        [
         "University of Angers",
         5.656854249492381,
         0.7071067811865476
        ],
        [
         "University of Amsterdam",
         5.656854249492381,
         0.7071067811865476
        ],
        [
         "Polytechnic University of Milan",
         5.656854249492381,
         0.7071067811865476
        ],
        [
         "University of Turku",
         5.656854249492381,
         0.0
        ],
        [
         "Cardiff University",
         5.656854249492381,
         0.0
        ],
        [
         "Saga University",
         5.656854249492381,
         2.1213203435596424
        ],
        [
         "National Taiwan University",
         5.656854249492381,
         0.0
        ],
        [
         "Southern Medical University",
         5.656854249492381,
         2.8284271247461903
        ],
        [
         "Kōchi University",
         5.656854249492381,
         2.1213203435596424
        ],
        [
         "University of Lausanne",
         5.656854249492381,
         0.0
        ],
        [
         "University of Québec at Montreal",
         5.656854249492381,
         0.0
        ],
        [
         "Kyushu University",
         5.656854249492381,
         0.0
        ],
        [
         "RWTH Aachen University",
         5.656854249492381,
         0.7071067811865476
        ],
        [
         "University of Rome Tor Vergata",
         5.656854249492381,
         0.0
        ],
        [
         "University of Concepción",
         5.656854249492381,
         0.0
        ],
        [
         "University of Brescia",
         5.656854249492381,
         0.7071067811865476
        ],
        [
         "University of California, Riverside",
         5.656854249492381,
         1.4142135623730951
        ],
        [
         "University of Göttingen",
         5.656854249492381,
         0.7071067811865476
        ],
        [
         "Huazhong University of Science and Technology",
         5.656854249492381,
         0.0
        ],
        [
         "Budapest University of Technology and Economics",
         5.656854249492381,
         0.0
        ],
        [
         "Ruprecht Karl University of Heidelberg",
         5.5677643628300215,
         0.5773502691896257
        ],
        [
         "Northwestern University",
         5.066228051190222,
         3.0
        ],
        [
         "University of Alberta",
         5.033222956847167,
         0.0
        ],
        [
         "University of California, Davis",
         5.033222956847167,
         1.7320508075688772
        ],
        [
         "Nicolaus Copernicus University in Toruń",
         4.949747468305833,
         0.7071067811865476
        ],
        [
         "University of Auckland",
         4.949747468305833,
         0.0
        ],
        [
         "University of Wrocław",
         4.949747468305833,
         0.7071067811865476
        ],
        [
         "University of Eastern Finland",
         4.949747468305833,
         0.0
        ],
        [
         "University of New Orleans",
         4.949747468305833,
         2.1213203435596424
        ],
        [
         "Murdoch University",
         4.949747468305833,
         1.4142135623730951
        ],
        [
         "University of Santiago de Compostela",
         4.949747468305833,
         0.0
        ],
        [
         "University of Central Florida",
         4.949747468305833,
         1.4142135623730951
        ],
        [
         "University of Jyväskylä",
         4.949747468305833,
         0.0
        ],
        [
         "Jean Monnet University",
         4.949747468305833,
         0.0
        ],
        [
         "Pukyong National University",
         4.949747468305833,
         0.7071067811865476
        ],
        [
         "Institut national des sciences Appliquées de Lyon",
         4.949747468305833,
         0.0
        ],
        [
         "Federal University of Rio de Janeiro",
         4.949747468305833,
         0.0
        ],
        [
         "Kyoto Prefectural University of Medicine",
         4.949747468305833,
         0.7071067811865476
        ],
        [
         "Kyungpook National University",
         4.949747468305833,
         0.0
        ],
        [
         "University of Valencia",
         4.949747468305833,
         0.0
        ],
        [
         "Queen's University",
         4.949747468305833,
         0.7071067811865476
        ],
        [
         "Chalmers University of Technology",
         4.949747468305833,
         0.0
        ],
        [
         "University of Oregon",
         4.949747468305833,
         2.8284271247461903
        ],
        [
         "University of Kansas",
         4.949747468305833,
         0.7071067811865476
        ],
        [
         "Sungkyunkwan University",
         4.949747468305833,
         0.0
        ],
        [
         "University of Electronic Science and Technology of China",
         4.949747468305833,
         1.4142135623730951
        ],
        [
         "University of North Carolina at Chapel Hill",
         4.856267428111154,
         1.7320508075688772
        ],
        [
         "Jiangsu University",
         4.242640687119285,
         2.8284271247461903
        ],
        [
         "University of Vigo",
         4.242640687119285,
         0.7071067811865476
        ],
        [
         "Roma Tre University",
         4.242640687119285,
         1.4142135623730951
        ],
        [
         "Yeungnam University",
         4.242640687119285,
         0.7071067811865476
        ],
        [
         "Kitasato University",
         4.242640687119285,
         0.7071067811865476
        ],
        [
         "University of Mississippi Medical Center",
         4.242640687119285,
         3.5355339059327378
        ],
        [
         "Cairo University",
         4.242640687119285,
         0.0
        ],
        [
         "University of Mannheim",
         4.242640687119285,
         2.1213203435596424
        ],
        [
         "Boston College",
         4.242640687119285,
         2.8284271247461903
        ],
        [
         "Michigan Technological University",
         4.242640687119285,
         4.242640687119285
        ],
        [
         "University of Colorado Denver",
         4.242640687119285,
         1.4142135623730951
        ],
        [
         "Jaume I University",
         4.242640687119285,
         0.7071067811865476
        ],
        [
         "Lehigh University",
         4.242640687119285,
         1.4142135623730951
        ],
        [
         "University of Basel",
         4.242640687119285,
         0.0
        ],
        [
         "Fudan University",
         4.242640687119285,
         1.4142135623730951
        ],
        [
         "SUNY Downstate Medical Center",
         4.242640687119285,
         2.8284271247461903
        ],
        [
         "University of Hohenheim",
         4.242640687119285,
         1.4142135623730951
        ],
        [
         "University of Debrecen",
         4.242640687119285,
         0.0
        ],
        [
         "University of Nevada, Reno",
         4.242640687119285,
         0.0
        ],
        [
         "University of Strasbourg",
         4.242640687119285,
         0.0
        ],
        [
         "Rovira i Virgili University",
         4.242640687119285,
         0.7071067811865476
        ],
        [
         "Michigan State University",
         4.242640687119285,
         0.7071067811865476
        ],
        [
         "University of Malaya",
         4.242640687119285,
         0.0
        ],
        [
         "Second Military Medical University",
         4.242640687119285,
         1.4142135623730951
        ],
        [
         "Thomas Jefferson University",
         4.242640687119285,
         6.363961030678928
        ],
        [
         "University of Manchester",
         3.915780041490243,
         0.49999999999999994
        ],
        [
         "University of Illinois at Urbana–Champaign",
         3.862210075418823,
         2.6457513110645907
        ],
        [
         "University of Washington - Seattle",
         3.8622100754188224,
         2.70801280154532
        ],
        [
         "University of British Columbia",
         3.74165738677394,
         0.0
        ],
        [
         "City College of New York",
         3.5355339059327378,
         2.1213203435596424
        ],
        [
         "Concordia University",
         3.5355339059327378,
         0.0
        ],
        [
         "University of Hanover",
         3.5355339059327378,
         0.0
        ],
        [
         "Oregon State University",
         3.5355339059327378,
         5.656854249492381
        ],
        [
         "Autonomous University of Madrid",
         3.5355339059327378,
         0.0
        ],
        [
         "Queen Mary University of London",
         3.5355339059327378,
         0.7071067811865476
        ],
        [
         "University of Liège",
         3.5355339059327378,
         0.7071067811865476
        ],
        [
         "University of Valenciennes and Hainaut-Cambresis",
         3.5355339059327378,
         0.7071067811865476
        ],
        [
         "University of Sheffield",
         3.5355339059327378,
         0.0
        ],
        [
         "University of Missouri–Kansas City",
         3.5355339059327378,
         2.1213203435596424
        ],
        [
         "Federal University of Paraná",
         3.5355339059327378,
         1.4142135623730951
        ],
        [
         "Gyeongsang National University",
         3.5355339059327378,
         0.0
        ],
        [
         "St George's, University of London",
         3.5355339059327378,
         0.0
        ],
        [
         "Eindhoven University of Technology",
         3.5355339059327378,
         0.0
        ],
        [
         "University of Basilicata",
         3.5355339059327378,
         0.0
        ],
        [
         "Stellenbosch University",
         3.5355339059327378,
         0.0
        ],
        [
         "University of Münster",
         3.5355339059327378,
         0.7071067811865476
        ],
        [
         "University of the Ryukyus",
         3.5355339059327378,
         1.4142135623730951
        ],
        [
         "Iowa State University",
         3.5355339059327378,
         0.7071067811865476
        ],
        [
         "Norwegian University of Life Sciences",
         3.5355339059327378,
         0.0
        ],
        [
         "Tehran University of Medical Sciences",
         3.5355339059327378,
         0.0
        ],
        [
         "Georgetown University",
         3.5355339059327378,
         1.4142135623730951
        ],
        [
         "University at Buffalo, The State University of New York",
         3.5355339059327378,
         2.8284271247461903
        ],
        [
         "University of Adelaide",
         3.5355339059327378,
         0.0
        ],
        [
         "Radboud University Nijmegen",
         3.5355339059327378,
         0.7071067811865476
        ],
        [
         "San Francisco State University",
         3.5355339059327378,
         3.5355339059327378
        ],
        [
         "University of Texas Health Science Center at San Antonio",
         3.5355339059327378,
         2.8284271247461903
        ],
        [
         "California Institute of Technology",
         3.366501646120693,
         2.8722813232690143
        ],
        [
         "University of Sydney",
         3.095695936834454,
         0.5
        ],
        [
         "Heriot-Watt University",
         2.8284271247461903,
         1.4142135623730951
        ],
        [
         "University of Texas at Dallas",
         2.8284271247461903,
         0.7071067811865476
        ],
        [
         "University Lille 1: Sciences and Technologies",
         2.8284271247461903,
         1.4142135623730951
        ],
        [
         "University of Barcelona",
         2.8284271247461903,
         0.0
        ],
        [
         "Vita-Salute San Raffaele University",
         2.8284271247461903,
         0.7071067811865476
        ],
        [
         "University of Vermont",
         2.8284271247461903,
         1.4142135623730951
        ],
        [
         "Xiangtan University",
         2.8284271247461903,
         2.1213203435596424
        ],
        [
         "University of Ulm",
         2.8284271247461903,
         0.0
        ],
        [
         "North Carolina State University",
         2.8284271247461903,
         0.0
        ],
        [
         "Osaka Prefecture University",
         2.8284271247461903,
         4.242640687119285
        ],
        [
         "University of Southern Denmark",
         2.8284271247461903,
         0.0
        ],
        [
         "Ohio University",
         2.8284271247461903,
         0.0
        ],
        [
         "South China Agricultural University",
         2.8284271247461903,
         1.4142135623730951
        ],
        [
         "University of New Mexico",
         2.8284271247461903,
         2.8284271247461903
        ],
        [
         "University of Aveiro",
         2.8284271247461903,
         0.0
        ],
        [
         "Hunan Normal University",
         2.8284271247461903,
         2.8284271247461903
        ],
        [
         "University of Murcia",
         2.8284271247461903,
         0.7071067811865476
        ],
        [
         "University of Neuchâtel",
         2.8284271247461903,
         0.0
        ],
        [
         "University of Naples Federico II",
         2.8284271247461903,
         0.0
        ],
        [
         "Medical College of Wisconsin",
         2.8284271247461903,
         0.0
        ],
        [
         "University of Melbourne",
         2.8284271247461903,
         0.0
        ],
        [
         "Humboldt University of Berlin",
         2.8284271247461903,
         0.7071067811865476
        ],
        [
         "McGill University",
         2.7080128015453213,
         0.0
        ],
        [
         "New York University",
         2.629955639676583,
         1.2583057392117918
        ],
        [
         "University of Florida",
         2.629955639676582,
         0.9574271077563381
        ],
        [
         "University of Toronto",
         2.5,
         0.0
        ],
        [
         "Ohio State University, Columbus",
         2.4494897427831783,
         3.6514837167011067
        ],
        [
         "University of Minnesota, Twin Cities",
         2.3804761428476167,
         2.4999999999999996
        ],
        [
         "University of California, San Francisco",
         2.2173557826083456,
         1.825741858350554
        ],
        [
         "King Abdulaziz University",
         2.1213203435596424,
         0.0
        ],
        [
         "Fu Jen Catholic University",
         2.1213203435596424,
         1.4142135623730951
        ],
        [
         "Zhejiang University of Technology",
         2.1213203435596424,
         3.5355339059327378
        ],
        [
         "University of Tübingen",
         2.1213203435596424,
         0.7071067811865476
        ],
        [
         "Hannover Medical School",
         2.1213203435596424,
         0.7071067811865476
        ],
        [
         "Kanazawa University",
         2.1213203435596424,
         4.242640687119285
        ],
        [
         "Aarhus University",
         2.1213203435596424,
         0.0
        ],
        [
         "Florida State University",
         2.1213203435596424,
         4.242640687119285
        ],
        [
         "Leipzig University",
         2.1213203435596424,
         0.7071067811865476
        ],
        [
         "National Autonomous University of Mexico",
         2.1213203435596424,
         0.0
        ],
        [
         "Laval University",
         2.1213203435596424,
         0.0
        ],
        [
         "National University of La Plata",
         2.1213203435596424,
         0.0
        ],
        [
         "Wayne State University",
         2.1213203435596424,
         0.7071067811865476
        ],
        [
         "Durham University",
         2.1213203435596424,
         0.0
        ],
        [
         "Yangzhou University",
         2.1213203435596424,
         0.7071067811865476
        ],
        [
         "University of Burgundy",
         2.1213203435596424,
         1.4142135623730951
        ],
        [
         "École Polytechnique de Montréal",
         2.1213203435596424,
         0.0
        ],
        [
         "Hamamatsu University School of Medicine",
         2.1213203435596424,
         1.4142135623730951
        ],
        [
         "Drexel University",
         2.1213203435596424,
         5.656854249492381
        ],
        [
         "University of Extremadura",
         2.1213203435596424,
         0.0
        ],
        [
         "Georgia State University",
         2.1213203435596424,
         2.8284271247461903
        ],
        [
         "University of Marburg",
         2.1213203435596424,
         0.0
        ],
        [
         "University of Haifa",
         2.1213203435596424,
         0.0
        ],
        [
         "University of Texas at Austin",
         1.8929694486000916,
         1.0
        ],
        [
         "University of California, Los Angeles",
         1.8929694486000912,
         0.5000000000000001
        ],
        [
         "University College London",
         1.7320508075688767,
         0.5773502691896257
        ],
        [
         "Johns Hopkins University",
         1.707825127659933,
         0.816496580927726
        ],
        [
         "Swiss Federal Institute of Technology in Zurich",
         1.6329931618554525,
         0.0
        ],
        [
         "University of Oxford",
         1.632993161855452,
         0.5
        ],
        [
         "Columbia University",
         1.5,
         1.5
        ],
        [
         "University of California, Berkeley",
         1.5,
         1.5
        ],
        [
         "Federal University of Rio Grande do Sul",
         1.4142135623730951,
         0.0
        ],
        [
         "University of Guelph",
         1.4142135623730951,
         2.1213203435596424
        ],
        [
         "University of Cologne",
         1.4142135623730951,
         0.0
        ],
        [
         "West Virginia University",
         1.4142135623730951,
         2.1213203435596424
        ],
        [
         "Umeå University",
         1.4142135623730951,
         0.0
        ],
        [
         "Yamagata University",
         1.4142135623730951,
         3.5355339059327378
        ],
        [
         "Karlsruhe Institute of Technology",
         1.4142135623730951,
         0.7071067811865476
        ],
        [
         "Waseda University",
         1.4142135623730951,
         0.0
        ],
        [
         "University of Missouri–Columbia",
         1.4142135623730951,
         0.7071067811865476
        ],
        [
         "Princeton University",
         1.4142135623730951,
         0.9574271077563381
        ],
        [
         "Shanghai Normal University",
         1.4142135623730951,
         3.5355339059327378
        ],
        [
         "International School for Advanced Studies",
         1.4142135623730951,
         1.4142135623730951
        ],
        [
         "City University of Hong Kong",
         1.4142135623730951,
         0.7071067811865476
        ],
        [
         "University of Manitoba",
         1.4142135623730951,
         0.0
        ],
        [
         "University of Otago",
         1.4142135623730951,
         0.0
        ],
        [
         "Dalhousie University",
         1.4142135623730951,
         0.0
        ],
        [
         "University of South Carolina - Columbia",
         1.4142135623730951,
         0.7071067811865476
        ],
        [
         "University of Southampton",
         1.4142135623730951,
         0.0
        ],
        [
         "University of Ulsan",
         1.4142135623730951,
         0.7071067811865476
        ],
        [
         "University of Chicago",
         1.4142135623730951,
         1.414213562373095
        ],
        [
         "Rush University",
         1.4142135623730951,
         2.8284271247461903
        ],
        [
         "Taipei Medical University",
         1.4142135623730951,
         0.7071067811865476
        ],
        [
         "Braunschweig University of Technology",
         1.4142135623730951,
         0.7071067811865476
        ],
        [
         "Justus Liebig University Giessen",
         1.4142135623730951,
         0.7071067811865476
        ],
        [
         "Cornell University",
         1.2909944487358056,
         1.2909944487358056
        ],
        [
         "Duke University",
         1.2909944487358056,
         0.5773502691896262
        ],
        [
         "Yale University",
         1.2583057392117913,
         1.2583057392117918
        ],
        [
         "University of Wisconsin–Madison",
         1.0,
         0.5
        ],
        [
         "Kyoto University",
         0.9574271077563381,
         0.0
        ],
        [
         "University of Pennsylvania",
         0.9574271077563381,
         0.5000000000000001
        ],
        [
         "Hebrew University of Jerusalem",
         0.816496580927726,
         0.5
        ],
        [
         "Massachusetts Institute of Technology",
         0.816496580927726,
         0.5
        ],
        [
         "Yeshiva University",
         0.7071067811865476,
         0.7071067811865476
        ],
        [
         "Colorado School of Mines",
         0.7071067811865476,
         0.7071067811865476
        ],
        [
         "Federal University of Pernambuco",
         0.7071067811865476,
         1.4142135623730951
        ],
        [
         "Georgia Regents University",
         0.7071067811865476,
         0.7071067811865476
        ],
        [
         "Open University (UK)",
         0.7071067811865476,
         0.0
        ],
        [
         "College of William and Mary",
         0.7071067811865476,
         1.4142135623730951
        ],
        [
         "Northwestern Polytechnical University",
         0.7071067811865476,
         0.0
        ],
        [
         "University of São Paulo",
         0.7071067811865476,
         0.0
        ],
        [
         "University of Calgary",
         0.7071067811865476,
         0.0
        ],
        [
         "Lund University",
         0.7071067811865476,
         0.7071067811865476
        ],
        [
         "Southern Illinois University Carbondale",
         0.7071067811865476,
         0.0
        ],
        [
         "University of Kent",
         0.7071067811865476,
         0.0
        ],
        [
         "Auburn University",
         0.7071067811865476,
         2.8284271247461903
        ],
        [
         "University of Parma",
         0.7071067811865476,
         1.4142135623730951
        ],
        [
         "University of Brighton",
         0.7071067811865476,
         1.4142135623730951
        ],
        [
         "Royal Holloway, University of London",
         0.7071067811865476,
         1.4142135623730951
        ],
        [
         "Tokyo Metropolitan University",
         0.7071067811865476,
         2.1213203435596424
        ],
        [
         "University of Miami",
         0.7071067811865476,
         1.4142135623730951
        ],
        [
         "Peking University",
         0.7071067811865476,
         0.0
        ],
        [
         "University of Texas Medical Branch at Galveston",
         0.7071067811865476,
         2.8284271247461903
        ],
        [
         "University of Bern",
         0.7071067811865476,
         0.0
        ],
        [
         "University of Western Brittany",
         0.7071067811865476,
         0.0
        ],
        [
         "Amirkabir University of Technology",
         0.7071067811865476,
         1.4142135623730951
        ],
        [
         "Saint Louis University",
         0.7071067811865476,
         0.7071067811865476
        ],
        [
         "University of Alcalá",
         0.7071067811865476,
         0.0
        ],
        [
         "Queen's University Belfast",
         0.7071067811865476,
         1.4142135623730951
        ],
        [
         "Miami University",
         0.7071067811865476,
         0.7071067811865476
        ],
        [
         "University of Rennes 1",
         0.7071067811865476,
         0.0
        ],
        [
         "National Central University",
         0.7071067811865476,
         1.4142135623730951
        ],
        [
         "University of Tokyo",
         0.5773502691896256,
         0.0
        ],
        [
         "Stanford University",
         0.5,
         0.5
        ],
        [
         "University of Cambridge",
         0.49999999999999994,
         0.5
        ],
        [
         "University of California, San Diego",
         0.4999999999999998,
         0.8164965809277263
        ],
        [
         "University of Ioannina",
         0.0,
         0.0
        ],
        [
         "Uppsala University",
         0.0,
         0.7071067811865476
        ],
        [
         "Baylor College of Medicine",
         0.0,
         0.0
        ],
        [
         "Shiraz University",
         0.0,
         1.4142135623730951
        ],
        [
         "University of Insubria",
         0.0,
         0.7071067811865476
        ],
        [
         "University of Tennessee, Knoxville",
         0.0,
         0.0
        ],
        [
         "Vienna University of Technology",
         0.0,
         0.7071067811865476
        ],
        [
         "China Medical University (PRC)",
         0.0,
         2.1213203435596424
        ],
        [
         "Ain Shams University",
         0.0,
         1.4142135623730951
        ],
        [
         "University of Düsseldorf",
         0.0,
         0.0
        ],
        [
         "Harvard University",
         0.0,
         0.0
        ],
        [
         "Nara Institute of Science and Technology",
         0.0,
         0.7071067811865476
        ],
        [
         "Second University of Naples",
         0.0,
         1.4142135623730951
        ],
        [
         "Jawaharlal Nehru Centre for Advanced Scientific Research",
         0.0,
         0.0
        ],
        [
         "National University of Rosario",
         null,
         null
        ],
        [
         "Northwest A&F University",
         null,
         null
        ],
        [
         "École normale supérieure de Cachan",
         null,
         null
        ],
        [
         "Gachon University",
         null,
         null
        ],
        [
         "University of Lethbridge",
         null,
         null
        ],
        [
         "National Dong Hwa University",
         null,
         null
        ],
        [
         "Iran University of Science and Technology",
         null,
         null
        ],
        [
         "National Research Nuclear University MEPhI",
         null,
         null
        ],
        [
         "Western Michigan University",
         null,
         null
        ],
        [
         "Southwest Jiaotong University",
         null,
         null
        ],
        [
         "Guangxi University",
         null,
         null
        ],
        [
         "Tianjin Medical University",
         null,
         null
        ],
        [
         "University of Bordeaux",
         null,
         null
        ],
        [
         "University of Montpellier 1",
         null,
         null
        ],
        [
         "Moscow Institute of Physics and Technology",
         null,
         null
        ],
        [
         "Babeș-Bolyai University",
         null,
         null
        ],
        [
         "University of Bordeaux I",
         null,
         null
        ],
        [
         "Henan Normal University",
         null,
         null
        ],
        [
         "Shahid Beheshti University of Medical Sciences",
         null,
         null
        ],
        [
         "I-Shou University",
         null,
         null
        ],
        [
         "National University of Defense Technology",
         null,
         null
        ],
        [
         "University of Bordeaux II",
         null,
         null
        ],
        [
         "Yanbian University",
         null,
         null
        ],
        [
         "Renmin University of China",
         null,
         null
        ],
        [
         "University of Oklahoma Health Sciences Center",
         null,
         null
        ],
        [
         "Harbin Medical University",
         null,
         null
        ],
        [
         "University of Central Lancashire",
         null,
         null
        ],
        [
         "University of Montpellier",
         null,
         null
        ],
        [
         "Jacobs University Bremen",
         null,
         null
        ],
        [
         "King Juan Carlos University",
         null,
         null
        ],
        [
         "Shanxi University",
         null,
         null
        ],
        [
         "Shaanxi Normal University",
         null,
         null
        ],
        [
         "Shenzhen University",
         null,
         null
        ],
        [
         "University of Maine (Le Mans)",
         null,
         null
        ],
        [
         "Williams College",
         null,
         null
        ],
        [
         "National Taipei University of Technology",
         null,
         null
        ],
        [
         "Hefei University of Technology",
         null,
         null
        ],
        [
         "Zhejiang Normal University",
         null,
         null
        ],
        [
         "China University of Geosciences (Wuhan)",
         null,
         null
        ],
        [
         "University of Montpellier 2",
         null,
         null
        ],
        [
         "Tamkang University",
         null,
         null
        ],
        [
         "University of Calcutta",
         null,
         null
        ],
        [
         "Beijing Jiaotong University",
         null,
         null
        ],
        [
         "Ulsan National Institute of Science and Technology",
         null,
         null
        ],
        [
         "Harbin Engineering University",
         null,
         null
        ],
        [
         "École centrale de Lyon",
         null,
         null
        ],
        [
         "Chemnitz University of Technology",
         null,
         null
        ]
       ],
       "datasetInfos": [],
       "dbfsResultPath": null,
       "isJsonSchema": true,
       "metadata": {},
       "overflow": false,
       "plotOptions": {
        "customPlotOptions": {},
        "displayType": "table",
        "pivotAggregation": null,
        "pivotColumns": null,
        "xColumns": null,
        "yColumns": null
       },
       "removedWidgets": [],
       "schema": [
        {
         "metadata": "{}",
         "name": "institution",
         "type": "\"string\""
        },
        {
         "metadata": "{}",
         "name": "stddev_samp(world_rank)",
         "type": "\"double\""
        },
        {
         "metadata": "{}",
         "name": "stddev_samp(national_rank)",
         "type": "\"double\""
        }
       ],
       "type": "table"
      }
     },
     "output_type": "display_data"
    },
    {
     "output_type": "stream",
     "name": "stdout",
     "output_type": "stream",
     "text": [
      "Final df college count:  119\nOG df college count:  2200\n"
     ]
    },
    {
     "output_type": "display_data",
     "data": {
      "text/html": [
       "<style scoped>\n",
       "  .table-result-container {\n",
       "    max-height: 300px;\n",
       "    overflow: auto;\n",
       "  }\n",
       "  table, th, td {\n",
       "    border: 1px solid black;\n",
       "    border-collapse: collapse;\n",
       "  }\n",
       "  th, td {\n",
       "    padding: 5px;\n",
       "  }\n",
       "  th {\n",
       "    text-align: left;\n",
       "  }\n",
       "</style><div class='table-result-container'><table class='table-result'><thead style='background-color: white'><tr><th>Name</th><th>Applicants total</th><th>Admissions total</th><th>Enrolled total</th><th>State abbreviation</th><th>institution</th><th>avg(world_rank)</th></tr></thead><tbody><tr><td>Harvard University</td><td>35023</td><td>2047</td><td>1659</td><td>Massachusetts</td><td>Harvard University</td><td>1.0</td></tr><tr><td>Stanford University</td><td>38828</td><td>2208</td><td>1677</td><td>California</td><td>Stanford University</td><td>2.25</td></tr><tr><td>Massachusetts Institute of Technology</td><td>18989</td><td>1548</td><td>1115</td><td>Massachusetts</td><td>Massachusetts Institute of Technology</td><td>3.0</td></tr><tr><td>Princeton University</td><td>26499</td><td>1963</td><td>1285</td><td>New Jersey</td><td>Princeton University</td><td>8.0</td></tr><tr><td>University of Chicago</td><td>30304</td><td>2670</td><td>1426</td><td>Illinois</td><td>University of Chicago</td><td>9.0</td></tr><tr><td>Yale University</td><td>28977</td><td>2043</td><td>1356</td><td>Connecticut</td><td>Yale University</td><td>9.75</td></tr><tr><td>California Institute of Technology</td><td>5535</td><td>584</td><td>249</td><td>California</td><td>California Institute of Technology</td><td>10.0</td></tr><tr><td>Cornell University</td><td>39999</td><td>6222</td><td>3223</td><td>New York</td><td>Cornell University</td><td>11.5</td></tr><tr><td>University of Pennsylvania</td><td>31282</td><td>3830</td><td>2421</td><td>Pennsylvania</td><td>University of Pennsylvania</td><td>13.25</td></tr><tr><td>Johns Hopkins University</td><td>21336</td><td>3869</td><td>1390</td><td>Maryland</td><td>Johns Hopkins University</td><td>16.75</td></tr><tr><td>New York University</td><td>57845</td><td>15066</td><td>5207</td><td>New York</td><td>New York University</td><td>19.25</td></tr><tr><td>Duke University</td><td>30374</td><td>4077</td><td>1714</td><td>North Carolina</td><td>Duke University</td><td>26.5</td></tr><tr><td>Northwestern University</td><td>32060</td><td>4912</td><td>2037</td><td>Illinois</td><td>Northwestern University</td><td>26.5</td></tr><tr><td>University of North Carolina at Chapel Hill</td><td>28437</td><td>7847</td><td>3915</td><td>North Carolina</td><td>University of North Carolina at Chapel Hill</td><td>38.75</td></tr><tr><td>University of Southern California</td><td>47358</td><td>9395</td><td>2922</td><td>California</td><td>University of Southern California</td><td>46.25</td></tr><tr><td>Rutgers University-New Brunswick</td><td>30631</td><td>18230</td><td>6337</td><td>New Jersey</td><td>Rutgers University-New Brunswick</td><td>49.5</td></tr><tr><td>University of Colorado Boulder</td><td>22473</td><td>19710</td><td>5846</td><td>Colorado</td><td>University of Colorado Boulder</td><td>51.0</td></tr><tr><td>Carnegie Mellon University</td><td>18884</td><td>4813</td><td>1442</td><td>Pennsylvania</td><td>Carnegie Mellon University</td><td>52.25</td></tr><tr><td>University of Utah</td><td>11354</td><td>9281</td><td>3124</td><td>Utah</td><td>University of Utah</td><td>53.0</td></tr><tr><td>Dartmouth College</td><td>23110</td><td>2260</td><td>1098</td><td>New Hampshire</td><td>Dartmouth College</td><td>57.0</td></tr><tr><td>University of Florida</td><td>27107</td><td>12618</td><td>6373</td><td>Florida</td><td>University of Florida</td><td>57.25</td></tr><tr><td>Boston University</td><td>44006</td><td>20071</td><td>3877</td><td>Massachusetts</td><td>Boston University</td><td>62.25</td></tr><tr><td>Vanderbilt University</td><td>31099</td><td>3963</td><td>1613</td><td>Tennessee</td><td>Vanderbilt University</td><td>65.0</td></tr><tr><td>University of Arizona</td><td>26329</td><td>20251</td><td>7401</td><td>Arizona</td><td>University of Arizona</td><td>66.5</td></tr><tr><td>University of Notre Dame</td><td>17647</td><td>3936</td><td>2070</td><td>Indiana</td><td>University of Notre Dame</td><td>70.5</td></tr><tr><td>University of Rochester</td><td>17244</td><td>6153</td><td>1472</td><td>New York</td><td>University of Rochester</td><td>71.75</td></tr><tr><td>Brown University</td><td>28919</td><td>2654</td><td>1543</td><td>Rhode Island</td><td>Brown University</td><td>76.75</td></tr><tr><td>Emory University</td><td>17475</td><td>4602</td><td>1363</td><td>Georgia</td><td>Emory University</td><td>84.0</td></tr><tr><td>Tufts University</td><td>18419</td><td>3471</td><td>1314</td><td>Massachusetts</td><td>Tufts University</td><td>88.33333333333333</td></tr><tr><td>Rice University</td><td>15415</td><td>2581</td><td>978</td><td>Texas</td><td>Rice University</td><td>94.75</td></tr><tr><td>Williams College</td><td>7069</td><td>1203</td><td>547</td><td>Massachusetts</td><td>Williams College</td><td>95.0</td></tr><tr><td>Case Western Reserve University</td><td>18418</td><td>7713</td><td>1252</td><td>Ohio</td><td>Case Western Reserve University</td><td>95.0</td></tr><tr><td>Michigan State University</td><td>31479</td><td>21610</td><td>8061</td><td>Michigan</td><td>Michigan State University</td><td>115.0</td></tr><tr><td>Georgetown University</td><td>20115</td><td>3413</td><td>1570</td><td>District of Columbia</td><td>Georgetown University</td><td>115.5</td></tr><tr><td>Stony Brook University</td><td>30300</td><td>11963</td><td>2709</td><td>New York</td><td>Stony Brook University</td><td>117.66666666666667</td></tr><tr><td>University of Colorado Denver</td><td>3075</td><td>2333</td><td>991</td><td>Colorado</td><td>University of Colorado Denver</td><td>130.0</td></tr><tr><td>University of Iowa</td><td>21642</td><td>17363</td><td>4460</td><td>Iowa</td><td>University of Iowa</td><td>133.0</td></tr><tr><td>University of Miami</td><td>28907</td><td>11691</td><td>2140</td><td>Florida</td><td>University of Miami</td><td>137.5</td></tr><tr><td>Wake Forest University</td><td>11121</td><td>3915</td><td>1232</td><td>North Carolina</td><td>Wake Forest University</td><td>152.0</td></tr><tr><td>University of Alabama at Birmingham</td><td>5689</td><td>4934</td><td>1773</td><td>Alabama</td><td>University of Alabama at Birmingham</td><td>155.0</td></tr><tr><td>Southern Methodist University</td><td>12080</td><td>6125</td><td>1431</td><td>Texas</td><td>Southern Methodist University</td><td>156.5</td></tr><tr><td>Yeshiva University</td><td>1575</td><td>1294</td><td>857</td><td>New York</td><td>Yeshiva University</td><td>171.5</td></tr><tr><td>University of Houston</td><td>17407</td><td>10167</td><td>3434</td><td>Texas</td><td>University of Houston</td><td>173.0</td></tr><tr><td>Iowa State University</td><td>16539</td><td>13648</td><td>5366</td><td>Iowa</td><td>Iowa State University</td><td>184.5</td></tr><tr><td>Wayne State University</td><td>11524</td><td>8786</td><td>2167</td><td>Michigan</td><td>Wayne State University</td><td>190.5</td></tr><tr><td>George Washington University</td><td>21756</td><td>7197</td><td>2387</td><td>District of Columbia</td><td>George Washington University</td><td>191.0</td></tr><tr><td>University of Kansas</td><td>12389</td><td>11433</td><td>3771</td><td>Kansas</td><td>University of Kansas</td><td>199.5</td></tr><tr><td>University of Georgia</td><td>18458</td><td>10352</td><td>4936</td><td>Georgia</td><td>University of Georgia</td><td>202.5</td></tr><tr><td>University of Illinois at Chicago</td><td>14603</td><td>10427</td><td>3104</td><td>Illinois</td><td>University of Illinois at Chicago</td><td>210.5</td></tr><tr><td>University of Connecticut</td><td>27479</td><td>14745</td><td>3755</td><td>Connecticut</td><td>University of Connecticut</td><td>225.5</td></tr><tr><td>Virginia Commonwealth University</td><td>14156</td><td>9786</td><td>3525</td><td>Virginia</td><td>Virginia Commonwealth University</td><td>249.5</td></tr><tr><td>Florida State University</td><td>29579</td><td>16803</td><td>6048</td><td>Florida</td><td>Florida State University</td><td>253.5</td></tr><tr><td>Brandeis University</td><td>9496</td><td>3517</td><td>833</td><td>Massachusetts</td><td>Brandeis University</td><td>255.0</td></tr><tr><td>Drexel University</td><td>43945</td><td>35815</td><td>3040</td><td>Pennsylvania</td><td>Drexel University</td><td>259.5</td></tr><tr><td>Lehigh University</td><td>12589</td><td>3882</td><td>1198</td><td>Pennsylvania</td><td>Lehigh University</td><td>261.0</td></tr><tr><td>Oregon State University</td><td>12414</td><td>9799</td><td>3516</td><td>Oregon</td><td>Oregon State University</td><td>262.5</td></tr><tr><td>Rensselaer Polytechnic Institute</td><td>16150</td><td>6654</td><td>1411</td><td>New York</td><td>Rensselaer Polytechnic Institute</td><td>262.5</td></tr><tr><td>University of Kentucky</td><td>19810</td><td>13592</td><td>4702</td><td>Kentucky</td><td>University of Kentucky</td><td>263.0</td></tr><tr><td>Virginia Polytechnic Institute and State University</td><td>19112</td><td>13432</td><td>5364</td><td>Virginia</td><td>Virginia Polytechnic Institute and State University</td><td>263.5</td></tr><tr><td>University of Delaware</td><td>25458</td><td>16467</td><td>4224</td><td>Delaware</td><td>University of Delaware</td><td>264.0</td></tr><tr><td>Northeastern University</td><td>47364</td><td>15301</td><td>2891</td><td>Massachusetts</td><td>Northeastern University</td><td>296.5</td></tr><tr><td>University of Louisville</td><td>9166</td><td>6519</td><td>2857</td><td>Kentucky</td><td>University of Louisville</td><td>310.0</td></tr><tr><td>University of Vermont</td><td>22381</td><td>17357</td><td>2495</td><td>Vermont</td><td>University of Vermont</td><td>322.0</td></tr><tr><td>Boston College</td><td>24538</td><td>7905</td><td>2215</td><td>Massachusetts</td><td>Boston College</td><td>329.0</td></tr><tr><td>Wesleyan University</td><td>10046</td><td>2102</td><td>752</td><td>Connecticut</td><td>Wesleyan University</td><td>329.0</td></tr><tr><td>Kansas State University</td><td>9839</td><td>9437</td><td>3821</td><td>Kansas</td><td>Kansas State University</td><td>336.0</td></tr><tr><td>University of Oregon</td><td>21263</td><td>15770</td><td>4031</td><td>Oregon</td><td>University of Oregon</td><td>342.5</td></tr><tr><td>San Diego State University</td><td>51163</td><td>15970</td><td>4139</td><td>California</td><td>San Diego State University</td><td>354.5</td></tr><tr><td>College of William and Mary</td><td>14046</td><td>4665</td><td>1479</td><td>Virginia</td><td>College of William and Mary</td><td>360.5</td></tr><tr><td>Saint Louis University</td><td>13389</td><td>8626</td><td>1638</td><td>Missouri</td><td>Saint Louis University</td><td>363.5</td></tr><tr><td>Colorado School of Mines</td><td>11682</td><td>4373</td><td>949</td><td>Colorado</td><td>Colorado School of Mines</td><td>364.5</td></tr><tr><td>Temple University</td><td>18813</td><td>12016</td><td>4390</td><td>Pennsylvania</td><td>Temple University</td><td>385.5</td></tr><tr><td>University of Central Florida</td><td>31820</td><td>15572</td><td>6068</td><td>Florida</td><td>University of Central Florida</td><td>397.5</td></tr><tr><td>George Mason University</td><td>20805</td><td>12905</td><td>3011</td><td>Virginia</td><td>George Mason University</td><td>424.0</td></tr><tr><td>West Virginia University</td><td>16521</td><td>14060</td><td>5135</td><td>West Virginia</td><td>West Virginia University</td><td>440.0</td></tr><tr><td>Loyola University Chicago</td><td>14355</td><td>13121</td><td>2512</td><td>Illinois</td><td>Loyola University Chicago</td><td>441.5</td></tr><tr><td>Syracuse University</td><td>28269</td><td>13990</td><td>3487</td><td>New York</td><td>Syracuse University</td><td>455.5</td></tr><tr><td>University of Denver</td><td>13735</td><td>10539</td><td>1413</td><td>Colorado</td><td>University of Denver</td><td>458.0</td></tr><tr><td>University of Wyoming</td><td>4181</td><td>4001</td><td>1584</td><td>Wyoming</td><td>University of Wyoming</td><td>475.5</td></tr><tr><td>University of Hawaii at Manoa</td><td>6901</td><td>5527</td><td>1981</td><td>Hawaii</td><td>University of Hawaii at Manoa</td><td>478.5</td></tr><tr><td>Illinois Institute of Technology</td><td>2840</td><td>1618</td><td>465</td><td>Illinois</td><td>Illinois Institute of Technology</td><td>484.5</td></tr><tr><td>University of Dayton</td><td>15719</td><td>8327</td><td>1761</td><td>Ohio</td><td>University of Dayton</td><td>491.5</td></tr><tr><td>Clemson University</td><td>18500</td><td>10706</td><td>3463</td><td>South Carolina</td><td>Clemson University</td><td>496.5</td></tr><tr><td>Creighton University</td><td>5336</td><td>4090</td><td>966</td><td>Nebraska</td><td>Creighton University</td><td>499.0</td></tr><tr><td>Georgia State University</td><td>13890</td><td>7592</td><td>3460</td><td>Georgia</td><td>Georgia State University</td><td>510.5</td></tr><tr><td>Baylor University</td><td>29249</td><td>16809</td><td>3190</td><td>Texas</td><td>Baylor University</td><td>520.0</td></tr><tr><td>Utah State University</td><td>9052</td><td>8757</td><td>3824</td><td>Utah</td><td>Utah State University</td><td>545.0</td></tr><tr><td>Auburn University</td><td>15745</td><td>13027</td><td>3726</td><td>Alabama</td><td>Auburn University</td><td>548.5</td></tr><tr><td>Mississippi State University</td><td>11191</td><td>7254</td><td>3156</td><td>Mississippi</td><td>Mississippi State University</td><td>555.5</td></tr><tr><td>University of New Orleans</td><td>3197</td><td>1610</td><td>860</td><td>Louisiana</td><td>University of New Orleans</td><td>612.5</td></tr><tr><td>Northern Illinois University</td><td>25914</td><td>14545</td><td>2679</td><td>Illinois</td><td>Northern Illinois University</td><td>619.5</td></tr><tr><td>Florida International University</td><td>16549</td><td>7122</td><td>2990</td><td>Florida</td><td>Florida International University</td><td>623.5</td></tr><tr><td>Louisiana Tech University</td><td>5077</td><td>3424</td><td>1552</td><td>Louisiana</td><td>Louisiana Tech University</td><td>632.0</td></tr><tr><td>University of Rhode Island</td><td>19824</td><td>15603</td><td>2993</td><td>Rhode Island</td><td>University of Rhode Island</td><td>632.5</td></tr><tr><td>University of Toledo</td><td>11066</td><td>10040</td><td>3428</td><td>Ohio</td><td>University of Toledo</td><td>641.5</td></tr><tr><td>University of Idaho</td><td>7455</td><td>4894</td><td>1643</td><td>Idaho</td><td>University of Idaho</td><td>646.5</td></tr><tr><td>Portland State University</td><td>5751</td><td>3518</td><td>1465</td><td>Oregon</td><td>Portland State University</td><td>665.5</td></tr><tr><td>Old Dominion University</td><td>10201</td><td>7833</td><td>2943</td><td>Virginia</td><td>Old Dominion University</td><td>665.5</td></tr><tr><td>Missouri University of Science and Technology</td><td>3322</td><td>2729</td><td>1262</td><td>Missouri</td><td>Missouri University of Science and Technology</td><td>677.5</td></tr><tr><td>Howard University</td><td>11687</td><td>5762</td><td>1394</td><td>District of Columbia</td><td>Howard University</td><td>681.5</td></tr><tr><td>Rochester Institute of Technology</td><td>16354</td><td>9839</td><td>2784</td><td>New York</td><td>Rochester Institute of Technology</td><td>687.5</td></tr><tr><td>Marquette University</td><td>23432</td><td>13462</td><td>1990</td><td>Wisconsin</td><td>Marquette University</td><td>710.5</td></tr><tr><td>New Jersey Institute of Technology</td><td>4344</td><td>2844</td><td>1029</td><td>New Jersey</td><td>New Jersey Institute of Technology</td><td>711.0</td></tr><tr><td>San Francisco State University</td><td>31462</td><td>20070</td><td>3807</td><td>California</td><td>San Francisco State University</td><td>714.5</td></tr><tr><td>University of Memphis</td><td>5990</td><td>4098</td><td>2134</td><td>Tennessee</td><td>University of Memphis</td><td>731.0</td></tr><tr><td>East Carolina University</td><td>15535</td><td>9658</td><td>4015</td><td>North Carolina</td><td>East Carolina University</td><td>740.0</td></tr><tr><td>University of Alabama in Huntsville</td><td>2054</td><td>1656</td><td>651</td><td>Alabama</td><td>University of Alabama in Huntsville</td><td>742.5</td></tr><tr><td>University of North Carolina at Charlotte</td><td>13742</td><td>9416</td><td>3541</td><td>North Carolina</td><td>University of North Carolina at Charlotte</td><td>760.5</td></tr><tr><td>Northern Arizona University</td><td>33989</td><td>31057</td><td>4772</td><td>Arizona</td><td>Northern Arizona University</td><td>774.5</td></tr><tr><td>Michigan Technological University</td><td>4520</td><td>3462</td><td>1153</td><td>Michigan</td><td>Michigan Technological University</td><td>793.0</td></tr><tr><td>Clarkson University</td><td>6747</td><td>4320</td><td>757</td><td>New York</td><td>Clarkson University</td><td>800.5</td></tr><tr><td>University of South Alabama</td><td>4814</td><td>4142</td><td>1878</td><td>Alabama</td><td>University of South Alabama</td><td>805.5</td></tr><tr><td>Florida Institute of Technology</td><td>7820</td><td>4727</td><td>783</td><td>Florida</td><td>Florida Institute of Technology</td><td>838.0</td></tr><tr><td>Florida Atlantic University</td><td>24889</td><td>11880</td><td>3479</td><td>Florida</td><td>Florida Atlantic University</td><td>869.0</td></tr><tr><td>University of North Carolina at Greensboro</td><td>10112</td><td>6069</td><td>2516</td><td>North Carolina</td><td>University of North Carolina at Greensboro</td><td>882.0</td></tr><tr><td>Oakland University</td><td>12019</td><td>7933</td><td>2569</td><td>Michigan</td><td>Oakland University</td><td>885.0</td></tr><tr><td>University of North Dakota</td><td>5404</td><td>3983</td><td>2360</td><td>North Dakota</td><td>University of North Dakota</td><td>893.5</td></tr><tr><td>University of Southern Mississippi</td><td>6120</td><td>4058</td><td>1746</td><td>Mississippi</td><td>University of Southern Mississippi</td><td>907.0</td></tr><tr><td>Western Michigan University</td><td>14621</td><td>12113</td><td>3190</td><td>Michigan</td><td>Western Michigan University</td><td>969.0</td></tr></tbody></table></div>"
      ]
     },
     "metadata": {
      "application/vnd.databricks.v1+output": {
       "addedWidgets": {},
       "aggData": [],
       "aggError": "",
       "aggOverflow": false,
       "aggSchema": [],
       "aggSeriesLimitReached": false,
       "aggType": "",
       "arguments": {},
       "columnCustomDisplayInfos": {},
       "data": [
        [
         "Harvard University",
         35023,
         2047,
         1659,
         "Massachusetts",
         "Harvard University",
         1.0
        ],
        [
         "Stanford University",
         38828,
         2208,
         1677,
         "California",
         "Stanford University",
         2.25
        ],
        [
         "Massachusetts Institute of Technology",
         18989,
         1548,
         1115,
         "Massachusetts",
         "Massachusetts Institute of Technology",
         3.0
        ],
        [
         "Princeton University",
         26499,
         1963,
         1285,
         "New Jersey",
         "Princeton University",
         8.0
        ],
        [
         "University of Chicago",
         30304,
         2670,
         1426,
         "Illinois",
         "University of Chicago",
         9.0
        ],
        [
         "Yale University",
         28977,
         2043,
         1356,
         "Connecticut",
         "Yale University",
         9.75
        ],
        [
         "California Institute of Technology",
         5535,
         584,
         249,
         "California",
         "California Institute of Technology",
         10.0
        ],
        [
         "Cornell University",
         39999,
         6222,
         3223,
         "New York",
         "Cornell University",
         11.5
        ],
        [
         "University of Pennsylvania",
         31282,
         3830,
         2421,
         "Pennsylvania",
         "University of Pennsylvania",
         13.25
        ],
        [
         "Johns Hopkins University",
         21336,
         3869,
         1390,
         "Maryland",
         "Johns Hopkins University",
         16.75
        ],
        [
         "New York University",
         57845,
         15066,
         5207,
         "New York",
         "New York University",
         19.25
        ],
        [
         "Duke University",
         30374,
         4077,
         1714,
         "North Carolina",
         "Duke University",
         26.5
        ],
        [
         "Northwestern University",
         32060,
         4912,
         2037,
         "Illinois",
         "Northwestern University",
         26.5
        ],
        [
         "University of North Carolina at Chapel Hill",
         28437,
         7847,
         3915,
         "North Carolina",
         "University of North Carolina at Chapel Hill",
         38.75
        ],
        [
         "University of Southern California",
         47358,
         9395,
         2922,
         "California",
         "University of Southern California",
         46.25
        ],
        [
         "Rutgers University-New Brunswick",
         30631,
         18230,
         6337,
         "New Jersey",
         "Rutgers University-New Brunswick",
         49.5
        ],
        [
         "University of Colorado Boulder",
         22473,
         19710,
         5846,
         "Colorado",
         "University of Colorado Boulder",
         51.0
        ],
        [
         "Carnegie Mellon University",
         18884,
         4813,
         1442,
         "Pennsylvania",
         "Carnegie Mellon University",
         52.25
        ],
        [
         "University of Utah",
         11354,
         9281,
         3124,
         "Utah",
         "University of Utah",
         53.0
        ],
        [
         "Dartmouth College",
         23110,
         2260,
         1098,
         "New Hampshire",
         "Dartmouth College",
         57.0
        ],
        [
         "University of Florida",
         27107,
         12618,
         6373,
         "Florida",
         "University of Florida",
         57.25
        ],
        [
         "Boston University",
         44006,
         20071,
         3877,
         "Massachusetts",
         "Boston University",
         62.25
        ],
        [
         "Vanderbilt University",
         31099,
         3963,
         1613,
         "Tennessee",
         "Vanderbilt University",
         65.0
        ],
        [
         "University of Arizona",
         26329,
         20251,
         7401,
         "Arizona",
         "University of Arizona",
         66.5
        ],
        [
         "University of Notre Dame",
         17647,
         3936,
         2070,
         "Indiana",
         "University of Notre Dame",
         70.5
        ],
        [
         "University of Rochester",
         17244,
         6153,
         1472,
         "New York",
         "University of Rochester",
         71.75
        ],
        [
         "Brown University",
         28919,
         2654,
         1543,
         "Rhode Island",
         "Brown University",
         76.75
        ],
        [
         "Emory University",
         17475,
         4602,
         1363,
         "Georgia",
         "Emory University",
         84.0
        ],
        [
         "Tufts University",
         18419,
         3471,
         1314,
         "Massachusetts",
         "Tufts University",
         88.33333333333333
        ],
        [
         "Rice University",
         15415,
         2581,
         978,
         "Texas",
         "Rice University",
         94.75
        ],
        [
         "Williams College",
         7069,
         1203,
         547,
         "Massachusetts",
         "Williams College",
         95.0
        ],
        [
         "Case Western Reserve University",
         18418,
         7713,
         1252,
         "Ohio",
         "Case Western Reserve University",
         95.0
        ],
        [
         "Michigan State University",
         31479,
         21610,
         8061,
         "Michigan",
         "Michigan State University",
         115.0
        ],
        [
         "Georgetown University",
         20115,
         3413,
         1570,
         "District of Columbia",
         "Georgetown University",
         115.5
        ],
        [
         "Stony Brook University",
         30300,
         11963,
         2709,
         "New York",
         "Stony Brook University",
         117.66666666666667
        ],
        [
         "University of Colorado Denver",
         3075,
         2333,
         991,
         "Colorado",
         "University of Colorado Denver",
         130.0
        ],
        [
         "University of Iowa",
         21642,
         17363,
         4460,
         "Iowa",
         "University of Iowa",
         133.0
        ],
        [
         "University of Miami",
         28907,
         11691,
         2140,
         "Florida",
         "University of Miami",
         137.5
        ],
        [
         "Wake Forest University",
         11121,
         3915,
         1232,
         "North Carolina",
         "Wake Forest University",
         152.0
        ],
        [
         "University of Alabama at Birmingham",
         5689,
         4934,
         1773,
         "Alabama",
         "University of Alabama at Birmingham",
         155.0
        ],
        [
         "Southern Methodist University",
         12080,
         6125,
         1431,
         "Texas",
         "Southern Methodist University",
         156.5
        ],
        [
         "Yeshiva University",
         1575,
         1294,
         857,
         "New York",
         "Yeshiva University",
         171.5
        ],
        [
         "University of Houston",
         17407,
         10167,
         3434,
         "Texas",
         "University of Houston",
         173.0
        ],
        [
         "Iowa State University",
         16539,
         13648,
         5366,
         "Iowa",
         "Iowa State University",
         184.5
        ],
        [
         "Wayne State University",
         11524,
         8786,
         2167,
         "Michigan",
         "Wayne State University",
         190.5
        ],
        [
         "George Washington University",
         21756,
         7197,
         2387,
         "District of Columbia",
         "George Washington University",
         191.0
        ],
        [
         "University of Kansas",
         12389,
         11433,
         3771,
         "Kansas",
         "University of Kansas",
         199.5
        ],
        [
         "University of Georgia",
         18458,
         10352,
         4936,
         "Georgia",
         "University of Georgia",
         202.5
        ],
        [
         "University of Illinois at Chicago",
         14603,
         10427,
         3104,
         "Illinois",
         "University of Illinois at Chicago",
         210.5
        ],
        [
         "University of Connecticut",
         27479,
         14745,
         3755,
         "Connecticut",
         "University of Connecticut",
         225.5
        ],
        [
         "Virginia Commonwealth University",
         14156,
         9786,
         3525,
         "Virginia",
         "Virginia Commonwealth University",
         249.5
        ],
        [
         "Florida State University",
         29579,
         16803,
         6048,
         "Florida",
         "Florida State University",
         253.5
        ],
        [
         "Brandeis University",
         9496,
         3517,
         833,
         "Massachusetts",
         "Brandeis University",
         255.0
        ],
        [
         "Drexel University",
         43945,
         35815,
         3040,
         "Pennsylvania",
         "Drexel University",
         259.5
        ],
        [
         "Lehigh University",
         12589,
         3882,
         1198,
         "Pennsylvania",
         "Lehigh University",
         261.0
        ],
        [
         "Oregon State University",
         12414,
         9799,
         3516,
         "Oregon",
         "Oregon State University",
         262.5
        ],
        [
         "Rensselaer Polytechnic Institute",
         16150,
         6654,
         1411,
         "New York",
         "Rensselaer Polytechnic Institute",
         262.5
        ],
        [
         "University of Kentucky",
         19810,
         13592,
         4702,
         "Kentucky",
         "University of Kentucky",
         263.0
        ],
        [
         "Virginia Polytechnic Institute and State University",
         19112,
         13432,
         5364,
         "Virginia",
         "Virginia Polytechnic Institute and State University",
         263.5
        ],
        [
         "University of Delaware",
         25458,
         16467,
         4224,
         "Delaware",
         "University of Delaware",
         264.0
        ],
        [
         "Northeastern University",
         47364,
         15301,
         2891,
         "Massachusetts",
         "Northeastern University",
         296.5
        ],
        [
         "University of Louisville",
         9166,
         6519,
         2857,
         "Kentucky",
         "University of Louisville",
         310.0
        ],
        [
         "University of Vermont",
         22381,
         17357,
         2495,
         "Vermont",
         "University of Vermont",
         322.0
        ],
        [
         "Boston College",
         24538,
         7905,
         2215,
         "Massachusetts",
         "Boston College",
         329.0
        ],
        [
         "Wesleyan University",
         10046,
         2102,
         752,
         "Connecticut",
         "Wesleyan University",
         329.0
        ],
        [
         "Kansas State University",
         9839,
         9437,
         3821,
         "Kansas",
         "Kansas State University",
         336.0
        ],
        [
         "University of Oregon",
         21263,
         15770,
         4031,
         "Oregon",
         "University of Oregon",
         342.5
        ],
        [
         "San Diego State University",
         51163,
         15970,
         4139,
         "California",
         "San Diego State University",
         354.5
        ],
        [
         "College of William and Mary",
         14046,
         4665,
         1479,
         "Virginia",
         "College of William and Mary",
         360.5
        ],
        [
         "Saint Louis University",
         13389,
         8626,
         1638,
         "Missouri",
         "Saint Louis University",
         363.5
        ],
        [
         "Colorado School of Mines",
         11682,
         4373,
         949,
         "Colorado",
         "Colorado School of Mines",
         364.5
        ],
        [
         "Temple University",
         18813,
         12016,
         4390,
         "Pennsylvania",
         "Temple University",
         385.5
        ],
        [
         "University of Central Florida",
         31820,
         15572,
         6068,
         "Florida",
         "University of Central Florida",
         397.5
        ],
        [
         "George Mason University",
         20805,
         12905,
         3011,
         "Virginia",
         "George Mason University",
         424.0
        ],
        [
         "West Virginia University",
         16521,
         14060,
         5135,
         "West Virginia",
         "West Virginia University",
         440.0
        ],
        [
         "Loyola University Chicago",
         14355,
         13121,
         2512,
         "Illinois",
         "Loyola University Chicago",
         441.5
        ],
        [
         "Syracuse University",
         28269,
         13990,
         3487,
         "New York",
         "Syracuse University",
         455.5
        ],
        [
         "University of Denver",
         13735,
         10539,
         1413,
         "Colorado",
         "University of Denver",
         458.0
        ],
        [
         "University of Wyoming",
         4181,
         4001,
         1584,
         "Wyoming",
         "University of Wyoming",
         475.5
        ],
        [
         "University of Hawaii at Manoa",
         6901,
         5527,
         1981,
         "Hawaii",
         "University of Hawaii at Manoa",
         478.5
        ],
        [
         "Illinois Institute of Technology",
         2840,
         1618,
         465,
         "Illinois",
         "Illinois Institute of Technology",
         484.5
        ],
        [
         "University of Dayton",
         15719,
         8327,
         1761,
         "Ohio",
         "University of Dayton",
         491.5
        ],
        [
         "Clemson University",
         18500,
         10706,
         3463,
         "South Carolina",
         "Clemson University",
         496.5
        ],
        [
         "Creighton University",
         5336,
         4090,
         966,
         "Nebraska",
         "Creighton University",
         499.0
        ],
        [
         "Georgia State University",
         13890,
         7592,
         3460,
         "Georgia",
         "Georgia State University",
         510.5
        ],
        [
         "Baylor University",
         29249,
         16809,
         3190,
         "Texas",
         "Baylor University",
         520.0
        ],
        [
         "Utah State University",
         9052,
         8757,
         3824,
         "Utah",
         "Utah State University",
         545.0
        ],
        [
         "Auburn University",
         15745,
         13027,
         3726,
         "Alabama",
         "Auburn University",
         548.5
        ],
        [
         "Mississippi State University",
         11191,
         7254,
         3156,
         "Mississippi",
         "Mississippi State University",
         555.5
        ],
        [
         "University of New Orleans",
         3197,
         1610,
         860,
         "Louisiana",
         "University of New Orleans",
         612.5
        ],
        [
         "Northern Illinois University",
         25914,
         14545,
         2679,
         "Illinois",
         "Northern Illinois University",
         619.5
        ],
        [
         "Florida International University",
         16549,
         7122,
         2990,
         "Florida",
         "Florida International University",
         623.5
        ],
        [
         "Louisiana Tech University",
         5077,
         3424,
         1552,
         "Louisiana",
         "Louisiana Tech University",
         632.0
        ],
        [
         "University of Rhode Island",
         19824,
         15603,
         2993,
         "Rhode Island",
         "University of Rhode Island",
         632.5
        ],
        [
         "University of Toledo",
         11066,
         10040,
         3428,
         "Ohio",
         "University of Toledo",
         641.5
        ],
        [
         "University of Idaho",
         7455,
         4894,
         1643,
         "Idaho",
         "University of Idaho",
         646.5
        ],
        [
         "Portland State University",
         5751,
         3518,
         1465,
         "Oregon",
         "Portland State University",
         665.5
        ],
        [
         "Old Dominion University",
         10201,
         7833,
         2943,
         "Virginia",
         "Old Dominion University",
         665.5
        ],
        [
         "Missouri University of Science and Technology",
         3322,
         2729,
         1262,
         "Missouri",
         "Missouri University of Science and Technology",
         677.5
        ],
        [
         "Howard University",
         11687,
         5762,
         1394,
         "District of Columbia",
         "Howard University",
         681.5
        ],
        [
         "Rochester Institute of Technology",
         16354,
         9839,
         2784,
         "New York",
         "Rochester Institute of Technology",
         687.5
        ],
        [
         "Marquette University",
         23432,
         13462,
         1990,
         "Wisconsin",
         "Marquette University",
         710.5
        ],
        [
         "New Jersey Institute of Technology",
         4344,
         2844,
         1029,
         "New Jersey",
         "New Jersey Institute of Technology",
         711.0
        ],
        [
         "San Francisco State University",
         31462,
         20070,
         3807,
         "California",
         "San Francisco State University",
         714.5
        ],
        [
         "University of Memphis",
         5990,
         4098,
         2134,
         "Tennessee",
         "University of Memphis",
         731.0
        ],
        [
         "East Carolina University",
         15535,
         9658,
         4015,
         "North Carolina",
         "East Carolina University",
         740.0
        ],
        [
         "University of Alabama in Huntsville",
         2054,
         1656,
         651,
         "Alabama",
         "University of Alabama in Huntsville",
         742.5
        ],
        [
         "University of North Carolina at Charlotte",
         13742,
         9416,
         3541,
         "North Carolina",
         "University of North Carolina at Charlotte",
         760.5
        ],
        [
         "Northern Arizona University",
         33989,
         31057,
         4772,
         "Arizona",
         "Northern Arizona University",
         774.5
        ],
        [
         "Michigan Technological University",
         4520,
         3462,
         1153,
         "Michigan",
         "Michigan Technological University",
         793.0
        ],
        [
         "Clarkson University",
         6747,
         4320,
         757,
         "New York",
         "Clarkson University",
         800.5
        ],
        [
         "University of South Alabama",
         4814,
         4142,
         1878,
         "Alabama",
         "University of South Alabama",
         805.5
        ],
        [
         "Florida Institute of Technology",
         7820,
         4727,
         783,
         "Florida",
         "Florida Institute of Technology",
         838.0
        ],
        [
         "Florida Atlantic University",
         24889,
         11880,
         3479,
         "Florida",
         "Florida Atlantic University",
         869.0
        ],
        [
         "University of North Carolina at Greensboro",
         10112,
         6069,
         2516,
         "North Carolina",
         "University of North Carolina at Greensboro",
         882.0
        ],
        [
         "Oakland University",
         12019,
         7933,
         2569,
         "Michigan",
         "Oakland University",
         885.0
        ],
        [
         "University of North Dakota",
         5404,
         3983,
         2360,
         "North Dakota",
         "University of North Dakota",
         893.5
        ],
        [
         "University of Southern Mississippi",
         6120,
         4058,
         1746,
         "Mississippi",
         "University of Southern Mississippi",
         907.0
        ],
        [
         "Western Michigan University",
         14621,
         12113,
         3190,
         "Michigan",
         "Western Michigan University",
         969.0
        ]
       ],
       "datasetInfos": [],
       "dbfsResultPath": null,
       "isJsonSchema": true,
       "metadata": {},
       "overflow": false,
       "plotOptions": {
        "customPlotOptions": {},
        "displayType": "table",
        "pivotAggregation": null,
        "pivotColumns": null,
        "xColumns": null,
        "yColumns": null
       },
       "removedWidgets": [],
       "schema": [
        {
         "metadata": "{}",
         "name": "Name",
         "type": "\"string\""
        },
        {
         "metadata": "{}",
         "name": "Applicants total",
         "type": "\"integer\""
        },
        {
         "metadata": "{}",
         "name": "Admissions total",
         "type": "\"integer\""
        },
        {
         "metadata": "{}",
         "name": "Enrolled total",
         "type": "\"integer\""
        },
        {
         "metadata": "{}",
         "name": "State abbreviation",
         "type": "\"string\""
        },
        {
         "metadata": "{}",
         "name": "institution",
         "type": "\"string\""
        },
        {
         "metadata": "{}",
         "name": "avg(world_rank)",
         "type": "\"double\""
        }
       ],
       "type": "table"
      }
     },
     "output_type": "display_data"
    },
    {
     "output_type": "display_data",
     "data": {
      "text/plain": [
       "Databricks visualization. Run in Databricks to view."
      ]
     },
     "metadata": {
      "application/vnd.databricks.v1.subcommand+json": {
       "bindings": {},
       "collapsed": false,
       "command": "%python\n__backend_agg_display_orig = display\n__backend_agg_dfs = []\ndef __backend_agg_display_new(df):\n    __backend_agg_df_modules = [\"pandas.core.frame\", \"databricks.koalas.frame\", \"pyspark.sql.dataframe\", \"pyspark.pandas.frame\", \"pyspark.sql.connect.dataframe\"]\n    if (type(df).__module__ in __backend_agg_df_modules and type(df).__name__ == 'DataFrame') or isinstance(df, list):\n        __backend_agg_dfs.append(df)\n\ndisplay = __backend_agg_display_new\n\ndef __backend_agg_user_code_fn():\n    import base64\n    exec(base64.standard_b64decode(\"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\").decode())\n\ntry:\n    # run user code\n    __backend_agg_user_code_fn()\n\n    #reset display function\n    display = __backend_agg_display_orig\n\n    if len(__backend_agg_dfs) > 8:\n        # create a temp view\n        if type(__backend_agg_dfs[8]).__module__ == \"databricks.koalas.frame\":\n            # koalas dataframe\n            __backend_agg_dfs[8].to_spark().createOrReplaceTempView(\"DatabricksViewe962adf\")\n        elif type(__backend_agg_dfs[8]).__module__ == \"pandas.core.frame\" or isinstance(__backend_agg_dfs[8], list):\n            # pandas dataframe\n            spark.createDataFrame(__backend_agg_dfs[8]).createOrReplaceTempView(\"DatabricksViewe962adf\")\n        else:\n            __backend_agg_dfs[8].createOrReplaceTempView(\"DatabricksViewe962adf\")\n        #run backend agg\n        display(spark.sql(\"\"\"WITH q AS (select * from DatabricksViewe962adf) SELECT `Name`,`Applicants total`,`Admissions total`,`avg(world_rank)` FROM q\"\"\"))\n    else:\n        displayHTML(\"dataframe no longer exists. If you're using dataframe.display(), use display(dataframe) instead.\")\n\n\nfinally:\n    spark.sql(\"drop view if exists DatabricksViewe962adf\")\n    display = __backend_agg_display_orig\n    del __backend_agg_display_new\n    del __backend_agg_display_orig\n    del __backend_agg_dfs\n    del __backend_agg_user_code_fn\n\n",
       "commandTitle": "Visualization 1",
       "commandType": "auto",
       "commandVersion": 0,
       "commentThread": [],
       "commentsVisible": false,
       "contentSha256Hex": null,
       "customPlotOptions": {
        "redashChart": [
         {
          "key": "type",
          "value": "CHART"
         },
         {
          "key": "options",
          "value": {
           "alignYAxesAtZero": true,
           "coefficient": 1,
           "columnConfigurationMap": {
            "x": {
             "column": "Name",
             "id": "column_297ecc2e192"
            },
            "y": [
             {
              "column": "Applicants total",
              "id": "column_297ecc2e194"
             },
             {
              "column": "Admissions total",
              "id": "column_297ecc2e196"
             },
             {
              "column": "avg(world_rank)",
              "id": "column_297ecc2e198"
             }
            ]
           },
           "dateTimeFormat": "DD/MM/YYYY HH:mm",
           "direction": {
            "type": "counterclockwise"
           },
           "error_y": {
            "type": "data",
            "visible": true
           },
           "globalSeriesType": "line",
           "isAggregationOn": false,
           "legend": {
            "traceorder": "normal"
           },
           "missingValuesAsZero": true,
           "numberFormat": "0,0[.]00000",
           "percentFormat": "0[.]00%",
           "reverseX": true,
           "series": {
            "error_y": {
             "type": "data",
             "visible": true
            },
            "stacking": null
           },
           "seriesOptions": {
            "Admissions total": {
             "type": "line",
             "yAxis": 0
            },
            "Applicants total": {
             "type": "line",
             "yAxis": 0
            },
            "avg(world_rank)": {
             "type": "line",
             "yAxis": 0
            }
           },
           "showDataLabels": false,
           "sizemode": "diameter",
           "sortX": false,
           "sortY": true,
           "swappedAxes": false,
           "textFormat": "",
           "useAggregationsUi": true,
           "valuesOptions": {},
           "version": 2,
           "xAxis": {
            "labels": {
             "enabled": true
            },
            "type": "-"
           },
           "yAxis": [
            {
             "type": "-"
            },
            {
             "opposite": true,
             "type": "-"
            }
           ]
          }
         }
        ]
       },
       "datasetPreviewNameToCmdIdMap": {},
       "diffDeletes": [],
       "diffInserts": [],
       "displayType": "redashChart",
       "error": null,
       "errorSummary": null,
       "errorTraceType": null,
       "finishTime": 0,
       "globalVars": {},
       "guid": "",
       "height": "auto",
       "hideCommandCode": false,
       "hideCommandResult": false,
       "iPythonMetadata": null,
       "inputWidgets": {},
       "isLockedInExamMode": false,
       "latestUser": "a user",
       "latestUserId": null,
       "listResultMetadata": null,
       "metadata": {},
       "nuid": "2b6f422e-5eda-47c7-bdc1-7c4eb7c5cba3",
       "origId": 0,
       "parentHierarchy": [],
       "pivotAggregation": null,
       "pivotColumns": null,
       "position": 4.0,
       "resultDbfsErrorMessage": null,
       "resultDbfsStatus": "INLINED_IN_TREE",
       "results": null,
       "showCommandTitle": false,
       "startTime": 0,
       "state": "input",
       "streamStates": {},
       "subcommandOptions": {
        "queryPlan": {
         "selects": [
          {
           "column": "Name",
           "type": "column"
          },
          {
           "column": "Applicants total",
           "type": "column"
          },
          {
           "column": "Admissions total",
           "type": "column"
          },
          {
           "column": "avg(world_rank)",
           "type": "column"
          }
         ]
        }
       },
       "submitTime": 0,
       "subtype": "tableResultSubCmd.visualization",
       "tableResultIndex": 8,
       "useConsistentColors": false,
       "version": "CommandV1",
       "width": "auto",
       "workflows": [],
       "xColumns": null,
       "yColumns": null
      }
     },
     "output_type": "display_data"
    },
    {
     "output_type": "display_data",
     "data": {
      "text/html": [
       "<style scoped>\n",
       "  .table-result-container {\n",
       "    max-height: 300px;\n",
       "    overflow: auto;\n",
       "  }\n",
       "  table, th, td {\n",
       "    border: 1px solid black;\n",
       "    border-collapse: collapse;\n",
       "  }\n",
       "  th, td {\n",
       "    padding: 5px;\n",
       "  }\n",
       "  th {\n",
       "    text-align: left;\n",
       "  }\n",
       "</style><div class='table-result-container'><table class='table-result'><thead style='background-color: white'><tr><th>Name</th><th>Applicants total</th><th>Admissions total</th><th>Enrolled total</th><th>institution</th><th>avg(world_rank)</th></tr></thead><tbody><tr><td>Harvard University</td><td>13865</td><td>2165</td><td>1606</td><td>Harvard University</td><td>2.1</td></tr><tr><td>Harvard University</td><td>35023</td><td>2047</td><td>1659</td><td>Harvard University</td><td>2.1</td></tr><tr><td>Stanford University</td><td>38828</td><td>2208</td><td>1677</td><td>Stanford University</td><td>2.8</td></tr><tr><td>Massachusetts Institute of Technology</td><td>6411</td><td>2140</td><td>1078</td><td>Massachusetts Institute of Technology</td><td>4.3</td></tr><tr><td>Massachusetts Institute of Technology</td><td>18989</td><td>1548</td><td>1115</td><td>Massachusetts Institute of Technology</td><td>4.3</td></tr><tr><td>Columbia University</td><td>6756</td><td>1930</td><td>871</td><td>Columbia University</td><td>6.75</td></tr><tr><td>Princeton University</td><td>13218</td><td>2042</td><td>1153</td><td>Princeton University</td><td>8.0</td></tr><tr><td>Princeton University</td><td>26499</td><td>1963</td><td>1285</td><td>Princeton University</td><td>8.0</td></tr><tr><td>University of Chicago</td><td>6348</td><td>2999</td><td>922</td><td>University of Chicago</td><td>9.7</td></tr><tr><td>University of Chicago</td><td>30304</td><td>2670</td><td>1426</td><td>University of Chicago</td><td>9.7</td></tr><tr><td>Yale University</td><td>10705</td><td>2453</td><td>1317</td><td>Yale University</td><td>9.75</td></tr><tr><td>Yale University</td><td>28977</td><td>2043</td><td>1356</td><td>Yale University</td><td>9.75</td></tr><tr><td>California Institute of Technology</td><td>5535</td><td>584</td><td>249</td><td>California Institute of Technology</td><td>10.0</td></tr><tr><td>University of Pennsylvania</td><td>12394</td><td>5232</td><td>2464</td><td>University of Pennsylvania</td><td>13.25</td></tr><tr><td>University of Pennsylvania</td><td>31282</td><td>3830</td><td>2421</td><td>University of Pennsylvania</td><td>13.25</td></tr><tr><td>Johns Hopkins University</td><td>8474</td><td>3446</td><td>911</td><td>Johns Hopkins University</td><td>15.1</td></tr><tr><td>Johns Hopkins University</td><td>21336</td><td>3869</td><td>1390</td><td>Johns Hopkins University</td><td>15.1</td></tr><tr><td>Cornell University</td><td>39999</td><td>6222</td><td>3223</td><td>Cornell University</td><td>15.4</td></tr><tr><td>Duke University</td><td>13789</td><td>3893</td><td>1583</td><td>Duke University</td><td>23.0</td></tr><tr><td>Duke University</td><td>30374</td><td>4077</td><td>1714</td><td>Duke University</td><td>23.0</td></tr><tr><td>Northwestern University</td><td>12289</td><td>5200</td><td>1902</td><td>Northwestern University</td><td>24.4</td></tr><tr><td>Northwestern University</td><td>32060</td><td>4912</td><td>2037</td><td>Northwestern University</td><td>24.4</td></tr><tr><td>University of Texas at Austin</td><td>14752</td><td>9572</td><td>5329</td><td>University of Texas at Austin</td><td>28.75</td></tr><tr><td>University of Illinois at Urbana-Champaign</td><td>33203</td><td>20716</td><td>7329</td><td>University of Illinois at Urbana-Champaign</td><td>31.833333333333332</td></tr><tr><td>New York University</td><td>13594</td><td>7244</td><td>2505</td><td>New York University</td><td>33.0</td></tr><tr><td>New York University</td><td>57845</td><td>15066</td><td>5207</td><td>New York University</td><td>33.0</td></tr><tr><td>University of Wisconsin-Madison</td><td>23324</td><td>15841</td><td>6279</td><td>University of Wisconsin-Madison</td><td>33.4</td></tr><tr><td>Carnegie Mellon University</td><td>8728</td><td>5201</td><td>1191</td><td>Carnegie Mellon University</td><td>34.2</td></tr><tr><td>Carnegie Mellon University</td><td>18884</td><td>4813</td><td>1442</td><td>Carnegie Mellon University</td><td>34.2</td></tr><tr><td>University of North Carolina at Chapel Hill</td><td>14596</td><td>5985</td><td>3331</td><td>University of North Carolina at Chapel Hill</td><td>42.6</td></tr><tr><td>University of North Carolina at Chapel Hill</td><td>28437</td><td>7847</td><td>3915</td><td>University of North Carolina at Chapel Hill</td><td>42.6</td></tr><tr><td>Washington University in St Louis</td><td>30117</td><td>4684</td><td>1610</td><td>Washington University in St Louis</td><td>44.5</td></tr><tr><td>Rutgers University-New Brunswick</td><td>30631</td><td>18230</td><td>6337</td><td>Rutgers University-New Brunswick</td><td>49.5</td></tr><tr><td>University of Utah</td><td>5095</td><td>4491</td><td>2400</td><td>University of Utah</td><td>53.0</td></tr><tr><td>University of Utah</td><td>11354</td><td>9281</td><td>3124</td><td>University of Utah</td><td>53.0</td></tr><tr><td>Dartmouth College</td><td>8587</td><td>2273</td><td>1087</td><td>Dartmouth College</td><td>57.0</td></tr><tr><td>Dartmouth College</td><td>23110</td><td>2260</td><td>1098</td><td>Dartmouth College</td><td>57.0</td></tr><tr><td>University of Southern California</td><td>12229</td><td>8498</td><td>2477</td><td>University of Southern California</td><td>58.2</td></tr><tr><td>University of Southern California</td><td>47358</td><td>9395</td><td>2922</td><td>University of Southern California</td><td>58.2</td></tr><tr><td>Boston University</td><td>20192</td><td>13007</td><td>3810</td><td>Boston University</td><td>58.7</td></tr><tr><td>Boston University</td><td>44006</td><td>20071</td><td>3877</td><td>Boston University</td><td>58.7</td></tr><tr><td>Vanderbilt University</td><td>7791</td><td>4690</td><td>1499</td><td>Vanderbilt University</td><td>65.0</td></tr><tr><td>Vanderbilt University</td><td>31099</td><td>3963</td><td>1613</td><td>Vanderbilt University</td><td>65.0</td></tr><tr><td>University of Colorado Boulder</td><td>22473</td><td>19710</td><td>5846</td><td>University of Colorado Boulder</td><td>76.0</td></tr><tr><td>Brown University</td><td>12586</td><td>3239</td><td>1462</td><td>Brown University</td><td>76.75</td></tr><tr><td>Brown University</td><td>28919</td><td>2654</td><td>1543</td><td>Brown University</td><td>76.75</td></tr><tr><td>University of Notre Dame</td><td>7700</td><td>3700</td><td>1906</td><td>University of Notre Dame</td><td>83.875</td></tr><tr><td>University of Notre Dame</td><td>17647</td><td>3936</td><td>2070</td><td>University of Notre Dame</td><td>83.875</td></tr><tr><td>Emory University</td><td>8506</td><td>4168</td><td>1236</td><td>Emory University</td><td>84.0</td></tr><tr><td>Emory University</td><td>17475</td><td>4602</td><td>1363</td><td>Emory University</td><td>84.0</td></tr><tr><td>Georgia Institute of Technology</td><td>7837</td><td>4527</td><td>2276</td><td>Georgia Institute of Technology</td><td>87.5</td></tr><tr><td>Tufts University</td><td>18419</td><td>3471</td><td>1314</td><td>Tufts University</td><td>88.33333333333333</td></tr><tr><td>University of Arizona</td><td>26329</td><td>20251</td><td>7401</td><td>University of Arizona</td><td>90.8</td></tr><tr><td>University of Rochester</td><td>8766</td><td>5498</td><td>1243</td><td>University of Rochester</td><td>93.77777777777777</td></tr><tr><td>University of Rochester</td><td>17244</td><td>6153</td><td>1472</td><td>University of Rochester</td><td>93.77777777777777</td></tr><tr><td>University of Florida</td><td>12445</td><td>8836</td><td>3623</td><td>University of Florida</td><td>94.44444444444444</td></tr><tr><td>University of Florida</td><td>27107</td><td>12618</td><td>6373</td><td>University of Florida</td><td>94.44444444444444</td></tr><tr><td>Rice University</td><td>15415</td><td>2581</td><td>978</td><td>Rice University</td><td>94.75</td></tr><tr><td>Williams College</td><td>4186</td><td>1245</td><td>526</td><td>Williams College</td><td>95.0</td></tr><tr><td>Williams College</td><td>7069</td><td>1203</td><td>547</td><td>Williams College</td><td>95.0</td></tr><tr><td>University of Virginia</td><td>15849</td><td>5384</td><td>2678</td><td>University of Virginia</td><td>95.1</td></tr><tr><td>Case Western Reserve University</td><td>3877</td><td>3156</td><td>713</td><td>Case Western Reserve University</td><td>98.22222222222223</td></tr><tr><td>Case Western Reserve University</td><td>18418</td><td>7713</td><td>1252</td><td>Case Western Reserve University</td><td>98.22222222222223</td></tr><tr><td>Michigan State University</td><td>18114</td><td>15096</td><td>6180</td><td>Michigan State University</td><td>100.75</td></tr><tr><td>Michigan State University</td><td>31479</td><td>21610</td><td>8061</td><td>Michigan State University</td><td>100.75</td></tr><tr><td>Stony Brook University</td><td>30300</td><td>11963</td><td>2709</td><td>Stony Brook University</td><td>117.66666666666667</td></tr><tr><td>University of Colorado Denver</td><td>3075</td><td>2333</td><td>991</td><td>University of Colorado Denver</td><td>130.0</td></tr><tr><td>Georgetown University</td><td>11115</td><td>2881</td><td>1390</td><td>Georgetown University</td><td>141.75</td></tr><tr><td>Georgetown University</td><td>20115</td><td>3413</td><td>1570</td><td>Georgetown University</td><td>141.75</td></tr><tr><td>University of Iowa</td><td>21642</td><td>17363</td><td>4460</td><td>University of Iowa</td><td>149.14285714285714</td></tr><tr><td>Wake Forest University</td><td>5661</td><td>2392</td><td>903</td><td>Wake Forest University</td><td>152.0</td></tr><tr><td>Wake Forest University</td><td>11121</td><td>3915</td><td>1232</td><td>Wake Forest University</td><td>152.0</td></tr><tr><td>University of Alabama at Birmingham</td><td>1797</td><td>1260</td><td>938</td><td>University of Alabama at Birmingham</td><td>155.0</td></tr><tr><td>University of Alabama at Birmingham</td><td>5689</td><td>4934</td><td>1773</td><td>University of Alabama at Birmingham</td><td>155.0</td></tr><tr><td>Southern Methodist University</td><td>4301</td><td>3455</td><td>1166</td><td>Southern Methodist University</td><td>156.5</td></tr><tr><td>Southern Methodist University</td><td>12080</td><td>6125</td><td>1431</td><td>Southern Methodist University</td><td>156.5</td></tr><tr><td>University of Miami</td><td>7122</td><td>5386</td><td>1643</td><td>University of Miami</td><td>165.0</td></tr><tr><td>University of Miami</td><td>28907</td><td>11691</td><td>2140</td><td>University of Miami</td><td>165.0</td></tr><tr><td>George Washington University</td><td>7875</td><td>5062</td><td>1492</td><td>George Washington University</td><td>167.71428571428572</td></tr><tr><td>George Washington University</td><td>21756</td><td>7197</td><td>2387</td><td>George Washington University</td><td>167.71428571428572</td></tr><tr><td>Yeshiva University</td><td>1575</td><td>1294</td><td>857</td><td>Yeshiva University</td><td>171.5</td></tr><tr><td>University of Houston</td><td>17407</td><td>10167</td><td>3434</td><td>University of Houston</td><td>173.0</td></tr><tr><td>University of Cincinnati</td><td>6855</td><td>5553</td><td>2408</td><td>University of Cincinnati</td><td>174.66666666666666</td></tr><tr><td>Iowa State University</td><td>8427</td><td>7424</td><td>3441</td><td>Iowa State University</td><td>184.5</td></tr><tr><td>Iowa State University</td><td>16539</td><td>13648</td><td>5366</td><td>Iowa State University</td><td>184.5</td></tr><tr><td>Rensselaer Polytechnic Institute</td><td>4996</td><td>4165</td><td>936</td><td>Rensselaer Polytechnic Institute</td><td>188.0</td></tr><tr><td>Rensselaer Polytechnic Institute</td><td>16150</td><td>6654</td><td>1411</td><td>Rensselaer Polytechnic Institute</td><td>188.0</td></tr><tr><td>University at Buffalo</td><td>23093</td><td>13053</td><td>3669</td><td>University at Buffalo</td><td>188.33333333333334</td></tr><tr><td>Wayne State University</td><td>11524</td><td>8786</td><td>2167</td><td>Wayne State University</td><td>190.5</td></tr><tr><td>Brandeis University</td><td>4186</td><td>2743</td><td>740</td><td>Brandeis University</td><td>192.66666666666666</td></tr><tr><td>Brandeis University</td><td>9496</td><td>3517</td><td>833</td><td>Brandeis University</td><td>192.66666666666666</td></tr><tr><td>University of Illinois at Chicago</td><td>8384</td><td>5727</td><td>2710</td><td>University of Illinois at Chicago</td><td>193.33333333333334</td></tr><tr><td>University of Illinois at Chicago</td><td>14603</td><td>10427</td><td>3104</td><td>University of Illinois at Chicago</td><td>193.33333333333334</td></tr><tr><td>University of Kansas</td><td>8579</td><td>5561</td><td>3681</td><td>University of Kansas</td><td>199.5</td></tr><tr><td>University of Kansas</td><td>12389</td><td>11433</td><td>3771</td><td>University of Kansas</td><td>199.5</td></tr><tr><td>University of Georgia</td><td>11220</td><td>7871</td><td>3320</td><td>University of Georgia</td><td>202.5</td></tr><tr><td>University of Georgia</td><td>18458</td><td>10352</td><td>4936</td><td>University of Georgia</td><td>202.5</td></tr><tr><td>University of Connecticut</td><td>27479</td><td>14745</td><td>3755</td><td>University of Connecticut</td><td>225.5</td></tr><tr><td>Drexel University</td><td>43945</td><td>35815</td><td>3040</td><td>Drexel University</td><td>236.33333333333334</td></tr><tr><td>Northeastern University</td><td>11901</td><td>8492</td><td>2517</td><td>Northeastern University</td><td>240.5</td></tr><tr><td>Northeastern University</td><td>47364</td><td>15301</td><td>2891</td><td>Northeastern University</td><td>240.5</td></tr><tr><td>Virginia Commonwealth University</td><td>4963</td><td>3497</td><td>1567</td><td>Virginia Commonwealth University</td><td>249.5</td></tr><tr><td>Virginia Commonwealth University</td><td>14156</td><td>9786</td><td>3525</td><td>Virginia Commonwealth University</td><td>249.5</td></tr><tr><td>Tulane University</td><td>7033</td><td>5125</td><td>1223</td><td>Tulane University</td><td>253.0</td></tr><tr><td>Florida State University</td><td>11651</td><td>8683</td><td>3023</td><td>Florida State University</td><td>253.5</td></tr><tr><td>Florida State University</td><td>29579</td><td>16803</td><td>6048</td><td>Florida State University</td><td>253.5</td></tr><tr><td>Lehigh University</td><td>6397</td><td>4304</td><td>1092</td><td>Lehigh University</td><td>261.0</td></tr><tr><td>Lehigh University</td><td>12589</td><td>3882</td><td>1198</td><td>Lehigh University</td><td>261.0</td></tr><tr><td>Oregon State University</td><td>12414</td><td>9799</td><td>3516</td><td>Oregon State University</td><td>262.5</td></tr><tr><td>University of Kentucky</td><td>19810</td><td>13592</td><td>4702</td><td>University of Kentucky</td><td>263.0</td></tr><tr><td>Virginia Polytechnic Institute and State University</td><td>19112</td><td>13432</td><td>5364</td><td>Virginia Polytechnic Institute and State University</td><td>263.5</td></tr><tr><td>University of Delaware</td><td>14446</td><td>10516</td><td>3252</td><td>University of Delaware</td><td>264.0</td></tr><tr><td>University of Delaware</td><td>25458</td><td>16467</td><td>4224</td><td>University of Delaware</td><td>264.0</td></tr><tr><td>University of Texas at San Antonio</td><td>4217</td><td>3100</td><td>1686</td><td>University of Texas at San Antonio</td><td>273.5</td></tr><tr><td>University of Louisville</td><td>4777</td><td>3057</td><td>1823</td><td>University of Louisville</td><td>310.0</td></tr><tr><td>University of Louisville</td><td>9166</td><td>6519</td><td>2857</td><td>University of Louisville</td><td>310.0</td></tr><tr><td>University of Vermont</td><td>7663</td><td>6008</td><td>1735</td><td>University of Vermont</td><td>322.0</td></tr><tr><td>University of Vermont</td><td>22381</td><td>17357</td><td>2495</td><td>University of Vermont</td><td>322.0</td></tr><tr><td>Boston College</td><td>24538</td><td>7905</td><td>2215</td><td>Boston College</td><td>329.0</td></tr><tr><td>Wesleyan University</td><td>4772</td><td>1973</td><td>712</td><td>Wesleyan University</td><td>329.0</td></tr><tr><td>Wesleyan University</td><td>10046</td><td>2102</td><td>752</td><td>Wesleyan University</td><td>329.0</td></tr><tr><td>Kansas State University</td><td>5880</td><td>4075</td><td>2833</td><td>Kansas State University</td><td>336.0</td></tr><tr><td>Kansas State University</td><td>9839</td><td>9437</td><td>3821</td><td>Kansas State University</td><td>336.0</td></tr><tr><td>University of Oregon</td><td>8631</td><td>6732</td><td>2546</td><td>University of Oregon</td><td>342.5</td></tr><tr><td>University of Oregon</td><td>21263</td><td>15770</td><td>4031</td><td>University of Oregon</td><td>342.5</td></tr><tr><td>San Diego State University</td><td>9402</td><td>7020</td><td>2151</td><td>San Diego State University</td><td>354.5</td></tr><tr><td>San Diego State University</td><td>51163</td><td>15970</td><td>4139</td><td>San Diego State University</td><td>354.5</td></tr><tr><td>College of William and Mary</td><td>7117</td><td>3106</td><td>1217</td><td>College of William and Mary</td><td>360.5</td></tr><tr><td>College of William and Mary</td><td>14046</td><td>4665</td><td>1479</td><td>College of William and Mary</td><td>360.5</td></tr><tr><td>Syracuse University</td><td>10477</td><td>7260</td><td>2442</td><td>Syracuse University</td><td>362.6666666666667</td></tr><tr><td>Syracuse University</td><td>28269</td><td>13990</td><td>3487</td><td>Syracuse University</td><td>362.6666666666667</td></tr><tr><td>Saint Louis University</td><td>3294</td><td>2855</td><td>956</td><td>Saint Louis University</td><td>363.5</td></tr><tr><td>Saint Louis University</td><td>13389</td><td>8626</td><td>1638</td><td>Saint Louis University</td><td>363.5</td></tr><tr><td>Colorado School of Mines</td><td>11682</td><td>4373</td><td>949</td><td>Colorado School of Mines</td><td>364.5</td></tr><tr><td>University of New Hampshire</td><td>9750</td><td>7640</td><td>2529</td><td>University of New Hampshire</td><td>381.5</td></tr><tr><td>Temple University</td><td>18813</td><td>12016</td><td>4390</td><td>Temple University</td><td>385.5</td></tr><tr><td>University of Central Florida</td><td>6986</td><td>2959</td><td>1918</td><td>University of Central Florida</td><td>397.5</td></tr><tr><td>University of Central Florida</td><td>31820</td><td>15572</td><td>6068</td><td>University of Central Florida</td><td>397.5</td></tr><tr><td>Concordia University</td><td>528</td><td>403</td><td>186</td><td>Concordia University</td><td>419.5</td></tr><tr><td>George Mason University</td><td>5653</td><td>4326</td><td>1727</td><td>George Mason University</td><td>424.0</td></tr><tr><td>George Mason University</td><td>20805</td><td>12905</td><td>3011</td><td>George Mason University</td><td>424.0</td></tr><tr><td>West Virginia University</td><td>16521</td><td>14060</td><td>5135</td><td>West Virginia University</td><td>440.0</td></tr><tr><td>Loyola University Chicago</td><td>3579</td><td>2959</td><td>868</td><td>Loyola University Chicago</td><td>441.5</td></tr><tr><td>Loyola University Chicago</td><td>14355</td><td>13121</td><td>2512</td><td>Loyola University Chicago</td><td>441.5</td></tr><tr><td>University of Denver</td><td>2974</td><td>2001</td><td>580</td><td>University of Denver</td><td>458.0</td></tr><tr><td>University of Denver</td><td>13735</td><td>10539</td><td>1413</td><td>University of Denver</td><td>458.0</td></tr><tr><td>Ohio University</td><td>11023</td><td>8298</td><td>3183</td><td>Ohio University</td><td>462.0</td></tr><tr><td>University of Wyoming</td><td>2029</td><td>1516</td><td>1073</td><td>University of Wyoming</td><td>475.5</td></tr><tr><td>University of Wyoming</td><td>4181</td><td>4001</td><td>1584</td><td>University of Wyoming</td><td>475.5</td></tr><tr><td>University of Hawaii at Manoa</td><td>3580</td><td>2603</td><td>1627</td><td>University of Hawaii at Manoa</td><td>478.5</td></tr><tr><td>University of Hawaii at Manoa</td><td>6901</td><td>5527</td><td>1981</td><td>University of Hawaii at Manoa</td><td>478.5</td></tr><tr><td>Illinois Institute of Technology</td><td>1756</td><td>1360</td><td>478</td><td>Illinois Institute of Technology</td><td>484.5</td></tr><tr><td>Illinois Institute of Technology</td><td>2840</td><td>1618</td><td>465</td><td>Illinois Institute of Technology</td><td>484.5</td></tr><tr><td>University of Dayton</td><td>6361</td><td>5293</td><td>1507</td><td>University of Dayton</td><td>491.5</td></tr><tr><td>University of Dayton</td><td>15719</td><td>8327</td><td>1761</td><td>University of Dayton</td><td>491.5</td></tr><tr><td>Clemson University</td><td>8065</td><td>5257</td><td>2301</td><td>Clemson University</td><td>496.5</td></tr><tr><td>Clemson University</td><td>18500</td><td>10706</td><td>3463</td><td>Clemson University</td><td>496.5</td></tr><tr><td>Creighton University</td><td>2967</td><td>2836</td><td>876</td><td>Creighton University</td><td>499.0</td></tr><tr><td>Creighton University</td><td>5336</td><td>4090</td><td>966</td><td>Creighton University</td><td>499.0</td></tr><tr><td>Georgia State University</td><td>3793</td><td>2341</td><td>1238</td><td>Georgia State University</td><td>510.5</td></tr><tr><td>Georgia State University</td><td>13890</td><td>7592</td><td>3460</td><td>Georgia State University</td><td>510.5</td></tr><tr><td>Baylor University</td><td>6075</td><td>5349</td><td>2367</td><td>Baylor University</td><td>520.0</td></tr><tr><td>Baylor University</td><td>29249</td><td>16809</td><td>3190</td><td>Baylor University</td><td>520.0</td></tr><tr><td>Utah State University</td><td>9052</td><td>8757</td><td>3824</td><td>Utah State University</td><td>545.0</td></tr><tr><td>Auburn University</td><td>15745</td><td>13027</td><td>3726</td><td>Auburn University</td><td>548.5</td></tr><tr><td>Mississippi State University</td><td>4255</td><td>3277</td><td>1609</td><td>Mississippi State University</td><td>555.5</td></tr><tr><td>Mississippi State University</td><td>11191</td><td>7254</td><td>3156</td><td>Mississippi State University</td><td>555.5</td></tr><tr><td>University of New Orleans</td><td>3197</td><td>1610</td><td>860</td><td>University of New Orleans</td><td>612.5</td></tr><tr><td>Northern Illinois University</td><td>10706</td><td>7219</td><td>2397</td><td>Northern Illinois University</td><td>619.5</td></tr><tr><td>Northern Illinois University</td><td>25914</td><td>14545</td><td>2679</td><td>Northern Illinois University</td><td>619.5</td></tr><tr><td>Florida International University</td><td>3306</td><td>2079</td><td>1071</td><td>Florida International University</td><td>623.5</td></tr><tr><td>Florida International University</td><td>16549</td><td>7122</td><td>2990</td><td>Florida International University</td><td>623.5</td></tr><tr><td>Louisiana Tech University</td><td>2397</td><td>2144</td><td>1525</td><td>Louisiana Tech University</td><td>632.0</td></tr><tr><td>Louisiana Tech University</td><td>5077</td><td>3424</td><td>1552</td><td>Louisiana Tech University</td><td>632.0</td></tr><tr><td>University of Rhode Island</td><td>9643</td><td>7751</td><td>1968</td><td>University of Rhode Island</td><td>632.5</td></tr><tr><td>University of Rhode Island</td><td>19824</td><td>15603</td><td>2993</td><td>University of Rhode Island</td><td>632.5</td></tr><tr><td>University of Toledo</td><td>11066</td><td>10040</td><td>3428</td><td>University of Toledo</td><td>641.5</td></tr><tr><td>University of Idaho</td><td>7455</td><td>4894</td><td>1643</td><td>University of Idaho</td><td>646.5</td></tr><tr><td>University of Texas at Arlington</td><td>3281</td><td>2559</td><td>1448</td><td>University of Texas at Arlington</td><td>653.5</td></tr><tr><td>Portland State University</td><td>5751</td><td>3518</td><td>1465</td><td>Portland State University</td><td>665.5</td></tr><tr><td>Old Dominion University</td><td>10201</td><td>7833</td><td>2943</td><td>Old Dominion University</td><td>665.5</td></tr><tr><td>Missouri University of Science and Technology</td><td>3322</td><td>2729</td><td>1262</td><td>Missouri University of Science and Technology</td><td>677.5</td></tr><tr><td>Howard University</td><td>11687</td><td>5762</td><td>1394</td><td>Howard University</td><td>681.5</td></tr><tr><td>Rochester Institute of Technology</td><td>16354</td><td>9839</td><td>2784</td><td>Rochester Institute of Technology</td><td>687.5</td></tr><tr><td>Marquette University</td><td>5152</td><td>4600</td><td>1685</td><td>Marquette University</td><td>710.5</td></tr><tr><td>Marquette University</td><td>23432</td><td>13462</td><td>1990</td><td>Marquette University</td><td>710.5</td></tr><tr><td>New Jersey Institute of Technology</td><td>1879</td><td>1216</td><td>483</td><td>New Jersey Institute of Technology</td><td>711.0</td></tr><tr><td>New Jersey Institute of Technology</td><td>4344</td><td>2844</td><td>1029</td><td>New Jersey Institute of Technology</td><td>711.0</td></tr><tr><td>San Francisco State University</td><td>31462</td><td>20070</td><td>3807</td><td>San Francisco State University</td><td>714.5</td></tr><tr><td>University of Memphis</td><td>5990</td><td>4098</td><td>2134</td><td>University of Memphis</td><td>731.0</td></tr><tr><td>East Carolina University</td><td>9274</td><td>6362</td><td>2435</td><td>East Carolina University</td><td>740.0</td></tr><tr><td>East Carolina University</td><td>15535</td><td>9658</td><td>4015</td><td>East Carolina University</td><td>740.0</td></tr><tr><td>University of Alabama in Huntsville</td><td>2054</td><td>1656</td><td>651</td><td>University of Alabama in Huntsville</td><td>742.5</td></tr><tr><td>University of North Carolina at Charlotte</td><td>5803</td><td>4441</td><td>1730</td><td>University of North Carolina at Charlotte</td><td>760.5</td></tr><tr><td>University of North Carolina at Charlotte</td><td>13742</td><td>9416</td><td>3541</td><td>University of North Carolina at Charlotte</td><td>760.5</td></tr><tr><td>Northern Arizona University</td><td>5891</td><td>4931</td><td>1973</td><td>Northern Arizona University</td><td>774.5</td></tr><tr><td>Northern Arizona University</td><td>33989</td><td>31057</td><td>4772</td><td>Northern Arizona University</td><td>774.5</td></tr><tr><td>Michigan Technological University</td><td>2618</td><td>2288</td><td>1032</td><td>Michigan Technological University</td><td>793.0</td></tr><tr><td>Michigan Technological University</td><td>4520</td><td>3462</td><td>1153</td><td>Michigan Technological University</td><td>793.0</td></tr><tr><td>Clarkson University</td><td>2174</td><td>1953</td><td>557</td><td>Clarkson University</td><td>800.5</td></tr><tr><td>Clarkson University</td><td>6747</td><td>4320</td><td>757</td><td>Clarkson University</td><td>800.5</td></tr><tr><td>Bowling Green State University</td><td>9251</td><td>7333</td><td>3076</td><td>Bowling Green State University</td><td>801.0</td></tr><tr><td>University of South Alabama</td><td>4814</td><td>4142</td><td>1878</td><td>University of South Alabama</td><td>805.5</td></tr><tr><td>Florida Institute of Technology</td><td>1947</td><td>1580</td><td>523</td><td>Florida Institute of Technology</td><td>838.0</td></tr><tr><td>Florida Institute of Technology</td><td>7820</td><td>4727</td><td>783</td><td>Florida Institute of Technology</td><td>838.0</td></tr><tr><td>Florida Atlantic University</td><td>24889</td><td>11880</td><td>3479</td><td>Florida Atlantic University</td><td>869.0</td></tr><tr><td>University of North Carolina at Greensboro</td><td>5191</td><td>4134</td><td>1500</td><td>University of North Carolina at Greensboro</td><td>882.0</td></tr><tr><td>University of North Carolina at Greensboro</td><td>10112</td><td>6069</td><td>2516</td><td>University of North Carolina at Greensboro</td><td>882.0</td></tr><tr><td>Oakland University</td><td>3041</td><td>2581</td><td>1173</td><td>Oakland University</td><td>885.0</td></tr><tr><td>Oakland University</td><td>12019</td><td>7933</td><td>2569</td><td>Oakland University</td><td>885.0</td></tr><tr><td>University of North Dakota</td><td>2777</td><td>2249</td><td>1652</td><td>University of North Dakota</td><td>893.5</td></tr><tr><td>University of North Dakota</td><td>5404</td><td>3983</td><td>2360</td><td>University of North Dakota</td><td>893.5</td></tr><tr><td>University of Southern Mississippi</td><td>2850</td><td>2044</td><td>1046</td><td>University of Southern Mississippi</td><td>907.0</td></tr><tr><td>University of Southern Mississippi</td><td>6120</td><td>4058</td><td>1746</td><td>University of Southern Mississippi</td><td>907.0</td></tr><tr><td>Western Michigan University</td><td>9167</td><td>7191</td><td>2738</td><td>Western Michigan University</td><td>969.0</td></tr><tr><td>Western Michigan University</td><td>14621</td><td>12113</td><td>3190</td><td>Western Michigan University</td><td>969.0</td></tr></tbody></table></div>"
      ]
     },
     "metadata": {
      "application/vnd.databricks.v1+output": {
       "addedWidgets": {},
       "aggData": [],
       "aggError": "",
       "aggOverflow": false,
       "aggSchema": [],
       "aggSeriesLimitReached": false,
       "aggType": "",
       "arguments": {},
       "columnCustomDisplayInfos": {},
       "data": [
        [
         "Harvard University",
         13865,
         2165,
         1606,
         "Harvard University",
         2.1
        ],
        [
         "Harvard University",
         35023,
         2047,
         1659,
         "Harvard University",
         2.1
        ],
        [
         "Stanford University",
         38828,
         2208,
         1677,
         "Stanford University",
         2.8
        ],
        [
         "Massachusetts Institute of Technology",
         6411,
         2140,
         1078,
         "Massachusetts Institute of Technology",
         4.3
        ],
        [
         "Massachusetts Institute of Technology",
         18989,
         1548,
         1115,
         "Massachusetts Institute of Technology",
         4.3
        ],
        [
         "Columbia University",
         6756,
         1930,
         871,
         "Columbia University",
         6.75
        ],
        [
         "Princeton University",
         13218,
         2042,
         1153,
         "Princeton University",
         8.0
        ],
        [
         "Princeton University",
         26499,
         1963,
         1285,
         "Princeton University",
         8.0
        ],
        [
         "University of Chicago",
         6348,
         2999,
         922,
         "University of Chicago",
         9.7
        ],
        [
         "University of Chicago",
         30304,
         2670,
         1426,
         "University of Chicago",
         9.7
        ],
        [
         "Yale University",
         10705,
         2453,
         1317,
         "Yale University",
         9.75
        ],
        [
         "Yale University",
         28977,
         2043,
         1356,
         "Yale University",
         9.75
        ],
        [
         "California Institute of Technology",
         5535,
         584,
         249,
         "California Institute of Technology",
         10.0
        ],
        [
         "University of Pennsylvania",
         12394,
         5232,
         2464,
         "University of Pennsylvania",
         13.25
        ],
        [
         "University of Pennsylvania",
         31282,
         3830,
         2421,
         "University of Pennsylvania",
         13.25
        ],
        [
         "Johns Hopkins University",
         8474,
         3446,
         911,
         "Johns Hopkins University",
         15.1
        ],
        [
         "Johns Hopkins University",
         21336,
         3869,
         1390,
         "Johns Hopkins University",
         15.1
        ],
        [
         "Cornell University",
         39999,
         6222,
         3223,
         "Cornell University",
         15.4
        ],
        [
         "Duke University",
         13789,
         3893,
         1583,
         "Duke University",
         23.0
        ],
        [
         "Duke University",
         30374,
         4077,
         1714,
         "Duke University",
         23.0
        ],
        [
         "Northwestern University",
         12289,
         5200,
         1902,
         "Northwestern University",
         24.4
        ],
        [
         "Northwestern University",
         32060,
         4912,
         2037,
         "Northwestern University",
         24.4
        ],
        [
         "University of Texas at Austin",
         14752,
         9572,
         5329,
         "University of Texas at Austin",
         28.75
        ],
        [
         "University of Illinois at Urbana-Champaign",
         33203,
         20716,
         7329,
         "University of Illinois at Urbana-Champaign",
         31.833333333333332
        ],
        [
         "New York University",
         13594,
         7244,
         2505,
         "New York University",
         33.0
        ],
        [
         "New York University",
         57845,
         15066,
         5207,
         "New York University",
         33.0
        ],
        [
         "University of Wisconsin-Madison",
         23324,
         15841,
         6279,
         "University of Wisconsin-Madison",
         33.4
        ],
        [
         "Carnegie Mellon University",
         8728,
         5201,
         1191,
         "Carnegie Mellon University",
         34.2
        ],
        [
         "Carnegie Mellon University",
         18884,
         4813,
         1442,
         "Carnegie Mellon University",
         34.2
        ],
        [
         "University of North Carolina at Chapel Hill",
         14596,
         5985,
         3331,
         "University of North Carolina at Chapel Hill",
         42.6
        ],
        [
         "University of North Carolina at Chapel Hill",
         28437,
         7847,
         3915,
         "University of North Carolina at Chapel Hill",
         42.6
        ],
        [
         "Washington University in St Louis",
         30117,
         4684,
         1610,
         "Washington University in St Louis",
         44.5
        ],
        [
         "Rutgers University-New Brunswick",
         30631,
         18230,
         6337,
         "Rutgers University-New Brunswick",
         49.5
        ],
        [
         "University of Utah",
         5095,
         4491,
         2400,
         "University of Utah",
         53.0
        ],
        [
         "University of Utah",
         11354,
         9281,
         3124,
         "University of Utah",
         53.0
        ],
        [
         "Dartmouth College",
         8587,
         2273,
         1087,
         "Dartmouth College",
         57.0
        ],
        [
         "Dartmouth College",
         23110,
         2260,
         1098,
         "Dartmouth College",
         57.0
        ],
        [
         "University of Southern California",
         12229,
         8498,
         2477,
         "University of Southern California",
         58.2
        ],
        [
         "University of Southern California",
         47358,
         9395,
         2922,
         "University of Southern California",
         58.2
        ],
        [
         "Boston University",
         20192,
         13007,
         3810,
         "Boston University",
         58.7
        ],
        [
         "Boston University",
         44006,
         20071,
         3877,
         "Boston University",
         58.7
        ],
        [
         "Vanderbilt University",
         7791,
         4690,
         1499,
         "Vanderbilt University",
         65.0
        ],
        [
         "Vanderbilt University",
         31099,
         3963,
         1613,
         "Vanderbilt University",
         65.0
        ],
        [
         "University of Colorado Boulder",
         22473,
         19710,
         5846,
         "University of Colorado Boulder",
         76.0
        ],
        [
         "Brown University",
         12586,
         3239,
         1462,
         "Brown University",
         76.75
        ],
        [
         "Brown University",
         28919,
         2654,
         1543,
         "Brown University",
         76.75
        ],
        [
         "University of Notre Dame",
         7700,
         3700,
         1906,
         "University of Notre Dame",
         83.875
        ],
        [
         "University of Notre Dame",
         17647,
         3936,
         2070,
         "University of Notre Dame",
         83.875
        ],
        [
         "Emory University",
         8506,
         4168,
         1236,
         "Emory University",
         84.0
        ],
        [
         "Emory University",
         17475,
         4602,
         1363,
         "Emory University",
         84.0
        ],
        [
         "Georgia Institute of Technology",
         7837,
         4527,
         2276,
         "Georgia Institute of Technology",
         87.5
        ],
        [
         "Tufts University",
         18419,
         3471,
         1314,
         "Tufts University",
         88.33333333333333
        ],
        [
         "University of Arizona",
         26329,
         20251,
         7401,
         "University of Arizona",
         90.8
        ],
        [
         "University of Rochester",
         8766,
         5498,
         1243,
         "University of Rochester",
         93.77777777777777
        ],
        [
         "University of Rochester",
         17244,
         6153,
         1472,
         "University of Rochester",
         93.77777777777777
        ],
        [
         "University of Florida",
         12445,
         8836,
         3623,
         "University of Florida",
         94.44444444444444
        ],
        [
         "University of Florida",
         27107,
         12618,
         6373,
         "University of Florida",
         94.44444444444444
        ],
        [
         "Rice University",
         15415,
         2581,
         978,
         "Rice University",
         94.75
        ],
        [
         "Williams College",
         4186,
         1245,
         526,
         "Williams College",
         95.0
        ],
        [
         "Williams College",
         7069,
         1203,
         547,
         "Williams College",
         95.0
        ],
        [
         "University of Virginia",
         15849,
         5384,
         2678,
         "University of Virginia",
         95.1
        ],
        [
         "Case Western Reserve University",
         3877,
         3156,
         713,
         "Case Western Reserve University",
         98.22222222222223
        ],
        [
         "Case Western Reserve University",
         18418,
         7713,
         1252,
         "Case Western Reserve University",
         98.22222222222223
        ],
        [
         "Michigan State University",
         18114,
         15096,
         6180,
         "Michigan State University",
         100.75
        ],
        [
         "Michigan State University",
         31479,
         21610,
         8061,
         "Michigan State University",
         100.75
        ],
        [
         "Stony Brook University",
         30300,
         11963,
         2709,
         "Stony Brook University",
         117.66666666666667
        ],
        [
         "University of Colorado Denver",
         3075,
         2333,
         991,
         "University of Colorado Denver",
         130.0
        ],
        [
         "Georgetown University",
         11115,
         2881,
         1390,
         "Georgetown University",
         141.75
        ],
        [
         "Georgetown University",
         20115,
         3413,
         1570,
         "Georgetown University",
         141.75
        ],
        [
         "University of Iowa",
         21642,
         17363,
         4460,
         "University of Iowa",
         149.14285714285714
        ],
        [
         "Wake Forest University",
         5661,
         2392,
         903,
         "Wake Forest University",
         152.0
        ],
        [
         "Wake Forest University",
         11121,
         3915,
         1232,
         "Wake Forest University",
         152.0
        ],
        [
         "University of Alabama at Birmingham",
         1797,
         1260,
         938,
         "University of Alabama at Birmingham",
         155.0
        ],
        [
         "University of Alabama at Birmingham",
         5689,
         4934,
         1773,
         "University of Alabama at Birmingham",
         155.0
        ],
        [
         "Southern Methodist University",
         4301,
         3455,
         1166,
         "Southern Methodist University",
         156.5
        ],
        [
         "Southern Methodist University",
         12080,
         6125,
         1431,
         "Southern Methodist University",
         156.5
        ],
        [
         "University of Miami",
         7122,
         5386,
         1643,
         "University of Miami",
         165.0
        ],
        [
         "University of Miami",
         28907,
         11691,
         2140,
         "University of Miami",
         165.0
        ],
        [
         "George Washington University",
         7875,
         5062,
         1492,
         "George Washington University",
         167.71428571428572
        ],
        [
         "George Washington University",
         21756,
         7197,
         2387,
         "George Washington University",
         167.71428571428572
        ],
        [
         "Yeshiva University",
         1575,
         1294,
         857,
         "Yeshiva University",
         171.5
        ],
        [
         "University of Houston",
         17407,
         10167,
         3434,
         "University of Houston",
         173.0
        ],
        [
         "University of Cincinnati",
         6855,
         5553,
         2408,
         "University of Cincinnati",
         174.66666666666666
        ],
        [
         "Iowa State University",
         8427,
         7424,
         3441,
         "Iowa State University",
         184.5
        ],
        [
         "Iowa State University",
         16539,
         13648,
         5366,
         "Iowa State University",
         184.5
        ],
        [
         "Rensselaer Polytechnic Institute",
         4996,
         4165,
         936,
         "Rensselaer Polytechnic Institute",
         188.0
        ],
        [
         "Rensselaer Polytechnic Institute",
         16150,
         6654,
         1411,
         "Rensselaer Polytechnic Institute",
         188.0
        ],
        [
         "University at Buffalo",
         23093,
         13053,
         3669,
         "University at Buffalo",
         188.33333333333334
        ],
        [
         "Wayne State University",
         11524,
         8786,
         2167,
         "Wayne State University",
         190.5
        ],
        [
         "Brandeis University",
         4186,
         2743,
         740,
         "Brandeis University",
         192.66666666666666
        ],
        [
         "Brandeis University",
         9496,
         3517,
         833,
         "Brandeis University",
         192.66666666666666
        ],
        [
         "University of Illinois at Chicago",
         8384,
         5727,
         2710,
         "University of Illinois at Chicago",
         193.33333333333334
        ],
        [
         "University of Illinois at Chicago",
         14603,
         10427,
         3104,
         "University of Illinois at Chicago",
         193.33333333333334
        ],
        [
         "University of Kansas",
         8579,
         5561,
         3681,
         "University of Kansas",
         199.5
        ],
        [
         "University of Kansas",
         12389,
         11433,
         3771,
         "University of Kansas",
         199.5
        ],
        [
         "University of Georgia",
         11220,
         7871,
         3320,
         "University of Georgia",
         202.5
        ],
        [
         "University of Georgia",
         18458,
         10352,
         4936,
         "University of Georgia",
         202.5
        ],
        [
         "University of Connecticut",
         27479,
         14745,
         3755,
         "University of Connecticut",
         225.5
        ],
        [
         "Drexel University",
         43945,
         35815,
         3040,
         "Drexel University",
         236.33333333333334
        ],
        [
         "Northeastern University",
         11901,
         8492,
         2517,
         "Northeastern University",
         240.5
        ],
        [
         "Northeastern University",
         47364,
         15301,
         2891,
         "Northeastern University",
         240.5
        ],
        [
         "Virginia Commonwealth University",
         4963,
         3497,
         1567,
         "Virginia Commonwealth University",
         249.5
        ],
        [
         "Virginia Commonwealth University",
         14156,
         9786,
         3525,
         "Virginia Commonwealth University",
         249.5
        ],
        [
         "Tulane University",
         7033,
         5125,
         1223,
         "Tulane University",
         253.0
        ],
        [
         "Florida State University",
         11651,
         8683,
         3023,
         "Florida State University",
         253.5
        ],
        [
         "Florida State University",
         29579,
         16803,
         6048,
         "Florida State University",
         253.5
        ],
        [
         "Lehigh University",
         6397,
         4304,
         1092,
         "Lehigh University",
         261.0
        ],
        [
         "Lehigh University",
         12589,
         3882,
         1198,
         "Lehigh University",
         261.0
        ],
        [
         "Oregon State University",
         12414,
         9799,
         3516,
         "Oregon State University",
         262.5
        ],
        [
         "University of Kentucky",
         19810,
         13592,
         4702,
         "University of Kentucky",
         263.0
        ],
        [
         "Virginia Polytechnic Institute and State University",
         19112,
         13432,
         5364,
         "Virginia Polytechnic Institute and State University",
         263.5
        ],
        [
         "University of Delaware",
         14446,
         10516,
         3252,
         "University of Delaware",
         264.0
        ],
        [
         "University of Delaware",
         25458,
         16467,
         4224,
         "University of Delaware",
         264.0
        ],
        [
         "University of Texas at San Antonio",
         4217,
         3100,
         1686,
         "University of Texas at San Antonio",
         273.5
        ],
        [
         "University of Louisville",
         4777,
         3057,
         1823,
         "University of Louisville",
         310.0
        ],
        [
         "University of Louisville",
         9166,
         6519,
         2857,
         "University of Louisville",
         310.0
        ],
        [
         "University of Vermont",
         7663,
         6008,
         1735,
         "University of Vermont",
         322.0
        ],
        [
         "University of Vermont",
         22381,
         17357,
         2495,
         "University of Vermont",
         322.0
        ],
        [
         "Boston College",
         24538,
         7905,
         2215,
         "Boston College",
         329.0
        ],
        [
         "Wesleyan University",
         4772,
         1973,
         712,
         "Wesleyan University",
         329.0
        ],
        [
         "Wesleyan University",
         10046,
         2102,
         752,
         "Wesleyan University",
         329.0
        ],
        [
         "Kansas State University",
         5880,
         4075,
         2833,
         "Kansas State University",
         336.0
        ],
        [
         "Kansas State University",
         9839,
         9437,
         3821,
         "Kansas State University",
         336.0
        ],
        [
         "University of Oregon",
         8631,
         6732,
         2546,
         "University of Oregon",
         342.5
        ],
        [
         "University of Oregon",
         21263,
         15770,
         4031,
         "University of Oregon",
         342.5
        ],
        [
         "San Diego State University",
         9402,
         7020,
         2151,
         "San Diego State University",
         354.5
        ],
        [
         "San Diego State University",
         51163,
         15970,
         4139,
         "San Diego State University",
         354.5
        ],
        [
         "College of William and Mary",
         7117,
         3106,
         1217,
         "College of William and Mary",
         360.5
        ],
        [
         "College of William and Mary",
         14046,
         4665,
         1479,
         "College of William and Mary",
         360.5
        ],
        [
         "Syracuse University",
         10477,
         7260,
         2442,
         "Syracuse University",
         362.6666666666667
        ],
        [
         "Syracuse University",
         28269,
         13990,
         3487,
         "Syracuse University",
         362.6666666666667
        ],
        [
         "Saint Louis University",
         3294,
         2855,
         956,
         "Saint Louis University",
         363.5
        ],
        [
         "Saint Louis University",
         13389,
         8626,
         1638,
         "Saint Louis University",
         363.5
        ],
        [
         "Colorado School of Mines",
         11682,
         4373,
         949,
         "Colorado School of Mines",
         364.5
        ],
        [
         "University of New Hampshire",
         9750,
         7640,
         2529,
         "University of New Hampshire",
         381.5
        ],
        [
         "Temple University",
         18813,
         12016,
         4390,
         "Temple University",
         385.5
        ],
        [
         "University of Central Florida",
         6986,
         2959,
         1918,
         "University of Central Florida",
         397.5
        ],
        [
         "University of Central Florida",
         31820,
         15572,
         6068,
         "University of Central Florida",
         397.5
        ],
        [
         "Concordia University",
         528,
         403,
         186,
         "Concordia University",
         419.5
        ],
        [
         "George Mason University",
         5653,
         4326,
         1727,
         "George Mason University",
         424.0
        ],
        [
         "George Mason University",
         20805,
         12905,
         3011,
         "George Mason University",
         424.0
        ],
        [
         "West Virginia University",
         16521,
         14060,
         5135,
         "West Virginia University",
         440.0
        ],
        [
         "Loyola University Chicago",
         3579,
         2959,
         868,
         "Loyola University Chicago",
         441.5
        ],
        [
         "Loyola University Chicago",
         14355,
         13121,
         2512,
         "Loyola University Chicago",
         441.5
        ],
        [
         "University of Denver",
         2974,
         2001,
         580,
         "University of Denver",
         458.0
        ],
        [
         "University of Denver",
         13735,
         10539,
         1413,
         "University of Denver",
         458.0
        ],
        [
         "Ohio University",
         11023,
         8298,
         3183,
         "Ohio University",
         462.0
        ],
        [
         "University of Wyoming",
         2029,
         1516,
         1073,
         "University of Wyoming",
         475.5
        ],
        [
         "University of Wyoming",
         4181,
         4001,
         1584,
         "University of Wyoming",
         475.5
        ],
        [
         "University of Hawaii at Manoa",
         3580,
         2603,
         1627,
         "University of Hawaii at Manoa",
         478.5
        ],
        [
         "University of Hawaii at Manoa",
         6901,
         5527,
         1981,
         "University of Hawaii at Manoa",
         478.5
        ],
        [
         "Illinois Institute of Technology",
         1756,
         1360,
         478,
         "Illinois Institute of Technology",
         484.5
        ],
        [
         "Illinois Institute of Technology",
         2840,
         1618,
         465,
         "Illinois Institute of Technology",
         484.5
        ],
        [
         "University of Dayton",
         6361,
         5293,
         1507,
         "University of Dayton",
         491.5
        ],
        [
         "University of Dayton",
         15719,
         8327,
         1761,
         "University of Dayton",
         491.5
        ],
        [
         "Clemson University",
         8065,
         5257,
         2301,
         "Clemson University",
         496.5
        ],
        [
         "Clemson University",
         18500,
         10706,
         3463,
         "Clemson University",
         496.5
        ],
        [
         "Creighton University",
         2967,
         2836,
         876,
         "Creighton University",
         499.0
        ],
        [
         "Creighton University",
         5336,
         4090,
         966,
         "Creighton University",
         499.0
        ],
        [
         "Georgia State University",
         3793,
         2341,
         1238,
         "Georgia State University",
         510.5
        ],
        [
         "Georgia State University",
         13890,
         7592,
         3460,
         "Georgia State University",
         510.5
        ],
        [
         "Baylor University",
         6075,
         5349,
         2367,
         "Baylor University",
         520.0
        ],
        [
         "Baylor University",
         29249,
         16809,
         3190,
         "Baylor University",
         520.0
        ],
        [
         "Utah State University",
         9052,
         8757,
         3824,
         "Utah State University",
         545.0
        ],
        [
         "Auburn University",
         15745,
         13027,
         3726,
         "Auburn University",
         548.5
        ],
        [
         "Mississippi State University",
         4255,
         3277,
         1609,
         "Mississippi State University",
         555.5
        ],
        [
         "Mississippi State University",
         11191,
         7254,
         3156,
         "Mississippi State University",
         555.5
        ],
        [
         "University of New Orleans",
         3197,
         1610,
         860,
         "University of New Orleans",
         612.5
        ],
        [
         "Northern Illinois University",
         10706,
         7219,
         2397,
         "Northern Illinois University",
         619.5
        ],
        [
         "Northern Illinois University",
         25914,
         14545,
         2679,
         "Northern Illinois University",
         619.5
        ],
        [
         "Florida International University",
         3306,
         2079,
         1071,
         "Florida International University",
         623.5
        ],
        [
         "Florida International University",
         16549,
         7122,
         2990,
         "Florida International University",
         623.5
        ],
        [
         "Louisiana Tech University",
         2397,
         2144,
         1525,
         "Louisiana Tech University",
         632.0
        ],
        [
         "Louisiana Tech University",
         5077,
         3424,
         1552,
         "Louisiana Tech University",
         632.0
        ],
        [
         "University of Rhode Island",
         9643,
         7751,
         1968,
         "University of Rhode Island",
         632.5
        ],
        [
         "University of Rhode Island",
         19824,
         15603,
         2993,
         "University of Rhode Island",
         632.5
        ],
        [
         "University of Toledo",
         11066,
         10040,
         3428,
         "University of Toledo",
         641.5
        ],
        [
         "University of Idaho",
         7455,
         4894,
         1643,
         "University of Idaho",
         646.5
        ],
        [
         "University of Texas at Arlington",
         3281,
         2559,
         1448,
         "University of Texas at Arlington",
         653.5
        ],
        [
         "Portland State University",
         5751,
         3518,
         1465,
         "Portland State University",
         665.5
        ],
        [
         "Old Dominion University",
         10201,
         7833,
         2943,
         "Old Dominion University",
         665.5
        ],
        [
         "Missouri University of Science and Technology",
         3322,
         2729,
         1262,
         "Missouri University of Science and Technology",
         677.5
        ],
        [
         "Howard University",
         11687,
         5762,
         1394,
         "Howard University",
         681.5
        ],
        [
         "Rochester Institute of Technology",
         16354,
         9839,
         2784,
         "Rochester Institute of Technology",
         687.5
        ],
        [
         "Marquette University",
         5152,
         4600,
         1685,
         "Marquette University",
         710.5
        ],
        [
         "Marquette University",
         23432,
         13462,
         1990,
         "Marquette University",
         710.5
        ],
        [
         "New Jersey Institute of Technology",
         1879,
         1216,
         483,
         "New Jersey Institute of Technology",
         711.0
        ],
        [
         "New Jersey Institute of Technology",
         4344,
         2844,
         1029,
         "New Jersey Institute of Technology",
         711.0
        ],
        [
         "San Francisco State University",
         31462,
         20070,
         3807,
         "San Francisco State University",
         714.5
        ],
        [
         "University of Memphis",
         5990,
         4098,
         2134,
         "University of Memphis",
         731.0
        ],
        [
         "East Carolina University",
         9274,
         6362,
         2435,
         "East Carolina University",
         740.0
        ],
        [
         "East Carolina University",
         15535,
         9658,
         4015,
         "East Carolina University",
         740.0
        ],
        [
         "University of Alabama in Huntsville",
         2054,
         1656,
         651,
         "University of Alabama in Huntsville",
         742.5
        ],
        [
         "University of North Carolina at Charlotte",
         5803,
         4441,
         1730,
         "University of North Carolina at Charlotte",
         760.5
        ],
        [
         "University of North Carolina at Charlotte",
         13742,
         9416,
         3541,
         "University of North Carolina at Charlotte",
         760.5
        ],
        [
         "Northern Arizona University",
         5891,
         4931,
         1973,
         "Northern Arizona University",
         774.5
        ],
        [
         "Northern Arizona University",
         33989,
         31057,
         4772,
         "Northern Arizona University",
         774.5
        ],
        [
         "Michigan Technological University",
         2618,
         2288,
         1032,
         "Michigan Technological University",
         793.0
        ],
        [
         "Michigan Technological University",
         4520,
         3462,
         1153,
         "Michigan Technological University",
         793.0
        ],
        [
         "Clarkson University",
         2174,
         1953,
         557,
         "Clarkson University",
         800.5
        ],
        [
         "Clarkson University",
         6747,
         4320,
         757,
         "Clarkson University",
         800.5
        ],
        [
         "Bowling Green State University",
         9251,
         7333,
         3076,
         "Bowling Green State University",
         801.0
        ],
        [
         "University of South Alabama",
         4814,
         4142,
         1878,
         "University of South Alabama",
         805.5
        ],
        [
         "Florida Institute of Technology",
         1947,
         1580,
         523,
         "Florida Institute of Technology",
         838.0
        ],
        [
         "Florida Institute of Technology",
         7820,
         4727,
         783,
         "Florida Institute of Technology",
         838.0
        ],
        [
         "Florida Atlantic University",
         24889,
         11880,
         3479,
         "Florida Atlantic University",
         869.0
        ],
        [
         "University of North Carolina at Greensboro",
         5191,
         4134,
         1500,
         "University of North Carolina at Greensboro",
         882.0
        ],
        [
         "University of North Carolina at Greensboro",
         10112,
         6069,
         2516,
         "University of North Carolina at Greensboro",
         882.0
        ],
        [
         "Oakland University",
         3041,
         2581,
         1173,
         "Oakland University",
         885.0
        ],
        [
         "Oakland University",
         12019,
         7933,
         2569,
         "Oakland University",
         885.0
        ],
        [
         "University of North Dakota",
         2777,
         2249,
         1652,
         "University of North Dakota",
         893.5
        ],
        [
         "University of North Dakota",
         5404,
         3983,
         2360,
         "University of North Dakota",
         893.5
        ],
        [
         "University of Southern Mississippi",
         2850,
         2044,
         1046,
         "University of Southern Mississippi",
         907.0
        ],
        [
         "University of Southern Mississippi",
         6120,
         4058,
         1746,
         "University of Southern Mississippi",
         907.0
        ],
        [
         "Western Michigan University",
         9167,
         7191,
         2738,
         "Western Michigan University",
         969.0
        ],
        [
         "Western Michigan University",
         14621,
         12113,
         3190,
         "Western Michigan University",
         969.0
        ]
       ],
       "datasetInfos": [],
       "dbfsResultPath": null,
       "isJsonSchema": true,
       "metadata": {},
       "overflow": false,
       "plotOptions": {
        "customPlotOptions": {},
        "displayType": "table",
        "pivotAggregation": null,
        "pivotColumns": null,
        "xColumns": null,
        "yColumns": null
       },
       "removedWidgets": [],
       "schema": [
        {
         "metadata": "{}",
         "name": "Name",
         "type": "\"string\""
        },
        {
         "metadata": "{}",
         "name": "Applicants total",
         "type": "\"integer\""
        },
        {
         "metadata": "{}",
         "name": "Admissions total",
         "type": "\"integer\""
        },
        {
         "metadata": "{}",
         "name": "Enrolled total",
         "type": "\"integer\""
        },
        {
         "metadata": "{}",
         "name": "institution",
         "type": "\"string\""
        },
        {
         "metadata": "{}",
         "name": "avg(world_rank)",
         "type": "\"double\""
        }
       ],
       "type": "table"
      }
     },
     "output_type": "display_data"
    },
    {
     "output_type": "display_data",
     "data": {
      "text/html": [
       "<style scoped>\n",
       "  .table-result-container {\n",
       "    max-height: 300px;\n",
       "    overflow: auto;\n",
       "  }\n",
       "  table, th, td {\n",
       "    border: 1px solid black;\n",
       "    border-collapse: collapse;\n",
       "  }\n",
       "  th, td {\n",
       "    padding: 5px;\n",
       "  }\n",
       "  th {\n",
       "    text-align: left;\n",
       "  }\n",
       "</style><div class='table-result-container'><table class='table-result'><thead style='background-color: white'><tr><th>State abbreviation</th><th>avg(avg(world_rank))</th><th>avg(Applicants total)</th><th>avg(Admissions total)</th></tr></thead><tbody><tr><td>Maryland</td><td>16.75</td><td>21336.0</td><td>3869.0</td></tr><tr><td>New Hampshire</td><td>57.0</td><td>23110.0</td><td>2260.0</td></tr><tr><td>Indiana</td><td>70.5</td><td>17647.0</td><td>3936.0</td></tr><tr><td>Massachusetts</td><td>141.26041666666666</td><td>25613.0</td><td>6882.875</td></tr><tr><td>Iowa</td><td>158.75</td><td>19090.5</td><td>15505.5</td></tr><tr><td>Connecticut</td><td>188.08333333333334</td><td>22167.333333333332</td><td>6296.666666666667</td></tr><tr><td>Pennsylvania</td><td>194.3</td><td>25102.6</td><td>12071.2</td></tr><tr><td>California</td><td>225.5</td><td>34869.2</td><td>9645.4</td></tr><tr><td>Texas</td><td>236.0625</td><td>18537.75</td><td>8920.5</td></tr><tr><td>Colorado</td><td>250.875</td><td>12741.25</td><td>9238.75</td></tr><tr><td>New Jersey</td><td>256.1666666666667</td><td>20491.333333333332</td><td>7679.0</td></tr><tr><td>Delaware</td><td>264.0</td><td>25458.0</td><td>16467.0</td></tr><tr><td>Georgia</td><td>265.6666666666667</td><td>16607.666666666668</td><td>7515.333333333333</td></tr><tr><td>Kansas</td><td>267.75</td><td>11114.0</td><td>10435.0</td></tr><tr><td>Kentucky</td><td>286.5</td><td>14488.0</td><td>10055.5</td></tr><tr><td>New York</td><td>288.6296296296297</td><td>23831.444444444445</td><td>8389.0</td></tr><tr><td>Illinois</td><td>298.5833333333333</td><td>20012.666666666668</td><td>7882.166666666667</td></tr><tr><td>Utah</td><td>299.0</td><td>10203.0</td><td>9019.0</td></tr><tr><td>Vermont</td><td>322.0</td><td>22381.0</td><td>17357.0</td></tr><tr><td>District of Columbia</td><td>329.3333333333333</td><td>17852.666666666668</td><td>5457.333333333333</td></tr><tr><td>Rhode Island</td><td>354.625</td><td>24371.5</td><td>9128.5</td></tr><tr><td>Virginia</td><td>392.6</td><td>15664.0</td><td>9724.2</td></tr><tr><td>Tennessee</td><td>398.0</td><td>18544.5</td><td>4030.5</td></tr><tr><td>Ohio</td><td>409.3333333333333</td><td>15067.666666666666</td><td>8693.333333333334</td></tr><tr><td>Arizona</td><td>420.5</td><td>30159.0</td><td>25654.0</td></tr><tr><td>Oregon</td><td>423.5</td><td>13142.666666666666</td><td>9695.666666666666</td></tr><tr><td>North Carolina</td><td>433.2916666666667</td><td>18220.166666666668</td><td>6830.333333333333</td></tr><tr><td>West Virginia</td><td>440.0</td><td>16521.0</td><td>14060.0</td></tr><tr><td>Florida</td><td>453.75</td><td>23810.14285714286</td><td>11487.57142857143</td></tr><tr><td>Wyoming</td><td>475.5</td><td>4181.0</td><td>4001.0</td></tr><tr><td>Hawaii</td><td>478.5</td><td>6901.0</td><td>5527.0</td></tr><tr><td>South Carolina</td><td>496.5</td><td>18500.0</td><td>10706.0</td></tr><tr><td>Nebraska</td><td>499.0</td><td>5336.0</td><td>4090.0</td></tr><tr><td>Missouri</td><td>520.5</td><td>8355.5</td><td>5677.5</td></tr><tr><td>Alabama</td><td>562.875</td><td>7075.5</td><td>5939.75</td></tr><tr><td>Michigan</td><td>590.5</td><td>14832.6</td><td>10780.8</td></tr><tr><td>Louisiana</td><td>622.25</td><td>4137.0</td><td>2517.0</td></tr><tr><td>Idaho</td><td>646.5</td><td>7455.0</td><td>4894.0</td></tr><tr><td>Wisconsin</td><td>710.5</td><td>23432.0</td><td>13462.0</td></tr><tr><td>Mississippi</td><td>731.25</td><td>8655.5</td><td>5656.0</td></tr><tr><td>North Dakota</td><td>893.5</td><td>5404.0</td><td>3983.0</td></tr></tbody></table></div>"
      ]
     },
     "metadata": {
      "application/vnd.databricks.v1+output": {
       "addedWidgets": {},
       "aggData": [],
       "aggError": "",
       "aggOverflow": false,
       "aggSchema": [],
       "aggSeriesLimitReached": false,
       "aggType": "",
       "arguments": {},
       "columnCustomDisplayInfos": {},
       "data": [
        [
         "Maryland",
         16.75,
         21336.0,
         3869.0
        ],
        [
         "New Hampshire",
         57.0,
         23110.0,
         2260.0
        ],
        [
         "Indiana",
         70.5,
         17647.0,
         3936.0
        ],
        [
         "Massachusetts",
         141.26041666666666,
         25613.0,
         6882.875
        ],
        [
         "Iowa",
         158.75,
         19090.5,
         15505.5
        ],
        [
         "Connecticut",
         188.08333333333334,
         22167.333333333332,
         6296.666666666667
        ],
        [
         "Pennsylvania",
         194.3,
         25102.6,
         12071.2
        ],
        [
         "California",
         225.5,
         34869.2,
         9645.4
        ],
        [
         "Texas",
         236.0625,
         18537.75,
         8920.5
        ],
        [
         "Colorado",
         250.875,
         12741.25,
         9238.75
        ],
        [
         "New Jersey",
         256.1666666666667,
         20491.333333333332,
         7679.0
        ],
        [
         "Delaware",
         264.0,
         25458.0,
         16467.0
        ],
        [
         "Georgia",
         265.6666666666667,
         16607.666666666668,
         7515.333333333333
        ],
        [
         "Kansas",
         267.75,
         11114.0,
         10435.0
        ],
        [
         "Kentucky",
         286.5,
         14488.0,
         10055.5
        ],
        [
         "New York",
         288.6296296296297,
         23831.444444444445,
         8389.0
        ],
        [
         "Illinois",
         298.5833333333333,
         20012.666666666668,
         7882.166666666667
        ],
        [
         "Utah",
         299.0,
         10203.0,
         9019.0
        ],
        [
         "Vermont",
         322.0,
         22381.0,
         17357.0
        ],
        [
         "District of Columbia",
         329.3333333333333,
         17852.666666666668,
         5457.333333333333
        ],
        [
         "Rhode Island",
         354.625,
         24371.5,
         9128.5
        ],
        [
         "Virginia",
         392.6,
         15664.0,
         9724.2
        ],
        [
         "Tennessee",
         398.0,
         18544.5,
         4030.5
        ],
        [
         "Ohio",
         409.3333333333333,
         15067.666666666666,
         8693.333333333334
        ],
        [
         "Arizona",
         420.5,
         30159.0,
         25654.0
        ],
        [
         "Oregon",
         423.5,
         13142.666666666666,
         9695.666666666666
        ],
        [
         "North Carolina",
         433.2916666666667,
         18220.166666666668,
         6830.333333333333
        ],
        [
         "West Virginia",
         440.0,
         16521.0,
         14060.0
        ],
        [
         "Florida",
         453.75,
         23810.14285714286,
         11487.57142857143
        ],
        [
         "Wyoming",
         475.5,
         4181.0,
         4001.0
        ],
        [
         "Hawaii",
         478.5,
         6901.0,
         5527.0
        ],
        [
         "South Carolina",
         496.5,
         18500.0,
         10706.0
        ],
        [
         "Nebraska",
         499.0,
         5336.0,
         4090.0
        ],
        [
         "Missouri",
         520.5,
         8355.5,
         5677.5
        ],
        [
         "Alabama",
         562.875,
         7075.5,
         5939.75
        ],
        [
         "Michigan",
         590.5,
         14832.6,
         10780.8
        ],
        [
         "Louisiana",
         622.25,
         4137.0,
         2517.0
        ],
        [
         "Idaho",
         646.5,
         7455.0,
         4894.0
        ],
        [
         "Wisconsin",
         710.5,
         23432.0,
         13462.0
        ],
        [
         "Mississippi",
         731.25,
         8655.5,
         5656.0
        ],
        [
         "North Dakota",
         893.5,
         5404.0,
         3983.0
        ]
       ],
       "datasetInfos": [],
       "dbfsResultPath": null,
       "isJsonSchema": true,
       "metadata": {},
       "overflow": false,
       "plotOptions": {
        "customPlotOptions": {},
        "displayType": "table",
        "pivotAggregation": null,
        "pivotColumns": null,
        "xColumns": null,
        "yColumns": null
       },
       "removedWidgets": [],
       "schema": [
        {
         "metadata": "{}",
         "name": "State abbreviation",
         "type": "\"string\""
        },
        {
         "metadata": "{}",
         "name": "avg(avg(world_rank))",
         "type": "\"double\""
        },
        {
         "metadata": "{}",
         "name": "avg(Applicants total)",
         "type": "\"double\""
        },
        {
         "metadata": "{}",
         "name": "avg(Admissions total)",
         "type": "\"double\""
        }
       ],
       "type": "table"
      }
     },
     "output_type": "display_data"
    },
    {
     "output_type": "display_data",
     "data": {
      "text/plain": [
       "Databricks visualization. Run in Databricks to view."
      ]
     },
     "metadata": {
      "application/vnd.databricks.v1.subcommand+json": {
       "bindings": {},
       "collapsed": false,
       "command": "%python\n__backend_agg_display_orig = display\n__backend_agg_dfs = []\ndef __backend_agg_display_new(df):\n    __backend_agg_df_modules = [\"pandas.core.frame\", \"databricks.koalas.frame\", \"pyspark.sql.dataframe\", \"pyspark.pandas.frame\", \"pyspark.sql.connect.dataframe\"]\n    if (type(df).__module__ in __backend_agg_df_modules and type(df).__name__ == 'DataFrame') or isinstance(df, list):\n        __backend_agg_dfs.append(df)\n\ndisplay = __backend_agg_display_new\n\ndef __backend_agg_user_code_fn():\n    import base64\n    exec(base64.standard_b64decode(\"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\").decode())\n\ntry:\n    # run user code\n    __backend_agg_user_code_fn()\n\n    #reset display function\n    display = __backend_agg_display_orig\n\n    if len(__backend_agg_dfs) > 10:\n        # create a temp view\n        if type(__backend_agg_dfs[10]).__module__ == \"databricks.koalas.frame\":\n            # koalas dataframe\n            __backend_agg_dfs[10].to_spark().createOrReplaceTempView(\"DatabricksView8f4e850\")\n        elif type(__backend_agg_dfs[10]).__module__ == \"pandas.core.frame\" or isinstance(__backend_agg_dfs[10], list):\n            # pandas dataframe\n            spark.createDataFrame(__backend_agg_dfs[10]).createOrReplaceTempView(\"DatabricksView8f4e850\")\n        else:\n            __backend_agg_dfs[10].createOrReplaceTempView(\"DatabricksView8f4e850\")\n        #run backend agg\n        display(spark.sql(\"\"\"WITH q AS (select * from DatabricksView8f4e850) SELECT `State abbreviation`,`avg(Applicants total)`,`avg(Admissions total)`,`avg(avg(world_rank))` FROM q\"\"\"))\n    else:\n        displayHTML(\"dataframe no longer exists. If you're using dataframe.display(), use display(dataframe) instead.\")\n\n\nfinally:\n    spark.sql(\"drop view if exists DatabricksView8f4e850\")\n    display = __backend_agg_display_orig\n    del __backend_agg_display_new\n    del __backend_agg_display_orig\n    del __backend_agg_dfs\n    del __backend_agg_user_code_fn\n\n",
       "commandTitle": "Visualization 1",
       "commandType": "auto",
       "commandVersion": 0,
       "commentThread": [],
       "commentsVisible": false,
       "contentSha256Hex": null,
       "customPlotOptions": {
        "redashChart": [
         {
          "key": "type",
          "value": "CHART"
         },
         {
          "key": "options",
          "value": {
           "alignYAxesAtZero": true,
           "coefficient": 1,
           "columnConfigurationMap": {
            "x": {
             "column": "State abbreviation",
             "id": "column_297ecc2e241"
            },
            "y": [
             {
              "column": "avg(Applicants total)",
              "id": "column_297ecc2e245"
             },
             {
              "column": "avg(Admissions total)",
              "id": "column_297ecc2e247"
             },
             {
              "column": "avg(avg(world_rank))",
              "id": "column_297ecc2e249"
             }
            ]
           },
           "dateTimeFormat": "DD/MM/YYYY HH:mm",
           "direction": {
            "type": "counterclockwise"
           },
           "error_y": {
            "type": "data",
            "visible": true
           },
           "globalSeriesType": "line",
           "isAggregationOn": false,
           "legend": {
            "traceorder": "normal"
           },
           "missingValuesAsZero": true,
           "numberFormat": "0,0[.]00000",
           "percentFormat": "0[.]00%",
           "reverseX": true,
           "series": {
            "error_y": {
             "type": "data",
             "visible": true
            },
            "stacking": null
           },
           "seriesOptions": {
            "avg(Admissions total)": {
             "type": "line",
             "yAxis": 0
            },
            "avg(Applicants total)": {
             "type": "line",
             "yAxis": 0
            },
            "avg(avg(world_rank))": {
             "type": "line",
             "yAxis": 0
            }
           },
           "showDataLabels": false,
           "sizemode": "diameter",
           "sortX": false,
           "sortY": true,
           "swappedAxes": false,
           "textFormat": "",
           "useAggregationsUi": true,
           "valuesOptions": {},
           "version": 2,
           "xAxis": {
            "labels": {
             "enabled": true
            },
            "type": "-"
           },
           "yAxis": [
            {
             "type": "-"
            },
            {
             "opposite": true,
             "type": "-"
            }
           ]
          }
         }
        ]
       },
       "datasetPreviewNameToCmdIdMap": {},
       "diffDeletes": [],
       "diffInserts": [],
       "displayType": "redashChart",
       "error": null,
       "errorSummary": null,
       "errorTraceType": null,
       "finishTime": 0,
       "globalVars": {},
       "guid": "",
       "height": "auto",
       "hideCommandCode": false,
       "hideCommandResult": false,
       "iPythonMetadata": null,
       "inputWidgets": {},
       "isLockedInExamMode": false,
       "latestUser": "a user",
       "latestUserId": null,
       "listResultMetadata": null,
       "metadata": {},
       "nuid": "e711854a-2059-40eb-9cc4-bee6058d0c24",
       "origId": 0,
       "parentHierarchy": [],
       "pivotAggregation": null,
       "pivotColumns": null,
       "position": 4.0,
       "resultDbfsErrorMessage": null,
       "resultDbfsStatus": "INLINED_IN_TREE",
       "results": null,
       "showCommandTitle": false,
       "startTime": 0,
       "state": "input",
       "streamStates": {},
       "subcommandOptions": {
        "queryPlan": {
         "selects": [
          {
           "column": "State abbreviation",
           "type": "column"
          },
          {
           "column": "avg(Applicants total)",
           "type": "column"
          },
          {
           "column": "avg(Admissions total)",
           "type": "column"
          },
          {
           "column": "avg(avg(world_rank))",
           "type": "column"
          }
         ]
        }
       },
       "submitTime": 0,
       "subtype": "tableResultSubCmd.visualization",
       "tableResultIndex": 10,
       "useConsistentColors": false,
       "version": "CommandV1",
       "width": "auto",
       "workflows": [],
       "xColumns": null,
       "yColumns": null
      }
     },
     "output_type": "display_data"
    }
   ],
   "source": [
    "from pyspark.sql.window import Window\t\n",
    "from pyspark.sql.functions import *\n",
    "\n",
    "# File locations and type\n",
    "uni_file_path = \"/FileStore/tables/University_Data.csv\"\n",
    "admissions_file_path = \"/FileStore/tables/College_Admissions.csv\"\n",
    "college_data_file_path = \"/FileStore/tables/College_Data.csv\"\n",
    "global_ranking_file_path = \"/FileStore/tables/Universities_Global_Ranking.csv\"\n",
    "file_type = \"csv\"\n",
    "\n",
    "# CSV options\n",
    "infer_schema = \"true\"\n",
    "first_row_is_header = \"true\"\n",
    "delimiter = \",\"\n",
    "# ========================================================================================================================================================\n",
    "#                                                                     IMPORT DATA\n",
    "# ========================================================================================================================================================\n",
    "# The applied options are for CSV files. For other file types, these will be ignored.\n",
    "university_df = spark.read.format(file_type) \\\n",
    "  .option(\"inferSchema\", infer_schema) \\\n",
    "  .option(\"header\", first_row_is_header) \\\n",
    "  .option(\"sep\", delimiter) \\\n",
    "  .load(uni_file_path)\n",
    "\n",
    "college_admissions_df = spark.read.format(file_type) \\\n",
    "  .option(\"inferSchema\", infer_schema) \\\n",
    "  .option(\"header\", first_row_is_header) \\\n",
    "  .option(\"sep\", delimiter) \\\n",
    "  .load(admissions_file_path)\n",
    "\n",
    "college_data_df = spark.read.format(file_type) \\\n",
    "  .option(\"inferSchema\", infer_schema) \\\n",
    "  .option(\"header\", first_row_is_header) \\\n",
    "  .option(\"sep\", delimiter) \\\n",
    "  .load(college_data_file_path)\n",
    "\n",
    "universities_global_df = spark.read.format(file_type) \\\n",
    "  .option(\"inferSchema\", infer_schema) \\\n",
    "  .option(\"header\", first_row_is_header) \\\n",
    "  .option(\"sep\", delimiter) \\\n",
    "  .load(global_ranking_file_path)\n",
    "\n",
    "\n",
    "# ==================================================================================================================================================================\n",
    "#                                                                        ANALYSIS\n",
    "# ==================================================================================================================================================================\n",
    "# ...............................................................................................................................\n",
    "#                    PROBLEM 1) show university trend by global ranking and number of applicants vs admissions \n",
    "# ...............................................................................................................................\n",
    "# - (College_Admissions csv + Global Ranking csv)\n",
    "def compare_dfs_on_one_column(df1, df2, col1_name, col2_name): # Questions 1\n",
    "    col_df1 = df1.select(col1_name).distinct().sort(col1_name)\n",
    "    col_df2 = df2.select(col2_name).distinct().sort(col2_name)\n",
    "    comparison_df = col_df1.join(col_df2, col_df1[col1_name] == col_df2[col2_name], \"outer\")\n",
    "    return(comparison_df)\n",
    "\n",
    "# +++++++++++++++++++++++++++++++++++++++++++++++++++++++++++\n",
    "#  STEP 1: Remove irrelevant data/ Select Only Relevant Data\n",
    "# +++++++++++++++++++++++++++++++++++++++++++++++++++++++++++\n",
    "# * * It's good practice to define your schema before importing your data, but decided against that since I wasn't comfortable with the data. * *\n",
    "world_rankings = universities_global_df.select(['world_rank', 'institution',\"country\", \"national_rank\", \"year\"]).distinct()\n",
    "college_admissions_applicants = college_admissions_df.select([\"Name\", \"Applicants total\",\"Admissions total\", \"Enrolled total\", \"State abbreviation\"])\n",
    "\n",
    "# ++++++++++++++++++++++++++++++++++++++++++++++++\n",
    "#  STEP 2: Check For & Remove Duplicates\n",
    "# ++++++++++++++++++++++++++++++++++++++++++++++++\n",
    "world_rankings_dupe_check = world_rankings.select(['world_rank', 'institution',\"country\", \"national_rank\", \"year\"]).distinct()\n",
    "college_admissions_applicants_dupe_check = college_admissions_applicants.select([\"Name\", \"Applicants total\",\"Admissions total\", \"Enrolled total\", \"State abbreviation\"]).distinct()\n",
    "print(\"Num dupes in world_rankings_df: \" , world_rankings.count() - world_rankings_dupe_check.count())\n",
    "print(\"Num dupes in world_rankings_df: \" , college_admissions_applicants.count() - college_admissions_applicants_dupe_check.count())\n",
    "\n",
    "\n",
    "# +++++++++++++++++++++++++++++++++++++++\n",
    "#  STEP 3: Clean Data/Check for nulls\n",
    "# +++++++++++++++++++++++++++++++++++++++\n",
    "#   * * fillna() could be used to replace null values with a value I deem approp. Also 'DROPMALFORMED' arg in df import * *\n",
    "        ### Check for/Drop Nulls\n",
    "print(\"---   CHECK FOR NULLS   ---\")\n",
    "print(\"University Global Rankings\")\n",
    "find_nulls(universities_global_df,\"institution\")\n",
    "find_nulls(universities_global_df,\"world_rank\")\n",
    "find_nulls(universities_global_df,\"national_rank\")\n",
    "find_nulls(universities_global_df,\"year\")\n",
    "\n",
    "print(\"University Data\")\n",
    "university_df = university_df.na.drop(subset=[\"world_rank\"])\n",
    "university_df = university_df.na.drop(subset=[\"school\"])\n",
    "university_df = university_df.na.drop(subset=[\"country\"])\n",
    "university_df = university_df.na.drop(subset=[\"year\"])\n",
    "find_nulls(university_df,\"world_rank\")\n",
    "find_nulls(university_df,\"school\")\n",
    "find_nulls(university_df,\"country\")\n",
    "find_nulls(university_df,\"year\")\n",
    "\n",
    "print(\"College Admissions\")\n",
    "college_admissions_df = college_admissions_df.na.drop(subset=[\"Applicants total\"])\n",
    "college_admissions_df = college_admissions_df.na.drop(subset=[\"Admissions total\"])\n",
    "college_admissions_df = college_admissions_df.na.drop(subset=[\"Enrolled total\"])\n",
    "find_nulls(college_admissions_df,\"Name\")\n",
    "find_nulls(college_admissions_df,\"Applicants total\")\n",
    "find_nulls(college_admissions_df,\"Admissions total\")\n",
    "find_nulls(college_admissions_df,\"Enrolled total\")\n",
    "find_nulls(college_admissions_df,\"State abbreviation\")\n",
    "\n",
    "print(\"College Data\")\n",
    "college_admissions_applicants = college_admissions_applicants.na.drop(subset=[\"Applicants total\"])\n",
    "college_admissions_applicants = college_admissions_applicants.na.drop(subset=[\"Admissions total\"])\n",
    "college_admissions_applicants = college_admissions_applicants.na.drop(subset=[\"Enrolled total\"])\n",
    "find_nulls(college_admissions_applicants,\"Name\")\n",
    "find_nulls(college_admissions_applicants,\"Applicants total\")\n",
    "find_nulls(college_admissions_applicants,\"Admissions total\")\n",
    "find_nulls(college_admissions_applicants,\"Enrolled total\")\n",
    "find_nulls(college_admissions_applicants,\"State abbreviation\")\n",
    "\n",
    "        ### Data Scrub Re-visit - \"living section\" for errors I have found while working\n",
    "#### Removing quotes from column values in relevant dataframes\n",
    "world_rankings = world_rankings.withColumn(\"institution\", regexp_replace(\"institution\", \"\\\"\", \"\"))\n",
    "        \n",
    "        # +++++++++++++++++++++++++++++++++++++++\n",
    "        #  STEP 3a: Check data purview\n",
    "        # +++++++++++++++++++++++++++++++++++++++\n",
    "\n",
    "                # display(university_df.select(\"country\").distinct())\n",
    "                # display(world_rankings.select(\"country\").distinct())\n",
    "                # display(college_admissions_applicants.select(\"country\").distinct())\n",
    "\n",
    "\n",
    "\n",
    "# +++++++++++++++++++++++++++++++++++++++\n",
    "#  STEP 4: Check For Missing Data\n",
    "# +++++++++++++++++++++++++++++++++++++++\n",
    "# Combine all files to see if it fills in the missing colleges between college_admissions and world_rankings and brings us to 1000\n",
    "# # Combining University df fills in some missing data. Brings shared colleges from 120 -> 258  \n",
    "print(\"\")\n",
    "print(\"-----------------------------------------------------\")\n",
    "print(\"---   CHECK FOR MISSING DATA WHEN COMBINING DFS   ---\")\n",
    "print(\"---   Here, we're combining all of the dataframes.  ---\")\n",
    "print(\"world_rankings df college count BEFORE MERGE: \",  world_rankings.select(\"institution\").count())\n",
    "print(\"college_admissions_applicants df college count BEFORE MERGE: \" , college_admissions_applicants.select(\"Name\").count())\n",
    "\n",
    "university_rankings = university_df.select([\"world_rank\", \"school\",\"country\", \"year\"]).withColumnRenamed(\"school\", \"institution\").distinct()\n",
    "world_rankings_combined = world_rankings.select(['world_rank', 'institution',\"country\", \"year\"]).union(university_rankings)\n",
    "world_rankings_combined = world_rankings_combined.select(['world_rank', 'institution',\"country\", \"year\"]).distinct()\n",
    "world_rankings_combined = world_rankings_combined.withColumn(\"world_rank\", world_rankings_combined.world_rank.cast(\"integer\"))\n",
    "world_rankings_combined = world_rankings_combined.filter(world_rankings_combined.world_rank.isNotNull())\n",
    "\n",
    "college_admissions_applicants2 = college_data_df.select([\"_c0\", \"Apps\",\"Accept\", \"Enroll\"]).withColumnRenamed(\"_c0\", \"Name\").distinct()\n",
    "combined_college_admissions_applicants = college_admissions_applicants.select([\"Name\", \"Applicants total\",\"Admissions total\", \"Enrolled total\"]).union(college_admissions_applicants2)\n",
    "combined_college_admissions_applicants = combined_college_admissions_applicants.select([\"Name\", \"Applicants total\",\"Admissions total\", \"Enrolled total\"]).distinct()\n",
    "\n",
    "print(\"world_rankings df college count AFTER MERGE: \",  world_rankings_combined.select([\"institution\"]).count())\n",
    "print(\"college_admissions_applicants df college count AFTER MERGE: \" , combined_college_admissions_applicants.select(\"Name\").count())\n",
    "missing_colleges_check = world_rankings_combined.select(\"institution\").distinct().join(combined_college_admissions_applicants.select(\"Name\").distinct(),world_rankings_combined.institution == combined_college_admissions_applicants.Name, \"inner\")\n",
    "\n",
    "        ### Validate New Merged Dataframe:\n",
    "print(\"---   CHECK FOR DISCREPANCIES IN COMBNINED DATAFRAMES   ---\")\n",
    "\n",
    "data_discrepancy_check = (world_rankings_combined.select(\"*\").join(world_rankings_combined.groupBy(\"institution\").count(), \"institution\")).sort(\"institution\", \"year\")\n",
    "print(\"Original Global Rank DF Distinct Colleges ('Universities_Global_Ranking.csv') | Merged DF Distinct Colleges ('Universities_Global_Ranking.csv' + 'Universities_Data.csv')\")\n",
    "display(data_discrepancy_check)\n",
    "print(\"snapshot of the discrepancy in the data\")\n",
    "University_Data_Example_Sample = university_df.select([\"world_rank\", \"school\",\"country\", \"year\"]).where(col(\"school\") == \"Arizona State University\").sort(\"year\")\n",
    "parquet_file_import_test_1 = spark.read.parquet(\"dbfs:/University_Data_Example_Sample.parquet\")\n",
    "display(parquet_file_import_test_1)\n",
    "University_Global_Ranking_Example_Sample = world_rankings.select([\"world_rank\", \"institution\",\"country\", \"year\"]).where(col(\"institution\") == \"Arizona State University\").sort(\"year\")\n",
    "parquet_file_import_test_2 = spark.read.parquet(\"dbfs:/University_Global_Ranking_Example_Sample.parquet\")\n",
    "display(parquet_file_import_test_2)\n",
    "\n",
    "# +++++++++++++++++++++++++++++++++++++++\n",
    "#  STEP 5: Craft Solution\n",
    "# +++++++++++++++++++++++++++++++++++++++\n",
    "\n",
    "# (A) Generalize on subsets of 10. Avg Top 10, Top 20, etc\n",
    "# colleges_averaged_rank_preprocess = world_rankings.select(\"institution\", \"world_rank\", \"national_rank\").join(world_rankings.groupBy(\"institution\").avg(\"world_rank\", \"national_rank\"), \"institution\")\n",
    "\n",
    "# (B) Get a general distinct ranking for each American College - Generate final score by averaging the score for every year -> Export as parquet\n",
    "        # (TEST SAMPLE) \n",
    "        # aggregate_sample = world_rankings.select(\"institution\", \"world_rank\", \"national_rank\", \"year\").where(col(\"institution\").isin([\"Duke University\", \"Harvard University\", \"Georgia Institute of Technology\"])).sort(\"institution\")\n",
    "        # num_colleges_reports = world_rankings.select(\"institution\", \"world_rank\", \"national_rank\", \"year\").join(world_rankings.groupBy(\"institution\").count(), \"institution\")\n",
    "        # colleges_not_recorded_all_4_years_DUPLICATES = num_colleges_reports.where(col(\"count\") < 4).sort(\"institution\", ascending=True)\n",
    "        # colleges_not_recorded_all_4_samyears_NO_DUPES = colleges_not_recorded_all_4_years_DUPLICATES.select(\"institution\", \"count\").distinct().sort(\"count\", ascending=False)\n",
    "        # colleges_not_recorded_all_4_years_DUPLICATES.write.parquet(\"colleges_not_recorded_all_4_years_DUPLICATES.parquet\")\n",
    "        # colleges_not_recorded_all_4_years_NO_DUPES.write.parquet(\"colleges_not_recorded_all_4_years_NO_DUPES.parquet\")\n",
    "\n",
    "# (B1) CALCULATING STANDARD DEVIATION IN RANKS OVER THE YEARS THEY'RE DOCUMENTED\n",
    "print(\"-----------------------------------------------------\")\n",
    "print(\"CALCULATING STANDARD DEVIATION IN RANKS OVER THE YEARS THEY'RE DOCUMENTED\")\n",
    "stddevs_for_world_ranks_by_uni = world_rankings.select(\"institution\", \"world_rank\", \"national_rank\").join(world_rankings.groupBy(\"institution\").agg(stddev(\"world_rank\")), \"institution\")\n",
    "# display(stddevs_for_world_ranks_by_uni.select(\"institution\").count())\n",
    "stddevs_for_both_ranks_by_uni = stddevs_for_world_ranks_by_uni.join(world_rankings.groupBy(\"institution\").agg(stddev(\"national_rank\")), \"institution\")\n",
    "# display(stddevs_for_both_ranks_by_uni.select(\"institution\").count())\n",
    "stddevs_for_both_ranks_plus_count = stddevs_for_both_ranks_by_uni.join(world_rankings.groupBy(\"institution\").count(), \"institution\")\n",
    "stddevs_for_both_ranks_by_uni = stddevs_for_both_ranks_by_uni.select(\"institution\", \"stddev_samp(world_rank)\", \"stddev_samp(national_rank)\").distinct().sort(\"stddev_samp(world_rank)\", ascending=False)\n",
    "display(stddevs_for_both_ranks_by_uni)\n",
    "# stddevs_for_both_ranks_by_uni.write.parquet(\"stddevs_for_both_ranks_by_uni.parquet\")\n",
    "# display(stddevs_for_both_ranks_plus_count.select(\"institution\", \"stddev_samp(world_rank)\", \"stddev_samp(national_rank)\", \"count\").distinct().sort(\"stddev_samp(world_rank)\", ascending=True).where(col(\"count\") > 1)) # Nulls are only for records with one ranking.\n",
    "\n",
    "# (B2) Calculate final score by summing all available ranks for every college. -> (ALT) Sum only the world ranks as requested *facepalm* -> (ALT ALT) -> Averages Girl. Geez.\n",
    "colleges_averaged_rank_preprocess = world_rankings.select(\"institution\", \"world_rank\", \"national_rank\").join(world_rankings.groupBy(\"institution\").avg(\"world_rank\", \"national_rank\"), \"institution\")\n",
    "combined_colleges_averaged_rank_preprocess = world_rankings_combined.select(\"institution\", \"world_rank\").join(world_rankings_combined.groupBy(\"institution\").avg(\"world_rank\"), \"institution\")\n",
    "# display(colleges_averaged_rank_preprocess)\n",
    "\n",
    "        ### Dupe Check\n",
    "averaged_college_rankings_almost= colleges_averaged_rank_preprocess.select(\"institution\",\"avg(world_rank)\", \"avg(national_rank)\").distinct() \n",
    "combined_averaged_college_rankings_almost= combined_colleges_averaged_rank_preprocess.select(\"institution\",\"avg(world_rank)\").distinct() \n",
    "# display(averaged_college_rankings_almost)\n",
    "        ### Sort\n",
    "averaged_global_college_rankings_final = averaged_college_rankings_almost.select(\"institution\", \"avg(world_rank)\").sort(\"avg(world_rank)\", ascending=True) \n",
    "combined_averaged_global_college_rankings_final = combined_averaged_college_rankings_almost.select(\"institution\", \"avg(world_rank)\").sort(\"avg(world_rank)\", ascending=True) \n",
    "# display(averaged_global_college_rankings_final)\n",
    "\n",
    "# +++++++++++++++++++++++++++++++++++++++\n",
    "#  STEP 6: Validate Data\n",
    "# +++++++++++++++++++++++++++++++++++++++\n",
    "# Check final score values by checking sample against hand-calculated expected values \n",
    "        # test_aggregate_sample = averaged_global_college_rankings_final.where(col(\"institution\").isin([\"Duke University\", \"Harvard University\", \"Georgia Institute of Technology\"]))\n",
    "applicants_BY_world_rank_df = college_admissions_applicants.join(averaged_global_college_rankings_final, college_admissions_applicants.Name == averaged_global_college_rankings_final.institution).sort(\"avg(world_rank)\", ascending=True)\n",
    "applicants_BY_world_rank_df_ALL_FILES = combined_college_admissions_applicants.join(combined_averaged_global_college_rankings_final, combined_college_admissions_applicants.Name == combined_averaged_global_college_rankings_final.institution).sort(\"avg(world_rank)\", ascending=True)\n",
    "# applicants_BY_world_rank_df.write.parquet(\"applicants_admissions_BY_world_rank_df_all_files_combined.parquet\")\n",
    "# applicants_BY_world_rank_df.write.format(\"parquet\")\\\n",
    "#         .mode(\"overwrite\")\\\n",
    "#         .save(\"applicants_admissions_BY_world_rank_df_all_files_combined.parquet\")\n",
    "# Check to see if any colleges are missing\n",
    "print(\"Combine College_Admissions.csv df with the average score for each valid college in University_Global_ranking.csv\")\n",
    "print(\"Final df college count: \",  applicants_BY_world_rank_df.select(\"institution\").count())\n",
    "print(\"OG df college count: \" , world_rankings.select(\"institution\").count())\n",
    "\n",
    "\n",
    "display(applicants_BY_world_rank_df)\n",
    "display(applicants_BY_world_rank_df_ALL_FILES)\n",
    "\n",
    "\n",
    "# # # (B2) Generate score using Bayesian method -> No NEED. Would need to reframe problem as probability. Interesting but Unecessary. \n",
    "# ...............................................................................................................................\n",
    "#                    PROBLEM 2) Provide the trends by state with respect to the number of applicants vs admissions per year  \n",
    "# ...............................................................................................................................\n",
    "# - (ALL csv files)\n",
    "# -> The point I realized that my dataset is concerningly smaller than expected. :( --> Revisit Step 4, uncomment, and rerun.\n",
    "        # print(\"world_rankings df college count: \",  world_rankings.select(\"institution\").count())\n",
    "        # print(\"college_admissions_applicants df college count: \" , college_admissions_applicants.select(\"Name\").count())\n",
    "        #         # # display(compare_dfs_on_one_column(world_rankings,college_admissions_applicants, \"institution\", \"Name\"))\n",
    "        # missing_colleges_check = world_rankings.select(\"institution\").join(college_admissions_applicants.select(\"Name\"),world_rankings.institution == college_admissions_applicants.Name, \"left\")\n",
    "        # display(\"missing_colleges_check\", missing_colleges_check.count())\n",
    "        # display(missing_colleges_check)             \n",
    "        \n",
    "# ...............................................................................................................................\n",
    "#                    PROBLEM 3) Provide the trends by state with respect to the number of applicants vs admissions per year\n",
    "# ...............................................................................................................................\n",
    "# - (College_Admissions csv + Global Ranking csv)\n",
    "applicants_BY_world_rank_state_analysis_df = (applicants_BY_world_rank_df.groupBy(\"State abbreviation\").avg(\"avg(world_rank)\", \"Applicants total\", \"Admissions total\")).sort(\"avg(avg(world_rank))\")\n",
    "# applicants_BY_world_rank_state_analysis_df.write.parquet(\"applicants_BY_world_rank_BY_state_analysis_.parquet\")\n",
    "\n",
    "display(applicants_BY_world_rank_state_analysis_df)\n",
    "\n",
    "\n",
    "# - (College_Admissions csv + Global Ranking csv) SAT scores/ Student Aid/Associates degrees per global ranking\n",
    "\n",
    "# - (College_Admissions csv + College Data csv) How do numApplicants/numAdmissions vary by state?How is price related to this? How is financial aid influencing this?\n",
    "\n"
   ]
  }
 ],
 "metadata": {
  "application/vnd.databricks.v1+notebook": {
   "dashboards": [
    {
     "elements": [
      {
       "dashboardResultIndex": 2,
       "elementNUID": "6482be4c-f067-47c9-b0ac-35c938b94601",
       "elementType": "command",
       "guid": "84216b8b-f159-42c0-a974-541ccccc5d77",
       "options": {
        "autoScaleImg": false,
        "scale": 0,
        "showTitle": true,
        "title": "University_Global_Ranking.csv Example Sample",
        "titleAlign": "center"
       },
       "position": {
        "height": 4,
        "width": 9,
        "x": 11,
        "y": 0,
        "z": null
       },
       "resultIndex": null
      },
      {
       "dashboardResultIndex": 1,
       "elementNUID": "6482be4c-f067-47c9-b0ac-35c938b94601",
       "elementType": "command",
       "guid": "d62e68a3-887d-47b5-bf4f-cf304e03f019",
       "options": {
        "autoScaleImg": false,
        "scale": 0,
        "showTitle": true,
        "title": "University_Data.csv Example Sample",
        "titleAlign": "center"
       },
       "position": {
        "height": 6,
        "width": 10,
        "x": 0,
        "y": 0,
        "z": null
       },
       "resultIndex": null
      }
     ],
     "globalVars": {},
     "guid": "",
     "layoutOption": {
      "grid": true,
      "stack": true
     },
     "nuid": "953fdfff-5c6d-4edb-9074-def25b510ea3",
     "origId": 798129283634238,
     "title": "Data Consistency Check",
     "version": "DashboardViewV1",
     "width": 1600
    },
    {
     "elements": [
      {
       "dashboardResultIndex": null,
       "elementNUID": "e711854a-2059-40eb-9cc4-bee6058d0c24",
       "elementType": "command",
       "guid": "384192a4-4536-45ad-a97c-482738d32d44",
       "options": {
        "autoScaleImg": false,
        "scale": 0,
        "showTitle": true,
        "title": "Average World Rank, Applicant, and Admissions By US Territory - Line Graph",
        "titleAlign": "center"
       },
       "position": {
        "height": 13,
        "width": 24,
        "x": 0,
        "y": 0,
        "z": null
       },
       "resultIndex": null
      },
      {
       "dashboardResultIndex": 6,
       "elementNUID": "6482be4c-f067-47c9-b0ac-35c938b94601",
       "elementType": "command",
       "guid": "742cdb99-b179-481e-b947-77ea144e0248",
       "options": {
        "autoScaleImg": false,
        "scale": 0,
        "showTitle": true,
        "title": "Average World Rank, Applicant, and Admissions By US Territory - Table",
        "titleAlign": "center"
       },
       "position": {
        "height": 28,
        "width": 22,
        "x": 0,
        "y": 13,
        "z": null
       },
       "resultIndex": null
      }
     ],
     "globalVars": {},
     "guid": "",
     "layoutOption": {
      "grid": true,
      "stack": true
     },
     "nuid": "41adc226-acd3-44a2-89fe-a4810bf24b8b",
     "origId": 798129283634239,
     "title": "State-Scope Statistics",
     "version": "DashboardViewV1",
     "width": 1024
    },
    {
     "elements": [
      {
       "dashboardResultIndex": 5,
       "elementNUID": "6482be4c-f067-47c9-b0ac-35c938b94601",
       "elementType": "command",
       "guid": "87ff20bd-6900-4610-b384-f192ca62e149",
       "options": {
        "autoScaleImg": false,
        "scale": 0,
        "showTitle": true,
        "title": "Global Rank V Admissions - ALL FILES",
        "titleAlign": "center"
       },
       "position": {
        "height": 21,
        "width": 24,
        "x": 0,
        "y": 0,
        "z": null
       },
       "resultIndex": null
      }
     ],
     "globalVars": {},
     "guid": "",
     "layoutOption": {
      "grid": true,
      "stack": true
     },
     "nuid": "a09b752f-0713-4310-bd27-49938c10bb1e",
     "origId": 798129283634240,
     "title": "ALL FILES - Global Rank V Admissions",
     "version": "DashboardViewV1",
     "width": 1440
    },
    {
     "elements": [],
     "globalVars": {},
     "guid": "",
     "layoutOption": {
      "grid": true,
      "stack": true
     },
     "nuid": "a0c20911-dfe4-4f08-ab04-05ab9560578a",
     "origId": 798129283634241,
     "title": "World Rank vs Estimated Grad Enrollment",
     "version": "DashboardViewV1",
     "width": 1024
    },
    {
     "elements": [],
     "globalVars": {},
     "guid": "",
     "layoutOption": {
      "grid": true,
      "stack": true
     },
     "nuid": "08cce4c3-974e-4c0e-95f5-7504ecc5edaf",
     "origId": 798129283634242,
     "title": "World vs National Rank",
     "version": "DashboardViewV1",
     "width": 1024
    },
    {
     "elements": [
      {
       "dashboardResultIndex": 3,
       "elementNUID": "6482be4c-f067-47c9-b0ac-35c938b94601",
       "elementType": "command",
       "guid": "b8049fb7-6d72-4af1-873c-6982f0f31638",
       "options": {
        "autoScaleImg": false,
        "scale": 0,
        "showTitle": true,
        "title": "Standard Deviation of Rankings Over Each Year",
        "titleAlign": "center"
       },
       "position": {
        "height": 31,
        "width": 24,
        "x": 0,
        "y": 0,
        "z": null
       },
       "resultIndex": null
      }
     ],
     "globalVars": {},
     "guid": "",
     "layoutOption": {
      "grid": true,
      "stack": true
     },
     "nuid": "11c72729-2c6a-4bea-b53d-59ae42f26bf3",
     "origId": 798129283634243,
     "title": "Standard Deviation Rankings Over Each Yr",
     "version": "DashboardViewV1",
     "width": 1024
    },
    {
     "elements": [
      {
       "dashboardResultIndex": null,
       "elementNUID": "2b6f422e-5eda-47c7-bdc1-7c4eb7c5cba3",
       "elementType": "command",
       "guid": "677cfdc5-c6c6-4cb5-aa87-6bc36b08d530",
       "options": {
        "autoScaleImg": false,
        "scale": 0,
        "showTitle": true,
        "title": "Applicants v Admissions by Global Rankings - Line Graph",
        "titleAlign": "center"
       },
       "position": {
        "height": 11,
        "width": 17,
        "x": 4,
        "y": 0,
        "z": null
       },
       "resultIndex": null
      },
      {
       "dashboardResultIndex": 4,
       "elementNUID": "6482be4c-f067-47c9-b0ac-35c938b94601",
       "elementType": "command",
       "guid": "8db4c36b-9460-4ffd-b6fb-d2ae8d5b1502",
       "options": {
        "autoScaleImg": false,
        "scale": 0,
        "showTitle": true,
        "title": "Applicants v Admissions by Global Rankings - Table",
        "titleAlign": "center"
       },
       "position": {
        "height": 23,
        "width": 24,
        "x": 0,
        "y": 11,
        "z": null
       },
       "resultIndex": null
      }
     ],
     "globalVars": {},
     "guid": "",
     "layoutOption": {
      "grid": true,
      "stack": false
     },
     "nuid": "aafc490e-2ccf-4271-8b58-d382b6c51224",
     "origId": 798129283634244,
     "title": "Applicants v Admissions by World Rank",
     "version": "DashboardViewV1",
     "width": 1440
    }
   ],
   "language": "python",
   "notebookMetadata": {
    "mostRecentlyExecutedCommandWithImplicitDF": {
     "commandId": 2262247083150621,
     "dataframes": [
      "_sqldf"
     ]
    },
    "pythonIndentUnit": 4
   },
   "notebookName": "College Admissions Data_CLEAN",
   "widgets": {}
  }
 },
 "nbformat": 4,
 "nbformat_minor": 0
}
